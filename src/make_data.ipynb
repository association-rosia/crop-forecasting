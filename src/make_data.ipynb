{
 "cells": [
  {
   "cell_type": "code",
   "execution_count": 25,
   "id": "8b12eea5-d826-4bf5-b25b-1d09a01d6464",
   "metadata": {},
   "outputs": [],
   "source": [
    "import os\n",
    "import math\n",
    "from tqdm import tqdm\n",
    "from datetime import datetime, timedelta\n",
    "\n",
    "import numpy as np\n",
    "import pandas as pd\n",
    "import xarray as xr\n",
    "\n",
    "import pystac_client\n",
    "import planetary_computer as pc\n",
    "from odc.stac import stac_load\n",
    "\n",
    "import multiprocessing as mp\n",
    "from random import uniform, random\n",
    "\n",
    "\n",
    "# Make data constants\n",
    "SIZE = 'adaptative' # 'fixed'\n",
    "FACTOR = 1 # for 'adaptative' \n",
    "NUM_AUGMENT = 2\n",
    "MAX_AUGMENT = 5\n",
    "DEGREE = 0.0014589825157734703 # = ha_to_degree(2.622685) # Field size (ha) mean = 2.622685 (train + test)\n",
    "\n",
    "dict_band_name = {\n",
    "    'B05': 'rededge1',\n",
    "    'B06': 'rededge2',\n",
    "    'B07': 'rededge3',\n",
    "    'B11': 'swir'\n",
    "}\n",
    "\n",
    "\n",
    "def ha_to_degree(field_size): # Field_size (ha)\n",
    "    ''' \n",
    "    1° ~= 111km\n",
    "    1ha = 0.01km2\n",
    "    then, side_size = sqrt(0.01 * field_size) (km)\n",
    "    so, degree = side_size / 111 (°)\n",
    "    '''\n",
    "    side_size = math.sqrt(0.01 * field_size) \n",
    "    degree = side_size / 111\n",
    "    return degree\n",
    "\n",
    "\n",
    "def create_folders() -> str:\n",
    "    if NUM_AUGMENT > 1:\n",
    "        save_folder = f'../data/processed/augment_{NUM_AUGMENT}_{MAX_AUGMENT}'\n",
    "    elif SIZE == 'fixed':\n",
    "        degree = str(round(DEGREE, 5)).replace(\".\", \"-\")\n",
    "        save_folder = f'../data/processed/fixed_{degree}'\n",
    "    elif SIZE == 'adaptative':\n",
    "        save_folder = f'../data/processed/adaptative_factor_{FACTOR}'\n",
    "        \n",
    "    os.makedirs(save_folder, exist_ok=True)\n",
    "    return save_folder\n",
    "\n",
    "\n",
    "def get_factors():\n",
    "    factors = []\n",
    "    for _ in range(4):\n",
    "        factor = uniform(1, MAX_AUGMENT)\n",
    "        if random() < 0.5: factor = 1 / factor\n",
    "        factors.append(factor)\n",
    "\n",
    "    return factors\n",
    "\n",
    "\n",
    "def get_bbox(longitude, latitude, field_size):\n",
    "    if SIZE == 'fixed':\n",
    "        degree = DEGREE\n",
    "    elif SIZE == 'adaptative':\n",
    "        degree = ha_to_degree(field_size) * FACTOR\n",
    "        \n",
    "    length = degree / 2\n",
    "    factors = get_factors()\n",
    "    min_longitude = longitude - factors[0] * length\n",
    "    min_latitude = latitude - factors[1] * length\n",
    "    max_longitude = longitude + factors[2] * length\n",
    "    max_latitude = latitude + factors[3] * length\n",
    "    \n",
    "    return (min_longitude, min_latitude, max_longitude, max_latitude)\n",
    "\n",
    "def get_time_period(havest_date: str, history_days: int)->str:\n",
    "    havest_datetime = datetime.strptime(havest_date, '%d-%m-%Y')\n",
    "    sowing_datetime = havest_datetime - timedelta(days=history_days)\n",
    "    return f'{sowing_datetime.strftime(\"%Y-%m-%d\")}/{havest_datetime.strftime(\"%Y-%m-%d\")}'\n",
    "\n",
    "\n",
    "def get_data(bbox, time_period: str, bands: list[str], scale: float):\n",
    "    catalog = pystac_client.Client.open(\"https://planetarycomputer.microsoft.com/api/stac/v1\", modifier=pc.sign_inplace)\n",
    "    search = catalog.search(collections=[\"sentinel-2-l2a\"], bbox=bbox, datetime=time_period)\n",
    "    items = search.item_collection()\n",
    "    data = stac_load(items, bands=bands, crs=\"EPSG:4326\", resolution=scale, bbox=bbox)\n",
    "    return data\n",
    "\n",
    "\n",
    "def process_data(xds: xr.Dataset, row: pd.Series, history_dates:int)->xr.Dataset:\n",
    "    xds = xds.drop(['spatial_ref', 'SCL'])\n",
    "    xds = xds.mean(dim=['latitude', 'longitude'], skipna=True)\n",
    "    xds = xds.sortby('time', ascending=False)\n",
    "    xds = xds.isel(time=slice(None, history_dates))\n",
    "    xds['time'] = xds['time'].dt.strftime(\"%Y-%m-%d\")\n",
    "    xds['state_dev'] =  ('time', np.arange(history_dates)[::-1])\n",
    "    xds = xds.swap_dims({'time': 'state_dev'})\n",
    "    xds = xds.rename_vars(dict_band_name)\n",
    "    xds = xds.expand_dims({'ts_id': 1, 'ts_obs': 1})\n",
    "    xds['ts_obs'] = [row.name]\n",
    "    return xds\n",
    "\n",
    "\n",
    "def save_data(row, history_days, history_dates, resolution):\n",
    "    scale = resolution / 111320.0\n",
    "    bands = ['red', 'green', 'blue', 'B05', 'B06', 'B07', 'nir', 'B11', 'SCL']\n",
    "    \n",
    "    longitude = row['Longitude']\n",
    "    latitude = row['Latitude']\n",
    "    field_size = float(row['Field size (ha)'])\n",
    "    bbox = get_bbox(longitude, latitude, field_size)\n",
    "\n",
    "    havest_date = row['Date of Harvest']\n",
    "    time_period = get_time_period(havest_date, history_days)\n",
    "    \n",
    "    data = get_data(bbox, time_period, bands, scale)\n",
    "\n",
    "    cloud_mask = ((data.SCL != 0) & \n",
    "                  (data.SCL != 1) & \n",
    "                  (data.SCL != 3) & \n",
    "                  (data.SCL != 6) & \n",
    "                  (data.SCL != 8) & \n",
    "                  (data.SCL != 9) & \n",
    "                  (data.SCL != 10))\n",
    "\n",
    "    data = data.where(cloud_mask)\n",
    "    data = process_data(data, row, history_dates)\n",
    "    \n",
    "    return data\n",
    "\n",
    "\n",
    "def save_data_app(index_row, history_days=130, history_dates=24, resolution=10):\n",
    "    for _ in range(index_row[0]):\n",
    "        data = save_data(index_row[1][1], history_days, history_dates, resolution)\n",
    "    return data\n",
    "\n",
    "\n",
    "def get_index_count(df: pd.DataFrame, path: str)->pd.Index:\n",
    "    list_data = []\n",
    "    index_count = df.index.value_counts().sort_index(ascending=True) + NUM_AUGMENT - 1\n",
    "\n",
    "    if os.path.exists(path=path):\n",
    "        xdf = xr.open_dataset(path, engine='scipy')\n",
    "        unique, counts = np.unique(xdf['ts_obs'].values, return_counts=True)\n",
    "        index_count -= pd.Series(counts, index=unique).sort_index(ascending=True)\n",
    "        list_data.append(xdf)\n",
    "    \n",
    "    index_count = index_count[index_count != 0]\n",
    "    return index_count, list_data\n",
    "\n",
    "\n",
    "def make_data(path, save_folder, augment):\n",
    "    save_file = f'{save_folder}/{path.split(\"/\")[-1].split(\".\")[0]}.nc'\n",
    "\n",
    "    df: pd.DataFrame = pd.read_csv(path)\n",
    "    df.index.name = 'ts_obs'\n",
    "    # df.reset_index(inplace=True)\n",
    "    # df.index.name = 'ts_id'\n",
    "\n",
    "    index_count, list_data = get_index_count(df, save_file)\n",
    "    df = df.loc[index_count.index]\n",
    "    # print(f'\\nRetrieve SAR data from {path.split(\"/\")[-1]}...')\n",
    "    # try:\n",
    "        # with mp.Pool(8) as pool:\n",
    "    for data in tqdm(zip(index_count[:2], df.iloc[:2].iterrows())):\n",
    "        data = save_data_app(data)\n",
    "        return data\n",
    "        # list_data.append(data)\n",
    "    # except:\n",
    "    #     \"Error occure during the data retrieval.\"\n",
    "    # finally:\n",
    "    #     data = xr.concat(list_data, dim='ts_obs')\n",
    "    #     data = data.merge(df.to_xarray())\n",
    "\n",
    "    # print(f'\\nSave SAR data from {path.split(\"/\")[-1]}...')\n",
    "    # data.to_netcdf(save_file, engine='scipy')\n",
    "    # print(f'\\nSAR data from {path.split(\"/\")[-1]} saved!')"
   ]
  },
  {
   "cell_type": "code",
   "execution_count": 26,
   "id": "4743d9bd",
   "metadata": {},
   "outputs": [
    {
     "name": "stderr",
     "output_type": "stream",
     "text": [
      "0it [00:00, ?it/s]"
     ]
    }
   ],
   "source": [
    "save_folder = create_folders()\n",
    "train_path = '../../data/raw/train.csv'\n",
    "data = make_data(train_path, save_folder, augment=NUM_AUGMENT)"
   ]
  },
  {
   "cell_type": "code",
   "execution_count": 24,
   "id": "1ddaceda",
   "metadata": {},
   "outputs": [
    {
     "data": {
      "text/plain": [
       "10"
      ]
     },
     "execution_count": 24,
     "metadata": {},
     "output_type": "execute_result"
    }
   ],
   "source": [
    "data[0]"
   ]
  },
  {
   "cell_type": "code",
   "execution_count": 2,
   "id": "b66accae",
   "metadata": {},
   "outputs": [],
   "source": [
    "path = '../../data/raw/train.csv'\n",
    "df = pd.read_csv(path)\n",
    "\n",
    "# data, data_filter = save_data_app((df.iloc[0].index, df.iloc[0]))\n",
    "data, data_filter = save_data_app((df.iloc[0].index, df.iloc[0]))\n",
    "# data_2 = save_data_app((df.iloc[1].index, df.iloc[30]))\n",
    "# data_3 = save_data_app((df.iloc[1].index, df.iloc[50]))"
   ]
  },
  {
   "cell_type": "code",
   "execution_count": 3,
   "id": "dad7cc4c",
   "metadata": {},
   "outputs": [
    {
     "data": {
      "text/html": [
       "<div><svg style=\"position: absolute; width: 0; height: 0; overflow: hidden\">\n",
       "<defs>\n",
       "<symbol id=\"icon-database\" viewBox=\"0 0 32 32\">\n",
       "<path d=\"M16 0c-8.837 0-16 2.239-16 5v4c0 2.761 7.163 5 16 5s16-2.239 16-5v-4c0-2.761-7.163-5-16-5z\"></path>\n",
       "<path d=\"M16 17c-8.837 0-16-2.239-16-5v6c0 2.761 7.163 5 16 5s16-2.239 16-5v-6c0 2.761-7.163 5-16 5z\"></path>\n",
       "<path d=\"M16 26c-8.837 0-16-2.239-16-5v6c0 2.761 7.163 5 16 5s16-2.239 16-5v-6c0 2.761-7.163 5-16 5z\"></path>\n",
       "</symbol>\n",
       "<symbol id=\"icon-file-text2\" viewBox=\"0 0 32 32\">\n",
       "<path d=\"M28.681 7.159c-0.694-0.947-1.662-2.053-2.724-3.116s-2.169-2.030-3.116-2.724c-1.612-1.182-2.393-1.319-2.841-1.319h-15.5c-1.378 0-2.5 1.121-2.5 2.5v27c0 1.378 1.122 2.5 2.5 2.5h23c1.378 0 2.5-1.122 2.5-2.5v-19.5c0-0.448-0.137-1.23-1.319-2.841zM24.543 5.457c0.959 0.959 1.712 1.825 2.268 2.543h-4.811v-4.811c0.718 0.556 1.584 1.309 2.543 2.268zM28 29.5c0 0.271-0.229 0.5-0.5 0.5h-23c-0.271 0-0.5-0.229-0.5-0.5v-27c0-0.271 0.229-0.5 0.5-0.5 0 0 15.499-0 15.5 0v7c0 0.552 0.448 1 1 1h7v19.5z\"></path>\n",
       "<path d=\"M23 26h-14c-0.552 0-1-0.448-1-1s0.448-1 1-1h14c0.552 0 1 0.448 1 1s-0.448 1-1 1z\"></path>\n",
       "<path d=\"M23 22h-14c-0.552 0-1-0.448-1-1s0.448-1 1-1h14c0.552 0 1 0.448 1 1s-0.448 1-1 1z\"></path>\n",
       "<path d=\"M23 18h-14c-0.552 0-1-0.448-1-1s0.448-1 1-1h14c0.552 0 1 0.448 1 1s-0.448 1-1 1z\"></path>\n",
       "</symbol>\n",
       "</defs>\n",
       "</svg>\n",
       "<style>/* CSS stylesheet for displaying xarray objects in jupyterlab.\n",
       " *\n",
       " */\n",
       "\n",
       ":root {\n",
       "  --xr-font-color0: var(--jp-content-font-color0, rgba(0, 0, 0, 1));\n",
       "  --xr-font-color2: var(--jp-content-font-color2, rgba(0, 0, 0, 0.54));\n",
       "  --xr-font-color3: var(--jp-content-font-color3, rgba(0, 0, 0, 0.38));\n",
       "  --xr-border-color: var(--jp-border-color2, #e0e0e0);\n",
       "  --xr-disabled-color: var(--jp-layout-color3, #bdbdbd);\n",
       "  --xr-background-color: var(--jp-layout-color0, white);\n",
       "  --xr-background-color-row-even: var(--jp-layout-color1, white);\n",
       "  --xr-background-color-row-odd: var(--jp-layout-color2, #eeeeee);\n",
       "}\n",
       "\n",
       "html[theme=dark],\n",
       "body[data-theme=dark],\n",
       "body.vscode-dark {\n",
       "  --xr-font-color0: rgba(255, 255, 255, 1);\n",
       "  --xr-font-color2: rgba(255, 255, 255, 0.54);\n",
       "  --xr-font-color3: rgba(255, 255, 255, 0.38);\n",
       "  --xr-border-color: #1F1F1F;\n",
       "  --xr-disabled-color: #515151;\n",
       "  --xr-background-color: #111111;\n",
       "  --xr-background-color-row-even: #111111;\n",
       "  --xr-background-color-row-odd: #313131;\n",
       "}\n",
       "\n",
       ".xr-wrap {\n",
       "  display: block !important;\n",
       "  min-width: 300px;\n",
       "  max-width: 700px;\n",
       "}\n",
       "\n",
       ".xr-text-repr-fallback {\n",
       "  /* fallback to plain text repr when CSS is not injected (untrusted notebook) */\n",
       "  display: none;\n",
       "}\n",
       "\n",
       ".xr-header {\n",
       "  padding-top: 6px;\n",
       "  padding-bottom: 6px;\n",
       "  margin-bottom: 4px;\n",
       "  border-bottom: solid 1px var(--xr-border-color);\n",
       "}\n",
       "\n",
       ".xr-header > div,\n",
       ".xr-header > ul {\n",
       "  display: inline;\n",
       "  margin-top: 0;\n",
       "  margin-bottom: 0;\n",
       "}\n",
       "\n",
       ".xr-obj-type,\n",
       ".xr-array-name {\n",
       "  margin-left: 2px;\n",
       "  margin-right: 10px;\n",
       "}\n",
       "\n",
       ".xr-obj-type {\n",
       "  color: var(--xr-font-color2);\n",
       "}\n",
       "\n",
       ".xr-sections {\n",
       "  padding-left: 0 !important;\n",
       "  display: grid;\n",
       "  grid-template-columns: 150px auto auto 1fr 20px 20px;\n",
       "}\n",
       "\n",
       ".xr-section-item {\n",
       "  display: contents;\n",
       "}\n",
       "\n",
       ".xr-section-item input {\n",
       "  display: none;\n",
       "}\n",
       "\n",
       ".xr-section-item input + label {\n",
       "  color: var(--xr-disabled-color);\n",
       "}\n",
       "\n",
       ".xr-section-item input:enabled + label {\n",
       "  cursor: pointer;\n",
       "  color: var(--xr-font-color2);\n",
       "}\n",
       "\n",
       ".xr-section-item input:enabled + label:hover {\n",
       "  color: var(--xr-font-color0);\n",
       "}\n",
       "\n",
       ".xr-section-summary {\n",
       "  grid-column: 1;\n",
       "  color: var(--xr-font-color2);\n",
       "  font-weight: 500;\n",
       "}\n",
       "\n",
       ".xr-section-summary > span {\n",
       "  display: inline-block;\n",
       "  padding-left: 0.5em;\n",
       "}\n",
       "\n",
       ".xr-section-summary-in:disabled + label {\n",
       "  color: var(--xr-font-color2);\n",
       "}\n",
       "\n",
       ".xr-section-summary-in + label:before {\n",
       "  display: inline-block;\n",
       "  content: '►';\n",
       "  font-size: 11px;\n",
       "  width: 15px;\n",
       "  text-align: center;\n",
       "}\n",
       "\n",
       ".xr-section-summary-in:disabled + label:before {\n",
       "  color: var(--xr-disabled-color);\n",
       "}\n",
       "\n",
       ".xr-section-summary-in:checked + label:before {\n",
       "  content: '▼';\n",
       "}\n",
       "\n",
       ".xr-section-summary-in:checked + label > span {\n",
       "  display: none;\n",
       "}\n",
       "\n",
       ".xr-section-summary,\n",
       ".xr-section-inline-details {\n",
       "  padding-top: 4px;\n",
       "  padding-bottom: 4px;\n",
       "}\n",
       "\n",
       ".xr-section-inline-details {\n",
       "  grid-column: 2 / -1;\n",
       "}\n",
       "\n",
       ".xr-section-details {\n",
       "  display: none;\n",
       "  grid-column: 1 / -1;\n",
       "  margin-bottom: 5px;\n",
       "}\n",
       "\n",
       ".xr-section-summary-in:checked ~ .xr-section-details {\n",
       "  display: contents;\n",
       "}\n",
       "\n",
       ".xr-array-wrap {\n",
       "  grid-column: 1 / -1;\n",
       "  display: grid;\n",
       "  grid-template-columns: 20px auto;\n",
       "}\n",
       "\n",
       ".xr-array-wrap > label {\n",
       "  grid-column: 1;\n",
       "  vertical-align: top;\n",
       "}\n",
       "\n",
       ".xr-preview {\n",
       "  color: var(--xr-font-color3);\n",
       "}\n",
       "\n",
       ".xr-array-preview,\n",
       ".xr-array-data {\n",
       "  padding: 0 5px !important;\n",
       "  grid-column: 2;\n",
       "}\n",
       "\n",
       ".xr-array-data,\n",
       ".xr-array-in:checked ~ .xr-array-preview {\n",
       "  display: none;\n",
       "}\n",
       "\n",
       ".xr-array-in:checked ~ .xr-array-data,\n",
       ".xr-array-preview {\n",
       "  display: inline-block;\n",
       "}\n",
       "\n",
       ".xr-dim-list {\n",
       "  display: inline-block !important;\n",
       "  list-style: none;\n",
       "  padding: 0 !important;\n",
       "  margin: 0;\n",
       "}\n",
       "\n",
       ".xr-dim-list li {\n",
       "  display: inline-block;\n",
       "  padding: 0;\n",
       "  margin: 0;\n",
       "}\n",
       "\n",
       ".xr-dim-list:before {\n",
       "  content: '(';\n",
       "}\n",
       "\n",
       ".xr-dim-list:after {\n",
       "  content: ')';\n",
       "}\n",
       "\n",
       ".xr-dim-list li:not(:last-child):after {\n",
       "  content: ',';\n",
       "  padding-right: 5px;\n",
       "}\n",
       "\n",
       ".xr-has-index {\n",
       "  font-weight: bold;\n",
       "}\n",
       "\n",
       ".xr-var-list,\n",
       ".xr-var-item {\n",
       "  display: contents;\n",
       "}\n",
       "\n",
       ".xr-var-item > div,\n",
       ".xr-var-item label,\n",
       ".xr-var-item > .xr-var-name span {\n",
       "  background-color: var(--xr-background-color-row-even);\n",
       "  margin-bottom: 0;\n",
       "}\n",
       "\n",
       ".xr-var-item > .xr-var-name:hover span {\n",
       "  padding-right: 5px;\n",
       "}\n",
       "\n",
       ".xr-var-list > li:nth-child(odd) > div,\n",
       ".xr-var-list > li:nth-child(odd) > label,\n",
       ".xr-var-list > li:nth-child(odd) > .xr-var-name span {\n",
       "  background-color: var(--xr-background-color-row-odd);\n",
       "}\n",
       "\n",
       ".xr-var-name {\n",
       "  grid-column: 1;\n",
       "}\n",
       "\n",
       ".xr-var-dims {\n",
       "  grid-column: 2;\n",
       "}\n",
       "\n",
       ".xr-var-dtype {\n",
       "  grid-column: 3;\n",
       "  text-align: right;\n",
       "  color: var(--xr-font-color2);\n",
       "}\n",
       "\n",
       ".xr-var-preview {\n",
       "  grid-column: 4;\n",
       "}\n",
       "\n",
       ".xr-index-preview {\n",
       "  grid-column: 2 / 5;\n",
       "  color: var(--xr-font-color2);\n",
       "}\n",
       "\n",
       ".xr-var-name,\n",
       ".xr-var-dims,\n",
       ".xr-var-dtype,\n",
       ".xr-preview,\n",
       ".xr-attrs dt {\n",
       "  white-space: nowrap;\n",
       "  overflow: hidden;\n",
       "  text-overflow: ellipsis;\n",
       "  padding-right: 10px;\n",
       "}\n",
       "\n",
       ".xr-var-name:hover,\n",
       ".xr-var-dims:hover,\n",
       ".xr-var-dtype:hover,\n",
       ".xr-attrs dt:hover {\n",
       "  overflow: visible;\n",
       "  width: auto;\n",
       "  z-index: 1;\n",
       "}\n",
       "\n",
       ".xr-var-attrs,\n",
       ".xr-var-data,\n",
       ".xr-index-data {\n",
       "  display: none;\n",
       "  background-color: var(--xr-background-color) !important;\n",
       "  padding-bottom: 5px !important;\n",
       "}\n",
       "\n",
       ".xr-var-attrs-in:checked ~ .xr-var-attrs,\n",
       ".xr-var-data-in:checked ~ .xr-var-data,\n",
       ".xr-index-data-in:checked ~ .xr-index-data {\n",
       "  display: block;\n",
       "}\n",
       "\n",
       ".xr-var-data > table {\n",
       "  float: right;\n",
       "}\n",
       "\n",
       ".xr-var-name span,\n",
       ".xr-var-data,\n",
       ".xr-index-name div,\n",
       ".xr-index-data,\n",
       ".xr-attrs {\n",
       "  padding-left: 25px !important;\n",
       "}\n",
       "\n",
       ".xr-attrs,\n",
       ".xr-var-attrs,\n",
       ".xr-var-data,\n",
       ".xr-index-data {\n",
       "  grid-column: 1 / -1;\n",
       "}\n",
       "\n",
       "dl.xr-attrs {\n",
       "  padding: 0;\n",
       "  margin: 0;\n",
       "  display: grid;\n",
       "  grid-template-columns: 125px auto;\n",
       "}\n",
       "\n",
       ".xr-attrs dt,\n",
       ".xr-attrs dd {\n",
       "  padding: 0;\n",
       "  margin: 0;\n",
       "  float: left;\n",
       "  padding-right: 10px;\n",
       "  width: auto;\n",
       "}\n",
       "\n",
       ".xr-attrs dt {\n",
       "  font-weight: normal;\n",
       "  grid-column: 1;\n",
       "}\n",
       "\n",
       ".xr-attrs dt:hover span {\n",
       "  display: inline-block;\n",
       "  background: var(--xr-background-color);\n",
       "  padding-right: 10px;\n",
       "}\n",
       "\n",
       ".xr-attrs dd {\n",
       "  grid-column: 2;\n",
       "  white-space: pre-wrap;\n",
       "  word-break: break-all;\n",
       "}\n",
       "\n",
       ".xr-icon-database,\n",
       ".xr-icon-file-text2,\n",
       ".xr-no-icon {\n",
       "  display: inline-block;\n",
       "  vertical-align: middle;\n",
       "  width: 1em;\n",
       "  height: 1.5em !important;\n",
       "  stroke-width: 0;\n",
       "  stroke: currentColor;\n",
       "  fill: currentColor;\n",
       "}\n",
       "</style><pre class='xr-text-repr-fallback'>&lt;xarray.Dataset&gt;\n",
       "Dimensions:    (state_dev: 24, ts_id: 1)\n",
       "Coordinates:\n",
       "    time       (state_dev) object &#x27;2022-07-14&#x27; &#x27;2022-07-09&#x27; ... &#x27;2022-03-16&#x27;\n",
       "  * state_dev  (state_dev) int64 23 22 21 20 19 18 17 16 15 ... 7 6 5 4 3 2 1 0\n",
       "  * ts_id      (ts_id) int64 0\n",
       "Data variables:\n",
       "    red        (ts_id, state_dev) float32 3.751e+03 2.109e+03 ... 7.247e+03\n",
       "    green      (ts_id, state_dev) float32 4.167e+03 2.335e+03 ... 8.187e+03\n",
       "    blue       (ts_id, state_dev) float32 4.394e+03 2.105e+03 ... 9.413e+03\n",
       "    rededge1   (ts_id, state_dev) float32 4.412e+03 2.756e+03 ... 7.484e+03\n",
       "    rededge2   (ts_id, state_dev) float32 4.97e+03 4.125e+03 ... 7.46e+03\n",
       "    rededge3   (ts_id, state_dev) float32 5.171e+03 4.956e+03 ... 7.514e+03\n",
       "    nir        (ts_id, state_dev) float32 5.243e+03 4.815e+03 ... 7.383e+03\n",
       "    swir       (ts_id, state_dev) float32 3.059e+03 3.144e+03 ... 5.408e+03</pre><div class='xr-wrap' style='display:none'><div class='xr-header'><div class='xr-obj-type'>xarray.Dataset</div></div><ul class='xr-sections'><li class='xr-section-item'><input id='section-dfc8586b-e968-4f22-9b32-5b0da134fa45' class='xr-section-summary-in' type='checkbox' disabled ><label for='section-dfc8586b-e968-4f22-9b32-5b0da134fa45' class='xr-section-summary'  title='Expand/collapse section'>Dimensions:</label><div class='xr-section-inline-details'><ul class='xr-dim-list'><li><span class='xr-has-index'>state_dev</span>: 24</li><li><span class='xr-has-index'>ts_id</span>: 1</li></ul></div><div class='xr-section-details'></div></li><li class='xr-section-item'><input id='section-13b90d8e-673d-4b76-8ce8-c3a6e475c99a' class='xr-section-summary-in' type='checkbox'  checked><label for='section-13b90d8e-673d-4b76-8ce8-c3a6e475c99a' class='xr-section-summary' >Coordinates: <span>(3)</span></label><div class='xr-section-inline-details'></div><div class='xr-section-details'><ul class='xr-var-list'><li class='xr-var-item'><div class='xr-var-name'><span>time</span></div><div class='xr-var-dims'>(state_dev)</div><div class='xr-var-dtype'>object</div><div class='xr-var-preview xr-preview'>&#x27;2022-07-14&#x27; ... &#x27;2022-03-16&#x27;</div><input id='attrs-e5fdbfbb-6207-4ef8-a833-fa6ca34a467b' class='xr-var-attrs-in' type='checkbox' disabled><label for='attrs-e5fdbfbb-6207-4ef8-a833-fa6ca34a467b' title='Show/Hide attributes'><svg class='icon xr-icon-file-text2'><use xlink:href='#icon-file-text2'></use></svg></label><input id='data-bdd89c1f-3adf-473a-b1ed-7d46bd0c8788' class='xr-var-data-in' type='checkbox'><label for='data-bdd89c1f-3adf-473a-b1ed-7d46bd0c8788' title='Show/Hide data repr'><svg class='icon xr-icon-database'><use xlink:href='#icon-database'></use></svg></label><div class='xr-var-attrs'><dl class='xr-attrs'></dl></div><div class='xr-var-data'><pre>array([&#x27;2022-07-14&#x27;, &#x27;2022-07-09&#x27;, &#x27;2022-07-04&#x27;, &#x27;2022-06-29&#x27;, &#x27;2022-06-24&#x27;,\n",
       "       &#x27;2022-06-19&#x27;, &#x27;2022-06-14&#x27;, &#x27;2022-06-09&#x27;, &#x27;2022-06-04&#x27;, &#x27;2022-05-30&#x27;,\n",
       "       &#x27;2022-05-25&#x27;, &#x27;2022-05-20&#x27;, &#x27;2022-05-15&#x27;, &#x27;2022-05-10&#x27;, &#x27;2022-04-30&#x27;,\n",
       "       &#x27;2022-04-25&#x27;, &#x27;2022-04-20&#x27;, &#x27;2022-04-15&#x27;, &#x27;2022-04-10&#x27;, &#x27;2022-04-05&#x27;,\n",
       "       &#x27;2022-03-31&#x27;, &#x27;2022-03-26&#x27;, &#x27;2022-03-21&#x27;, &#x27;2022-03-16&#x27;], dtype=object)</pre></div></li><li class='xr-var-item'><div class='xr-var-name'><span class='xr-has-index'>state_dev</span></div><div class='xr-var-dims'>(state_dev)</div><div class='xr-var-dtype'>int64</div><div class='xr-var-preview xr-preview'>23 22 21 20 19 18 ... 5 4 3 2 1 0</div><input id='attrs-a8f4bffb-9152-4a2f-b976-e324f44ec84d' class='xr-var-attrs-in' type='checkbox' disabled><label for='attrs-a8f4bffb-9152-4a2f-b976-e324f44ec84d' title='Show/Hide attributes'><svg class='icon xr-icon-file-text2'><use xlink:href='#icon-file-text2'></use></svg></label><input id='data-a14cf9b8-41dc-4557-be5f-cec86921abdf' class='xr-var-data-in' type='checkbox'><label for='data-a14cf9b8-41dc-4557-be5f-cec86921abdf' title='Show/Hide data repr'><svg class='icon xr-icon-database'><use xlink:href='#icon-database'></use></svg></label><div class='xr-var-attrs'><dl class='xr-attrs'></dl></div><div class='xr-var-data'><pre>array([23, 22, 21, 20, 19, 18, 17, 16, 15, 14, 13, 12, 11, 10,  9,  8,  7,  6,\n",
       "        5,  4,  3,  2,  1,  0])</pre></div></li><li class='xr-var-item'><div class='xr-var-name'><span class='xr-has-index'>ts_id</span></div><div class='xr-var-dims'>(ts_id)</div><div class='xr-var-dtype'>int64</div><div class='xr-var-preview xr-preview'>0</div><input id='attrs-7b6b5159-64ed-4d27-9645-023a5fb6f36c' class='xr-var-attrs-in' type='checkbox' disabled><label for='attrs-7b6b5159-64ed-4d27-9645-023a5fb6f36c' title='Show/Hide attributes'><svg class='icon xr-icon-file-text2'><use xlink:href='#icon-file-text2'></use></svg></label><input id='data-6ef58e37-1ebe-433a-a37d-9287489e17ef' class='xr-var-data-in' type='checkbox'><label for='data-6ef58e37-1ebe-433a-a37d-9287489e17ef' title='Show/Hide data repr'><svg class='icon xr-icon-database'><use xlink:href='#icon-database'></use></svg></label><div class='xr-var-attrs'><dl class='xr-attrs'></dl></div><div class='xr-var-data'><pre>array([0])</pre></div></li></ul></div></li><li class='xr-section-item'><input id='section-4d27a005-9f90-4421-8148-66be87cd6093' class='xr-section-summary-in' type='checkbox'  checked><label for='section-4d27a005-9f90-4421-8148-66be87cd6093' class='xr-section-summary' >Data variables: <span>(8)</span></label><div class='xr-section-inline-details'></div><div class='xr-section-details'><ul class='xr-var-list'><li class='xr-var-item'><div class='xr-var-name'><span>red</span></div><div class='xr-var-dims'>(ts_id, state_dev)</div><div class='xr-var-dtype'>float32</div><div class='xr-var-preview xr-preview'>3.751e+03 2.109e+03 ... 7.247e+03</div><input id='attrs-cc1a8bb6-c5c0-4ac4-a3d4-0b2e34b24ec9' class='xr-var-attrs-in' type='checkbox' disabled><label for='attrs-cc1a8bb6-c5c0-4ac4-a3d4-0b2e34b24ec9' title='Show/Hide attributes'><svg class='icon xr-icon-file-text2'><use xlink:href='#icon-file-text2'></use></svg></label><input id='data-77b9891f-4aeb-4d12-8b29-b253688edb07' class='xr-var-data-in' type='checkbox'><label for='data-77b9891f-4aeb-4d12-8b29-b253688edb07' title='Show/Hide data repr'><svg class='icon xr-icon-database'><use xlink:href='#icon-database'></use></svg></label><div class='xr-var-attrs'><dl class='xr-attrs'></dl></div><div class='xr-var-data'><pre>array([[3750.9385, 2108.8281, 5576.523 , 4119.718 , 2681.8948, 5525.195 ,\n",
       "        2444.7283, 1621.2333, 1567.0026, 4946.8613, 1721.1794, 1877.4718,\n",
       "        1771.4564, 6898.1846, 5713.9077, 2213.8872, 2278.8154, 9603.702 ,\n",
       "        2221.1128, 2061.1104, 2666.0027, 3060.841 , 2616.9795, 7246.769 ]],\n",
       "      dtype=float32)</pre></div></li><li class='xr-var-item'><div class='xr-var-name'><span>green</span></div><div class='xr-var-dims'>(ts_id, state_dev)</div><div class='xr-var-dtype'>float32</div><div class='xr-var-preview xr-preview'>4.167e+03 2.335e+03 ... 8.187e+03</div><input id='attrs-3c19b1f7-8d5d-4fcc-a936-ff0e7dc9deb4' class='xr-var-attrs-in' type='checkbox' disabled><label for='attrs-3c19b1f7-8d5d-4fcc-a936-ff0e7dc9deb4' title='Show/Hide attributes'><svg class='icon xr-icon-file-text2'><use xlink:href='#icon-file-text2'></use></svg></label><input id='data-99a0961d-c928-4922-990a-915d13330e0e' class='xr-var-data-in' type='checkbox'><label for='data-99a0961d-c928-4922-990a-915d13330e0e' title='Show/Hide data repr'><svg class='icon xr-icon-database'><use xlink:href='#icon-database'></use></svg></label><div class='xr-var-attrs'><dl class='xr-attrs'></dl></div><div class='xr-var-data'><pre>array([[ 4166.5127,  2335.0051,  5939.5386,  4461.369 ,  2955.4102,\n",
       "         5933.7793,  2799.5256,  1733.4513,  1724.3949,  5413.1694,\n",
       "         1858.141 ,  2061.9539,  1886.5513,  7536.3896,  6031.5386,\n",
       "         2159.159 ,  2232.3   , 10137.559 ,  2251.5437,  2083.013 ,\n",
       "         2873.8616,  3315.987 ,  2811.1333,  8187.108 ]], dtype=float32)</pre></div></li><li class='xr-var-item'><div class='xr-var-name'><span>blue</span></div><div class='xr-var-dims'>(ts_id, state_dev)</div><div class='xr-var-dtype'>float32</div><div class='xr-var-preview xr-preview'>4.394e+03 2.105e+03 ... 9.413e+03</div><input id='attrs-adaa5787-86f5-4398-a243-ada88b1e6ef3' class='xr-var-attrs-in' type='checkbox' disabled><label for='attrs-adaa5787-86f5-4398-a243-ada88b1e6ef3' title='Show/Hide attributes'><svg class='icon xr-icon-file-text2'><use xlink:href='#icon-file-text2'></use></svg></label><input id='data-0291cfec-df60-438f-b9b6-31f7707a5cac' class='xr-var-data-in' type='checkbox'><label for='data-0291cfec-df60-438f-b9b6-31f7707a5cac' title='Show/Hide data repr'><svg class='icon xr-icon-database'><use xlink:href='#icon-database'></use></svg></label><div class='xr-var-attrs'><dl class='xr-attrs'></dl></div><div class='xr-var-data'><pre>array([[ 4393.836 ,  2104.8076,  6112.1436,  4623.149 ,  2814.4153,\n",
       "         6046.082 ,  2715.2898,  1496.7102,  1450.3052,  5713.2104,\n",
       "         1537.9615,  1844.8411,  1603.7487,  8425.784 ,  6399.1797,\n",
       "         2036.3513,  2196.4102, 11295.323 ,  2312.5386,  1689.8718,\n",
       "         2609.9153,  3254.659 ,  2679.3076,  9412.923 ]], dtype=float32)</pre></div></li><li class='xr-var-item'><div class='xr-var-name'><span>rededge1</span></div><div class='xr-var-dims'>(ts_id, state_dev)</div><div class='xr-var-dtype'>float32</div><div class='xr-var-preview xr-preview'>4.412e+03 2.756e+03 ... 7.484e+03</div><input id='attrs-f768f760-6910-485d-91ac-08dad3617e7b' class='xr-var-attrs-in' type='checkbox' disabled><label for='attrs-f768f760-6910-485d-91ac-08dad3617e7b' title='Show/Hide attributes'><svg class='icon xr-icon-file-text2'><use xlink:href='#icon-file-text2'></use></svg></label><input id='data-0f271753-3201-454a-89e9-ad8f67a2e2ae' class='xr-var-data-in' type='checkbox'><label for='data-0f271753-3201-454a-89e9-ad8f67a2e2ae' title='Show/Hide data repr'><svg class='icon xr-icon-database'><use xlink:href='#icon-database'></use></svg></label><div class='xr-var-attrs'><dl class='xr-attrs'></dl></div><div class='xr-var-data'><pre>array([[4412.0054, 2756.4204, 6367.418 , 4829.259 , 3281.0564, 6149.346 ,\n",
       "        3020.0078, 2061.5642, 2075.4   , 5543.8203, 2252.3435, 2336.4949,\n",
       "        2291.636 , 7376.3794, 6224.1846, 2534.7974, 2476.9255, 9864.182 ,\n",
       "        2405.2666, 2839.5078, 3546.5154, 3825.6692, 3233.9333, 7483.967 ]],\n",
       "      dtype=float32)</pre></div></li><li class='xr-var-item'><div class='xr-var-name'><span>rededge2</span></div><div class='xr-var-dims'>(ts_id, state_dev)</div><div class='xr-var-dtype'>float32</div><div class='xr-var-preview xr-preview'>4.97e+03 4.125e+03 ... 7.46e+03</div><input id='attrs-ee4eb3d3-6924-4ff8-9fba-1e177d81cc7c' class='xr-var-attrs-in' type='checkbox' disabled><label for='attrs-ee4eb3d3-6924-4ff8-9fba-1e177d81cc7c' title='Show/Hide attributes'><svg class='icon xr-icon-file-text2'><use xlink:href='#icon-file-text2'></use></svg></label><input id='data-76700e8d-0f22-4a01-93eb-f0f2637720be' class='xr-var-data-in' type='checkbox'><label for='data-76700e8d-0f22-4a01-93eb-f0f2637720be' title='Show/Hide data repr'><svg class='icon xr-icon-database'><use xlink:href='#icon-database'></use></svg></label><div class='xr-var-attrs'><dl class='xr-attrs'></dl></div><div class='xr-var-data'><pre>array([[4970.3896, 4125.3486, 6824.9897, 5411.8335, 4882.0127, 7141.0537,\n",
       "        4794.026 , 3255.595 , 3336.0847, 6268.5566, 3412.713 , 3431.4846,\n",
       "        3043.6565, 7081.0386, 6173.1436, 2636.759 , 2445.5488, 8985.828 ,\n",
       "        2408.6128, 3692.964 , 4602.828 , 4622.3335, 4041.482 , 7459.646 ]],\n",
       "      dtype=float32)</pre></div></li><li class='xr-var-item'><div class='xr-var-name'><span>rededge3</span></div><div class='xr-var-dims'>(ts_id, state_dev)</div><div class='xr-var-dtype'>float32</div><div class='xr-var-preview xr-preview'>5.171e+03 4.956e+03 ... 7.514e+03</div><input id='attrs-e73e3f41-e05d-40d2-bac8-8bd9b39307ed' class='xr-var-attrs-in' type='checkbox' disabled><label for='attrs-e73e3f41-e05d-40d2-bac8-8bd9b39307ed' title='Show/Hide attributes'><svg class='icon xr-icon-file-text2'><use xlink:href='#icon-file-text2'></use></svg></label><input id='data-2d580bad-a442-456b-af9a-f578b3f3501e' class='xr-var-data-in' type='checkbox'><label for='data-2d580bad-a442-456b-af9a-f578b3f3501e' title='Show/Hide data repr'><svg class='icon xr-icon-database'><use xlink:href='#icon-database'></use></svg></label><div class='xr-var-attrs'><dl class='xr-attrs'></dl></div><div class='xr-var-data'><pre>array([[5170.7896, 4955.8076, 7030.7485, 5793.4077, 5686.108 , 8003.5283,\n",
       "        5763.851 , 3950.6462, 3896.254 , 6824.341 , 3849.2205, 3991.5642,\n",
       "        3273.2642, 7024.1694, 6370.613 , 2746.8206, 2573.041 , 8705.364 ,\n",
       "        2492.8154, 4017.0642, 5185.277 , 4891.0947, 4511.5693, 7514.4434]],\n",
       "      dtype=float32)</pre></div></li><li class='xr-var-item'><div class='xr-var-name'><span>nir</span></div><div class='xr-var-dims'>(ts_id, state_dev)</div><div class='xr-var-dtype'>float32</div><div class='xr-var-preview xr-preview'>5.243e+03 4.815e+03 ... 7.383e+03</div><input id='attrs-f5415102-f82d-4494-a06e-1deb2bc08861' class='xr-var-attrs-in' type='checkbox' disabled><label for='attrs-f5415102-f82d-4494-a06e-1deb2bc08861' title='Show/Hide attributes'><svg class='icon xr-icon-file-text2'><use xlink:href='#icon-file-text2'></use></svg></label><input id='data-1f93f718-5cc7-4db0-8289-39f5c5e0493f' class='xr-var-data-in' type='checkbox'><label for='data-1f93f718-5cc7-4db0-8289-39f5c5e0493f' title='Show/Hide data repr'><svg class='icon xr-icon-database'><use xlink:href='#icon-database'></use></svg></label><div class='xr-var-attrs'><dl class='xr-attrs'></dl></div><div class='xr-var-data'><pre>array([[5243.19  , 4815.0874, 6923.764 , 5605.231 , 5420.369 , 7171.2666,\n",
       "        5721.482 , 3831.1487, 3782.905 , 6733.6616, 3733.6206, 3792.8616,\n",
       "        3160.1025, 6936.687 , 5883.508 , 2685.4614, 2454.518 , 8312.205 ,\n",
       "        2398.3923, 3948.4666, 5109.0615, 5154.0513, 4298.067 , 7382.728 ]],\n",
       "      dtype=float32)</pre></div></li><li class='xr-var-item'><div class='xr-var-name'><span>swir</span></div><div class='xr-var-dims'>(ts_id, state_dev)</div><div class='xr-var-dtype'>float32</div><div class='xr-var-preview xr-preview'>3.059e+03 3.144e+03 ... 5.408e+03</div><input id='attrs-cc471cea-e2ed-46f6-a6f0-c6c4419e6ff8' class='xr-var-attrs-in' type='checkbox' disabled><label for='attrs-cc471cea-e2ed-46f6-a6f0-c6c4419e6ff8' title='Show/Hide attributes'><svg class='icon xr-icon-file-text2'><use xlink:href='#icon-file-text2'></use></svg></label><input id='data-4bff4082-0cd0-4fee-950a-89ee35d07804' class='xr-var-data-in' type='checkbox'><label for='data-4bff4082-0cd0-4fee-950a-89ee35d07804' title='Show/Hide data repr'><svg class='icon xr-icon-database'><use xlink:href='#icon-database'></use></svg></label><div class='xr-var-attrs'><dl class='xr-attrs'></dl></div><div class='xr-var-data'><pre>array([[3058.782 , 3144.0898, 4558.8154, 2772.123 , 3987.9512, 4902.433 ,\n",
       "        3529.918 , 2828.8975, 2742.8384, 4780.695 , 3021.4282, 2991.095 ,\n",
       "        2876.205 , 3153.5923, 4910.523 , 2551.877 , 2077.054 , 6441.882 ,\n",
       "        2251.2974, 3195.9255, 3906.4846, 4058.6667, 3233.123 , 5408.385 ]],\n",
       "      dtype=float32)</pre></div></li></ul></div></li><li class='xr-section-item'><input id='section-6276c0a2-e096-4a06-b6bf-e9039983b179' class='xr-section-summary-in' type='checkbox'  ><label for='section-6276c0a2-e096-4a06-b6bf-e9039983b179' class='xr-section-summary' >Indexes: <span>(2)</span></label><div class='xr-section-inline-details'></div><div class='xr-section-details'><ul class='xr-var-list'><li class='xr-var-item'><div class='xr-index-name'><div>state_dev</div></div><div class='xr-index-preview'>PandasIndex</div><div></div><input id='index-ddd01240-f46c-4c5e-b7b7-e5fb4ab98261' class='xr-index-data-in' type='checkbox'/><label for='index-ddd01240-f46c-4c5e-b7b7-e5fb4ab98261' title='Show/Hide index repr'><svg class='icon xr-icon-database'><use xlink:href='#icon-database'></use></svg></label><div class='xr-index-data'><pre>PandasIndex(Int64Index([23, 22, 21, 20, 19, 18, 17, 16, 15, 14, 13, 12, 11, 10,  9,  8,  7,\n",
       "             6,  5,  4,  3,  2,  1,  0],\n",
       "           dtype=&#x27;int64&#x27;, name=&#x27;state_dev&#x27;))</pre></div></li><li class='xr-var-item'><div class='xr-index-name'><div>ts_id</div></div><div class='xr-index-preview'>PandasIndex</div><div></div><input id='index-321a59d5-2291-4589-b88a-d501021292d8' class='xr-index-data-in' type='checkbox'/><label for='index-321a59d5-2291-4589-b88a-d501021292d8' title='Show/Hide index repr'><svg class='icon xr-icon-database'><use xlink:href='#icon-database'></use></svg></label><div class='xr-index-data'><pre>PandasIndex(Int64Index([0], dtype=&#x27;int64&#x27;, name=&#x27;ts_id&#x27;))</pre></div></li></ul></div></li><li class='xr-section-item'><input id='section-2ac42d52-18d0-430a-bdb8-cd9f84e5b05f' class='xr-section-summary-in' type='checkbox' disabled ><label for='section-2ac42d52-18d0-430a-bdb8-cd9f84e5b05f' class='xr-section-summary'  title='Expand/collapse section'>Attributes: <span>(0)</span></label><div class='xr-section-inline-details'></div><div class='xr-section-details'><dl class='xr-attrs'></dl></div></li></ul></div></div>"
      ],
      "text/plain": [
       "<xarray.Dataset>\n",
       "Dimensions:    (state_dev: 24, ts_id: 1)\n",
       "Coordinates:\n",
       "    time       (state_dev) object '2022-07-14' '2022-07-09' ... '2022-03-16'\n",
       "  * state_dev  (state_dev) int64 23 22 21 20 19 18 17 16 15 ... 7 6 5 4 3 2 1 0\n",
       "  * ts_id      (ts_id) int64 0\n",
       "Data variables:\n",
       "    red        (ts_id, state_dev) float32 3.751e+03 2.109e+03 ... 7.247e+03\n",
       "    green      (ts_id, state_dev) float32 4.167e+03 2.335e+03 ... 8.187e+03\n",
       "    blue       (ts_id, state_dev) float32 4.394e+03 2.105e+03 ... 9.413e+03\n",
       "    rededge1   (ts_id, state_dev) float32 4.412e+03 2.756e+03 ... 7.484e+03\n",
       "    rededge2   (ts_id, state_dev) float32 4.97e+03 4.125e+03 ... 7.46e+03\n",
       "    rededge3   (ts_id, state_dev) float32 5.171e+03 4.956e+03 ... 7.514e+03\n",
       "    nir        (ts_id, state_dev) float32 5.243e+03 4.815e+03 ... 7.383e+03\n",
       "    swir       (ts_id, state_dev) float32 3.059e+03 3.144e+03 ... 5.408e+03"
      ]
     },
     "execution_count": 3,
     "metadata": {},
     "output_type": "execute_result"
    }
   ],
   "source": [
    "data"
   ]
  },
  {
   "cell_type": "code",
   "execution_count": 400,
   "id": "49e865b4",
   "metadata": {},
   "outputs": [],
   "source": [
    "data.to_netcdf('./test.nc', engine='scipy')"
   ]
  },
  {
   "cell_type": "code",
   "execution_count": 368,
   "id": "eaa6f2ea",
   "metadata": {},
   "outputs": [],
   "source": [
    "xdf = data.copy(deep=True)\n",
    "xdf = xdf.drop(['spatial_ref', 'SCL'])\n",
    "xdf = xdf.mean(dim=['latitude', 'longitude'], skipna=True)\n",
    "xdf = xdf.sortby('time', ascending=False)\n",
    "xdf = xdf.isel(time=slice(None, history_dates))\n",
    "xdf['time'] = xdf['time'].dt.strftime(\"%Y-%m-%d\")\n",
    "xdf['state_dev'] =  ('time', np.arange(history_dates)[::-1])\n",
    "xdf = xdf.swap_dims({'time': 'state_dev'})\n",
    "xdf = xdf.rename_vars(dict_band_name)\n",
    "df_t = pd.DataFrame([df.iloc[0]]*history_dates, index=xdf.indexes['state_dev'])\n",
    "xdf = xdf.merge(df_t.to_xarray())"
   ]
  },
  {
   "cell_type": "code",
   "execution_count": 387,
   "id": "6c1f3195",
   "metadata": {},
   "outputs": [
    {
     "data": {
      "text/html": [
       "<div><svg style=\"position: absolute; width: 0; height: 0; overflow: hidden\">\n",
       "<defs>\n",
       "<symbol id=\"icon-database\" viewBox=\"0 0 32 32\">\n",
       "<path d=\"M16 0c-8.837 0-16 2.239-16 5v4c0 2.761 7.163 5 16 5s16-2.239 16-5v-4c0-2.761-7.163-5-16-5z\"></path>\n",
       "<path d=\"M16 17c-8.837 0-16-2.239-16-5v6c0 2.761 7.163 5 16 5s16-2.239 16-5v-6c0 2.761-7.163 5-16 5z\"></path>\n",
       "<path d=\"M16 26c-8.837 0-16-2.239-16-5v6c0 2.761 7.163 5 16 5s16-2.239 16-5v-6c0 2.761-7.163 5-16 5z\"></path>\n",
       "</symbol>\n",
       "<symbol id=\"icon-file-text2\" viewBox=\"0 0 32 32\">\n",
       "<path d=\"M28.681 7.159c-0.694-0.947-1.662-2.053-2.724-3.116s-2.169-2.030-3.116-2.724c-1.612-1.182-2.393-1.319-2.841-1.319h-15.5c-1.378 0-2.5 1.121-2.5 2.5v27c0 1.378 1.122 2.5 2.5 2.5h23c1.378 0 2.5-1.122 2.5-2.5v-19.5c0-0.448-0.137-1.23-1.319-2.841zM24.543 5.457c0.959 0.959 1.712 1.825 2.268 2.543h-4.811v-4.811c0.718 0.556 1.584 1.309 2.543 2.268zM28 29.5c0 0.271-0.229 0.5-0.5 0.5h-23c-0.271 0-0.5-0.229-0.5-0.5v-27c0-0.271 0.229-0.5 0.5-0.5 0 0 15.499-0 15.5 0v7c0 0.552 0.448 1 1 1h7v19.5z\"></path>\n",
       "<path d=\"M23 26h-14c-0.552 0-1-0.448-1-1s0.448-1 1-1h14c0.552 0 1 0.448 1 1s-0.448 1-1 1z\"></path>\n",
       "<path d=\"M23 22h-14c-0.552 0-1-0.448-1-1s0.448-1 1-1h14c0.552 0 1 0.448 1 1s-0.448 1-1 1z\"></path>\n",
       "<path d=\"M23 18h-14c-0.552 0-1-0.448-1-1s0.448-1 1-1h14c0.552 0 1 0.448 1 1s-0.448 1-1 1z\"></path>\n",
       "</symbol>\n",
       "</defs>\n",
       "</svg>\n",
       "<style>/* CSS stylesheet for displaying xarray objects in jupyterlab.\n",
       " *\n",
       " */\n",
       "\n",
       ":root {\n",
       "  --xr-font-color0: var(--jp-content-font-color0, rgba(0, 0, 0, 1));\n",
       "  --xr-font-color2: var(--jp-content-font-color2, rgba(0, 0, 0, 0.54));\n",
       "  --xr-font-color3: var(--jp-content-font-color3, rgba(0, 0, 0, 0.38));\n",
       "  --xr-border-color: var(--jp-border-color2, #e0e0e0);\n",
       "  --xr-disabled-color: var(--jp-layout-color3, #bdbdbd);\n",
       "  --xr-background-color: var(--jp-layout-color0, white);\n",
       "  --xr-background-color-row-even: var(--jp-layout-color1, white);\n",
       "  --xr-background-color-row-odd: var(--jp-layout-color2, #eeeeee);\n",
       "}\n",
       "\n",
       "html[theme=dark],\n",
       "body[data-theme=dark],\n",
       "body.vscode-dark {\n",
       "  --xr-font-color0: rgba(255, 255, 255, 1);\n",
       "  --xr-font-color2: rgba(255, 255, 255, 0.54);\n",
       "  --xr-font-color3: rgba(255, 255, 255, 0.38);\n",
       "  --xr-border-color: #1F1F1F;\n",
       "  --xr-disabled-color: #515151;\n",
       "  --xr-background-color: #111111;\n",
       "  --xr-background-color-row-even: #111111;\n",
       "  --xr-background-color-row-odd: #313131;\n",
       "}\n",
       "\n",
       ".xr-wrap {\n",
       "  display: block !important;\n",
       "  min-width: 300px;\n",
       "  max-width: 700px;\n",
       "}\n",
       "\n",
       ".xr-text-repr-fallback {\n",
       "  /* fallback to plain text repr when CSS is not injected (untrusted notebook) */\n",
       "  display: none;\n",
       "}\n",
       "\n",
       ".xr-header {\n",
       "  padding-top: 6px;\n",
       "  padding-bottom: 6px;\n",
       "  margin-bottom: 4px;\n",
       "  border-bottom: solid 1px var(--xr-border-color);\n",
       "}\n",
       "\n",
       ".xr-header > div,\n",
       ".xr-header > ul {\n",
       "  display: inline;\n",
       "  margin-top: 0;\n",
       "  margin-bottom: 0;\n",
       "}\n",
       "\n",
       ".xr-obj-type,\n",
       ".xr-array-name {\n",
       "  margin-left: 2px;\n",
       "  margin-right: 10px;\n",
       "}\n",
       "\n",
       ".xr-obj-type {\n",
       "  color: var(--xr-font-color2);\n",
       "}\n",
       "\n",
       ".xr-sections {\n",
       "  padding-left: 0 !important;\n",
       "  display: grid;\n",
       "  grid-template-columns: 150px auto auto 1fr 20px 20px;\n",
       "}\n",
       "\n",
       ".xr-section-item {\n",
       "  display: contents;\n",
       "}\n",
       "\n",
       ".xr-section-item input {\n",
       "  display: none;\n",
       "}\n",
       "\n",
       ".xr-section-item input + label {\n",
       "  color: var(--xr-disabled-color);\n",
       "}\n",
       "\n",
       ".xr-section-item input:enabled + label {\n",
       "  cursor: pointer;\n",
       "  color: var(--xr-font-color2);\n",
       "}\n",
       "\n",
       ".xr-section-item input:enabled + label:hover {\n",
       "  color: var(--xr-font-color0);\n",
       "}\n",
       "\n",
       ".xr-section-summary {\n",
       "  grid-column: 1;\n",
       "  color: var(--xr-font-color2);\n",
       "  font-weight: 500;\n",
       "}\n",
       "\n",
       ".xr-section-summary > span {\n",
       "  display: inline-block;\n",
       "  padding-left: 0.5em;\n",
       "}\n",
       "\n",
       ".xr-section-summary-in:disabled + label {\n",
       "  color: var(--xr-font-color2);\n",
       "}\n",
       "\n",
       ".xr-section-summary-in + label:before {\n",
       "  display: inline-block;\n",
       "  content: '►';\n",
       "  font-size: 11px;\n",
       "  width: 15px;\n",
       "  text-align: center;\n",
       "}\n",
       "\n",
       ".xr-section-summary-in:disabled + label:before {\n",
       "  color: var(--xr-disabled-color);\n",
       "}\n",
       "\n",
       ".xr-section-summary-in:checked + label:before {\n",
       "  content: '▼';\n",
       "}\n",
       "\n",
       ".xr-section-summary-in:checked + label > span {\n",
       "  display: none;\n",
       "}\n",
       "\n",
       ".xr-section-summary,\n",
       ".xr-section-inline-details {\n",
       "  padding-top: 4px;\n",
       "  padding-bottom: 4px;\n",
       "}\n",
       "\n",
       ".xr-section-inline-details {\n",
       "  grid-column: 2 / -1;\n",
       "}\n",
       "\n",
       ".xr-section-details {\n",
       "  display: none;\n",
       "  grid-column: 1 / -1;\n",
       "  margin-bottom: 5px;\n",
       "}\n",
       "\n",
       ".xr-section-summary-in:checked ~ .xr-section-details {\n",
       "  display: contents;\n",
       "}\n",
       "\n",
       ".xr-array-wrap {\n",
       "  grid-column: 1 / -1;\n",
       "  display: grid;\n",
       "  grid-template-columns: 20px auto;\n",
       "}\n",
       "\n",
       ".xr-array-wrap > label {\n",
       "  grid-column: 1;\n",
       "  vertical-align: top;\n",
       "}\n",
       "\n",
       ".xr-preview {\n",
       "  color: var(--xr-font-color3);\n",
       "}\n",
       "\n",
       ".xr-array-preview,\n",
       ".xr-array-data {\n",
       "  padding: 0 5px !important;\n",
       "  grid-column: 2;\n",
       "}\n",
       "\n",
       ".xr-array-data,\n",
       ".xr-array-in:checked ~ .xr-array-preview {\n",
       "  display: none;\n",
       "}\n",
       "\n",
       ".xr-array-in:checked ~ .xr-array-data,\n",
       ".xr-array-preview {\n",
       "  display: inline-block;\n",
       "}\n",
       "\n",
       ".xr-dim-list {\n",
       "  display: inline-block !important;\n",
       "  list-style: none;\n",
       "  padding: 0 !important;\n",
       "  margin: 0;\n",
       "}\n",
       "\n",
       ".xr-dim-list li {\n",
       "  display: inline-block;\n",
       "  padding: 0;\n",
       "  margin: 0;\n",
       "}\n",
       "\n",
       ".xr-dim-list:before {\n",
       "  content: '(';\n",
       "}\n",
       "\n",
       ".xr-dim-list:after {\n",
       "  content: ')';\n",
       "}\n",
       "\n",
       ".xr-dim-list li:not(:last-child):after {\n",
       "  content: ',';\n",
       "  padding-right: 5px;\n",
       "}\n",
       "\n",
       ".xr-has-index {\n",
       "  font-weight: bold;\n",
       "}\n",
       "\n",
       ".xr-var-list,\n",
       ".xr-var-item {\n",
       "  display: contents;\n",
       "}\n",
       "\n",
       ".xr-var-item > div,\n",
       ".xr-var-item label,\n",
       ".xr-var-item > .xr-var-name span {\n",
       "  background-color: var(--xr-background-color-row-even);\n",
       "  margin-bottom: 0;\n",
       "}\n",
       "\n",
       ".xr-var-item > .xr-var-name:hover span {\n",
       "  padding-right: 5px;\n",
       "}\n",
       "\n",
       ".xr-var-list > li:nth-child(odd) > div,\n",
       ".xr-var-list > li:nth-child(odd) > label,\n",
       ".xr-var-list > li:nth-child(odd) > .xr-var-name span {\n",
       "  background-color: var(--xr-background-color-row-odd);\n",
       "}\n",
       "\n",
       ".xr-var-name {\n",
       "  grid-column: 1;\n",
       "}\n",
       "\n",
       ".xr-var-dims {\n",
       "  grid-column: 2;\n",
       "}\n",
       "\n",
       ".xr-var-dtype {\n",
       "  grid-column: 3;\n",
       "  text-align: right;\n",
       "  color: var(--xr-font-color2);\n",
       "}\n",
       "\n",
       ".xr-var-preview {\n",
       "  grid-column: 4;\n",
       "}\n",
       "\n",
       ".xr-index-preview {\n",
       "  grid-column: 2 / 5;\n",
       "  color: var(--xr-font-color2);\n",
       "}\n",
       "\n",
       ".xr-var-name,\n",
       ".xr-var-dims,\n",
       ".xr-var-dtype,\n",
       ".xr-preview,\n",
       ".xr-attrs dt {\n",
       "  white-space: nowrap;\n",
       "  overflow: hidden;\n",
       "  text-overflow: ellipsis;\n",
       "  padding-right: 10px;\n",
       "}\n",
       "\n",
       ".xr-var-name:hover,\n",
       ".xr-var-dims:hover,\n",
       ".xr-var-dtype:hover,\n",
       ".xr-attrs dt:hover {\n",
       "  overflow: visible;\n",
       "  width: auto;\n",
       "  z-index: 1;\n",
       "}\n",
       "\n",
       ".xr-var-attrs,\n",
       ".xr-var-data,\n",
       ".xr-index-data {\n",
       "  display: none;\n",
       "  background-color: var(--xr-background-color) !important;\n",
       "  padding-bottom: 5px !important;\n",
       "}\n",
       "\n",
       ".xr-var-attrs-in:checked ~ .xr-var-attrs,\n",
       ".xr-var-data-in:checked ~ .xr-var-data,\n",
       ".xr-index-data-in:checked ~ .xr-index-data {\n",
       "  display: block;\n",
       "}\n",
       "\n",
       ".xr-var-data > table {\n",
       "  float: right;\n",
       "}\n",
       "\n",
       ".xr-var-name span,\n",
       ".xr-var-data,\n",
       ".xr-index-name div,\n",
       ".xr-index-data,\n",
       ".xr-attrs {\n",
       "  padding-left: 25px !important;\n",
       "}\n",
       "\n",
       ".xr-attrs,\n",
       ".xr-var-attrs,\n",
       ".xr-var-data,\n",
       ".xr-index-data {\n",
       "  grid-column: 1 / -1;\n",
       "}\n",
       "\n",
       "dl.xr-attrs {\n",
       "  padding: 0;\n",
       "  margin: 0;\n",
       "  display: grid;\n",
       "  grid-template-columns: 125px auto;\n",
       "}\n",
       "\n",
       ".xr-attrs dt,\n",
       ".xr-attrs dd {\n",
       "  padding: 0;\n",
       "  margin: 0;\n",
       "  float: left;\n",
       "  padding-right: 10px;\n",
       "  width: auto;\n",
       "}\n",
       "\n",
       ".xr-attrs dt {\n",
       "  font-weight: normal;\n",
       "  grid-column: 1;\n",
       "}\n",
       "\n",
       ".xr-attrs dt:hover span {\n",
       "  display: inline-block;\n",
       "  background: var(--xr-background-color);\n",
       "  padding-right: 10px;\n",
       "}\n",
       "\n",
       ".xr-attrs dd {\n",
       "  grid-column: 2;\n",
       "  white-space: pre-wrap;\n",
       "  word-break: break-all;\n",
       "}\n",
       "\n",
       ".xr-icon-database,\n",
       ".xr-icon-file-text2,\n",
       ".xr-no-icon {\n",
       "  display: inline-block;\n",
       "  vertical-align: middle;\n",
       "  width: 1em;\n",
       "  height: 1.5em !important;\n",
       "  stroke-width: 0;\n",
       "  stroke: currentColor;\n",
       "  fill: currentColor;\n",
       "}\n",
       "</style><pre class='xr-text-repr-fallback'>&lt;xarray.Dataset&gt;\n",
       "Dimensions:    (state_dev: 24)\n",
       "Coordinates:\n",
       "    time       (state_dev) object &#x27;2022-07-14&#x27; &#x27;2022-07-09&#x27; ... &#x27;2022-03-16&#x27;\n",
       "  * state_dev  (state_dev) int64 23 22 21 20 19 18 17 16 15 ... 7 6 5 4 3 2 1 0\n",
       "Data variables:\n",
       "    red        (state_dev) float32 nan nan nan nan ... 1.912e+03 2.561e+03 nan\n",
       "    green      (state_dev) float32 nan nan nan nan ... 2.068e+03 2.764e+03 nan\n",
       "    blue       (state_dev) float32 nan nan nan nan ... 1.629e+03 2.65e+03 nan\n",
       "    rededge1   (state_dev) float32 nan nan nan nan ... 2.898e+03 3.157e+03 nan\n",
       "    rededge2   (state_dev) float32 nan nan nan nan ... 4.183e+03 3.941e+03 nan\n",
       "    rededge3   (state_dev) float32 nan nan nan nan ... 4.683e+03 4.401e+03 nan\n",
       "    nir        (state_dev) float32 nan nan nan nan ... 4.736e+03 4.213e+03 nan\n",
       "    swir       (state_dev) float32 nan nan nan nan ... 3.279e+03 3.156e+03 nan</pre><div class='xr-wrap' style='display:none'><div class='xr-header'><div class='xr-obj-type'>xarray.Dataset</div></div><ul class='xr-sections'><li class='xr-section-item'><input id='section-282eabb0-8a17-499a-8bd9-339f79b9a321' class='xr-section-summary-in' type='checkbox' disabled ><label for='section-282eabb0-8a17-499a-8bd9-339f79b9a321' class='xr-section-summary'  title='Expand/collapse section'>Dimensions:</label><div class='xr-section-inline-details'><ul class='xr-dim-list'><li><span class='xr-has-index'>state_dev</span>: 24</li></ul></div><div class='xr-section-details'></div></li><li class='xr-section-item'><input id='section-2f02d0b4-2b91-47a9-a5df-1f38a0801b62' class='xr-section-summary-in' type='checkbox'  checked><label for='section-2f02d0b4-2b91-47a9-a5df-1f38a0801b62' class='xr-section-summary' >Coordinates: <span>(2)</span></label><div class='xr-section-inline-details'></div><div class='xr-section-details'><ul class='xr-var-list'><li class='xr-var-item'><div class='xr-var-name'><span>time</span></div><div class='xr-var-dims'>(state_dev)</div><div class='xr-var-dtype'>object</div><div class='xr-var-preview xr-preview'>&#x27;2022-07-14&#x27; ... &#x27;2022-03-16&#x27;</div><input id='attrs-f08cdca9-93eb-4c0a-8e70-cf225acf17ae' class='xr-var-attrs-in' type='checkbox' disabled><label for='attrs-f08cdca9-93eb-4c0a-8e70-cf225acf17ae' title='Show/Hide attributes'><svg class='icon xr-icon-file-text2'><use xlink:href='#icon-file-text2'></use></svg></label><input id='data-f785d16e-c69a-4139-b75f-48e2ddde940a' class='xr-var-data-in' type='checkbox'><label for='data-f785d16e-c69a-4139-b75f-48e2ddde940a' title='Show/Hide data repr'><svg class='icon xr-icon-database'><use xlink:href='#icon-database'></use></svg></label><div class='xr-var-attrs'><dl class='xr-attrs'></dl></div><div class='xr-var-data'><pre>array([&#x27;2022-07-14&#x27;, &#x27;2022-07-09&#x27;, &#x27;2022-07-04&#x27;, &#x27;2022-06-29&#x27;, &#x27;2022-06-24&#x27;,\n",
       "       &#x27;2022-06-19&#x27;, &#x27;2022-06-14&#x27;, &#x27;2022-06-09&#x27;, &#x27;2022-06-04&#x27;, &#x27;2022-05-30&#x27;,\n",
       "       &#x27;2022-05-25&#x27;, &#x27;2022-05-20&#x27;, &#x27;2022-05-15&#x27;, &#x27;2022-05-10&#x27;, &#x27;2022-04-30&#x27;,\n",
       "       &#x27;2022-04-25&#x27;, &#x27;2022-04-20&#x27;, &#x27;2022-04-15&#x27;, &#x27;2022-04-10&#x27;, &#x27;2022-04-05&#x27;,\n",
       "       &#x27;2022-03-31&#x27;, &#x27;2022-03-26&#x27;, &#x27;2022-03-21&#x27;, &#x27;2022-03-16&#x27;], dtype=object)</pre></div></li><li class='xr-var-item'><div class='xr-var-name'><span class='xr-has-index'>state_dev</span></div><div class='xr-var-dims'>(state_dev)</div><div class='xr-var-dtype'>int64</div><div class='xr-var-preview xr-preview'>23 22 21 20 19 18 ... 5 4 3 2 1 0</div><input id='attrs-85eb2ea9-e276-485b-938c-a4724a0a406d' class='xr-var-attrs-in' type='checkbox' disabled><label for='attrs-85eb2ea9-e276-485b-938c-a4724a0a406d' title='Show/Hide attributes'><svg class='icon xr-icon-file-text2'><use xlink:href='#icon-file-text2'></use></svg></label><input id='data-f276d571-8368-47e9-9122-66b79edafd35' class='xr-var-data-in' type='checkbox'><label for='data-f276d571-8368-47e9-9122-66b79edafd35' title='Show/Hide data repr'><svg class='icon xr-icon-database'><use xlink:href='#icon-database'></use></svg></label><div class='xr-var-attrs'><dl class='xr-attrs'></dl></div><div class='xr-var-data'><pre>array([23, 22, 21, 20, 19, 18, 17, 16, 15, 14, 13, 12, 11, 10,  9,  8,  7,  6,\n",
       "        5,  4,  3,  2,  1,  0])</pre></div></li></ul></div></li><li class='xr-section-item'><input id='section-667d428a-694b-4b73-9841-b1f3ab82f117' class='xr-section-summary-in' type='checkbox'  checked><label for='section-667d428a-694b-4b73-9841-b1f3ab82f117' class='xr-section-summary' >Data variables: <span>(8)</span></label><div class='xr-section-inline-details'></div><div class='xr-section-details'><ul class='xr-var-list'><li class='xr-var-item'><div class='xr-var-name'><span>red</span></div><div class='xr-var-dims'>(state_dev)</div><div class='xr-var-dtype'>float32</div><div class='xr-var-preview xr-preview'>nan nan nan ... 2.561e+03 nan</div><input id='attrs-06111249-3ba2-4ab2-94d1-25dc079236a9' class='xr-var-attrs-in' type='checkbox' disabled><label for='attrs-06111249-3ba2-4ab2-94d1-25dc079236a9' title='Show/Hide attributes'><svg class='icon xr-icon-file-text2'><use xlink:href='#icon-file-text2'></use></svg></label><input id='data-4b044ad1-de49-4142-9f17-5e9e0de847f7' class='xr-var-data-in' type='checkbox'><label for='data-4b044ad1-de49-4142-9f17-5e9e0de847f7' title='Show/Hide data repr'><svg class='icon xr-icon-database'><use xlink:href='#icon-database'></use></svg></label><div class='xr-var-attrs'><dl class='xr-attrs'></dl></div><div class='xr-var-data'><pre>array([      nan,       nan,       nan,       nan, 1667.6349, 1825.7699,\n",
       "             nan, 1410.9888, 1373.2848,       nan, 1502.8584, 1771.3339,\n",
       "       1515.9371,       nan,       nan, 2136.214 , 2200.9983,       nan,\n",
       "       2307.9438, 2344.063 , 2152.41  , 1912.0664, 2561.2988,       nan],\n",
       "      dtype=float32)</pre></div></li><li class='xr-var-item'><div class='xr-var-name'><span>green</span></div><div class='xr-var-dims'>(state_dev)</div><div class='xr-var-dtype'>float32</div><div class='xr-var-preview xr-preview'>nan nan nan ... 2.764e+03 nan</div><input id='attrs-365a4c94-565c-44b4-afe5-3446eb97ffc2' class='xr-var-attrs-in' type='checkbox' disabled><label for='attrs-365a4c94-565c-44b4-afe5-3446eb97ffc2' title='Show/Hide attributes'><svg class='icon xr-icon-file-text2'><use xlink:href='#icon-file-text2'></use></svg></label><input id='data-f95fda32-eb46-48ca-9d9c-6575e26122ae' class='xr-var-data-in' type='checkbox'><label for='data-f95fda32-eb46-48ca-9d9c-6575e26122ae' title='Show/Hide data repr'><svg class='icon xr-icon-database'><use xlink:href='#icon-database'></use></svg></label><div class='xr-var-attrs'><dl class='xr-attrs'></dl></div><div class='xr-var-data'><pre>array([      nan,       nan,       nan,       nan, 1939.2091, 2169.4126,\n",
       "             nan, 1595.6122, 1623.3176,       nan, 1756.5416, 1992.8784,\n",
       "       1759.6006,       nan,       nan, 2071.674 , 2152.751 ,       nan,\n",
       "       2286.9502, 2174.324 , 2265.0247, 2067.8506, 2764.1926,       nan],\n",
       "      dtype=float32)</pre></div></li><li class='xr-var-item'><div class='xr-var-name'><span>blue</span></div><div class='xr-var-dims'>(state_dev)</div><div class='xr-var-dtype'>float32</div><div class='xr-var-preview xr-preview'>nan nan nan ... 2.65e+03 nan</div><input id='attrs-f17a4b45-8f21-45dd-b7d5-4522e827b5bf' class='xr-var-attrs-in' type='checkbox' disabled><label for='attrs-f17a4b45-8f21-45dd-b7d5-4522e827b5bf' title='Show/Hide attributes'><svg class='icon xr-icon-file-text2'><use xlink:href='#icon-file-text2'></use></svg></label><input id='data-f6aa04a0-f574-441a-b393-afcbe995ca85' class='xr-var-data-in' type='checkbox'><label for='data-f6aa04a0-f574-441a-b393-afcbe995ca85' title='Show/Hide data repr'><svg class='icon xr-icon-database'><use xlink:href='#icon-database'></use></svg></label><div class='xr-var-attrs'><dl class='xr-attrs'></dl></div><div class='xr-var-data'><pre>array([      nan,       nan,       nan,       nan, 1730.538 , 2004.7659,\n",
       "             nan, 1354.2742, 1324.0154,       nan, 1402.5626, 1777.6226,\n",
       "       1449.3453,       nan,       nan, 1964.651 , 2134.868 ,       nan,\n",
       "       2319.5193, 1794.5974, 1983.3442, 1629.2656, 2650.4424,       nan],\n",
       "      dtype=float32)</pre></div></li><li class='xr-var-item'><div class='xr-var-name'><span>rededge1</span></div><div class='xr-var-dims'>(state_dev)</div><div class='xr-var-dtype'>float32</div><div class='xr-var-preview xr-preview'>nan nan nan ... 3.157e+03 nan</div><input id='attrs-119f1506-213a-4d6c-aca5-3e5664b3def0' class='xr-var-attrs-in' type='checkbox' disabled><label for='attrs-119f1506-213a-4d6c-aca5-3e5664b3def0' title='Show/Hide attributes'><svg class='icon xr-icon-file-text2'><use xlink:href='#icon-file-text2'></use></svg></label><input id='data-74590dd1-d50b-4ca5-a8aa-712535e86e43' class='xr-var-data-in' type='checkbox'><label for='data-74590dd1-d50b-4ca5-a8aa-712535e86e43' title='Show/Hide data repr'><svg class='icon xr-icon-database'><use xlink:href='#icon-database'></use></svg></label><div class='xr-var-attrs'><dl class='xr-attrs'></dl></div><div class='xr-var-data'><pre>array([      nan,       nan,       nan,       nan, 2269.1619, 2445.8015,\n",
       "             nan, 1912.5758, 1988.8866,       nan, 2139.8716, 2250.869 ,\n",
       "       2123.7178,       nan,       nan, 2416.7217, 2348.5796,       nan,\n",
       "       2525.2908, 3030.053 , 2902.131 , 2898.3765, 3157.172 ,       nan],\n",
       "      dtype=float32)</pre></div></li><li class='xr-var-item'><div class='xr-var-name'><span>rededge2</span></div><div class='xr-var-dims'>(state_dev)</div><div class='xr-var-dtype'>float32</div><div class='xr-var-preview xr-preview'>nan nan nan ... 3.941e+03 nan</div><input id='attrs-684b91fb-cb88-4c2d-8dea-7ee78eb959c0' class='xr-var-attrs-in' type='checkbox' disabled><label for='attrs-684b91fb-cb88-4c2d-8dea-7ee78eb959c0' title='Show/Hide attributes'><svg class='icon xr-icon-file-text2'><use xlink:href='#icon-file-text2'></use></svg></label><input id='data-bc9493cb-ec17-4ecc-9bb9-8f11554670f9' class='xr-var-data-in' type='checkbox'><label for='data-bc9493cb-ec17-4ecc-9bb9-8f11554670f9' title='Show/Hide data repr'><svg class='icon xr-icon-database'><use xlink:href='#icon-database'></use></svg></label><div class='xr-var-attrs'><dl class='xr-attrs'></dl></div><div class='xr-var-data'><pre>array([      nan,       nan,       nan,       nan, 4255.2886, 4853.976 ,\n",
       "             nan, 3555.1902, 3888.978 ,       nan, 3832.9746, 3458.6807,\n",
       "       3272.4475,       nan,       nan, 2461.1506, 2221.7756,       nan,\n",
       "       2571.9692, 3597.5974, 3756.7048, 4183.    , 3941.203 ,       nan],\n",
       "      dtype=float32)</pre></div></li><li class='xr-var-item'><div class='xr-var-name'><span>rededge3</span></div><div class='xr-var-dims'>(state_dev)</div><div class='xr-var-dtype'>float32</div><div class='xr-var-preview xr-preview'>nan nan nan ... 4.401e+03 nan</div><input id='attrs-02da68e5-475f-4eba-8908-fab313c4f9a4' class='xr-var-attrs-in' type='checkbox' disabled><label for='attrs-02da68e5-475f-4eba-8908-fab313c4f9a4' title='Show/Hide attributes'><svg class='icon xr-icon-file-text2'><use xlink:href='#icon-file-text2'></use></svg></label><input id='data-42c4ffc3-fbc7-4b1e-8625-0cfee371a1a9' class='xr-var-data-in' type='checkbox'><label for='data-42c4ffc3-fbc7-4b1e-8625-0cfee371a1a9' title='Show/Hide data repr'><svg class='icon xr-icon-database'><use xlink:href='#icon-database'></use></svg></label><div class='xr-var-attrs'><dl class='xr-attrs'></dl></div><div class='xr-var-data'><pre>array([      nan,       nan,       nan,       nan, 5281.42  , 6629.405 ,\n",
       "             nan, 4521.0083, 4765.602 ,       nan, 4483.318 , 4052.7024,\n",
       "       3585.4407,       nan,       nan, 2557.3223, 2315.3303,       nan,\n",
       "       2699.64  , 3892.064 , 4228.4756, 4682.5537, 4400.96  ,       nan],\n",
       "      dtype=float32)</pre></div></li><li class='xr-var-item'><div class='xr-var-name'><span>nir</span></div><div class='xr-var-dims'>(state_dev)</div><div class='xr-var-dtype'>float32</div><div class='xr-var-preview xr-preview'>nan nan nan ... 4.213e+03 nan</div><input id='attrs-10893fbf-d6b7-47ad-a2fe-82c2a2f3547b' class='xr-var-attrs-in' type='checkbox' disabled><label for='attrs-10893fbf-d6b7-47ad-a2fe-82c2a2f3547b' title='Show/Hide attributes'><svg class='icon xr-icon-file-text2'><use xlink:href='#icon-file-text2'></use></svg></label><input id='data-01e5e261-4376-4bd5-9502-1c63f8e42c90' class='xr-var-data-in' type='checkbox'><label for='data-01e5e261-4376-4bd5-9502-1c63f8e42c90' title='Show/Hide data repr'><svg class='icon xr-icon-database'><use xlink:href='#icon-database'></use></svg></label><div class='xr-var-attrs'><dl class='xr-attrs'></dl></div><div class='xr-var-data'><pre>array([      nan,       nan,       nan,       nan, 5101.1533, 6485.222 ,\n",
       "             nan, 4409.292 , 4641.737 ,       nan, 4333.037 , 3883.091 ,\n",
       "       3441.4602,       nan,       nan, 2497.1482, 2223.9175,       nan,\n",
       "       2629.3433, 3847.288 , 4153.541 , 4736.0957, 4213.423 ,       nan],\n",
       "      dtype=float32)</pre></div></li><li class='xr-var-item'><div class='xr-var-name'><span>swir</span></div><div class='xr-var-dims'>(state_dev)</div><div class='xr-var-dtype'>float32</div><div class='xr-var-preview xr-preview'>nan nan nan ... 3.156e+03 nan</div><input id='attrs-b8b162d6-edaa-4085-91ac-3347b5cc1819' class='xr-var-attrs-in' type='checkbox' disabled><label for='attrs-b8b162d6-edaa-4085-91ac-3347b5cc1819' title='Show/Hide attributes'><svg class='icon xr-icon-file-text2'><use xlink:href='#icon-file-text2'></use></svg></label><input id='data-de1438e0-531d-4fdd-af5a-63a35d7f8d3b' class='xr-var-data-in' type='checkbox'><label for='data-de1438e0-531d-4fdd-af5a-63a35d7f8d3b' title='Show/Hide data repr'><svg class='icon xr-icon-database'><use xlink:href='#icon-database'></use></svg></label><div class='xr-var-attrs'><dl class='xr-attrs'></dl></div><div class='xr-var-data'><pre>array([      nan,       nan,       nan,       nan, 2992.366 , 3314.262 ,\n",
       "             nan, 2798.7856, 2836.8054,       nan, 3039.698 , 2950.484 ,\n",
       "       2721.996 ,       nan,       nan, 2331.8335, 1761.0331,       nan,\n",
       "       2476.4585, 3457.486 , 3178.9016, 3278.8303, 3155.8804,       nan],\n",
       "      dtype=float32)</pre></div></li></ul></div></li><li class='xr-section-item'><input id='section-5962c72c-9bd7-41bc-944d-63cc880e4008' class='xr-section-summary-in' type='checkbox'  ><label for='section-5962c72c-9bd7-41bc-944d-63cc880e4008' class='xr-section-summary' >Indexes: <span>(1)</span></label><div class='xr-section-inline-details'></div><div class='xr-section-details'><ul class='xr-var-list'><li class='xr-var-item'><div class='xr-index-name'><div>state_dev</div></div><div class='xr-index-preview'>PandasIndex</div><div></div><input id='index-b57c8c11-fa2d-4fe1-b8c3-d293c716495b' class='xr-index-data-in' type='checkbox'/><label for='index-b57c8c11-fa2d-4fe1-b8c3-d293c716495b' title='Show/Hide index repr'><svg class='icon xr-icon-database'><use xlink:href='#icon-database'></use></svg></label><div class='xr-index-data'><pre>PandasIndex(Int64Index([23, 22, 21, 20, 19, 18, 17, 16, 15, 14, 13, 12, 11, 10,  9,  8,  7,\n",
       "             6,  5,  4,  3,  2,  1,  0],\n",
       "           dtype=&#x27;int64&#x27;, name=&#x27;state_dev&#x27;))</pre></div></li></ul></div></li><li class='xr-section-item'><input id='section-dfedb570-be2c-4911-ae7a-8998c138223c' class='xr-section-summary-in' type='checkbox' disabled ><label for='section-dfedb570-be2c-4911-ae7a-8998c138223c' class='xr-section-summary'  title='Expand/collapse section'>Attributes: <span>(0)</span></label><div class='xr-section-inline-details'></div><div class='xr-section-details'><dl class='xr-attrs'></dl></div></li></ul></div></div>"
      ],
      "text/plain": [
       "<xarray.Dataset>\n",
       "Dimensions:    (state_dev: 24)\n",
       "Coordinates:\n",
       "    time       (state_dev) object '2022-07-14' '2022-07-09' ... '2022-03-16'\n",
       "  * state_dev  (state_dev) int64 23 22 21 20 19 18 17 16 15 ... 7 6 5 4 3 2 1 0\n",
       "Data variables:\n",
       "    red        (state_dev) float32 nan nan nan nan ... 1.912e+03 2.561e+03 nan\n",
       "    green      (state_dev) float32 nan nan nan nan ... 2.068e+03 2.764e+03 nan\n",
       "    blue       (state_dev) float32 nan nan nan nan ... 1.629e+03 2.65e+03 nan\n",
       "    rededge1   (state_dev) float32 nan nan nan nan ... 2.898e+03 3.157e+03 nan\n",
       "    rededge2   (state_dev) float32 nan nan nan nan ... 4.183e+03 3.941e+03 nan\n",
       "    rededge3   (state_dev) float32 nan nan nan nan ... 4.683e+03 4.401e+03 nan\n",
       "    nir        (state_dev) float32 nan nan nan nan ... 4.736e+03 4.213e+03 nan\n",
       "    swir       (state_dev) float32 nan nan nan nan ... 3.279e+03 3.156e+03 nan"
      ]
     },
     "execution_count": 387,
     "metadata": {},
     "output_type": "execute_result"
    }
   ],
   "source": [
    "xdf"
   ]
  },
  {
   "cell_type": "code",
   "execution_count": 386,
   "id": "5bfd7738",
   "metadata": {},
   "outputs": [],
   "source": [
    "xdf_concat.mean('ts_id', skipna=True).to_netcdf('./test.nc')"
   ]
  },
  {
   "cell_type": "code",
   "execution_count": 349,
   "id": "a231be13",
   "metadata": {},
   "outputs": [
    {
     "data": {
      "text/html": [
       "<div><svg style=\"position: absolute; width: 0; height: 0; overflow: hidden\">\n",
       "<defs>\n",
       "<symbol id=\"icon-database\" viewBox=\"0 0 32 32\">\n",
       "<path d=\"M16 0c-8.837 0-16 2.239-16 5v4c0 2.761 7.163 5 16 5s16-2.239 16-5v-4c0-2.761-7.163-5-16-5z\"></path>\n",
       "<path d=\"M16 17c-8.837 0-16-2.239-16-5v6c0 2.761 7.163 5 16 5s16-2.239 16-5v-6c0 2.761-7.163 5-16 5z\"></path>\n",
       "<path d=\"M16 26c-8.837 0-16-2.239-16-5v6c0 2.761 7.163 5 16 5s16-2.239 16-5v-6c0 2.761-7.163 5-16 5z\"></path>\n",
       "</symbol>\n",
       "<symbol id=\"icon-file-text2\" viewBox=\"0 0 32 32\">\n",
       "<path d=\"M28.681 7.159c-0.694-0.947-1.662-2.053-2.724-3.116s-2.169-2.030-3.116-2.724c-1.612-1.182-2.393-1.319-2.841-1.319h-15.5c-1.378 0-2.5 1.121-2.5 2.5v27c0 1.378 1.122 2.5 2.5 2.5h23c1.378 0 2.5-1.122 2.5-2.5v-19.5c0-0.448-0.137-1.23-1.319-2.841zM24.543 5.457c0.959 0.959 1.712 1.825 2.268 2.543h-4.811v-4.811c0.718 0.556 1.584 1.309 2.543 2.268zM28 29.5c0 0.271-0.229 0.5-0.5 0.5h-23c-0.271 0-0.5-0.229-0.5-0.5v-27c0-0.271 0.229-0.5 0.5-0.5 0 0 15.499-0 15.5 0v7c0 0.552 0.448 1 1 1h7v19.5z\"></path>\n",
       "<path d=\"M23 26h-14c-0.552 0-1-0.448-1-1s0.448-1 1-1h14c0.552 0 1 0.448 1 1s-0.448 1-1 1z\"></path>\n",
       "<path d=\"M23 22h-14c-0.552 0-1-0.448-1-1s0.448-1 1-1h14c0.552 0 1 0.448 1 1s-0.448 1-1 1z\"></path>\n",
       "<path d=\"M23 18h-14c-0.552 0-1-0.448-1-1s0.448-1 1-1h14c0.552 0 1 0.448 1 1s-0.448 1-1 1z\"></path>\n",
       "</symbol>\n",
       "</defs>\n",
       "</svg>\n",
       "<style>/* CSS stylesheet for displaying xarray objects in jupyterlab.\n",
       " *\n",
       " */\n",
       "\n",
       ":root {\n",
       "  --xr-font-color0: var(--jp-content-font-color0, rgba(0, 0, 0, 1));\n",
       "  --xr-font-color2: var(--jp-content-font-color2, rgba(0, 0, 0, 0.54));\n",
       "  --xr-font-color3: var(--jp-content-font-color3, rgba(0, 0, 0, 0.38));\n",
       "  --xr-border-color: var(--jp-border-color2, #e0e0e0);\n",
       "  --xr-disabled-color: var(--jp-layout-color3, #bdbdbd);\n",
       "  --xr-background-color: var(--jp-layout-color0, white);\n",
       "  --xr-background-color-row-even: var(--jp-layout-color1, white);\n",
       "  --xr-background-color-row-odd: var(--jp-layout-color2, #eeeeee);\n",
       "}\n",
       "\n",
       "html[theme=dark],\n",
       "body[data-theme=dark],\n",
       "body.vscode-dark {\n",
       "  --xr-font-color0: rgba(255, 255, 255, 1);\n",
       "  --xr-font-color2: rgba(255, 255, 255, 0.54);\n",
       "  --xr-font-color3: rgba(255, 255, 255, 0.38);\n",
       "  --xr-border-color: #1F1F1F;\n",
       "  --xr-disabled-color: #515151;\n",
       "  --xr-background-color: #111111;\n",
       "  --xr-background-color-row-even: #111111;\n",
       "  --xr-background-color-row-odd: #313131;\n",
       "}\n",
       "\n",
       ".xr-wrap {\n",
       "  display: block !important;\n",
       "  min-width: 300px;\n",
       "  max-width: 700px;\n",
       "}\n",
       "\n",
       ".xr-text-repr-fallback {\n",
       "  /* fallback to plain text repr when CSS is not injected (untrusted notebook) */\n",
       "  display: none;\n",
       "}\n",
       "\n",
       ".xr-header {\n",
       "  padding-top: 6px;\n",
       "  padding-bottom: 6px;\n",
       "  margin-bottom: 4px;\n",
       "  border-bottom: solid 1px var(--xr-border-color);\n",
       "}\n",
       "\n",
       ".xr-header > div,\n",
       ".xr-header > ul {\n",
       "  display: inline;\n",
       "  margin-top: 0;\n",
       "  margin-bottom: 0;\n",
       "}\n",
       "\n",
       ".xr-obj-type,\n",
       ".xr-array-name {\n",
       "  margin-left: 2px;\n",
       "  margin-right: 10px;\n",
       "}\n",
       "\n",
       ".xr-obj-type {\n",
       "  color: var(--xr-font-color2);\n",
       "}\n",
       "\n",
       ".xr-sections {\n",
       "  padding-left: 0 !important;\n",
       "  display: grid;\n",
       "  grid-template-columns: 150px auto auto 1fr 20px 20px;\n",
       "}\n",
       "\n",
       ".xr-section-item {\n",
       "  display: contents;\n",
       "}\n",
       "\n",
       ".xr-section-item input {\n",
       "  display: none;\n",
       "}\n",
       "\n",
       ".xr-section-item input + label {\n",
       "  color: var(--xr-disabled-color);\n",
       "}\n",
       "\n",
       ".xr-section-item input:enabled + label {\n",
       "  cursor: pointer;\n",
       "  color: var(--xr-font-color2);\n",
       "}\n",
       "\n",
       ".xr-section-item input:enabled + label:hover {\n",
       "  color: var(--xr-font-color0);\n",
       "}\n",
       "\n",
       ".xr-section-summary {\n",
       "  grid-column: 1;\n",
       "  color: var(--xr-font-color2);\n",
       "  font-weight: 500;\n",
       "}\n",
       "\n",
       ".xr-section-summary > span {\n",
       "  display: inline-block;\n",
       "  padding-left: 0.5em;\n",
       "}\n",
       "\n",
       ".xr-section-summary-in:disabled + label {\n",
       "  color: var(--xr-font-color2);\n",
       "}\n",
       "\n",
       ".xr-section-summary-in + label:before {\n",
       "  display: inline-block;\n",
       "  content: '►';\n",
       "  font-size: 11px;\n",
       "  width: 15px;\n",
       "  text-align: center;\n",
       "}\n",
       "\n",
       ".xr-section-summary-in:disabled + label:before {\n",
       "  color: var(--xr-disabled-color);\n",
       "}\n",
       "\n",
       ".xr-section-summary-in:checked + label:before {\n",
       "  content: '▼';\n",
       "}\n",
       "\n",
       ".xr-section-summary-in:checked + label > span {\n",
       "  display: none;\n",
       "}\n",
       "\n",
       ".xr-section-summary,\n",
       ".xr-section-inline-details {\n",
       "  padding-top: 4px;\n",
       "  padding-bottom: 4px;\n",
       "}\n",
       "\n",
       ".xr-section-inline-details {\n",
       "  grid-column: 2 / -1;\n",
       "}\n",
       "\n",
       ".xr-section-details {\n",
       "  display: none;\n",
       "  grid-column: 1 / -1;\n",
       "  margin-bottom: 5px;\n",
       "}\n",
       "\n",
       ".xr-section-summary-in:checked ~ .xr-section-details {\n",
       "  display: contents;\n",
       "}\n",
       "\n",
       ".xr-array-wrap {\n",
       "  grid-column: 1 / -1;\n",
       "  display: grid;\n",
       "  grid-template-columns: 20px auto;\n",
       "}\n",
       "\n",
       ".xr-array-wrap > label {\n",
       "  grid-column: 1;\n",
       "  vertical-align: top;\n",
       "}\n",
       "\n",
       ".xr-preview {\n",
       "  color: var(--xr-font-color3);\n",
       "}\n",
       "\n",
       ".xr-array-preview,\n",
       ".xr-array-data {\n",
       "  padding: 0 5px !important;\n",
       "  grid-column: 2;\n",
       "}\n",
       "\n",
       ".xr-array-data,\n",
       ".xr-array-in:checked ~ .xr-array-preview {\n",
       "  display: none;\n",
       "}\n",
       "\n",
       ".xr-array-in:checked ~ .xr-array-data,\n",
       ".xr-array-preview {\n",
       "  display: inline-block;\n",
       "}\n",
       "\n",
       ".xr-dim-list {\n",
       "  display: inline-block !important;\n",
       "  list-style: none;\n",
       "  padding: 0 !important;\n",
       "  margin: 0;\n",
       "}\n",
       "\n",
       ".xr-dim-list li {\n",
       "  display: inline-block;\n",
       "  padding: 0;\n",
       "  margin: 0;\n",
       "}\n",
       "\n",
       ".xr-dim-list:before {\n",
       "  content: '(';\n",
       "}\n",
       "\n",
       ".xr-dim-list:after {\n",
       "  content: ')';\n",
       "}\n",
       "\n",
       ".xr-dim-list li:not(:last-child):after {\n",
       "  content: ',';\n",
       "  padding-right: 5px;\n",
       "}\n",
       "\n",
       ".xr-has-index {\n",
       "  font-weight: bold;\n",
       "}\n",
       "\n",
       ".xr-var-list,\n",
       ".xr-var-item {\n",
       "  display: contents;\n",
       "}\n",
       "\n",
       ".xr-var-item > div,\n",
       ".xr-var-item label,\n",
       ".xr-var-item > .xr-var-name span {\n",
       "  background-color: var(--xr-background-color-row-even);\n",
       "  margin-bottom: 0;\n",
       "}\n",
       "\n",
       ".xr-var-item > .xr-var-name:hover span {\n",
       "  padding-right: 5px;\n",
       "}\n",
       "\n",
       ".xr-var-list > li:nth-child(odd) > div,\n",
       ".xr-var-list > li:nth-child(odd) > label,\n",
       ".xr-var-list > li:nth-child(odd) > .xr-var-name span {\n",
       "  background-color: var(--xr-background-color-row-odd);\n",
       "}\n",
       "\n",
       ".xr-var-name {\n",
       "  grid-column: 1;\n",
       "}\n",
       "\n",
       ".xr-var-dims {\n",
       "  grid-column: 2;\n",
       "}\n",
       "\n",
       ".xr-var-dtype {\n",
       "  grid-column: 3;\n",
       "  text-align: right;\n",
       "  color: var(--xr-font-color2);\n",
       "}\n",
       "\n",
       ".xr-var-preview {\n",
       "  grid-column: 4;\n",
       "}\n",
       "\n",
       ".xr-index-preview {\n",
       "  grid-column: 2 / 5;\n",
       "  color: var(--xr-font-color2);\n",
       "}\n",
       "\n",
       ".xr-var-name,\n",
       ".xr-var-dims,\n",
       ".xr-var-dtype,\n",
       ".xr-preview,\n",
       ".xr-attrs dt {\n",
       "  white-space: nowrap;\n",
       "  overflow: hidden;\n",
       "  text-overflow: ellipsis;\n",
       "  padding-right: 10px;\n",
       "}\n",
       "\n",
       ".xr-var-name:hover,\n",
       ".xr-var-dims:hover,\n",
       ".xr-var-dtype:hover,\n",
       ".xr-attrs dt:hover {\n",
       "  overflow: visible;\n",
       "  width: auto;\n",
       "  z-index: 1;\n",
       "}\n",
       "\n",
       ".xr-var-attrs,\n",
       ".xr-var-data,\n",
       ".xr-index-data {\n",
       "  display: none;\n",
       "  background-color: var(--xr-background-color) !important;\n",
       "  padding-bottom: 5px !important;\n",
       "}\n",
       "\n",
       ".xr-var-attrs-in:checked ~ .xr-var-attrs,\n",
       ".xr-var-data-in:checked ~ .xr-var-data,\n",
       ".xr-index-data-in:checked ~ .xr-index-data {\n",
       "  display: block;\n",
       "}\n",
       "\n",
       ".xr-var-data > table {\n",
       "  float: right;\n",
       "}\n",
       "\n",
       ".xr-var-name span,\n",
       ".xr-var-data,\n",
       ".xr-index-name div,\n",
       ".xr-index-data,\n",
       ".xr-attrs {\n",
       "  padding-left: 25px !important;\n",
       "}\n",
       "\n",
       ".xr-attrs,\n",
       ".xr-var-attrs,\n",
       ".xr-var-data,\n",
       ".xr-index-data {\n",
       "  grid-column: 1 / -1;\n",
       "}\n",
       "\n",
       "dl.xr-attrs {\n",
       "  padding: 0;\n",
       "  margin: 0;\n",
       "  display: grid;\n",
       "  grid-template-columns: 125px auto;\n",
       "}\n",
       "\n",
       ".xr-attrs dt,\n",
       ".xr-attrs dd {\n",
       "  padding: 0;\n",
       "  margin: 0;\n",
       "  float: left;\n",
       "  padding-right: 10px;\n",
       "  width: auto;\n",
       "}\n",
       "\n",
       ".xr-attrs dt {\n",
       "  font-weight: normal;\n",
       "  grid-column: 1;\n",
       "}\n",
       "\n",
       ".xr-attrs dt:hover span {\n",
       "  display: inline-block;\n",
       "  background: var(--xr-background-color);\n",
       "  padding-right: 10px;\n",
       "}\n",
       "\n",
       ".xr-attrs dd {\n",
       "  grid-column: 2;\n",
       "  white-space: pre-wrap;\n",
       "  word-break: break-all;\n",
       "}\n",
       "\n",
       ".xr-icon-database,\n",
       ".xr-icon-file-text2,\n",
       ".xr-no-icon {\n",
       "  display: inline-block;\n",
       "  vertical-align: middle;\n",
       "  width: 1em;\n",
       "  height: 1.5em !important;\n",
       "  stroke-width: 0;\n",
       "  stroke: currentColor;\n",
       "  fill: currentColor;\n",
       "}\n",
       "</style><pre class='xr-text-repr-fallback'>&lt;xarray.Dataset&gt;\n",
       "Dimensions:    (ts_id: 3, state_dev: 25)\n",
       "Coordinates:\n",
       "    time       (ts_id, state_dev) object &#x27;2022-03-11&#x27; ... &#x27;2022-08-03&#x27;\n",
       "  * state_dev  (state_dev) int64 0 1 2 3 4 5 6 7 8 ... 17 18 19 20 21 22 23 24\n",
       "Dimensions without coordinates: ts_id\n",
       "Data variables:\n",
       "    red        (ts_id, state_dev) float32 1.541e+03 1.969e+03 ... 2.178e+03 nan\n",
       "    green      (ts_id, state_dev) float32 1.81e+03 1.842e+03 ... 2.14e+03 nan\n",
       "    blue       (ts_id, state_dev) float32 1.466e+03 1.57e+03 ... 1.754e+03 nan\n",
       "    B05        (ts_id, state_dev) float32 2.291e+03 2.428e+03 ... 2.977e+03 nan\n",
       "    B06        (ts_id, state_dev) float32 3.94e+03 3.188e+03 ... 4.259e+03 nan\n",
       "    B07        (ts_id, state_dev) float32 4.825e+03 3.533e+03 ... 4.862e+03 nan\n",
       "    nir        (ts_id, state_dev) float32 4.854e+03 3.466e+03 ... 4.787e+03 nan\n",
       "    B11        (ts_id, state_dev) float32 2.617e+03 3.081e+03 ... 3.931e+03 nan\n",
       "    SCL        (ts_id, state_dev) float32 4.0 4.51 7.0 4.037 ... 7.0 4.299 nan</pre><div class='xr-wrap' style='display:none'><div class='xr-header'><div class='xr-obj-type'>xarray.Dataset</div></div><ul class='xr-sections'><li class='xr-section-item'><input id='section-1a143fe7-e4e8-40a9-a867-962a843ee12c' class='xr-section-summary-in' type='checkbox' disabled ><label for='section-1a143fe7-e4e8-40a9-a867-962a843ee12c' class='xr-section-summary'  title='Expand/collapse section'>Dimensions:</label><div class='xr-section-inline-details'><ul class='xr-dim-list'><li><span>ts_id</span>: 3</li><li><span class='xr-has-index'>state_dev</span>: 25</li></ul></div><div class='xr-section-details'></div></li><li class='xr-section-item'><input id='section-8b454a37-8b31-4730-8c40-1a07de1c624e' class='xr-section-summary-in' type='checkbox'  checked><label for='section-8b454a37-8b31-4730-8c40-1a07de1c624e' class='xr-section-summary' >Coordinates: <span>(2)</span></label><div class='xr-section-inline-details'></div><div class='xr-section-details'><ul class='xr-var-list'><li class='xr-var-item'><div class='xr-var-name'><span>time</span></div><div class='xr-var-dims'>(ts_id, state_dev)</div><div class='xr-var-dtype'>object</div><div class='xr-var-preview xr-preview'>&#x27;2022-03-11&#x27; ... &#x27;2022-08-03&#x27;</div><input id='attrs-927bafc4-b8ce-459a-b879-e5eb06b28043' class='xr-var-attrs-in' type='checkbox' disabled><label for='attrs-927bafc4-b8ce-459a-b879-e5eb06b28043' title='Show/Hide attributes'><svg class='icon xr-icon-file-text2'><use xlink:href='#icon-file-text2'></use></svg></label><input id='data-188c25d8-1120-4c11-a0e3-8bdb046e1e83' class='xr-var-data-in' type='checkbox'><label for='data-188c25d8-1120-4c11-a0e3-8bdb046e1e83' title='Show/Hide data repr'><svg class='icon xr-icon-database'><use xlink:href='#icon-database'></use></svg></label><div class='xr-var-attrs'><dl class='xr-attrs'></dl></div><div class='xr-var-data'><pre>array([[&#x27;2022-03-11&#x27;, &#x27;2022-03-16&#x27;, &#x27;2022-03-21&#x27;, &#x27;2022-03-26&#x27;,\n",
       "        &#x27;2022-03-31&#x27;, &#x27;2022-04-05&#x27;, &#x27;2022-04-10&#x27;, &#x27;2022-04-15&#x27;,\n",
       "        &#x27;2022-04-20&#x27;, &#x27;2022-04-25&#x27;, &#x27;2022-04-30&#x27;, &#x27;2022-05-10&#x27;,\n",
       "        &#x27;2022-05-15&#x27;, &#x27;2022-05-20&#x27;, &#x27;2022-05-25&#x27;, &#x27;2022-05-30&#x27;,\n",
       "        &#x27;2022-06-04&#x27;, &#x27;2022-06-09&#x27;, &#x27;2022-06-14&#x27;, &#x27;2022-06-19&#x27;,\n",
       "        &#x27;2022-06-24&#x27;, &#x27;2022-06-29&#x27;, &#x27;2022-07-04&#x27;, &#x27;2022-07-09&#x27;,\n",
       "        &#x27;2022-07-14&#x27;],\n",
       "       [&#x27;2022-03-31&#x27;, &#x27;2022-04-05&#x27;, &#x27;2022-04-10&#x27;, &#x27;2022-04-15&#x27;,\n",
       "        &#x27;2022-04-20&#x27;, &#x27;2022-04-25&#x27;, &#x27;2022-04-30&#x27;, &#x27;2022-05-10&#x27;,\n",
       "        &#x27;2022-05-15&#x27;, &#x27;2022-05-20&#x27;, &#x27;2022-05-25&#x27;, &#x27;2022-05-30&#x27;,\n",
       "        &#x27;2022-06-04&#x27;, &#x27;2022-06-09&#x27;, &#x27;2022-06-14&#x27;, &#x27;2022-06-19&#x27;,\n",
       "        &#x27;2022-06-24&#x27;, &#x27;2022-06-29&#x27;, &#x27;2022-07-04&#x27;, &#x27;2022-07-09&#x27;,\n",
       "        &#x27;2022-07-14&#x27;, &#x27;2022-07-19&#x27;, &#x27;2022-07-24&#x27;, &#x27;2022-07-29&#x27;,\n",
       "        &#x27;2022-08-03&#x27;],\n",
       "       [&#x27;2022-03-31&#x27;, &#x27;2022-04-05&#x27;, &#x27;2022-04-10&#x27;, &#x27;2022-04-15&#x27;,\n",
       "        &#x27;2022-04-20&#x27;, &#x27;2022-04-25&#x27;, &#x27;2022-04-30&#x27;, &#x27;2022-05-10&#x27;,\n",
       "        &#x27;2022-05-15&#x27;, &#x27;2022-05-20&#x27;, &#x27;2022-05-25&#x27;, &#x27;2022-05-30&#x27;,\n",
       "        &#x27;2022-06-04&#x27;, &#x27;2022-06-09&#x27;, &#x27;2022-06-14&#x27;, &#x27;2022-06-19&#x27;,\n",
       "        &#x27;2022-06-24&#x27;, &#x27;2022-06-29&#x27;, &#x27;2022-07-04&#x27;, &#x27;2022-07-09&#x27;,\n",
       "        &#x27;2022-07-14&#x27;, &#x27;2022-07-19&#x27;, &#x27;2022-07-24&#x27;, &#x27;2022-07-29&#x27;,\n",
       "        &#x27;2022-08-03&#x27;]], dtype=object)</pre></div></li><li class='xr-var-item'><div class='xr-var-name'><span class='xr-has-index'>state_dev</span></div><div class='xr-var-dims'>(state_dev)</div><div class='xr-var-dtype'>int64</div><div class='xr-var-preview xr-preview'>0 1 2 3 4 5 6 ... 19 20 21 22 23 24</div><input id='attrs-e1e54305-4785-42b5-8181-91922c553f2d' class='xr-var-attrs-in' type='checkbox' disabled><label for='attrs-e1e54305-4785-42b5-8181-91922c553f2d' title='Show/Hide attributes'><svg class='icon xr-icon-file-text2'><use xlink:href='#icon-file-text2'></use></svg></label><input id='data-8f1ffe2d-0d78-48f8-a07d-cb2248020f3e' class='xr-var-data-in' type='checkbox'><label for='data-8f1ffe2d-0d78-48f8-a07d-cb2248020f3e' title='Show/Hide data repr'><svg class='icon xr-icon-database'><use xlink:href='#icon-database'></use></svg></label><div class='xr-var-attrs'><dl class='xr-attrs'></dl></div><div class='xr-var-data'><pre>array([ 0,  1,  2,  3,  4,  5,  6,  7,  8,  9, 10, 11, 12, 13, 14, 15, 16, 17,\n",
       "       18, 19, 20, 21, 22, 23, 24])</pre></div></li></ul></div></li><li class='xr-section-item'><input id='section-e7e878dd-d61f-4e8f-b4d0-b19dec3ee121' class='xr-section-summary-in' type='checkbox'  checked><label for='section-e7e878dd-d61f-4e8f-b4d0-b19dec3ee121' class='xr-section-summary' >Data variables: <span>(9)</span></label><div class='xr-section-inline-details'></div><div class='xr-section-details'><ul class='xr-var-list'><li class='xr-var-item'><div class='xr-var-name'><span>red</span></div><div class='xr-var-dims'>(ts_id, state_dev)</div><div class='xr-var-dtype'>float32</div><div class='xr-var-preview xr-preview'>1.541e+03 1.969e+03 ... nan</div><input id='attrs-1c79e699-7815-4314-a58f-a5a9684cc386' class='xr-var-attrs-in' type='checkbox' disabled><label for='attrs-1c79e699-7815-4314-a58f-a5a9684cc386' title='Show/Hide attributes'><svg class='icon xr-icon-file-text2'><use xlink:href='#icon-file-text2'></use></svg></label><input id='data-6f47fb15-2865-495a-9b7a-2473fd110443' class='xr-var-data-in' type='checkbox'><label for='data-6f47fb15-2865-495a-9b7a-2473fd110443' title='Show/Hide data repr'><svg class='icon xr-icon-database'><use xlink:href='#icon-database'></use></svg></label><div class='xr-var-attrs'><dl class='xr-attrs'></dl></div><div class='xr-var-data'><pre>array([[1541.1338, 1968.5442, 2561.2988, 1912.0664, 2152.41  , 2344.063 ,\n",
       "        2307.9438, 1799.22  , 2200.9983, 2136.214 , 1452.3589,       nan,\n",
       "        1515.9371, 1771.3339, 1502.8584, 1730.2365, 1373.2848, 1410.9888,\n",
       "              nan, 1825.7699, 1667.6349, 1659.7045, 2558.    , 1743.026 ,\n",
       "              nan],\n",
       "       [1458.5   , 1472.6149, 2283.2678, 2580.1458, 2101.3616, 1932.3834,\n",
       "        2307.9438, 1948.5   , 1511.2583, 2377.029 , 1452.3589,       nan,\n",
       "        1560.6122, 1409.5106, 1839.7408, 1730.2365, 1422.5688, 1410.9888,\n",
       "              nan, 1708.5206, 1932.2424, 1505.6222, 2558.    , 1308.0093,\n",
       "              nan],\n",
       "       [1499.8169, 2464.4734, 2399.55  , 2318.1365, 2158.6167, 2024.0758,\n",
       "        2307.9438, 1649.94  , 1383.7003, 1292.1144, 1452.3589,       nan,\n",
       "        1793.532 , 1341.273 , 1781.0686, 1730.2365, 1397.9268, 1410.9888,\n",
       "              nan, 2051.7422, 2196.85  , 1813.7867, 2558.    , 2178.0427,\n",
       "              nan]], dtype=float32)</pre></div></li><li class='xr-var-item'><div class='xr-var-name'><span>green</span></div><div class='xr-var-dims'>(ts_id, state_dev)</div><div class='xr-var-dtype'>float32</div><div class='xr-var-preview xr-preview'>1.81e+03 1.842e+03 ... 2.14e+03 nan</div><input id='attrs-2297499d-d632-46b3-8fbc-9a661ea2e626' class='xr-var-attrs-in' type='checkbox' disabled><label for='attrs-2297499d-d632-46b3-8fbc-9a661ea2e626' title='Show/Hide attributes'><svg class='icon xr-icon-file-text2'><use xlink:href='#icon-file-text2'></use></svg></label><input id='data-3a8563c8-13f2-47f8-b91b-883cb12b0d64' class='xr-var-data-in' type='checkbox'><label for='data-3a8563c8-13f2-47f8-b91b-883cb12b0d64' title='Show/Hide data repr'><svg class='icon xr-icon-database'><use xlink:href='#icon-database'></use></svg></label><div class='xr-var-attrs'><dl class='xr-attrs'></dl></div><div class='xr-var-data'><pre>array([[1810.4436, 1841.7627, 2764.1926, 2067.8506, 2265.0247, 2174.324 ,\n",
       "        2286.9502, 2056.7234, 2152.751 , 2071.674 , 1782.9031,       nan,\n",
       "        1759.6006, 1992.8784, 1756.5416, 2055.4495, 1623.3176, 1595.6122,\n",
       "              nan, 2169.4126, 1939.2091, 1837.7295, 2635.    , 1847.6492,\n",
       "              nan],\n",
       "       [1696.75  , 1603.0255, 2504.6016, 2976.0208, 2303.3083, 1998.0319,\n",
       "        2286.9502, 2154.0667, 1699.7704, 2613.9653, 1782.9031,       nan,\n",
       "        1763.613 , 1550.8315, 2096.7197, 2055.4495, 1614.5608, 1595.6122,\n",
       "              nan, 1921.6573, 2159.4192, 1707.5844, 2635.    , 1555.6229,\n",
       "              nan],\n",
       "       [1753.5968, 2080.5   , 2308.417 , 2495.1365, 2115.3857, 1972.1709,\n",
       "        2286.9502, 1959.38  , 1711.2119, 1590.0255, 1782.9031,       nan,\n",
       "        2150.524 , 1542.4105, 2089.0195, 2055.4495, 1618.9392, 1595.6122,\n",
       "              nan, 2307.4805, 2379.6292, 1967.8746, 2635.    , 2139.6753,\n",
       "              nan]], dtype=float32)</pre></div></li><li class='xr-var-item'><div class='xr-var-name'><span>blue</span></div><div class='xr-var-dims'>(ts_id, state_dev)</div><div class='xr-var-dtype'>float32</div><div class='xr-var-preview xr-preview'>1.466e+03 1.57e+03 ... nan</div><input id='attrs-cc6b5c6d-01af-4f07-83ac-da9ae12e4029' class='xr-var-attrs-in' type='checkbox' disabled><label for='attrs-cc6b5c6d-01af-4f07-83ac-da9ae12e4029' title='Show/Hide attributes'><svg class='icon xr-icon-file-text2'><use xlink:href='#icon-file-text2'></use></svg></label><input id='data-59958eae-238f-4848-9344-04fa51165160' class='xr-var-data-in' type='checkbox'><label for='data-59958eae-238f-4848-9344-04fa51165160' title='Show/Hide data repr'><svg class='icon xr-icon-database'><use xlink:href='#icon-database'></use></svg></label><div class='xr-var-attrs'><dl class='xr-attrs'></dl></div><div class='xr-var-data'><pre>array([[1466.0442, 1570.0964, 2650.4424, 1629.2656, 1983.3442, 1794.5974,\n",
       "        2319.5193, 2135.2002, 2134.868 , 1964.651 , 1385.9263,       nan,\n",
       "        1449.3453, 1777.6226, 1402.5626, 1860.9723, 1324.0154, 1354.2742,\n",
       "              nan, 2004.7659, 1730.538 , 1527.1897, 2593.25  , 1542.4645,\n",
       "              nan],\n",
       "       [1512.5   , 1366.8933, 2550.977 , 3171.625 , 2330.6602, 1821.9056,\n",
       "        2319.5193, 2371.6   , 1462.8912, 2635.7917, 1385.9263,       nan,\n",
       "        1575.854 , 1336.9506, 1926.9336, 1860.9723, 1442.2383, 1354.2742,\n",
       "              nan, 1749.0172, 1893.7007, 1510.1732, 2593.25  , 1330.5614,\n",
       "              nan],\n",
       "       [1489.2721, 1773.2997, 2311.5703, 2726.8635, 2173.0754, 1838.0325,\n",
       "        2319.5193, 1898.8   , 1375.7032, 1303.2549, 1385.9263,       nan,\n",
       "        1919.4128, 1305.7405, 1886.5352, 1860.9723, 1383.1268, 1354.2742,\n",
       "              nan, 2035.8066, 2056.8633, 1544.206 , 2593.25  , 1754.3676,\n",
       "              nan]], dtype=float32)</pre></div></li><li class='xr-var-item'><div class='xr-var-name'><span>B05</span></div><div class='xr-var-dims'>(ts_id, state_dev)</div><div class='xr-var-dtype'>float32</div><div class='xr-var-preview xr-preview'>2.291e+03 2.428e+03 ... nan</div><input id='attrs-69133095-8a37-4ece-a3e3-7cd8b85a487d' class='xr-var-attrs-in' type='checkbox' disabled><label for='attrs-69133095-8a37-4ece-a3e3-7cd8b85a487d' title='Show/Hide attributes'><svg class='icon xr-icon-file-text2'><use xlink:href='#icon-file-text2'></use></svg></label><input id='data-9b3a2669-8f52-4b47-bae2-c75c03b99495' class='xr-var-data-in' type='checkbox'><label for='data-9b3a2669-8f52-4b47-bae2-c75c03b99495' title='Show/Hide data repr'><svg class='icon xr-icon-database'><use xlink:href='#icon-database'></use></svg></label><div class='xr-var-attrs'><dl class='xr-attrs'></dl></div><div class='xr-var-data'><pre>array([[2290.9277, 2428.1538, 3157.172 , 2898.3765, 2902.131 , 3030.053 ,\n",
       "        2525.2908, 2064.1   , 2348.5796, 2416.7217, 2179.5586,       nan,\n",
       "        2123.7178, 2250.869 , 2139.8716, 2367.6753, 1988.8866, 1912.5758,\n",
       "              nan, 2445.8015, 2269.1619, 2357.5361, 3039.    , 2417.7002,\n",
       "              nan],\n",
       "       [1990.    , 1967.3773, 2657.4739, 2981.2083, 2422.9878, 2414.5771,\n",
       "        2525.2908, 2117.2   , 2005.077 , 2856.892 , 2179.5586,       nan,\n",
       "        2028.679 , 1834.7213, 2434.3135, 2367.6753, 1867.6215, 1912.5758,\n",
       "              nan, 2198.0337, 2579.647 , 1996.6627, 3039.    , 1858.8359,\n",
       "              nan],\n",
       "       [2140.4639, 2888.9304, 2639.8164, 2387.5454, 2285.9902, 2315.811 ,\n",
       "        2525.2908, 2011.    , 2054.8584, 1870.7329, 2179.5586,       nan,\n",
       "        2471.1719, 1858.2485, 2436.969 , 2367.6753, 1928.254 , 1912.5758,\n",
       "              nan, 2796.1582, 2890.1318, 2718.4094, 3039.    , 2976.5642,\n",
       "              nan]], dtype=float32)</pre></div></li><li class='xr-var-item'><div class='xr-var-name'><span>B06</span></div><div class='xr-var-dims'>(ts_id, state_dev)</div><div class='xr-var-dtype'>float32</div><div class='xr-var-preview xr-preview'>3.94e+03 3.188e+03 ... nan</div><input id='attrs-63d9431e-2f6b-4545-8c66-a9ce7bba0d68' class='xr-var-attrs-in' type='checkbox' disabled><label for='attrs-63d9431e-2f6b-4545-8c66-a9ce7bba0d68' title='Show/Hide attributes'><svg class='icon xr-icon-file-text2'><use xlink:href='#icon-file-text2'></use></svg></label><input id='data-5ca20796-7834-4b81-8527-35e83c9bdbd5' class='xr-var-data-in' type='checkbox'><label for='data-5ca20796-7834-4b81-8527-35e83c9bdbd5' title='Show/Hide data repr'><svg class='icon xr-icon-database'><use xlink:href='#icon-database'></use></svg></label><div class='xr-var-attrs'><dl class='xr-attrs'></dl></div><div class='xr-var-data'><pre>array([[3940.0342, 3187.603 , 3941.203 , 4183.    , 3756.7048, 3597.5974,\n",
       "        2571.9692, 2609.567 , 2221.7756, 2461.1506, 3904.4553,       nan,\n",
       "        3272.4475, 3458.6807, 3832.9746, 4360.575 , 3888.978 , 3555.1902,\n",
       "              nan, 4853.976 , 4255.2886, 3666.249 , 3487.5   , 3937.6934,\n",
       "              nan],\n",
       "       [3730.    , 3178.7449, 3395.4626, 4260.771 , 3249.9587, 3477.6436,\n",
       "        2571.9692, 2630.5334, 3775.3716, 3771.728 , 3904.4553,       nan,\n",
       "        3225.5996, 3013.4429, 4027.0037, 4360.575 , 2983.5032, 3555.1902,\n",
       "              nan, 3581.1616, 4189.7075, 3272.5178, 3487.5   , 3616.1648,\n",
       "              nan],\n",
       "       [3835.017 , 3196.4612, 2794.9734, 2353.2727, 2195.1265, 2473.5198,\n",
       "        2571.9692, 2588.6   , 3368.5623, 3309.1917, 3904.4553,       nan,\n",
       "        4279.2275, 3449.871 , 4506.9214, 4360.575 , 3436.2407, 3555.1902,\n",
       "              nan, 4304.1694, 4124.1265, 4059.9802, 3487.5   , 4259.222 ,\n",
       "              nan]], dtype=float32)</pre></div></li><li class='xr-var-item'><div class='xr-var-name'><span>B07</span></div><div class='xr-var-dims'>(ts_id, state_dev)</div><div class='xr-var-dtype'>float32</div><div class='xr-var-preview xr-preview'>4.825e+03 3.533e+03 ... nan</div><input id='attrs-1e58dd39-001c-471f-9894-f0abb07d2347' class='xr-var-attrs-in' type='checkbox' disabled><label for='attrs-1e58dd39-001c-471f-9894-f0abb07d2347' title='Show/Hide attributes'><svg class='icon xr-icon-file-text2'><use xlink:href='#icon-file-text2'></use></svg></label><input id='data-edc8a668-0ab0-41c7-947c-d4b65de1524d' class='xr-var-data-in' type='checkbox'><label for='data-edc8a668-0ab0-41c7-947c-d4b65de1524d' title='Show/Hide data repr'><svg class='icon xr-icon-database'><use xlink:href='#icon-database'></use></svg></label><div class='xr-var-attrs'><dl class='xr-attrs'></dl></div><div class='xr-var-data'><pre>array([[4824.602 , 3532.9907, 4400.96  , 4682.5537, 4228.4756, 3892.064 ,\n",
       "        2699.64  , 2883.9067, 2315.3303, 2557.3223, 4463.8945,       nan,\n",
       "        3585.4407, 4052.7024, 4483.318 , 5253.885 , 4765.602 , 4521.0083,\n",
       "              nan, 6629.405 , 5281.42  , 4254.015 , 3733.    , 4609.4775,\n",
       "              nan],\n",
       "       [4461.    , 3643.9758, 3800.7192, 4879.729 , 3692.801 , 3942.91  ,\n",
       "        2699.64  , 2995.5334, 4529.181 , 4209.9287, 4463.8945,       nan,\n",
       "        3708.2344, 3530.217 , 4686.4634, 5253.885 , 3388.4736, 4521.0083,\n",
       "              nan, 4207.0347, 4961.793 , 3836.6787, 3733.    , 4356.4766,\n",
       "              nan],\n",
       "       [4642.801 , 3422.0059, 2991.2625, 2384.818 , 2274.2676, 2601.3105,\n",
       "        2699.64  , 2772.28  , 3686.3972, 3853.2893, 4463.8945,       nan,\n",
       "        4993.849 , 4254.9595, 5531.6685, 5253.885 , 4077.0378, 4521.0083,\n",
       "              nan, 5085.191 , 4642.1665, 4671.3516, 3733.    , 4862.4785,\n",
       "              nan]], dtype=float32)</pre></div></li><li class='xr-var-item'><div class='xr-var-name'><span>nir</span></div><div class='xr-var-dims'>(ts_id, state_dev)</div><div class='xr-var-dtype'>float32</div><div class='xr-var-preview xr-preview'>4.854e+03 3.466e+03 ... nan</div><input id='attrs-827d9173-78f6-4e94-b7a2-e65eaf78f2a8' class='xr-var-attrs-in' type='checkbox' disabled><label for='attrs-827d9173-78f6-4e94-b7a2-e65eaf78f2a8' title='Show/Hide attributes'><svg class='icon xr-icon-file-text2'><use xlink:href='#icon-file-text2'></use></svg></label><input id='data-b5f71b03-bdb6-4a22-8c58-f5d48e73f48a' class='xr-var-data-in' type='checkbox'><label for='data-b5f71b03-bdb6-4a22-8c58-f5d48e73f48a' title='Show/Hide data repr'><svg class='icon xr-icon-database'><use xlink:href='#icon-database'></use></svg></label><div class='xr-var-attrs'><dl class='xr-attrs'></dl></div><div class='xr-var-data'><pre>array([[4853.5864, 3466.2224, 4213.423 , 4736.0957, 4153.541 , 3847.288 ,\n",
       "        2629.3433, 2721.9133, 2223.9175, 2497.1482, 4323.129 ,       nan,\n",
       "        3441.4602, 3883.091 , 4333.037 , 5014.2725, 4641.737 , 4409.292 ,\n",
       "              nan, 6485.222 , 5101.1533, 4143.329 , 3454.75  , 4497.0176,\n",
       "              nan],\n",
       "       [4487.    , 3549.569 , 3739.136 , 4835.1665, 3675.0728, 3861.4846,\n",
       "        2629.3433, 2884.0667, 4421.4893, 4056.893 , 4323.129 ,       nan,\n",
       "        3579.7334, 3424.2412, 4551.8604, 5014.2725, 3244.87  , 4409.292 ,\n",
       "              nan, 4043.2898, 4776.0522, 3700.654 , 3454.75  , 4207.0957,\n",
       "              nan],\n",
       "       [4670.293 , 3382.8757, 2943.7573, 2273.4773, 2242.7227, 2566.42  ,\n",
       "        2629.3433, 2559.76  , 3543.9546, 3657.756 , 4323.129 ,       nan,\n",
       "        4781.096 , 4151.128 , 5396.268 , 5014.2725, 3943.3035, 4409.292 ,\n",
       "              nan, 4890.7485, 4450.951 , 4586.004 , 3454.75  , 4786.94  ,\n",
       "              nan]], dtype=float32)</pre></div></li><li class='xr-var-item'><div class='xr-var-name'><span>B11</span></div><div class='xr-var-dims'>(ts_id, state_dev)</div><div class='xr-var-dtype'>float32</div><div class='xr-var-preview xr-preview'>2.617e+03 3.081e+03 ... nan</div><input id='attrs-cd052e95-3b67-4955-b413-cbd146932236' class='xr-var-attrs-in' type='checkbox' disabled><label for='attrs-cd052e95-3b67-4955-b413-cbd146932236' title='Show/Hide attributes'><svg class='icon xr-icon-file-text2'><use xlink:href='#icon-file-text2'></use></svg></label><input id='data-c0db393c-9a1c-4fd5-bee6-60a44708ac10' class='xr-var-data-in' type='checkbox'><label for='data-c0db393c-9a1c-4fd5-bee6-60a44708ac10' title='Show/Hide data repr'><svg class='icon xr-icon-database'><use xlink:href='#icon-database'></use></svg></label><div class='xr-var-attrs'><dl class='xr-attrs'></dl></div><div class='xr-var-data'><pre>array([[2616.7612, 3080.954 , 3155.8804, 3278.8303, 3178.9016, 3457.486 ,\n",
       "        2476.4585, 2051.9734, 1761.0331, 2331.8335, 3040.265 ,       nan,\n",
       "        2721.996 , 2950.484 , 3039.698 , 3051.8062, 2836.8054, 2798.7856,\n",
       "              nan, 3314.262 , 2992.366 , 2704.6377, 2887.5   , 3289.6357,\n",
       "              nan],\n",
       "       [2581.    , 2459.0884, 2842.5603, 3067.7917, 2706.4392, 3230.4355,\n",
       "        2476.4585, 2039.2667, 2778.8596, 3187.472 , 3040.265 ,       nan,\n",
       "        2250.6572, 2262.0366, 2903.7366, 3051.8062, 2158.535 , 2798.7856,\n",
       "              nan, 2777.7969, 2984.5303, 2404.3096, 2887.5   , 2648.5022,\n",
       "              nan],\n",
       "       [2598.8806, 3702.82  , 3174.2856, 1588.1818, 2277.3528, 2932.8242,\n",
       "        2476.4585, 2064.68  , 2790.6782, 2760.7224, 3040.265 ,       nan,\n",
       "        3019.965 , 2709.978 , 3118.915 , 3051.8062, 2497.6702, 2798.7856,\n",
       "              nan, 3058.2773, 2976.6943, 3004.9658, 2887.5   , 3930.7693,\n",
       "              nan]], dtype=float32)</pre></div></li><li class='xr-var-item'><div class='xr-var-name'><span>SCL</span></div><div class='xr-var-dims'>(ts_id, state_dev)</div><div class='xr-var-dtype'>float32</div><div class='xr-var-preview xr-preview'>4.0 4.51 7.0 ... 7.0 4.299 nan</div><input id='attrs-78238649-918b-43ef-a31e-6c49bf087862' class='xr-var-attrs-in' type='checkbox' disabled><label for='attrs-78238649-918b-43ef-a31e-6c49bf087862' title='Show/Hide attributes'><svg class='icon xr-icon-file-text2'><use xlink:href='#icon-file-text2'></use></svg></label><input id='data-f25c93f4-52fc-4c89-8975-011a4a6867f8' class='xr-var-data-in' type='checkbox'><label for='data-f25c93f4-52fc-4c89-8975-011a4a6867f8' title='Show/Hide data repr'><svg class='icon xr-icon-database'><use xlink:href='#icon-database'></use></svg></label><div class='xr-var-attrs'><dl class='xr-attrs'></dl></div><div class='xr-var-data'><pre>array([[4.       , 4.5100317, 7.       , 4.0369005, 4.2459016, 4.6339564,\n",
       "        6.149971 , 6.52     , 5.8269567, 5.192259 , 4.004646 ,       nan,\n",
       "        4.1731772, 4.061305 , 4.0701756, 4.317359 , 4.0538845, 4.050125 ,\n",
       "              nan, 4.4603176, 4.301855 , 4.365631 , 7.       , 4.1588564,\n",
       "              nan],\n",
       "       [4.       , 4.1187854, 6.8740435, 7.       , 6.8616505, 4.580731 ,\n",
       "        6.149971 , 7.       , 4.       , 6.542214 , 4.004646 ,       nan,\n",
       "        4.674926 , 4.7008867, 4.4441466, 4.317359 , 4.699919 , 4.050125 ,\n",
       "              nan, 4.6308618, 4.3773165, 4.7312627, 7.       , 4.0185676,\n",
       "              nan],\n",
       "       [4.       , 4.9012775, 5.       , 7.       , 7.       , 5.0204573,\n",
       "        6.149971 , 6.04     , 4.0011616, 4.       , 4.004646 ,       nan,\n",
       "        4.0592337, 4.       , 4.1372547, 4.317359 , 4.3769016, 4.050125 ,\n",
       "              nan, 4.973899 , 4.452778 , 4.       , 7.       , 4.299145 ,\n",
       "              nan]], dtype=float32)</pre></div></li></ul></div></li><li class='xr-section-item'><input id='section-7d856ecf-a5a8-463f-b82e-b70ba8d7fd58' class='xr-section-summary-in' type='checkbox'  ><label for='section-7d856ecf-a5a8-463f-b82e-b70ba8d7fd58' class='xr-section-summary' >Indexes: <span>(1)</span></label><div class='xr-section-inline-details'></div><div class='xr-section-details'><ul class='xr-var-list'><li class='xr-var-item'><div class='xr-index-name'><div>state_dev</div></div><div class='xr-index-preview'>PandasIndex</div><div></div><input id='index-bab60332-2122-4077-9d31-087e86b22b81' class='xr-index-data-in' type='checkbox'/><label for='index-bab60332-2122-4077-9d31-087e86b22b81' title='Show/Hide index repr'><svg class='icon xr-icon-database'><use xlink:href='#icon-database'></use></svg></label><div class='xr-index-data'><pre>PandasIndex(Int64Index([ 0,  1,  2,  3,  4,  5,  6,  7,  8,  9, 10, 11, 12, 13, 14, 15, 16,\n",
       "            17, 18, 19, 20, 21, 22, 23, 24],\n",
       "           dtype=&#x27;int64&#x27;, name=&#x27;state_dev&#x27;))</pre></div></li></ul></div></li><li class='xr-section-item'><input id='section-19d7eb90-177f-496f-aeef-30fa1268e514' class='xr-section-summary-in' type='checkbox' disabled ><label for='section-19d7eb90-177f-496f-aeef-30fa1268e514' class='xr-section-summary'  title='Expand/collapse section'>Attributes: <span>(0)</span></label><div class='xr-section-inline-details'></div><div class='xr-section-details'><dl class='xr-attrs'></dl></div></li></ul></div></div>"
      ],
      "text/plain": [
       "<xarray.Dataset>\n",
       "Dimensions:    (ts_id: 3, state_dev: 25)\n",
       "Coordinates:\n",
       "    time       (ts_id, state_dev) object '2022-03-11' ... '2022-08-03'\n",
       "  * state_dev  (state_dev) int64 0 1 2 3 4 5 6 7 8 ... 17 18 19 20 21 22 23 24\n",
       "Dimensions without coordinates: ts_id\n",
       "Data variables:\n",
       "    red        (ts_id, state_dev) float32 1.541e+03 1.969e+03 ... 2.178e+03 nan\n",
       "    green      (ts_id, state_dev) float32 1.81e+03 1.842e+03 ... 2.14e+03 nan\n",
       "    blue       (ts_id, state_dev) float32 1.466e+03 1.57e+03 ... 1.754e+03 nan\n",
       "    B05        (ts_id, state_dev) float32 2.291e+03 2.428e+03 ... 2.977e+03 nan\n",
       "    B06        (ts_id, state_dev) float32 3.94e+03 3.188e+03 ... 4.259e+03 nan\n",
       "    B07        (ts_id, state_dev) float32 4.825e+03 3.533e+03 ... 4.862e+03 nan\n",
       "    nir        (ts_id, state_dev) float32 4.854e+03 3.466e+03 ... 4.787e+03 nan\n",
       "    B11        (ts_id, state_dev) float32 2.617e+03 3.081e+03 ... 3.931e+03 nan\n",
       "    SCL        (ts_id, state_dev) float32 4.0 4.51 7.0 4.037 ... 7.0 4.299 nan"
      ]
     },
     "execution_count": 349,
     "metadata": {},
     "output_type": "execute_result"
    }
   ],
   "source": [
    "xdf_concat.fillna(xdf_concat.mean('ts_id', skipna=True))"
   ]
  },
  {
   "cell_type": "code",
   "execution_count": 278,
   "id": "ef4a8309",
   "metadata": {},
   "outputs": [
    {
     "ename": "ValueError",
     "evalue": "conflicting multi-index level name 'time' with dimension 'time'",
     "output_type": "error",
     "traceback": [
      "\u001b[0;31m---------------------------------------------------------------------------\u001b[0m",
      "\u001b[0;31mValueError\u001b[0m                                Traceback (most recent call last)",
      "Cell \u001b[0;32mIn[278], line 2\u001b[0m\n\u001b[1;32m      1\u001b[0m index \u001b[39m=\u001b[39m pd\u001b[39m.\u001b[39mMultiIndex\u001b[39m.\u001b[39mfrom_arrays([xdf[\u001b[39m'\u001b[39m\u001b[39mtime\u001b[39m\u001b[39m'\u001b[39m]\u001b[39m.\u001b[39mvalues, np\u001b[39m.\u001b[39marange(\u001b[39m0\u001b[39m, xdf[\u001b[39m'\u001b[39m\u001b[39mtime\u001b[39m\u001b[39m'\u001b[39m]\u001b[39m.\u001b[39mshape[\u001b[39m0\u001b[39m])], names\u001b[39m=\u001b[39m[\u001b[39m'\u001b[39m\u001b[39mtime\u001b[39m\u001b[39m'\u001b[39m, \u001b[39m'\u001b[39m\u001b[39mstate_dev\u001b[39m\u001b[39m'\u001b[39m])\n\u001b[0;32m----> 2\u001b[0m xdf\u001b[39m.\u001b[39;49massign_coords({\u001b[39m'\u001b[39;49m\u001b[39mtime\u001b[39;49m\u001b[39m'\u001b[39;49m: index})\n",
      "File \u001b[0;32m/opt/anaconda3/envs/ey-2023/lib/python3.9/site-packages/xarray/core/common.py:605\u001b[0m, in \u001b[0;36mDataWithCoords.assign_coords\u001b[0;34m(self, coords, **coords_kwargs)\u001b[0m\n\u001b[1;32m    603\u001b[0m data \u001b[39m=\u001b[39m \u001b[39mself\u001b[39m\u001b[39m.\u001b[39mcopy(deep\u001b[39m=\u001b[39m\u001b[39mFalse\u001b[39;00m)\n\u001b[1;32m    604\u001b[0m results: \u001b[39mdict\u001b[39m[Hashable, Any] \u001b[39m=\u001b[39m \u001b[39mself\u001b[39m\u001b[39m.\u001b[39m_calc_assign_results(coords_combined)\n\u001b[0;32m--> 605\u001b[0m data\u001b[39m.\u001b[39;49mcoords\u001b[39m.\u001b[39;49mupdate(results)\n\u001b[1;32m    606\u001b[0m \u001b[39mreturn\u001b[39;00m data\n",
      "File \u001b[0;32m/opt/anaconda3/envs/ey-2023/lib/python3.9/site-packages/xarray/core/coordinates.py:169\u001b[0m, in \u001b[0;36mCoordinates.update\u001b[0;34m(self, other)\u001b[0m\n\u001b[1;32m    167\u001b[0m other_vars \u001b[39m=\u001b[39m \u001b[39mgetattr\u001b[39m(other, \u001b[39m\"\u001b[39m\u001b[39mvariables\u001b[39m\u001b[39m\"\u001b[39m, other)\n\u001b[1;32m    168\u001b[0m \u001b[39mself\u001b[39m\u001b[39m.\u001b[39m_maybe_drop_multiindex_coords(\u001b[39mset\u001b[39m(other_vars))\n\u001b[0;32m--> 169\u001b[0m coords, indexes \u001b[39m=\u001b[39m merge_coords(\n\u001b[1;32m    170\u001b[0m     [\u001b[39mself\u001b[39;49m\u001b[39m.\u001b[39;49mvariables, other_vars], priority_arg\u001b[39m=\u001b[39;49m\u001b[39m1\u001b[39;49m, indexes\u001b[39m=\u001b[39;49m\u001b[39mself\u001b[39;49m\u001b[39m.\u001b[39;49mxindexes\n\u001b[1;32m    171\u001b[0m )\n\u001b[1;32m    172\u001b[0m \u001b[39mself\u001b[39m\u001b[39m.\u001b[39m_update_coords(coords, indexes)\n",
      "File \u001b[0;32m/opt/anaconda3/envs/ey-2023/lib/python3.9/site-packages/xarray/core/merge.py:554\u001b[0m, in \u001b[0;36mmerge_coords\u001b[0;34m(objects, compat, join, priority_arg, indexes, fill_value)\u001b[0m\n\u001b[1;32m    550\u001b[0m aligned \u001b[39m=\u001b[39m deep_align(\n\u001b[1;32m    551\u001b[0m     coerced, join\u001b[39m=\u001b[39mjoin, copy\u001b[39m=\u001b[39m\u001b[39mFalse\u001b[39;00m, indexes\u001b[39m=\u001b[39mindexes, fill_value\u001b[39m=\u001b[39mfill_value\n\u001b[1;32m    552\u001b[0m )\n\u001b[1;32m    553\u001b[0m collected \u001b[39m=\u001b[39m collect_variables_and_indexes(aligned, indexes\u001b[39m=\u001b[39mindexes)\n\u001b[0;32m--> 554\u001b[0m prioritized \u001b[39m=\u001b[39m _get_priority_vars_and_indexes(aligned, priority_arg, compat\u001b[39m=\u001b[39;49mcompat)\n\u001b[1;32m    555\u001b[0m variables, out_indexes \u001b[39m=\u001b[39m merge_collected(collected, prioritized, compat\u001b[39m=\u001b[39mcompat)\n\u001b[1;32m    556\u001b[0m \u001b[39mreturn\u001b[39;00m variables, out_indexes\n",
      "File \u001b[0;32m/opt/anaconda3/envs/ey-2023/lib/python3.9/site-packages/xarray/core/merge.py:526\u001b[0m, in \u001b[0;36m_get_priority_vars_and_indexes\u001b[0;34m(objects, priority_arg, compat)\u001b[0m\n\u001b[1;32m    523\u001b[0m \u001b[39mif\u001b[39;00m priority_arg \u001b[39mis\u001b[39;00m \u001b[39mNone\u001b[39;00m:\n\u001b[1;32m    524\u001b[0m     \u001b[39mreturn\u001b[39;00m {}\n\u001b[0;32m--> 526\u001b[0m collected \u001b[39m=\u001b[39m collect_variables_and_indexes([objects[priority_arg]])\n\u001b[1;32m    527\u001b[0m variables, indexes \u001b[39m=\u001b[39m merge_collected(collected, compat\u001b[39m=\u001b[39mcompat)\n\u001b[1;32m    528\u001b[0m grouped: \u001b[39mdict\u001b[39m[Hashable, MergeElement] \u001b[39m=\u001b[39m {}\n",
      "File \u001b[0;32m/opt/anaconda3/envs/ey-2023/lib/python3.9/site-packages/xarray/core/merge.py:358\u001b[0m, in \u001b[0;36mcollect_variables_and_indexes\u001b[0;34m(list_of_mappings, indexes)\u001b[0m\n\u001b[1;32m    356\u001b[0m     append(name, variable, indexes[name])\n\u001b[1;32m    357\u001b[0m \u001b[39melif\u001b[39;00m variable\u001b[39m.\u001b[39mdims \u001b[39m==\u001b[39m (name,):\n\u001b[0;32m--> 358\u001b[0m     idx, idx_vars \u001b[39m=\u001b[39m create_default_index_implicit(variable)\n\u001b[1;32m    359\u001b[0m     append_all(idx_vars, {k: idx \u001b[39mfor\u001b[39;00m k \u001b[39min\u001b[39;00m idx_vars})\n\u001b[1;32m    360\u001b[0m \u001b[39melse\u001b[39;00m:\n",
      "File \u001b[0;32m/opt/anaconda3/envs/ey-2023/lib/python3.9/site-packages/xarray/core/indexes.py:1046\u001b[0m, in \u001b[0;36mcreate_default_index_implicit\u001b[0;34m(dim_variable, all_variables)\u001b[0m\n\u001b[1;32m   1043\u001b[0m index: PandasIndex\n\u001b[1;32m   1045\u001b[0m \u001b[39mif\u001b[39;00m \u001b[39misinstance\u001b[39m(array, pd\u001b[39m.\u001b[39mMultiIndex):\n\u001b[0;32m-> 1046\u001b[0m     index \u001b[39m=\u001b[39m PandasMultiIndex(array, name)\n\u001b[1;32m   1047\u001b[0m     index_vars \u001b[39m=\u001b[39m index\u001b[39m.\u001b[39mcreate_variables()\n\u001b[1;32m   1048\u001b[0m     \u001b[39m# check for conflict between level names and variable names\u001b[39;00m\n",
      "File \u001b[0;32m/opt/anaconda3/envs/ey-2023/lib/python3.9/site-packages/xarray/core/indexes.py:616\u001b[0m, in \u001b[0;36mPandasMultiIndex.__init__\u001b[0;34m(self, array, dim, level_coords_dtype)\u001b[0m\n\u001b[1;32m    614\u001b[0m     name \u001b[39m=\u001b[39m idx\u001b[39m.\u001b[39mname \u001b[39mor\u001b[39;00m \u001b[39mf\u001b[39m\u001b[39m\"\u001b[39m\u001b[39m{\u001b[39;00mdim\u001b[39m}\u001b[39;00m\u001b[39m_level_\u001b[39m\u001b[39m{\u001b[39;00mi\u001b[39m}\u001b[39;00m\u001b[39m\"\u001b[39m\n\u001b[1;32m    615\u001b[0m     \u001b[39mif\u001b[39;00m name \u001b[39m==\u001b[39m dim:\n\u001b[0;32m--> 616\u001b[0m         \u001b[39mraise\u001b[39;00m \u001b[39mValueError\u001b[39;00m(\n\u001b[1;32m    617\u001b[0m             \u001b[39mf\u001b[39m\u001b[39m\"\u001b[39m\u001b[39mconflicting multi-index level name \u001b[39m\u001b[39m{\u001b[39;00mname\u001b[39m!r}\u001b[39;00m\u001b[39m with dimension \u001b[39m\u001b[39m{\u001b[39;00mdim\u001b[39m!r}\u001b[39;00m\u001b[39m\"\u001b[39m\n\u001b[1;32m    618\u001b[0m         )\n\u001b[1;32m    619\u001b[0m     names\u001b[39m.\u001b[39mappend(name)\n\u001b[1;32m    620\u001b[0m \u001b[39mself\u001b[39m\u001b[39m.\u001b[39mindex\u001b[39m.\u001b[39mnames \u001b[39m=\u001b[39m names\n",
      "\u001b[0;31mValueError\u001b[0m: conflicting multi-index level name 'time' with dimension 'time'"
     ]
    }
   ],
   "source": [
    "# index = pd.MultiIndex.from_arrays([xdf['time'].values, np.arange(0, xdf['time'].shape[0])], names=['time', 'state_dev'])\n",
    "# xdf.assign_coords({'time': index})"
   ]
  },
  {
   "cell_type": "code",
   "execution_count": null,
   "id": "2d741a47",
   "metadata": {},
   "outputs": [],
   "source": []
  },
  {
   "cell_type": "code",
   "execution_count": 136,
   "id": "06ddb910",
   "metadata": {},
   "outputs": [
    {
     "data": {
      "application/vnd.plotly.v1+json": {
       "config": {
        "plotlyServerURL": "https://plot.ly"
       },
       "data": [
        {
         "hovertemplate": "variable=wide_variable_0<br>x=%{x}<br>value=%{y}<extra></extra>",
         "legendgroup": "wide_variable_0",
         "line": {
          "color": "#636efa",
          "dash": "solid"
         },
         "marker": {
          "symbol": "circle"
         },
         "mode": "lines",
         "name": "wide_variable_0",
         "orientation": "v",
         "showlegend": true,
         "type": "scatter",
         "x": [
          "2022-07-14T00:00:00",
          "2022-07-09T00:00:00",
          "2022-07-04T00:00:00",
          "2022-06-29T00:00:00",
          "2022-06-24T00:00:00",
          "2022-06-19T00:00:00",
          "2022-06-14T00:00:00",
          "2022-06-09T00:00:00",
          "2022-06-04T00:00:00",
          "2022-05-30T00:00:00",
          "2022-05-25T00:00:00",
          "2022-05-20T00:00:00",
          "2022-05-15T00:00:00",
          "2022-05-10T00:00:00",
          "2022-04-30T00:00:00",
          "2022-04-25T00:00:00",
          "2022-04-20T00:00:00",
          "2022-04-15T00:00:00",
          "2022-04-10T00:00:00",
          "2022-04-05T00:00:00",
          "2022-03-31T00:00:00",
          "2022-03-26T00:00:00",
          "2022-03-21T00:00:00",
          "2022-03-16T00:00:00"
         ],
         "xaxis": "x",
         "y": [
          null,
          null,
          null,
          null,
          0.5072575211524963,
          0.5606372952461243,
          null,
          0.5151475071907043,
          0.5433816313743591,
          null,
          0.48496049642562866,
          0.37346988916397095,
          0.38841408491134644,
          null,
          null,
          0.07789895683526993,
          0.005179576110094786,
          null,
          0.06509635597467422,
          0.24279434978961945,
          0.31734007596969604,
          0.42478346824645996,
          0.243865966796875,
          null
         ],
         "yaxis": "y"
        },
        {
         "hovertemplate": "variable=wide_variable_1<br>x=%{x}<br>value=%{y}<extra></extra>",
         "legendgroup": "wide_variable_1",
         "line": {
          "color": "#EF553B",
          "dash": "solid"
         },
         "marker": {
          "symbol": "circle"
         },
         "mode": "lines",
         "name": "wide_variable_1",
         "orientation": "v",
         "showlegend": true,
         "type": "scatter",
         "x": [
          "2022-07-14T00:00:00",
          "2022-07-09T00:00:00",
          "2022-07-04T00:00:00",
          "2022-06-29T00:00:00",
          "2022-06-24T00:00:00",
          "2022-06-19T00:00:00",
          "2022-06-14T00:00:00",
          "2022-06-09T00:00:00",
          "2022-06-04T00:00:00",
          "2022-05-30T00:00:00",
          "2022-05-25T00:00:00",
          "2022-05-20T00:00:00",
          "2022-05-15T00:00:00",
          "2022-05-10T00:00:00",
          "2022-04-30T00:00:00",
          "2022-04-25T00:00:00",
          "2022-04-20T00:00:00",
          "2022-04-15T00:00:00",
          "2022-04-10T00:00:00",
          "2022-04-05T00:00:00",
          "2022-03-31T00:00:00",
          "2022-03-26T00:00:00",
          "2022-03-21T00:00:00",
          "2022-03-16T00:00:00"
         ],
         "xaxis": "x",
         "y": [
          0.1913146674633026,
          0.3742886185646057,
          0.11295536160469055,
          0.1672661155462265,
          0.40197235345840454,
          0.20667409896850586,
          0.3295622169971466,
          0.5151475071907043,
          0.5433816313743591,
          0.16397233307361603,
          0.48496049642562866,
          0.3732358515262604,
          0.3853597640991211,
          -0.002254339400678873,
          0.012768932618200779,
          0.07798980921506882,
          0.015036171302199364,
          -0.06666956096887589,
          0.051140494644641876,
          0.2665747404098511,
          0.2460085153579712,
          0.1649174988269806,
          0.23431085050106049,
          -0.0011005450505763292
         ],
         "yaxis": "y"
        }
       ],
       "layout": {
        "legend": {
         "title": {
          "text": "variable"
         },
         "tracegroupgap": 0
        },
        "margin": {
         "t": 60
        },
        "template": {
         "data": {
          "bar": [
           {
            "error_x": {
             "color": "#2a3f5f"
            },
            "error_y": {
             "color": "#2a3f5f"
            },
            "marker": {
             "line": {
              "color": "#E5ECF6",
              "width": 0.5
             },
             "pattern": {
              "fillmode": "overlay",
              "size": 10,
              "solidity": 0.2
             }
            },
            "type": "bar"
           }
          ],
          "barpolar": [
           {
            "marker": {
             "line": {
              "color": "#E5ECF6",
              "width": 0.5
             },
             "pattern": {
              "fillmode": "overlay",
              "size": 10,
              "solidity": 0.2
             }
            },
            "type": "barpolar"
           }
          ],
          "carpet": [
           {
            "aaxis": {
             "endlinecolor": "#2a3f5f",
             "gridcolor": "white",
             "linecolor": "white",
             "minorgridcolor": "white",
             "startlinecolor": "#2a3f5f"
            },
            "baxis": {
             "endlinecolor": "#2a3f5f",
             "gridcolor": "white",
             "linecolor": "white",
             "minorgridcolor": "white",
             "startlinecolor": "#2a3f5f"
            },
            "type": "carpet"
           }
          ],
          "choropleth": [
           {
            "colorbar": {
             "outlinewidth": 0,
             "ticks": ""
            },
            "type": "choropleth"
           }
          ],
          "contour": [
           {
            "colorbar": {
             "outlinewidth": 0,
             "ticks": ""
            },
            "colorscale": [
             [
              0,
              "#0d0887"
             ],
             [
              0.1111111111111111,
              "#46039f"
             ],
             [
              0.2222222222222222,
              "#7201a8"
             ],
             [
              0.3333333333333333,
              "#9c179e"
             ],
             [
              0.4444444444444444,
              "#bd3786"
             ],
             [
              0.5555555555555556,
              "#d8576b"
             ],
             [
              0.6666666666666666,
              "#ed7953"
             ],
             [
              0.7777777777777778,
              "#fb9f3a"
             ],
             [
              0.8888888888888888,
              "#fdca26"
             ],
             [
              1,
              "#f0f921"
             ]
            ],
            "type": "contour"
           }
          ],
          "contourcarpet": [
           {
            "colorbar": {
             "outlinewidth": 0,
             "ticks": ""
            },
            "type": "contourcarpet"
           }
          ],
          "heatmap": [
           {
            "colorbar": {
             "outlinewidth": 0,
             "ticks": ""
            },
            "colorscale": [
             [
              0,
              "#0d0887"
             ],
             [
              0.1111111111111111,
              "#46039f"
             ],
             [
              0.2222222222222222,
              "#7201a8"
             ],
             [
              0.3333333333333333,
              "#9c179e"
             ],
             [
              0.4444444444444444,
              "#bd3786"
             ],
             [
              0.5555555555555556,
              "#d8576b"
             ],
             [
              0.6666666666666666,
              "#ed7953"
             ],
             [
              0.7777777777777778,
              "#fb9f3a"
             ],
             [
              0.8888888888888888,
              "#fdca26"
             ],
             [
              1,
              "#f0f921"
             ]
            ],
            "type": "heatmap"
           }
          ],
          "heatmapgl": [
           {
            "colorbar": {
             "outlinewidth": 0,
             "ticks": ""
            },
            "colorscale": [
             [
              0,
              "#0d0887"
             ],
             [
              0.1111111111111111,
              "#46039f"
             ],
             [
              0.2222222222222222,
              "#7201a8"
             ],
             [
              0.3333333333333333,
              "#9c179e"
             ],
             [
              0.4444444444444444,
              "#bd3786"
             ],
             [
              0.5555555555555556,
              "#d8576b"
             ],
             [
              0.6666666666666666,
              "#ed7953"
             ],
             [
              0.7777777777777778,
              "#fb9f3a"
             ],
             [
              0.8888888888888888,
              "#fdca26"
             ],
             [
              1,
              "#f0f921"
             ]
            ],
            "type": "heatmapgl"
           }
          ],
          "histogram": [
           {
            "marker": {
             "pattern": {
              "fillmode": "overlay",
              "size": 10,
              "solidity": 0.2
             }
            },
            "type": "histogram"
           }
          ],
          "histogram2d": [
           {
            "colorbar": {
             "outlinewidth": 0,
             "ticks": ""
            },
            "colorscale": [
             [
              0,
              "#0d0887"
             ],
             [
              0.1111111111111111,
              "#46039f"
             ],
             [
              0.2222222222222222,
              "#7201a8"
             ],
             [
              0.3333333333333333,
              "#9c179e"
             ],
             [
              0.4444444444444444,
              "#bd3786"
             ],
             [
              0.5555555555555556,
              "#d8576b"
             ],
             [
              0.6666666666666666,
              "#ed7953"
             ],
             [
              0.7777777777777778,
              "#fb9f3a"
             ],
             [
              0.8888888888888888,
              "#fdca26"
             ],
             [
              1,
              "#f0f921"
             ]
            ],
            "type": "histogram2d"
           }
          ],
          "histogram2dcontour": [
           {
            "colorbar": {
             "outlinewidth": 0,
             "ticks": ""
            },
            "colorscale": [
             [
              0,
              "#0d0887"
             ],
             [
              0.1111111111111111,
              "#46039f"
             ],
             [
              0.2222222222222222,
              "#7201a8"
             ],
             [
              0.3333333333333333,
              "#9c179e"
             ],
             [
              0.4444444444444444,
              "#bd3786"
             ],
             [
              0.5555555555555556,
              "#d8576b"
             ],
             [
              0.6666666666666666,
              "#ed7953"
             ],
             [
              0.7777777777777778,
              "#fb9f3a"
             ],
             [
              0.8888888888888888,
              "#fdca26"
             ],
             [
              1,
              "#f0f921"
             ]
            ],
            "type": "histogram2dcontour"
           }
          ],
          "mesh3d": [
           {
            "colorbar": {
             "outlinewidth": 0,
             "ticks": ""
            },
            "type": "mesh3d"
           }
          ],
          "parcoords": [
           {
            "line": {
             "colorbar": {
              "outlinewidth": 0,
              "ticks": ""
             }
            },
            "type": "parcoords"
           }
          ],
          "pie": [
           {
            "automargin": true,
            "type": "pie"
           }
          ],
          "scatter": [
           {
            "fillpattern": {
             "fillmode": "overlay",
             "size": 10,
             "solidity": 0.2
            },
            "type": "scatter"
           }
          ],
          "scatter3d": [
           {
            "line": {
             "colorbar": {
              "outlinewidth": 0,
              "ticks": ""
             }
            },
            "marker": {
             "colorbar": {
              "outlinewidth": 0,
              "ticks": ""
             }
            },
            "type": "scatter3d"
           }
          ],
          "scattercarpet": [
           {
            "marker": {
             "colorbar": {
              "outlinewidth": 0,
              "ticks": ""
             }
            },
            "type": "scattercarpet"
           }
          ],
          "scattergeo": [
           {
            "marker": {
             "colorbar": {
              "outlinewidth": 0,
              "ticks": ""
             }
            },
            "type": "scattergeo"
           }
          ],
          "scattergl": [
           {
            "marker": {
             "colorbar": {
              "outlinewidth": 0,
              "ticks": ""
             }
            },
            "type": "scattergl"
           }
          ],
          "scattermapbox": [
           {
            "marker": {
             "colorbar": {
              "outlinewidth": 0,
              "ticks": ""
             }
            },
            "type": "scattermapbox"
           }
          ],
          "scatterpolar": [
           {
            "marker": {
             "colorbar": {
              "outlinewidth": 0,
              "ticks": ""
             }
            },
            "type": "scatterpolar"
           }
          ],
          "scatterpolargl": [
           {
            "marker": {
             "colorbar": {
              "outlinewidth": 0,
              "ticks": ""
             }
            },
            "type": "scatterpolargl"
           }
          ],
          "scatterternary": [
           {
            "marker": {
             "colorbar": {
              "outlinewidth": 0,
              "ticks": ""
             }
            },
            "type": "scatterternary"
           }
          ],
          "surface": [
           {
            "colorbar": {
             "outlinewidth": 0,
             "ticks": ""
            },
            "colorscale": [
             [
              0,
              "#0d0887"
             ],
             [
              0.1111111111111111,
              "#46039f"
             ],
             [
              0.2222222222222222,
              "#7201a8"
             ],
             [
              0.3333333333333333,
              "#9c179e"
             ],
             [
              0.4444444444444444,
              "#bd3786"
             ],
             [
              0.5555555555555556,
              "#d8576b"
             ],
             [
              0.6666666666666666,
              "#ed7953"
             ],
             [
              0.7777777777777778,
              "#fb9f3a"
             ],
             [
              0.8888888888888888,
              "#fdca26"
             ],
             [
              1,
              "#f0f921"
             ]
            ],
            "type": "surface"
           }
          ],
          "table": [
           {
            "cells": {
             "fill": {
              "color": "#EBF0F8"
             },
             "line": {
              "color": "white"
             }
            },
            "header": {
             "fill": {
              "color": "#C8D4E3"
             },
             "line": {
              "color": "white"
             }
            },
            "type": "table"
           }
          ]
         },
         "layout": {
          "annotationdefaults": {
           "arrowcolor": "#2a3f5f",
           "arrowhead": 0,
           "arrowwidth": 1
          },
          "autotypenumbers": "strict",
          "coloraxis": {
           "colorbar": {
            "outlinewidth": 0,
            "ticks": ""
           }
          },
          "colorscale": {
           "diverging": [
            [
             0,
             "#8e0152"
            ],
            [
             0.1,
             "#c51b7d"
            ],
            [
             0.2,
             "#de77ae"
            ],
            [
             0.3,
             "#f1b6da"
            ],
            [
             0.4,
             "#fde0ef"
            ],
            [
             0.5,
             "#f7f7f7"
            ],
            [
             0.6,
             "#e6f5d0"
            ],
            [
             0.7,
             "#b8e186"
            ],
            [
             0.8,
             "#7fbc41"
            ],
            [
             0.9,
             "#4d9221"
            ],
            [
             1,
             "#276419"
            ]
           ],
           "sequential": [
            [
             0,
             "#0d0887"
            ],
            [
             0.1111111111111111,
             "#46039f"
            ],
            [
             0.2222222222222222,
             "#7201a8"
            ],
            [
             0.3333333333333333,
             "#9c179e"
            ],
            [
             0.4444444444444444,
             "#bd3786"
            ],
            [
             0.5555555555555556,
             "#d8576b"
            ],
            [
             0.6666666666666666,
             "#ed7953"
            ],
            [
             0.7777777777777778,
             "#fb9f3a"
            ],
            [
             0.8888888888888888,
             "#fdca26"
            ],
            [
             1,
             "#f0f921"
            ]
           ],
           "sequentialminus": [
            [
             0,
             "#0d0887"
            ],
            [
             0.1111111111111111,
             "#46039f"
            ],
            [
             0.2222222222222222,
             "#7201a8"
            ],
            [
             0.3333333333333333,
             "#9c179e"
            ],
            [
             0.4444444444444444,
             "#bd3786"
            ],
            [
             0.5555555555555556,
             "#d8576b"
            ],
            [
             0.6666666666666666,
             "#ed7953"
            ],
            [
             0.7777777777777778,
             "#fb9f3a"
            ],
            [
             0.8888888888888888,
             "#fdca26"
            ],
            [
             1,
             "#f0f921"
            ]
           ]
          },
          "colorway": [
           "#636efa",
           "#EF553B",
           "#00cc96",
           "#ab63fa",
           "#FFA15A",
           "#19d3f3",
           "#FF6692",
           "#B6E880",
           "#FF97FF",
           "#FECB52"
          ],
          "font": {
           "color": "#2a3f5f"
          },
          "geo": {
           "bgcolor": "white",
           "lakecolor": "white",
           "landcolor": "#E5ECF6",
           "showlakes": true,
           "showland": true,
           "subunitcolor": "white"
          },
          "hoverlabel": {
           "align": "left"
          },
          "hovermode": "closest",
          "mapbox": {
           "style": "light"
          },
          "paper_bgcolor": "white",
          "plot_bgcolor": "#E5ECF6",
          "polar": {
           "angularaxis": {
            "gridcolor": "white",
            "linecolor": "white",
            "ticks": ""
           },
           "bgcolor": "#E5ECF6",
           "radialaxis": {
            "gridcolor": "white",
            "linecolor": "white",
            "ticks": ""
           }
          },
          "scene": {
           "xaxis": {
            "backgroundcolor": "#E5ECF6",
            "gridcolor": "white",
            "gridwidth": 2,
            "linecolor": "white",
            "showbackground": true,
            "ticks": "",
            "zerolinecolor": "white"
           },
           "yaxis": {
            "backgroundcolor": "#E5ECF6",
            "gridcolor": "white",
            "gridwidth": 2,
            "linecolor": "white",
            "showbackground": true,
            "ticks": "",
            "zerolinecolor": "white"
           },
           "zaxis": {
            "backgroundcolor": "#E5ECF6",
            "gridcolor": "white",
            "gridwidth": 2,
            "linecolor": "white",
            "showbackground": true,
            "ticks": "",
            "zerolinecolor": "white"
           }
          },
          "shapedefaults": {
           "line": {
            "color": "#2a3f5f"
           }
          },
          "ternary": {
           "aaxis": {
            "gridcolor": "white",
            "linecolor": "white",
            "ticks": ""
           },
           "baxis": {
            "gridcolor": "white",
            "linecolor": "white",
            "ticks": ""
           },
           "bgcolor": "#E5ECF6",
           "caxis": {
            "gridcolor": "white",
            "linecolor": "white",
            "ticks": ""
           }
          },
          "title": {
           "x": 0.05
          },
          "xaxis": {
           "automargin": true,
           "gridcolor": "white",
           "linecolor": "white",
           "ticks": "",
           "title": {
            "standoff": 15
           },
           "zerolinecolor": "white",
           "zerolinewidth": 2
          },
          "yaxis": {
           "automargin": true,
           "gridcolor": "white",
           "linecolor": "white",
           "ticks": "",
           "title": {
            "standoff": 15
           },
           "zerolinecolor": "white",
           "zerolinewidth": 2
          }
         }
        },
        "xaxis": {
         "anchor": "y",
         "domain": [
          0,
          1
         ],
         "title": {
          "text": "x"
         }
        },
        "yaxis": {
         "anchor": "x",
         "domain": [
          0,
          1
         ],
         "title": {
          "text": "value"
         }
        }
       }
      }
     },
     "metadata": {},
     "output_type": "display_data"
    }
   ],
   "source": [
    "fig = px.line(y=[(data_filter.nir - data_filter.red) / (data_filter.nir + data_filter.red), (data.nir - data.red) / (data.nir + data.red)], x=data.time)\n",
    "fig.show()"
   ]
  },
  {
   "attachments": {},
   "cell_type": "markdown",
   "id": "eccd04c5",
   "metadata": {},
   "source": [
    "Fill using mean of diff between data and filtered data adding to data to obtain filtered data "
   ]
  },
  {
   "cell_type": "code",
   "execution_count": 132,
   "id": "479697ef",
   "metadata": {},
   "outputs": [],
   "source": [
    "test = (data[['red','green', 'blue', 'rededge1', 'rededge2', 'rededge3', 'nir', 'swir']] - data_filter[['red','green', 'blue', 'rededge1', 'rededge2', 'rededge3', 'nir', 'swir']]).mean()\n",
    "df_test = data_filter.copy(deep=True)\n",
    "\n",
    "df_test.loc[:, ['red','green', 'blue', 'rededge1', 'rededge2', 'rededge3', 'nir', 'swir']] = df_test[['red','green', 'blue', 'rededge1', 'rededge2', 'rededge3', 'nir', 'swir']].fillna(data[['red','green', 'blue', 'rededge1', 'rededge2', 'rededge3', 'nir', 'swir']] - test)"
   ]
  },
  {
   "cell_type": "code",
   "execution_count": 135,
   "id": "5515a32e",
   "metadata": {},
   "outputs": [
    {
     "data": {
      "application/vnd.plotly.v1+json": {
       "config": {
        "plotlyServerURL": "https://plot.ly"
       },
       "data": [
        {
         "hovertemplate": "variable=wide_variable_0<br>x=%{x}<br>value=%{y}<extra></extra>",
         "legendgroup": "wide_variable_0",
         "line": {
          "color": "#636efa",
          "dash": "solid"
         },
         "marker": {
          "symbol": "circle"
         },
         "mode": "lines",
         "name": "wide_variable_0",
         "orientation": "v",
         "showlegend": true,
         "type": "scatter",
         "x": [
          "2022-07-14T00:00:00",
          "2022-07-09T00:00:00",
          "2022-07-04T00:00:00",
          "2022-06-29T00:00:00",
          "2022-06-24T00:00:00",
          "2022-06-19T00:00:00",
          "2022-06-14T00:00:00",
          "2022-06-09T00:00:00",
          "2022-06-04T00:00:00",
          "2022-05-30T00:00:00",
          "2022-05-25T00:00:00",
          "2022-05-20T00:00:00",
          "2022-05-15T00:00:00",
          "2022-05-10T00:00:00",
          "2022-04-30T00:00:00",
          "2022-04-25T00:00:00",
          "2022-04-20T00:00:00",
          "2022-04-15T00:00:00",
          "2022-04-10T00:00:00",
          "2022-04-05T00:00:00",
          "2022-03-31T00:00:00",
          "2022-03-26T00:00:00",
          "2022-03-21T00:00:00",
          "2022-03-16T00:00:00"
         ],
         "xaxis": "x",
         "y": [
          0.2412737011909485,
          0.4492104649543762,
          0.14351487159729004,
          0.21142800152301788,
          0.5072575211524963,
          0.5606372952461243,
          0.3839290142059326,
          0.5151475071907043,
          0.5433816313743591,
          0.2035139948129654,
          0.48496049642562866,
          0.37346988916397095,
          0.38841408491134644,
          0.017544399946928024,
          0.03940625116229057,
          0.07789895683526993,
          0.005179576110094786,
          -0.053629904985427856,
          0.06509635597467422,
          0.24279434978961945,
          0.31734007596969604,
          0.42478346824645996,
          0.243865966796875,
          0.01766992174088955
         ],
         "yaxis": "y"
        },
        {
         "hovertemplate": "variable=wide_variable_1<br>x=%{x}<br>value=%{y}<extra></extra>",
         "legendgroup": "wide_variable_1",
         "line": {
          "color": "#EF553B",
          "dash": "solid"
         },
         "marker": {
          "symbol": "circle"
         },
         "mode": "lines",
         "name": "wide_variable_1",
         "orientation": "v",
         "showlegend": true,
         "type": "scatter",
         "x": [
          "2022-07-14T00:00:00",
          "2022-07-09T00:00:00",
          "2022-07-04T00:00:00",
          "2022-06-29T00:00:00",
          "2022-06-24T00:00:00",
          "2022-06-19T00:00:00",
          "2022-06-14T00:00:00",
          "2022-06-09T00:00:00",
          "2022-06-04T00:00:00",
          "2022-05-30T00:00:00",
          "2022-05-25T00:00:00",
          "2022-05-20T00:00:00",
          "2022-05-15T00:00:00",
          "2022-05-10T00:00:00",
          "2022-04-30T00:00:00",
          "2022-04-25T00:00:00",
          "2022-04-20T00:00:00",
          "2022-04-15T00:00:00",
          "2022-04-10T00:00:00",
          "2022-04-05T00:00:00",
          "2022-03-31T00:00:00",
          "2022-03-26T00:00:00",
          "2022-03-21T00:00:00",
          "2022-03-16T00:00:00"
         ],
         "xaxis": "x",
         "y": [
          0.1913146674633026,
          0.3742886185646057,
          0.11295536160469055,
          0.1672661155462265,
          0.40197235345840454,
          0.20667409896850586,
          0.3295622169971466,
          0.5151475071907043,
          0.5433816313743591,
          0.16397233307361603,
          0.48496049642562866,
          0.3732358515262604,
          0.3853597640991211,
          -0.002254339400678873,
          0.012768932618200779,
          0.07798980921506882,
          0.015036171302199364,
          -0.06666956096887589,
          0.051140494644641876,
          0.2665747404098511,
          0.2460085153579712,
          0.1649174988269806,
          0.23431085050106049,
          -0.0011005450505763292
         ],
         "yaxis": "y"
        }
       ],
       "layout": {
        "legend": {
         "title": {
          "text": "variable"
         },
         "tracegroupgap": 0
        },
        "margin": {
         "t": 60
        },
        "template": {
         "data": {
          "bar": [
           {
            "error_x": {
             "color": "#2a3f5f"
            },
            "error_y": {
             "color": "#2a3f5f"
            },
            "marker": {
             "line": {
              "color": "#E5ECF6",
              "width": 0.5
             },
             "pattern": {
              "fillmode": "overlay",
              "size": 10,
              "solidity": 0.2
             }
            },
            "type": "bar"
           }
          ],
          "barpolar": [
           {
            "marker": {
             "line": {
              "color": "#E5ECF6",
              "width": 0.5
             },
             "pattern": {
              "fillmode": "overlay",
              "size": 10,
              "solidity": 0.2
             }
            },
            "type": "barpolar"
           }
          ],
          "carpet": [
           {
            "aaxis": {
             "endlinecolor": "#2a3f5f",
             "gridcolor": "white",
             "linecolor": "white",
             "minorgridcolor": "white",
             "startlinecolor": "#2a3f5f"
            },
            "baxis": {
             "endlinecolor": "#2a3f5f",
             "gridcolor": "white",
             "linecolor": "white",
             "minorgridcolor": "white",
             "startlinecolor": "#2a3f5f"
            },
            "type": "carpet"
           }
          ],
          "choropleth": [
           {
            "colorbar": {
             "outlinewidth": 0,
             "ticks": ""
            },
            "type": "choropleth"
           }
          ],
          "contour": [
           {
            "colorbar": {
             "outlinewidth": 0,
             "ticks": ""
            },
            "colorscale": [
             [
              0,
              "#0d0887"
             ],
             [
              0.1111111111111111,
              "#46039f"
             ],
             [
              0.2222222222222222,
              "#7201a8"
             ],
             [
              0.3333333333333333,
              "#9c179e"
             ],
             [
              0.4444444444444444,
              "#bd3786"
             ],
             [
              0.5555555555555556,
              "#d8576b"
             ],
             [
              0.6666666666666666,
              "#ed7953"
             ],
             [
              0.7777777777777778,
              "#fb9f3a"
             ],
             [
              0.8888888888888888,
              "#fdca26"
             ],
             [
              1,
              "#f0f921"
             ]
            ],
            "type": "contour"
           }
          ],
          "contourcarpet": [
           {
            "colorbar": {
             "outlinewidth": 0,
             "ticks": ""
            },
            "type": "contourcarpet"
           }
          ],
          "heatmap": [
           {
            "colorbar": {
             "outlinewidth": 0,
             "ticks": ""
            },
            "colorscale": [
             [
              0,
              "#0d0887"
             ],
             [
              0.1111111111111111,
              "#46039f"
             ],
             [
              0.2222222222222222,
              "#7201a8"
             ],
             [
              0.3333333333333333,
              "#9c179e"
             ],
             [
              0.4444444444444444,
              "#bd3786"
             ],
             [
              0.5555555555555556,
              "#d8576b"
             ],
             [
              0.6666666666666666,
              "#ed7953"
             ],
             [
              0.7777777777777778,
              "#fb9f3a"
             ],
             [
              0.8888888888888888,
              "#fdca26"
             ],
             [
              1,
              "#f0f921"
             ]
            ],
            "type": "heatmap"
           }
          ],
          "heatmapgl": [
           {
            "colorbar": {
             "outlinewidth": 0,
             "ticks": ""
            },
            "colorscale": [
             [
              0,
              "#0d0887"
             ],
             [
              0.1111111111111111,
              "#46039f"
             ],
             [
              0.2222222222222222,
              "#7201a8"
             ],
             [
              0.3333333333333333,
              "#9c179e"
             ],
             [
              0.4444444444444444,
              "#bd3786"
             ],
             [
              0.5555555555555556,
              "#d8576b"
             ],
             [
              0.6666666666666666,
              "#ed7953"
             ],
             [
              0.7777777777777778,
              "#fb9f3a"
             ],
             [
              0.8888888888888888,
              "#fdca26"
             ],
             [
              1,
              "#f0f921"
             ]
            ],
            "type": "heatmapgl"
           }
          ],
          "histogram": [
           {
            "marker": {
             "pattern": {
              "fillmode": "overlay",
              "size": 10,
              "solidity": 0.2
             }
            },
            "type": "histogram"
           }
          ],
          "histogram2d": [
           {
            "colorbar": {
             "outlinewidth": 0,
             "ticks": ""
            },
            "colorscale": [
             [
              0,
              "#0d0887"
             ],
             [
              0.1111111111111111,
              "#46039f"
             ],
             [
              0.2222222222222222,
              "#7201a8"
             ],
             [
              0.3333333333333333,
              "#9c179e"
             ],
             [
              0.4444444444444444,
              "#bd3786"
             ],
             [
              0.5555555555555556,
              "#d8576b"
             ],
             [
              0.6666666666666666,
              "#ed7953"
             ],
             [
              0.7777777777777778,
              "#fb9f3a"
             ],
             [
              0.8888888888888888,
              "#fdca26"
             ],
             [
              1,
              "#f0f921"
             ]
            ],
            "type": "histogram2d"
           }
          ],
          "histogram2dcontour": [
           {
            "colorbar": {
             "outlinewidth": 0,
             "ticks": ""
            },
            "colorscale": [
             [
              0,
              "#0d0887"
             ],
             [
              0.1111111111111111,
              "#46039f"
             ],
             [
              0.2222222222222222,
              "#7201a8"
             ],
             [
              0.3333333333333333,
              "#9c179e"
             ],
             [
              0.4444444444444444,
              "#bd3786"
             ],
             [
              0.5555555555555556,
              "#d8576b"
             ],
             [
              0.6666666666666666,
              "#ed7953"
             ],
             [
              0.7777777777777778,
              "#fb9f3a"
             ],
             [
              0.8888888888888888,
              "#fdca26"
             ],
             [
              1,
              "#f0f921"
             ]
            ],
            "type": "histogram2dcontour"
           }
          ],
          "mesh3d": [
           {
            "colorbar": {
             "outlinewidth": 0,
             "ticks": ""
            },
            "type": "mesh3d"
           }
          ],
          "parcoords": [
           {
            "line": {
             "colorbar": {
              "outlinewidth": 0,
              "ticks": ""
             }
            },
            "type": "parcoords"
           }
          ],
          "pie": [
           {
            "automargin": true,
            "type": "pie"
           }
          ],
          "scatter": [
           {
            "fillpattern": {
             "fillmode": "overlay",
             "size": 10,
             "solidity": 0.2
            },
            "type": "scatter"
           }
          ],
          "scatter3d": [
           {
            "line": {
             "colorbar": {
              "outlinewidth": 0,
              "ticks": ""
             }
            },
            "marker": {
             "colorbar": {
              "outlinewidth": 0,
              "ticks": ""
             }
            },
            "type": "scatter3d"
           }
          ],
          "scattercarpet": [
           {
            "marker": {
             "colorbar": {
              "outlinewidth": 0,
              "ticks": ""
             }
            },
            "type": "scattercarpet"
           }
          ],
          "scattergeo": [
           {
            "marker": {
             "colorbar": {
              "outlinewidth": 0,
              "ticks": ""
             }
            },
            "type": "scattergeo"
           }
          ],
          "scattergl": [
           {
            "marker": {
             "colorbar": {
              "outlinewidth": 0,
              "ticks": ""
             }
            },
            "type": "scattergl"
           }
          ],
          "scattermapbox": [
           {
            "marker": {
             "colorbar": {
              "outlinewidth": 0,
              "ticks": ""
             }
            },
            "type": "scattermapbox"
           }
          ],
          "scatterpolar": [
           {
            "marker": {
             "colorbar": {
              "outlinewidth": 0,
              "ticks": ""
             }
            },
            "type": "scatterpolar"
           }
          ],
          "scatterpolargl": [
           {
            "marker": {
             "colorbar": {
              "outlinewidth": 0,
              "ticks": ""
             }
            },
            "type": "scatterpolargl"
           }
          ],
          "scatterternary": [
           {
            "marker": {
             "colorbar": {
              "outlinewidth": 0,
              "ticks": ""
             }
            },
            "type": "scatterternary"
           }
          ],
          "surface": [
           {
            "colorbar": {
             "outlinewidth": 0,
             "ticks": ""
            },
            "colorscale": [
             [
              0,
              "#0d0887"
             ],
             [
              0.1111111111111111,
              "#46039f"
             ],
             [
              0.2222222222222222,
              "#7201a8"
             ],
             [
              0.3333333333333333,
              "#9c179e"
             ],
             [
              0.4444444444444444,
              "#bd3786"
             ],
             [
              0.5555555555555556,
              "#d8576b"
             ],
             [
              0.6666666666666666,
              "#ed7953"
             ],
             [
              0.7777777777777778,
              "#fb9f3a"
             ],
             [
              0.8888888888888888,
              "#fdca26"
             ],
             [
              1,
              "#f0f921"
             ]
            ],
            "type": "surface"
           }
          ],
          "table": [
           {
            "cells": {
             "fill": {
              "color": "#EBF0F8"
             },
             "line": {
              "color": "white"
             }
            },
            "header": {
             "fill": {
              "color": "#C8D4E3"
             },
             "line": {
              "color": "white"
             }
            },
            "type": "table"
           }
          ]
         },
         "layout": {
          "annotationdefaults": {
           "arrowcolor": "#2a3f5f",
           "arrowhead": 0,
           "arrowwidth": 1
          },
          "autotypenumbers": "strict",
          "coloraxis": {
           "colorbar": {
            "outlinewidth": 0,
            "ticks": ""
           }
          },
          "colorscale": {
           "diverging": [
            [
             0,
             "#8e0152"
            ],
            [
             0.1,
             "#c51b7d"
            ],
            [
             0.2,
             "#de77ae"
            ],
            [
             0.3,
             "#f1b6da"
            ],
            [
             0.4,
             "#fde0ef"
            ],
            [
             0.5,
             "#f7f7f7"
            ],
            [
             0.6,
             "#e6f5d0"
            ],
            [
             0.7,
             "#b8e186"
            ],
            [
             0.8,
             "#7fbc41"
            ],
            [
             0.9,
             "#4d9221"
            ],
            [
             1,
             "#276419"
            ]
           ],
           "sequential": [
            [
             0,
             "#0d0887"
            ],
            [
             0.1111111111111111,
             "#46039f"
            ],
            [
             0.2222222222222222,
             "#7201a8"
            ],
            [
             0.3333333333333333,
             "#9c179e"
            ],
            [
             0.4444444444444444,
             "#bd3786"
            ],
            [
             0.5555555555555556,
             "#d8576b"
            ],
            [
             0.6666666666666666,
             "#ed7953"
            ],
            [
             0.7777777777777778,
             "#fb9f3a"
            ],
            [
             0.8888888888888888,
             "#fdca26"
            ],
            [
             1,
             "#f0f921"
            ]
           ],
           "sequentialminus": [
            [
             0,
             "#0d0887"
            ],
            [
             0.1111111111111111,
             "#46039f"
            ],
            [
             0.2222222222222222,
             "#7201a8"
            ],
            [
             0.3333333333333333,
             "#9c179e"
            ],
            [
             0.4444444444444444,
             "#bd3786"
            ],
            [
             0.5555555555555556,
             "#d8576b"
            ],
            [
             0.6666666666666666,
             "#ed7953"
            ],
            [
             0.7777777777777778,
             "#fb9f3a"
            ],
            [
             0.8888888888888888,
             "#fdca26"
            ],
            [
             1,
             "#f0f921"
            ]
           ]
          },
          "colorway": [
           "#636efa",
           "#EF553B",
           "#00cc96",
           "#ab63fa",
           "#FFA15A",
           "#19d3f3",
           "#FF6692",
           "#B6E880",
           "#FF97FF",
           "#FECB52"
          ],
          "font": {
           "color": "#2a3f5f"
          },
          "geo": {
           "bgcolor": "white",
           "lakecolor": "white",
           "landcolor": "#E5ECF6",
           "showlakes": true,
           "showland": true,
           "subunitcolor": "white"
          },
          "hoverlabel": {
           "align": "left"
          },
          "hovermode": "closest",
          "mapbox": {
           "style": "light"
          },
          "paper_bgcolor": "white",
          "plot_bgcolor": "#E5ECF6",
          "polar": {
           "angularaxis": {
            "gridcolor": "white",
            "linecolor": "white",
            "ticks": ""
           },
           "bgcolor": "#E5ECF6",
           "radialaxis": {
            "gridcolor": "white",
            "linecolor": "white",
            "ticks": ""
           }
          },
          "scene": {
           "xaxis": {
            "backgroundcolor": "#E5ECF6",
            "gridcolor": "white",
            "gridwidth": 2,
            "linecolor": "white",
            "showbackground": true,
            "ticks": "",
            "zerolinecolor": "white"
           },
           "yaxis": {
            "backgroundcolor": "#E5ECF6",
            "gridcolor": "white",
            "gridwidth": 2,
            "linecolor": "white",
            "showbackground": true,
            "ticks": "",
            "zerolinecolor": "white"
           },
           "zaxis": {
            "backgroundcolor": "#E5ECF6",
            "gridcolor": "white",
            "gridwidth": 2,
            "linecolor": "white",
            "showbackground": true,
            "ticks": "",
            "zerolinecolor": "white"
           }
          },
          "shapedefaults": {
           "line": {
            "color": "#2a3f5f"
           }
          },
          "ternary": {
           "aaxis": {
            "gridcolor": "white",
            "linecolor": "white",
            "ticks": ""
           },
           "baxis": {
            "gridcolor": "white",
            "linecolor": "white",
            "ticks": ""
           },
           "bgcolor": "#E5ECF6",
           "caxis": {
            "gridcolor": "white",
            "linecolor": "white",
            "ticks": ""
           }
          },
          "title": {
           "x": 0.05
          },
          "xaxis": {
           "automargin": true,
           "gridcolor": "white",
           "linecolor": "white",
           "ticks": "",
           "title": {
            "standoff": 15
           },
           "zerolinecolor": "white",
           "zerolinewidth": 2
          },
          "yaxis": {
           "automargin": true,
           "gridcolor": "white",
           "linecolor": "white",
           "ticks": "",
           "title": {
            "standoff": 15
           },
           "zerolinecolor": "white",
           "zerolinewidth": 2
          }
         }
        },
        "xaxis": {
         "anchor": "y",
         "domain": [
          0,
          1
         ],
         "title": {
          "text": "x"
         }
        },
        "yaxis": {
         "anchor": "x",
         "domain": [
          0,
          1
         ],
         "title": {
          "text": "value"
         }
        }
       }
      }
     },
     "metadata": {},
     "output_type": "display_data"
    }
   ],
   "source": [
    "fig = px.line(y=[(df_test.nir - df_test.red) / (df_test.nir + df_test.red), (data.nir - data.red) / (data.nir + data.red)], x=df_test.time)\n",
    "fig.show()"
   ]
  },
  {
   "attachments": {},
   "cell_type": "markdown",
   "id": "593cd489",
   "metadata": {},
   "source": [
    "Fill using pandas interpolation"
   ]
  },
  {
   "cell_type": "code",
   "execution_count": 155,
   "id": "8a09a9a2",
   "metadata": {},
   "outputs": [],
   "source": [
    "df_test = data_filter.copy(deep=True)\n",
    "\n",
    "df_test.loc[:, ['red','green', 'blue', 'rededge1', 'rededge2', 'rededge3', 'nir', 'swir']] = df_test[['red','green', 'blue', 'rededge1', 'rededge2', 'rededge3', 'nir', 'swir']].interpolate(method=\"linear\", axis=\"index\", limit=4, limit_direction='both')"
   ]
  },
  {
   "cell_type": "code",
   "execution_count": 157,
   "id": "9e749cf2",
   "metadata": {},
   "outputs": [
    {
     "data": {
      "application/vnd.plotly.v1+json": {
       "config": {
        "plotlyServerURL": "https://plot.ly"
       },
       "data": [
        {
         "hovertemplate": "variable=wide_variable_0<br>x=%{x}<br>value=%{y}<extra></extra>",
         "legendgroup": "wide_variable_0",
         "line": {
          "color": "#636efa",
          "dash": "solid"
         },
         "marker": {
          "symbol": "circle"
         },
         "mode": "lines",
         "name": "wide_variable_0",
         "orientation": "v",
         "showlegend": true,
         "type": "scatter",
         "x": [
          "2022-07-14T00:00:00",
          "2022-07-09T00:00:00",
          "2022-07-04T00:00:00",
          "2022-06-29T00:00:00",
          "2022-06-24T00:00:00",
          "2022-06-19T00:00:00",
          "2022-06-14T00:00:00",
          "2022-06-09T00:00:00",
          "2022-06-04T00:00:00",
          "2022-05-30T00:00:00",
          "2022-05-25T00:00:00",
          "2022-05-20T00:00:00",
          "2022-05-15T00:00:00",
          "2022-05-10T00:00:00",
          "2022-04-30T00:00:00",
          "2022-04-25T00:00:00",
          "2022-04-20T00:00:00",
          "2022-04-15T00:00:00",
          "2022-04-10T00:00:00",
          "2022-04-05T00:00:00",
          "2022-03-31T00:00:00",
          "2022-03-26T00:00:00",
          "2022-03-21T00:00:00",
          "2022-03-16T00:00:00"
         ],
         "xaxis": "x",
         "y": [
          0.5072575211524963,
          0.5072575211524963,
          0.5072575211524963,
          0.5072575211524963,
          0.5072575211524963,
          0.5606372952461243,
          0.5419012904167175,
          0.5151475071907043,
          0.5433816313743591,
          0.5146125555038452,
          0.48496049642562866,
          0.37346988916397095,
          0.38841408491134644,
          0.2895198166370392,
          0.18611985445022583,
          0.07789895683526993,
          0.005179576110094786,
          0.03677749261260033,
          0.06509635597467422,
          0.24279434978961945,
          0.31734007596969604,
          0.42478346824645996,
          0.243865966796875,
          0.243865966796875
         ],
         "yaxis": "y"
        },
        {
         "hovertemplate": "variable=wide_variable_1<br>x=%{x}<br>value=%{y}<extra></extra>",
         "legendgroup": "wide_variable_1",
         "line": {
          "color": "#EF553B",
          "dash": "solid"
         },
         "marker": {
          "symbol": "circle"
         },
         "mode": "lines",
         "name": "wide_variable_1",
         "orientation": "v",
         "showlegend": true,
         "type": "scatter",
         "x": [
          "2022-07-14T00:00:00",
          "2022-07-09T00:00:00",
          "2022-07-04T00:00:00",
          "2022-06-29T00:00:00",
          "2022-06-24T00:00:00",
          "2022-06-19T00:00:00",
          "2022-06-14T00:00:00",
          "2022-06-09T00:00:00",
          "2022-06-04T00:00:00",
          "2022-05-30T00:00:00",
          "2022-05-25T00:00:00",
          "2022-05-20T00:00:00",
          "2022-05-15T00:00:00",
          "2022-05-10T00:00:00",
          "2022-04-30T00:00:00",
          "2022-04-25T00:00:00",
          "2022-04-20T00:00:00",
          "2022-04-15T00:00:00",
          "2022-04-10T00:00:00",
          "2022-04-05T00:00:00",
          "2022-03-31T00:00:00",
          "2022-03-26T00:00:00",
          "2022-03-21T00:00:00",
          "2022-03-16T00:00:00"
         ],
         "xaxis": "x",
         "y": [
          0.1913146674633026,
          0.3742886185646057,
          0.11295536160469055,
          0.1672661155462265,
          0.40197235345840454,
          0.20667409896850586,
          0.3295622169971466,
          0.5151475071907043,
          0.5433816313743591,
          0.16397233307361603,
          0.48496049642562866,
          0.3732358515262604,
          0.3853597640991211,
          -0.002254339400678873,
          0.012768932618200779,
          0.07798980921506882,
          0.015036171302199364,
          -0.06666956096887589,
          0.051140494644641876,
          0.2665747404098511,
          0.2460085153579712,
          0.1649174988269806,
          0.23431085050106049,
          -0.0011005450505763292
         ],
         "yaxis": "y"
        }
       ],
       "layout": {
        "legend": {
         "title": {
          "text": "variable"
         },
         "tracegroupgap": 0
        },
        "margin": {
         "t": 60
        },
        "template": {
         "data": {
          "bar": [
           {
            "error_x": {
             "color": "#2a3f5f"
            },
            "error_y": {
             "color": "#2a3f5f"
            },
            "marker": {
             "line": {
              "color": "#E5ECF6",
              "width": 0.5
             },
             "pattern": {
              "fillmode": "overlay",
              "size": 10,
              "solidity": 0.2
             }
            },
            "type": "bar"
           }
          ],
          "barpolar": [
           {
            "marker": {
             "line": {
              "color": "#E5ECF6",
              "width": 0.5
             },
             "pattern": {
              "fillmode": "overlay",
              "size": 10,
              "solidity": 0.2
             }
            },
            "type": "barpolar"
           }
          ],
          "carpet": [
           {
            "aaxis": {
             "endlinecolor": "#2a3f5f",
             "gridcolor": "white",
             "linecolor": "white",
             "minorgridcolor": "white",
             "startlinecolor": "#2a3f5f"
            },
            "baxis": {
             "endlinecolor": "#2a3f5f",
             "gridcolor": "white",
             "linecolor": "white",
             "minorgridcolor": "white",
             "startlinecolor": "#2a3f5f"
            },
            "type": "carpet"
           }
          ],
          "choropleth": [
           {
            "colorbar": {
             "outlinewidth": 0,
             "ticks": ""
            },
            "type": "choropleth"
           }
          ],
          "contour": [
           {
            "colorbar": {
             "outlinewidth": 0,
             "ticks": ""
            },
            "colorscale": [
             [
              0,
              "#0d0887"
             ],
             [
              0.1111111111111111,
              "#46039f"
             ],
             [
              0.2222222222222222,
              "#7201a8"
             ],
             [
              0.3333333333333333,
              "#9c179e"
             ],
             [
              0.4444444444444444,
              "#bd3786"
             ],
             [
              0.5555555555555556,
              "#d8576b"
             ],
             [
              0.6666666666666666,
              "#ed7953"
             ],
             [
              0.7777777777777778,
              "#fb9f3a"
             ],
             [
              0.8888888888888888,
              "#fdca26"
             ],
             [
              1,
              "#f0f921"
             ]
            ],
            "type": "contour"
           }
          ],
          "contourcarpet": [
           {
            "colorbar": {
             "outlinewidth": 0,
             "ticks": ""
            },
            "type": "contourcarpet"
           }
          ],
          "heatmap": [
           {
            "colorbar": {
             "outlinewidth": 0,
             "ticks": ""
            },
            "colorscale": [
             [
              0,
              "#0d0887"
             ],
             [
              0.1111111111111111,
              "#46039f"
             ],
             [
              0.2222222222222222,
              "#7201a8"
             ],
             [
              0.3333333333333333,
              "#9c179e"
             ],
             [
              0.4444444444444444,
              "#bd3786"
             ],
             [
              0.5555555555555556,
              "#d8576b"
             ],
             [
              0.6666666666666666,
              "#ed7953"
             ],
             [
              0.7777777777777778,
              "#fb9f3a"
             ],
             [
              0.8888888888888888,
              "#fdca26"
             ],
             [
              1,
              "#f0f921"
             ]
            ],
            "type": "heatmap"
           }
          ],
          "heatmapgl": [
           {
            "colorbar": {
             "outlinewidth": 0,
             "ticks": ""
            },
            "colorscale": [
             [
              0,
              "#0d0887"
             ],
             [
              0.1111111111111111,
              "#46039f"
             ],
             [
              0.2222222222222222,
              "#7201a8"
             ],
             [
              0.3333333333333333,
              "#9c179e"
             ],
             [
              0.4444444444444444,
              "#bd3786"
             ],
             [
              0.5555555555555556,
              "#d8576b"
             ],
             [
              0.6666666666666666,
              "#ed7953"
             ],
             [
              0.7777777777777778,
              "#fb9f3a"
             ],
             [
              0.8888888888888888,
              "#fdca26"
             ],
             [
              1,
              "#f0f921"
             ]
            ],
            "type": "heatmapgl"
           }
          ],
          "histogram": [
           {
            "marker": {
             "pattern": {
              "fillmode": "overlay",
              "size": 10,
              "solidity": 0.2
             }
            },
            "type": "histogram"
           }
          ],
          "histogram2d": [
           {
            "colorbar": {
             "outlinewidth": 0,
             "ticks": ""
            },
            "colorscale": [
             [
              0,
              "#0d0887"
             ],
             [
              0.1111111111111111,
              "#46039f"
             ],
             [
              0.2222222222222222,
              "#7201a8"
             ],
             [
              0.3333333333333333,
              "#9c179e"
             ],
             [
              0.4444444444444444,
              "#bd3786"
             ],
             [
              0.5555555555555556,
              "#d8576b"
             ],
             [
              0.6666666666666666,
              "#ed7953"
             ],
             [
              0.7777777777777778,
              "#fb9f3a"
             ],
             [
              0.8888888888888888,
              "#fdca26"
             ],
             [
              1,
              "#f0f921"
             ]
            ],
            "type": "histogram2d"
           }
          ],
          "histogram2dcontour": [
           {
            "colorbar": {
             "outlinewidth": 0,
             "ticks": ""
            },
            "colorscale": [
             [
              0,
              "#0d0887"
             ],
             [
              0.1111111111111111,
              "#46039f"
             ],
             [
              0.2222222222222222,
              "#7201a8"
             ],
             [
              0.3333333333333333,
              "#9c179e"
             ],
             [
              0.4444444444444444,
              "#bd3786"
             ],
             [
              0.5555555555555556,
              "#d8576b"
             ],
             [
              0.6666666666666666,
              "#ed7953"
             ],
             [
              0.7777777777777778,
              "#fb9f3a"
             ],
             [
              0.8888888888888888,
              "#fdca26"
             ],
             [
              1,
              "#f0f921"
             ]
            ],
            "type": "histogram2dcontour"
           }
          ],
          "mesh3d": [
           {
            "colorbar": {
             "outlinewidth": 0,
             "ticks": ""
            },
            "type": "mesh3d"
           }
          ],
          "parcoords": [
           {
            "line": {
             "colorbar": {
              "outlinewidth": 0,
              "ticks": ""
             }
            },
            "type": "parcoords"
           }
          ],
          "pie": [
           {
            "automargin": true,
            "type": "pie"
           }
          ],
          "scatter": [
           {
            "fillpattern": {
             "fillmode": "overlay",
             "size": 10,
             "solidity": 0.2
            },
            "type": "scatter"
           }
          ],
          "scatter3d": [
           {
            "line": {
             "colorbar": {
              "outlinewidth": 0,
              "ticks": ""
             }
            },
            "marker": {
             "colorbar": {
              "outlinewidth": 0,
              "ticks": ""
             }
            },
            "type": "scatter3d"
           }
          ],
          "scattercarpet": [
           {
            "marker": {
             "colorbar": {
              "outlinewidth": 0,
              "ticks": ""
             }
            },
            "type": "scattercarpet"
           }
          ],
          "scattergeo": [
           {
            "marker": {
             "colorbar": {
              "outlinewidth": 0,
              "ticks": ""
             }
            },
            "type": "scattergeo"
           }
          ],
          "scattergl": [
           {
            "marker": {
             "colorbar": {
              "outlinewidth": 0,
              "ticks": ""
             }
            },
            "type": "scattergl"
           }
          ],
          "scattermapbox": [
           {
            "marker": {
             "colorbar": {
              "outlinewidth": 0,
              "ticks": ""
             }
            },
            "type": "scattermapbox"
           }
          ],
          "scatterpolar": [
           {
            "marker": {
             "colorbar": {
              "outlinewidth": 0,
              "ticks": ""
             }
            },
            "type": "scatterpolar"
           }
          ],
          "scatterpolargl": [
           {
            "marker": {
             "colorbar": {
              "outlinewidth": 0,
              "ticks": ""
             }
            },
            "type": "scatterpolargl"
           }
          ],
          "scatterternary": [
           {
            "marker": {
             "colorbar": {
              "outlinewidth": 0,
              "ticks": ""
             }
            },
            "type": "scatterternary"
           }
          ],
          "surface": [
           {
            "colorbar": {
             "outlinewidth": 0,
             "ticks": ""
            },
            "colorscale": [
             [
              0,
              "#0d0887"
             ],
             [
              0.1111111111111111,
              "#46039f"
             ],
             [
              0.2222222222222222,
              "#7201a8"
             ],
             [
              0.3333333333333333,
              "#9c179e"
             ],
             [
              0.4444444444444444,
              "#bd3786"
             ],
             [
              0.5555555555555556,
              "#d8576b"
             ],
             [
              0.6666666666666666,
              "#ed7953"
             ],
             [
              0.7777777777777778,
              "#fb9f3a"
             ],
             [
              0.8888888888888888,
              "#fdca26"
             ],
             [
              1,
              "#f0f921"
             ]
            ],
            "type": "surface"
           }
          ],
          "table": [
           {
            "cells": {
             "fill": {
              "color": "#EBF0F8"
             },
             "line": {
              "color": "white"
             }
            },
            "header": {
             "fill": {
              "color": "#C8D4E3"
             },
             "line": {
              "color": "white"
             }
            },
            "type": "table"
           }
          ]
         },
         "layout": {
          "annotationdefaults": {
           "arrowcolor": "#2a3f5f",
           "arrowhead": 0,
           "arrowwidth": 1
          },
          "autotypenumbers": "strict",
          "coloraxis": {
           "colorbar": {
            "outlinewidth": 0,
            "ticks": ""
           }
          },
          "colorscale": {
           "diverging": [
            [
             0,
             "#8e0152"
            ],
            [
             0.1,
             "#c51b7d"
            ],
            [
             0.2,
             "#de77ae"
            ],
            [
             0.3,
             "#f1b6da"
            ],
            [
             0.4,
             "#fde0ef"
            ],
            [
             0.5,
             "#f7f7f7"
            ],
            [
             0.6,
             "#e6f5d0"
            ],
            [
             0.7,
             "#b8e186"
            ],
            [
             0.8,
             "#7fbc41"
            ],
            [
             0.9,
             "#4d9221"
            ],
            [
             1,
             "#276419"
            ]
           ],
           "sequential": [
            [
             0,
             "#0d0887"
            ],
            [
             0.1111111111111111,
             "#46039f"
            ],
            [
             0.2222222222222222,
             "#7201a8"
            ],
            [
             0.3333333333333333,
             "#9c179e"
            ],
            [
             0.4444444444444444,
             "#bd3786"
            ],
            [
             0.5555555555555556,
             "#d8576b"
            ],
            [
             0.6666666666666666,
             "#ed7953"
            ],
            [
             0.7777777777777778,
             "#fb9f3a"
            ],
            [
             0.8888888888888888,
             "#fdca26"
            ],
            [
             1,
             "#f0f921"
            ]
           ],
           "sequentialminus": [
            [
             0,
             "#0d0887"
            ],
            [
             0.1111111111111111,
             "#46039f"
            ],
            [
             0.2222222222222222,
             "#7201a8"
            ],
            [
             0.3333333333333333,
             "#9c179e"
            ],
            [
             0.4444444444444444,
             "#bd3786"
            ],
            [
             0.5555555555555556,
             "#d8576b"
            ],
            [
             0.6666666666666666,
             "#ed7953"
            ],
            [
             0.7777777777777778,
             "#fb9f3a"
            ],
            [
             0.8888888888888888,
             "#fdca26"
            ],
            [
             1,
             "#f0f921"
            ]
           ]
          },
          "colorway": [
           "#636efa",
           "#EF553B",
           "#00cc96",
           "#ab63fa",
           "#FFA15A",
           "#19d3f3",
           "#FF6692",
           "#B6E880",
           "#FF97FF",
           "#FECB52"
          ],
          "font": {
           "color": "#2a3f5f"
          },
          "geo": {
           "bgcolor": "white",
           "lakecolor": "white",
           "landcolor": "#E5ECF6",
           "showlakes": true,
           "showland": true,
           "subunitcolor": "white"
          },
          "hoverlabel": {
           "align": "left"
          },
          "hovermode": "closest",
          "mapbox": {
           "style": "light"
          },
          "paper_bgcolor": "white",
          "plot_bgcolor": "#E5ECF6",
          "polar": {
           "angularaxis": {
            "gridcolor": "white",
            "linecolor": "white",
            "ticks": ""
           },
           "bgcolor": "#E5ECF6",
           "radialaxis": {
            "gridcolor": "white",
            "linecolor": "white",
            "ticks": ""
           }
          },
          "scene": {
           "xaxis": {
            "backgroundcolor": "#E5ECF6",
            "gridcolor": "white",
            "gridwidth": 2,
            "linecolor": "white",
            "showbackground": true,
            "ticks": "",
            "zerolinecolor": "white"
           },
           "yaxis": {
            "backgroundcolor": "#E5ECF6",
            "gridcolor": "white",
            "gridwidth": 2,
            "linecolor": "white",
            "showbackground": true,
            "ticks": "",
            "zerolinecolor": "white"
           },
           "zaxis": {
            "backgroundcolor": "#E5ECF6",
            "gridcolor": "white",
            "gridwidth": 2,
            "linecolor": "white",
            "showbackground": true,
            "ticks": "",
            "zerolinecolor": "white"
           }
          },
          "shapedefaults": {
           "line": {
            "color": "#2a3f5f"
           }
          },
          "ternary": {
           "aaxis": {
            "gridcolor": "white",
            "linecolor": "white",
            "ticks": ""
           },
           "baxis": {
            "gridcolor": "white",
            "linecolor": "white",
            "ticks": ""
           },
           "bgcolor": "#E5ECF6",
           "caxis": {
            "gridcolor": "white",
            "linecolor": "white",
            "ticks": ""
           }
          },
          "title": {
           "x": 0.05
          },
          "xaxis": {
           "automargin": true,
           "gridcolor": "white",
           "linecolor": "white",
           "ticks": "",
           "title": {
            "standoff": 15
           },
           "zerolinecolor": "white",
           "zerolinewidth": 2
          },
          "yaxis": {
           "automargin": true,
           "gridcolor": "white",
           "linecolor": "white",
           "ticks": "",
           "title": {
            "standoff": 15
           },
           "zerolinecolor": "white",
           "zerolinewidth": 2
          }
         }
        },
        "xaxis": {
         "anchor": "y",
         "domain": [
          0,
          1
         ],
         "title": {
          "text": "x"
         }
        },
        "yaxis": {
         "anchor": "x",
         "domain": [
          0,
          1
         ],
         "title": {
          "text": "value"
         }
        }
       }
      }
     },
     "metadata": {},
     "output_type": "display_data"
    }
   ],
   "source": [
    "fig = px.line(y=[(df_test.nir - df_test.red) / (df_test.nir + df_test.red), (data.nir - data.red) / (data.nir + data.red)], x=df_test.time)\n",
    "fig.show()"
   ]
  },
  {
   "attachments": {},
   "cell_type": "markdown",
   "id": "2836776a",
   "metadata": {},
   "source": [
    "Smooth the data and fill nan on filter data"
   ]
  },
  {
   "cell_type": "code",
   "execution_count": 172,
   "id": "b339723b",
   "metadata": {},
   "outputs": [],
   "source": [
    "from scipy.signal import savgol_filter\n",
    "\n",
    "df_test = data_filter.copy(deep=True)\n",
    "\n",
    "arr = savgol_filter(data[['red','green', 'blue', 'rededge1', 'rededge2', 'rededge3', 'nir', 'swir']], axis=0, window_length=12, polyorder=4)\n",
    "test = pd.DataFrame(arr, index=df_test.index, columns=['red','green', 'blue', 'rededge1', 'rededge2', 'rededge3', 'nir', 'swir'])\n",
    "\n",
    "df_test.loc[:, ['red','green', 'blue', 'rededge1', 'rededge2', 'rededge3', 'nir', 'swir']] = df_test[['red','green', 'blue', 'rededge1', 'rededge2', 'rededge3', 'nir', 'swir']].fillna(test)"
   ]
  },
  {
   "cell_type": "code",
   "execution_count": 175,
   "id": "00c7924b",
   "metadata": {},
   "outputs": [
    {
     "data": {
      "application/vnd.plotly.v1+json": {
       "config": {
        "plotlyServerURL": "https://plot.ly"
       },
       "data": [
        {
         "hovertemplate": "variable=wide_variable_0<br>x=%{x}<br>value=%{y}<extra></extra>",
         "legendgroup": "wide_variable_0",
         "line": {
          "color": "#636efa",
          "dash": "solid"
         },
         "marker": {
          "symbol": "circle"
         },
         "mode": "lines",
         "name": "wide_variable_0",
         "orientation": "v",
         "showlegend": true,
         "type": "scatter",
         "x": [
          "2022-07-14T00:00:00",
          "2022-07-09T00:00:00",
          "2022-07-04T00:00:00",
          "2022-06-29T00:00:00",
          "2022-06-24T00:00:00",
          "2022-06-19T00:00:00",
          "2022-06-14T00:00:00",
          "2022-06-09T00:00:00",
          "2022-06-04T00:00:00",
          "2022-05-30T00:00:00",
          "2022-05-25T00:00:00",
          "2022-05-20T00:00:00",
          "2022-05-15T00:00:00",
          "2022-05-10T00:00:00",
          "2022-04-30T00:00:00",
          "2022-04-25T00:00:00",
          "2022-04-20T00:00:00",
          "2022-04-15T00:00:00",
          "2022-04-10T00:00:00",
          "2022-04-05T00:00:00",
          "2022-03-31T00:00:00",
          "2022-03-26T00:00:00",
          "2022-03-21T00:00:00",
          "2022-03-16T00:00:00"
         ],
         "xaxis": "x",
         "y": [
          0.2534976899623871,
          0.19049270451068878,
          0.18796245753765106,
          0.21435964107513428,
          0.5072575211524963,
          0.5606372952461243,
          0.38311925530433655,
          0.5151475071907043,
          0.5433816313743591,
          0.4852615296840668,
          0.48496049642562866,
          0.37346988916397095,
          0.38841408491134644,
          0.07593898475170135,
          -0.013023416511714458,
          0.07789895683526993,
          0.005179576110094786,
          0.01775234565138817,
          0.06509635597467422,
          0.24279434978961945,
          0.31734007596969604,
          0.42478346824645996,
          0.243865966796875,
          -0.000807287055067718
         ],
         "yaxis": "y"
        },
        {
         "hovertemplate": "variable=wide_variable_1<br>x=%{x}<br>value=%{y}<extra></extra>",
         "legendgroup": "wide_variable_1",
         "line": {
          "color": "#EF553B",
          "dash": "solid"
         },
         "marker": {
          "symbol": "circle"
         },
         "mode": "lines",
         "name": "wide_variable_1",
         "orientation": "v",
         "showlegend": true,
         "type": "scatter",
         "x": [
          "2022-07-14T00:00:00",
          "2022-07-09T00:00:00",
          "2022-07-04T00:00:00",
          "2022-06-29T00:00:00",
          "2022-06-24T00:00:00",
          "2022-06-19T00:00:00",
          "2022-06-14T00:00:00",
          "2022-06-09T00:00:00",
          "2022-06-04T00:00:00",
          "2022-05-30T00:00:00",
          "2022-05-25T00:00:00",
          "2022-05-20T00:00:00",
          "2022-05-15T00:00:00",
          "2022-05-10T00:00:00",
          "2022-04-30T00:00:00",
          "2022-04-25T00:00:00",
          "2022-04-20T00:00:00",
          "2022-04-15T00:00:00",
          "2022-04-10T00:00:00",
          "2022-04-05T00:00:00",
          "2022-03-31T00:00:00",
          "2022-03-26T00:00:00",
          "2022-03-21T00:00:00",
          "2022-03-16T00:00:00"
         ],
         "xaxis": "x",
         "y": [
          0.1913146674633026,
          0.3742886185646057,
          0.11295536160469055,
          0.1672661155462265,
          0.40197235345840454,
          0.20667409896850586,
          0.3295622169971466,
          0.5151475071907043,
          0.5433816313743591,
          0.16397233307361603,
          0.48496049642562866,
          0.3732358515262604,
          0.3853597640991211,
          -0.002254339400678873,
          0.012768932618200779,
          0.07798980921506882,
          0.015036171302199364,
          -0.06666956096887589,
          0.051140494644641876,
          0.2665747404098511,
          0.2460085153579712,
          0.1649174988269806,
          0.23431085050106049,
          -0.0011005450505763292
         ],
         "yaxis": "y"
        }
       ],
       "layout": {
        "legend": {
         "title": {
          "text": "variable"
         },
         "tracegroupgap": 0
        },
        "margin": {
         "t": 60
        },
        "template": {
         "data": {
          "bar": [
           {
            "error_x": {
             "color": "#2a3f5f"
            },
            "error_y": {
             "color": "#2a3f5f"
            },
            "marker": {
             "line": {
              "color": "#E5ECF6",
              "width": 0.5
             },
             "pattern": {
              "fillmode": "overlay",
              "size": 10,
              "solidity": 0.2
             }
            },
            "type": "bar"
           }
          ],
          "barpolar": [
           {
            "marker": {
             "line": {
              "color": "#E5ECF6",
              "width": 0.5
             },
             "pattern": {
              "fillmode": "overlay",
              "size": 10,
              "solidity": 0.2
             }
            },
            "type": "barpolar"
           }
          ],
          "carpet": [
           {
            "aaxis": {
             "endlinecolor": "#2a3f5f",
             "gridcolor": "white",
             "linecolor": "white",
             "minorgridcolor": "white",
             "startlinecolor": "#2a3f5f"
            },
            "baxis": {
             "endlinecolor": "#2a3f5f",
             "gridcolor": "white",
             "linecolor": "white",
             "minorgridcolor": "white",
             "startlinecolor": "#2a3f5f"
            },
            "type": "carpet"
           }
          ],
          "choropleth": [
           {
            "colorbar": {
             "outlinewidth": 0,
             "ticks": ""
            },
            "type": "choropleth"
           }
          ],
          "contour": [
           {
            "colorbar": {
             "outlinewidth": 0,
             "ticks": ""
            },
            "colorscale": [
             [
              0,
              "#0d0887"
             ],
             [
              0.1111111111111111,
              "#46039f"
             ],
             [
              0.2222222222222222,
              "#7201a8"
             ],
             [
              0.3333333333333333,
              "#9c179e"
             ],
             [
              0.4444444444444444,
              "#bd3786"
             ],
             [
              0.5555555555555556,
              "#d8576b"
             ],
             [
              0.6666666666666666,
              "#ed7953"
             ],
             [
              0.7777777777777778,
              "#fb9f3a"
             ],
             [
              0.8888888888888888,
              "#fdca26"
             ],
             [
              1,
              "#f0f921"
             ]
            ],
            "type": "contour"
           }
          ],
          "contourcarpet": [
           {
            "colorbar": {
             "outlinewidth": 0,
             "ticks": ""
            },
            "type": "contourcarpet"
           }
          ],
          "heatmap": [
           {
            "colorbar": {
             "outlinewidth": 0,
             "ticks": ""
            },
            "colorscale": [
             [
              0,
              "#0d0887"
             ],
             [
              0.1111111111111111,
              "#46039f"
             ],
             [
              0.2222222222222222,
              "#7201a8"
             ],
             [
              0.3333333333333333,
              "#9c179e"
             ],
             [
              0.4444444444444444,
              "#bd3786"
             ],
             [
              0.5555555555555556,
              "#d8576b"
             ],
             [
              0.6666666666666666,
              "#ed7953"
             ],
             [
              0.7777777777777778,
              "#fb9f3a"
             ],
             [
              0.8888888888888888,
              "#fdca26"
             ],
             [
              1,
              "#f0f921"
             ]
            ],
            "type": "heatmap"
           }
          ],
          "heatmapgl": [
           {
            "colorbar": {
             "outlinewidth": 0,
             "ticks": ""
            },
            "colorscale": [
             [
              0,
              "#0d0887"
             ],
             [
              0.1111111111111111,
              "#46039f"
             ],
             [
              0.2222222222222222,
              "#7201a8"
             ],
             [
              0.3333333333333333,
              "#9c179e"
             ],
             [
              0.4444444444444444,
              "#bd3786"
             ],
             [
              0.5555555555555556,
              "#d8576b"
             ],
             [
              0.6666666666666666,
              "#ed7953"
             ],
             [
              0.7777777777777778,
              "#fb9f3a"
             ],
             [
              0.8888888888888888,
              "#fdca26"
             ],
             [
              1,
              "#f0f921"
             ]
            ],
            "type": "heatmapgl"
           }
          ],
          "histogram": [
           {
            "marker": {
             "pattern": {
              "fillmode": "overlay",
              "size": 10,
              "solidity": 0.2
             }
            },
            "type": "histogram"
           }
          ],
          "histogram2d": [
           {
            "colorbar": {
             "outlinewidth": 0,
             "ticks": ""
            },
            "colorscale": [
             [
              0,
              "#0d0887"
             ],
             [
              0.1111111111111111,
              "#46039f"
             ],
             [
              0.2222222222222222,
              "#7201a8"
             ],
             [
              0.3333333333333333,
              "#9c179e"
             ],
             [
              0.4444444444444444,
              "#bd3786"
             ],
             [
              0.5555555555555556,
              "#d8576b"
             ],
             [
              0.6666666666666666,
              "#ed7953"
             ],
             [
              0.7777777777777778,
              "#fb9f3a"
             ],
             [
              0.8888888888888888,
              "#fdca26"
             ],
             [
              1,
              "#f0f921"
             ]
            ],
            "type": "histogram2d"
           }
          ],
          "histogram2dcontour": [
           {
            "colorbar": {
             "outlinewidth": 0,
             "ticks": ""
            },
            "colorscale": [
             [
              0,
              "#0d0887"
             ],
             [
              0.1111111111111111,
              "#46039f"
             ],
             [
              0.2222222222222222,
              "#7201a8"
             ],
             [
              0.3333333333333333,
              "#9c179e"
             ],
             [
              0.4444444444444444,
              "#bd3786"
             ],
             [
              0.5555555555555556,
              "#d8576b"
             ],
             [
              0.6666666666666666,
              "#ed7953"
             ],
             [
              0.7777777777777778,
              "#fb9f3a"
             ],
             [
              0.8888888888888888,
              "#fdca26"
             ],
             [
              1,
              "#f0f921"
             ]
            ],
            "type": "histogram2dcontour"
           }
          ],
          "mesh3d": [
           {
            "colorbar": {
             "outlinewidth": 0,
             "ticks": ""
            },
            "type": "mesh3d"
           }
          ],
          "parcoords": [
           {
            "line": {
             "colorbar": {
              "outlinewidth": 0,
              "ticks": ""
             }
            },
            "type": "parcoords"
           }
          ],
          "pie": [
           {
            "automargin": true,
            "type": "pie"
           }
          ],
          "scatter": [
           {
            "fillpattern": {
             "fillmode": "overlay",
             "size": 10,
             "solidity": 0.2
            },
            "type": "scatter"
           }
          ],
          "scatter3d": [
           {
            "line": {
             "colorbar": {
              "outlinewidth": 0,
              "ticks": ""
             }
            },
            "marker": {
             "colorbar": {
              "outlinewidth": 0,
              "ticks": ""
             }
            },
            "type": "scatter3d"
           }
          ],
          "scattercarpet": [
           {
            "marker": {
             "colorbar": {
              "outlinewidth": 0,
              "ticks": ""
             }
            },
            "type": "scattercarpet"
           }
          ],
          "scattergeo": [
           {
            "marker": {
             "colorbar": {
              "outlinewidth": 0,
              "ticks": ""
             }
            },
            "type": "scattergeo"
           }
          ],
          "scattergl": [
           {
            "marker": {
             "colorbar": {
              "outlinewidth": 0,
              "ticks": ""
             }
            },
            "type": "scattergl"
           }
          ],
          "scattermapbox": [
           {
            "marker": {
             "colorbar": {
              "outlinewidth": 0,
              "ticks": ""
             }
            },
            "type": "scattermapbox"
           }
          ],
          "scatterpolar": [
           {
            "marker": {
             "colorbar": {
              "outlinewidth": 0,
              "ticks": ""
             }
            },
            "type": "scatterpolar"
           }
          ],
          "scatterpolargl": [
           {
            "marker": {
             "colorbar": {
              "outlinewidth": 0,
              "ticks": ""
             }
            },
            "type": "scatterpolargl"
           }
          ],
          "scatterternary": [
           {
            "marker": {
             "colorbar": {
              "outlinewidth": 0,
              "ticks": ""
             }
            },
            "type": "scatterternary"
           }
          ],
          "surface": [
           {
            "colorbar": {
             "outlinewidth": 0,
             "ticks": ""
            },
            "colorscale": [
             [
              0,
              "#0d0887"
             ],
             [
              0.1111111111111111,
              "#46039f"
             ],
             [
              0.2222222222222222,
              "#7201a8"
             ],
             [
              0.3333333333333333,
              "#9c179e"
             ],
             [
              0.4444444444444444,
              "#bd3786"
             ],
             [
              0.5555555555555556,
              "#d8576b"
             ],
             [
              0.6666666666666666,
              "#ed7953"
             ],
             [
              0.7777777777777778,
              "#fb9f3a"
             ],
             [
              0.8888888888888888,
              "#fdca26"
             ],
             [
              1,
              "#f0f921"
             ]
            ],
            "type": "surface"
           }
          ],
          "table": [
           {
            "cells": {
             "fill": {
              "color": "#EBF0F8"
             },
             "line": {
              "color": "white"
             }
            },
            "header": {
             "fill": {
              "color": "#C8D4E3"
             },
             "line": {
              "color": "white"
             }
            },
            "type": "table"
           }
          ]
         },
         "layout": {
          "annotationdefaults": {
           "arrowcolor": "#2a3f5f",
           "arrowhead": 0,
           "arrowwidth": 1
          },
          "autotypenumbers": "strict",
          "coloraxis": {
           "colorbar": {
            "outlinewidth": 0,
            "ticks": ""
           }
          },
          "colorscale": {
           "diverging": [
            [
             0,
             "#8e0152"
            ],
            [
             0.1,
             "#c51b7d"
            ],
            [
             0.2,
             "#de77ae"
            ],
            [
             0.3,
             "#f1b6da"
            ],
            [
             0.4,
             "#fde0ef"
            ],
            [
             0.5,
             "#f7f7f7"
            ],
            [
             0.6,
             "#e6f5d0"
            ],
            [
             0.7,
             "#b8e186"
            ],
            [
             0.8,
             "#7fbc41"
            ],
            [
             0.9,
             "#4d9221"
            ],
            [
             1,
             "#276419"
            ]
           ],
           "sequential": [
            [
             0,
             "#0d0887"
            ],
            [
             0.1111111111111111,
             "#46039f"
            ],
            [
             0.2222222222222222,
             "#7201a8"
            ],
            [
             0.3333333333333333,
             "#9c179e"
            ],
            [
             0.4444444444444444,
             "#bd3786"
            ],
            [
             0.5555555555555556,
             "#d8576b"
            ],
            [
             0.6666666666666666,
             "#ed7953"
            ],
            [
             0.7777777777777778,
             "#fb9f3a"
            ],
            [
             0.8888888888888888,
             "#fdca26"
            ],
            [
             1,
             "#f0f921"
            ]
           ],
           "sequentialminus": [
            [
             0,
             "#0d0887"
            ],
            [
             0.1111111111111111,
             "#46039f"
            ],
            [
             0.2222222222222222,
             "#7201a8"
            ],
            [
             0.3333333333333333,
             "#9c179e"
            ],
            [
             0.4444444444444444,
             "#bd3786"
            ],
            [
             0.5555555555555556,
             "#d8576b"
            ],
            [
             0.6666666666666666,
             "#ed7953"
            ],
            [
             0.7777777777777778,
             "#fb9f3a"
            ],
            [
             0.8888888888888888,
             "#fdca26"
            ],
            [
             1,
             "#f0f921"
            ]
           ]
          },
          "colorway": [
           "#636efa",
           "#EF553B",
           "#00cc96",
           "#ab63fa",
           "#FFA15A",
           "#19d3f3",
           "#FF6692",
           "#B6E880",
           "#FF97FF",
           "#FECB52"
          ],
          "font": {
           "color": "#2a3f5f"
          },
          "geo": {
           "bgcolor": "white",
           "lakecolor": "white",
           "landcolor": "#E5ECF6",
           "showlakes": true,
           "showland": true,
           "subunitcolor": "white"
          },
          "hoverlabel": {
           "align": "left"
          },
          "hovermode": "closest",
          "mapbox": {
           "style": "light"
          },
          "paper_bgcolor": "white",
          "plot_bgcolor": "#E5ECF6",
          "polar": {
           "angularaxis": {
            "gridcolor": "white",
            "linecolor": "white",
            "ticks": ""
           },
           "bgcolor": "#E5ECF6",
           "radialaxis": {
            "gridcolor": "white",
            "linecolor": "white",
            "ticks": ""
           }
          },
          "scene": {
           "xaxis": {
            "backgroundcolor": "#E5ECF6",
            "gridcolor": "white",
            "gridwidth": 2,
            "linecolor": "white",
            "showbackground": true,
            "ticks": "",
            "zerolinecolor": "white"
           },
           "yaxis": {
            "backgroundcolor": "#E5ECF6",
            "gridcolor": "white",
            "gridwidth": 2,
            "linecolor": "white",
            "showbackground": true,
            "ticks": "",
            "zerolinecolor": "white"
           },
           "zaxis": {
            "backgroundcolor": "#E5ECF6",
            "gridcolor": "white",
            "gridwidth": 2,
            "linecolor": "white",
            "showbackground": true,
            "ticks": "",
            "zerolinecolor": "white"
           }
          },
          "shapedefaults": {
           "line": {
            "color": "#2a3f5f"
           }
          },
          "ternary": {
           "aaxis": {
            "gridcolor": "white",
            "linecolor": "white",
            "ticks": ""
           },
           "baxis": {
            "gridcolor": "white",
            "linecolor": "white",
            "ticks": ""
           },
           "bgcolor": "#E5ECF6",
           "caxis": {
            "gridcolor": "white",
            "linecolor": "white",
            "ticks": ""
           }
          },
          "title": {
           "x": 0.05
          },
          "xaxis": {
           "automargin": true,
           "gridcolor": "white",
           "linecolor": "white",
           "ticks": "",
           "title": {
            "standoff": 15
           },
           "zerolinecolor": "white",
           "zerolinewidth": 2
          },
          "yaxis": {
           "automargin": true,
           "gridcolor": "white",
           "linecolor": "white",
           "ticks": "",
           "title": {
            "standoff": 15
           },
           "zerolinecolor": "white",
           "zerolinewidth": 2
          }
         }
        },
        "xaxis": {
         "anchor": "y",
         "domain": [
          0,
          1
         ],
         "title": {
          "text": "x"
         }
        },
        "yaxis": {
         "anchor": "x",
         "domain": [
          0,
          1
         ],
         "title": {
          "text": "value"
         }
        }
       }
      }
     },
     "metadata": {},
     "output_type": "display_data"
    }
   ],
   "source": [
    "fig = px.line(y=[(df_test.nir - df_test.red) / (df_test.nir + df_test.red), (data.nir - data.red) / (data.nir + data.red)], x=df_test.time)\n",
    "fig.show()"
   ]
  },
  {
   "attachments": {},
   "cell_type": "markdown",
   "id": "878de435",
   "metadata": {},
   "source": [
    "Use mean value of the same time index"
   ]
  },
  {
   "cell_type": "code",
   "execution_count": 215,
   "id": "35aaac2b",
   "metadata": {},
   "outputs": [],
   "source": [
    "def make_timeseries(df):\n",
    "    df['timeserieindex'] = df['District'].copy(deep=True)\n",
    "    for col in ['Latitude', 'Longitude', 'Season(SA = Summer Autumn, WS = Winter Spring)', 'Rice Crop Intensity(D=Double, T=Triple)', 'Date of Harvest', 'Field size (ha)', 'Rice Yield (kg/ha)']:\n",
    "        df['timeserieindex'] += ' ' + df[col].astype('str')\n",
    "\n",
    "    df['timeserieindex'] = pd.factorize(df['timeserieindex'].astype('str'))[0]\n",
    "    return df"
   ]
  },
  {
   "cell_type": "code",
   "execution_count": 8,
   "id": "68f70218",
   "metadata": {},
   "outputs": [
    {
     "data": {
      "text/html": [
       "<div><svg style=\"position: absolute; width: 0; height: 0; overflow: hidden\">\n",
       "<defs>\n",
       "<symbol id=\"icon-database\" viewBox=\"0 0 32 32\">\n",
       "<path d=\"M16 0c-8.837 0-16 2.239-16 5v4c0 2.761 7.163 5 16 5s16-2.239 16-5v-4c0-2.761-7.163-5-16-5z\"></path>\n",
       "<path d=\"M16 17c-8.837 0-16-2.239-16-5v6c0 2.761 7.163 5 16 5s16-2.239 16-5v-6c0 2.761-7.163 5-16 5z\"></path>\n",
       "<path d=\"M16 26c-8.837 0-16-2.239-16-5v6c0 2.761 7.163 5 16 5s16-2.239 16-5v-6c0 2.761-7.163 5-16 5z\"></path>\n",
       "</symbol>\n",
       "<symbol id=\"icon-file-text2\" viewBox=\"0 0 32 32\">\n",
       "<path d=\"M28.681 7.159c-0.694-0.947-1.662-2.053-2.724-3.116s-2.169-2.030-3.116-2.724c-1.612-1.182-2.393-1.319-2.841-1.319h-15.5c-1.378 0-2.5 1.121-2.5 2.5v27c0 1.378 1.122 2.5 2.5 2.5h23c1.378 0 2.5-1.122 2.5-2.5v-19.5c0-0.448-0.137-1.23-1.319-2.841zM24.543 5.457c0.959 0.959 1.712 1.825 2.268 2.543h-4.811v-4.811c0.718 0.556 1.584 1.309 2.543 2.268zM28 29.5c0 0.271-0.229 0.5-0.5 0.5h-23c-0.271 0-0.5-0.229-0.5-0.5v-27c0-0.271 0.229-0.5 0.5-0.5 0 0 15.499-0 15.5 0v7c0 0.552 0.448 1 1 1h7v19.5z\"></path>\n",
       "<path d=\"M23 26h-14c-0.552 0-1-0.448-1-1s0.448-1 1-1h14c0.552 0 1 0.448 1 1s-0.448 1-1 1z\"></path>\n",
       "<path d=\"M23 22h-14c-0.552 0-1-0.448-1-1s0.448-1 1-1h14c0.552 0 1 0.448 1 1s-0.448 1-1 1z\"></path>\n",
       "<path d=\"M23 18h-14c-0.552 0-1-0.448-1-1s0.448-1 1-1h14c0.552 0 1 0.448 1 1s-0.448 1-1 1z\"></path>\n",
       "</symbol>\n",
       "</defs>\n",
       "</svg>\n",
       "<style>/* CSS stylesheet for displaying xarray objects in jupyterlab.\n",
       " *\n",
       " */\n",
       "\n",
       ":root {\n",
       "  --xr-font-color0: var(--jp-content-font-color0, rgba(0, 0, 0, 1));\n",
       "  --xr-font-color2: var(--jp-content-font-color2, rgba(0, 0, 0, 0.54));\n",
       "  --xr-font-color3: var(--jp-content-font-color3, rgba(0, 0, 0, 0.38));\n",
       "  --xr-border-color: var(--jp-border-color2, #e0e0e0);\n",
       "  --xr-disabled-color: var(--jp-layout-color3, #bdbdbd);\n",
       "  --xr-background-color: var(--jp-layout-color0, white);\n",
       "  --xr-background-color-row-even: var(--jp-layout-color1, white);\n",
       "  --xr-background-color-row-odd: var(--jp-layout-color2, #eeeeee);\n",
       "}\n",
       "\n",
       "html[theme=dark],\n",
       "body[data-theme=dark],\n",
       "body.vscode-dark {\n",
       "  --xr-font-color0: rgba(255, 255, 255, 1);\n",
       "  --xr-font-color2: rgba(255, 255, 255, 0.54);\n",
       "  --xr-font-color3: rgba(255, 255, 255, 0.38);\n",
       "  --xr-border-color: #1F1F1F;\n",
       "  --xr-disabled-color: #515151;\n",
       "  --xr-background-color: #111111;\n",
       "  --xr-background-color-row-even: #111111;\n",
       "  --xr-background-color-row-odd: #313131;\n",
       "}\n",
       "\n",
       ".xr-wrap {\n",
       "  display: block !important;\n",
       "  min-width: 300px;\n",
       "  max-width: 700px;\n",
       "}\n",
       "\n",
       ".xr-text-repr-fallback {\n",
       "  /* fallback to plain text repr when CSS is not injected (untrusted notebook) */\n",
       "  display: none;\n",
       "}\n",
       "\n",
       ".xr-header {\n",
       "  padding-top: 6px;\n",
       "  padding-bottom: 6px;\n",
       "  margin-bottom: 4px;\n",
       "  border-bottom: solid 1px var(--xr-border-color);\n",
       "}\n",
       "\n",
       ".xr-header > div,\n",
       ".xr-header > ul {\n",
       "  display: inline;\n",
       "  margin-top: 0;\n",
       "  margin-bottom: 0;\n",
       "}\n",
       "\n",
       ".xr-obj-type,\n",
       ".xr-array-name {\n",
       "  margin-left: 2px;\n",
       "  margin-right: 10px;\n",
       "}\n",
       "\n",
       ".xr-obj-type {\n",
       "  color: var(--xr-font-color2);\n",
       "}\n",
       "\n",
       ".xr-sections {\n",
       "  padding-left: 0 !important;\n",
       "  display: grid;\n",
       "  grid-template-columns: 150px auto auto 1fr 20px 20px;\n",
       "}\n",
       "\n",
       ".xr-section-item {\n",
       "  display: contents;\n",
       "}\n",
       "\n",
       ".xr-section-item input {\n",
       "  display: none;\n",
       "}\n",
       "\n",
       ".xr-section-item input + label {\n",
       "  color: var(--xr-disabled-color);\n",
       "}\n",
       "\n",
       ".xr-section-item input:enabled + label {\n",
       "  cursor: pointer;\n",
       "  color: var(--xr-font-color2);\n",
       "}\n",
       "\n",
       ".xr-section-item input:enabled + label:hover {\n",
       "  color: var(--xr-font-color0);\n",
       "}\n",
       "\n",
       ".xr-section-summary {\n",
       "  grid-column: 1;\n",
       "  color: var(--xr-font-color2);\n",
       "  font-weight: 500;\n",
       "}\n",
       "\n",
       ".xr-section-summary > span {\n",
       "  display: inline-block;\n",
       "  padding-left: 0.5em;\n",
       "}\n",
       "\n",
       ".xr-section-summary-in:disabled + label {\n",
       "  color: var(--xr-font-color2);\n",
       "}\n",
       "\n",
       ".xr-section-summary-in + label:before {\n",
       "  display: inline-block;\n",
       "  content: '►';\n",
       "  font-size: 11px;\n",
       "  width: 15px;\n",
       "  text-align: center;\n",
       "}\n",
       "\n",
       ".xr-section-summary-in:disabled + label:before {\n",
       "  color: var(--xr-disabled-color);\n",
       "}\n",
       "\n",
       ".xr-section-summary-in:checked + label:before {\n",
       "  content: '▼';\n",
       "}\n",
       "\n",
       ".xr-section-summary-in:checked + label > span {\n",
       "  display: none;\n",
       "}\n",
       "\n",
       ".xr-section-summary,\n",
       ".xr-section-inline-details {\n",
       "  padding-top: 4px;\n",
       "  padding-bottom: 4px;\n",
       "}\n",
       "\n",
       ".xr-section-inline-details {\n",
       "  grid-column: 2 / -1;\n",
       "}\n",
       "\n",
       ".xr-section-details {\n",
       "  display: none;\n",
       "  grid-column: 1 / -1;\n",
       "  margin-bottom: 5px;\n",
       "}\n",
       "\n",
       ".xr-section-summary-in:checked ~ .xr-section-details {\n",
       "  display: contents;\n",
       "}\n",
       "\n",
       ".xr-array-wrap {\n",
       "  grid-column: 1 / -1;\n",
       "  display: grid;\n",
       "  grid-template-columns: 20px auto;\n",
       "}\n",
       "\n",
       ".xr-array-wrap > label {\n",
       "  grid-column: 1;\n",
       "  vertical-align: top;\n",
       "}\n",
       "\n",
       ".xr-preview {\n",
       "  color: var(--xr-font-color3);\n",
       "}\n",
       "\n",
       ".xr-array-preview,\n",
       ".xr-array-data {\n",
       "  padding: 0 5px !important;\n",
       "  grid-column: 2;\n",
       "}\n",
       "\n",
       ".xr-array-data,\n",
       ".xr-array-in:checked ~ .xr-array-preview {\n",
       "  display: none;\n",
       "}\n",
       "\n",
       ".xr-array-in:checked ~ .xr-array-data,\n",
       ".xr-array-preview {\n",
       "  display: inline-block;\n",
       "}\n",
       "\n",
       ".xr-dim-list {\n",
       "  display: inline-block !important;\n",
       "  list-style: none;\n",
       "  padding: 0 !important;\n",
       "  margin: 0;\n",
       "}\n",
       "\n",
       ".xr-dim-list li {\n",
       "  display: inline-block;\n",
       "  padding: 0;\n",
       "  margin: 0;\n",
       "}\n",
       "\n",
       ".xr-dim-list:before {\n",
       "  content: '(';\n",
       "}\n",
       "\n",
       ".xr-dim-list:after {\n",
       "  content: ')';\n",
       "}\n",
       "\n",
       ".xr-dim-list li:not(:last-child):after {\n",
       "  content: ',';\n",
       "  padding-right: 5px;\n",
       "}\n",
       "\n",
       ".xr-has-index {\n",
       "  font-weight: bold;\n",
       "}\n",
       "\n",
       ".xr-var-list,\n",
       ".xr-var-item {\n",
       "  display: contents;\n",
       "}\n",
       "\n",
       ".xr-var-item > div,\n",
       ".xr-var-item label,\n",
       ".xr-var-item > .xr-var-name span {\n",
       "  background-color: var(--xr-background-color-row-even);\n",
       "  margin-bottom: 0;\n",
       "}\n",
       "\n",
       ".xr-var-item > .xr-var-name:hover span {\n",
       "  padding-right: 5px;\n",
       "}\n",
       "\n",
       ".xr-var-list > li:nth-child(odd) > div,\n",
       ".xr-var-list > li:nth-child(odd) > label,\n",
       ".xr-var-list > li:nth-child(odd) > .xr-var-name span {\n",
       "  background-color: var(--xr-background-color-row-odd);\n",
       "}\n",
       "\n",
       ".xr-var-name {\n",
       "  grid-column: 1;\n",
       "}\n",
       "\n",
       ".xr-var-dims {\n",
       "  grid-column: 2;\n",
       "}\n",
       "\n",
       ".xr-var-dtype {\n",
       "  grid-column: 3;\n",
       "  text-align: right;\n",
       "  color: var(--xr-font-color2);\n",
       "}\n",
       "\n",
       ".xr-var-preview {\n",
       "  grid-column: 4;\n",
       "}\n",
       "\n",
       ".xr-index-preview {\n",
       "  grid-column: 2 / 5;\n",
       "  color: var(--xr-font-color2);\n",
       "}\n",
       "\n",
       ".xr-var-name,\n",
       ".xr-var-dims,\n",
       ".xr-var-dtype,\n",
       ".xr-preview,\n",
       ".xr-attrs dt {\n",
       "  white-space: nowrap;\n",
       "  overflow: hidden;\n",
       "  text-overflow: ellipsis;\n",
       "  padding-right: 10px;\n",
       "}\n",
       "\n",
       ".xr-var-name:hover,\n",
       ".xr-var-dims:hover,\n",
       ".xr-var-dtype:hover,\n",
       ".xr-attrs dt:hover {\n",
       "  overflow: visible;\n",
       "  width: auto;\n",
       "  z-index: 1;\n",
       "}\n",
       "\n",
       ".xr-var-attrs,\n",
       ".xr-var-data,\n",
       ".xr-index-data {\n",
       "  display: none;\n",
       "  background-color: var(--xr-background-color) !important;\n",
       "  padding-bottom: 5px !important;\n",
       "}\n",
       "\n",
       ".xr-var-attrs-in:checked ~ .xr-var-attrs,\n",
       ".xr-var-data-in:checked ~ .xr-var-data,\n",
       ".xr-index-data-in:checked ~ .xr-index-data {\n",
       "  display: block;\n",
       "}\n",
       "\n",
       ".xr-var-data > table {\n",
       "  float: right;\n",
       "}\n",
       "\n",
       ".xr-var-name span,\n",
       ".xr-var-data,\n",
       ".xr-index-name div,\n",
       ".xr-index-data,\n",
       ".xr-attrs {\n",
       "  padding-left: 25px !important;\n",
       "}\n",
       "\n",
       ".xr-attrs,\n",
       ".xr-var-attrs,\n",
       ".xr-var-data,\n",
       ".xr-index-data {\n",
       "  grid-column: 1 / -1;\n",
       "}\n",
       "\n",
       "dl.xr-attrs {\n",
       "  padding: 0;\n",
       "  margin: 0;\n",
       "  display: grid;\n",
       "  grid-template-columns: 125px auto;\n",
       "}\n",
       "\n",
       ".xr-attrs dt,\n",
       ".xr-attrs dd {\n",
       "  padding: 0;\n",
       "  margin: 0;\n",
       "  float: left;\n",
       "  padding-right: 10px;\n",
       "  width: auto;\n",
       "}\n",
       "\n",
       ".xr-attrs dt {\n",
       "  font-weight: normal;\n",
       "  grid-column: 1;\n",
       "}\n",
       "\n",
       ".xr-attrs dt:hover span {\n",
       "  display: inline-block;\n",
       "  background: var(--xr-background-color);\n",
       "  padding-right: 10px;\n",
       "}\n",
       "\n",
       ".xr-attrs dd {\n",
       "  grid-column: 2;\n",
       "  white-space: pre-wrap;\n",
       "  word-break: break-all;\n",
       "}\n",
       "\n",
       ".xr-icon-database,\n",
       ".xr-icon-file-text2,\n",
       ".xr-no-icon {\n",
       "  display: inline-block;\n",
       "  vertical-align: middle;\n",
       "  width: 1em;\n",
       "  height: 1.5em !important;\n",
       "  stroke-width: 0;\n",
       "  stroke: currentColor;\n",
       "  fill: currentColor;\n",
       "}\n",
       "</style><pre class='xr-text-repr-fallback'>&lt;xarray.Dataset&gt;\n",
       "Dimensions:                                         (ts_id: 557, state_dev: 24,\n",
       "                                                     datetime: 275, name: 3)\n",
       "Coordinates:\n",
       "  * ts_id                                           (ts_id) int32 0 1 ... 556\n",
       "  * datetime                                        (datetime) datetime64[ns] ...\n",
       "  * state_dev                                       (state_dev) int32 23 ... 0\n",
       "  * name                                            (name) object &#x27;Chau_Phu&#x27; ...\n",
       "Data variables: (12/57)\n",
       "    ndvi                                            (ts_id, state_dev) float32 ...\n",
       "    savi                                            (ts_id, state_dev) float32 ...\n",
       "    evi                                             (ts_id, state_dev) float32 ...\n",
       "    rep                                             (ts_id, state_dev) float32 ...\n",
       "    osavi                                           (ts_id, state_dev) float32 ...\n",
       "    rdvi                                            (ts_id, state_dev) float32 ...\n",
       "    ...                                              ...\n",
       "    snow                                            (datetime, name) float64 ...\n",
       "    snowdepth                                       (datetime, name) float64 ...\n",
       "    windgust                                        (datetime, name) float64 ...\n",
       "    severerisk                                      (datetime, name) float64 ...\n",
       "    sunrise                                         (datetime, name) datetime64[ns] ...\n",
       "    sunset                                          (datetime, name) datetime64[ns] ...</pre><div class='xr-wrap' style='display:none'><div class='xr-header'><div class='xr-obj-type'>xarray.Dataset</div></div><ul class='xr-sections'><li class='xr-section-item'><input id='section-5d08329a-634c-491d-a520-d5061fd87713' class='xr-section-summary-in' type='checkbox' disabled ><label for='section-5d08329a-634c-491d-a520-d5061fd87713' class='xr-section-summary'  title='Expand/collapse section'>Dimensions:</label><div class='xr-section-inline-details'><ul class='xr-dim-list'><li><span class='xr-has-index'>ts_id</span>: 557</li><li><span class='xr-has-index'>state_dev</span>: 24</li><li><span class='xr-has-index'>datetime</span>: 275</li><li><span class='xr-has-index'>name</span>: 3</li></ul></div><div class='xr-section-details'></div></li><li class='xr-section-item'><input id='section-4f4406f3-c64b-452f-8436-1d2474b0bd23' class='xr-section-summary-in' type='checkbox'  checked><label for='section-4f4406f3-c64b-452f-8436-1d2474b0bd23' class='xr-section-summary' >Coordinates: <span>(4)</span></label><div class='xr-section-inline-details'></div><div class='xr-section-details'><ul class='xr-var-list'><li class='xr-var-item'><div class='xr-var-name'><span class='xr-has-index'>ts_id</span></div><div class='xr-var-dims'>(ts_id)</div><div class='xr-var-dtype'>int32</div><div class='xr-var-preview xr-preview'>0 1 2 3 4 5 ... 552 553 554 555 556</div><input id='attrs-572835b2-b357-4f01-88b8-90d083282ed3' class='xr-var-attrs-in' type='checkbox' disabled><label for='attrs-572835b2-b357-4f01-88b8-90d083282ed3' title='Show/Hide attributes'><svg class='icon xr-icon-file-text2'><use xlink:href='#icon-file-text2'></use></svg></label><input id='data-4d4733e3-8756-46cd-8ae4-677f6eabd398' class='xr-var-data-in' type='checkbox'><label for='data-4d4733e3-8756-46cd-8ae4-677f6eabd398' title='Show/Hide data repr'><svg class='icon xr-icon-database'><use xlink:href='#icon-database'></use></svg></label><div class='xr-var-attrs'><dl class='xr-attrs'></dl></div><div class='xr-var-data'><pre>array([  0,   1,   2, ..., 554, 555, 556], dtype=int32)</pre></div></li><li class='xr-var-item'><div class='xr-var-name'><span class='xr-has-index'>datetime</span></div><div class='xr-var-dims'>(datetime)</div><div class='xr-var-dtype'>datetime64[ns]</div><div class='xr-var-preview xr-preview'>2021-11-08 ... 2022-08-09</div><input id='attrs-1f02bcf6-3ec0-466e-bd32-989beb2bc4ff' class='xr-var-attrs-in' type='checkbox' disabled><label for='attrs-1f02bcf6-3ec0-466e-bd32-989beb2bc4ff' title='Show/Hide attributes'><svg class='icon xr-icon-file-text2'><use xlink:href='#icon-file-text2'></use></svg></label><input id='data-5087e7d2-88dc-447e-9a94-f890f32c0a1e' class='xr-var-data-in' type='checkbox'><label for='data-5087e7d2-88dc-447e-9a94-f890f32c0a1e' title='Show/Hide data repr'><svg class='icon xr-icon-database'><use xlink:href='#icon-database'></use></svg></label><div class='xr-var-attrs'><dl class='xr-attrs'></dl></div><div class='xr-var-data'><pre>array([&#x27;2021-11-08T00:00:00.000000000&#x27;, &#x27;2021-11-09T00:00:00.000000000&#x27;,\n",
       "       &#x27;2021-11-10T00:00:00.000000000&#x27;, ..., &#x27;2022-08-07T00:00:00.000000000&#x27;,\n",
       "       &#x27;2022-08-08T00:00:00.000000000&#x27;, &#x27;2022-08-09T00:00:00.000000000&#x27;],\n",
       "      dtype=&#x27;datetime64[ns]&#x27;)</pre></div></li><li class='xr-var-item'><div class='xr-var-name'><span class='xr-has-index'>state_dev</span></div><div class='xr-var-dims'>(state_dev)</div><div class='xr-var-dtype'>int32</div><div class='xr-var-preview xr-preview'>23 22 21 20 19 18 ... 5 4 3 2 1 0</div><input id='attrs-36769bbe-7c8c-463c-bbf8-9741de7c7605' class='xr-var-attrs-in' type='checkbox' disabled><label for='attrs-36769bbe-7c8c-463c-bbf8-9741de7c7605' title='Show/Hide attributes'><svg class='icon xr-icon-file-text2'><use xlink:href='#icon-file-text2'></use></svg></label><input id='data-f7616604-3b53-493f-91a7-8cb2f9bc6689' class='xr-var-data-in' type='checkbox'><label for='data-f7616604-3b53-493f-91a7-8cb2f9bc6689' title='Show/Hide data repr'><svg class='icon xr-icon-database'><use xlink:href='#icon-database'></use></svg></label><div class='xr-var-attrs'><dl class='xr-attrs'></dl></div><div class='xr-var-data'><pre>array([23, 22, 21, 20, 19, 18, 17, 16, 15, 14, 13, 12, 11, 10,  9,  8,  7,  6,\n",
       "        5,  4,  3,  2,  1,  0], dtype=int32)</pre></div></li><li class='xr-var-item'><div class='xr-var-name'><span class='xr-has-index'>name</span></div><div class='xr-var-dims'>(name)</div><div class='xr-var-dtype'>object</div><div class='xr-var-preview xr-preview'>&#x27;Chau_Phu&#x27; &#x27;Chau_Thanh&#x27; &#x27;Thoai_Son&#x27;</div><input id='attrs-8ab0d134-d149-48f4-a626-5ea33f509b30' class='xr-var-attrs-in' type='checkbox' disabled><label for='attrs-8ab0d134-d149-48f4-a626-5ea33f509b30' title='Show/Hide attributes'><svg class='icon xr-icon-file-text2'><use xlink:href='#icon-file-text2'></use></svg></label><input id='data-a1dafb90-c559-45f9-9f9d-72abca858ffd' class='xr-var-data-in' type='checkbox'><label for='data-a1dafb90-c559-45f9-9f9d-72abca858ffd' title='Show/Hide data repr'><svg class='icon xr-icon-database'><use xlink:href='#icon-database'></use></svg></label><div class='xr-var-attrs'><dl class='xr-attrs'></dl></div><div class='xr-var-data'><pre>array([&#x27;Chau_Phu&#x27;, &#x27;Chau_Thanh&#x27;, &#x27;Thoai_Son&#x27;], dtype=object)</pre></div></li></ul></div></li><li class='xr-section-item'><input id='section-811d646a-cceb-4236-add8-adf577a84291' class='xr-section-summary-in' type='checkbox'  ><label for='section-811d646a-cceb-4236-add8-adf577a84291' class='xr-section-summary' >Data variables: <span>(57)</span></label><div class='xr-section-inline-details'></div><div class='xr-section-details'><ul class='xr-var-list'><li class='xr-var-item'><div class='xr-var-name'><span>ndvi</span></div><div class='xr-var-dims'>(ts_id, state_dev)</div><div class='xr-var-dtype'>float32</div><div class='xr-var-preview xr-preview'>...</div><input id='attrs-f7ddb380-35e0-408f-8bc5-104ef759906e' class='xr-var-attrs-in' type='checkbox' disabled><label for='attrs-f7ddb380-35e0-408f-8bc5-104ef759906e' title='Show/Hide attributes'><svg class='icon xr-icon-file-text2'><use xlink:href='#icon-file-text2'></use></svg></label><input id='data-bb7cbfb4-4638-44da-a91c-89d0e2c20fed' class='xr-var-data-in' type='checkbox'><label for='data-bb7cbfb4-4638-44da-a91c-89d0e2c20fed' title='Show/Hide data repr'><svg class='icon xr-icon-database'><use xlink:href='#icon-database'></use></svg></label><div class='xr-var-attrs'><dl class='xr-attrs'></dl></div><div class='xr-var-data'><pre>[13368 values with dtype=float32]</pre></div></li><li class='xr-var-item'><div class='xr-var-name'><span>savi</span></div><div class='xr-var-dims'>(ts_id, state_dev)</div><div class='xr-var-dtype'>float32</div><div class='xr-var-preview xr-preview'>...</div><input id='attrs-95d0dffc-1126-453e-8a6e-79f01aea16d6' class='xr-var-attrs-in' type='checkbox' disabled><label for='attrs-95d0dffc-1126-453e-8a6e-79f01aea16d6' title='Show/Hide attributes'><svg class='icon xr-icon-file-text2'><use xlink:href='#icon-file-text2'></use></svg></label><input id='data-c38872ff-5660-4c8b-b3af-9e3d65948ec8' class='xr-var-data-in' type='checkbox'><label for='data-c38872ff-5660-4c8b-b3af-9e3d65948ec8' title='Show/Hide data repr'><svg class='icon xr-icon-database'><use xlink:href='#icon-database'></use></svg></label><div class='xr-var-attrs'><dl class='xr-attrs'></dl></div><div class='xr-var-data'><pre>[13368 values with dtype=float32]</pre></div></li><li class='xr-var-item'><div class='xr-var-name'><span>evi</span></div><div class='xr-var-dims'>(ts_id, state_dev)</div><div class='xr-var-dtype'>float32</div><div class='xr-var-preview xr-preview'>...</div><input id='attrs-c8856604-46f2-4ba2-9b3a-a0300612626c' class='xr-var-attrs-in' type='checkbox' disabled><label for='attrs-c8856604-46f2-4ba2-9b3a-a0300612626c' title='Show/Hide attributes'><svg class='icon xr-icon-file-text2'><use xlink:href='#icon-file-text2'></use></svg></label><input id='data-d854c091-5a58-413c-a367-27cf5a84e1e4' class='xr-var-data-in' type='checkbox'><label for='data-d854c091-5a58-413c-a367-27cf5a84e1e4' title='Show/Hide data repr'><svg class='icon xr-icon-database'><use xlink:href='#icon-database'></use></svg></label><div class='xr-var-attrs'><dl class='xr-attrs'></dl></div><div class='xr-var-data'><pre>[13368 values with dtype=float32]</pre></div></li><li class='xr-var-item'><div class='xr-var-name'><span>rep</span></div><div class='xr-var-dims'>(ts_id, state_dev)</div><div class='xr-var-dtype'>float32</div><div class='xr-var-preview xr-preview'>...</div><input id='attrs-83b273e6-6250-4ae6-853e-80dd419912d2' class='xr-var-attrs-in' type='checkbox' disabled><label for='attrs-83b273e6-6250-4ae6-853e-80dd419912d2' title='Show/Hide attributes'><svg class='icon xr-icon-file-text2'><use xlink:href='#icon-file-text2'></use></svg></label><input id='data-cc599268-4b0d-43fe-a215-1b03a146fab1' class='xr-var-data-in' type='checkbox'><label for='data-cc599268-4b0d-43fe-a215-1b03a146fab1' title='Show/Hide data repr'><svg class='icon xr-icon-database'><use xlink:href='#icon-database'></use></svg></label><div class='xr-var-attrs'><dl class='xr-attrs'></dl></div><div class='xr-var-data'><pre>[13368 values with dtype=float32]</pre></div></li><li class='xr-var-item'><div class='xr-var-name'><span>osavi</span></div><div class='xr-var-dims'>(ts_id, state_dev)</div><div class='xr-var-dtype'>float32</div><div class='xr-var-preview xr-preview'>...</div><input id='attrs-cb066c84-723e-4fa6-a307-0f9c9d0574af' class='xr-var-attrs-in' type='checkbox' disabled><label for='attrs-cb066c84-723e-4fa6-a307-0f9c9d0574af' title='Show/Hide attributes'><svg class='icon xr-icon-file-text2'><use xlink:href='#icon-file-text2'></use></svg></label><input id='data-ba82e408-8e89-4bae-8c5c-5bb83edbdff8' class='xr-var-data-in' type='checkbox'><label for='data-ba82e408-8e89-4bae-8c5c-5bb83edbdff8' title='Show/Hide data repr'><svg class='icon xr-icon-database'><use xlink:href='#icon-database'></use></svg></label><div class='xr-var-attrs'><dl class='xr-attrs'></dl></div><div class='xr-var-data'><pre>[13368 values with dtype=float32]</pre></div></li><li class='xr-var-item'><div class='xr-var-name'><span>rdvi</span></div><div class='xr-var-dims'>(ts_id, state_dev)</div><div class='xr-var-dtype'>float32</div><div class='xr-var-preview xr-preview'>...</div><input id='attrs-db8d626c-fabd-49f7-ad24-9eb90cff9fd6' class='xr-var-attrs-in' type='checkbox' disabled><label for='attrs-db8d626c-fabd-49f7-ad24-9eb90cff9fd6' title='Show/Hide attributes'><svg class='icon xr-icon-file-text2'><use xlink:href='#icon-file-text2'></use></svg></label><input id='data-5b4da6a0-9d22-4cf1-aef1-e7e8f4a73f34' class='xr-var-data-in' type='checkbox'><label for='data-5b4da6a0-9d22-4cf1-aef1-e7e8f4a73f34' title='Show/Hide data repr'><svg class='icon xr-icon-database'><use xlink:href='#icon-database'></use></svg></label><div class='xr-var-attrs'><dl class='xr-attrs'></dl></div><div class='xr-var-data'><pre>[13368 values with dtype=float32]</pre></div></li><li class='xr-var-item'><div class='xr-var-name'><span>mtvi1</span></div><div class='xr-var-dims'>(ts_id, state_dev)</div><div class='xr-var-dtype'>float32</div><div class='xr-var-preview xr-preview'>...</div><input id='attrs-baef8212-7475-4198-86c3-7ab31c3d7bb9' class='xr-var-attrs-in' type='checkbox' disabled><label for='attrs-baef8212-7475-4198-86c3-7ab31c3d7bb9' title='Show/Hide attributes'><svg class='icon xr-icon-file-text2'><use xlink:href='#icon-file-text2'></use></svg></label><input id='data-3f431f3d-53e8-49dd-8cfc-f74f9f9625c1' class='xr-var-data-in' type='checkbox'><label for='data-3f431f3d-53e8-49dd-8cfc-f74f9f9625c1' title='Show/Hide data repr'><svg class='icon xr-icon-database'><use xlink:href='#icon-database'></use></svg></label><div class='xr-var-attrs'><dl class='xr-attrs'></dl></div><div class='xr-var-data'><pre>[13368 values with dtype=float32]</pre></div></li><li class='xr-var-item'><div class='xr-var-name'><span>lswi</span></div><div class='xr-var-dims'>(ts_id, state_dev)</div><div class='xr-var-dtype'>float32</div><div class='xr-var-preview xr-preview'>...</div><input id='attrs-f56cfad4-8ed7-4fee-a4df-96e85109c32c' class='xr-var-attrs-in' type='checkbox' disabled><label for='attrs-f56cfad4-8ed7-4fee-a4df-96e85109c32c' title='Show/Hide attributes'><svg class='icon xr-icon-file-text2'><use xlink:href='#icon-file-text2'></use></svg></label><input id='data-2548c9b8-610d-437d-a09b-3ab235cfa761' class='xr-var-data-in' type='checkbox'><label for='data-2548c9b8-610d-437d-a09b-3ab235cfa761' title='Show/Hide data repr'><svg class='icon xr-icon-database'><use xlink:href='#icon-database'></use></svg></label><div class='xr-var-attrs'><dl class='xr-attrs'></dl></div><div class='xr-var-data'><pre>[13368 values with dtype=float32]</pre></div></li><li class='xr-var-item'><div class='xr-var-name'><span>time</span></div><div class='xr-var-dims'>(ts_id, state_dev)</div><div class='xr-var-dtype'>datetime64[ns]</div><div class='xr-var-preview xr-preview'>...</div><input id='attrs-5ba08be4-a9c6-4318-8ab2-4c600a539bbe' class='xr-var-attrs-in' type='checkbox' disabled><label for='attrs-5ba08be4-a9c6-4318-8ab2-4c600a539bbe' title='Show/Hide attributes'><svg class='icon xr-icon-file-text2'><use xlink:href='#icon-file-text2'></use></svg></label><input id='data-6fe88417-510e-4f31-9afd-f83496722b22' class='xr-var-data-in' type='checkbox'><label for='data-6fe88417-510e-4f31-9afd-f83496722b22' title='Show/Hide data repr'><svg class='icon xr-icon-database'><use xlink:href='#icon-database'></use></svg></label><div class='xr-var-attrs'><dl class='xr-attrs'></dl></div><div class='xr-var-data'><pre>[13368 values with dtype=datetime64[ns]]</pre></div></li><li class='xr-var-item'><div class='xr-var-name'><span>red</span></div><div class='xr-var-dims'>(ts_id, state_dev)</div><div class='xr-var-dtype'>float32</div><div class='xr-var-preview xr-preview'>...</div><input id='attrs-3ef370f9-a6f0-40d2-b7fc-dc24b413a5f7' class='xr-var-attrs-in' type='checkbox' disabled><label for='attrs-3ef370f9-a6f0-40d2-b7fc-dc24b413a5f7' title='Show/Hide attributes'><svg class='icon xr-icon-file-text2'><use xlink:href='#icon-file-text2'></use></svg></label><input id='data-6256f25b-6d7e-447d-868e-9eb3cfdb615d' class='xr-var-data-in' type='checkbox'><label for='data-6256f25b-6d7e-447d-868e-9eb3cfdb615d' title='Show/Hide data repr'><svg class='icon xr-icon-database'><use xlink:href='#icon-database'></use></svg></label><div class='xr-var-attrs'><dl class='xr-attrs'></dl></div><div class='xr-var-data'><pre>[13368 values with dtype=float32]</pre></div></li><li class='xr-var-item'><div class='xr-var-name'><span>green</span></div><div class='xr-var-dims'>(ts_id, state_dev)</div><div class='xr-var-dtype'>float32</div><div class='xr-var-preview xr-preview'>...</div><input id='attrs-e83e9f11-83b7-47d0-9eea-7612784f71c6' class='xr-var-attrs-in' type='checkbox' disabled><label for='attrs-e83e9f11-83b7-47d0-9eea-7612784f71c6' title='Show/Hide attributes'><svg class='icon xr-icon-file-text2'><use xlink:href='#icon-file-text2'></use></svg></label><input id='data-bb6d73af-5cc6-4329-b358-552e2af8ae15' class='xr-var-data-in' type='checkbox'><label for='data-bb6d73af-5cc6-4329-b358-552e2af8ae15' title='Show/Hide data repr'><svg class='icon xr-icon-database'><use xlink:href='#icon-database'></use></svg></label><div class='xr-var-attrs'><dl class='xr-attrs'></dl></div><div class='xr-var-data'><pre>[13368 values with dtype=float32]</pre></div></li><li class='xr-var-item'><div class='xr-var-name'><span>blue</span></div><div class='xr-var-dims'>(ts_id, state_dev)</div><div class='xr-var-dtype'>float32</div><div class='xr-var-preview xr-preview'>...</div><input id='attrs-6b283bfa-4175-449f-87ce-385508726f6c' class='xr-var-attrs-in' type='checkbox' disabled><label for='attrs-6b283bfa-4175-449f-87ce-385508726f6c' title='Show/Hide attributes'><svg class='icon xr-icon-file-text2'><use xlink:href='#icon-file-text2'></use></svg></label><input id='data-d7aa701d-650d-44f6-91a7-e2f9d6aa4408' class='xr-var-data-in' type='checkbox'><label for='data-d7aa701d-650d-44f6-91a7-e2f9d6aa4408' title='Show/Hide data repr'><svg class='icon xr-icon-database'><use xlink:href='#icon-database'></use></svg></label><div class='xr-var-attrs'><dl class='xr-attrs'></dl></div><div class='xr-var-data'><pre>[13368 values with dtype=float32]</pre></div></li><li class='xr-var-item'><div class='xr-var-name'><span>rededge1</span></div><div class='xr-var-dims'>(ts_id, state_dev)</div><div class='xr-var-dtype'>float32</div><div class='xr-var-preview xr-preview'>...</div><input id='attrs-ccbd100b-4b0c-4133-a45a-30df6cef6391' class='xr-var-attrs-in' type='checkbox' disabled><label for='attrs-ccbd100b-4b0c-4133-a45a-30df6cef6391' title='Show/Hide attributes'><svg class='icon xr-icon-file-text2'><use xlink:href='#icon-file-text2'></use></svg></label><input id='data-ffdfc2f1-39e5-4c7d-9b3c-7e3fe84ef8f6' class='xr-var-data-in' type='checkbox'><label for='data-ffdfc2f1-39e5-4c7d-9b3c-7e3fe84ef8f6' title='Show/Hide data repr'><svg class='icon xr-icon-database'><use xlink:href='#icon-database'></use></svg></label><div class='xr-var-attrs'><dl class='xr-attrs'></dl></div><div class='xr-var-data'><pre>[13368 values with dtype=float32]</pre></div></li><li class='xr-var-item'><div class='xr-var-name'><span>rededge2</span></div><div class='xr-var-dims'>(ts_id, state_dev)</div><div class='xr-var-dtype'>float32</div><div class='xr-var-preview xr-preview'>...</div><input id='attrs-22645ddb-c682-4db0-a381-45c2f953a52f' class='xr-var-attrs-in' type='checkbox' disabled><label for='attrs-22645ddb-c682-4db0-a381-45c2f953a52f' title='Show/Hide attributes'><svg class='icon xr-icon-file-text2'><use xlink:href='#icon-file-text2'></use></svg></label><input id='data-cd13212b-68e8-45c4-bcfb-96ff5dd3b49d' class='xr-var-data-in' type='checkbox'><label for='data-cd13212b-68e8-45c4-bcfb-96ff5dd3b49d' title='Show/Hide data repr'><svg class='icon xr-icon-database'><use xlink:href='#icon-database'></use></svg></label><div class='xr-var-attrs'><dl class='xr-attrs'></dl></div><div class='xr-var-data'><pre>[13368 values with dtype=float32]</pre></div></li><li class='xr-var-item'><div class='xr-var-name'><span>rededge3</span></div><div class='xr-var-dims'>(ts_id, state_dev)</div><div class='xr-var-dtype'>float32</div><div class='xr-var-preview xr-preview'>...</div><input id='attrs-576677c0-f542-42a8-b21d-3902703d4b5a' class='xr-var-attrs-in' type='checkbox' disabled><label for='attrs-576677c0-f542-42a8-b21d-3902703d4b5a' title='Show/Hide attributes'><svg class='icon xr-icon-file-text2'><use xlink:href='#icon-file-text2'></use></svg></label><input id='data-c8645cf1-f838-48c5-bd23-299d04a8aa3c' class='xr-var-data-in' type='checkbox'><label for='data-c8645cf1-f838-48c5-bd23-299d04a8aa3c' title='Show/Hide data repr'><svg class='icon xr-icon-database'><use xlink:href='#icon-database'></use></svg></label><div class='xr-var-attrs'><dl class='xr-attrs'></dl></div><div class='xr-var-data'><pre>[13368 values with dtype=float32]</pre></div></li><li class='xr-var-item'><div class='xr-var-name'><span>nir</span></div><div class='xr-var-dims'>(ts_id, state_dev)</div><div class='xr-var-dtype'>float32</div><div class='xr-var-preview xr-preview'>...</div><input id='attrs-e47b7e9a-8fb0-4216-a977-f0ebc1dfc624' class='xr-var-attrs-in' type='checkbox' disabled><label for='attrs-e47b7e9a-8fb0-4216-a977-f0ebc1dfc624' title='Show/Hide attributes'><svg class='icon xr-icon-file-text2'><use xlink:href='#icon-file-text2'></use></svg></label><input id='data-2d91ace9-c919-4204-a685-283559364d02' class='xr-var-data-in' type='checkbox'><label for='data-2d91ace9-c919-4204-a685-283559364d02' title='Show/Hide data repr'><svg class='icon xr-icon-database'><use xlink:href='#icon-database'></use></svg></label><div class='xr-var-attrs'><dl class='xr-attrs'></dl></div><div class='xr-var-data'><pre>[13368 values with dtype=float32]</pre></div></li><li class='xr-var-item'><div class='xr-var-name'><span>swir</span></div><div class='xr-var-dims'>(ts_id, state_dev)</div><div class='xr-var-dtype'>float32</div><div class='xr-var-preview xr-preview'>...</div><input id='attrs-7a2e4b3b-1f10-43b7-896e-842bbda17c6d' class='xr-var-attrs-in' type='checkbox' disabled><label for='attrs-7a2e4b3b-1f10-43b7-896e-842bbda17c6d' title='Show/Hide attributes'><svg class='icon xr-icon-file-text2'><use xlink:href='#icon-file-text2'></use></svg></label><input id='data-74fe3d6c-ce85-4fca-b183-04171af188d7' class='xr-var-data-in' type='checkbox'><label for='data-74fe3d6c-ce85-4fca-b183-04171af188d7' title='Show/Hide data repr'><svg class='icon xr-icon-database'><use xlink:href='#icon-database'></use></svg></label><div class='xr-var-attrs'><dl class='xr-attrs'></dl></div><div class='xr-var-data'><pre>[13368 values with dtype=float32]</pre></div></li><li class='xr-var-item'><div class='xr-var-name'><span>District</span></div><div class='xr-var-dims'>(ts_id)</div><div class='xr-var-dtype'>object</div><div class='xr-var-preview xr-preview'>...</div><input id='attrs-5bb6f6ae-1803-4e83-aa44-2759b638bd17' class='xr-var-attrs-in' type='checkbox' disabled><label for='attrs-5bb6f6ae-1803-4e83-aa44-2759b638bd17' title='Show/Hide attributes'><svg class='icon xr-icon-file-text2'><use xlink:href='#icon-file-text2'></use></svg></label><input id='data-ae0d3c28-1012-45b5-aec1-15001e52e3a8' class='xr-var-data-in' type='checkbox'><label for='data-ae0d3c28-1012-45b5-aec1-15001e52e3a8' title='Show/Hide data repr'><svg class='icon xr-icon-database'><use xlink:href='#icon-database'></use></svg></label><div class='xr-var-attrs'><dl class='xr-attrs'></dl></div><div class='xr-var-data'><pre>[557 values with dtype=object]</pre></div></li><li class='xr-var-item'><div class='xr-var-name'><span>Date of Harvest</span></div><div class='xr-var-dims'>(ts_id)</div><div class='xr-var-dtype'>object</div><div class='xr-var-preview xr-preview'>...</div><input id='attrs-9bc08024-e015-4ddc-a343-e6c1004320ab' class='xr-var-attrs-in' type='checkbox' disabled><label for='attrs-9bc08024-e015-4ddc-a343-e6c1004320ab' title='Show/Hide attributes'><svg class='icon xr-icon-file-text2'><use xlink:href='#icon-file-text2'></use></svg></label><input id='data-0258b335-9978-4887-8cc9-08d9a7839e6d' class='xr-var-data-in' type='checkbox'><label for='data-0258b335-9978-4887-8cc9-08d9a7839e6d' title='Show/Hide data repr'><svg class='icon xr-icon-database'><use xlink:href='#icon-database'></use></svg></label><div class='xr-var-attrs'><dl class='xr-attrs'></dl></div><div class='xr-var-data'><pre>[557 values with dtype=object]</pre></div></li><li class='xr-var-item'><div class='xr-var-name'><span>Season(SA = Summer Autumn, WS = Winter Spring)</span></div><div class='xr-var-dims'>(ts_id)</div><div class='xr-var-dtype'>object</div><div class='xr-var-preview xr-preview'>...</div><input id='attrs-0b1ba1e2-d404-4d7b-840b-892c70b45602' class='xr-var-attrs-in' type='checkbox' disabled><label for='attrs-0b1ba1e2-d404-4d7b-840b-892c70b45602' title='Show/Hide attributes'><svg class='icon xr-icon-file-text2'><use xlink:href='#icon-file-text2'></use></svg></label><input id='data-91b111f7-1c5a-4266-a3c5-b682c012ce01' class='xr-var-data-in' type='checkbox'><label for='data-91b111f7-1c5a-4266-a3c5-b682c012ce01' title='Show/Hide data repr'><svg class='icon xr-icon-database'><use xlink:href='#icon-database'></use></svg></label><div class='xr-var-attrs'><dl class='xr-attrs'></dl></div><div class='xr-var-data'><pre>[557 values with dtype=object]</pre></div></li><li class='xr-var-item'><div class='xr-var-name'><span>Field size (ha)</span></div><div class='xr-var-dims'>(ts_id)</div><div class='xr-var-dtype'>float64</div><div class='xr-var-preview xr-preview'>...</div><input id='attrs-a6624b5a-e3b1-432d-88ff-da897f1b9d41' class='xr-var-attrs-in' type='checkbox' disabled><label for='attrs-a6624b5a-e3b1-432d-88ff-da897f1b9d41' title='Show/Hide attributes'><svg class='icon xr-icon-file-text2'><use xlink:href='#icon-file-text2'></use></svg></label><input id='data-6d00cee7-fb91-49bc-b539-b25c98e41e07' class='xr-var-data-in' type='checkbox'><label for='data-6d00cee7-fb91-49bc-b539-b25c98e41e07' title='Show/Hide data repr'><svg class='icon xr-icon-database'><use xlink:href='#icon-database'></use></svg></label><div class='xr-var-attrs'><dl class='xr-attrs'></dl></div><div class='xr-var-data'><pre>[557 values with dtype=float64]</pre></div></li><li class='xr-var-item'><div class='xr-var-name'><span>Rice Crop Intensity(D=Double, T=Triple)</span></div><div class='xr-var-dims'>(ts_id)</div><div class='xr-var-dtype'>float64</div><div class='xr-var-preview xr-preview'>...</div><input id='attrs-cf80d92e-47db-4577-8194-cc5161ecee53' class='xr-var-attrs-in' type='checkbox' disabled><label for='attrs-cf80d92e-47db-4577-8194-cc5161ecee53' title='Show/Hide attributes'><svg class='icon xr-icon-file-text2'><use xlink:href='#icon-file-text2'></use></svg></label><input id='data-eadca085-8aa2-4b67-bf4b-d3eddcd3cc2b' class='xr-var-data-in' type='checkbox'><label for='data-eadca085-8aa2-4b67-bf4b-d3eddcd3cc2b' title='Show/Hide data repr'><svg class='icon xr-icon-database'><use xlink:href='#icon-database'></use></svg></label><div class='xr-var-attrs'><dl class='xr-attrs'></dl></div><div class='xr-var-data'><pre>[557 values with dtype=float64]</pre></div></li><li class='xr-var-item'><div class='xr-var-name'><span>Latitude</span></div><div class='xr-var-dims'>(ts_id)</div><div class='xr-var-dtype'>float64</div><div class='xr-var-preview xr-preview'>...</div><input id='attrs-d0fa8cb9-724b-4669-a7ad-e439e9b5e055' class='xr-var-attrs-in' type='checkbox' disabled><label for='attrs-d0fa8cb9-724b-4669-a7ad-e439e9b5e055' title='Show/Hide attributes'><svg class='icon xr-icon-file-text2'><use xlink:href='#icon-file-text2'></use></svg></label><input id='data-b62928ef-d9ff-405b-ba8c-b90c53685ecd' class='xr-var-data-in' type='checkbox'><label for='data-b62928ef-d9ff-405b-ba8c-b90c53685ecd' title='Show/Hide data repr'><svg class='icon xr-icon-database'><use xlink:href='#icon-database'></use></svg></label><div class='xr-var-attrs'><dl class='xr-attrs'></dl></div><div class='xr-var-data'><pre>[557 values with dtype=float64]</pre></div></li><li class='xr-var-item'><div class='xr-var-name'><span>Longitude</span></div><div class='xr-var-dims'>(ts_id)</div><div class='xr-var-dtype'>float64</div><div class='xr-var-preview xr-preview'>...</div><input id='attrs-55ed6a0b-2738-417e-84d6-bc034d37ba4b' class='xr-var-attrs-in' type='checkbox' disabled><label for='attrs-55ed6a0b-2738-417e-84d6-bc034d37ba4b' title='Show/Hide attributes'><svg class='icon xr-icon-file-text2'><use xlink:href='#icon-file-text2'></use></svg></label><input id='data-a23541d1-ad6b-4ad1-b2e8-b668de02f9e8' class='xr-var-data-in' type='checkbox'><label for='data-a23541d1-ad6b-4ad1-b2e8-b668de02f9e8' title='Show/Hide data repr'><svg class='icon xr-icon-database'><use xlink:href='#icon-database'></use></svg></label><div class='xr-var-attrs'><dl class='xr-attrs'></dl></div><div class='xr-var-data'><pre>[557 values with dtype=float64]</pre></div></li><li class='xr-var-item'><div class='xr-var-name'><span>Rice Yield (kg/ha)</span></div><div class='xr-var-dims'>(ts_id)</div><div class='xr-var-dtype'>float64</div><div class='xr-var-preview xr-preview'>...</div><input id='attrs-648bbaad-3e7e-4e0b-b244-963eb95ba69f' class='xr-var-attrs-in' type='checkbox' disabled><label for='attrs-648bbaad-3e7e-4e0b-b244-963eb95ba69f' title='Show/Hide attributes'><svg class='icon xr-icon-file-text2'><use xlink:href='#icon-file-text2'></use></svg></label><input id='data-93a5470e-7487-4a95-9b7a-3f19c10a1d32' class='xr-var-data-in' type='checkbox'><label for='data-93a5470e-7487-4a95-9b7a-3f19c10a1d32' title='Show/Hide data repr'><svg class='icon xr-icon-database'><use xlink:href='#icon-database'></use></svg></label><div class='xr-var-attrs'><dl class='xr-attrs'></dl></div><div class='xr-var-data'><pre>[557 values with dtype=float64]</pre></div></li><li class='xr-var-item'><div class='xr-var-name'><span>description</span></div><div class='xr-var-dims'>(datetime, name)</div><div class='xr-var-dtype'>object</div><div class='xr-var-preview xr-preview'>...</div><input id='attrs-9f806e74-0b43-430d-8e76-995429ce9291' class='xr-var-attrs-in' type='checkbox' disabled><label for='attrs-9f806e74-0b43-430d-8e76-995429ce9291' title='Show/Hide attributes'><svg class='icon xr-icon-file-text2'><use xlink:href='#icon-file-text2'></use></svg></label><input id='data-011054d6-826a-4355-bec3-6770557d20e1' class='xr-var-data-in' type='checkbox'><label for='data-011054d6-826a-4355-bec3-6770557d20e1' title='Show/Hide data repr'><svg class='icon xr-icon-database'><use xlink:href='#icon-database'></use></svg></label><div class='xr-var-attrs'><dl class='xr-attrs'></dl></div><div class='xr-var-data'><pre>[825 values with dtype=object]</pre></div></li><li class='xr-var-item'><div class='xr-var-name'><span>stations</span></div><div class='xr-var-dims'>(datetime, name)</div><div class='xr-var-dtype'>object</div><div class='xr-var-preview xr-preview'>...</div><input id='attrs-03c3bd1e-6a0d-4682-8d3a-f07895001682' class='xr-var-attrs-in' type='checkbox' disabled><label for='attrs-03c3bd1e-6a0d-4682-8d3a-f07895001682' title='Show/Hide attributes'><svg class='icon xr-icon-file-text2'><use xlink:href='#icon-file-text2'></use></svg></label><input id='data-09bac969-d79a-4605-a933-155505dff074' class='xr-var-data-in' type='checkbox'><label for='data-09bac969-d79a-4605-a933-155505dff074' title='Show/Hide data repr'><svg class='icon xr-icon-database'><use xlink:href='#icon-database'></use></svg></label><div class='xr-var-attrs'><dl class='xr-attrs'></dl></div><div class='xr-var-data'><pre>[825 values with dtype=object]</pre></div></li><li class='xr-var-item'><div class='xr-var-name'><span>conditions</span></div><div class='xr-var-dims'>(datetime, name)</div><div class='xr-var-dtype'>object</div><div class='xr-var-preview xr-preview'>...</div><input id='attrs-11302223-8e88-4142-9c44-4a27dbd67120' class='xr-var-attrs-in' type='checkbox' disabled><label for='attrs-11302223-8e88-4142-9c44-4a27dbd67120' title='Show/Hide attributes'><svg class='icon xr-icon-file-text2'><use xlink:href='#icon-file-text2'></use></svg></label><input id='data-cb040cec-5a41-42f9-9db1-19d989708503' class='xr-var-data-in' type='checkbox'><label for='data-cb040cec-5a41-42f9-9db1-19d989708503' title='Show/Hide data repr'><svg class='icon xr-icon-database'><use xlink:href='#icon-database'></use></svg></label><div class='xr-var-attrs'><dl class='xr-attrs'></dl></div><div class='xr-var-data'><pre>[825 values with dtype=object]</pre></div></li><li class='xr-var-item'><div class='xr-var-name'><span>icon</span></div><div class='xr-var-dims'>(datetime, name)</div><div class='xr-var-dtype'>object</div><div class='xr-var-preview xr-preview'>...</div><input id='attrs-fb0f20a2-223a-45b1-b60a-47f2275ed674' class='xr-var-attrs-in' type='checkbox' disabled><label for='attrs-fb0f20a2-223a-45b1-b60a-47f2275ed674' title='Show/Hide attributes'><svg class='icon xr-icon-file-text2'><use xlink:href='#icon-file-text2'></use></svg></label><input id='data-b513f46f-87bc-4af0-9bda-0aa13ed7bdfb' class='xr-var-data-in' type='checkbox'><label for='data-b513f46f-87bc-4af0-9bda-0aa13ed7bdfb' title='Show/Hide data repr'><svg class='icon xr-icon-database'><use xlink:href='#icon-database'></use></svg></label><div class='xr-var-attrs'><dl class='xr-attrs'></dl></div><div class='xr-var-data'><pre>[825 values with dtype=object]</pre></div></li><li class='xr-var-item'><div class='xr-var-name'><span>preciptype</span></div><div class='xr-var-dims'>(datetime, name)</div><div class='xr-var-dtype'>object</div><div class='xr-var-preview xr-preview'>...</div><input id='attrs-c563fe9c-b959-4ff0-afb8-98599dcf60c5' class='xr-var-attrs-in' type='checkbox' disabled><label for='attrs-c563fe9c-b959-4ff0-afb8-98599dcf60c5' title='Show/Hide attributes'><svg class='icon xr-icon-file-text2'><use xlink:href='#icon-file-text2'></use></svg></label><input id='data-58b2f048-0393-45f1-be5f-8abdb86bf8f1' class='xr-var-data-in' type='checkbox'><label for='data-58b2f048-0393-45f1-be5f-8abdb86bf8f1' title='Show/Hide data repr'><svg class='icon xr-icon-database'><use xlink:href='#icon-database'></use></svg></label><div class='xr-var-attrs'><dl class='xr-attrs'></dl></div><div class='xr-var-data'><pre>[825 values with dtype=object]</pre></div></li><li class='xr-var-item'><div class='xr-var-name'><span>tempmax</span></div><div class='xr-var-dims'>(datetime, name)</div><div class='xr-var-dtype'>float64</div><div class='xr-var-preview xr-preview'>...</div><input id='attrs-d347198a-71b8-4926-9c3a-9951d4908455' class='xr-var-attrs-in' type='checkbox' disabled><label for='attrs-d347198a-71b8-4926-9c3a-9951d4908455' title='Show/Hide attributes'><svg class='icon xr-icon-file-text2'><use xlink:href='#icon-file-text2'></use></svg></label><input id='data-ad06f0f6-3333-4461-a92a-e6d3c38dd6fe' class='xr-var-data-in' type='checkbox'><label for='data-ad06f0f6-3333-4461-a92a-e6d3c38dd6fe' title='Show/Hide data repr'><svg class='icon xr-icon-database'><use xlink:href='#icon-database'></use></svg></label><div class='xr-var-attrs'><dl class='xr-attrs'></dl></div><div class='xr-var-data'><pre>[825 values with dtype=float64]</pre></div></li><li class='xr-var-item'><div class='xr-var-name'><span>tempmin</span></div><div class='xr-var-dims'>(datetime, name)</div><div class='xr-var-dtype'>float64</div><div class='xr-var-preview xr-preview'>...</div><input id='attrs-9f3d9835-745b-4908-9c31-7275366d5f5b' class='xr-var-attrs-in' type='checkbox' disabled><label for='attrs-9f3d9835-745b-4908-9c31-7275366d5f5b' title='Show/Hide attributes'><svg class='icon xr-icon-file-text2'><use xlink:href='#icon-file-text2'></use></svg></label><input id='data-3ed37702-a0db-4199-ada3-7d190efc8401' class='xr-var-data-in' type='checkbox'><label for='data-3ed37702-a0db-4199-ada3-7d190efc8401' title='Show/Hide data repr'><svg class='icon xr-icon-database'><use xlink:href='#icon-database'></use></svg></label><div class='xr-var-attrs'><dl class='xr-attrs'></dl></div><div class='xr-var-data'><pre>[825 values with dtype=float64]</pre></div></li><li class='xr-var-item'><div class='xr-var-name'><span>temp</span></div><div class='xr-var-dims'>(datetime, name)</div><div class='xr-var-dtype'>float64</div><div class='xr-var-preview xr-preview'>...</div><input id='attrs-6f734ea2-b92c-42d1-b278-a392c87360df' class='xr-var-attrs-in' type='checkbox' disabled><label for='attrs-6f734ea2-b92c-42d1-b278-a392c87360df' title='Show/Hide attributes'><svg class='icon xr-icon-file-text2'><use xlink:href='#icon-file-text2'></use></svg></label><input id='data-1a545da0-eb87-4927-9935-2faf1a090820' class='xr-var-data-in' type='checkbox'><label for='data-1a545da0-eb87-4927-9935-2faf1a090820' title='Show/Hide data repr'><svg class='icon xr-icon-database'><use xlink:href='#icon-database'></use></svg></label><div class='xr-var-attrs'><dl class='xr-attrs'></dl></div><div class='xr-var-data'><pre>[825 values with dtype=float64]</pre></div></li><li class='xr-var-item'><div class='xr-var-name'><span>dew</span></div><div class='xr-var-dims'>(datetime, name)</div><div class='xr-var-dtype'>float64</div><div class='xr-var-preview xr-preview'>...</div><input id='attrs-b948672a-f5dc-4860-bcbe-fd87c00e92c1' class='xr-var-attrs-in' type='checkbox' disabled><label for='attrs-b948672a-f5dc-4860-bcbe-fd87c00e92c1' title='Show/Hide attributes'><svg class='icon xr-icon-file-text2'><use xlink:href='#icon-file-text2'></use></svg></label><input id='data-94a2bbaf-00aa-48c1-a65c-142c6864c4d7' class='xr-var-data-in' type='checkbox'><label for='data-94a2bbaf-00aa-48c1-a65c-142c6864c4d7' title='Show/Hide data repr'><svg class='icon xr-icon-database'><use xlink:href='#icon-database'></use></svg></label><div class='xr-var-attrs'><dl class='xr-attrs'></dl></div><div class='xr-var-data'><pre>[825 values with dtype=float64]</pre></div></li><li class='xr-var-item'><div class='xr-var-name'><span>humidity</span></div><div class='xr-var-dims'>(datetime, name)</div><div class='xr-var-dtype'>float64</div><div class='xr-var-preview xr-preview'>...</div><input id='attrs-5fc2f0e9-3e00-4f11-8806-34960be9a823' class='xr-var-attrs-in' type='checkbox' disabled><label for='attrs-5fc2f0e9-3e00-4f11-8806-34960be9a823' title='Show/Hide attributes'><svg class='icon xr-icon-file-text2'><use xlink:href='#icon-file-text2'></use></svg></label><input id='data-9443d18c-8c41-4507-ad9e-a74937ca1524' class='xr-var-data-in' type='checkbox'><label for='data-9443d18c-8c41-4507-ad9e-a74937ca1524' title='Show/Hide data repr'><svg class='icon xr-icon-database'><use xlink:href='#icon-database'></use></svg></label><div class='xr-var-attrs'><dl class='xr-attrs'></dl></div><div class='xr-var-data'><pre>[825 values with dtype=float64]</pre></div></li><li class='xr-var-item'><div class='xr-var-name'><span>precip</span></div><div class='xr-var-dims'>(datetime, name)</div><div class='xr-var-dtype'>float64</div><div class='xr-var-preview xr-preview'>...</div><input id='attrs-954caf15-d2e7-4be1-9926-6cf6c53f165b' class='xr-var-attrs-in' type='checkbox' disabled><label for='attrs-954caf15-d2e7-4be1-9926-6cf6c53f165b' title='Show/Hide attributes'><svg class='icon xr-icon-file-text2'><use xlink:href='#icon-file-text2'></use></svg></label><input id='data-5ec4d4b1-e030-4d24-9e0b-b4b79cf9f79c' class='xr-var-data-in' type='checkbox'><label for='data-5ec4d4b1-e030-4d24-9e0b-b4b79cf9f79c' title='Show/Hide data repr'><svg class='icon xr-icon-database'><use xlink:href='#icon-database'></use></svg></label><div class='xr-var-attrs'><dl class='xr-attrs'></dl></div><div class='xr-var-data'><pre>[825 values with dtype=float64]</pre></div></li><li class='xr-var-item'><div class='xr-var-name'><span>precipprob</span></div><div class='xr-var-dims'>(datetime, name)</div><div class='xr-var-dtype'>float64</div><div class='xr-var-preview xr-preview'>...</div><input id='attrs-64701d29-57ff-4b13-ba87-12a18cb5821d' class='xr-var-attrs-in' type='checkbox' disabled><label for='attrs-64701d29-57ff-4b13-ba87-12a18cb5821d' title='Show/Hide attributes'><svg class='icon xr-icon-file-text2'><use xlink:href='#icon-file-text2'></use></svg></label><input id='data-10fbaf80-3ed3-4c81-9641-b292b7fa3d74' class='xr-var-data-in' type='checkbox'><label for='data-10fbaf80-3ed3-4c81-9641-b292b7fa3d74' title='Show/Hide data repr'><svg class='icon xr-icon-database'><use xlink:href='#icon-database'></use></svg></label><div class='xr-var-attrs'><dl class='xr-attrs'></dl></div><div class='xr-var-data'><pre>[825 values with dtype=float64]</pre></div></li><li class='xr-var-item'><div class='xr-var-name'><span>precipcover</span></div><div class='xr-var-dims'>(datetime, name)</div><div class='xr-var-dtype'>float64</div><div class='xr-var-preview xr-preview'>...</div><input id='attrs-eae04a0a-d55f-4243-89f2-181f33687392' class='xr-var-attrs-in' type='checkbox' disabled><label for='attrs-eae04a0a-d55f-4243-89f2-181f33687392' title='Show/Hide attributes'><svg class='icon xr-icon-file-text2'><use xlink:href='#icon-file-text2'></use></svg></label><input id='data-f3b92cf6-2762-4fb3-b0c4-2f5cb6ef2d87' class='xr-var-data-in' type='checkbox'><label for='data-f3b92cf6-2762-4fb3-b0c4-2f5cb6ef2d87' title='Show/Hide data repr'><svg class='icon xr-icon-database'><use xlink:href='#icon-database'></use></svg></label><div class='xr-var-attrs'><dl class='xr-attrs'></dl></div><div class='xr-var-data'><pre>[825 values with dtype=float64]</pre></div></li><li class='xr-var-item'><div class='xr-var-name'><span>windspeed</span></div><div class='xr-var-dims'>(datetime, name)</div><div class='xr-var-dtype'>float64</div><div class='xr-var-preview xr-preview'>...</div><input id='attrs-0eab44e4-ce55-4f69-bdd9-242527f32a1e' class='xr-var-attrs-in' type='checkbox' disabled><label for='attrs-0eab44e4-ce55-4f69-bdd9-242527f32a1e' title='Show/Hide attributes'><svg class='icon xr-icon-file-text2'><use xlink:href='#icon-file-text2'></use></svg></label><input id='data-74d34827-7610-4e5a-967f-9a83e37c01c6' class='xr-var-data-in' type='checkbox'><label for='data-74d34827-7610-4e5a-967f-9a83e37c01c6' title='Show/Hide data repr'><svg class='icon xr-icon-database'><use xlink:href='#icon-database'></use></svg></label><div class='xr-var-attrs'><dl class='xr-attrs'></dl></div><div class='xr-var-data'><pre>[825 values with dtype=float64]</pre></div></li><li class='xr-var-item'><div class='xr-var-name'><span>winddir</span></div><div class='xr-var-dims'>(datetime, name)</div><div class='xr-var-dtype'>float64</div><div class='xr-var-preview xr-preview'>...</div><input id='attrs-b3293dfa-f45e-40a0-a3d8-0eead646f4df' class='xr-var-attrs-in' type='checkbox' disabled><label for='attrs-b3293dfa-f45e-40a0-a3d8-0eead646f4df' title='Show/Hide attributes'><svg class='icon xr-icon-file-text2'><use xlink:href='#icon-file-text2'></use></svg></label><input id='data-bb2ea4a6-df2a-4b8b-8fab-479e9394f8d4' class='xr-var-data-in' type='checkbox'><label for='data-bb2ea4a6-df2a-4b8b-8fab-479e9394f8d4' title='Show/Hide data repr'><svg class='icon xr-icon-database'><use xlink:href='#icon-database'></use></svg></label><div class='xr-var-attrs'><dl class='xr-attrs'></dl></div><div class='xr-var-data'><pre>[825 values with dtype=float64]</pre></div></li><li class='xr-var-item'><div class='xr-var-name'><span>sealevelpressure</span></div><div class='xr-var-dims'>(datetime, name)</div><div class='xr-var-dtype'>float64</div><div class='xr-var-preview xr-preview'>...</div><input id='attrs-1914fa09-f431-430f-a476-a6465491e71b' class='xr-var-attrs-in' type='checkbox' disabled><label for='attrs-1914fa09-f431-430f-a476-a6465491e71b' title='Show/Hide attributes'><svg class='icon xr-icon-file-text2'><use xlink:href='#icon-file-text2'></use></svg></label><input id='data-261a9db5-4b21-4ae8-a7a6-ec20d785607f' class='xr-var-data-in' type='checkbox'><label for='data-261a9db5-4b21-4ae8-a7a6-ec20d785607f' title='Show/Hide data repr'><svg class='icon xr-icon-database'><use xlink:href='#icon-database'></use></svg></label><div class='xr-var-attrs'><dl class='xr-attrs'></dl></div><div class='xr-var-data'><pre>[825 values with dtype=float64]</pre></div></li><li class='xr-var-item'><div class='xr-var-name'><span>cloudcover</span></div><div class='xr-var-dims'>(datetime, name)</div><div class='xr-var-dtype'>float64</div><div class='xr-var-preview xr-preview'>...</div><input id='attrs-0c6efe14-6e23-4b3a-a665-ce90bdf247a8' class='xr-var-attrs-in' type='checkbox' disabled><label for='attrs-0c6efe14-6e23-4b3a-a665-ce90bdf247a8' title='Show/Hide attributes'><svg class='icon xr-icon-file-text2'><use xlink:href='#icon-file-text2'></use></svg></label><input id='data-9fa30345-98ef-4e44-8dc8-ebc02803960c' class='xr-var-data-in' type='checkbox'><label for='data-9fa30345-98ef-4e44-8dc8-ebc02803960c' title='Show/Hide data repr'><svg class='icon xr-icon-database'><use xlink:href='#icon-database'></use></svg></label><div class='xr-var-attrs'><dl class='xr-attrs'></dl></div><div class='xr-var-data'><pre>[825 values with dtype=float64]</pre></div></li><li class='xr-var-item'><div class='xr-var-name'><span>visibility</span></div><div class='xr-var-dims'>(datetime, name)</div><div class='xr-var-dtype'>float64</div><div class='xr-var-preview xr-preview'>...</div><input id='attrs-63338e2d-3d8b-4849-88c1-6fd65801ae72' class='xr-var-attrs-in' type='checkbox' disabled><label for='attrs-63338e2d-3d8b-4849-88c1-6fd65801ae72' title='Show/Hide attributes'><svg class='icon xr-icon-file-text2'><use xlink:href='#icon-file-text2'></use></svg></label><input id='data-5e108a73-ed20-417b-ae4e-5aca2d5f5cf7' class='xr-var-data-in' type='checkbox'><label for='data-5e108a73-ed20-417b-ae4e-5aca2d5f5cf7' title='Show/Hide data repr'><svg class='icon xr-icon-database'><use xlink:href='#icon-database'></use></svg></label><div class='xr-var-attrs'><dl class='xr-attrs'></dl></div><div class='xr-var-data'><pre>[825 values with dtype=float64]</pre></div></li><li class='xr-var-item'><div class='xr-var-name'><span>solarradiation</span></div><div class='xr-var-dims'>(datetime, name)</div><div class='xr-var-dtype'>float64</div><div class='xr-var-preview xr-preview'>...</div><input id='attrs-0abe133c-9de9-4afc-8b6d-546349c5d8d9' class='xr-var-attrs-in' type='checkbox' disabled><label for='attrs-0abe133c-9de9-4afc-8b6d-546349c5d8d9' title='Show/Hide attributes'><svg class='icon xr-icon-file-text2'><use xlink:href='#icon-file-text2'></use></svg></label><input id='data-c43e5cb8-5e89-4494-a22a-be83c105699c' class='xr-var-data-in' type='checkbox'><label for='data-c43e5cb8-5e89-4494-a22a-be83c105699c' title='Show/Hide data repr'><svg class='icon xr-icon-database'><use xlink:href='#icon-database'></use></svg></label><div class='xr-var-attrs'><dl class='xr-attrs'></dl></div><div class='xr-var-data'><pre>[825 values with dtype=float64]</pre></div></li><li class='xr-var-item'><div class='xr-var-name'><span>solarenergy</span></div><div class='xr-var-dims'>(datetime, name)</div><div class='xr-var-dtype'>float64</div><div class='xr-var-preview xr-preview'>...</div><input id='attrs-b336bf69-3c1e-40b6-93fb-5f0bd82ae40b' class='xr-var-attrs-in' type='checkbox' disabled><label for='attrs-b336bf69-3c1e-40b6-93fb-5f0bd82ae40b' title='Show/Hide attributes'><svg class='icon xr-icon-file-text2'><use xlink:href='#icon-file-text2'></use></svg></label><input id='data-376bd8ea-b49a-443c-9c09-084a64e28a8c' class='xr-var-data-in' type='checkbox'><label for='data-376bd8ea-b49a-443c-9c09-084a64e28a8c' title='Show/Hide data repr'><svg class='icon xr-icon-database'><use xlink:href='#icon-database'></use></svg></label><div class='xr-var-attrs'><dl class='xr-attrs'></dl></div><div class='xr-var-data'><pre>[825 values with dtype=float64]</pre></div></li><li class='xr-var-item'><div class='xr-var-name'><span>uvindex</span></div><div class='xr-var-dims'>(datetime, name)</div><div class='xr-var-dtype'>float64</div><div class='xr-var-preview xr-preview'>...</div><input id='attrs-cd284254-a550-4ebb-a224-ca45e55dd986' class='xr-var-attrs-in' type='checkbox' disabled><label for='attrs-cd284254-a550-4ebb-a224-ca45e55dd986' title='Show/Hide attributes'><svg class='icon xr-icon-file-text2'><use xlink:href='#icon-file-text2'></use></svg></label><input id='data-d7c81317-4371-4d7e-9e17-20c59dc42e22' class='xr-var-data-in' type='checkbox'><label for='data-d7c81317-4371-4d7e-9e17-20c59dc42e22' title='Show/Hide data repr'><svg class='icon xr-icon-database'><use xlink:href='#icon-database'></use></svg></label><div class='xr-var-attrs'><dl class='xr-attrs'></dl></div><div class='xr-var-data'><pre>[825 values with dtype=float64]</pre></div></li><li class='xr-var-item'><div class='xr-var-name'><span>moonphase</span></div><div class='xr-var-dims'>(datetime, name)</div><div class='xr-var-dtype'>float64</div><div class='xr-var-preview xr-preview'>...</div><input id='attrs-8d79f79c-40a3-47c5-a74a-cba61ac348eb' class='xr-var-attrs-in' type='checkbox' disabled><label for='attrs-8d79f79c-40a3-47c5-a74a-cba61ac348eb' title='Show/Hide attributes'><svg class='icon xr-icon-file-text2'><use xlink:href='#icon-file-text2'></use></svg></label><input id='data-979151f3-6767-4673-825c-69b3ea4a2792' class='xr-var-data-in' type='checkbox'><label for='data-979151f3-6767-4673-825c-69b3ea4a2792' title='Show/Hide data repr'><svg class='icon xr-icon-database'><use xlink:href='#icon-database'></use></svg></label><div class='xr-var-attrs'><dl class='xr-attrs'></dl></div><div class='xr-var-data'><pre>[825 values with dtype=float64]</pre></div></li><li class='xr-var-item'><div class='xr-var-name'><span>solarexposure</span></div><div class='xr-var-dims'>(datetime, name)</div><div class='xr-var-dtype'>float64</div><div class='xr-var-preview xr-preview'>...</div><input id='attrs-3fee1429-c315-484e-b159-c1e298c7f940' class='xr-var-attrs-in' type='checkbox' disabled><label for='attrs-3fee1429-c315-484e-b159-c1e298c7f940' title='Show/Hide attributes'><svg class='icon xr-icon-file-text2'><use xlink:href='#icon-file-text2'></use></svg></label><input id='data-f7006bdc-87bb-4645-9a30-4e33e7839222' class='xr-var-data-in' type='checkbox'><label for='data-f7006bdc-87bb-4645-9a30-4e33e7839222' title='Show/Hide data repr'><svg class='icon xr-icon-database'><use xlink:href='#icon-database'></use></svg></label><div class='xr-var-attrs'><dl class='xr-attrs'></dl></div><div class='xr-var-data'><pre>[825 values with dtype=float64]</pre></div></li><li class='xr-var-item'><div class='xr-var-name'><span>feelslikemax</span></div><div class='xr-var-dims'>(datetime, name)</div><div class='xr-var-dtype'>float64</div><div class='xr-var-preview xr-preview'>...</div><input id='attrs-5dc2e724-e623-4e9f-807f-5326e1ab299d' class='xr-var-attrs-in' type='checkbox' disabled><label for='attrs-5dc2e724-e623-4e9f-807f-5326e1ab299d' title='Show/Hide attributes'><svg class='icon xr-icon-file-text2'><use xlink:href='#icon-file-text2'></use></svg></label><input id='data-3df42bd2-434b-425f-9beb-e4f52a2cb261' class='xr-var-data-in' type='checkbox'><label for='data-3df42bd2-434b-425f-9beb-e4f52a2cb261' title='Show/Hide data repr'><svg class='icon xr-icon-database'><use xlink:href='#icon-database'></use></svg></label><div class='xr-var-attrs'><dl class='xr-attrs'></dl></div><div class='xr-var-data'><pre>[825 values with dtype=float64]</pre></div></li><li class='xr-var-item'><div class='xr-var-name'><span>feelslikemin</span></div><div class='xr-var-dims'>(datetime, name)</div><div class='xr-var-dtype'>float64</div><div class='xr-var-preview xr-preview'>...</div><input id='attrs-9422bcea-8259-42da-a255-f1200f954b42' class='xr-var-attrs-in' type='checkbox' disabled><label for='attrs-9422bcea-8259-42da-a255-f1200f954b42' title='Show/Hide attributes'><svg class='icon xr-icon-file-text2'><use xlink:href='#icon-file-text2'></use></svg></label><input id='data-a232a513-089e-4dc2-9078-d71df2b99bb1' class='xr-var-data-in' type='checkbox'><label for='data-a232a513-089e-4dc2-9078-d71df2b99bb1' title='Show/Hide data repr'><svg class='icon xr-icon-database'><use xlink:href='#icon-database'></use></svg></label><div class='xr-var-attrs'><dl class='xr-attrs'></dl></div><div class='xr-var-data'><pre>[825 values with dtype=float64]</pre></div></li><li class='xr-var-item'><div class='xr-var-name'><span>feelslike</span></div><div class='xr-var-dims'>(datetime, name)</div><div class='xr-var-dtype'>float64</div><div class='xr-var-preview xr-preview'>...</div><input id='attrs-1f25ce46-fbc9-45b8-87d6-7626d995791c' class='xr-var-attrs-in' type='checkbox' disabled><label for='attrs-1f25ce46-fbc9-45b8-87d6-7626d995791c' title='Show/Hide attributes'><svg class='icon xr-icon-file-text2'><use xlink:href='#icon-file-text2'></use></svg></label><input id='data-e5b9b778-f382-4790-acfe-70670066990b' class='xr-var-data-in' type='checkbox'><label for='data-e5b9b778-f382-4790-acfe-70670066990b' title='Show/Hide data repr'><svg class='icon xr-icon-database'><use xlink:href='#icon-database'></use></svg></label><div class='xr-var-attrs'><dl class='xr-attrs'></dl></div><div class='xr-var-data'><pre>[825 values with dtype=float64]</pre></div></li><li class='xr-var-item'><div class='xr-var-name'><span>snow</span></div><div class='xr-var-dims'>(datetime, name)</div><div class='xr-var-dtype'>float64</div><div class='xr-var-preview xr-preview'>...</div><input id='attrs-547fbd11-ba78-41a7-ab58-060577192cad' class='xr-var-attrs-in' type='checkbox' disabled><label for='attrs-547fbd11-ba78-41a7-ab58-060577192cad' title='Show/Hide attributes'><svg class='icon xr-icon-file-text2'><use xlink:href='#icon-file-text2'></use></svg></label><input id='data-4ddf24b2-e0a2-45ec-a2f5-741837427e5b' class='xr-var-data-in' type='checkbox'><label for='data-4ddf24b2-e0a2-45ec-a2f5-741837427e5b' title='Show/Hide data repr'><svg class='icon xr-icon-database'><use xlink:href='#icon-database'></use></svg></label><div class='xr-var-attrs'><dl class='xr-attrs'></dl></div><div class='xr-var-data'><pre>[825 values with dtype=float64]</pre></div></li><li class='xr-var-item'><div class='xr-var-name'><span>snowdepth</span></div><div class='xr-var-dims'>(datetime, name)</div><div class='xr-var-dtype'>float64</div><div class='xr-var-preview xr-preview'>...</div><input id='attrs-0ab85381-2e69-432e-9281-20f4fc94c23e' class='xr-var-attrs-in' type='checkbox' disabled><label for='attrs-0ab85381-2e69-432e-9281-20f4fc94c23e' title='Show/Hide attributes'><svg class='icon xr-icon-file-text2'><use xlink:href='#icon-file-text2'></use></svg></label><input id='data-8311963b-6339-4c47-be5e-417ca180c344' class='xr-var-data-in' type='checkbox'><label for='data-8311963b-6339-4c47-be5e-417ca180c344' title='Show/Hide data repr'><svg class='icon xr-icon-database'><use xlink:href='#icon-database'></use></svg></label><div class='xr-var-attrs'><dl class='xr-attrs'></dl></div><div class='xr-var-data'><pre>[825 values with dtype=float64]</pre></div></li><li class='xr-var-item'><div class='xr-var-name'><span>windgust</span></div><div class='xr-var-dims'>(datetime, name)</div><div class='xr-var-dtype'>float64</div><div class='xr-var-preview xr-preview'>...</div><input id='attrs-c6bccf90-d9b4-4794-88b1-bd3de1e0074c' class='xr-var-attrs-in' type='checkbox' disabled><label for='attrs-c6bccf90-d9b4-4794-88b1-bd3de1e0074c' title='Show/Hide attributes'><svg class='icon xr-icon-file-text2'><use xlink:href='#icon-file-text2'></use></svg></label><input id='data-f039c193-0b14-4da1-a820-1ff4a84b6d78' class='xr-var-data-in' type='checkbox'><label for='data-f039c193-0b14-4da1-a820-1ff4a84b6d78' title='Show/Hide data repr'><svg class='icon xr-icon-database'><use xlink:href='#icon-database'></use></svg></label><div class='xr-var-attrs'><dl class='xr-attrs'></dl></div><div class='xr-var-data'><pre>[825 values with dtype=float64]</pre></div></li><li class='xr-var-item'><div class='xr-var-name'><span>severerisk</span></div><div class='xr-var-dims'>(datetime, name)</div><div class='xr-var-dtype'>float64</div><div class='xr-var-preview xr-preview'>...</div><input id='attrs-4539580f-97f9-454a-a3ea-2b8b65549ea5' class='xr-var-attrs-in' type='checkbox' disabled><label for='attrs-4539580f-97f9-454a-a3ea-2b8b65549ea5' title='Show/Hide attributes'><svg class='icon xr-icon-file-text2'><use xlink:href='#icon-file-text2'></use></svg></label><input id='data-d2e90163-8a46-44cf-a946-85371c8f5e6a' class='xr-var-data-in' type='checkbox'><label for='data-d2e90163-8a46-44cf-a946-85371c8f5e6a' title='Show/Hide data repr'><svg class='icon xr-icon-database'><use xlink:href='#icon-database'></use></svg></label><div class='xr-var-attrs'><dl class='xr-attrs'></dl></div><div class='xr-var-data'><pre>[825 values with dtype=float64]</pre></div></li><li class='xr-var-item'><div class='xr-var-name'><span>sunrise</span></div><div class='xr-var-dims'>(datetime, name)</div><div class='xr-var-dtype'>datetime64[ns]</div><div class='xr-var-preview xr-preview'>...</div><input id='attrs-c75a84f0-52a0-4f3c-b3b8-25e22830aac8' class='xr-var-attrs-in' type='checkbox' disabled><label for='attrs-c75a84f0-52a0-4f3c-b3b8-25e22830aac8' title='Show/Hide attributes'><svg class='icon xr-icon-file-text2'><use xlink:href='#icon-file-text2'></use></svg></label><input id='data-0584b641-1f00-4664-b789-66018b2662dd' class='xr-var-data-in' type='checkbox'><label for='data-0584b641-1f00-4664-b789-66018b2662dd' title='Show/Hide data repr'><svg class='icon xr-icon-database'><use xlink:href='#icon-database'></use></svg></label><div class='xr-var-attrs'><dl class='xr-attrs'></dl></div><div class='xr-var-data'><pre>[825 values with dtype=datetime64[ns]]</pre></div></li><li class='xr-var-item'><div class='xr-var-name'><span>sunset</span></div><div class='xr-var-dims'>(datetime, name)</div><div class='xr-var-dtype'>datetime64[ns]</div><div class='xr-var-preview xr-preview'>...</div><input id='attrs-07e22437-be60-4134-9c82-d6946311275c' class='xr-var-attrs-in' type='checkbox' disabled><label for='attrs-07e22437-be60-4134-9c82-d6946311275c' title='Show/Hide attributes'><svg class='icon xr-icon-file-text2'><use xlink:href='#icon-file-text2'></use></svg></label><input id='data-d5703360-cedd-47d2-bb17-4c84d8bc9231' class='xr-var-data-in' type='checkbox'><label for='data-d5703360-cedd-47d2-bb17-4c84d8bc9231' title='Show/Hide data repr'><svg class='icon xr-icon-database'><use xlink:href='#icon-database'></use></svg></label><div class='xr-var-attrs'><dl class='xr-attrs'></dl></div><div class='xr-var-data'><pre>[825 values with dtype=datetime64[ns]]</pre></div></li></ul></div></li><li class='xr-section-item'><input id='section-30c3eec9-93c3-49fe-9266-4025f8c0036c' class='xr-section-summary-in' type='checkbox'  ><label for='section-30c3eec9-93c3-49fe-9266-4025f8c0036c' class='xr-section-summary' >Indexes: <span>(4)</span></label><div class='xr-section-inline-details'></div><div class='xr-section-details'><ul class='xr-var-list'><li class='xr-var-item'><div class='xr-index-name'><div>ts_id</div></div><div class='xr-index-preview'>PandasIndex</div><div></div><input id='index-8aee33ce-8d5b-4fb4-88f0-10abcc3322ae' class='xr-index-data-in' type='checkbox'/><label for='index-8aee33ce-8d5b-4fb4-88f0-10abcc3322ae' title='Show/Hide index repr'><svg class='icon xr-icon-database'><use xlink:href='#icon-database'></use></svg></label><div class='xr-index-data'><pre>PandasIndex(Int64Index([  0,   1,   2,   3,   4,   5,   6,   7,   8,   9,\n",
       "            ...\n",
       "            547, 548, 549, 550, 551, 552, 553, 554, 555, 556],\n",
       "           dtype=&#x27;int64&#x27;, name=&#x27;ts_id&#x27;, length=557))</pre></div></li><li class='xr-var-item'><div class='xr-index-name'><div>datetime</div></div><div class='xr-index-preview'>PandasIndex</div><div></div><input id='index-70c06861-1639-4d22-b608-f5e340966019' class='xr-index-data-in' type='checkbox'/><label for='index-70c06861-1639-4d22-b608-f5e340966019' title='Show/Hide index repr'><svg class='icon xr-icon-database'><use xlink:href='#icon-database'></use></svg></label><div class='xr-index-data'><pre>PandasIndex(DatetimeIndex([&#x27;2021-11-08&#x27;, &#x27;2021-11-09&#x27;, &#x27;2021-11-10&#x27;, &#x27;2021-11-11&#x27;,\n",
       "               &#x27;2021-11-12&#x27;, &#x27;2021-11-13&#x27;, &#x27;2021-11-14&#x27;, &#x27;2021-11-15&#x27;,\n",
       "               &#x27;2021-11-16&#x27;, &#x27;2021-11-17&#x27;,\n",
       "               ...\n",
       "               &#x27;2022-07-31&#x27;, &#x27;2022-08-01&#x27;, &#x27;2022-08-02&#x27;, &#x27;2022-08-03&#x27;,\n",
       "               &#x27;2022-08-04&#x27;, &#x27;2022-08-05&#x27;, &#x27;2022-08-06&#x27;, &#x27;2022-08-07&#x27;,\n",
       "               &#x27;2022-08-08&#x27;, &#x27;2022-08-09&#x27;],\n",
       "              dtype=&#x27;datetime64[ns]&#x27;, name=&#x27;datetime&#x27;, length=275, freq=None))</pre></div></li><li class='xr-var-item'><div class='xr-index-name'><div>state_dev</div></div><div class='xr-index-preview'>PandasIndex</div><div></div><input id='index-c33c6ea5-6e68-4622-a20c-1c1525cf5968' class='xr-index-data-in' type='checkbox'/><label for='index-c33c6ea5-6e68-4622-a20c-1c1525cf5968' title='Show/Hide index repr'><svg class='icon xr-icon-database'><use xlink:href='#icon-database'></use></svg></label><div class='xr-index-data'><pre>PandasIndex(Int64Index([23, 22, 21, 20, 19, 18, 17, 16, 15, 14, 13, 12, 11, 10,  9,  8,  7,\n",
       "             6,  5,  4,  3,  2,  1,  0],\n",
       "           dtype=&#x27;int64&#x27;, name=&#x27;state_dev&#x27;))</pre></div></li><li class='xr-var-item'><div class='xr-index-name'><div>name</div></div><div class='xr-index-preview'>PandasIndex</div><div></div><input id='index-268f7c87-c397-4e4b-8876-21c9b2378c81' class='xr-index-data-in' type='checkbox'/><label for='index-268f7c87-c397-4e4b-8876-21c9b2378c81' title='Show/Hide index repr'><svg class='icon xr-icon-database'><use xlink:href='#icon-database'></use></svg></label><div class='xr-index-data'><pre>PandasIndex(Index([&#x27;Chau_Phu&#x27;, &#x27;Chau_Thanh&#x27;, &#x27;Thoai_Son&#x27;], dtype=&#x27;object&#x27;, name=&#x27;name&#x27;))</pre></div></li></ul></div></li><li class='xr-section-item'><input id='section-58cf8371-5970-406e-b464-0be51595383b' class='xr-section-summary-in' type='checkbox' disabled ><label for='section-58cf8371-5970-406e-b464-0be51595383b' class='xr-section-summary'  title='Expand/collapse section'>Attributes: <span>(0)</span></label><div class='xr-section-inline-details'></div><div class='xr-section-details'><dl class='xr-attrs'></dl></div></li></ul></div></div>"
      ],
      "text/plain": [
       "<xarray.Dataset>\n",
       "Dimensions:                                         (ts_id: 557, state_dev: 24,\n",
       "                                                     datetime: 275, name: 3)\n",
       "Coordinates:\n",
       "  * ts_id                                           (ts_id) int32 0 1 ... 556\n",
       "  * datetime                                        (datetime) datetime64[ns] ...\n",
       "  * state_dev                                       (state_dev) int32 23 ... 0\n",
       "  * name                                            (name) object 'Chau_Phu' ...\n",
       "Data variables: (12/57)\n",
       "    ndvi                                            (ts_id, state_dev) float32 ...\n",
       "    savi                                            (ts_id, state_dev) float32 ...\n",
       "    evi                                             (ts_id, state_dev) float32 ...\n",
       "    rep                                             (ts_id, state_dev) float32 ...\n",
       "    osavi                                           (ts_id, state_dev) float32 ...\n",
       "    rdvi                                            (ts_id, state_dev) float32 ...\n",
       "    ...                                              ...\n",
       "    snow                                            (datetime, name) float64 ...\n",
       "    snowdepth                                       (datetime, name) float64 ...\n",
       "    windgust                                        (datetime, name) float64 ...\n",
       "    severerisk                                      (datetime, name) float64 ...\n",
       "    sunrise                                         (datetime, name) datetime64[ns] ...\n",
       "    sunset                                          (datetime, name) datetime64[ns] ..."
      ]
     },
     "execution_count": 8,
     "metadata": {},
     "output_type": "execute_result"
    }
   ],
   "source": [
    "import xarray as xr\n",
    "xr.open_dataset('../../data/processed/adaptative_factor_2/train_filter_processed.nc', engine='scipy')\n",
    "# df = pd.read_csv('../../data/processed/adaptative_factor_3/train.csv')"
   ]
  },
  {
   "cell_type": "code",
   "execution_count": 219,
   "id": "2bef6051",
   "metadata": {},
   "outputs": [
    {
     "data": {
      "text/html": [
       "<div><svg style=\"position: absolute; width: 0; height: 0; overflow: hidden\">\n",
       "<defs>\n",
       "<symbol id=\"icon-database\" viewBox=\"0 0 32 32\">\n",
       "<path d=\"M16 0c-8.837 0-16 2.239-16 5v4c0 2.761 7.163 5 16 5s16-2.239 16-5v-4c0-2.761-7.163-5-16-5z\"></path>\n",
       "<path d=\"M16 17c-8.837 0-16-2.239-16-5v6c0 2.761 7.163 5 16 5s16-2.239 16-5v-6c0 2.761-7.163 5-16 5z\"></path>\n",
       "<path d=\"M16 26c-8.837 0-16-2.239-16-5v6c0 2.761 7.163 5 16 5s16-2.239 16-5v-6c0 2.761-7.163 5-16 5z\"></path>\n",
       "</symbol>\n",
       "<symbol id=\"icon-file-text2\" viewBox=\"0 0 32 32\">\n",
       "<path d=\"M28.681 7.159c-0.694-0.947-1.662-2.053-2.724-3.116s-2.169-2.030-3.116-2.724c-1.612-1.182-2.393-1.319-2.841-1.319h-15.5c-1.378 0-2.5 1.121-2.5 2.5v27c0 1.378 1.122 2.5 2.5 2.5h23c1.378 0 2.5-1.122 2.5-2.5v-19.5c0-0.448-0.137-1.23-1.319-2.841zM24.543 5.457c0.959 0.959 1.712 1.825 2.268 2.543h-4.811v-4.811c0.718 0.556 1.584 1.309 2.543 2.268zM28 29.5c0 0.271-0.229 0.5-0.5 0.5h-23c-0.271 0-0.5-0.229-0.5-0.5v-27c0-0.271 0.229-0.5 0.5-0.5 0 0 15.499-0 15.5 0v7c0 0.552 0.448 1 1 1h7v19.5z\"></path>\n",
       "<path d=\"M23 26h-14c-0.552 0-1-0.448-1-1s0.448-1 1-1h14c0.552 0 1 0.448 1 1s-0.448 1-1 1z\"></path>\n",
       "<path d=\"M23 22h-14c-0.552 0-1-0.448-1-1s0.448-1 1-1h14c0.552 0 1 0.448 1 1s-0.448 1-1 1z\"></path>\n",
       "<path d=\"M23 18h-14c-0.552 0-1-0.448-1-1s0.448-1 1-1h14c0.552 0 1 0.448 1 1s-0.448 1-1 1z\"></path>\n",
       "</symbol>\n",
       "</defs>\n",
       "</svg>\n",
       "<style>/* CSS stylesheet for displaying xarray objects in jupyterlab.\n",
       " *\n",
       " */\n",
       "\n",
       ":root {\n",
       "  --xr-font-color0: var(--jp-content-font-color0, rgba(0, 0, 0, 1));\n",
       "  --xr-font-color2: var(--jp-content-font-color2, rgba(0, 0, 0, 0.54));\n",
       "  --xr-font-color3: var(--jp-content-font-color3, rgba(0, 0, 0, 0.38));\n",
       "  --xr-border-color: var(--jp-border-color2, #e0e0e0);\n",
       "  --xr-disabled-color: var(--jp-layout-color3, #bdbdbd);\n",
       "  --xr-background-color: var(--jp-layout-color0, white);\n",
       "  --xr-background-color-row-even: var(--jp-layout-color1, white);\n",
       "  --xr-background-color-row-odd: var(--jp-layout-color2, #eeeeee);\n",
       "}\n",
       "\n",
       "html[theme=dark],\n",
       "body[data-theme=dark],\n",
       "body.vscode-dark {\n",
       "  --xr-font-color0: rgba(255, 255, 255, 1);\n",
       "  --xr-font-color2: rgba(255, 255, 255, 0.54);\n",
       "  --xr-font-color3: rgba(255, 255, 255, 0.38);\n",
       "  --xr-border-color: #1F1F1F;\n",
       "  --xr-disabled-color: #515151;\n",
       "  --xr-background-color: #111111;\n",
       "  --xr-background-color-row-even: #111111;\n",
       "  --xr-background-color-row-odd: #313131;\n",
       "}\n",
       "\n",
       ".xr-wrap {\n",
       "  display: block !important;\n",
       "  min-width: 300px;\n",
       "  max-width: 700px;\n",
       "}\n",
       "\n",
       ".xr-text-repr-fallback {\n",
       "  /* fallback to plain text repr when CSS is not injected (untrusted notebook) */\n",
       "  display: none;\n",
       "}\n",
       "\n",
       ".xr-header {\n",
       "  padding-top: 6px;\n",
       "  padding-bottom: 6px;\n",
       "  margin-bottom: 4px;\n",
       "  border-bottom: solid 1px var(--xr-border-color);\n",
       "}\n",
       "\n",
       ".xr-header > div,\n",
       ".xr-header > ul {\n",
       "  display: inline;\n",
       "  margin-top: 0;\n",
       "  margin-bottom: 0;\n",
       "}\n",
       "\n",
       ".xr-obj-type,\n",
       ".xr-array-name {\n",
       "  margin-left: 2px;\n",
       "  margin-right: 10px;\n",
       "}\n",
       "\n",
       ".xr-obj-type {\n",
       "  color: var(--xr-font-color2);\n",
       "}\n",
       "\n",
       ".xr-sections {\n",
       "  padding-left: 0 !important;\n",
       "  display: grid;\n",
       "  grid-template-columns: 150px auto auto 1fr 20px 20px;\n",
       "}\n",
       "\n",
       ".xr-section-item {\n",
       "  display: contents;\n",
       "}\n",
       "\n",
       ".xr-section-item input {\n",
       "  display: none;\n",
       "}\n",
       "\n",
       ".xr-section-item input + label {\n",
       "  color: var(--xr-disabled-color);\n",
       "}\n",
       "\n",
       ".xr-section-item input:enabled + label {\n",
       "  cursor: pointer;\n",
       "  color: var(--xr-font-color2);\n",
       "}\n",
       "\n",
       ".xr-section-item input:enabled + label:hover {\n",
       "  color: var(--xr-font-color0);\n",
       "}\n",
       "\n",
       ".xr-section-summary {\n",
       "  grid-column: 1;\n",
       "  color: var(--xr-font-color2);\n",
       "  font-weight: 500;\n",
       "}\n",
       "\n",
       ".xr-section-summary > span {\n",
       "  display: inline-block;\n",
       "  padding-left: 0.5em;\n",
       "}\n",
       "\n",
       ".xr-section-summary-in:disabled + label {\n",
       "  color: var(--xr-font-color2);\n",
       "}\n",
       "\n",
       ".xr-section-summary-in + label:before {\n",
       "  display: inline-block;\n",
       "  content: '►';\n",
       "  font-size: 11px;\n",
       "  width: 15px;\n",
       "  text-align: center;\n",
       "}\n",
       "\n",
       ".xr-section-summary-in:disabled + label:before {\n",
       "  color: var(--xr-disabled-color);\n",
       "}\n",
       "\n",
       ".xr-section-summary-in:checked + label:before {\n",
       "  content: '▼';\n",
       "}\n",
       "\n",
       ".xr-section-summary-in:checked + label > span {\n",
       "  display: none;\n",
       "}\n",
       "\n",
       ".xr-section-summary,\n",
       ".xr-section-inline-details {\n",
       "  padding-top: 4px;\n",
       "  padding-bottom: 4px;\n",
       "}\n",
       "\n",
       ".xr-section-inline-details {\n",
       "  grid-column: 2 / -1;\n",
       "}\n",
       "\n",
       ".xr-section-details {\n",
       "  display: none;\n",
       "  grid-column: 1 / -1;\n",
       "  margin-bottom: 5px;\n",
       "}\n",
       "\n",
       ".xr-section-summary-in:checked ~ .xr-section-details {\n",
       "  display: contents;\n",
       "}\n",
       "\n",
       ".xr-array-wrap {\n",
       "  grid-column: 1 / -1;\n",
       "  display: grid;\n",
       "  grid-template-columns: 20px auto;\n",
       "}\n",
       "\n",
       ".xr-array-wrap > label {\n",
       "  grid-column: 1;\n",
       "  vertical-align: top;\n",
       "}\n",
       "\n",
       ".xr-preview {\n",
       "  color: var(--xr-font-color3);\n",
       "}\n",
       "\n",
       ".xr-array-preview,\n",
       ".xr-array-data {\n",
       "  padding: 0 5px !important;\n",
       "  grid-column: 2;\n",
       "}\n",
       "\n",
       ".xr-array-data,\n",
       ".xr-array-in:checked ~ .xr-array-preview {\n",
       "  display: none;\n",
       "}\n",
       "\n",
       ".xr-array-in:checked ~ .xr-array-data,\n",
       ".xr-array-preview {\n",
       "  display: inline-block;\n",
       "}\n",
       "\n",
       ".xr-dim-list {\n",
       "  display: inline-block !important;\n",
       "  list-style: none;\n",
       "  padding: 0 !important;\n",
       "  margin: 0;\n",
       "}\n",
       "\n",
       ".xr-dim-list li {\n",
       "  display: inline-block;\n",
       "  padding: 0;\n",
       "  margin: 0;\n",
       "}\n",
       "\n",
       ".xr-dim-list:before {\n",
       "  content: '(';\n",
       "}\n",
       "\n",
       ".xr-dim-list:after {\n",
       "  content: ')';\n",
       "}\n",
       "\n",
       ".xr-dim-list li:not(:last-child):after {\n",
       "  content: ',';\n",
       "  padding-right: 5px;\n",
       "}\n",
       "\n",
       ".xr-has-index {\n",
       "  font-weight: bold;\n",
       "}\n",
       "\n",
       ".xr-var-list,\n",
       ".xr-var-item {\n",
       "  display: contents;\n",
       "}\n",
       "\n",
       ".xr-var-item > div,\n",
       ".xr-var-item label,\n",
       ".xr-var-item > .xr-var-name span {\n",
       "  background-color: var(--xr-background-color-row-even);\n",
       "  margin-bottom: 0;\n",
       "}\n",
       "\n",
       ".xr-var-item > .xr-var-name:hover span {\n",
       "  padding-right: 5px;\n",
       "}\n",
       "\n",
       ".xr-var-list > li:nth-child(odd) > div,\n",
       ".xr-var-list > li:nth-child(odd) > label,\n",
       ".xr-var-list > li:nth-child(odd) > .xr-var-name span {\n",
       "  background-color: var(--xr-background-color-row-odd);\n",
       "}\n",
       "\n",
       ".xr-var-name {\n",
       "  grid-column: 1;\n",
       "}\n",
       "\n",
       ".xr-var-dims {\n",
       "  grid-column: 2;\n",
       "}\n",
       "\n",
       ".xr-var-dtype {\n",
       "  grid-column: 3;\n",
       "  text-align: right;\n",
       "  color: var(--xr-font-color2);\n",
       "}\n",
       "\n",
       ".xr-var-preview {\n",
       "  grid-column: 4;\n",
       "}\n",
       "\n",
       ".xr-index-preview {\n",
       "  grid-column: 2 / 5;\n",
       "  color: var(--xr-font-color2);\n",
       "}\n",
       "\n",
       ".xr-var-name,\n",
       ".xr-var-dims,\n",
       ".xr-var-dtype,\n",
       ".xr-preview,\n",
       ".xr-attrs dt {\n",
       "  white-space: nowrap;\n",
       "  overflow: hidden;\n",
       "  text-overflow: ellipsis;\n",
       "  padding-right: 10px;\n",
       "}\n",
       "\n",
       ".xr-var-name:hover,\n",
       ".xr-var-dims:hover,\n",
       ".xr-var-dtype:hover,\n",
       ".xr-attrs dt:hover {\n",
       "  overflow: visible;\n",
       "  width: auto;\n",
       "  z-index: 1;\n",
       "}\n",
       "\n",
       ".xr-var-attrs,\n",
       ".xr-var-data,\n",
       ".xr-index-data {\n",
       "  display: none;\n",
       "  background-color: var(--xr-background-color) !important;\n",
       "  padding-bottom: 5px !important;\n",
       "}\n",
       "\n",
       ".xr-var-attrs-in:checked ~ .xr-var-attrs,\n",
       ".xr-var-data-in:checked ~ .xr-var-data,\n",
       ".xr-index-data-in:checked ~ .xr-index-data {\n",
       "  display: block;\n",
       "}\n",
       "\n",
       ".xr-var-data > table {\n",
       "  float: right;\n",
       "}\n",
       "\n",
       ".xr-var-name span,\n",
       ".xr-var-data,\n",
       ".xr-index-name div,\n",
       ".xr-index-data,\n",
       ".xr-attrs {\n",
       "  padding-left: 25px !important;\n",
       "}\n",
       "\n",
       ".xr-attrs,\n",
       ".xr-var-attrs,\n",
       ".xr-var-data,\n",
       ".xr-index-data {\n",
       "  grid-column: 1 / -1;\n",
       "}\n",
       "\n",
       "dl.xr-attrs {\n",
       "  padding: 0;\n",
       "  margin: 0;\n",
       "  display: grid;\n",
       "  grid-template-columns: 125px auto;\n",
       "}\n",
       "\n",
       ".xr-attrs dt,\n",
       ".xr-attrs dd {\n",
       "  padding: 0;\n",
       "  margin: 0;\n",
       "  float: left;\n",
       "  padding-right: 10px;\n",
       "  width: auto;\n",
       "}\n",
       "\n",
       ".xr-attrs dt {\n",
       "  font-weight: normal;\n",
       "  grid-column: 1;\n",
       "}\n",
       "\n",
       ".xr-attrs dt:hover span {\n",
       "  display: inline-block;\n",
       "  background: var(--xr-background-color);\n",
       "  padding-right: 10px;\n",
       "}\n",
       "\n",
       ".xr-attrs dd {\n",
       "  grid-column: 2;\n",
       "  white-space: pre-wrap;\n",
       "  word-break: break-all;\n",
       "}\n",
       "\n",
       ".xr-icon-database,\n",
       ".xr-icon-file-text2,\n",
       ".xr-no-icon {\n",
       "  display: inline-block;\n",
       "  vertical-align: middle;\n",
       "  width: 1em;\n",
       "  height: 1.5em !important;\n",
       "  stroke-width: 0;\n",
       "  stroke: currentColor;\n",
       "  fill: currentColor;\n",
       "}\n",
       "</style><pre class='xr-text-repr-fallback'>&lt;xarray.Dataset&gt;\n",
       "Dimensions:                                         (index: 13368, dim_0: 13368)\n",
       "Coordinates:\n",
       "  * index                                           (index) int64 0 1 ... 13367\n",
       "    timeserieindex                                  (dim_0) int64 0 0 ... 556\n",
       "  * dim_0                                           (dim_0) int64 0 1 ... 13367\n",
       "Data variables: (12/17)\n",
       "    time                                            (index) object &#x27;2022-07-1...\n",
       "    District                                        (index) object &#x27;Chau_Phu&#x27;...\n",
       "    Latitude                                        (index) float64 10.51 ......\n",
       "    Longitude                                       (index) float64 105.2 ......\n",
       "    Season(SA = Summer Autumn, WS = Winter Spring)  (index) object &#x27;SA&#x27; ... &#x27;WS&#x27;\n",
       "    Rice Crop Intensity(D=Double, T=Triple)         (index) object &#x27;T&#x27; ... &#x27;T&#x27;\n",
       "    ...                                              ...\n",
       "    blue                                            (index) float64 4.311e+03...\n",
       "    rededge1                                        (index) float64 4.424e+03...\n",
       "    rededge2                                        (index) float64 5.134e+03...\n",
       "    rededge3                                        (index) float64 5.402e+03...\n",
       "    nir                                             (index) float64 5.447e+03...\n",
       "    swir                                            (index) float64 3.092e+03...</pre><div class='xr-wrap' style='display:none'><div class='xr-header'><div class='xr-obj-type'>xarray.Dataset</div></div><ul class='xr-sections'><li class='xr-section-item'><input id='section-ca7dd741-4ccd-4a3a-bbf1-273df4acde7d' class='xr-section-summary-in' type='checkbox' disabled ><label for='section-ca7dd741-4ccd-4a3a-bbf1-273df4acde7d' class='xr-section-summary'  title='Expand/collapse section'>Dimensions:</label><div class='xr-section-inline-details'><ul class='xr-dim-list'><li><span class='xr-has-index'>index</span>: 13368</li><li><span class='xr-has-index'>dim_0</span>: 13368</li></ul></div><div class='xr-section-details'></div></li><li class='xr-section-item'><input id='section-be45013c-d895-48b6-b5f0-16b10fd39fce' class='xr-section-summary-in' type='checkbox'  checked><label for='section-be45013c-d895-48b6-b5f0-16b10fd39fce' class='xr-section-summary' >Coordinates: <span>(3)</span></label><div class='xr-section-inline-details'></div><div class='xr-section-details'><ul class='xr-var-list'><li class='xr-var-item'><div class='xr-var-name'><span class='xr-has-index'>index</span></div><div class='xr-var-dims'>(index)</div><div class='xr-var-dtype'>int64</div><div class='xr-var-preview xr-preview'>0 1 2 3 ... 13364 13365 13366 13367</div><input id='attrs-70b1eb10-944e-4be9-b569-5e02653953a6' class='xr-var-attrs-in' type='checkbox' disabled><label for='attrs-70b1eb10-944e-4be9-b569-5e02653953a6' title='Show/Hide attributes'><svg class='icon xr-icon-file-text2'><use xlink:href='#icon-file-text2'></use></svg></label><input id='data-6203dcc8-02f5-44a5-aac0-cbf3ed6467ad' class='xr-var-data-in' type='checkbox'><label for='data-6203dcc8-02f5-44a5-aac0-cbf3ed6467ad' title='Show/Hide data repr'><svg class='icon xr-icon-database'><use xlink:href='#icon-database'></use></svg></label><div class='xr-var-attrs'><dl class='xr-attrs'></dl></div><div class='xr-var-data'><pre>array([    0,     1,     2, ..., 13365, 13366, 13367])</pre></div></li><li class='xr-var-item'><div class='xr-var-name'><span>timeserieindex</span></div><div class='xr-var-dims'>(dim_0)</div><div class='xr-var-dtype'>int64</div><div class='xr-var-preview xr-preview'>0 0 0 0 0 0 ... 556 556 556 556 556</div><input id='attrs-e04131c6-25aa-4662-9576-60b8d5f35e3d' class='xr-var-attrs-in' type='checkbox' disabled><label for='attrs-e04131c6-25aa-4662-9576-60b8d5f35e3d' title='Show/Hide attributes'><svg class='icon xr-icon-file-text2'><use xlink:href='#icon-file-text2'></use></svg></label><input id='data-f796ca44-cdaa-4a3a-9536-09586b3c6209' class='xr-var-data-in' type='checkbox'><label for='data-f796ca44-cdaa-4a3a-9536-09586b3c6209' title='Show/Hide data repr'><svg class='icon xr-icon-database'><use xlink:href='#icon-database'></use></svg></label><div class='xr-var-attrs'><dl class='xr-attrs'></dl></div><div class='xr-var-data'><pre>array([  0,   0,   0, ..., 556, 556, 556])</pre></div></li><li class='xr-var-item'><div class='xr-var-name'><span class='xr-has-index'>dim_0</span></div><div class='xr-var-dims'>(dim_0)</div><div class='xr-var-dtype'>int64</div><div class='xr-var-preview xr-preview'>0 1 2 3 ... 13364 13365 13366 13367</div><input id='attrs-05a21bbd-1a67-4cfe-8d20-11a41b62d1e7' class='xr-var-attrs-in' type='checkbox' disabled><label for='attrs-05a21bbd-1a67-4cfe-8d20-11a41b62d1e7' title='Show/Hide attributes'><svg class='icon xr-icon-file-text2'><use xlink:href='#icon-file-text2'></use></svg></label><input id='data-1ea9fa30-8bf3-4104-870b-8e3efd7b7930' class='xr-var-data-in' type='checkbox'><label for='data-1ea9fa30-8bf3-4104-870b-8e3efd7b7930' title='Show/Hide data repr'><svg class='icon xr-icon-database'><use xlink:href='#icon-database'></use></svg></label><div class='xr-var-attrs'><dl class='xr-attrs'></dl></div><div class='xr-var-data'><pre>array([    0,     1,     2, ..., 13365, 13366, 13367])</pre></div></li></ul></div></li><li class='xr-section-item'><input id='section-c1ef9b39-ff70-437a-a949-8c58d636ab35' class='xr-section-summary-in' type='checkbox'  ><label for='section-c1ef9b39-ff70-437a-a949-8c58d636ab35' class='xr-section-summary' >Data variables: <span>(17)</span></label><div class='xr-section-inline-details'></div><div class='xr-section-details'><ul class='xr-var-list'><li class='xr-var-item'><div class='xr-var-name'><span>time</span></div><div class='xr-var-dims'>(index)</div><div class='xr-var-dtype'>object</div><div class='xr-var-preview xr-preview'>&#x27;2022-07-14&#x27; ... &#x27;2021-12-06&#x27;</div><input id='attrs-f6e732f8-bfd9-4ca5-b331-768e0b4306db' class='xr-var-attrs-in' type='checkbox' disabled><label for='attrs-f6e732f8-bfd9-4ca5-b331-768e0b4306db' title='Show/Hide attributes'><svg class='icon xr-icon-file-text2'><use xlink:href='#icon-file-text2'></use></svg></label><input id='data-91561d7c-38d9-4201-83e1-b93407930a46' class='xr-var-data-in' type='checkbox'><label for='data-91561d7c-38d9-4201-83e1-b93407930a46' title='Show/Hide data repr'><svg class='icon xr-icon-database'><use xlink:href='#icon-database'></use></svg></label><div class='xr-var-attrs'><dl class='xr-attrs'></dl></div><div class='xr-var-data'><pre>array([&#x27;2022-07-14&#x27;, &#x27;2022-07-09&#x27;, &#x27;2022-07-04&#x27;, ..., &#x27;2021-12-16&#x27;,\n",
       "       &#x27;2021-12-11&#x27;, &#x27;2021-12-06&#x27;], dtype=object)</pre></div></li><li class='xr-var-item'><div class='xr-var-name'><span>District</span></div><div class='xr-var-dims'>(index)</div><div class='xr-var-dtype'>object</div><div class='xr-var-preview xr-preview'>&#x27;Chau_Phu&#x27; ... &#x27;Thoai_Son&#x27;</div><input id='attrs-5d50f89f-b2db-4027-a0d5-57a7260c03cf' class='xr-var-attrs-in' type='checkbox' disabled><label for='attrs-5d50f89f-b2db-4027-a0d5-57a7260c03cf' title='Show/Hide attributes'><svg class='icon xr-icon-file-text2'><use xlink:href='#icon-file-text2'></use></svg></label><input id='data-e29b44b5-f0ba-4f09-a1e7-af0675b547ee' class='xr-var-data-in' type='checkbox'><label for='data-e29b44b5-f0ba-4f09-a1e7-af0675b547ee' title='Show/Hide data repr'><svg class='icon xr-icon-database'><use xlink:href='#icon-database'></use></svg></label><div class='xr-var-attrs'><dl class='xr-attrs'></dl></div><div class='xr-var-data'><pre>array([&#x27;Chau_Phu&#x27;, &#x27;Chau_Phu&#x27;, &#x27;Chau_Phu&#x27;, ..., &#x27;Thoai_Son&#x27;, &#x27;Thoai_Son&#x27;,\n",
       "       &#x27;Thoai_Son&#x27;], dtype=object)</pre></div></li><li class='xr-var-item'><div class='xr-var-name'><span>Latitude</span></div><div class='xr-var-dims'>(index)</div><div class='xr-var-dtype'>float64</div><div class='xr-var-preview xr-preview'>10.51 10.51 10.51 ... 10.3 10.3</div><input id='attrs-c1a1bc68-ef6b-4c41-a071-c8add5d7ab04' class='xr-var-attrs-in' type='checkbox' disabled><label for='attrs-c1a1bc68-ef6b-4c41-a071-c8add5d7ab04' title='Show/Hide attributes'><svg class='icon xr-icon-file-text2'><use xlink:href='#icon-file-text2'></use></svg></label><input id='data-733ce2fc-9f42-4600-96ac-7c794f8c8062' class='xr-var-data-in' type='checkbox'><label for='data-733ce2fc-9f42-4600-96ac-7c794f8c8062' title='Show/Hide data repr'><svg class='icon xr-icon-database'><use xlink:href='#icon-database'></use></svg></label><div class='xr-var-attrs'><dl class='xr-attrs'></dl></div><div class='xr-var-data'><pre>array([10.510542, 10.510542, 10.510542, ..., 10.304295, 10.304295,\n",
       "       10.304295])</pre></div></li><li class='xr-var-item'><div class='xr-var-name'><span>Longitude</span></div><div class='xr-var-dims'>(index)</div><div class='xr-var-dtype'>float64</div><div class='xr-var-preview xr-preview'>105.2 105.2 105.2 ... 105.3 105.3</div><input id='attrs-e2c2a45f-701f-4a78-87ed-168ac9daf584' class='xr-var-attrs-in' type='checkbox' disabled><label for='attrs-e2c2a45f-701f-4a78-87ed-168ac9daf584' title='Show/Hide attributes'><svg class='icon xr-icon-file-text2'><use xlink:href='#icon-file-text2'></use></svg></label><input id='data-a0989cf8-799c-4bce-ae1c-e0aaf392559d' class='xr-var-data-in' type='checkbox'><label for='data-a0989cf8-799c-4bce-ae1c-e0aaf392559d' title='Show/Hide data repr'><svg class='icon xr-icon-database'><use xlink:href='#icon-database'></use></svg></label><div class='xr-var-attrs'><dl class='xr-attrs'></dl></div><div class='xr-var-data'><pre>array([105.248554, 105.248554, 105.248554, ..., 105.27046 , 105.27046 ,\n",
       "       105.27046 ])</pre></div></li><li class='xr-var-item'><div class='xr-var-name'><span>Season(SA = Summer Autumn, WS = Winter Spring)</span></div><div class='xr-var-dims'>(index)</div><div class='xr-var-dtype'>object</div><div class='xr-var-preview xr-preview'>&#x27;SA&#x27; &#x27;SA&#x27; &#x27;SA&#x27; ... &#x27;WS&#x27; &#x27;WS&#x27; &#x27;WS&#x27;</div><input id='attrs-95f1dbee-50b1-484d-97d4-e4bcfa810bff' class='xr-var-attrs-in' type='checkbox' disabled><label for='attrs-95f1dbee-50b1-484d-97d4-e4bcfa810bff' title='Show/Hide attributes'><svg class='icon xr-icon-file-text2'><use xlink:href='#icon-file-text2'></use></svg></label><input id='data-bc1d4649-e79f-4b04-b2b4-373971d72313' class='xr-var-data-in' type='checkbox'><label for='data-bc1d4649-e79f-4b04-b2b4-373971d72313' title='Show/Hide data repr'><svg class='icon xr-icon-database'><use xlink:href='#icon-database'></use></svg></label><div class='xr-var-attrs'><dl class='xr-attrs'></dl></div><div class='xr-var-data'><pre>array([&#x27;SA&#x27;, &#x27;SA&#x27;, &#x27;SA&#x27;, ..., &#x27;WS&#x27;, &#x27;WS&#x27;, &#x27;WS&#x27;], dtype=object)</pre></div></li><li class='xr-var-item'><div class='xr-var-name'><span>Rice Crop Intensity(D=Double, T=Triple)</span></div><div class='xr-var-dims'>(index)</div><div class='xr-var-dtype'>object</div><div class='xr-var-preview xr-preview'>&#x27;T&#x27; &#x27;T&#x27; &#x27;T&#x27; &#x27;T&#x27; ... &#x27;T&#x27; &#x27;T&#x27; &#x27;T&#x27; &#x27;T&#x27;</div><input id='attrs-f00d4dae-f5e6-4057-bc57-579fc3cc9882' class='xr-var-attrs-in' type='checkbox' disabled><label for='attrs-f00d4dae-f5e6-4057-bc57-579fc3cc9882' title='Show/Hide attributes'><svg class='icon xr-icon-file-text2'><use xlink:href='#icon-file-text2'></use></svg></label><input id='data-ca981ad1-07f5-426a-b834-8ce84d1b0668' class='xr-var-data-in' type='checkbox'><label for='data-ca981ad1-07f5-426a-b834-8ce84d1b0668' title='Show/Hide data repr'><svg class='icon xr-icon-database'><use xlink:href='#icon-database'></use></svg></label><div class='xr-var-attrs'><dl class='xr-attrs'></dl></div><div class='xr-var-data'><pre>array([&#x27;T&#x27;, &#x27;T&#x27;, &#x27;T&#x27;, ..., &#x27;T&#x27;, &#x27;T&#x27;, &#x27;T&#x27;], dtype=object)</pre></div></li><li class='xr-var-item'><div class='xr-var-name'><span>Date of Harvest</span></div><div class='xr-var-dims'>(index)</div><div class='xr-var-dtype'>object</div><div class='xr-var-preview xr-preview'>&#x27;15-07-2022&#x27; ... &#x27;13-04-2022&#x27;</div><input id='attrs-6ee6df51-6ed4-4b60-8b94-2d66354cd455' class='xr-var-attrs-in' type='checkbox' disabled><label for='attrs-6ee6df51-6ed4-4b60-8b94-2d66354cd455' title='Show/Hide attributes'><svg class='icon xr-icon-file-text2'><use xlink:href='#icon-file-text2'></use></svg></label><input id='data-c29cbffa-897f-427e-a506-e70fa4315d82' class='xr-var-data-in' type='checkbox'><label for='data-c29cbffa-897f-427e-a506-e70fa4315d82' title='Show/Hide data repr'><svg class='icon xr-icon-database'><use xlink:href='#icon-database'></use></svg></label><div class='xr-var-attrs'><dl class='xr-attrs'></dl></div><div class='xr-var-data'><pre>array([&#x27;15-07-2022&#x27;, &#x27;15-07-2022&#x27;, &#x27;15-07-2022&#x27;, ..., &#x27;13-04-2022&#x27;,\n",
       "       &#x27;13-04-2022&#x27;, &#x27;13-04-2022&#x27;], dtype=object)</pre></div></li><li class='xr-var-item'><div class='xr-var-name'><span>Field size (ha)</span></div><div class='xr-var-dims'>(index)</div><div class='xr-var-dtype'>float64</div><div class='xr-var-preview xr-preview'>3.4 3.4 3.4 3.4 ... 2.3 2.3 2.3 2.3</div><input id='attrs-9cf9f208-2749-4976-9c0d-d96ba61cbea8' class='xr-var-attrs-in' type='checkbox' disabled><label for='attrs-9cf9f208-2749-4976-9c0d-d96ba61cbea8' title='Show/Hide attributes'><svg class='icon xr-icon-file-text2'><use xlink:href='#icon-file-text2'></use></svg></label><input id='data-6b7bcfc7-95d4-44a0-a52a-a125841a0f4e' class='xr-var-data-in' type='checkbox'><label for='data-6b7bcfc7-95d4-44a0-a52a-a125841a0f4e' title='Show/Hide data repr'><svg class='icon xr-icon-database'><use xlink:href='#icon-database'></use></svg></label><div class='xr-var-attrs'><dl class='xr-attrs'></dl></div><div class='xr-var-data'><pre>array([3.4, 3.4, 3.4, ..., 2.3, 2.3, 2.3])</pre></div></li><li class='xr-var-item'><div class='xr-var-name'><span>Rice Yield (kg/ha)</span></div><div class='xr-var-dims'>(index)</div><div class='xr-var-dtype'>int64</div><div class='xr-var-preview xr-preview'>5500 5500 5500 ... 7200 7200 7200</div><input id='attrs-eb526342-d020-44fb-92ba-815eeefad98b' class='xr-var-attrs-in' type='checkbox' disabled><label for='attrs-eb526342-d020-44fb-92ba-815eeefad98b' title='Show/Hide attributes'><svg class='icon xr-icon-file-text2'><use xlink:href='#icon-file-text2'></use></svg></label><input id='data-212f112a-f322-4c78-aabc-f5220c8247bf' class='xr-var-data-in' type='checkbox'><label for='data-212f112a-f322-4c78-aabc-f5220c8247bf' title='Show/Hide data repr'><svg class='icon xr-icon-database'><use xlink:href='#icon-database'></use></svg></label><div class='xr-var-attrs'><dl class='xr-attrs'></dl></div><div class='xr-var-data'><pre>array([5500, 5500, 5500, ..., 7200, 7200, 7200])</pre></div></li><li class='xr-var-item'><div class='xr-var-name'><span>red</span></div><div class='xr-var-dims'>(index)</div><div class='xr-var-dtype'>float64</div><div class='xr-var-preview xr-preview'>3.698e+03 2.536e+03 ... 1.148e+03</div><input id='attrs-90915d95-2443-4a59-8c2c-2051a1e12671' class='xr-var-attrs-in' type='checkbox' disabled><label for='attrs-90915d95-2443-4a59-8c2c-2051a1e12671' title='Show/Hide attributes'><svg class='icon xr-icon-file-text2'><use xlink:href='#icon-file-text2'></use></svg></label><input id='data-0d8899a0-422e-4895-a019-aa1442a5bd24' class='xr-var-data-in' type='checkbox'><label for='data-0d8899a0-422e-4895-a019-aa1442a5bd24' title='Show/Hide data repr'><svg class='icon xr-icon-database'><use xlink:href='#icon-database'></use></svg></label><div class='xr-var-attrs'><dl class='xr-attrs'></dl></div><div class='xr-var-data'><pre>array([3697.5583, 2535.528 , 5604.6904, ..., 1294.7356, 5577.943 ,\n",
       "       1148.4178])</pre></div></li><li class='xr-var-item'><div class='xr-var-name'><span>green</span></div><div class='xr-var-dims'>(index)</div><div class='xr-var-dtype'>float64</div><div class='xr-var-preview xr-preview'>4.125e+03 2.873e+03 ... 1.001e+03</div><input id='attrs-5da397c6-13b1-4640-a4c9-57396fc751ce' class='xr-var-attrs-in' type='checkbox' disabled><label for='attrs-5da397c6-13b1-4640-a4c9-57396fc751ce' title='Show/Hide attributes'><svg class='icon xr-icon-file-text2'><use xlink:href='#icon-file-text2'></use></svg></label><input id='data-3d795e59-c655-408c-9820-57ab3f4a5ded' class='xr-var-data-in' type='checkbox'><label for='data-3d795e59-c655-408c-9820-57ab3f4a5ded' title='Show/Hide data repr'><svg class='icon xr-icon-database'><use xlink:href='#icon-database'></use></svg></label><div class='xr-var-attrs'><dl class='xr-attrs'></dl></div><div class='xr-var-data'><pre>array([4125.3755 , 2872.9207 , 6029.8745 , ..., 1190.464  , 5993.0215 ,\n",
       "       1001.30194])</pre></div></li><li class='xr-var-item'><div class='xr-var-name'><span>blue</span></div><div class='xr-var-dims'>(index)</div><div class='xr-var-dtype'>float64</div><div class='xr-var-preview xr-preview'>4.311e+03 2.733e+03 ... 679.6</div><input id='attrs-e96641cc-2d95-4c26-be18-aeaffcb4fcd9' class='xr-var-attrs-in' type='checkbox' disabled><label for='attrs-e96641cc-2d95-4c26-be18-aeaffcb4fcd9' title='Show/Hide attributes'><svg class='icon xr-icon-file-text2'><use xlink:href='#icon-file-text2'></use></svg></label><input id='data-1cf824ef-a074-4079-9bf2-9441c1762273' class='xr-var-data-in' type='checkbox'><label for='data-1cf824ef-a074-4079-9bf2-9441c1762273' title='Show/Hide data repr'><svg class='icon xr-icon-database'><use xlink:href='#icon-database'></use></svg></label><div class='xr-var-attrs'><dl class='xr-attrs'></dl></div><div class='xr-var-data'><pre>array([4311.1367 , 2733.4702 , 6301.8945 , ...,  914.6582 , 6593.961  ,\n",
       "        679.56586])</pre></div></li><li class='xr-var-item'><div class='xr-var-name'><span>rededge1</span></div><div class='xr-var-dims'>(index)</div><div class='xr-var-dtype'>float64</div><div class='xr-var-preview xr-preview'>4.424e+03 3.233e+03 ... 1.537e+03</div><input id='attrs-a2fcd63e-e37f-406a-8d4a-4e6283f174a5' class='xr-var-attrs-in' type='checkbox' disabled><label for='attrs-a2fcd63e-e37f-406a-8d4a-4e6283f174a5' title='Show/Hide attributes'><svg class='icon xr-icon-file-text2'><use xlink:href='#icon-file-text2'></use></svg></label><input id='data-1609a17d-42a7-4932-81d8-c67923c31c7b' class='xr-var-data-in' type='checkbox'><label for='data-1609a17d-42a7-4932-81d8-c67923c31c7b' title='Show/Hide data repr'><svg class='icon xr-icon-database'><use xlink:href='#icon-database'></use></svg></label><div class='xr-var-attrs'><dl class='xr-attrs'></dl></div><div class='xr-var-data'><pre>array([4423.822 , 3232.93  , 6369.7524, ..., 1609.6283, 6224.579 ,\n",
       "       1536.6497])</pre></div></li><li class='xr-var-item'><div class='xr-var-name'><span>rededge2</span></div><div class='xr-var-dims'>(index)</div><div class='xr-var-dtype'>float64</div><div class='xr-var-preview xr-preview'>5.134e+03 4.738e+03 ... 1.813e+03</div><input id='attrs-18f59394-14d3-4eaf-80ef-aa4ea855ec4d' class='xr-var-attrs-in' type='checkbox' disabled><label for='attrs-18f59394-14d3-4eaf-80ef-aa4ea855ec4d' title='Show/Hide attributes'><svg class='icon xr-icon-file-text2'><use xlink:href='#icon-file-text2'></use></svg></label><input id='data-31a01920-db82-4582-b14a-8d913ef4ecb0' class='xr-var-data-in' type='checkbox'><label for='data-31a01920-db82-4582-b14a-8d913ef4ecb0' title='Show/Hide data repr'><svg class='icon xr-icon-database'><use xlink:href='#icon-database'></use></svg></label><div class='xr-var-attrs'><dl class='xr-attrs'></dl></div><div class='xr-var-data'><pre>array([5134.4043, 4738.1465, 6811.8735, ..., 1746.1073, 5828.1455,\n",
       "       1813.2838])</pre></div></li><li class='xr-var-item'><div class='xr-var-name'><span>rededge3</span></div><div class='xr-var-dims'>(index)</div><div class='xr-var-dtype'>float64</div><div class='xr-var-preview xr-preview'>5.402e+03 5.68e+03 ... 1.975e+03</div><input id='attrs-13774ea3-1849-4841-979f-d1604404ac21' class='xr-var-attrs-in' type='checkbox' disabled><label for='attrs-13774ea3-1849-4841-979f-d1604404ac21' title='Show/Hide attributes'><svg class='icon xr-icon-file-text2'><use xlink:href='#icon-file-text2'></use></svg></label><input id='data-6bf751e7-a649-457b-9621-5ef12c6f4248' class='xr-var-data-in' type='checkbox'><label for='data-6bf751e7-a649-457b-9621-5ef12c6f4248' title='Show/Hide data repr'><svg class='icon xr-icon-database'><use xlink:href='#icon-database'></use></svg></label><div class='xr-var-attrs'><dl class='xr-attrs'></dl></div><div class='xr-var-data'><pre>array([5401.9062, 5680.2427, 7004.7583, ..., 1856.7465, 5562.09  ,\n",
       "       1974.5256])</pre></div></li><li class='xr-var-item'><div class='xr-var-name'><span>nir</span></div><div class='xr-var-dims'>(index)</div><div class='xr-var-dtype'>float64</div><div class='xr-var-preview xr-preview'>5.447e+03 5.569e+03 ... 1.951e+03</div><input id='attrs-c73bc1a4-6c00-423c-88ad-4a84a7dcf045' class='xr-var-attrs-in' type='checkbox' disabled><label for='attrs-c73bc1a4-6c00-423c-88ad-4a84a7dcf045' title='Show/Hide attributes'><svg class='icon xr-icon-file-text2'><use xlink:href='#icon-file-text2'></use></svg></label><input id='data-24698041-0493-4d30-9284-72814455eff6' class='xr-var-data-in' type='checkbox'><label for='data-24698041-0493-4d30-9284-72814455eff6' title='Show/Hide data repr'><svg class='icon xr-icon-database'><use xlink:href='#icon-database'></use></svg></label><div class='xr-var-attrs'><dl class='xr-attrs'></dl></div><div class='xr-var-data'><pre>array([5447.0576, 5568.9375, 7032.0815, ..., 1762.173 , 5916.3804,\n",
       "       1950.526 ])</pre></div></li><li class='xr-var-item'><div class='xr-var-name'><span>swir</span></div><div class='xr-var-dims'>(index)</div><div class='xr-var-dtype'>float64</div><div class='xr-var-preview xr-preview'>3.092e+03 3.416e+03 ... 1.259e+03</div><input id='attrs-7e76dced-dd05-42cb-a751-c5e88c420b37' class='xr-var-attrs-in' type='checkbox' disabled><label for='attrs-7e76dced-dd05-42cb-a751-c5e88c420b37' title='Show/Hide attributes'><svg class='icon xr-icon-file-text2'><use xlink:href='#icon-file-text2'></use></svg></label><input id='data-cf3ef79f-985e-4ac5-b094-1cbd6143bd20' class='xr-var-data-in' type='checkbox'><label for='data-cf3ef79f-985e-4ac5-b094-1cbd6143bd20' title='Show/Hide data repr'><svg class='icon xr-icon-database'><use xlink:href='#icon-database'></use></svg></label><div class='xr-var-attrs'><dl class='xr-attrs'></dl></div><div class='xr-var-data'><pre>array([3092.398 , 3415.5474, 4554.75  , ..., 1516.7279, 4484.9688,\n",
       "       1258.6052])</pre></div></li></ul></div></li><li class='xr-section-item'><input id='section-11e008b1-1263-4199-9311-40a0a5424a8a' class='xr-section-summary-in' type='checkbox'  ><label for='section-11e008b1-1263-4199-9311-40a0a5424a8a' class='xr-section-summary' >Indexes: <span>(2)</span></label><div class='xr-section-inline-details'></div><div class='xr-section-details'><ul class='xr-var-list'><li class='xr-var-item'><div class='xr-index-name'><div>index</div></div><div class='xr-index-preview'>PandasIndex</div><div></div><input id='index-92b98059-e228-41ca-b4e3-b6cf93221afd' class='xr-index-data-in' type='checkbox'/><label for='index-92b98059-e228-41ca-b4e3-b6cf93221afd' title='Show/Hide index repr'><svg class='icon xr-icon-database'><use xlink:href='#icon-database'></use></svg></label><div class='xr-index-data'><pre>PandasIndex(RangeIndex(start=0, stop=13368, step=1, name=&#x27;index&#x27;))</pre></div></li><li class='xr-var-item'><div class='xr-index-name'><div>dim_0</div></div><div class='xr-index-preview'>PandasIndex</div><div></div><input id='index-a9a76a30-b72f-454b-8a0f-d8a99b8d7c1a' class='xr-index-data-in' type='checkbox'/><label for='index-a9a76a30-b72f-454b-8a0f-d8a99b8d7c1a' title='Show/Hide index repr'><svg class='icon xr-icon-database'><use xlink:href='#icon-database'></use></svg></label><div class='xr-index-data'><pre>PandasIndex(RangeIndex(start=0, stop=13368, step=1, name=&#x27;dim_0&#x27;))</pre></div></li></ul></div></li><li class='xr-section-item'><input id='section-09adb0aa-502e-4b55-998b-afab3e49e4eb' class='xr-section-summary-in' type='checkbox' disabled ><label for='section-09adb0aa-502e-4b55-998b-afab3e49e4eb' class='xr-section-summary'  title='Expand/collapse section'>Attributes: <span>(0)</span></label><div class='xr-section-inline-details'></div><div class='xr-section-details'><dl class='xr-attrs'></dl></div></li></ul></div></div>"
      ],
      "text/plain": [
       "<xarray.Dataset>\n",
       "Dimensions:                                         (index: 13368, dim_0: 13368)\n",
       "Coordinates:\n",
       "  * index                                           (index) int64 0 1 ... 13367\n",
       "    timeserieindex                                  (dim_0) int64 0 0 ... 556\n",
       "  * dim_0                                           (dim_0) int64 0 1 ... 13367\n",
       "Data variables: (12/17)\n",
       "    time                                            (index) object '2022-07-1...\n",
       "    District                                        (index) object 'Chau_Phu'...\n",
       "    Latitude                                        (index) float64 10.51 ......\n",
       "    Longitude                                       (index) float64 105.2 ......\n",
       "    Season(SA = Summer Autumn, WS = Winter Spring)  (index) object 'SA' ... 'WS'\n",
       "    Rice Crop Intensity(D=Double, T=Triple)         (index) object 'T' ... 'T'\n",
       "    ...                                              ...\n",
       "    blue                                            (index) float64 4.311e+03...\n",
       "    rededge1                                        (index) float64 4.424e+03...\n",
       "    rededge2                                        (index) float64 5.134e+03...\n",
       "    rededge3                                        (index) float64 5.402e+03...\n",
       "    nir                                             (index) float64 5.447e+03...\n",
       "    swir                                            (index) float64 3.092e+03..."
      ]
     },
     "execution_count": 219,
     "metadata": {},
     "output_type": "execute_result"
    }
   ],
   "source": [
    "df = make_timeseries(df)\n",
    "xarray.DataArray(df, coords=['place', 'index', 'bands'], )"
   ]
  },
  {
   "cell_type": "code",
   "execution_count": 1,
   "id": "de9836ea",
   "metadata": {},
   "outputs": [],
   "source": [
    "test = [345,\n",
    "376,\n",
    "401,\n",
    "412,\n",
    "420,\n",
    "277,\n",
    "59,\n",
    "298,\n",
    "185,\n",
    "422,\n",
    "464,\n",
    "150,\n",
    "233,\n",
    "349,\n",
    "156,\n",
    "445,\n",
    "164,\n",
    "116,\n",
    "20,\n",
    "403,\n",
    "76,\n",
    "505,\n",
    "109,\n",
    "288,\n",
    "89,\n",
    "91,\n",
    "433,\n",
    "203,\n",
    "122,\n",
    "393,\n",
    "84,\n",
    "323,\n",
    "110,\n",
    "219,\n",
    "437,\n",
    "318,\n",
    "112,\n",
    "347,\n",
    "130,\n",
    "284,\n",
    "128,\n",
    "52,\n",
    "481,\n",
    "96,\n",
    "461,\n",
    "443,\n",
    "141,\n",
    "158,\n",
    "194,\n",
    "427,\n",
    "357,\n",
    "269,\n",
    "47,\n",
    "223,\n",
    "296,\n",
    "324,\n",
    "436,\n",
    "132,\n",
    "419,\n",
    "367,\n",
    "471,\n",
    "429,\n",
    "550,\n",
    "345,\n",
    "90,\n",
    "310,\n",
    "252,\n",
    "186,\n",
    "88,\n",
    "83,\n",
    "241,\n",
    "547,\n",
    "430,\n",
    "106,\n",
    "187,\n",
    "184,\n",
    "157,\n",
    "27,\n",
    "160,\n",
    "104,\n",
    "272,\n",
    "396,\n",
    "480,\n",
    "314,\n",
    "103,\n",
    "144,\n",
    "1,\n",
    "145,\n",
    "462,\n",
    "316,\n",
    "487,\n",
    "351,\n",
    "211,\n",
    "152,\n",
    "536,\n",
    "134,\n",
    "494,\n",
    "534,\n",
    "372,\n",
    "250,\n",
    "169,\n",
    "175,\n",
    "350,\n",
    "458,\n",
    "531,\n",
    "221,\n",
    "167,\n",
    "411,\n",
    "73,\n",
    "477,\n",
    "176,\n",
    "417,\n",
    "523,\n",
    "93,\n",
    "381,\n",
    "263,\n",
    "18,\n",
    "431,\n",
    "265,\n",
    "139,\n",
    "509,\n",
    "360,\n",
    "504,\n",
    "432,\n",
    "7,\n",
    "450,\n",
    "383,\n",
    "114,\n",
    "322,\n",
    "319,\n",
    "399,\n",
    "133,\n",
    "389,\n",
    "301,\n",
    "338,\n",
    "147,\n",
    "507,\n",
    "16,\n",
    "545,\n",
    "454,\n",
    "244,\n",
    "70,\n",
    "416,\n",
    "183,\n",
    "455,\n",
    "409,\n",
    "392,\n",
    "425,\n",
    "214,\n",
    "395,\n",
    "465,\n",
    "124,\n",
    "29,\n",
    "151,\n",
    "470,\n",
    "370,\n",
    "126,\n",
    "491,\n",
    "510,\n",
    "410,\n",
    "238,\n",
    "522,\n",
    "498,\n",
    "460,\n",
    "343,\n",
    "467,\n",
    "386,\n",
    "13,\n",
    "67,\n",
    "353,\n",
    "135,\n",
    "259,\n",
    "336,\n",
    "434,\n",
    "228,\n",
    "86,\n",
    "171,\n",
    "60,\n",
    "142,\n",
    "38,\n",
    "94,\n",
    "68,\n",
    "123,\n",
    "541,\n",
    "486,\n",
    "542,\n",
    "439,\n",
    "201,\n",
    "163,\n",
    "524,\n",
    "413,\n",
    "485,\n",
    "220,\n",
    "92,\n",
    "254,\n",
    "334,\n",
    "426,\n",
    "435,\n",
    "453,\n",
    "46,\n",
    "521,\n",
    "26,\n",
    "500,\n",
    "207,\n",
    "146,\n",
    "196,\n",
    "193,\n",
    "441,\n",
    "229,\n",
    "32,\n",
    "497,\n",
    "446,\n",
    "289,\n",
    "315,\n",
    "384,\n",
    "278,\n",
    "405,\n",
    "105,\n",
    "339,\n",
    "22,\n",
    "489,\n",
    "138,\n",
    "483,\n",
    "546,\n",
    "418,\n",
    "190,\n",
    "346,\n",
    "191,\n",
    "295,\n",
    "528,\n",
    "230,\n",
    "369,\n",
    "362,\n",
    "475,\n",
    "237,\n",
    "217,\n",
    "514,\n",
    "490,\n",
    "98,\n",
    "100,\n",
    "335,\n",
    "373,\n",
    "159,\n",
    "364,\n",
    "236,\n",
    "181,\n",
    "0,\n",
    "166,\n",
    "282,\n",
    "526,\n",
    "320,\n",
    "337,\n",
    "332,\n",
    "213,\n",
    "552,\n",
    "328,\n",
    "512,\n",
    "117,\n",
    "243,\n",
    "378,\n",
    "519,\n",
    "140,\n",
    "466,\n",
    "206,\n",
    "51,\n",
    "294,\n",
    "371,\n",
    "492,\n",
    "9,\n",
    "554,\n",
    "479,\n",
    "271,\n",
    "516,\n",
    "97,\n",
    "375,\n",
    "28,\n",
    "77,\n",
    "270,\n",
    "515,\n",
    "553,\n",
    "356,\n",
    "131,\n",
    "503,\n",
    "304,\n",
    "11,\n",
    "21,\n",
    "469,\n",
    "15,\n",
    "390,\n",
    "174,\n",
    "234,\n",
    "208,\n",
    "377,\n",
    "379,\n",
    "99,\n",
    "43,\n",
    "488,\n",
    "78,\n",
    "267,\n",
    "231,\n",
    "438,\n",
    "111,\n",
    "482,\n",
    "538,\n",
    "143,\n",
    "224,\n",
    "81,\n",
    "14,\n",
    "311,\n",
    "391,\n",
    "283,\n",
    "232,\n",
    "246,\n",
    "198,\n",
    "37,\n",
    "179,\n",
    "473,\n",
    "58,\n",
    "226,\n",
    "204,\n",
    "448,\n",
    "79,\n",
    "539,\n",
    "548,\n",
    "161,\n",
    "397,\n",
    "388,\n",
    "40,\n",
    "253,\n",
    "506,\n",
    "456,\n",
    "101,\n",
    "209,\n",
    "474,\n",
    "321,\n",
    "210,\n",
    "382,\n",
    "136,\n",
    "50,\n",
    "459,\n",
    "472,\n",
    "212,\n",
    "66,\n",
    "281,\n",
    "457,\n",
    "359,\n",
    "30,\n",
    "48,\n",
    "153,\n",
    "532,\n",
    "290,\n",
    "189,\n",
    "402,\n",
    "199,\n",
    "476,\n",
    "49,\n",
    "529,\n",
    "23,\n",
    "285,\n",
    "257,\n",
    "95,\n",
    "463,\n",
    "274,\n",
    "300,\n",
    "537,\n",
    "517,\n",
    "549,\n",
    "421,\n",
    "317,\n",
    "297,\n",
    "119,\n",
    "129,\n",
    "155,\n",
    "276,\n",
    "331,\n",
    "468,\n",
    "188,\n",
    "352,\n",
    "279,\n",
    "513,\n",
    "72,\n",
    "85,\n",
    "556,\n",
    "452,\n",
    "172,\n",
    "404,\n",
    "354,\n",
    "137,\n",
    "406,\n",
    "62,\n",
    "165,\n",
    "361,\n",
    "56,\n",
    "249,\n",
    "280,\n",
    "2,\n",
    "292,\n",
    "264,\n",
    "340,\n",
    "35,\n",
    "348,\n",
    "178,\n",
    "34,\n",
    "428,\n",
    "449,\n",
    "266,\n",
    "451,\n",
    "173,\n",
    "177,\n",
    "330,\n",
    "127,\n",
    "302,\n",
    "442,\n",
    "385,\n",
    "69,\n",
    "268,\n",
    "10,\n",
    "329,\n",
    "222,\n",
    "33,\n",
    "154,\n",
    "182,\n",
    "120,\n",
    "341,\n",
    "484,\n",
    "245,\n",
    "12,\n",
    "307,\n",
    "121,\n",
    "102,\n",
    "75,\n",
    "502,\n",
    "325,\n",
    "53,\n",
    "511,\n",
    "162,\n",
    "4,\n",
    "273,\n",
    "255,\n",
    "251,\n",
    "31,\n",
    "496,\n",
    "518,\n",
    "45,\n",
    "501,\n",
    "407]"
   ]
  },
  {
   "cell_type": "code",
   "execution_count": 9,
   "id": "a45df959",
   "metadata": {},
   "outputs": [
    {
     "name": "stdout",
     "output_type": "stream",
     "text": [
      "3\n",
      "5\n",
      "6\n",
      "8\n",
      "17\n",
      "19\n",
      "24\n",
      "25\n",
      "36\n",
      "39\n",
      "41\n",
      "42\n",
      "44\n",
      "54\n",
      "55\n",
      "57\n",
      "61\n",
      "63\n",
      "64\n",
      "65\n",
      "71\n",
      "74\n",
      "80\n",
      "82\n",
      "87\n",
      "107\n",
      "108\n",
      "113\n",
      "115\n",
      "118\n",
      "125\n",
      "148\n",
      "149\n",
      "168\n",
      "170\n",
      "180\n",
      "192\n",
      "195\n",
      "197\n",
      "200\n",
      "202\n",
      "205\n",
      "215\n",
      "216\n",
      "218\n",
      "225\n",
      "227\n",
      "235\n",
      "239\n",
      "240\n",
      "242\n",
      "247\n",
      "248\n",
      "256\n",
      "258\n",
      "260\n",
      "261\n",
      "262\n",
      "275\n",
      "286\n",
      "287\n",
      "291\n",
      "293\n",
      "299\n",
      "303\n",
      "305\n",
      "306\n",
      "308\n",
      "309\n",
      "312\n",
      "313\n",
      "326\n",
      "327\n",
      "333\n",
      "342\n",
      "344\n",
      "355\n",
      "358\n",
      "363\n",
      "365\n",
      "366\n",
      "368\n",
      "374\n",
      "380\n",
      "387\n",
      "394\n",
      "398\n",
      "400\n",
      "408\n",
      "414\n",
      "415\n",
      "423\n",
      "424\n",
      "440\n",
      "444\n",
      "447\n",
      "478\n",
      "493\n",
      "495\n",
      "499\n",
      "508\n",
      "520\n",
      "525\n",
      "527\n",
      "530\n",
      "533\n",
      "535\n",
      "540\n",
      "543\n",
      "544\n",
      "551\n",
      "555\n"
     ]
    }
   ],
   "source": [
    "import torch\n",
    "\n",
    "class DLDataset(Dataset):\n",
    "    def __init__(self, weather, vi, df, test=False, times=120):\n",
    "        self.weather = weather\n",
    "        self.vi = vi\n",
    "        self.df = df\n",
    "        self.test = test\n",
    "        self.times = times\n",
    "\n",
    "    def __len__(self):\n",
    "        return len(self.df)\n",
    "\n",
    "    def __getitem__(self, idx):\n",
    "        row = self.df.iloc[idx]\n",
    "        district = row['District']\n",
    "        latitude = row['Latitude']\n",
    "        longitude = row['Longitude']\n",
    "        date_of_harvest = row['Date of Harvest']\n",
    "        \n",
    "        vi = self.vi[(self.vi['District'] == district) &\n",
    "                     (self.vi['Latitude'] == latitude) &\n",
    "                     (self.vi['Longitude'] == longitude) &\n",
    "                     (self.vi['Date of Harvest'] == date_of_harvest)]\n",
    "        \n",
    "        vi['date'] = pd.to_datetime(vi['date'], format='%d-%m-%Y')\n",
    "        all_dates = pd.date_range(vi['date'].min(), vi['date'].max(), freq='d').strftime('%d-%m-%Y')\n",
    "        all_dates = all_dates.tolist()[-self.times:]\n",
    "        \n",
    "        weather = self.weather[(self.weather['name'] == district) &\n",
    "                               (self.weather['datetime'].isin(all_dates))]\n",
    "        \n",
    "        weather['datetime'] = pd.to_datetime(weather['datetime'], format='%d-%m-%Y')\n",
    "        \n",
    "        vi = vi.sort_values('date').reset_index(drop=True)\n",
    "        not_vi_columns = ['District', 'Latitude', 'Longitude', 'Date of Harvest', 'date']\n",
    "        vi = vi.drop(columns=not_vi_columns)\n",
    "        s_input = torch.tensor(vi.values, dtype=torch.float)\n",
    "        \n",
    "        weather = weather.sort_values('datetime').reset_index(drop=True)\n",
    "        not_weather_columns = ['name', 'datetime']\n",
    "        weather = weather.drop(columns=not_weather_columns)\n",
    "        m_input = torch.tensor(weather.values, dtype=torch.float)\n",
    "        \n",
    "        g_columns = ['Rice Crop Intensity(D=Double, T=Triple)', 'Field size (ha)']\n",
    "        g_input = torch.tensor(row[g_columns].astype('float64').values, dtype=torch.float)\n",
    "        \n",
    "        if self.test:\n",
    "            label = row['Predicted Rice Yield (kg/ha)']\n",
    "        else:\n",
    "            label = row['Rice Yield (kg/ha)']\n",
    "        \n",
    "        item = {\n",
    "            'district': district, \n",
    "            'latitude': latitude, \n",
    "            'longitude': longitude, \n",
    "            'date_of_harvest': date_of_harvest,\n",
    "            's_input': s_input,\n",
    "            'm_input': m_input,\n",
    "            'g_input': g_input,\n",
    "            'labels': label\n",
    "        }\n",
    "        \n",
    "        return item\n",
    "    \n"
   ]
  },
  {
   "cell_type": "code",
   "execution_count": null,
   "id": "861d7ff9",
   "metadata": {},
   "outputs": [],
   "source": []
  }
 ],
 "metadata": {
  "kernelspec": {
   "display_name": "ey-2023",
   "language": "python",
   "name": "python3"
  },
  "language_info": {
   "codemirror_mode": {
    "name": "ipython",
    "version": 3
   },
   "file_extension": ".py",
   "mimetype": "text/x-python",
   "name": "python",
   "nbconvert_exporter": "python",
   "pygments_lexer": "ipython3",
   "version": "3.9.16"
  },
  "vscode": {
   "interpreter": {
    "hash": "353ca53f41db0789cec1e194ee0b8e429e5e329f35794a56f1da54b6bab362ad"
   }
  }
 },
 "nbformat": 4,
 "nbformat_minor": 5
}
