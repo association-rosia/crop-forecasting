{
 "cells": [
  {
   "cell_type": "code",
   "execution_count": 1,
   "id": "9b344fb1",
   "metadata": {},
   "outputs": [],
   "source": [
    "import pandas as pd\n",
    "pd.options.mode.chained_assignment = None\n",
    "\n",
    "from sklearn.linear_model import LinearRegression"
   ]
  },
  {
   "cell_type": "code",
   "execution_count": 2,
   "id": "55a722b7",
   "metadata": {},
   "outputs": [],
   "source": [
    "train_path = '../data/train.csv'\n",
    "test_path = '../data/test.csv'\n",
    "\n",
    "df_train = pd.read_csv(train_path)\n",
    "df_test = pd.read_csv(test_path)"
   ]
  },
  {
   "cell_type": "code",
   "execution_count": 3,
   "id": "f6b34ea8",
   "metadata": {},
   "outputs": [],
   "source": [
    "features = ['District', 'Latitude', 'Longitude', 'Season(SA = Summer Autumn, WS = Winter Spring)',\n",
    "            'Rice Crop Intensity(D=Double, T=Triple)', 'Date of Harvest','Field size (ha)']\n",
    "\n",
    "train_label = 'Rice Yield (kg/ha)'\n",
    "test_label = 'Predicted Rice Yield (kg/ha)'"
   ]
  },
  {
   "cell_type": "code",
   "execution_count": 4,
   "id": "9bb32bbd",
   "metadata": {},
   "outputs": [],
   "source": [
    "X_train = df_train[features]\n",
    "y_train = df_train[train_label]\n",
    "X_test = df_test[features]"
   ]
  },
  {
   "cell_type": "code",
   "execution_count": 5,
   "id": "3ffe970f",
   "metadata": {},
   "outputs": [],
   "source": [
    "X_train['Date of Harvest'] = X_train['Date of Harvest'].apply(lambda x: int(x.split('-')[1]))\n",
    "X_test['Date of Harvest'] = X_test['Date of Harvest'].apply(lambda x: int(x.split('-')[1]))"
   ]
  },
  {
   "cell_type": "code",
   "execution_count": 6,
   "id": "7da925ae",
   "metadata": {},
   "outputs": [],
   "source": [
    "X_train = pd.get_dummies(X_train)\n",
    "X_test = pd.get_dummies(X_test)"
   ]
  },
  {
   "cell_type": "code",
   "execution_count": 7,
   "id": "d9d60a76",
   "metadata": {},
   "outputs": [],
   "source": [
    "reg = LinearRegression().fit(X_train, y_train)\n",
    "y_pred = reg.predict(X_test)"
   ]
  },
  {
   "cell_type": "code",
   "execution_count": 8,
   "id": "27001afb",
   "metadata": {},
   "outputs": [],
   "source": [
    "df_test[test_label] = y_pred\n",
    "df_test.to_csv('submission.csv', index=False)"
   ]
  }
 ],
 "metadata": {
  "kernelspec": {
   "display_name": "crop-forecasting",
   "language": "python",
   "name": "crop-forecasting"
  },
  "language_info": {
   "codemirror_mode": {
    "name": "ipython",
    "version": 3
   },
   "file_extension": ".py",
   "mimetype": "text/x-python",
   "name": "python",
   "nbconvert_exporter": "python",
   "pygments_lexer": "ipython3",
   "version": "3.10.4"
  }
 },
 "nbformat": 4,
 "nbformat_minor": 5
}
