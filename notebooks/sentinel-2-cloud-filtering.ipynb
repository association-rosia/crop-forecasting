{
 "cells": [
  {
   "cell_type": "markdown",
   "metadata": {
    "tags": []
   },
   "source": [
    "## 2023 Open Science Data Challenge - Sentinel-2 Phenology with Cloud Filtering\n",
    "\n",
    "This notebook calculates vegetation phenology using Sentinel-2 data with cloud filtering. This pixel-based approach is better than a scene-based approach since clouds are quite random for any given time and location. To address phenology, the algorithm uses the Normalized Difference Vegetation Index (NDVI) which is a common proxy for vegetation growth and health. The outputs of this notebook can be used to assess differences in agriculture fields over time or space and also allow the assessment of growing states such as planting and harvesting. The baseline data is [Sentinel-2 Level-2A](https://planetarycomputer.microsoft.com/dataset/sentinel-2-l2a) data from the MS Planetary Computer catalog."
   ]
  },
  {
   "cell_type": "code",
   "execution_count": null,
   "metadata": {},
   "outputs": [],
   "source": [
    "# Supress Warnings \n",
    "import warnings\n",
    "warnings.filterwarnings('ignore')\n",
    "\n",
    "# Import common GIS tools\n",
    "import numpy as np\n",
    "import xarray as xr\n",
    "import matplotlib.pyplot as plt\n",
    "import rasterio.features\n",
    "import rioxarray as rio\n",
    "import xrspatial.multispectral as ms\n",
    "\n",
    "# Import Planetary Computer tools\n",
    "import pystac_client\n",
    "import planetary_computer as pc\n",
    "import odc\n",
    "from odc.stac import stac_load"
   ]
  },
  {
   "cell_type": "markdown",
   "metadata": {},
   "source": [
    "### Load the satellite data\n",
    "\n",
    "First, we define our area of interest using latitude and longitude coordinates of the centroid. Then we define the size of the surrounding bounding box (in degrees). GeoJSON format uses a specific order: (longitude, latitude), so be careful when entering the coordinates. Finally, we define the time window consistent with a typical rice growing season."
   ]
  },
  {
   "cell_type": "code",
   "execution_count": null,
   "metadata": {},
   "outputs": [],
   "source": [
    "# Sample Rice Crop Field in An Giang, Vietnam\n",
    "lat_long = (10.4391, 105.3338) # Lat-Lon centroid location\n",
    "box_size_deg = 0.10 # Surrounding box in degrees"
   ]
  },
  {
   "cell_type": "code",
   "execution_count": null,
   "metadata": {},
   "outputs": [],
   "source": [
    "# Calculate the Lat-Lon bounding box region\n",
    "min_lon = lat_long[1]-box_size_deg/2\n",
    "min_lat = lat_long[0]-box_size_deg/2\n",
    "max_lon = lat_long[1]+box_size_deg/2\n",
    "max_lat = lat_long[0]+box_size_deg/2\n",
    "bounds = (min_lon, min_lat, max_lon, max_lat)"
   ]
  },
  {
   "cell_type": "code",
   "execution_count": null,
   "metadata": {},
   "outputs": [],
   "source": [
    "# Define the time window\n",
    "time_window = \"2021-12-01/2022-04-30\""
   ]
  },
  {
   "cell_type": "markdown",
   "metadata": {},
   "source": [
    "Using the `pystac_client` we can search the Planetary Computer's STAC catalog for items matching our query parameters. The result is the number of scenes matching our search criteria that touch our area of interest. Some of these may be partial scenes and may contain clouds. "
   ]
  },
  {
   "cell_type": "code",
   "execution_count": null,
   "metadata": {},
   "outputs": [],
   "source": [
    "stac = pystac_client.Client.open(\"https://planetarycomputer.microsoft.com/api/stac/v1\")\n",
    "search = stac.search(collections=[\"sentinel-2-l2a\"], bbox=bounds, datetime=time_window)\n",
    "items = list(search.get_all_items())\n",
    "print('This is the number of scenes that touch our region:', len(items))"
   ]
  },
  {
   "cell_type": "markdown",
   "metadata": {},
   "source": [
    "Next, we'll load the data into an [xarray](https://xarray.pydata.org/en/stable/) DataArray using the Open Data Cube (ODC) STAC [odc-stac](https://odc-stac.readthedocs.io/en/latest/index.html) library that is included with the Planetary Computer. The [ODC](https://www.opendatacube.org) is an open source geospatial data management and analysis software project that is used globally for many projects (e.g., Digital Earth Africa). The ODC-STAC code will load the selected items from the catalog search, select the desired spectral bands (including the SCL cloud filtering band), reproject into Lat-Lon coordinates (EPSG:4326) at 20-meters resolution (typical of Sentinel-2 pixel resolution), and clip the region to the spatial bounding box. "
   ]
  },
  {
   "cell_type": "code",
   "execution_count": null,
   "metadata": {},
   "outputs": [],
   "source": [
    "# Define the pixel resolution for the final product\n",
    "# Define the scale according to our selected crs, so we will use degrees\n",
    "resolution = 20  # meters per pixel \n",
    "scale = resolution / 111320.0 # degrees per pixel for CRS:4326 "
   ]
  },
  {
   "cell_type": "code",
   "execution_count": null,
   "metadata": {},
   "outputs": [],
   "source": [
    "xx = stac_load(\n",
    "    items,\n",
    "    bands=[\"red\", \"green\", \"blue\", \"nir\", \"SCL\"],\n",
    "    crs=\"EPSG:4326\", # Latitude-Longitude\n",
    "    resolution=scale, # Degrees\n",
    "    chunks={\"x\": 2048, \"y\": 2048},\n",
    "    dtype=\"uint16\",\n",
    "    patch_url=pc.sign,\n",
    "    bbox=bounds\n",
    ")"
   ]
  },
  {
   "cell_type": "code",
   "execution_count": null,
   "metadata": {
    "scrolled": false
   },
   "outputs": [],
   "source": [
    "# View the dimensions of our XARRAY and the variables\n",
    "display(xx)"
   ]
  },
  {
   "cell_type": "markdown",
   "metadata": {},
   "source": [
    "### View RGB (real color) images from the time series\n",
    "\n",
    "Data is available for Sentinel-2 from 2016 to now. Since this mission includes two satellites, it can view any location on the ground every 5 days. But, due to extreme cloud cover, some scenes are not even processed. For this example over 5 months, there are 29 time slices that touch our region. Unfortunately, there are only 3 very clear scenes and several other partially cloudy scenes. Also, some scenes appear to be \"bright white\" which means the region is completely covered with clouds but there were enough \"good\" pixels to process the image. Overall, the lack of clear scenes makes the use of optical data very challenging for vegetation analyses. "
   ]
  },
  {
   "cell_type": "code",
   "execution_count": null,
   "metadata": {},
   "outputs": [],
   "source": [
    "plot_xx = xx[[\"red\",\"green\",\"blue\"]].to_array()\n",
    "plot_xx.plot.imshow(col='time', col_wrap=4, robust=True, vmin=0, vmax=3000)\n",
    "plt.show()"
   ]
  },
  {
   "cell_type": "code",
   "execution_count": null,
   "metadata": {},
   "outputs": [],
   "source": [
    "# Select a time slice to view a single RGB image and the cloud mask\n",
    "# See the XARRAY dimensions above for the number of time slices (starts at 0)\n",
    "\n",
    "# Slice #6 - Mostly Clear\n",
    "# Slice #8 - Scattered Clouds\n",
    "# Slice #15 - Very Cloudy\n",
    "\n",
    "time_slice = 6"
   ]
  },
  {
   "cell_type": "code",
   "execution_count": null,
   "metadata": {
    "scrolled": false
   },
   "outputs": [],
   "source": [
    "# Plot and RGB Real Color Image for a single date\n",
    "fig, ax = plt.subplots(figsize=(8, 8))\n",
    "xx.isel(time=time_slice)[[\"red\", \"green\", \"blue\"]].to_array().plot.imshow(robust=True, ax=ax, vmin=0, vmax=3000)\n",
    "ax.set_title(\"RGB Real Color\")\n",
    "ax.axis('off')\n",
    "plt.show()"
   ]
  },
  {
   "cell_type": "markdown",
   "metadata": {},
   "source": [
    "### Apply Cloud Filtering and Masking"
   ]
  },
  {
   "cell_type": "code",
   "execution_count": null,
   "metadata": {},
   "outputs": [],
   "source": [
    "# Filter data using the Sentinel-2 SCL band classification\n",
    "\n",
    "# scl=0 > No Data\n",
    "# scl=1 > Saturated\n",
    "# scl=3 > Cloud Shadows\n",
    "# scl=6 > Water \n",
    "# scl=8 > Cloud Medium Probability \n",
    "# scl=9 > Cloud High Probability\n",
    "# scl=10 > Thin Cirrus Cloud"
   ]
  },
  {
   "cell_type": "code",
   "execution_count": null,
   "metadata": {},
   "outputs": [],
   "source": [
    "# Create a colormap to display the SCL pixel classifications\n",
    "\n",
    "scl_colormap = np.array(\n",
    "    [\n",
    "        [252,  40, 228, 255],  # 0  - NODATA - MAGENTA\n",
    "        [255,   0,   4, 255],  # 1  - Saturated or Defective - RED\n",
    "        [0  ,   0,   0, 255],  # 2  - Dark Areas - BLACK\n",
    "        [97 ,  97,  97, 255],  # 3  - Cloud Shadow - DARK GREY\n",
    "        [3  , 139,  80, 255],  # 4  - Vegetation - GREEN\n",
    "        [192, 132,  12, 255],  # 5  - Bare Ground - BROWN\n",
    "        [21 , 103, 141, 255],  # 6  - Water - BLUE\n",
    "        [117,   0,  27, 255],  # 7  - Unclassified - MAROON\n",
    "        [208, 208, 208, 255],  # 8  - Cloud - LIGHT GREY\n",
    "        [244, 244, 244, 255],  # 9  - Definitely Cloud - WHITE\n",
    "        [195, 231, 240, 255],  # 10 - Thin Cloud - LIGHT BLUE\n",
    "        [222, 157, 204, 255],  # 11 - Snow or Ice - PINK\n",
    "    ],\n",
    "    dtype=\"uint8\",\n",
    ")"
   ]
  },
  {
   "cell_type": "code",
   "execution_count": null,
   "metadata": {},
   "outputs": [],
   "source": [
    "def colorize(xx, colormap):\n",
    "    return xr.DataArray(colormap[xx.data], coords=xx.coords, dims=(*xx.dims, \"band\"))"
   ]
  },
  {
   "cell_type": "code",
   "execution_count": null,
   "metadata": {},
   "outputs": [],
   "source": [
    "# Load SCL band, then convert to RGB using color scheme above\n",
    "scl_rgba = colorize(xx.isel(time=time_slice).SCL.compute(), scl_colormap)"
   ]
  },
  {
   "cell_type": "code",
   "execution_count": null,
   "metadata": {
    "tags": []
   },
   "outputs": [],
   "source": [
    "# Create an RGB plot of the SCL band\n",
    "# Notice the clouds are bright white and the cloud shadows are grey\n",
    "\n",
    "scl_rgba.plot.imshow(size=6)\n",
    "plt.title(\"Cloud Mask Colormap\")\n",
    "plt.xlabel(\"Longitude\")\n",
    "plt.ylabel(\"Latitude\")\n",
    "plt.show()"
   ]
  },
  {
   "cell_type": "code",
   "execution_count": null,
   "metadata": {},
   "outputs": [],
   "source": [
    "# Create a mask for no data, saturated data, clouds, cloud shadows, and water\n",
    "\n",
    "cloud_mask = \\\n",
    "    (xx.SCL != 0) & \\\n",
    "    (xx.SCL != 1) & \\\n",
    "    (xx.SCL != 3) & \\\n",
    "    (xx.SCL != 6) & \\\n",
    "    (xx.SCL != 8) & \\\n",
    "    (xx.SCL != 9) & \\\n",
    "    (xx.SCL != 10) "
   ]
  },
  {
   "cell_type": "code",
   "execution_count": null,
   "metadata": {},
   "outputs": [],
   "source": [
    "# Apply cloud mask ... NO Clouds, NO Cloud Shadows and NO Water pixels\n",
    "# All masked pixels are converted to \"No Data\" and stored as 16-bit integers\n",
    "cleaned_data = xx.where(cloud_mask).astype(\"uint16\")"
   ]
  },
  {
   "cell_type": "code",
   "execution_count": null,
   "metadata": {
    "tags": []
   },
   "outputs": [],
   "source": [
    "# Load SCL band, then convert to RGB using color scheme above\n",
    "scl_rgba_clean = colorize(cleaned_data.isel(time=time_slice).SCL.compute(), scl_colormap)"
   ]
  },
  {
   "cell_type": "code",
   "execution_count": null,
   "metadata": {
    "scrolled": false
   },
   "outputs": [],
   "source": [
    "# Create an RGB plot of the SCL band\n",
    "# Masked data (clouds/shadows/water) are shown in MAGENTA\n",
    "\n",
    "scl_rgba_clean.plot.imshow(size=6)\n",
    "plt.title(\"Cloud / Shadows / Water Mask (MAGENTA)\")\n",
    "plt.xlabel(\"Longitude\")\n",
    "plt.ylabel(\"Latitude\")\n",
    "plt.show()"
   ]
  },
  {
   "cell_type": "markdown",
   "metadata": {},
   "source": [
    "### Normalized Difference Vegetation Index (NDVI)\n",
    "\n",
    "The <b>Normalized Difference Vegetation Index (NDVI)</b> is used to measure the \"greenness\" of vegetation and has a range of 0.0 to 1.0. Low values (0.0 to 0.25) reflect a lack of vegetation (bare soil, water), middle values (0.25 to 0.6) reflect crops in their growing state, and high values (0.6 to 1.0) reflect crops at their peak vegetation state. The equation uses two spectral bands where: <b>NDVI = (NIR-Red) / (NIR+Red).\n",
    "    \n",
    "The NDVI plot below shows all (unfiltered) pixels (BLUE) and filtered pixels (GREEN). In cases where the filtered data is entirely masked out, it is possible there are no available \"clean\" pixels to calculate NDVI. This is why there are sometimes \"gaps\" in the filtered dataset (GREEN) and the line has \"gaps\". At times when the filtered and unfiltered NDVI values are similar, this suggests low cloud volume in the sample. At times where the filtered and unfiltered NDVI values are very different, this suggests high cloud volume in the sample which tends to adversely lower NDVI. For these reasons, it is important to filter clouds out of the data before calculating NDVI for a given region coincident with an agriculture plot. This will yield the most accurate phenology results."
   ]
  },
  {
   "cell_type": "code",
   "execution_count": null,
   "metadata": {},
   "outputs": [],
   "source": [
    "# Calculate the mean of the data across the sample region and then NDVI\n",
    "# Perform this calculation for the unfiltered and cloud-filtered (clean) datasets\n",
    "mean_unfiltered = xx.mean(dim=['longitude','latitude']).compute()\n",
    "ndvi_mean = (mean_unfiltered.nir-mean_unfiltered.red)/(mean_unfiltered.nir+mean_unfiltered.red)\n",
    "mean_clean = cleaned_data.mean(dim=['longitude','latitude']).compute()\n",
    "ndvi_mean_clean = (mean_clean.nir-mean_clean.red)/(mean_clean.nir+mean_clean.red)"
   ]
  },
  {
   "cell_type": "code",
   "execution_count": null,
   "metadata": {},
   "outputs": [],
   "source": [
    "fig = plt.figure(figsize=(10, 5))\n",
    "ndvi_mean_clean.plot(color='green',marker='o',markersize=4,linewidth=2, label=\"Filtered = Clouds and Water Removed\")\n",
    "ndvi_mean.plot(color='blue',marker='o',markersize=4,linewidth=2, label=\"All Pixels = Clouds and Water Included\")\n",
    "plt.title(\"Mean NDVI (Vegetation Index)\")\n",
    "plt.xlabel(\"Date\")\n",
    "plt.ylabel(\"NDVI\")\n",
    "plt.ylim(-0.1,0.7)\n",
    "plt.legend(loc=\"upper right\", markerscale=2., scatterpoints=1, fontsize=10)\n",
    "plt.show()"
   ]
  },
  {
   "cell_type": "code",
   "execution_count": null,
   "metadata": {},
   "outputs": [],
   "source": [
    "# Plot an NDVI image for a single date with few clouds\n",
    "# We will select image (index=6) on December 31, 2021. Notice how the water is masked out.\n",
    "\n",
    "fig = plt.figure(figsize=(10, 7))\n",
    "ndvi_image = (cleaned_data.nir-cleaned_data.red)/(cleaned_data.nir+cleaned_data.red)\n",
    "ndvi_image.isel(time=6).plot(vmin=0.0, vmax=0.8, cmap=\"RdYlGn\")\n",
    "plt.title(\"NDVI\")\n",
    "plt.axis('off')\n",
    "plt.show()"
   ]
  }
 ],
 "metadata": {
  "kernelspec": {
   "display_name": "crop-forecasting",
   "language": "python",
   "name": "crop-forecasting"
  },
  "language_info": {
   "codemirror_mode": {
    "name": "ipython",
    "version": 3
   },
   "file_extension": ".py",
   "mimetype": "text/x-python",
   "name": "python",
   "nbconvert_exporter": "python",
   "pygments_lexer": "ipython3",
   "version": "3.8.13"
  },
  "widgets": {
   "application/vnd.jupyter.widget-state+json": {
    "state": {
     "2ca0804b9f904dab815db80637a4f2d9": {
      "model_module": "@jupyter-widgets/base",
      "model_module_version": "1.2.0",
      "model_name": "LayoutModel",
      "state": {}
     },
     "e2f3ac516e3b4cf3a1ba1fc6aa0897ad": {
      "model_module": "@jupyter-widgets/controls",
      "model_module_version": "1.5.0",
      "model_name": "VBoxModel",
      "state": {
       "layout": "IPY_MODEL_2ca0804b9f904dab815db80637a4f2d9"
      }
     }
    },
    "version_major": 2,
    "version_minor": 0
   }
  }
 },
 "nbformat": 4,
 "nbformat_minor": 4
}
