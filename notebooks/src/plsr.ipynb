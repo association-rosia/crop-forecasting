{
 "cells": [
  {
   "cell_type": "code",
   "execution_count": null,
   "id": "b33a10b5-2560-4348-bc6b-11bc3b314b47",
   "metadata": {},
   "outputs": [],
   "source": [
    "import pandas as pd\n",
    "import numpy as np\n",
    "from sklearn.model_selection import LeaveOneOut, cross_val_score\n",
    "from sklearn.cross_decomposition import PLSRegression"
   ]
  },
  {
   "cell_type": "code",
   "execution_count": null,
   "id": "08cd31fb-3a8a-4415-8edd-6554f555edc1",
   "metadata": {},
   "outputs": [],
   "source": [
    "# import sklearn\n",
    "# sklearn.metrics.get_scorer_names()"
   ]
  },
  {
   "cell_type": "code",
   "execution_count": null,
   "id": "637bad43-a276-4495-88f6-54cee935a830",
   "metadata": {},
   "outputs": [
    {
     "name": "stderr",
     "output_type": "stream",
     "text": [
      "\n",
      "KeyboardInterrupt\n",
      "\n"
     ]
    }
   ],
   "source": [
    "folder = 'adaptative'\n",
    "vis = ['ndvi', 'savi', 'evi', 'rep', 'osavi', 'rdvi', 'mtvi1', 'lswi']\n",
    "min_score = 1000\n",
    "\n",
    "for vi in vis:\n",
    "    train_path = f'../../data/processed/{folder}/train_vi.csv'\n",
    "    train_df = pd.read_csv(train_path)\n",
    "    train_df['date'] = pd.to_datetime(train_df['date'], format='%d-%m-%Y')\n",
    "    train_df['rank'] = train_df.sort_values(['date']).groupby(['Latitude', 'Longitude', 'Date of Harvest', 'Rice Yield (kg/ha)']).cumcount() + 1\n",
    "    train_df = train_df.pivot_table(vi, ['Latitude', 'Longitude', 'Date of Harvest', 'Rice Yield (kg/ha)'], 'rank').reset_index()\n",
    "    y_train = train_df['Rice Yield (kg/ha)'].to_numpy()\n",
    "    train_df = train_df.drop(columns=['Latitude', 'Longitude', 'Date of Harvest', 'Rice Yield (kg/ha)'])\n",
    "    X_train = train_df.to_numpy()\n",
    "\n",
    "    loo = LeaveOneOut()\n",
    "    for i in range(1, X_train.shape[1]+1):\n",
    "        model = PLSRegression(n_components=i)\n",
    "        score = cross_val_score(model, X_train, y_train, scoring='neg_root_mean_squared_error', cv=loo, n_jobs=-1)\n",
    "        score = np.absolute(np.mean(score))\n",
    "        \n",
    "        if score < min_score:\n",
    "            min_score = score\n",
    "            print(f'{vi} / n_components = {i} / score = {score:.3f} <<<')\n",
    "        else:\n",
    "            print(f'{vi} / n_components = {i} / score = {score:.3f}')"
   ]
  },
  {
   "cell_type": "code",
   "execution_count": 5,
   "id": "f436192f-8062-4b6b-a377-c19fd059cf80",
   "metadata": {},
   "outputs": [],
   "source": [
    "best_vi = 'lswi'\n",
    "n_components = 2\n",
    "\n",
    "train_path = f'../../data/processed/{folder}/train_vi.csv'\n",
    "train_df = pd.read_csv(train_path)\n",
    "train_df['date'] = pd.to_datetime(train_df['date'], format='%d-%m-%Y')\n",
    "train_df['rank'] = train_df.sort_values(['date']).groupby(['Latitude', 'Longitude', 'Date of Harvest', 'Rice Yield (kg/ha)']).cumcount() + 1\n",
    "train_df = train_df.pivot_table(best_vi, ['Latitude', 'Longitude', 'Date of Harvest', 'Rice Yield (kg/ha)'], 'rank').reset_index()\n",
    "y_train = train_df['Rice Yield (kg/ha)'].to_numpy()\n",
    "train_df = train_df.drop(columns=['Latitude', 'Longitude', 'Date of Harvest', 'Rice Yield (kg/ha)'])\n",
    "X_train = train_df.to_numpy()\n",
    "\n",
    "test_path = f'../../data/processed/{folder}/test_vi.csv'\n",
    "test_df = pd.read_csv(test_path)\n",
    "test_df['date'] = pd.to_datetime(test_df['date'], format='%d-%m-%Y')\n",
    "test_df['rank'] = test_df.sort_values(['date']).groupby(['Latitude', 'Longitude', 'Date of Harvest']).cumcount() + 1\n",
    "test_df = test_df.pivot_table(best_vi, ['Latitude', 'Longitude', 'Date of Harvest'], 'rank').reset_index()\n",
    "test_df = test_df.sort_values(['Latitude', 'Longitude', 'Date of Harvest'])\n",
    "test_df = test_df.drop(columns=['Latitude', 'Longitude', 'Date of Harvest'])\n",
    "X_test = test_df.to_numpy()\n",
    "\n",
    "model = PLSRegression(n_components=n_components)\n",
    "model.fit(X_train, y_train)\n",
    "y_pred = model.predict(X_test)\n",
    "\n",
    "test_path = '../../data/raw/test.csv'\n",
    "test_df = pd.read_csv(test_path)\n",
    "test_df = test_df.sort_values(['Latitude', 'Longitude', 'Date of Harvest'])\n",
    "test_df['Predicted Rice Yield (kg/ha)'] = y_pred\n",
    "test_df.to_csv('submission.csv', index=False)"
   ]
  },
  {
   "cell_type": "code",
   "execution_count": null,
   "id": "43c7ecda-d155-4155-a2e4-c5a67f80b5ad",
   "metadata": {},
   "outputs": [],
   "source": []
  }
 ],
 "metadata": {
  "kernelspec": {
   "display_name": "Python [conda env:notebook] *",
   "language": "python",
   "name": "conda-env-notebook-py"
  },
  "language_info": {
   "codemirror_mode": {
    "name": "ipython",
    "version": 3
   },
   "file_extension": ".py",
   "mimetype": "text/x-python",
   "name": "python",
   "nbconvert_exporter": "python",
   "pygments_lexer": "ipython3",
   "version": "3.10.6"
  }
 },
 "nbformat": 4,
 "nbformat_minor": 5
}
