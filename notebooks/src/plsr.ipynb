{
 "cells": [
  {
   "cell_type": "code",
   "execution_count": null,
   "id": "b33a10b5-2560-4348-bc6b-11bc3b314b47",
   "metadata": {},
   "outputs": [],
   "source": []
  }
 ],
 "metadata": {
  "kernelspec": {
   "display_name": "cf-env",
   "language": "python",
   "name": "cf-env"
  },
  "language_info": {
   "name": ""
  }
 },
 "nbformat": 4,
 "nbformat_minor": 5
}
