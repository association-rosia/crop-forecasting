{
 "cells": [
  {
   "cell_type": "code",
   "execution_count": 1,
   "id": "da860441-2ac6-4712-9bee-9ed7722d169e",
   "metadata": {},
   "outputs": [],
   "source": [
    "import pandas as pd\n",
    "from math import sqrt\n",
    "from pandarallel import pandarallel"
   ]
  },
  {
   "cell_type": "code",
   "execution_count": 4,
   "id": "f3420f0e-474d-4772-acb1-acac355a8585",
   "metadata": {},
   "outputs": [],
   "source": [
    "def compute_ndvi(row):\n",
    "    return (row.nir - row.red) / (row.nir + row.red)\n",
    "\n",
    "def compute_savi(row, L=0.5):\n",
    "    return 1 + L * (row.nir - row.red) / (row.nir + row.red + L)\n",
    "\n",
    "def compute_evi(row, G=2.5, L=1, C1=6, C2=7.5):\n",
    "    return G * (row.nir - row.red) / (row.nir + C1 * row.red - C2 * row.blue + L)\n",
    "\n",
    "def compute_rep(row):\n",
    "    rededge = (row.red + row.rededge3) / 2\n",
    "    return 704 + 35 * (rededge - row.rededge1) / (row.rededge2 - row.rededge1)\n",
    "\n",
    "def compute_osavi(row):\n",
    "    return (row.nir - row.red) / (row.nir + row.red + 0.16)\n",
    "\n",
    "def compute_rdvi(row):\n",
    "    return (row.nir - row.red) / sqrt((row.nir + row.red))\n",
    "\n",
    "def compute_mtvi1(row):\n",
    "    return 1.2 * (1.2 * (row.nir - row.green) - 2.5 * (row.red - row.green))\n",
    "\n",
    "def compute_lswi(row):\n",
    "    return (row.nir - row.swir) / (row.nir + row.swir)\n",
    "\n",
    "def compute_vi(path):\n",
    "    df = pd.read_csv(path)\n",
    "    bands = ['red', 'green', 'blue', 'rededge1', 'rededge2', 'rededge3', 'nir', 'swir']\n",
    "    df['ndvi'] = df.parallel_apply(compute_ndvi, axis=1)\n",
    "    df['savi'] = df.parallel_apply(compute_savi, axis=1)\n",
    "    df['evi'] = df.parallel_apply(compute_evi, axis=1)\n",
    "    df['rep'] = df.parallel_apply(compute_rep, axis=1)\n",
    "    df['osavi'] = df.parallel_apply(compute_osavi, axis=1)\n",
    "    df['rdvi'] = df.parallel_apply(compute_rdvi, axis=1)\n",
    "    df['mtvi1'] = df.parallel_apply(compute_mtvi1, axis=1)\n",
    "    df['lswi'] = df.parallel_apply(compute_lswi, axis=1)\n",
    "    df = df.drop(columns=bands)\n",
    "    df.to_csv(f'{path.split(\".csv\")[0]}_vi.csv', index=False)\n",
    "    return df"
   ]
  },
  {
   "cell_type": "code",
   "execution_count": 5,
   "id": "98c399df-78b0-4770-a431-ff2c11a32318",
   "metadata": {},
   "outputs": [
    {
     "name": "stdout",
     "output_type": "stream",
     "text": [
      "INFO: Pandarallel will run on 4 workers.\n",
      "INFO: Pandarallel will use Memory file system to transfer data between the main process and workers.\n"
     ]
    }
   ],
   "source": [
    "folder = 'fixed_0-00146'\n",
    "pandarallel.initialize()\n",
    "\n",
    "train_path = f'../../data/processed/{folder}/train.csv'\n",
    "train_df = compute_vi(train_path)\n",
    "\n",
    "test_path = f'../../data/processed/{folder}/test.csv'\n",
    "test_df = compute_vi(test_path)"
   ]
  }
 ],
 "metadata": {
  "kernelspec": {
   "display_name": "cf-env",
   "language": "python",
   "name": "cf-env"
  },
  "language_info": {
   "codemirror_mode": {
    "name": "ipython",
    "version": 3
   },
   "file_extension": ".py",
   "mimetype": "text/x-python",
   "name": "python",
   "nbconvert_exporter": "python",
   "pygments_lexer": "ipython3",
   "version": "3.9.13"
  }
 },
 "nbformat": 4,
 "nbformat_minor": 5
}
