{
 "cells": [
  {
   "cell_type": "code",
   "execution_count": 283,
   "id": "83dac3ca-8748-4cfc-a81b-278137f7af0c",
   "metadata": {},
   "outputs": [],
   "source": [
    "import pystac_client\n",
    "import planetary_computer as pc\n",
    "import pandas as pd\n",
    "from datetime import datetime, timedelta\n",
    "from odc.stac import stac_load\n",
    "import xarray as xr\n",
    "import numpy as np\n",
    "import os\n",
    "import multiprocessing as mp\n",
    "import math\n",
    "from pandarallel import pandarallel\n",
    "from tqdm.contrib.concurrent import process_map  # or thread_map\n",
    "import plotly.express as px\n",
    "\n",
    "\n",
    "# from dotenv import load_dotenv\n",
    "# load_dotenv()\n",
    "# pc.settings.set_subscription_key(os.getenv('PC_SDK_SUBSCRIPTION_KEY'))\n",
    "\n",
    "# Make data constants\n",
    "SIZE = 'adaptative' # 'fixed'\n",
    "FACTOR = 3\n",
    "DEGREE = 0.0014589825157734703 # = ha_to_degree(2.622685) # Field size (ha) mean = 2.622685 (train + test)"
   ]
  },
  {
   "cell_type": "code",
   "execution_count": 382,
   "id": "8b12eea5-d826-4bf5-b25b-1d09a01d6464",
   "metadata": {},
   "outputs": [],
   "source": [
    "def ha_to_degree(field_size): # Field_size (ha)\n",
    "    ''' \n",
    "    1° ~= 111km\n",
    "    1ha = 0.01km2\n",
    "    then, side_size = sqrt(0.01 * field_size) (km)\n",
    "    so, degree = side_size / 111 (°)\n",
    "    '''\n",
    "    side_size = math.sqrt(0.01 * field_size) \n",
    "    degree = side_size / 111\n",
    "    return degree\n",
    "\n",
    "\n",
    "def create_folders()->str:\n",
    "    # os.makedirs('../../data/processed', exist_ok=True)\n",
    "    if SIZE == 'fixed':\n",
    "        degree = str(round(DEGREE, 5)).replace(\".\", \"-\")\n",
    "        save_folder = f'../../data/processed/fixed_{degree}'\n",
    "    elif SIZE == 'adaptative':\n",
    "        save_folder = f'../../data/processed/adaptative_factor_{FACTOR}'\n",
    "        \n",
    "    os.makedirs(save_folder, exist_ok=True)\n",
    "    return save_folder\n",
    "\n",
    "\n",
    "dict_band_name = {\n",
    "    'B05': 'rededge1',\n",
    "    'B06': 'rededge2',\n",
    "    'B07': 'rededge3',\n",
    "    'B11': 'swir'\n",
    "}\n",
    "\n",
    "def band_to_name(band):\n",
    "    if band == 'B05':\n",
    "        band = 'rededge1'\n",
    "    elif band == 'B06':\n",
    "        band = 'rededge2'\n",
    "    elif band == 'B07':\n",
    "        band = 'rededge3'\n",
    "    elif band == 'B11':\n",
    "        band = 'swir'\n",
    "    return band\n",
    "\n",
    "\n",
    "def get_bbox(longitude, latitude, field_size):\n",
    "    if SIZE == 'fixed':\n",
    "        degree = DEGREE\n",
    "    elif SIZE == 'adaptative':\n",
    "        degree = ha_to_degree(field_size) * FACTOR\n",
    "        \n",
    "    min_longitude = longitude - degree / 2\n",
    "    min_latitude = latitude - degree / 2\n",
    "    max_longitude = longitude + degree / 2\n",
    "    max_latitude = latitude + degree / 2 \n",
    "    \n",
    "    return (min_longitude, min_latitude, max_longitude, max_latitude)\n",
    "\n",
    "def get_time_period(havest_date: str, history_days: int)->str:\n",
    "    havest_datetime = datetime.strptime(havest_date, '%d-%m-%Y')\n",
    "    sowing_datetime = havest_datetime - timedelta(days=history_days)\n",
    "    return f'{sowing_datetime.strftime(\"%Y-%m-%d\")}/{havest_datetime.strftime(\"%Y-%m-%d\")}'\n",
    "\n",
    "\n",
    "def get_data(bbox, time_period: str, bands: list[str], scale: float):\n",
    "    catalog = pystac_client.Client.open(\"https://planetarycomputer.microsoft.com/api/stac/v1\", modifier=pc.sign_inplace)\n",
    "    search = catalog.search(collections=[\"sentinel-2-l2a\"], bbox=bbox, datetime=time_period)\n",
    "    items = search.item_collection()\n",
    "    data = stac_load(items, bands=bands, crs=\"EPSG:4326\", resolution=scale, bbox=bbox)\n",
    "    return data\n",
    "\n",
    "def process_data(xds: xr.Dataset, row: pd.Series, history_dates:int)->xr.Dataset:\n",
    "    # data = data.mean(dim=['latitude', 'longitude'], skipna=True)\n",
    "    # data = data.to_dataframe()\n",
    "    # data = data.sort_index(ascending=False).iloc[:history_dates]\n",
    "    # data.index = data.index.round('D')\n",
    "    # data.rename(columns=dict_band_name, inplace=True)\n",
    "    # data.drop(columns=['SCL', 'spatial_ref'], inplace=True)\n",
    "    # df = pd.DataFrame([row]*history_dates, index=data.index)\n",
    "    # data = pd.concat([df, data], axis='columns')\n",
    "    # data.reset_index(inplace=True)\n",
    "\n",
    "    # xdf = data.copy(deep=True) \n",
    "    xds = xds.drop(['spatial_ref', 'SCL'])\n",
    "    xds = xds.mean(dim=['latitude', 'longitude'], skipna=True)\n",
    "    xds = xds.sortby('time', ascending=False)\n",
    "    xds = xds.isel(time=slice(None, history_dates))\n",
    "    xds['time'] = xds['time'].dt.strftime(\"%Y-%m-%d\")\n",
    "    xds['state_dev'] =  ('time', np.arange(history_dates)[::-1])\n",
    "    xds = xds.swap_dims({'time': 'state_dev'})\n",
    "    xds = xds.rename_vars(dict_band_name)\n",
    "    df = pd.DataFrame([row]*history_dates, index=xds.indexes['state_dev'])\n",
    "    xds = xds.merge(df.to_xarray())\n",
    "\n",
    "    return xds\n",
    "\n",
    "\n",
    "def save_data(row, history_days, history_dates, resolution):\n",
    "    scale = resolution / 111320.0\n",
    "    bands = ['red', 'green', 'blue', 'B05', 'B06', 'B07', 'nir', 'B11', 'SCL']\n",
    "    \n",
    "    longitude = row['Longitude']\n",
    "    latitude = row['Latitude']\n",
    "    field_size = float(row['Field size (ha)'])\n",
    "    bbox = get_bbox(longitude, latitude, field_size)\n",
    "\n",
    "    havest_date = row['Date of Harvest']\n",
    "    time_period = get_time_period(havest_date, history_days)\n",
    "    \n",
    "    data = get_data(bbox, time_period, bands, scale)\n",
    "\n",
    "    cloud_mask = \\\n",
    "        (data.SCL != 0) & \\\n",
    "        (data.SCL != 1) & \\\n",
    "        (data.SCL != 3) & \\\n",
    "        (data.SCL != 6) & \\\n",
    "        (data.SCL != 8) & \\\n",
    "        (data.SCL != 9) & \\\n",
    "        (data.SCL != 10)\n",
    "\n",
    "    data_filter = data.copy(deep=True).where(cloud_mask)\n",
    "    data = process_data(data, row, history_dates)\n",
    "    data_filter = process_data(data_filter, row, history_dates)\n",
    "    \n",
    "    return data, data_filter\n",
    "\n",
    "def save_data_app(index_row, history_days=130, history_dates=24, resolution=10):\n",
    "    data, data_filter = save_data(index_row[1], history_days, history_dates, resolution)\n",
    "    # data = save_data(index_row[1], history_days, history_dates, resolution)\n",
    "    return data, data_filter\n",
    "\n",
    "# def make_data(path, save_folder):\n",
    "#     df = pd.read_csv(path)\n",
    "#     print(f'\\nRetrieve SAR data from {path.split(\"/\")[-1]}...')\n",
    "#     r = process_map(lambda _, row: save_data(row), df.iloc[:2].iterrows(), max_workers=8)\n",
    "#     print(type(r))\n",
    "#     # df['SAR data'] = df.apply(lambda row: save_data(row, df), axis=1)\n",
    "#     # df = df.explode('SAR data')\n",
    "#     # print(f'\\nExplode SAR data from {path.split(\"/\")[-1]}...')\n",
    "#     # # df = df.parallel_apply(explode_sar, axis=1)\n",
    "#     # df = df.apply(explode_sar, axis=1)\n",
    "#     # df = df.drop(columns='SAR data')\n",
    "#     # print(f'\\nSave SAR data from {path.split(\"/\")[-1]}...')\n",
    "#     # df.to_csv(f'{save_folder}/{path.split(\"/\")[-1]}', index=False)\n",
    "#     # print(f'\\nSAR data from {path.split(\"/\")[-1]} saved!')"
   ]
  },
  {
   "cell_type": "code",
   "execution_count": 383,
   "id": "b66accae",
   "metadata": {},
   "outputs": [],
   "source": [
    "path = '../../data/raw/train.csv'\n",
    "df = pd.read_csv(path)\n",
    "\n",
    "# data, data_filter = save_data_app((df.iloc[0].index, df.iloc[0]))\n",
    "data, data_filter = save_data_app((df.iloc[0].index, df.iloc[0]))\n",
    "# data_2 = save_data_app((df.iloc[1].index, df.iloc[30]))\n",
    "# data_3 = save_data_app((df.iloc[1].index, df.iloc[50]))"
   ]
  },
  {
   "cell_type": "code",
   "execution_count": 356,
   "id": "49e865b4",
   "metadata": {},
   "outputs": [],
   "source": [
    "history_dates = 24"
   ]
  },
  {
   "cell_type": "code",
   "execution_count": 368,
   "id": "eaa6f2ea",
   "metadata": {},
   "outputs": [],
   "source": [
    "xdf = data.copy(deep=True)\n",
    "xdf = xdf.drop(['spatial_ref', 'SCL'])\n",
    "xdf = xdf.mean(dim=['latitude', 'longitude'], skipna=True)\n",
    "xdf = xdf.sortby('time', ascending=False)\n",
    "xdf = xdf.isel(time=slice(None, history_dates))\n",
    "xdf['time'] = xdf['time'].dt.strftime(\"%Y-%m-%d\")\n",
    "xdf['state_dev'] =  ('time', np.arange(history_dates)[::-1])\n",
    "xdf = xdf.swap_dims({'time': 'state_dev'})\n",
    "xdf = xdf.rename_vars(dict_band_name)\n",
    "df_t = pd.DataFrame([df.iloc[0]]*history_dates, index=xdf.indexes['state_dev'])\n",
    "xdf = xdf.merge(df_t.to_xarray())"
   ]
  },
  {
   "cell_type": "code",
   "execution_count": 380,
   "id": "5658d970",
   "metadata": {},
   "outputs": [
    {
     "data": {
      "text/html": [
       "<div><svg style=\"position: absolute; width: 0; height: 0; overflow: hidden\">\n",
       "<defs>\n",
       "<symbol id=\"icon-database\" viewBox=\"0 0 32 32\">\n",
       "<path d=\"M16 0c-8.837 0-16 2.239-16 5v4c0 2.761 7.163 5 16 5s16-2.239 16-5v-4c0-2.761-7.163-5-16-5z\"></path>\n",
       "<path d=\"M16 17c-8.837 0-16-2.239-16-5v6c0 2.761 7.163 5 16 5s16-2.239 16-5v-6c0 2.761-7.163 5-16 5z\"></path>\n",
       "<path d=\"M16 26c-8.837 0-16-2.239-16-5v6c0 2.761 7.163 5 16 5s16-2.239 16-5v-6c0 2.761-7.163 5-16 5z\"></path>\n",
       "</symbol>\n",
       "<symbol id=\"icon-file-text2\" viewBox=\"0 0 32 32\">\n",
       "<path d=\"M28.681 7.159c-0.694-0.947-1.662-2.053-2.724-3.116s-2.169-2.030-3.116-2.724c-1.612-1.182-2.393-1.319-2.841-1.319h-15.5c-1.378 0-2.5 1.121-2.5 2.5v27c0 1.378 1.122 2.5 2.5 2.5h23c1.378 0 2.5-1.122 2.5-2.5v-19.5c0-0.448-0.137-1.23-1.319-2.841zM24.543 5.457c0.959 0.959 1.712 1.825 2.268 2.543h-4.811v-4.811c0.718 0.556 1.584 1.309 2.543 2.268zM28 29.5c0 0.271-0.229 0.5-0.5 0.5h-23c-0.271 0-0.5-0.229-0.5-0.5v-27c0-0.271 0.229-0.5 0.5-0.5 0 0 15.499-0 15.5 0v7c0 0.552 0.448 1 1 1h7v19.5z\"></path>\n",
       "<path d=\"M23 26h-14c-0.552 0-1-0.448-1-1s0.448-1 1-1h14c0.552 0 1 0.448 1 1s-0.448 1-1 1z\"></path>\n",
       "<path d=\"M23 22h-14c-0.552 0-1-0.448-1-1s0.448-1 1-1h14c0.552 0 1 0.448 1 1s-0.448 1-1 1z\"></path>\n",
       "<path d=\"M23 18h-14c-0.552 0-1-0.448-1-1s0.448-1 1-1h14c0.552 0 1 0.448 1 1s-0.448 1-1 1z\"></path>\n",
       "</symbol>\n",
       "</defs>\n",
       "</svg>\n",
       "<style>/* CSS stylesheet for displaying xarray objects in jupyterlab.\n",
       " *\n",
       " */\n",
       "\n",
       ":root {\n",
       "  --xr-font-color0: var(--jp-content-font-color0, rgba(0, 0, 0, 1));\n",
       "  --xr-font-color2: var(--jp-content-font-color2, rgba(0, 0, 0, 0.54));\n",
       "  --xr-font-color3: var(--jp-content-font-color3, rgba(0, 0, 0, 0.38));\n",
       "  --xr-border-color: var(--jp-border-color2, #e0e0e0);\n",
       "  --xr-disabled-color: var(--jp-layout-color3, #bdbdbd);\n",
       "  --xr-background-color: var(--jp-layout-color0, white);\n",
       "  --xr-background-color-row-even: var(--jp-layout-color1, white);\n",
       "  --xr-background-color-row-odd: var(--jp-layout-color2, #eeeeee);\n",
       "}\n",
       "\n",
       "html[theme=dark],\n",
       "body[data-theme=dark],\n",
       "body.vscode-dark {\n",
       "  --xr-font-color0: rgba(255, 255, 255, 1);\n",
       "  --xr-font-color2: rgba(255, 255, 255, 0.54);\n",
       "  --xr-font-color3: rgba(255, 255, 255, 0.38);\n",
       "  --xr-border-color: #1F1F1F;\n",
       "  --xr-disabled-color: #515151;\n",
       "  --xr-background-color: #111111;\n",
       "  --xr-background-color-row-even: #111111;\n",
       "  --xr-background-color-row-odd: #313131;\n",
       "}\n",
       "\n",
       ".xr-wrap {\n",
       "  display: block !important;\n",
       "  min-width: 300px;\n",
       "  max-width: 700px;\n",
       "}\n",
       "\n",
       ".xr-text-repr-fallback {\n",
       "  /* fallback to plain text repr when CSS is not injected (untrusted notebook) */\n",
       "  display: none;\n",
       "}\n",
       "\n",
       ".xr-header {\n",
       "  padding-top: 6px;\n",
       "  padding-bottom: 6px;\n",
       "  margin-bottom: 4px;\n",
       "  border-bottom: solid 1px var(--xr-border-color);\n",
       "}\n",
       "\n",
       ".xr-header > div,\n",
       ".xr-header > ul {\n",
       "  display: inline;\n",
       "  margin-top: 0;\n",
       "  margin-bottom: 0;\n",
       "}\n",
       "\n",
       ".xr-obj-type,\n",
       ".xr-array-name {\n",
       "  margin-left: 2px;\n",
       "  margin-right: 10px;\n",
       "}\n",
       "\n",
       ".xr-obj-type {\n",
       "  color: var(--xr-font-color2);\n",
       "}\n",
       "\n",
       ".xr-sections {\n",
       "  padding-left: 0 !important;\n",
       "  display: grid;\n",
       "  grid-template-columns: 150px auto auto 1fr 20px 20px;\n",
       "}\n",
       "\n",
       ".xr-section-item {\n",
       "  display: contents;\n",
       "}\n",
       "\n",
       ".xr-section-item input {\n",
       "  display: none;\n",
       "}\n",
       "\n",
       ".xr-section-item input + label {\n",
       "  color: var(--xr-disabled-color);\n",
       "}\n",
       "\n",
       ".xr-section-item input:enabled + label {\n",
       "  cursor: pointer;\n",
       "  color: var(--xr-font-color2);\n",
       "}\n",
       "\n",
       ".xr-section-item input:enabled + label:hover {\n",
       "  color: var(--xr-font-color0);\n",
       "}\n",
       "\n",
       ".xr-section-summary {\n",
       "  grid-column: 1;\n",
       "  color: var(--xr-font-color2);\n",
       "  font-weight: 500;\n",
       "}\n",
       "\n",
       ".xr-section-summary > span {\n",
       "  display: inline-block;\n",
       "  padding-left: 0.5em;\n",
       "}\n",
       "\n",
       ".xr-section-summary-in:disabled + label {\n",
       "  color: var(--xr-font-color2);\n",
       "}\n",
       "\n",
       ".xr-section-summary-in + label:before {\n",
       "  display: inline-block;\n",
       "  content: '►';\n",
       "  font-size: 11px;\n",
       "  width: 15px;\n",
       "  text-align: center;\n",
       "}\n",
       "\n",
       ".xr-section-summary-in:disabled + label:before {\n",
       "  color: var(--xr-disabled-color);\n",
       "}\n",
       "\n",
       ".xr-section-summary-in:checked + label:before {\n",
       "  content: '▼';\n",
       "}\n",
       "\n",
       ".xr-section-summary-in:checked + label > span {\n",
       "  display: none;\n",
       "}\n",
       "\n",
       ".xr-section-summary,\n",
       ".xr-section-inline-details {\n",
       "  padding-top: 4px;\n",
       "  padding-bottom: 4px;\n",
       "}\n",
       "\n",
       ".xr-section-inline-details {\n",
       "  grid-column: 2 / -1;\n",
       "}\n",
       "\n",
       ".xr-section-details {\n",
       "  display: none;\n",
       "  grid-column: 1 / -1;\n",
       "  margin-bottom: 5px;\n",
       "}\n",
       "\n",
       ".xr-section-summary-in:checked ~ .xr-section-details {\n",
       "  display: contents;\n",
       "}\n",
       "\n",
       ".xr-array-wrap {\n",
       "  grid-column: 1 / -1;\n",
       "  display: grid;\n",
       "  grid-template-columns: 20px auto;\n",
       "}\n",
       "\n",
       ".xr-array-wrap > label {\n",
       "  grid-column: 1;\n",
       "  vertical-align: top;\n",
       "}\n",
       "\n",
       ".xr-preview {\n",
       "  color: var(--xr-font-color3);\n",
       "}\n",
       "\n",
       ".xr-array-preview,\n",
       ".xr-array-data {\n",
       "  padding: 0 5px !important;\n",
       "  grid-column: 2;\n",
       "}\n",
       "\n",
       ".xr-array-data,\n",
       ".xr-array-in:checked ~ .xr-array-preview {\n",
       "  display: none;\n",
       "}\n",
       "\n",
       ".xr-array-in:checked ~ .xr-array-data,\n",
       ".xr-array-preview {\n",
       "  display: inline-block;\n",
       "}\n",
       "\n",
       ".xr-dim-list {\n",
       "  display: inline-block !important;\n",
       "  list-style: none;\n",
       "  padding: 0 !important;\n",
       "  margin: 0;\n",
       "}\n",
       "\n",
       ".xr-dim-list li {\n",
       "  display: inline-block;\n",
       "  padding: 0;\n",
       "  margin: 0;\n",
       "}\n",
       "\n",
       ".xr-dim-list:before {\n",
       "  content: '(';\n",
       "}\n",
       "\n",
       ".xr-dim-list:after {\n",
       "  content: ')';\n",
       "}\n",
       "\n",
       ".xr-dim-list li:not(:last-child):after {\n",
       "  content: ',';\n",
       "  padding-right: 5px;\n",
       "}\n",
       "\n",
       ".xr-has-index {\n",
       "  font-weight: bold;\n",
       "}\n",
       "\n",
       ".xr-var-list,\n",
       ".xr-var-item {\n",
       "  display: contents;\n",
       "}\n",
       "\n",
       ".xr-var-item > div,\n",
       ".xr-var-item label,\n",
       ".xr-var-item > .xr-var-name span {\n",
       "  background-color: var(--xr-background-color-row-even);\n",
       "  margin-bottom: 0;\n",
       "}\n",
       "\n",
       ".xr-var-item > .xr-var-name:hover span {\n",
       "  padding-right: 5px;\n",
       "}\n",
       "\n",
       ".xr-var-list > li:nth-child(odd) > div,\n",
       ".xr-var-list > li:nth-child(odd) > label,\n",
       ".xr-var-list > li:nth-child(odd) > .xr-var-name span {\n",
       "  background-color: var(--xr-background-color-row-odd);\n",
       "}\n",
       "\n",
       ".xr-var-name {\n",
       "  grid-column: 1;\n",
       "}\n",
       "\n",
       ".xr-var-dims {\n",
       "  grid-column: 2;\n",
       "}\n",
       "\n",
       ".xr-var-dtype {\n",
       "  grid-column: 3;\n",
       "  text-align: right;\n",
       "  color: var(--xr-font-color2);\n",
       "}\n",
       "\n",
       ".xr-var-preview {\n",
       "  grid-column: 4;\n",
       "}\n",
       "\n",
       ".xr-index-preview {\n",
       "  grid-column: 2 / 5;\n",
       "  color: var(--xr-font-color2);\n",
       "}\n",
       "\n",
       ".xr-var-name,\n",
       ".xr-var-dims,\n",
       ".xr-var-dtype,\n",
       ".xr-preview,\n",
       ".xr-attrs dt {\n",
       "  white-space: nowrap;\n",
       "  overflow: hidden;\n",
       "  text-overflow: ellipsis;\n",
       "  padding-right: 10px;\n",
       "}\n",
       "\n",
       ".xr-var-name:hover,\n",
       ".xr-var-dims:hover,\n",
       ".xr-var-dtype:hover,\n",
       ".xr-attrs dt:hover {\n",
       "  overflow: visible;\n",
       "  width: auto;\n",
       "  z-index: 1;\n",
       "}\n",
       "\n",
       ".xr-var-attrs,\n",
       ".xr-var-data,\n",
       ".xr-index-data {\n",
       "  display: none;\n",
       "  background-color: var(--xr-background-color) !important;\n",
       "  padding-bottom: 5px !important;\n",
       "}\n",
       "\n",
       ".xr-var-attrs-in:checked ~ .xr-var-attrs,\n",
       ".xr-var-data-in:checked ~ .xr-var-data,\n",
       ".xr-index-data-in:checked ~ .xr-index-data {\n",
       "  display: block;\n",
       "}\n",
       "\n",
       ".xr-var-data > table {\n",
       "  float: right;\n",
       "}\n",
       "\n",
       ".xr-var-name span,\n",
       ".xr-var-data,\n",
       ".xr-index-name div,\n",
       ".xr-index-data,\n",
       ".xr-attrs {\n",
       "  padding-left: 25px !important;\n",
       "}\n",
       "\n",
       ".xr-attrs,\n",
       ".xr-var-attrs,\n",
       ".xr-var-data,\n",
       ".xr-index-data {\n",
       "  grid-column: 1 / -1;\n",
       "}\n",
       "\n",
       "dl.xr-attrs {\n",
       "  padding: 0;\n",
       "  margin: 0;\n",
       "  display: grid;\n",
       "  grid-template-columns: 125px auto;\n",
       "}\n",
       "\n",
       ".xr-attrs dt,\n",
       ".xr-attrs dd {\n",
       "  padding: 0;\n",
       "  margin: 0;\n",
       "  float: left;\n",
       "  padding-right: 10px;\n",
       "  width: auto;\n",
       "}\n",
       "\n",
       ".xr-attrs dt {\n",
       "  font-weight: normal;\n",
       "  grid-column: 1;\n",
       "}\n",
       "\n",
       ".xr-attrs dt:hover span {\n",
       "  display: inline-block;\n",
       "  background: var(--xr-background-color);\n",
       "  padding-right: 10px;\n",
       "}\n",
       "\n",
       ".xr-attrs dd {\n",
       "  grid-column: 2;\n",
       "  white-space: pre-wrap;\n",
       "  word-break: break-all;\n",
       "}\n",
       "\n",
       ".xr-icon-database,\n",
       ".xr-icon-file-text2,\n",
       ".xr-no-icon {\n",
       "  display: inline-block;\n",
       "  vertical-align: middle;\n",
       "  width: 1em;\n",
       "  height: 1.5em !important;\n",
       "  stroke-width: 0;\n",
       "  stroke: currentColor;\n",
       "  fill: currentColor;\n",
       "}\n",
       "</style><pre class='xr-text-repr-fallback'>&lt;xarray.Dataset&gt;\n",
       "Dimensions:                                         (state_dev: 24)\n",
       "Coordinates:\n",
       "    time                                            (state_dev) object &#x27;2022-...\n",
       "  * state_dev                                       (state_dev) int64 23 ... 0\n",
       "Data variables: (12/16)\n",
       "    red                                             (state_dev) float32 nan ....\n",
       "    green                                           (state_dev) float32 nan ....\n",
       "    blue                                            (state_dev) float32 nan ....\n",
       "    rededge1                                        (state_dev) float32 nan ....\n",
       "    rededge2                                        (state_dev) float32 nan ....\n",
       "    rededge3                                        (state_dev) float32 nan ....\n",
       "    ...                                              ...\n",
       "    Longitude                                       (state_dev) float64 105.2...\n",
       "    Season(SA = Summer Autumn, WS = Winter Spring)  (state_dev) object &#x27;SA&#x27; ....\n",
       "    Rice Crop Intensity(D=Double, T=Triple)         (state_dev) object &#x27;T&#x27; .....\n",
       "    Date of Harvest                                 (state_dev) object &#x27;15-07...\n",
       "    Field size (ha)                                 (state_dev) float64 3.4 ....\n",
       "    Rice Yield (kg/ha)                              (state_dev) int64 5500 .....</pre><div class='xr-wrap' style='display:none'><div class='xr-header'><div class='xr-obj-type'>xarray.Dataset</div></div><ul class='xr-sections'><li class='xr-section-item'><input id='section-fcf1a2ad-d100-4ce4-ab47-c982b96970d4' class='xr-section-summary-in' type='checkbox' disabled ><label for='section-fcf1a2ad-d100-4ce4-ab47-c982b96970d4' class='xr-section-summary'  title='Expand/collapse section'>Dimensions:</label><div class='xr-section-inline-details'><ul class='xr-dim-list'><li><span class='xr-has-index'>state_dev</span>: 24</li></ul></div><div class='xr-section-details'></div></li><li class='xr-section-item'><input id='section-b33e11cc-5d0d-4375-8b89-2dc036753787' class='xr-section-summary-in' type='checkbox'  checked><label for='section-b33e11cc-5d0d-4375-8b89-2dc036753787' class='xr-section-summary' >Coordinates: <span>(2)</span></label><div class='xr-section-inline-details'></div><div class='xr-section-details'><ul class='xr-var-list'><li class='xr-var-item'><div class='xr-var-name'><span>time</span></div><div class='xr-var-dims'>(state_dev)</div><div class='xr-var-dtype'>object</div><div class='xr-var-preview xr-preview'>&#x27;2022-07-14&#x27; ... &#x27;2022-03-16&#x27;</div><input id='attrs-ee615122-cc6d-4658-99ca-474953a086c0' class='xr-var-attrs-in' type='checkbox' disabled><label for='attrs-ee615122-cc6d-4658-99ca-474953a086c0' title='Show/Hide attributes'><svg class='icon xr-icon-file-text2'><use xlink:href='#icon-file-text2'></use></svg></label><input id='data-f7d49c2c-898a-4a2e-a3cd-e25910cb22f2' class='xr-var-data-in' type='checkbox'><label for='data-f7d49c2c-898a-4a2e-a3cd-e25910cb22f2' title='Show/Hide data repr'><svg class='icon xr-icon-database'><use xlink:href='#icon-database'></use></svg></label><div class='xr-var-attrs'><dl class='xr-attrs'></dl></div><div class='xr-var-data'><pre>array([&#x27;2022-07-14&#x27;, &#x27;2022-07-09&#x27;, &#x27;2022-07-04&#x27;, &#x27;2022-06-29&#x27;, &#x27;2022-06-24&#x27;,\n",
       "       &#x27;2022-06-19&#x27;, &#x27;2022-06-14&#x27;, &#x27;2022-06-09&#x27;, &#x27;2022-06-04&#x27;, &#x27;2022-05-30&#x27;,\n",
       "       &#x27;2022-05-25&#x27;, &#x27;2022-05-20&#x27;, &#x27;2022-05-15&#x27;, &#x27;2022-05-10&#x27;, &#x27;2022-04-30&#x27;,\n",
       "       &#x27;2022-04-25&#x27;, &#x27;2022-04-20&#x27;, &#x27;2022-04-15&#x27;, &#x27;2022-04-10&#x27;, &#x27;2022-04-05&#x27;,\n",
       "       &#x27;2022-03-31&#x27;, &#x27;2022-03-26&#x27;, &#x27;2022-03-21&#x27;, &#x27;2022-03-16&#x27;], dtype=object)</pre></div></li><li class='xr-var-item'><div class='xr-var-name'><span class='xr-has-index'>state_dev</span></div><div class='xr-var-dims'>(state_dev)</div><div class='xr-var-dtype'>int64</div><div class='xr-var-preview xr-preview'>23 22 21 20 19 18 ... 5 4 3 2 1 0</div><input id='attrs-5cbe55c5-daa9-4c61-b1fa-7a0b51dd2031' class='xr-var-attrs-in' type='checkbox' disabled><label for='attrs-5cbe55c5-daa9-4c61-b1fa-7a0b51dd2031' title='Show/Hide attributes'><svg class='icon xr-icon-file-text2'><use xlink:href='#icon-file-text2'></use></svg></label><input id='data-cb73e543-b91c-4851-be35-2ccf77633d37' class='xr-var-data-in' type='checkbox'><label for='data-cb73e543-b91c-4851-be35-2ccf77633d37' title='Show/Hide data repr'><svg class='icon xr-icon-database'><use xlink:href='#icon-database'></use></svg></label><div class='xr-var-attrs'><dl class='xr-attrs'></dl></div><div class='xr-var-data'><pre>array([23, 22, 21, 20, 19, 18, 17, 16, 15, 14, 13, 12, 11, 10,  9,  8,  7,  6,\n",
       "        5,  4,  3,  2,  1,  0])</pre></div></li></ul></div></li><li class='xr-section-item'><input id='section-bb05f0cb-b1e1-4c45-8fd5-d8d106778d40' class='xr-section-summary-in' type='checkbox'  ><label for='section-bb05f0cb-b1e1-4c45-8fd5-d8d106778d40' class='xr-section-summary' >Data variables: <span>(16)</span></label><div class='xr-section-inline-details'></div><div class='xr-section-details'><ul class='xr-var-list'><li class='xr-var-item'><div class='xr-var-name'><span>red</span></div><div class='xr-var-dims'>(state_dev)</div><div class='xr-var-dtype'>float32</div><div class='xr-var-preview xr-preview'>nan nan nan ... 2.561e+03 nan</div><input id='attrs-d09f4cfe-e026-4bc5-aa19-8980f121b35d' class='xr-var-attrs-in' type='checkbox' disabled><label for='attrs-d09f4cfe-e026-4bc5-aa19-8980f121b35d' title='Show/Hide attributes'><svg class='icon xr-icon-file-text2'><use xlink:href='#icon-file-text2'></use></svg></label><input id='data-d340b573-b09b-406d-b756-a479e1b27c32' class='xr-var-data-in' type='checkbox'><label for='data-d340b573-b09b-406d-b756-a479e1b27c32' title='Show/Hide data repr'><svg class='icon xr-icon-database'><use xlink:href='#icon-database'></use></svg></label><div class='xr-var-attrs'><dl class='xr-attrs'></dl></div><div class='xr-var-data'><pre>array([      nan,       nan,       nan,       nan, 1667.6349, 1825.7699,\n",
       "             nan, 1410.9888, 1373.2848,       nan, 1502.8584, 1771.3339,\n",
       "       1515.9371,       nan,       nan, 2136.214 , 2200.9983,       nan,\n",
       "       2307.9438, 2344.063 , 2152.41  , 1912.0664, 2561.2988,       nan],\n",
       "      dtype=float32)</pre></div></li><li class='xr-var-item'><div class='xr-var-name'><span>green</span></div><div class='xr-var-dims'>(state_dev)</div><div class='xr-var-dtype'>float32</div><div class='xr-var-preview xr-preview'>nan nan nan ... 2.764e+03 nan</div><input id='attrs-140c28ab-e977-43f4-8aec-fda7fb32e745' class='xr-var-attrs-in' type='checkbox' disabled><label for='attrs-140c28ab-e977-43f4-8aec-fda7fb32e745' title='Show/Hide attributes'><svg class='icon xr-icon-file-text2'><use xlink:href='#icon-file-text2'></use></svg></label><input id='data-f95626e4-013d-434e-bba0-6944b1c7aaaa' class='xr-var-data-in' type='checkbox'><label for='data-f95626e4-013d-434e-bba0-6944b1c7aaaa' title='Show/Hide data repr'><svg class='icon xr-icon-database'><use xlink:href='#icon-database'></use></svg></label><div class='xr-var-attrs'><dl class='xr-attrs'></dl></div><div class='xr-var-data'><pre>array([      nan,       nan,       nan,       nan, 1939.2091, 2169.4126,\n",
       "             nan, 1595.6122, 1623.3176,       nan, 1756.5416, 1992.8784,\n",
       "       1759.6006,       nan,       nan, 2071.674 , 2152.751 ,       nan,\n",
       "       2286.9502, 2174.324 , 2265.0247, 2067.8506, 2764.1926,       nan],\n",
       "      dtype=float32)</pre></div></li><li class='xr-var-item'><div class='xr-var-name'><span>blue</span></div><div class='xr-var-dims'>(state_dev)</div><div class='xr-var-dtype'>float32</div><div class='xr-var-preview xr-preview'>nan nan nan ... 2.65e+03 nan</div><input id='attrs-406359e3-7f15-4a46-ae70-d2c461669ed1' class='xr-var-attrs-in' type='checkbox' disabled><label for='attrs-406359e3-7f15-4a46-ae70-d2c461669ed1' title='Show/Hide attributes'><svg class='icon xr-icon-file-text2'><use xlink:href='#icon-file-text2'></use></svg></label><input id='data-b8e03b85-162e-413c-96ea-60763d21c4fc' class='xr-var-data-in' type='checkbox'><label for='data-b8e03b85-162e-413c-96ea-60763d21c4fc' title='Show/Hide data repr'><svg class='icon xr-icon-database'><use xlink:href='#icon-database'></use></svg></label><div class='xr-var-attrs'><dl class='xr-attrs'></dl></div><div class='xr-var-data'><pre>array([      nan,       nan,       nan,       nan, 1730.538 , 2004.7659,\n",
       "             nan, 1354.2742, 1324.0154,       nan, 1402.5626, 1777.6226,\n",
       "       1449.3453,       nan,       nan, 1964.651 , 2134.868 ,       nan,\n",
       "       2319.5193, 1794.5974, 1983.3442, 1629.2656, 2650.4424,       nan],\n",
       "      dtype=float32)</pre></div></li><li class='xr-var-item'><div class='xr-var-name'><span>rededge1</span></div><div class='xr-var-dims'>(state_dev)</div><div class='xr-var-dtype'>float32</div><div class='xr-var-preview xr-preview'>nan nan nan ... 3.157e+03 nan</div><input id='attrs-18060cc8-258b-4c73-ab89-768c44b0030d' class='xr-var-attrs-in' type='checkbox' disabled><label for='attrs-18060cc8-258b-4c73-ab89-768c44b0030d' title='Show/Hide attributes'><svg class='icon xr-icon-file-text2'><use xlink:href='#icon-file-text2'></use></svg></label><input id='data-6d14cde3-df42-46f1-a3a0-d7ef599833a5' class='xr-var-data-in' type='checkbox'><label for='data-6d14cde3-df42-46f1-a3a0-d7ef599833a5' title='Show/Hide data repr'><svg class='icon xr-icon-database'><use xlink:href='#icon-database'></use></svg></label><div class='xr-var-attrs'><dl class='xr-attrs'></dl></div><div class='xr-var-data'><pre>array([      nan,       nan,       nan,       nan, 2269.1619, 2445.8015,\n",
       "             nan, 1912.5758, 1988.8866,       nan, 2139.8716, 2250.869 ,\n",
       "       2123.7178,       nan,       nan, 2416.7217, 2348.5796,       nan,\n",
       "       2525.2908, 3030.053 , 2902.131 , 2898.3765, 3157.172 ,       nan],\n",
       "      dtype=float32)</pre></div></li><li class='xr-var-item'><div class='xr-var-name'><span>rededge2</span></div><div class='xr-var-dims'>(state_dev)</div><div class='xr-var-dtype'>float32</div><div class='xr-var-preview xr-preview'>nan nan nan ... 3.941e+03 nan</div><input id='attrs-8ff9f0fc-0ce1-4450-a128-b1b0c71305bf' class='xr-var-attrs-in' type='checkbox' disabled><label for='attrs-8ff9f0fc-0ce1-4450-a128-b1b0c71305bf' title='Show/Hide attributes'><svg class='icon xr-icon-file-text2'><use xlink:href='#icon-file-text2'></use></svg></label><input id='data-48a294f3-7cd9-46f0-b518-daa11395f4bf' class='xr-var-data-in' type='checkbox'><label for='data-48a294f3-7cd9-46f0-b518-daa11395f4bf' title='Show/Hide data repr'><svg class='icon xr-icon-database'><use xlink:href='#icon-database'></use></svg></label><div class='xr-var-attrs'><dl class='xr-attrs'></dl></div><div class='xr-var-data'><pre>array([      nan,       nan,       nan,       nan, 4255.2886, 4853.976 ,\n",
       "             nan, 3555.1902, 3888.978 ,       nan, 3832.9746, 3458.6807,\n",
       "       3272.4475,       nan,       nan, 2461.1506, 2221.7756,       nan,\n",
       "       2571.9692, 3597.5974, 3756.7048, 4183.    , 3941.203 ,       nan],\n",
       "      dtype=float32)</pre></div></li><li class='xr-var-item'><div class='xr-var-name'><span>rededge3</span></div><div class='xr-var-dims'>(state_dev)</div><div class='xr-var-dtype'>float32</div><div class='xr-var-preview xr-preview'>nan nan nan ... 4.401e+03 nan</div><input id='attrs-017323df-f787-4a34-b19d-758d709b306a' class='xr-var-attrs-in' type='checkbox' disabled><label for='attrs-017323df-f787-4a34-b19d-758d709b306a' title='Show/Hide attributes'><svg class='icon xr-icon-file-text2'><use xlink:href='#icon-file-text2'></use></svg></label><input id='data-9c8611cb-779e-443d-8b2f-8298fceaf744' class='xr-var-data-in' type='checkbox'><label for='data-9c8611cb-779e-443d-8b2f-8298fceaf744' title='Show/Hide data repr'><svg class='icon xr-icon-database'><use xlink:href='#icon-database'></use></svg></label><div class='xr-var-attrs'><dl class='xr-attrs'></dl></div><div class='xr-var-data'><pre>array([      nan,       nan,       nan,       nan, 5281.42  , 6629.405 ,\n",
       "             nan, 4521.0083, 4765.602 ,       nan, 4483.318 , 4052.7024,\n",
       "       3585.4407,       nan,       nan, 2557.3223, 2315.3303,       nan,\n",
       "       2699.64  , 3892.064 , 4228.4756, 4682.5537, 4400.96  ,       nan],\n",
       "      dtype=float32)</pre></div></li><li class='xr-var-item'><div class='xr-var-name'><span>nir</span></div><div class='xr-var-dims'>(state_dev)</div><div class='xr-var-dtype'>float32</div><div class='xr-var-preview xr-preview'>nan nan nan ... 4.213e+03 nan</div><input id='attrs-505b3c1b-6549-48ae-bf29-d6875768968e' class='xr-var-attrs-in' type='checkbox' disabled><label for='attrs-505b3c1b-6549-48ae-bf29-d6875768968e' title='Show/Hide attributes'><svg class='icon xr-icon-file-text2'><use xlink:href='#icon-file-text2'></use></svg></label><input id='data-c4674d43-0533-4997-a617-ed359821a810' class='xr-var-data-in' type='checkbox'><label for='data-c4674d43-0533-4997-a617-ed359821a810' title='Show/Hide data repr'><svg class='icon xr-icon-database'><use xlink:href='#icon-database'></use></svg></label><div class='xr-var-attrs'><dl class='xr-attrs'></dl></div><div class='xr-var-data'><pre>array([      nan,       nan,       nan,       nan, 5101.1533, 6485.222 ,\n",
       "             nan, 4409.292 , 4641.737 ,       nan, 4333.037 , 3883.091 ,\n",
       "       3441.4602,       nan,       nan, 2497.1482, 2223.9175,       nan,\n",
       "       2629.3433, 3847.288 , 4153.541 , 4736.0957, 4213.423 ,       nan],\n",
       "      dtype=float32)</pre></div></li><li class='xr-var-item'><div class='xr-var-name'><span>swir</span></div><div class='xr-var-dims'>(state_dev)</div><div class='xr-var-dtype'>float32</div><div class='xr-var-preview xr-preview'>nan nan nan ... 3.156e+03 nan</div><input id='attrs-b0933728-dc58-4fd7-99c9-251e0e250e37' class='xr-var-attrs-in' type='checkbox' disabled><label for='attrs-b0933728-dc58-4fd7-99c9-251e0e250e37' title='Show/Hide attributes'><svg class='icon xr-icon-file-text2'><use xlink:href='#icon-file-text2'></use></svg></label><input id='data-2d7dd459-c3a9-4d28-bac6-06360194a00e' class='xr-var-data-in' type='checkbox'><label for='data-2d7dd459-c3a9-4d28-bac6-06360194a00e' title='Show/Hide data repr'><svg class='icon xr-icon-database'><use xlink:href='#icon-database'></use></svg></label><div class='xr-var-attrs'><dl class='xr-attrs'></dl></div><div class='xr-var-data'><pre>array([      nan,       nan,       nan,       nan, 2992.366 , 3314.262 ,\n",
       "             nan, 2798.7856, 2836.8054,       nan, 3039.698 , 2950.484 ,\n",
       "       2721.996 ,       nan,       nan, 2331.8335, 1761.0331,       nan,\n",
       "       2476.4585, 3457.486 , 3178.9016, 3278.8303, 3155.8804,       nan],\n",
       "      dtype=float32)</pre></div></li><li class='xr-var-item'><div class='xr-var-name'><span>District</span></div><div class='xr-var-dims'>(state_dev)</div><div class='xr-var-dtype'>object</div><div class='xr-var-preview xr-preview'>&#x27;Chau_Phu&#x27; ... &#x27;Chau_Phu&#x27;</div><input id='attrs-0d315f7d-7386-40ef-b228-23179b28a6f3' class='xr-var-attrs-in' type='checkbox' disabled><label for='attrs-0d315f7d-7386-40ef-b228-23179b28a6f3' title='Show/Hide attributes'><svg class='icon xr-icon-file-text2'><use xlink:href='#icon-file-text2'></use></svg></label><input id='data-d801cfa9-0c39-4ab5-9d12-dda35288869b' class='xr-var-data-in' type='checkbox'><label for='data-d801cfa9-0c39-4ab5-9d12-dda35288869b' title='Show/Hide data repr'><svg class='icon xr-icon-database'><use xlink:href='#icon-database'></use></svg></label><div class='xr-var-attrs'><dl class='xr-attrs'></dl></div><div class='xr-var-data'><pre>array([&#x27;Chau_Phu&#x27;, &#x27;Chau_Phu&#x27;, &#x27;Chau_Phu&#x27;, &#x27;Chau_Phu&#x27;, &#x27;Chau_Phu&#x27;,\n",
       "       &#x27;Chau_Phu&#x27;, &#x27;Chau_Phu&#x27;, &#x27;Chau_Phu&#x27;, &#x27;Chau_Phu&#x27;, &#x27;Chau_Phu&#x27;,\n",
       "       &#x27;Chau_Phu&#x27;, &#x27;Chau_Phu&#x27;, &#x27;Chau_Phu&#x27;, &#x27;Chau_Phu&#x27;, &#x27;Chau_Phu&#x27;,\n",
       "       &#x27;Chau_Phu&#x27;, &#x27;Chau_Phu&#x27;, &#x27;Chau_Phu&#x27;, &#x27;Chau_Phu&#x27;, &#x27;Chau_Phu&#x27;,\n",
       "       &#x27;Chau_Phu&#x27;, &#x27;Chau_Phu&#x27;, &#x27;Chau_Phu&#x27;, &#x27;Chau_Phu&#x27;], dtype=object)</pre></div></li><li class='xr-var-item'><div class='xr-var-name'><span>Latitude</span></div><div class='xr-var-dims'>(state_dev)</div><div class='xr-var-dtype'>float64</div><div class='xr-var-preview xr-preview'>10.51 10.51 10.51 ... 10.51 10.51</div><input id='attrs-b63ca806-abb4-4431-b615-f9b937493489' class='xr-var-attrs-in' type='checkbox' disabled><label for='attrs-b63ca806-abb4-4431-b615-f9b937493489' title='Show/Hide attributes'><svg class='icon xr-icon-file-text2'><use xlink:href='#icon-file-text2'></use></svg></label><input id='data-ad2b9ff4-a6ec-4c18-96bc-56ff268f5a65' class='xr-var-data-in' type='checkbox'><label for='data-ad2b9ff4-a6ec-4c18-96bc-56ff268f5a65' title='Show/Hide data repr'><svg class='icon xr-icon-database'><use xlink:href='#icon-database'></use></svg></label><div class='xr-var-attrs'><dl class='xr-attrs'></dl></div><div class='xr-var-data'><pre>array([10.510542, 10.510542, 10.510542, 10.510542, 10.510542, 10.510542,\n",
       "       10.510542, 10.510542, 10.510542, 10.510542, 10.510542, 10.510542,\n",
       "       10.510542, 10.510542, 10.510542, 10.510542, 10.510542, 10.510542,\n",
       "       10.510542, 10.510542, 10.510542, 10.510542, 10.510542, 10.510542])</pre></div></li><li class='xr-var-item'><div class='xr-var-name'><span>Longitude</span></div><div class='xr-var-dims'>(state_dev)</div><div class='xr-var-dtype'>float64</div><div class='xr-var-preview xr-preview'>105.2 105.2 105.2 ... 105.2 105.2</div><input id='attrs-7b373d82-54d1-4a67-a3de-7dac030df8f0' class='xr-var-attrs-in' type='checkbox' disabled><label for='attrs-7b373d82-54d1-4a67-a3de-7dac030df8f0' title='Show/Hide attributes'><svg class='icon xr-icon-file-text2'><use xlink:href='#icon-file-text2'></use></svg></label><input id='data-dae17548-a729-413a-8999-4c4501f9d535' class='xr-var-data-in' type='checkbox'><label for='data-dae17548-a729-413a-8999-4c4501f9d535' title='Show/Hide data repr'><svg class='icon xr-icon-database'><use xlink:href='#icon-database'></use></svg></label><div class='xr-var-attrs'><dl class='xr-attrs'></dl></div><div class='xr-var-data'><pre>array([105.248554, 105.248554, 105.248554, 105.248554, 105.248554,\n",
       "       105.248554, 105.248554, 105.248554, 105.248554, 105.248554,\n",
       "       105.248554, 105.248554, 105.248554, 105.248554, 105.248554,\n",
       "       105.248554, 105.248554, 105.248554, 105.248554, 105.248554,\n",
       "       105.248554, 105.248554, 105.248554, 105.248554])</pre></div></li><li class='xr-var-item'><div class='xr-var-name'><span>Season(SA = Summer Autumn, WS = Winter Spring)</span></div><div class='xr-var-dims'>(state_dev)</div><div class='xr-var-dtype'>object</div><div class='xr-var-preview xr-preview'>&#x27;SA&#x27; &#x27;SA&#x27; &#x27;SA&#x27; ... &#x27;SA&#x27; &#x27;SA&#x27; &#x27;SA&#x27;</div><input id='attrs-1967cf95-2c10-4a48-8449-b27e0d1ffa08' class='xr-var-attrs-in' type='checkbox' disabled><label for='attrs-1967cf95-2c10-4a48-8449-b27e0d1ffa08' title='Show/Hide attributes'><svg class='icon xr-icon-file-text2'><use xlink:href='#icon-file-text2'></use></svg></label><input id='data-a030a71a-c350-4a6f-a8de-e99894ff705d' class='xr-var-data-in' type='checkbox'><label for='data-a030a71a-c350-4a6f-a8de-e99894ff705d' title='Show/Hide data repr'><svg class='icon xr-icon-database'><use xlink:href='#icon-database'></use></svg></label><div class='xr-var-attrs'><dl class='xr-attrs'></dl></div><div class='xr-var-data'><pre>array([&#x27;SA&#x27;, &#x27;SA&#x27;, &#x27;SA&#x27;, &#x27;SA&#x27;, &#x27;SA&#x27;, &#x27;SA&#x27;, &#x27;SA&#x27;, &#x27;SA&#x27;, &#x27;SA&#x27;, &#x27;SA&#x27;, &#x27;SA&#x27;,\n",
       "       &#x27;SA&#x27;, &#x27;SA&#x27;, &#x27;SA&#x27;, &#x27;SA&#x27;, &#x27;SA&#x27;, &#x27;SA&#x27;, &#x27;SA&#x27;, &#x27;SA&#x27;, &#x27;SA&#x27;, &#x27;SA&#x27;, &#x27;SA&#x27;,\n",
       "       &#x27;SA&#x27;, &#x27;SA&#x27;], dtype=object)</pre></div></li><li class='xr-var-item'><div class='xr-var-name'><span>Rice Crop Intensity(D=Double, T=Triple)</span></div><div class='xr-var-dims'>(state_dev)</div><div class='xr-var-dtype'>object</div><div class='xr-var-preview xr-preview'>&#x27;T&#x27; &#x27;T&#x27; &#x27;T&#x27; &#x27;T&#x27; ... &#x27;T&#x27; &#x27;T&#x27; &#x27;T&#x27; &#x27;T&#x27;</div><input id='attrs-aa52e0ec-20c3-4a4b-a150-d61af6941e9b' class='xr-var-attrs-in' type='checkbox' disabled><label for='attrs-aa52e0ec-20c3-4a4b-a150-d61af6941e9b' title='Show/Hide attributes'><svg class='icon xr-icon-file-text2'><use xlink:href='#icon-file-text2'></use></svg></label><input id='data-6b43455a-531a-4ed5-a725-48385ba2bf27' class='xr-var-data-in' type='checkbox'><label for='data-6b43455a-531a-4ed5-a725-48385ba2bf27' title='Show/Hide data repr'><svg class='icon xr-icon-database'><use xlink:href='#icon-database'></use></svg></label><div class='xr-var-attrs'><dl class='xr-attrs'></dl></div><div class='xr-var-data'><pre>array([&#x27;T&#x27;, &#x27;T&#x27;, &#x27;T&#x27;, &#x27;T&#x27;, &#x27;T&#x27;, &#x27;T&#x27;, &#x27;T&#x27;, &#x27;T&#x27;, &#x27;T&#x27;, &#x27;T&#x27;, &#x27;T&#x27;, &#x27;T&#x27;, &#x27;T&#x27;,\n",
       "       &#x27;T&#x27;, &#x27;T&#x27;, &#x27;T&#x27;, &#x27;T&#x27;, &#x27;T&#x27;, &#x27;T&#x27;, &#x27;T&#x27;, &#x27;T&#x27;, &#x27;T&#x27;, &#x27;T&#x27;, &#x27;T&#x27;],\n",
       "      dtype=object)</pre></div></li><li class='xr-var-item'><div class='xr-var-name'><span>Date of Harvest</span></div><div class='xr-var-dims'>(state_dev)</div><div class='xr-var-dtype'>object</div><div class='xr-var-preview xr-preview'>&#x27;15-07-2022&#x27; ... &#x27;15-07-2022&#x27;</div><input id='attrs-7d9a5032-0a29-4971-bc92-370c70d68d03' class='xr-var-attrs-in' type='checkbox' disabled><label for='attrs-7d9a5032-0a29-4971-bc92-370c70d68d03' title='Show/Hide attributes'><svg class='icon xr-icon-file-text2'><use xlink:href='#icon-file-text2'></use></svg></label><input id='data-2147c995-71d8-4ae5-8186-57205298547a' class='xr-var-data-in' type='checkbox'><label for='data-2147c995-71d8-4ae5-8186-57205298547a' title='Show/Hide data repr'><svg class='icon xr-icon-database'><use xlink:href='#icon-database'></use></svg></label><div class='xr-var-attrs'><dl class='xr-attrs'></dl></div><div class='xr-var-data'><pre>array([&#x27;15-07-2022&#x27;, &#x27;15-07-2022&#x27;, &#x27;15-07-2022&#x27;, &#x27;15-07-2022&#x27;,\n",
       "       &#x27;15-07-2022&#x27;, &#x27;15-07-2022&#x27;, &#x27;15-07-2022&#x27;, &#x27;15-07-2022&#x27;,\n",
       "       &#x27;15-07-2022&#x27;, &#x27;15-07-2022&#x27;, &#x27;15-07-2022&#x27;, &#x27;15-07-2022&#x27;,\n",
       "       &#x27;15-07-2022&#x27;, &#x27;15-07-2022&#x27;, &#x27;15-07-2022&#x27;, &#x27;15-07-2022&#x27;,\n",
       "       &#x27;15-07-2022&#x27;, &#x27;15-07-2022&#x27;, &#x27;15-07-2022&#x27;, &#x27;15-07-2022&#x27;,\n",
       "       &#x27;15-07-2022&#x27;, &#x27;15-07-2022&#x27;, &#x27;15-07-2022&#x27;, &#x27;15-07-2022&#x27;],\n",
       "      dtype=object)</pre></div></li><li class='xr-var-item'><div class='xr-var-name'><span>Field size (ha)</span></div><div class='xr-var-dims'>(state_dev)</div><div class='xr-var-dtype'>float64</div><div class='xr-var-preview xr-preview'>3.4 3.4 3.4 3.4 ... 3.4 3.4 3.4 3.4</div><input id='attrs-e9b31889-faa9-4c7d-9fe4-e96614a8893b' class='xr-var-attrs-in' type='checkbox' disabled><label for='attrs-e9b31889-faa9-4c7d-9fe4-e96614a8893b' title='Show/Hide attributes'><svg class='icon xr-icon-file-text2'><use xlink:href='#icon-file-text2'></use></svg></label><input id='data-6744303d-eea4-4acf-a54b-ffbcbcae98d0' class='xr-var-data-in' type='checkbox'><label for='data-6744303d-eea4-4acf-a54b-ffbcbcae98d0' title='Show/Hide data repr'><svg class='icon xr-icon-database'><use xlink:href='#icon-database'></use></svg></label><div class='xr-var-attrs'><dl class='xr-attrs'></dl></div><div class='xr-var-data'><pre>array([3.4, 3.4, 3.4, 3.4, 3.4, 3.4, 3.4, 3.4, 3.4, 3.4, 3.4, 3.4, 3.4,\n",
       "       3.4, 3.4, 3.4, 3.4, 3.4, 3.4, 3.4, 3.4, 3.4, 3.4, 3.4])</pre></div></li><li class='xr-var-item'><div class='xr-var-name'><span>Rice Yield (kg/ha)</span></div><div class='xr-var-dims'>(state_dev)</div><div class='xr-var-dtype'>int64</div><div class='xr-var-preview xr-preview'>5500 5500 5500 ... 5500 5500 5500</div><input id='attrs-c9a64928-789b-46c1-ba75-a19b8a4b60d6' class='xr-var-attrs-in' type='checkbox' disabled><label for='attrs-c9a64928-789b-46c1-ba75-a19b8a4b60d6' title='Show/Hide attributes'><svg class='icon xr-icon-file-text2'><use xlink:href='#icon-file-text2'></use></svg></label><input id='data-c924d3ef-71af-4f72-8690-4c92ff620d1c' class='xr-var-data-in' type='checkbox'><label for='data-c924d3ef-71af-4f72-8690-4c92ff620d1c' title='Show/Hide data repr'><svg class='icon xr-icon-database'><use xlink:href='#icon-database'></use></svg></label><div class='xr-var-attrs'><dl class='xr-attrs'></dl></div><div class='xr-var-data'><pre>array([5500, 5500, 5500, 5500, 5500, 5500, 5500, 5500, 5500, 5500, 5500,\n",
       "       5500, 5500, 5500, 5500, 5500, 5500, 5500, 5500, 5500, 5500, 5500,\n",
       "       5500, 5500])</pre></div></li></ul></div></li><li class='xr-section-item'><input id='section-2526be6e-81a6-4073-bf8e-b5d0ef5e9927' class='xr-section-summary-in' type='checkbox'  ><label for='section-2526be6e-81a6-4073-bf8e-b5d0ef5e9927' class='xr-section-summary' >Indexes: <span>(1)</span></label><div class='xr-section-inline-details'></div><div class='xr-section-details'><ul class='xr-var-list'><li class='xr-var-item'><div class='xr-index-name'><div>state_dev</div></div><div class='xr-index-preview'>PandasIndex</div><div></div><input id='index-c5e4e179-6a36-4bca-83ea-cf5dc66d8608' class='xr-index-data-in' type='checkbox'/><label for='index-c5e4e179-6a36-4bca-83ea-cf5dc66d8608' title='Show/Hide index repr'><svg class='icon xr-icon-database'><use xlink:href='#icon-database'></use></svg></label><div class='xr-index-data'><pre>PandasIndex(Int64Index([23, 22, 21, 20, 19, 18, 17, 16, 15, 14, 13, 12, 11, 10,  9,  8,  7,\n",
       "             6,  5,  4,  3,  2,  1,  0],\n",
       "           dtype=&#x27;int64&#x27;, name=&#x27;state_dev&#x27;))</pre></div></li></ul></div></li><li class='xr-section-item'><input id='section-9244ba95-a268-4bf7-aac7-9faad2dda8a3' class='xr-section-summary-in' type='checkbox' disabled ><label for='section-9244ba95-a268-4bf7-aac7-9faad2dda8a3' class='xr-section-summary'  title='Expand/collapse section'>Attributes: <span>(0)</span></label><div class='xr-section-inline-details'></div><div class='xr-section-details'><dl class='xr-attrs'></dl></div></li></ul></div></div>"
      ],
      "text/plain": [
       "<xarray.Dataset>\n",
       "Dimensions:                                         (state_dev: 24)\n",
       "Coordinates:\n",
       "    time                                            (state_dev) object '2022-...\n",
       "  * state_dev                                       (state_dev) int64 23 ... 0\n",
       "Data variables: (12/16)\n",
       "    red                                             (state_dev) float32 nan ....\n",
       "    green                                           (state_dev) float32 nan ....\n",
       "    blue                                            (state_dev) float32 nan ....\n",
       "    rededge1                                        (state_dev) float32 nan ....\n",
       "    rededge2                                        (state_dev) float32 nan ....\n",
       "    rededge3                                        (state_dev) float32 nan ....\n",
       "    ...                                              ...\n",
       "    Longitude                                       (state_dev) float64 105.2...\n",
       "    Season(SA = Summer Autumn, WS = Winter Spring)  (state_dev) object 'SA' ....\n",
       "    Rice Crop Intensity(D=Double, T=Triple)         (state_dev) object 'T' .....\n",
       "    Date of Harvest                                 (state_dev) object '15-07...\n",
       "    Field size (ha)                                 (state_dev) float64 3.4 ....\n",
       "    Rice Yield (kg/ha)                              (state_dev) int64 5500 ....."
      ]
     },
     "execution_count": 380,
     "metadata": {},
     "output_type": "execute_result"
    }
   ],
   "source": [
    "\n"
   ]
  },
  {
   "cell_type": "code",
   "execution_count": 344,
   "id": "30e626d6",
   "metadata": {},
   "outputs": [],
   "source": [
    "xdf_2 = data_2.copy(deep=True)\n",
    "xdf_2 = xdf_2.drop('spatial_ref')\n",
    "xdf_2 = xdf_2.mean(dim=['latitude', 'longitude'], skipna=True)\n",
    "xdf_2 = xdf_2.sortby('time')\n",
    "xdf_2['time'] = xdf_2['time'].dt.strftime(\"%Y-%m-%d\")\n",
    "xdf_2['state_dev'] =  ('time', np.arange(xdf_2['time'].shape[0]))\n",
    "xdf_2 = xdf_2.swap_dims({'time': 'state_dev'})"
   ]
  },
  {
   "cell_type": "code",
   "execution_count": 345,
   "id": "a900e82e",
   "metadata": {},
   "outputs": [],
   "source": [
    "xdf_3 = data_3.copy(deep=True)\n",
    "xdf_3 = xdf_3.drop('spatial_ref')\n",
    "xdf_3 = xdf_3.mean(dim=['latitude', 'longitude'], skipna=True)\n",
    "xdf_3 = xdf_3.sortby('time')\n",
    "xdf_3['time'] = xdf_3['time'].dt.strftime(\"%Y-%m-%d\")\n",
    "xdf_3['state_dev'] =  ('time', np.arange(xdf_3['time'].shape[0]))\n",
    "xdf_3 = xdf_3.swap_dims({'time': 'state_dev'})"
   ]
  },
  {
   "cell_type": "code",
   "execution_count": 348,
   "id": "6c1f3195",
   "metadata": {},
   "outputs": [],
   "source": [
    "xdf_concat = xr.concat([xdf, xdf_2, xdf_3], dim='ts_id')"
   ]
  },
  {
   "cell_type": "code",
   "execution_count": 350,
   "id": "5bfd7738",
   "metadata": {},
   "outputs": [
    {
     "data": {
      "text/html": [
       "<div><svg style=\"position: absolute; width: 0; height: 0; overflow: hidden\">\n",
       "<defs>\n",
       "<symbol id=\"icon-database\" viewBox=\"0 0 32 32\">\n",
       "<path d=\"M16 0c-8.837 0-16 2.239-16 5v4c0 2.761 7.163 5 16 5s16-2.239 16-5v-4c0-2.761-7.163-5-16-5z\"></path>\n",
       "<path d=\"M16 17c-8.837 0-16-2.239-16-5v6c0 2.761 7.163 5 16 5s16-2.239 16-5v-6c0 2.761-7.163 5-16 5z\"></path>\n",
       "<path d=\"M16 26c-8.837 0-16-2.239-16-5v6c0 2.761 7.163 5 16 5s16-2.239 16-5v-6c0 2.761-7.163 5-16 5z\"></path>\n",
       "</symbol>\n",
       "<symbol id=\"icon-file-text2\" viewBox=\"0 0 32 32\">\n",
       "<path d=\"M28.681 7.159c-0.694-0.947-1.662-2.053-2.724-3.116s-2.169-2.030-3.116-2.724c-1.612-1.182-2.393-1.319-2.841-1.319h-15.5c-1.378 0-2.5 1.121-2.5 2.5v27c0 1.378 1.122 2.5 2.5 2.5h23c1.378 0 2.5-1.122 2.5-2.5v-19.5c0-0.448-0.137-1.23-1.319-2.841zM24.543 5.457c0.959 0.959 1.712 1.825 2.268 2.543h-4.811v-4.811c0.718 0.556 1.584 1.309 2.543 2.268zM28 29.5c0 0.271-0.229 0.5-0.5 0.5h-23c-0.271 0-0.5-0.229-0.5-0.5v-27c0-0.271 0.229-0.5 0.5-0.5 0 0 15.499-0 15.5 0v7c0 0.552 0.448 1 1 1h7v19.5z\"></path>\n",
       "<path d=\"M23 26h-14c-0.552 0-1-0.448-1-1s0.448-1 1-1h14c0.552 0 1 0.448 1 1s-0.448 1-1 1z\"></path>\n",
       "<path d=\"M23 22h-14c-0.552 0-1-0.448-1-1s0.448-1 1-1h14c0.552 0 1 0.448 1 1s-0.448 1-1 1z\"></path>\n",
       "<path d=\"M23 18h-14c-0.552 0-1-0.448-1-1s0.448-1 1-1h14c0.552 0 1 0.448 1 1s-0.448 1-1 1z\"></path>\n",
       "</symbol>\n",
       "</defs>\n",
       "</svg>\n",
       "<style>/* CSS stylesheet for displaying xarray objects in jupyterlab.\n",
       " *\n",
       " */\n",
       "\n",
       ":root {\n",
       "  --xr-font-color0: var(--jp-content-font-color0, rgba(0, 0, 0, 1));\n",
       "  --xr-font-color2: var(--jp-content-font-color2, rgba(0, 0, 0, 0.54));\n",
       "  --xr-font-color3: var(--jp-content-font-color3, rgba(0, 0, 0, 0.38));\n",
       "  --xr-border-color: var(--jp-border-color2, #e0e0e0);\n",
       "  --xr-disabled-color: var(--jp-layout-color3, #bdbdbd);\n",
       "  --xr-background-color: var(--jp-layout-color0, white);\n",
       "  --xr-background-color-row-even: var(--jp-layout-color1, white);\n",
       "  --xr-background-color-row-odd: var(--jp-layout-color2, #eeeeee);\n",
       "}\n",
       "\n",
       "html[theme=dark],\n",
       "body[data-theme=dark],\n",
       "body.vscode-dark {\n",
       "  --xr-font-color0: rgba(255, 255, 255, 1);\n",
       "  --xr-font-color2: rgba(255, 255, 255, 0.54);\n",
       "  --xr-font-color3: rgba(255, 255, 255, 0.38);\n",
       "  --xr-border-color: #1F1F1F;\n",
       "  --xr-disabled-color: #515151;\n",
       "  --xr-background-color: #111111;\n",
       "  --xr-background-color-row-even: #111111;\n",
       "  --xr-background-color-row-odd: #313131;\n",
       "}\n",
       "\n",
       ".xr-wrap {\n",
       "  display: block !important;\n",
       "  min-width: 300px;\n",
       "  max-width: 700px;\n",
       "}\n",
       "\n",
       ".xr-text-repr-fallback {\n",
       "  /* fallback to plain text repr when CSS is not injected (untrusted notebook) */\n",
       "  display: none;\n",
       "}\n",
       "\n",
       ".xr-header {\n",
       "  padding-top: 6px;\n",
       "  padding-bottom: 6px;\n",
       "  margin-bottom: 4px;\n",
       "  border-bottom: solid 1px var(--xr-border-color);\n",
       "}\n",
       "\n",
       ".xr-header > div,\n",
       ".xr-header > ul {\n",
       "  display: inline;\n",
       "  margin-top: 0;\n",
       "  margin-bottom: 0;\n",
       "}\n",
       "\n",
       ".xr-obj-type,\n",
       ".xr-array-name {\n",
       "  margin-left: 2px;\n",
       "  margin-right: 10px;\n",
       "}\n",
       "\n",
       ".xr-obj-type {\n",
       "  color: var(--xr-font-color2);\n",
       "}\n",
       "\n",
       ".xr-sections {\n",
       "  padding-left: 0 !important;\n",
       "  display: grid;\n",
       "  grid-template-columns: 150px auto auto 1fr 20px 20px;\n",
       "}\n",
       "\n",
       ".xr-section-item {\n",
       "  display: contents;\n",
       "}\n",
       "\n",
       ".xr-section-item input {\n",
       "  display: none;\n",
       "}\n",
       "\n",
       ".xr-section-item input + label {\n",
       "  color: var(--xr-disabled-color);\n",
       "}\n",
       "\n",
       ".xr-section-item input:enabled + label {\n",
       "  cursor: pointer;\n",
       "  color: var(--xr-font-color2);\n",
       "}\n",
       "\n",
       ".xr-section-item input:enabled + label:hover {\n",
       "  color: var(--xr-font-color0);\n",
       "}\n",
       "\n",
       ".xr-section-summary {\n",
       "  grid-column: 1;\n",
       "  color: var(--xr-font-color2);\n",
       "  font-weight: 500;\n",
       "}\n",
       "\n",
       ".xr-section-summary > span {\n",
       "  display: inline-block;\n",
       "  padding-left: 0.5em;\n",
       "}\n",
       "\n",
       ".xr-section-summary-in:disabled + label {\n",
       "  color: var(--xr-font-color2);\n",
       "}\n",
       "\n",
       ".xr-section-summary-in + label:before {\n",
       "  display: inline-block;\n",
       "  content: '►';\n",
       "  font-size: 11px;\n",
       "  width: 15px;\n",
       "  text-align: center;\n",
       "}\n",
       "\n",
       ".xr-section-summary-in:disabled + label:before {\n",
       "  color: var(--xr-disabled-color);\n",
       "}\n",
       "\n",
       ".xr-section-summary-in:checked + label:before {\n",
       "  content: '▼';\n",
       "}\n",
       "\n",
       ".xr-section-summary-in:checked + label > span {\n",
       "  display: none;\n",
       "}\n",
       "\n",
       ".xr-section-summary,\n",
       ".xr-section-inline-details {\n",
       "  padding-top: 4px;\n",
       "  padding-bottom: 4px;\n",
       "}\n",
       "\n",
       ".xr-section-inline-details {\n",
       "  grid-column: 2 / -1;\n",
       "}\n",
       "\n",
       ".xr-section-details {\n",
       "  display: none;\n",
       "  grid-column: 1 / -1;\n",
       "  margin-bottom: 5px;\n",
       "}\n",
       "\n",
       ".xr-section-summary-in:checked ~ .xr-section-details {\n",
       "  display: contents;\n",
       "}\n",
       "\n",
       ".xr-array-wrap {\n",
       "  grid-column: 1 / -1;\n",
       "  display: grid;\n",
       "  grid-template-columns: 20px auto;\n",
       "}\n",
       "\n",
       ".xr-array-wrap > label {\n",
       "  grid-column: 1;\n",
       "  vertical-align: top;\n",
       "}\n",
       "\n",
       ".xr-preview {\n",
       "  color: var(--xr-font-color3);\n",
       "}\n",
       "\n",
       ".xr-array-preview,\n",
       ".xr-array-data {\n",
       "  padding: 0 5px !important;\n",
       "  grid-column: 2;\n",
       "}\n",
       "\n",
       ".xr-array-data,\n",
       ".xr-array-in:checked ~ .xr-array-preview {\n",
       "  display: none;\n",
       "}\n",
       "\n",
       ".xr-array-in:checked ~ .xr-array-data,\n",
       ".xr-array-preview {\n",
       "  display: inline-block;\n",
       "}\n",
       "\n",
       ".xr-dim-list {\n",
       "  display: inline-block !important;\n",
       "  list-style: none;\n",
       "  padding: 0 !important;\n",
       "  margin: 0;\n",
       "}\n",
       "\n",
       ".xr-dim-list li {\n",
       "  display: inline-block;\n",
       "  padding: 0;\n",
       "  margin: 0;\n",
       "}\n",
       "\n",
       ".xr-dim-list:before {\n",
       "  content: '(';\n",
       "}\n",
       "\n",
       ".xr-dim-list:after {\n",
       "  content: ')';\n",
       "}\n",
       "\n",
       ".xr-dim-list li:not(:last-child):after {\n",
       "  content: ',';\n",
       "  padding-right: 5px;\n",
       "}\n",
       "\n",
       ".xr-has-index {\n",
       "  font-weight: bold;\n",
       "}\n",
       "\n",
       ".xr-var-list,\n",
       ".xr-var-item {\n",
       "  display: contents;\n",
       "}\n",
       "\n",
       ".xr-var-item > div,\n",
       ".xr-var-item label,\n",
       ".xr-var-item > .xr-var-name span {\n",
       "  background-color: var(--xr-background-color-row-even);\n",
       "  margin-bottom: 0;\n",
       "}\n",
       "\n",
       ".xr-var-item > .xr-var-name:hover span {\n",
       "  padding-right: 5px;\n",
       "}\n",
       "\n",
       ".xr-var-list > li:nth-child(odd) > div,\n",
       ".xr-var-list > li:nth-child(odd) > label,\n",
       ".xr-var-list > li:nth-child(odd) > .xr-var-name span {\n",
       "  background-color: var(--xr-background-color-row-odd);\n",
       "}\n",
       "\n",
       ".xr-var-name {\n",
       "  grid-column: 1;\n",
       "}\n",
       "\n",
       ".xr-var-dims {\n",
       "  grid-column: 2;\n",
       "}\n",
       "\n",
       ".xr-var-dtype {\n",
       "  grid-column: 3;\n",
       "  text-align: right;\n",
       "  color: var(--xr-font-color2);\n",
       "}\n",
       "\n",
       ".xr-var-preview {\n",
       "  grid-column: 4;\n",
       "}\n",
       "\n",
       ".xr-index-preview {\n",
       "  grid-column: 2 / 5;\n",
       "  color: var(--xr-font-color2);\n",
       "}\n",
       "\n",
       ".xr-var-name,\n",
       ".xr-var-dims,\n",
       ".xr-var-dtype,\n",
       ".xr-preview,\n",
       ".xr-attrs dt {\n",
       "  white-space: nowrap;\n",
       "  overflow: hidden;\n",
       "  text-overflow: ellipsis;\n",
       "  padding-right: 10px;\n",
       "}\n",
       "\n",
       ".xr-var-name:hover,\n",
       ".xr-var-dims:hover,\n",
       ".xr-var-dtype:hover,\n",
       ".xr-attrs dt:hover {\n",
       "  overflow: visible;\n",
       "  width: auto;\n",
       "  z-index: 1;\n",
       "}\n",
       "\n",
       ".xr-var-attrs,\n",
       ".xr-var-data,\n",
       ".xr-index-data {\n",
       "  display: none;\n",
       "  background-color: var(--xr-background-color) !important;\n",
       "  padding-bottom: 5px !important;\n",
       "}\n",
       "\n",
       ".xr-var-attrs-in:checked ~ .xr-var-attrs,\n",
       ".xr-var-data-in:checked ~ .xr-var-data,\n",
       ".xr-index-data-in:checked ~ .xr-index-data {\n",
       "  display: block;\n",
       "}\n",
       "\n",
       ".xr-var-data > table {\n",
       "  float: right;\n",
       "}\n",
       "\n",
       ".xr-var-name span,\n",
       ".xr-var-data,\n",
       ".xr-index-name div,\n",
       ".xr-index-data,\n",
       ".xr-attrs {\n",
       "  padding-left: 25px !important;\n",
       "}\n",
       "\n",
       ".xr-attrs,\n",
       ".xr-var-attrs,\n",
       ".xr-var-data,\n",
       ".xr-index-data {\n",
       "  grid-column: 1 / -1;\n",
       "}\n",
       "\n",
       "dl.xr-attrs {\n",
       "  padding: 0;\n",
       "  margin: 0;\n",
       "  display: grid;\n",
       "  grid-template-columns: 125px auto;\n",
       "}\n",
       "\n",
       ".xr-attrs dt,\n",
       ".xr-attrs dd {\n",
       "  padding: 0;\n",
       "  margin: 0;\n",
       "  float: left;\n",
       "  padding-right: 10px;\n",
       "  width: auto;\n",
       "}\n",
       "\n",
       ".xr-attrs dt {\n",
       "  font-weight: normal;\n",
       "  grid-column: 1;\n",
       "}\n",
       "\n",
       ".xr-attrs dt:hover span {\n",
       "  display: inline-block;\n",
       "  background: var(--xr-background-color);\n",
       "  padding-right: 10px;\n",
       "}\n",
       "\n",
       ".xr-attrs dd {\n",
       "  grid-column: 2;\n",
       "  white-space: pre-wrap;\n",
       "  word-break: break-all;\n",
       "}\n",
       "\n",
       ".xr-icon-database,\n",
       ".xr-icon-file-text2,\n",
       ".xr-no-icon {\n",
       "  display: inline-block;\n",
       "  vertical-align: middle;\n",
       "  width: 1em;\n",
       "  height: 1.5em !important;\n",
       "  stroke-width: 0;\n",
       "  stroke: currentColor;\n",
       "  fill: currentColor;\n",
       "}\n",
       "</style><pre class='xr-text-repr-fallback'>&lt;xarray.Dataset&gt;\n",
       "Dimensions:    (state_dev: 25)\n",
       "Coordinates:\n",
       "  * state_dev  (state_dev) int64 0 1 2 3 4 5 6 7 8 ... 17 18 19 20 21 22 23 24\n",
       "Data variables:\n",
       "    red        (state_dev) float32 1.5e+03 1.969e+03 2.415e+03 ... 1.743e+03 nan\n",
       "    green      (state_dev) float32 1.754e+03 1.842e+03 ... 1.848e+03 nan\n",
       "    blue       (state_dev) float32 1.489e+03 1.57e+03 ... 1.542e+03 nan\n",
       "    B05        (state_dev) float32 2.14e+03 2.428e+03 ... 2.418e+03 nan\n",
       "    B06        (state_dev) float32 3.835e+03 3.188e+03 ... 3.938e+03 nan\n",
       "    B07        (state_dev) float32 4.643e+03 3.533e+03 ... 4.609e+03 nan\n",
       "    nir        (state_dev) float32 4.67e+03 3.466e+03 ... 4.497e+03 nan\n",
       "    B11        (state_dev) float32 2.599e+03 3.081e+03 ... 3.29e+03 nan\n",
       "    SCL        (state_dev) float32 4.0 4.51 6.291 6.012 ... 4.366 7.0 4.159 nan</pre><div class='xr-wrap' style='display:none'><div class='xr-header'><div class='xr-obj-type'>xarray.Dataset</div></div><ul class='xr-sections'><li class='xr-section-item'><input id='section-ee36fe1e-0ed2-431b-ada7-720527651241' class='xr-section-summary-in' type='checkbox' disabled ><label for='section-ee36fe1e-0ed2-431b-ada7-720527651241' class='xr-section-summary'  title='Expand/collapse section'>Dimensions:</label><div class='xr-section-inline-details'><ul class='xr-dim-list'><li><span class='xr-has-index'>state_dev</span>: 25</li></ul></div><div class='xr-section-details'></div></li><li class='xr-section-item'><input id='section-9ade24a6-c8d5-49dd-acd9-26a61f10cda4' class='xr-section-summary-in' type='checkbox'  checked><label for='section-9ade24a6-c8d5-49dd-acd9-26a61f10cda4' class='xr-section-summary' >Coordinates: <span>(1)</span></label><div class='xr-section-inline-details'></div><div class='xr-section-details'><ul class='xr-var-list'><li class='xr-var-item'><div class='xr-var-name'><span class='xr-has-index'>state_dev</span></div><div class='xr-var-dims'>(state_dev)</div><div class='xr-var-dtype'>int64</div><div class='xr-var-preview xr-preview'>0 1 2 3 4 5 6 ... 19 20 21 22 23 24</div><input id='attrs-65621780-f456-4e03-9161-37818ec42b81' class='xr-var-attrs-in' type='checkbox' disabled><label for='attrs-65621780-f456-4e03-9161-37818ec42b81' title='Show/Hide attributes'><svg class='icon xr-icon-file-text2'><use xlink:href='#icon-file-text2'></use></svg></label><input id='data-44cb6470-4af1-4428-a403-bd77195995b5' class='xr-var-data-in' type='checkbox'><label for='data-44cb6470-4af1-4428-a403-bd77195995b5' title='Show/Hide data repr'><svg class='icon xr-icon-database'><use xlink:href='#icon-database'></use></svg></label><div class='xr-var-attrs'><dl class='xr-attrs'></dl></div><div class='xr-var-data'><pre>array([ 0,  1,  2,  3,  4,  5,  6,  7,  8,  9, 10, 11, 12, 13, 14, 15, 16, 17,\n",
       "       18, 19, 20, 21, 22, 23, 24])</pre></div></li></ul></div></li><li class='xr-section-item'><input id='section-a9dd1f1a-1263-4276-a48e-73bbf0cfe2d8' class='xr-section-summary-in' type='checkbox'  checked><label for='section-a9dd1f1a-1263-4276-a48e-73bbf0cfe2d8' class='xr-section-summary' >Data variables: <span>(9)</span></label><div class='xr-section-inline-details'></div><div class='xr-section-details'><ul class='xr-var-list'><li class='xr-var-item'><div class='xr-var-name'><span>red</span></div><div class='xr-var-dims'>(state_dev)</div><div class='xr-var-dtype'>float32</div><div class='xr-var-preview xr-preview'>1.5e+03 1.969e+03 ... 1.743e+03 nan</div><input id='attrs-3f1bf8b0-7b56-4aa7-9f14-d2ae06fdf6bb' class='xr-var-attrs-in' type='checkbox' disabled><label for='attrs-3f1bf8b0-7b56-4aa7-9f14-d2ae06fdf6bb' title='Show/Hide attributes'><svg class='icon xr-icon-file-text2'><use xlink:href='#icon-file-text2'></use></svg></label><input id='data-7225f270-7f50-4a1b-99b4-4ca816266eb4' class='xr-var-data-in' type='checkbox'><label for='data-7225f270-7f50-4a1b-99b4-4ca816266eb4' title='Show/Hide data repr'><svg class='icon xr-icon-database'><use xlink:href='#icon-database'></use></svg></label><div class='xr-var-attrs'><dl class='xr-attrs'></dl></div><div class='xr-var-data'><pre>array([1499.8169, 1968.5442, 2414.7053, 2270.1162, 2137.4626, 2100.174 ,\n",
       "       2307.9438, 1799.22  , 1698.6523, 1935.1191, 1452.3589,       nan,\n",
       "       1623.3604, 1507.3724, 1707.8893, 1730.2365, 1397.9268, 1410.9888,\n",
       "             nan, 1862.0109, 1932.2424, 1659.7045, 2558.    , 1743.026 ,\n",
       "             nan], dtype=float32)</pre></div></li><li class='xr-var-item'><div class='xr-var-name'><span>green</span></div><div class='xr-var-dims'>(state_dev)</div><div class='xr-var-dtype'>float32</div><div class='xr-var-preview xr-preview'>1.754e+03 1.842e+03 ... nan</div><input id='attrs-c09eb825-7d63-4635-908b-724a3c42812f' class='xr-var-attrs-in' type='checkbox' disabled><label for='attrs-c09eb825-7d63-4635-908b-724a3c42812f' title='Show/Hide attributes'><svg class='icon xr-icon-file-text2'><use xlink:href='#icon-file-text2'></use></svg></label><input id='data-3e997e39-18c7-4c43-ba42-fbe9b08a57ec' class='xr-var-data-in' type='checkbox'><label for='data-3e997e39-18c7-4c43-ba42-fbe9b08a57ec' title='Show/Hide data repr'><svg class='icon xr-icon-database'><use xlink:href='#icon-database'></use></svg></label><div class='xr-var-attrs'><dl class='xr-attrs'></dl></div><div class='xr-var-data'><pre>array([1753.5968, 1841.7627, 2525.737 , 2513.0027, 2227.9062, 2048.1755,\n",
       "       2286.9502, 2056.7234, 1854.5778, 2091.8884, 1782.9031,       nan,\n",
       "       1891.2457, 1695.3735, 1980.7603, 2055.4495, 1618.9392, 1595.6122,\n",
       "             nan, 2132.85  , 2159.4192, 1837.7295, 2635.    , 1847.6492,\n",
       "             nan], dtype=float32)</pre></div></li><li class='xr-var-item'><div class='xr-var-name'><span>blue</span></div><div class='xr-var-dims'>(state_dev)</div><div class='xr-var-dtype'>float32</div><div class='xr-var-preview xr-preview'>1.489e+03 1.57e+03 ... nan</div><input id='attrs-e97d9f56-48c4-45f4-ac90-e1de0d277f2a' class='xr-var-attrs-in' type='checkbox' disabled><label for='attrs-e97d9f56-48c4-45f4-ac90-e1de0d277f2a' title='Show/Hide attributes'><svg class='icon xr-icon-file-text2'><use xlink:href='#icon-file-text2'></use></svg></label><input id='data-dbdb25b9-c045-444e-8a25-89c60a3c8a64' class='xr-var-data-in' type='checkbox'><label for='data-dbdb25b9-c045-444e-8a25-89c60a3c8a64' title='Show/Hide data repr'><svg class='icon xr-icon-database'><use xlink:href='#icon-database'></use></svg></label><div class='xr-var-attrs'><dl class='xr-attrs'></dl></div><div class='xr-var-data'><pre>array([1489.2721, 1570.0964, 2504.3298, 2509.2512, 2162.36  , 1818.1783,\n",
       "       2319.5193, 2135.2002, 1657.8208, 1967.8993, 1385.9263,       nan,\n",
       "       1648.2041, 1473.4379, 1738.6771, 1860.9723, 1383.1268, 1354.2742,\n",
       "             nan, 1929.8633, 1893.7007, 1527.1897, 2593.25  , 1542.4645,\n",
       "             nan], dtype=float32)</pre></div></li><li class='xr-var-item'><div class='xr-var-name'><span>B05</span></div><div class='xr-var-dims'>(state_dev)</div><div class='xr-var-dtype'>float32</div><div class='xr-var-preview xr-preview'>2.14e+03 2.428e+03 ... nan</div><input id='attrs-dd7680af-156e-4241-954f-8a04aebd88d7' class='xr-var-attrs-in' type='checkbox' disabled><label for='attrs-dd7680af-156e-4241-954f-8a04aebd88d7' title='Show/Hide attributes'><svg class='icon xr-icon-file-text2'><use xlink:href='#icon-file-text2'></use></svg></label><input id='data-1510bdf3-4373-4d30-82ad-c57763848cf4' class='xr-var-data-in' type='checkbox'><label for='data-1510bdf3-4373-4d30-82ad-c57763848cf4' title='Show/Hide data repr'><svg class='icon xr-icon-database'><use xlink:href='#icon-database'></use></svg></label><div class='xr-var-attrs'><dl class='xr-attrs'></dl></div><div class='xr-var-data'><pre>array([2140.4639, 2428.1538, 2818.1543, 2755.7102, 2537.0364, 2586.8137,\n",
       "       2525.2908, 2064.1   , 2136.1716, 2381.449 , 2179.5586,       nan,\n",
       "       2207.8562, 1981.2797, 2337.0515, 2367.6753, 1928.254 , 1912.5758,\n",
       "             nan, 2479.9978, 2579.647 , 2357.5361, 3039.    , 2417.7002,\n",
       "             nan], dtype=float32)</pre></div></li><li class='xr-var-item'><div class='xr-var-name'><span>B06</span></div><div class='xr-var-dims'>(state_dev)</div><div class='xr-var-dtype'>float32</div><div class='xr-var-preview xr-preview'>3.835e+03 3.188e+03 ... nan</div><input id='attrs-7aa9229c-b2e0-4ee9-a1bb-0af78b552b59' class='xr-var-attrs-in' type='checkbox' disabled><label for='attrs-7aa9229c-b2e0-4ee9-a1bb-0af78b552b59' title='Show/Hide attributes'><svg class='icon xr-icon-file-text2'><use xlink:href='#icon-file-text2'></use></svg></label><input id='data-31f5fee7-f926-4a68-a062-f0162d27fd9e' class='xr-var-data-in' type='checkbox'><label for='data-31f5fee7-f926-4a68-a062-f0162d27fd9e' title='Show/Hide data repr'><svg class='icon xr-icon-database'><use xlink:href='#icon-database'></use></svg></label><div class='xr-var-attrs'><dl class='xr-attrs'></dl></div><div class='xr-var-data'><pre>array([3835.017 , 3187.603 , 3377.213 , 3599.0146, 3067.2634, 3182.9202,\n",
       "       2571.9692, 2609.567 , 3121.9033, 3180.6902, 3904.4553,       nan,\n",
       "       3592.4248, 3307.3313, 4122.3003, 4360.575 , 3436.2407, 3555.1902,\n",
       "             nan, 4246.4355, 4189.7075, 3666.249 , 3487.5   , 3937.6934,\n",
       "             nan], dtype=float32)</pre></div></li><li class='xr-var-item'><div class='xr-var-name'><span>B07</span></div><div class='xr-var-dims'>(state_dev)</div><div class='xr-var-dtype'>float32</div><div class='xr-var-preview xr-preview'>4.643e+03 3.533e+03 ... nan</div><input id='attrs-93d75d58-6d1a-4308-8bdf-140739cb5886' class='xr-var-attrs-in' type='checkbox' disabled><label for='attrs-93d75d58-6d1a-4308-8bdf-140739cb5886' title='Show/Hide attributes'><svg class='icon xr-icon-file-text2'><use xlink:href='#icon-file-text2'></use></svg></label><input id='data-7db3ebe0-9084-4c35-98c9-3b89d0470d97' class='xr-var-data-in' type='checkbox'><label for='data-7db3ebe0-9084-4c35-98c9-3b89d0470d97' title='Show/Hide data repr'><svg class='icon xr-icon-database'><use xlink:href='#icon-database'></use></svg></label><div class='xr-var-attrs'><dl class='xr-attrs'></dl></div><div class='xr-var-data'><pre>array([4642.801 , 3532.9907, 3730.9807, 3982.3672, 3398.5146, 3478.7615,\n",
       "       2699.64  , 2883.9067, 3510.303 , 3540.18  , 4463.8945,       nan,\n",
       "       4095.841 , 3945.9597, 4900.483 , 5253.885 , 4077.0378, 4521.0083,\n",
       "             nan, 5307.2104, 4961.793 , 4254.015 , 3733.    , 4609.4775,\n",
       "             nan], dtype=float32)</pre></div></li><li class='xr-var-item'><div class='xr-var-name'><span>nir</span></div><div class='xr-var-dims'>(state_dev)</div><div class='xr-var-dtype'>float32</div><div class='xr-var-preview xr-preview'>4.67e+03 3.466e+03 ... nan</div><input id='attrs-04d9b0a1-260a-40a2-8029-a9d44aec0024' class='xr-var-attrs-in' type='checkbox' disabled><label for='attrs-04d9b0a1-260a-40a2-8029-a9d44aec0024' title='Show/Hide attributes'><svg class='icon xr-icon-file-text2'><use xlink:href='#icon-file-text2'></use></svg></label><input id='data-ecd879aa-34af-4e91-9ba7-1a266cc845ba' class='xr-var-data-in' type='checkbox'><label for='data-ecd879aa-34af-4e91-9ba7-1a266cc845ba' title='Show/Hide data repr'><svg class='icon xr-icon-database'><use xlink:href='#icon-database'></use></svg></label><div class='xr-var-attrs'><dl class='xr-attrs'></dl></div><div class='xr-var-data'><pre>array([4670.293 , 3466.2224, 3632.1055, 3948.2463, 3357.112 , 3425.0642,\n",
       "       2629.3433, 2721.9133, 3396.4539, 3403.9324, 4323.129 ,       nan,\n",
       "       3934.0964, 3819.4866, 4760.3887, 5014.2725, 3943.3035, 4409.292 ,\n",
       "             nan, 5139.7534, 4776.0522, 4143.329 , 3454.75  , 4497.0176,\n",
       "             nan], dtype=float32)</pre></div></li><li class='xr-var-item'><div class='xr-var-name'><span>B11</span></div><div class='xr-var-dims'>(state_dev)</div><div class='xr-var-dtype'>float32</div><div class='xr-var-preview xr-preview'>2.599e+03 3.081e+03 ... nan</div><input id='attrs-c0a7854b-4b0a-41cd-970c-105e8fe0bac6' class='xr-var-attrs-in' type='checkbox' disabled><label for='attrs-c0a7854b-4b0a-41cd-970c-105e8fe0bac6' title='Show/Hide attributes'><svg class='icon xr-icon-file-text2'><use xlink:href='#icon-file-text2'></use></svg></label><input id='data-8faef152-2625-4911-991e-9648641dd9f6' class='xr-var-data-in' type='checkbox'><label for='data-8faef152-2625-4911-991e-9648641dd9f6' title='Show/Hide data repr'><svg class='icon xr-icon-database'><use xlink:href='#icon-database'></use></svg></label><div class='xr-var-attrs'><dl class='xr-attrs'></dl></div><div class='xr-var-data'><pre>array([2598.8806, 3080.954 , 3057.5754, 2644.9346, 2720.8977, 3206.9153,\n",
       "       2476.4585, 2051.9734, 2443.5237, 2760.0095, 3040.265 ,       nan,\n",
       "       2664.206 , 2640.8328, 3020.7832, 3051.8062, 2497.6702, 2798.7856,\n",
       "             nan, 3050.112 , 2984.5303, 2704.6377, 2887.5   , 3289.6357,\n",
       "             nan], dtype=float32)</pre></div></li><li class='xr-var-item'><div class='xr-var-name'><span>SCL</span></div><div class='xr-var-dims'>(state_dev)</div><div class='xr-var-dtype'>float32</div><div class='xr-var-preview xr-preview'>4.0 4.51 6.291 ... 7.0 4.159 nan</div><input id='attrs-28da2a98-a8f7-4cf1-89b1-de568e8bbc1b' class='xr-var-attrs-in' type='checkbox' disabled><label for='attrs-28da2a98-a8f7-4cf1-89b1-de568e8bbc1b' title='Show/Hide attributes'><svg class='icon xr-icon-file-text2'><use xlink:href='#icon-file-text2'></use></svg></label><input id='data-dbb554d7-5fc0-49a8-bb8e-a845254cabb6' class='xr-var-data-in' type='checkbox'><label for='data-dbb554d7-5fc0-49a8-bb8e-a845254cabb6' title='Show/Hide data repr'><svg class='icon xr-icon-database'><use xlink:href='#icon-database'></use></svg></label><div class='xr-var-attrs'><dl class='xr-attrs'></dl></div><div class='xr-var-data'><pre>array([4.       , 4.5100317, 6.2913475, 6.0123   , 6.0358505, 4.745048 ,\n",
       "       6.149971 , 6.52     , 4.6093726, 5.244824 , 4.004646 ,       nan,\n",
       "       4.3024454, 4.254064 , 4.217192 , 4.317359 , 4.3769016, 4.050125 ,\n",
       "             nan, 4.6883593, 4.3773165, 4.365631 , 7.       , 4.1588564,\n",
       "             nan], dtype=float32)</pre></div></li></ul></div></li><li class='xr-section-item'><input id='section-841c29a4-7684-44a4-9af0-6a49d8f476ae' class='xr-section-summary-in' type='checkbox'  ><label for='section-841c29a4-7684-44a4-9af0-6a49d8f476ae' class='xr-section-summary' >Indexes: <span>(1)</span></label><div class='xr-section-inline-details'></div><div class='xr-section-details'><ul class='xr-var-list'><li class='xr-var-item'><div class='xr-index-name'><div>state_dev</div></div><div class='xr-index-preview'>PandasIndex</div><div></div><input id='index-cb03cb65-d2fe-478c-a874-6e9237d5904a' class='xr-index-data-in' type='checkbox'/><label for='index-cb03cb65-d2fe-478c-a874-6e9237d5904a' title='Show/Hide index repr'><svg class='icon xr-icon-database'><use xlink:href='#icon-database'></use></svg></label><div class='xr-index-data'><pre>PandasIndex(Int64Index([ 0,  1,  2,  3,  4,  5,  6,  7,  8,  9, 10, 11, 12, 13, 14, 15, 16,\n",
       "            17, 18, 19, 20, 21, 22, 23, 24],\n",
       "           dtype=&#x27;int64&#x27;, name=&#x27;state_dev&#x27;))</pre></div></li></ul></div></li><li class='xr-section-item'><input id='section-75ccfb8e-216e-4670-b208-b1618b69d217' class='xr-section-summary-in' type='checkbox' disabled ><label for='section-75ccfb8e-216e-4670-b208-b1618b69d217' class='xr-section-summary'  title='Expand/collapse section'>Attributes: <span>(0)</span></label><div class='xr-section-inline-details'></div><div class='xr-section-details'><dl class='xr-attrs'></dl></div></li></ul></div></div>"
      ],
      "text/plain": [
       "<xarray.Dataset>\n",
       "Dimensions:    (state_dev: 25)\n",
       "Coordinates:\n",
       "  * state_dev  (state_dev) int64 0 1 2 3 4 5 6 7 8 ... 17 18 19 20 21 22 23 24\n",
       "Data variables:\n",
       "    red        (state_dev) float32 1.5e+03 1.969e+03 2.415e+03 ... 1.743e+03 nan\n",
       "    green      (state_dev) float32 1.754e+03 1.842e+03 ... 1.848e+03 nan\n",
       "    blue       (state_dev) float32 1.489e+03 1.57e+03 ... 1.542e+03 nan\n",
       "    B05        (state_dev) float32 2.14e+03 2.428e+03 ... 2.418e+03 nan\n",
       "    B06        (state_dev) float32 3.835e+03 3.188e+03 ... 3.938e+03 nan\n",
       "    B07        (state_dev) float32 4.643e+03 3.533e+03 ... 4.609e+03 nan\n",
       "    nir        (state_dev) float32 4.67e+03 3.466e+03 ... 4.497e+03 nan\n",
       "    B11        (state_dev) float32 2.599e+03 3.081e+03 ... 3.29e+03 nan\n",
       "    SCL        (state_dev) float32 4.0 4.51 6.291 6.012 ... 4.366 7.0 4.159 nan"
      ]
     },
     "execution_count": 350,
     "metadata": {},
     "output_type": "execute_result"
    }
   ],
   "source": [
    "xdf_concat.mean('ts_id', skipna=True)"
   ]
  },
  {
   "cell_type": "code",
   "execution_count": 349,
   "id": "a231be13",
   "metadata": {},
   "outputs": [
    {
     "data": {
      "text/html": [
       "<div><svg style=\"position: absolute; width: 0; height: 0; overflow: hidden\">\n",
       "<defs>\n",
       "<symbol id=\"icon-database\" viewBox=\"0 0 32 32\">\n",
       "<path d=\"M16 0c-8.837 0-16 2.239-16 5v4c0 2.761 7.163 5 16 5s16-2.239 16-5v-4c0-2.761-7.163-5-16-5z\"></path>\n",
       "<path d=\"M16 17c-8.837 0-16-2.239-16-5v6c0 2.761 7.163 5 16 5s16-2.239 16-5v-6c0 2.761-7.163 5-16 5z\"></path>\n",
       "<path d=\"M16 26c-8.837 0-16-2.239-16-5v6c0 2.761 7.163 5 16 5s16-2.239 16-5v-6c0 2.761-7.163 5-16 5z\"></path>\n",
       "</symbol>\n",
       "<symbol id=\"icon-file-text2\" viewBox=\"0 0 32 32\">\n",
       "<path d=\"M28.681 7.159c-0.694-0.947-1.662-2.053-2.724-3.116s-2.169-2.030-3.116-2.724c-1.612-1.182-2.393-1.319-2.841-1.319h-15.5c-1.378 0-2.5 1.121-2.5 2.5v27c0 1.378 1.122 2.5 2.5 2.5h23c1.378 0 2.5-1.122 2.5-2.5v-19.5c0-0.448-0.137-1.23-1.319-2.841zM24.543 5.457c0.959 0.959 1.712 1.825 2.268 2.543h-4.811v-4.811c0.718 0.556 1.584 1.309 2.543 2.268zM28 29.5c0 0.271-0.229 0.5-0.5 0.5h-23c-0.271 0-0.5-0.229-0.5-0.5v-27c0-0.271 0.229-0.5 0.5-0.5 0 0 15.499-0 15.5 0v7c0 0.552 0.448 1 1 1h7v19.5z\"></path>\n",
       "<path d=\"M23 26h-14c-0.552 0-1-0.448-1-1s0.448-1 1-1h14c0.552 0 1 0.448 1 1s-0.448 1-1 1z\"></path>\n",
       "<path d=\"M23 22h-14c-0.552 0-1-0.448-1-1s0.448-1 1-1h14c0.552 0 1 0.448 1 1s-0.448 1-1 1z\"></path>\n",
       "<path d=\"M23 18h-14c-0.552 0-1-0.448-1-1s0.448-1 1-1h14c0.552 0 1 0.448 1 1s-0.448 1-1 1z\"></path>\n",
       "</symbol>\n",
       "</defs>\n",
       "</svg>\n",
       "<style>/* CSS stylesheet for displaying xarray objects in jupyterlab.\n",
       " *\n",
       " */\n",
       "\n",
       ":root {\n",
       "  --xr-font-color0: var(--jp-content-font-color0, rgba(0, 0, 0, 1));\n",
       "  --xr-font-color2: var(--jp-content-font-color2, rgba(0, 0, 0, 0.54));\n",
       "  --xr-font-color3: var(--jp-content-font-color3, rgba(0, 0, 0, 0.38));\n",
       "  --xr-border-color: var(--jp-border-color2, #e0e0e0);\n",
       "  --xr-disabled-color: var(--jp-layout-color3, #bdbdbd);\n",
       "  --xr-background-color: var(--jp-layout-color0, white);\n",
       "  --xr-background-color-row-even: var(--jp-layout-color1, white);\n",
       "  --xr-background-color-row-odd: var(--jp-layout-color2, #eeeeee);\n",
       "}\n",
       "\n",
       "html[theme=dark],\n",
       "body[data-theme=dark],\n",
       "body.vscode-dark {\n",
       "  --xr-font-color0: rgba(255, 255, 255, 1);\n",
       "  --xr-font-color2: rgba(255, 255, 255, 0.54);\n",
       "  --xr-font-color3: rgba(255, 255, 255, 0.38);\n",
       "  --xr-border-color: #1F1F1F;\n",
       "  --xr-disabled-color: #515151;\n",
       "  --xr-background-color: #111111;\n",
       "  --xr-background-color-row-even: #111111;\n",
       "  --xr-background-color-row-odd: #313131;\n",
       "}\n",
       "\n",
       ".xr-wrap {\n",
       "  display: block !important;\n",
       "  min-width: 300px;\n",
       "  max-width: 700px;\n",
       "}\n",
       "\n",
       ".xr-text-repr-fallback {\n",
       "  /* fallback to plain text repr when CSS is not injected (untrusted notebook) */\n",
       "  display: none;\n",
       "}\n",
       "\n",
       ".xr-header {\n",
       "  padding-top: 6px;\n",
       "  padding-bottom: 6px;\n",
       "  margin-bottom: 4px;\n",
       "  border-bottom: solid 1px var(--xr-border-color);\n",
       "}\n",
       "\n",
       ".xr-header > div,\n",
       ".xr-header > ul {\n",
       "  display: inline;\n",
       "  margin-top: 0;\n",
       "  margin-bottom: 0;\n",
       "}\n",
       "\n",
       ".xr-obj-type,\n",
       ".xr-array-name {\n",
       "  margin-left: 2px;\n",
       "  margin-right: 10px;\n",
       "}\n",
       "\n",
       ".xr-obj-type {\n",
       "  color: var(--xr-font-color2);\n",
       "}\n",
       "\n",
       ".xr-sections {\n",
       "  padding-left: 0 !important;\n",
       "  display: grid;\n",
       "  grid-template-columns: 150px auto auto 1fr 20px 20px;\n",
       "}\n",
       "\n",
       ".xr-section-item {\n",
       "  display: contents;\n",
       "}\n",
       "\n",
       ".xr-section-item input {\n",
       "  display: none;\n",
       "}\n",
       "\n",
       ".xr-section-item input + label {\n",
       "  color: var(--xr-disabled-color);\n",
       "}\n",
       "\n",
       ".xr-section-item input:enabled + label {\n",
       "  cursor: pointer;\n",
       "  color: var(--xr-font-color2);\n",
       "}\n",
       "\n",
       ".xr-section-item input:enabled + label:hover {\n",
       "  color: var(--xr-font-color0);\n",
       "}\n",
       "\n",
       ".xr-section-summary {\n",
       "  grid-column: 1;\n",
       "  color: var(--xr-font-color2);\n",
       "  font-weight: 500;\n",
       "}\n",
       "\n",
       ".xr-section-summary > span {\n",
       "  display: inline-block;\n",
       "  padding-left: 0.5em;\n",
       "}\n",
       "\n",
       ".xr-section-summary-in:disabled + label {\n",
       "  color: var(--xr-font-color2);\n",
       "}\n",
       "\n",
       ".xr-section-summary-in + label:before {\n",
       "  display: inline-block;\n",
       "  content: '►';\n",
       "  font-size: 11px;\n",
       "  width: 15px;\n",
       "  text-align: center;\n",
       "}\n",
       "\n",
       ".xr-section-summary-in:disabled + label:before {\n",
       "  color: var(--xr-disabled-color);\n",
       "}\n",
       "\n",
       ".xr-section-summary-in:checked + label:before {\n",
       "  content: '▼';\n",
       "}\n",
       "\n",
       ".xr-section-summary-in:checked + label > span {\n",
       "  display: none;\n",
       "}\n",
       "\n",
       ".xr-section-summary,\n",
       ".xr-section-inline-details {\n",
       "  padding-top: 4px;\n",
       "  padding-bottom: 4px;\n",
       "}\n",
       "\n",
       ".xr-section-inline-details {\n",
       "  grid-column: 2 / -1;\n",
       "}\n",
       "\n",
       ".xr-section-details {\n",
       "  display: none;\n",
       "  grid-column: 1 / -1;\n",
       "  margin-bottom: 5px;\n",
       "}\n",
       "\n",
       ".xr-section-summary-in:checked ~ .xr-section-details {\n",
       "  display: contents;\n",
       "}\n",
       "\n",
       ".xr-array-wrap {\n",
       "  grid-column: 1 / -1;\n",
       "  display: grid;\n",
       "  grid-template-columns: 20px auto;\n",
       "}\n",
       "\n",
       ".xr-array-wrap > label {\n",
       "  grid-column: 1;\n",
       "  vertical-align: top;\n",
       "}\n",
       "\n",
       ".xr-preview {\n",
       "  color: var(--xr-font-color3);\n",
       "}\n",
       "\n",
       ".xr-array-preview,\n",
       ".xr-array-data {\n",
       "  padding: 0 5px !important;\n",
       "  grid-column: 2;\n",
       "}\n",
       "\n",
       ".xr-array-data,\n",
       ".xr-array-in:checked ~ .xr-array-preview {\n",
       "  display: none;\n",
       "}\n",
       "\n",
       ".xr-array-in:checked ~ .xr-array-data,\n",
       ".xr-array-preview {\n",
       "  display: inline-block;\n",
       "}\n",
       "\n",
       ".xr-dim-list {\n",
       "  display: inline-block !important;\n",
       "  list-style: none;\n",
       "  padding: 0 !important;\n",
       "  margin: 0;\n",
       "}\n",
       "\n",
       ".xr-dim-list li {\n",
       "  display: inline-block;\n",
       "  padding: 0;\n",
       "  margin: 0;\n",
       "}\n",
       "\n",
       ".xr-dim-list:before {\n",
       "  content: '(';\n",
       "}\n",
       "\n",
       ".xr-dim-list:after {\n",
       "  content: ')';\n",
       "}\n",
       "\n",
       ".xr-dim-list li:not(:last-child):after {\n",
       "  content: ',';\n",
       "  padding-right: 5px;\n",
       "}\n",
       "\n",
       ".xr-has-index {\n",
       "  font-weight: bold;\n",
       "}\n",
       "\n",
       ".xr-var-list,\n",
       ".xr-var-item {\n",
       "  display: contents;\n",
       "}\n",
       "\n",
       ".xr-var-item > div,\n",
       ".xr-var-item label,\n",
       ".xr-var-item > .xr-var-name span {\n",
       "  background-color: var(--xr-background-color-row-even);\n",
       "  margin-bottom: 0;\n",
       "}\n",
       "\n",
       ".xr-var-item > .xr-var-name:hover span {\n",
       "  padding-right: 5px;\n",
       "}\n",
       "\n",
       ".xr-var-list > li:nth-child(odd) > div,\n",
       ".xr-var-list > li:nth-child(odd) > label,\n",
       ".xr-var-list > li:nth-child(odd) > .xr-var-name span {\n",
       "  background-color: var(--xr-background-color-row-odd);\n",
       "}\n",
       "\n",
       ".xr-var-name {\n",
       "  grid-column: 1;\n",
       "}\n",
       "\n",
       ".xr-var-dims {\n",
       "  grid-column: 2;\n",
       "}\n",
       "\n",
       ".xr-var-dtype {\n",
       "  grid-column: 3;\n",
       "  text-align: right;\n",
       "  color: var(--xr-font-color2);\n",
       "}\n",
       "\n",
       ".xr-var-preview {\n",
       "  grid-column: 4;\n",
       "}\n",
       "\n",
       ".xr-index-preview {\n",
       "  grid-column: 2 / 5;\n",
       "  color: var(--xr-font-color2);\n",
       "}\n",
       "\n",
       ".xr-var-name,\n",
       ".xr-var-dims,\n",
       ".xr-var-dtype,\n",
       ".xr-preview,\n",
       ".xr-attrs dt {\n",
       "  white-space: nowrap;\n",
       "  overflow: hidden;\n",
       "  text-overflow: ellipsis;\n",
       "  padding-right: 10px;\n",
       "}\n",
       "\n",
       ".xr-var-name:hover,\n",
       ".xr-var-dims:hover,\n",
       ".xr-var-dtype:hover,\n",
       ".xr-attrs dt:hover {\n",
       "  overflow: visible;\n",
       "  width: auto;\n",
       "  z-index: 1;\n",
       "}\n",
       "\n",
       ".xr-var-attrs,\n",
       ".xr-var-data,\n",
       ".xr-index-data {\n",
       "  display: none;\n",
       "  background-color: var(--xr-background-color) !important;\n",
       "  padding-bottom: 5px !important;\n",
       "}\n",
       "\n",
       ".xr-var-attrs-in:checked ~ .xr-var-attrs,\n",
       ".xr-var-data-in:checked ~ .xr-var-data,\n",
       ".xr-index-data-in:checked ~ .xr-index-data {\n",
       "  display: block;\n",
       "}\n",
       "\n",
       ".xr-var-data > table {\n",
       "  float: right;\n",
       "}\n",
       "\n",
       ".xr-var-name span,\n",
       ".xr-var-data,\n",
       ".xr-index-name div,\n",
       ".xr-index-data,\n",
       ".xr-attrs {\n",
       "  padding-left: 25px !important;\n",
       "}\n",
       "\n",
       ".xr-attrs,\n",
       ".xr-var-attrs,\n",
       ".xr-var-data,\n",
       ".xr-index-data {\n",
       "  grid-column: 1 / -1;\n",
       "}\n",
       "\n",
       "dl.xr-attrs {\n",
       "  padding: 0;\n",
       "  margin: 0;\n",
       "  display: grid;\n",
       "  grid-template-columns: 125px auto;\n",
       "}\n",
       "\n",
       ".xr-attrs dt,\n",
       ".xr-attrs dd {\n",
       "  padding: 0;\n",
       "  margin: 0;\n",
       "  float: left;\n",
       "  padding-right: 10px;\n",
       "  width: auto;\n",
       "}\n",
       "\n",
       ".xr-attrs dt {\n",
       "  font-weight: normal;\n",
       "  grid-column: 1;\n",
       "}\n",
       "\n",
       ".xr-attrs dt:hover span {\n",
       "  display: inline-block;\n",
       "  background: var(--xr-background-color);\n",
       "  padding-right: 10px;\n",
       "}\n",
       "\n",
       ".xr-attrs dd {\n",
       "  grid-column: 2;\n",
       "  white-space: pre-wrap;\n",
       "  word-break: break-all;\n",
       "}\n",
       "\n",
       ".xr-icon-database,\n",
       ".xr-icon-file-text2,\n",
       ".xr-no-icon {\n",
       "  display: inline-block;\n",
       "  vertical-align: middle;\n",
       "  width: 1em;\n",
       "  height: 1.5em !important;\n",
       "  stroke-width: 0;\n",
       "  stroke: currentColor;\n",
       "  fill: currentColor;\n",
       "}\n",
       "</style><pre class='xr-text-repr-fallback'>&lt;xarray.Dataset&gt;\n",
       "Dimensions:    (ts_id: 3, state_dev: 25)\n",
       "Coordinates:\n",
       "    time       (ts_id, state_dev) object &#x27;2022-03-11&#x27; ... &#x27;2022-08-03&#x27;\n",
       "  * state_dev  (state_dev) int64 0 1 2 3 4 5 6 7 8 ... 17 18 19 20 21 22 23 24\n",
       "Dimensions without coordinates: ts_id\n",
       "Data variables:\n",
       "    red        (ts_id, state_dev) float32 1.541e+03 1.969e+03 ... 2.178e+03 nan\n",
       "    green      (ts_id, state_dev) float32 1.81e+03 1.842e+03 ... 2.14e+03 nan\n",
       "    blue       (ts_id, state_dev) float32 1.466e+03 1.57e+03 ... 1.754e+03 nan\n",
       "    B05        (ts_id, state_dev) float32 2.291e+03 2.428e+03 ... 2.977e+03 nan\n",
       "    B06        (ts_id, state_dev) float32 3.94e+03 3.188e+03 ... 4.259e+03 nan\n",
       "    B07        (ts_id, state_dev) float32 4.825e+03 3.533e+03 ... 4.862e+03 nan\n",
       "    nir        (ts_id, state_dev) float32 4.854e+03 3.466e+03 ... 4.787e+03 nan\n",
       "    B11        (ts_id, state_dev) float32 2.617e+03 3.081e+03 ... 3.931e+03 nan\n",
       "    SCL        (ts_id, state_dev) float32 4.0 4.51 7.0 4.037 ... 7.0 4.299 nan</pre><div class='xr-wrap' style='display:none'><div class='xr-header'><div class='xr-obj-type'>xarray.Dataset</div></div><ul class='xr-sections'><li class='xr-section-item'><input id='section-1a143fe7-e4e8-40a9-a867-962a843ee12c' class='xr-section-summary-in' type='checkbox' disabled ><label for='section-1a143fe7-e4e8-40a9-a867-962a843ee12c' class='xr-section-summary'  title='Expand/collapse section'>Dimensions:</label><div class='xr-section-inline-details'><ul class='xr-dim-list'><li><span>ts_id</span>: 3</li><li><span class='xr-has-index'>state_dev</span>: 25</li></ul></div><div class='xr-section-details'></div></li><li class='xr-section-item'><input id='section-8b454a37-8b31-4730-8c40-1a07de1c624e' class='xr-section-summary-in' type='checkbox'  checked><label for='section-8b454a37-8b31-4730-8c40-1a07de1c624e' class='xr-section-summary' >Coordinates: <span>(2)</span></label><div class='xr-section-inline-details'></div><div class='xr-section-details'><ul class='xr-var-list'><li class='xr-var-item'><div class='xr-var-name'><span>time</span></div><div class='xr-var-dims'>(ts_id, state_dev)</div><div class='xr-var-dtype'>object</div><div class='xr-var-preview xr-preview'>&#x27;2022-03-11&#x27; ... &#x27;2022-08-03&#x27;</div><input id='attrs-927bafc4-b8ce-459a-b879-e5eb06b28043' class='xr-var-attrs-in' type='checkbox' disabled><label for='attrs-927bafc4-b8ce-459a-b879-e5eb06b28043' title='Show/Hide attributes'><svg class='icon xr-icon-file-text2'><use xlink:href='#icon-file-text2'></use></svg></label><input id='data-188c25d8-1120-4c11-a0e3-8bdb046e1e83' class='xr-var-data-in' type='checkbox'><label for='data-188c25d8-1120-4c11-a0e3-8bdb046e1e83' title='Show/Hide data repr'><svg class='icon xr-icon-database'><use xlink:href='#icon-database'></use></svg></label><div class='xr-var-attrs'><dl class='xr-attrs'></dl></div><div class='xr-var-data'><pre>array([[&#x27;2022-03-11&#x27;, &#x27;2022-03-16&#x27;, &#x27;2022-03-21&#x27;, &#x27;2022-03-26&#x27;,\n",
       "        &#x27;2022-03-31&#x27;, &#x27;2022-04-05&#x27;, &#x27;2022-04-10&#x27;, &#x27;2022-04-15&#x27;,\n",
       "        &#x27;2022-04-20&#x27;, &#x27;2022-04-25&#x27;, &#x27;2022-04-30&#x27;, &#x27;2022-05-10&#x27;,\n",
       "        &#x27;2022-05-15&#x27;, &#x27;2022-05-20&#x27;, &#x27;2022-05-25&#x27;, &#x27;2022-05-30&#x27;,\n",
       "        &#x27;2022-06-04&#x27;, &#x27;2022-06-09&#x27;, &#x27;2022-06-14&#x27;, &#x27;2022-06-19&#x27;,\n",
       "        &#x27;2022-06-24&#x27;, &#x27;2022-06-29&#x27;, &#x27;2022-07-04&#x27;, &#x27;2022-07-09&#x27;,\n",
       "        &#x27;2022-07-14&#x27;],\n",
       "       [&#x27;2022-03-31&#x27;, &#x27;2022-04-05&#x27;, &#x27;2022-04-10&#x27;, &#x27;2022-04-15&#x27;,\n",
       "        &#x27;2022-04-20&#x27;, &#x27;2022-04-25&#x27;, &#x27;2022-04-30&#x27;, &#x27;2022-05-10&#x27;,\n",
       "        &#x27;2022-05-15&#x27;, &#x27;2022-05-20&#x27;, &#x27;2022-05-25&#x27;, &#x27;2022-05-30&#x27;,\n",
       "        &#x27;2022-06-04&#x27;, &#x27;2022-06-09&#x27;, &#x27;2022-06-14&#x27;, &#x27;2022-06-19&#x27;,\n",
       "        &#x27;2022-06-24&#x27;, &#x27;2022-06-29&#x27;, &#x27;2022-07-04&#x27;, &#x27;2022-07-09&#x27;,\n",
       "        &#x27;2022-07-14&#x27;, &#x27;2022-07-19&#x27;, &#x27;2022-07-24&#x27;, &#x27;2022-07-29&#x27;,\n",
       "        &#x27;2022-08-03&#x27;],\n",
       "       [&#x27;2022-03-31&#x27;, &#x27;2022-04-05&#x27;, &#x27;2022-04-10&#x27;, &#x27;2022-04-15&#x27;,\n",
       "        &#x27;2022-04-20&#x27;, &#x27;2022-04-25&#x27;, &#x27;2022-04-30&#x27;, &#x27;2022-05-10&#x27;,\n",
       "        &#x27;2022-05-15&#x27;, &#x27;2022-05-20&#x27;, &#x27;2022-05-25&#x27;, &#x27;2022-05-30&#x27;,\n",
       "        &#x27;2022-06-04&#x27;, &#x27;2022-06-09&#x27;, &#x27;2022-06-14&#x27;, &#x27;2022-06-19&#x27;,\n",
       "        &#x27;2022-06-24&#x27;, &#x27;2022-06-29&#x27;, &#x27;2022-07-04&#x27;, &#x27;2022-07-09&#x27;,\n",
       "        &#x27;2022-07-14&#x27;, &#x27;2022-07-19&#x27;, &#x27;2022-07-24&#x27;, &#x27;2022-07-29&#x27;,\n",
       "        &#x27;2022-08-03&#x27;]], dtype=object)</pre></div></li><li class='xr-var-item'><div class='xr-var-name'><span class='xr-has-index'>state_dev</span></div><div class='xr-var-dims'>(state_dev)</div><div class='xr-var-dtype'>int64</div><div class='xr-var-preview xr-preview'>0 1 2 3 4 5 6 ... 19 20 21 22 23 24</div><input id='attrs-e1e54305-4785-42b5-8181-91922c553f2d' class='xr-var-attrs-in' type='checkbox' disabled><label for='attrs-e1e54305-4785-42b5-8181-91922c553f2d' title='Show/Hide attributes'><svg class='icon xr-icon-file-text2'><use xlink:href='#icon-file-text2'></use></svg></label><input id='data-8f1ffe2d-0d78-48f8-a07d-cb2248020f3e' class='xr-var-data-in' type='checkbox'><label for='data-8f1ffe2d-0d78-48f8-a07d-cb2248020f3e' title='Show/Hide data repr'><svg class='icon xr-icon-database'><use xlink:href='#icon-database'></use></svg></label><div class='xr-var-attrs'><dl class='xr-attrs'></dl></div><div class='xr-var-data'><pre>array([ 0,  1,  2,  3,  4,  5,  6,  7,  8,  9, 10, 11, 12, 13, 14, 15, 16, 17,\n",
       "       18, 19, 20, 21, 22, 23, 24])</pre></div></li></ul></div></li><li class='xr-section-item'><input id='section-e7e878dd-d61f-4e8f-b4d0-b19dec3ee121' class='xr-section-summary-in' type='checkbox'  checked><label for='section-e7e878dd-d61f-4e8f-b4d0-b19dec3ee121' class='xr-section-summary' >Data variables: <span>(9)</span></label><div class='xr-section-inline-details'></div><div class='xr-section-details'><ul class='xr-var-list'><li class='xr-var-item'><div class='xr-var-name'><span>red</span></div><div class='xr-var-dims'>(ts_id, state_dev)</div><div class='xr-var-dtype'>float32</div><div class='xr-var-preview xr-preview'>1.541e+03 1.969e+03 ... nan</div><input id='attrs-1c79e699-7815-4314-a58f-a5a9684cc386' class='xr-var-attrs-in' type='checkbox' disabled><label for='attrs-1c79e699-7815-4314-a58f-a5a9684cc386' title='Show/Hide attributes'><svg class='icon xr-icon-file-text2'><use xlink:href='#icon-file-text2'></use></svg></label><input id='data-6f47fb15-2865-495a-9b7a-2473fd110443' class='xr-var-data-in' type='checkbox'><label for='data-6f47fb15-2865-495a-9b7a-2473fd110443' title='Show/Hide data repr'><svg class='icon xr-icon-database'><use xlink:href='#icon-database'></use></svg></label><div class='xr-var-attrs'><dl class='xr-attrs'></dl></div><div class='xr-var-data'><pre>array([[1541.1338, 1968.5442, 2561.2988, 1912.0664, 2152.41  , 2344.063 ,\n",
       "        2307.9438, 1799.22  , 2200.9983, 2136.214 , 1452.3589,       nan,\n",
       "        1515.9371, 1771.3339, 1502.8584, 1730.2365, 1373.2848, 1410.9888,\n",
       "              nan, 1825.7699, 1667.6349, 1659.7045, 2558.    , 1743.026 ,\n",
       "              nan],\n",
       "       [1458.5   , 1472.6149, 2283.2678, 2580.1458, 2101.3616, 1932.3834,\n",
       "        2307.9438, 1948.5   , 1511.2583, 2377.029 , 1452.3589,       nan,\n",
       "        1560.6122, 1409.5106, 1839.7408, 1730.2365, 1422.5688, 1410.9888,\n",
       "              nan, 1708.5206, 1932.2424, 1505.6222, 2558.    , 1308.0093,\n",
       "              nan],\n",
       "       [1499.8169, 2464.4734, 2399.55  , 2318.1365, 2158.6167, 2024.0758,\n",
       "        2307.9438, 1649.94  , 1383.7003, 1292.1144, 1452.3589,       nan,\n",
       "        1793.532 , 1341.273 , 1781.0686, 1730.2365, 1397.9268, 1410.9888,\n",
       "              nan, 2051.7422, 2196.85  , 1813.7867, 2558.    , 2178.0427,\n",
       "              nan]], dtype=float32)</pre></div></li><li class='xr-var-item'><div class='xr-var-name'><span>green</span></div><div class='xr-var-dims'>(ts_id, state_dev)</div><div class='xr-var-dtype'>float32</div><div class='xr-var-preview xr-preview'>1.81e+03 1.842e+03 ... 2.14e+03 nan</div><input id='attrs-2297499d-d632-46b3-8fbc-9a661ea2e626' class='xr-var-attrs-in' type='checkbox' disabled><label for='attrs-2297499d-d632-46b3-8fbc-9a661ea2e626' title='Show/Hide attributes'><svg class='icon xr-icon-file-text2'><use xlink:href='#icon-file-text2'></use></svg></label><input id='data-3a8563c8-13f2-47f8-b91b-883cb12b0d64' class='xr-var-data-in' type='checkbox'><label for='data-3a8563c8-13f2-47f8-b91b-883cb12b0d64' title='Show/Hide data repr'><svg class='icon xr-icon-database'><use xlink:href='#icon-database'></use></svg></label><div class='xr-var-attrs'><dl class='xr-attrs'></dl></div><div class='xr-var-data'><pre>array([[1810.4436, 1841.7627, 2764.1926, 2067.8506, 2265.0247, 2174.324 ,\n",
       "        2286.9502, 2056.7234, 2152.751 , 2071.674 , 1782.9031,       nan,\n",
       "        1759.6006, 1992.8784, 1756.5416, 2055.4495, 1623.3176, 1595.6122,\n",
       "              nan, 2169.4126, 1939.2091, 1837.7295, 2635.    , 1847.6492,\n",
       "              nan],\n",
       "       [1696.75  , 1603.0255, 2504.6016, 2976.0208, 2303.3083, 1998.0319,\n",
       "        2286.9502, 2154.0667, 1699.7704, 2613.9653, 1782.9031,       nan,\n",
       "        1763.613 , 1550.8315, 2096.7197, 2055.4495, 1614.5608, 1595.6122,\n",
       "              nan, 1921.6573, 2159.4192, 1707.5844, 2635.    , 1555.6229,\n",
       "              nan],\n",
       "       [1753.5968, 2080.5   , 2308.417 , 2495.1365, 2115.3857, 1972.1709,\n",
       "        2286.9502, 1959.38  , 1711.2119, 1590.0255, 1782.9031,       nan,\n",
       "        2150.524 , 1542.4105, 2089.0195, 2055.4495, 1618.9392, 1595.6122,\n",
       "              nan, 2307.4805, 2379.6292, 1967.8746, 2635.    , 2139.6753,\n",
       "              nan]], dtype=float32)</pre></div></li><li class='xr-var-item'><div class='xr-var-name'><span>blue</span></div><div class='xr-var-dims'>(ts_id, state_dev)</div><div class='xr-var-dtype'>float32</div><div class='xr-var-preview xr-preview'>1.466e+03 1.57e+03 ... nan</div><input id='attrs-cc6b5c6d-01af-4f07-83ac-da9ae12e4029' class='xr-var-attrs-in' type='checkbox' disabled><label for='attrs-cc6b5c6d-01af-4f07-83ac-da9ae12e4029' title='Show/Hide attributes'><svg class='icon xr-icon-file-text2'><use xlink:href='#icon-file-text2'></use></svg></label><input id='data-59958eae-238f-4848-9344-04fa51165160' class='xr-var-data-in' type='checkbox'><label for='data-59958eae-238f-4848-9344-04fa51165160' title='Show/Hide data repr'><svg class='icon xr-icon-database'><use xlink:href='#icon-database'></use></svg></label><div class='xr-var-attrs'><dl class='xr-attrs'></dl></div><div class='xr-var-data'><pre>array([[1466.0442, 1570.0964, 2650.4424, 1629.2656, 1983.3442, 1794.5974,\n",
       "        2319.5193, 2135.2002, 2134.868 , 1964.651 , 1385.9263,       nan,\n",
       "        1449.3453, 1777.6226, 1402.5626, 1860.9723, 1324.0154, 1354.2742,\n",
       "              nan, 2004.7659, 1730.538 , 1527.1897, 2593.25  , 1542.4645,\n",
       "              nan],\n",
       "       [1512.5   , 1366.8933, 2550.977 , 3171.625 , 2330.6602, 1821.9056,\n",
       "        2319.5193, 2371.6   , 1462.8912, 2635.7917, 1385.9263,       nan,\n",
       "        1575.854 , 1336.9506, 1926.9336, 1860.9723, 1442.2383, 1354.2742,\n",
       "              nan, 1749.0172, 1893.7007, 1510.1732, 2593.25  , 1330.5614,\n",
       "              nan],\n",
       "       [1489.2721, 1773.2997, 2311.5703, 2726.8635, 2173.0754, 1838.0325,\n",
       "        2319.5193, 1898.8   , 1375.7032, 1303.2549, 1385.9263,       nan,\n",
       "        1919.4128, 1305.7405, 1886.5352, 1860.9723, 1383.1268, 1354.2742,\n",
       "              nan, 2035.8066, 2056.8633, 1544.206 , 2593.25  , 1754.3676,\n",
       "              nan]], dtype=float32)</pre></div></li><li class='xr-var-item'><div class='xr-var-name'><span>B05</span></div><div class='xr-var-dims'>(ts_id, state_dev)</div><div class='xr-var-dtype'>float32</div><div class='xr-var-preview xr-preview'>2.291e+03 2.428e+03 ... nan</div><input id='attrs-69133095-8a37-4ece-a3e3-7cd8b85a487d' class='xr-var-attrs-in' type='checkbox' disabled><label for='attrs-69133095-8a37-4ece-a3e3-7cd8b85a487d' title='Show/Hide attributes'><svg class='icon xr-icon-file-text2'><use xlink:href='#icon-file-text2'></use></svg></label><input id='data-9b3a2669-8f52-4b47-bae2-c75c03b99495' class='xr-var-data-in' type='checkbox'><label for='data-9b3a2669-8f52-4b47-bae2-c75c03b99495' title='Show/Hide data repr'><svg class='icon xr-icon-database'><use xlink:href='#icon-database'></use></svg></label><div class='xr-var-attrs'><dl class='xr-attrs'></dl></div><div class='xr-var-data'><pre>array([[2290.9277, 2428.1538, 3157.172 , 2898.3765, 2902.131 , 3030.053 ,\n",
       "        2525.2908, 2064.1   , 2348.5796, 2416.7217, 2179.5586,       nan,\n",
       "        2123.7178, 2250.869 , 2139.8716, 2367.6753, 1988.8866, 1912.5758,\n",
       "              nan, 2445.8015, 2269.1619, 2357.5361, 3039.    , 2417.7002,\n",
       "              nan],\n",
       "       [1990.    , 1967.3773, 2657.4739, 2981.2083, 2422.9878, 2414.5771,\n",
       "        2525.2908, 2117.2   , 2005.077 , 2856.892 , 2179.5586,       nan,\n",
       "        2028.679 , 1834.7213, 2434.3135, 2367.6753, 1867.6215, 1912.5758,\n",
       "              nan, 2198.0337, 2579.647 , 1996.6627, 3039.    , 1858.8359,\n",
       "              nan],\n",
       "       [2140.4639, 2888.9304, 2639.8164, 2387.5454, 2285.9902, 2315.811 ,\n",
       "        2525.2908, 2011.    , 2054.8584, 1870.7329, 2179.5586,       nan,\n",
       "        2471.1719, 1858.2485, 2436.969 , 2367.6753, 1928.254 , 1912.5758,\n",
       "              nan, 2796.1582, 2890.1318, 2718.4094, 3039.    , 2976.5642,\n",
       "              nan]], dtype=float32)</pre></div></li><li class='xr-var-item'><div class='xr-var-name'><span>B06</span></div><div class='xr-var-dims'>(ts_id, state_dev)</div><div class='xr-var-dtype'>float32</div><div class='xr-var-preview xr-preview'>3.94e+03 3.188e+03 ... nan</div><input id='attrs-63d9431e-2f6b-4545-8c66-a9ce7bba0d68' class='xr-var-attrs-in' type='checkbox' disabled><label for='attrs-63d9431e-2f6b-4545-8c66-a9ce7bba0d68' title='Show/Hide attributes'><svg class='icon xr-icon-file-text2'><use xlink:href='#icon-file-text2'></use></svg></label><input id='data-5ca20796-7834-4b81-8527-35e83c9bdbd5' class='xr-var-data-in' type='checkbox'><label for='data-5ca20796-7834-4b81-8527-35e83c9bdbd5' title='Show/Hide data repr'><svg class='icon xr-icon-database'><use xlink:href='#icon-database'></use></svg></label><div class='xr-var-attrs'><dl class='xr-attrs'></dl></div><div class='xr-var-data'><pre>array([[3940.0342, 3187.603 , 3941.203 , 4183.    , 3756.7048, 3597.5974,\n",
       "        2571.9692, 2609.567 , 2221.7756, 2461.1506, 3904.4553,       nan,\n",
       "        3272.4475, 3458.6807, 3832.9746, 4360.575 , 3888.978 , 3555.1902,\n",
       "              nan, 4853.976 , 4255.2886, 3666.249 , 3487.5   , 3937.6934,\n",
       "              nan],\n",
       "       [3730.    , 3178.7449, 3395.4626, 4260.771 , 3249.9587, 3477.6436,\n",
       "        2571.9692, 2630.5334, 3775.3716, 3771.728 , 3904.4553,       nan,\n",
       "        3225.5996, 3013.4429, 4027.0037, 4360.575 , 2983.5032, 3555.1902,\n",
       "              nan, 3581.1616, 4189.7075, 3272.5178, 3487.5   , 3616.1648,\n",
       "              nan],\n",
       "       [3835.017 , 3196.4612, 2794.9734, 2353.2727, 2195.1265, 2473.5198,\n",
       "        2571.9692, 2588.6   , 3368.5623, 3309.1917, 3904.4553,       nan,\n",
       "        4279.2275, 3449.871 , 4506.9214, 4360.575 , 3436.2407, 3555.1902,\n",
       "              nan, 4304.1694, 4124.1265, 4059.9802, 3487.5   , 4259.222 ,\n",
       "              nan]], dtype=float32)</pre></div></li><li class='xr-var-item'><div class='xr-var-name'><span>B07</span></div><div class='xr-var-dims'>(ts_id, state_dev)</div><div class='xr-var-dtype'>float32</div><div class='xr-var-preview xr-preview'>4.825e+03 3.533e+03 ... nan</div><input id='attrs-1e58dd39-001c-471f-9894-f0abb07d2347' class='xr-var-attrs-in' type='checkbox' disabled><label for='attrs-1e58dd39-001c-471f-9894-f0abb07d2347' title='Show/Hide attributes'><svg class='icon xr-icon-file-text2'><use xlink:href='#icon-file-text2'></use></svg></label><input id='data-edc8a668-0ab0-41c7-947c-d4b65de1524d' class='xr-var-data-in' type='checkbox'><label for='data-edc8a668-0ab0-41c7-947c-d4b65de1524d' title='Show/Hide data repr'><svg class='icon xr-icon-database'><use xlink:href='#icon-database'></use></svg></label><div class='xr-var-attrs'><dl class='xr-attrs'></dl></div><div class='xr-var-data'><pre>array([[4824.602 , 3532.9907, 4400.96  , 4682.5537, 4228.4756, 3892.064 ,\n",
       "        2699.64  , 2883.9067, 2315.3303, 2557.3223, 4463.8945,       nan,\n",
       "        3585.4407, 4052.7024, 4483.318 , 5253.885 , 4765.602 , 4521.0083,\n",
       "              nan, 6629.405 , 5281.42  , 4254.015 , 3733.    , 4609.4775,\n",
       "              nan],\n",
       "       [4461.    , 3643.9758, 3800.7192, 4879.729 , 3692.801 , 3942.91  ,\n",
       "        2699.64  , 2995.5334, 4529.181 , 4209.9287, 4463.8945,       nan,\n",
       "        3708.2344, 3530.217 , 4686.4634, 5253.885 , 3388.4736, 4521.0083,\n",
       "              nan, 4207.0347, 4961.793 , 3836.6787, 3733.    , 4356.4766,\n",
       "              nan],\n",
       "       [4642.801 , 3422.0059, 2991.2625, 2384.818 , 2274.2676, 2601.3105,\n",
       "        2699.64  , 2772.28  , 3686.3972, 3853.2893, 4463.8945,       nan,\n",
       "        4993.849 , 4254.9595, 5531.6685, 5253.885 , 4077.0378, 4521.0083,\n",
       "              nan, 5085.191 , 4642.1665, 4671.3516, 3733.    , 4862.4785,\n",
       "              nan]], dtype=float32)</pre></div></li><li class='xr-var-item'><div class='xr-var-name'><span>nir</span></div><div class='xr-var-dims'>(ts_id, state_dev)</div><div class='xr-var-dtype'>float32</div><div class='xr-var-preview xr-preview'>4.854e+03 3.466e+03 ... nan</div><input id='attrs-827d9173-78f6-4e94-b7a2-e65eaf78f2a8' class='xr-var-attrs-in' type='checkbox' disabled><label for='attrs-827d9173-78f6-4e94-b7a2-e65eaf78f2a8' title='Show/Hide attributes'><svg class='icon xr-icon-file-text2'><use xlink:href='#icon-file-text2'></use></svg></label><input id='data-b5f71b03-bdb6-4a22-8c58-f5d48e73f48a' class='xr-var-data-in' type='checkbox'><label for='data-b5f71b03-bdb6-4a22-8c58-f5d48e73f48a' title='Show/Hide data repr'><svg class='icon xr-icon-database'><use xlink:href='#icon-database'></use></svg></label><div class='xr-var-attrs'><dl class='xr-attrs'></dl></div><div class='xr-var-data'><pre>array([[4853.5864, 3466.2224, 4213.423 , 4736.0957, 4153.541 , 3847.288 ,\n",
       "        2629.3433, 2721.9133, 2223.9175, 2497.1482, 4323.129 ,       nan,\n",
       "        3441.4602, 3883.091 , 4333.037 , 5014.2725, 4641.737 , 4409.292 ,\n",
       "              nan, 6485.222 , 5101.1533, 4143.329 , 3454.75  , 4497.0176,\n",
       "              nan],\n",
       "       [4487.    , 3549.569 , 3739.136 , 4835.1665, 3675.0728, 3861.4846,\n",
       "        2629.3433, 2884.0667, 4421.4893, 4056.893 , 4323.129 ,       nan,\n",
       "        3579.7334, 3424.2412, 4551.8604, 5014.2725, 3244.87  , 4409.292 ,\n",
       "              nan, 4043.2898, 4776.0522, 3700.654 , 3454.75  , 4207.0957,\n",
       "              nan],\n",
       "       [4670.293 , 3382.8757, 2943.7573, 2273.4773, 2242.7227, 2566.42  ,\n",
       "        2629.3433, 2559.76  , 3543.9546, 3657.756 , 4323.129 ,       nan,\n",
       "        4781.096 , 4151.128 , 5396.268 , 5014.2725, 3943.3035, 4409.292 ,\n",
       "              nan, 4890.7485, 4450.951 , 4586.004 , 3454.75  , 4786.94  ,\n",
       "              nan]], dtype=float32)</pre></div></li><li class='xr-var-item'><div class='xr-var-name'><span>B11</span></div><div class='xr-var-dims'>(ts_id, state_dev)</div><div class='xr-var-dtype'>float32</div><div class='xr-var-preview xr-preview'>2.617e+03 3.081e+03 ... nan</div><input id='attrs-cd052e95-3b67-4955-b413-cbd146932236' class='xr-var-attrs-in' type='checkbox' disabled><label for='attrs-cd052e95-3b67-4955-b413-cbd146932236' title='Show/Hide attributes'><svg class='icon xr-icon-file-text2'><use xlink:href='#icon-file-text2'></use></svg></label><input id='data-c0db393c-9a1c-4fd5-bee6-60a44708ac10' class='xr-var-data-in' type='checkbox'><label for='data-c0db393c-9a1c-4fd5-bee6-60a44708ac10' title='Show/Hide data repr'><svg class='icon xr-icon-database'><use xlink:href='#icon-database'></use></svg></label><div class='xr-var-attrs'><dl class='xr-attrs'></dl></div><div class='xr-var-data'><pre>array([[2616.7612, 3080.954 , 3155.8804, 3278.8303, 3178.9016, 3457.486 ,\n",
       "        2476.4585, 2051.9734, 1761.0331, 2331.8335, 3040.265 ,       nan,\n",
       "        2721.996 , 2950.484 , 3039.698 , 3051.8062, 2836.8054, 2798.7856,\n",
       "              nan, 3314.262 , 2992.366 , 2704.6377, 2887.5   , 3289.6357,\n",
       "              nan],\n",
       "       [2581.    , 2459.0884, 2842.5603, 3067.7917, 2706.4392, 3230.4355,\n",
       "        2476.4585, 2039.2667, 2778.8596, 3187.472 , 3040.265 ,       nan,\n",
       "        2250.6572, 2262.0366, 2903.7366, 3051.8062, 2158.535 , 2798.7856,\n",
       "              nan, 2777.7969, 2984.5303, 2404.3096, 2887.5   , 2648.5022,\n",
       "              nan],\n",
       "       [2598.8806, 3702.82  , 3174.2856, 1588.1818, 2277.3528, 2932.8242,\n",
       "        2476.4585, 2064.68  , 2790.6782, 2760.7224, 3040.265 ,       nan,\n",
       "        3019.965 , 2709.978 , 3118.915 , 3051.8062, 2497.6702, 2798.7856,\n",
       "              nan, 3058.2773, 2976.6943, 3004.9658, 2887.5   , 3930.7693,\n",
       "              nan]], dtype=float32)</pre></div></li><li class='xr-var-item'><div class='xr-var-name'><span>SCL</span></div><div class='xr-var-dims'>(ts_id, state_dev)</div><div class='xr-var-dtype'>float32</div><div class='xr-var-preview xr-preview'>4.0 4.51 7.0 ... 7.0 4.299 nan</div><input id='attrs-78238649-918b-43ef-a31e-6c49bf087862' class='xr-var-attrs-in' type='checkbox' disabled><label for='attrs-78238649-918b-43ef-a31e-6c49bf087862' title='Show/Hide attributes'><svg class='icon xr-icon-file-text2'><use xlink:href='#icon-file-text2'></use></svg></label><input id='data-f25c93f4-52fc-4c89-8975-011a4a6867f8' class='xr-var-data-in' type='checkbox'><label for='data-f25c93f4-52fc-4c89-8975-011a4a6867f8' title='Show/Hide data repr'><svg class='icon xr-icon-database'><use xlink:href='#icon-database'></use></svg></label><div class='xr-var-attrs'><dl class='xr-attrs'></dl></div><div class='xr-var-data'><pre>array([[4.       , 4.5100317, 7.       , 4.0369005, 4.2459016, 4.6339564,\n",
       "        6.149971 , 6.52     , 5.8269567, 5.192259 , 4.004646 ,       nan,\n",
       "        4.1731772, 4.061305 , 4.0701756, 4.317359 , 4.0538845, 4.050125 ,\n",
       "              nan, 4.4603176, 4.301855 , 4.365631 , 7.       , 4.1588564,\n",
       "              nan],\n",
       "       [4.       , 4.1187854, 6.8740435, 7.       , 6.8616505, 4.580731 ,\n",
       "        6.149971 , 7.       , 4.       , 6.542214 , 4.004646 ,       nan,\n",
       "        4.674926 , 4.7008867, 4.4441466, 4.317359 , 4.699919 , 4.050125 ,\n",
       "              nan, 4.6308618, 4.3773165, 4.7312627, 7.       , 4.0185676,\n",
       "              nan],\n",
       "       [4.       , 4.9012775, 5.       , 7.       , 7.       , 5.0204573,\n",
       "        6.149971 , 6.04     , 4.0011616, 4.       , 4.004646 ,       nan,\n",
       "        4.0592337, 4.       , 4.1372547, 4.317359 , 4.3769016, 4.050125 ,\n",
       "              nan, 4.973899 , 4.452778 , 4.       , 7.       , 4.299145 ,\n",
       "              nan]], dtype=float32)</pre></div></li></ul></div></li><li class='xr-section-item'><input id='section-7d856ecf-a5a8-463f-b82e-b70ba8d7fd58' class='xr-section-summary-in' type='checkbox'  ><label for='section-7d856ecf-a5a8-463f-b82e-b70ba8d7fd58' class='xr-section-summary' >Indexes: <span>(1)</span></label><div class='xr-section-inline-details'></div><div class='xr-section-details'><ul class='xr-var-list'><li class='xr-var-item'><div class='xr-index-name'><div>state_dev</div></div><div class='xr-index-preview'>PandasIndex</div><div></div><input id='index-bab60332-2122-4077-9d31-087e86b22b81' class='xr-index-data-in' type='checkbox'/><label for='index-bab60332-2122-4077-9d31-087e86b22b81' title='Show/Hide index repr'><svg class='icon xr-icon-database'><use xlink:href='#icon-database'></use></svg></label><div class='xr-index-data'><pre>PandasIndex(Int64Index([ 0,  1,  2,  3,  4,  5,  6,  7,  8,  9, 10, 11, 12, 13, 14, 15, 16,\n",
       "            17, 18, 19, 20, 21, 22, 23, 24],\n",
       "           dtype=&#x27;int64&#x27;, name=&#x27;state_dev&#x27;))</pre></div></li></ul></div></li><li class='xr-section-item'><input id='section-19d7eb90-177f-496f-aeef-30fa1268e514' class='xr-section-summary-in' type='checkbox' disabled ><label for='section-19d7eb90-177f-496f-aeef-30fa1268e514' class='xr-section-summary'  title='Expand/collapse section'>Attributes: <span>(0)</span></label><div class='xr-section-inline-details'></div><div class='xr-section-details'><dl class='xr-attrs'></dl></div></li></ul></div></div>"
      ],
      "text/plain": [
       "<xarray.Dataset>\n",
       "Dimensions:    (ts_id: 3, state_dev: 25)\n",
       "Coordinates:\n",
       "    time       (ts_id, state_dev) object '2022-03-11' ... '2022-08-03'\n",
       "  * state_dev  (state_dev) int64 0 1 2 3 4 5 6 7 8 ... 17 18 19 20 21 22 23 24\n",
       "Dimensions without coordinates: ts_id\n",
       "Data variables:\n",
       "    red        (ts_id, state_dev) float32 1.541e+03 1.969e+03 ... 2.178e+03 nan\n",
       "    green      (ts_id, state_dev) float32 1.81e+03 1.842e+03 ... 2.14e+03 nan\n",
       "    blue       (ts_id, state_dev) float32 1.466e+03 1.57e+03 ... 1.754e+03 nan\n",
       "    B05        (ts_id, state_dev) float32 2.291e+03 2.428e+03 ... 2.977e+03 nan\n",
       "    B06        (ts_id, state_dev) float32 3.94e+03 3.188e+03 ... 4.259e+03 nan\n",
       "    B07        (ts_id, state_dev) float32 4.825e+03 3.533e+03 ... 4.862e+03 nan\n",
       "    nir        (ts_id, state_dev) float32 4.854e+03 3.466e+03 ... 4.787e+03 nan\n",
       "    B11        (ts_id, state_dev) float32 2.617e+03 3.081e+03 ... 3.931e+03 nan\n",
       "    SCL        (ts_id, state_dev) float32 4.0 4.51 7.0 4.037 ... 7.0 4.299 nan"
      ]
     },
     "execution_count": 349,
     "metadata": {},
     "output_type": "execute_result"
    }
   ],
   "source": [
    "xdf_concat.fillna(xdf_concat.mean('ts_id', skipna=True))"
   ]
  },
  {
   "cell_type": "code",
   "execution_count": 278,
   "id": "ef4a8309",
   "metadata": {},
   "outputs": [
    {
     "ename": "ValueError",
     "evalue": "conflicting multi-index level name 'time' with dimension 'time'",
     "output_type": "error",
     "traceback": [
      "\u001b[0;31m---------------------------------------------------------------------------\u001b[0m",
      "\u001b[0;31mValueError\u001b[0m                                Traceback (most recent call last)",
      "Cell \u001b[0;32mIn[278], line 2\u001b[0m\n\u001b[1;32m      1\u001b[0m index \u001b[39m=\u001b[39m pd\u001b[39m.\u001b[39mMultiIndex\u001b[39m.\u001b[39mfrom_arrays([xdf[\u001b[39m'\u001b[39m\u001b[39mtime\u001b[39m\u001b[39m'\u001b[39m]\u001b[39m.\u001b[39mvalues, np\u001b[39m.\u001b[39marange(\u001b[39m0\u001b[39m, xdf[\u001b[39m'\u001b[39m\u001b[39mtime\u001b[39m\u001b[39m'\u001b[39m]\u001b[39m.\u001b[39mshape[\u001b[39m0\u001b[39m])], names\u001b[39m=\u001b[39m[\u001b[39m'\u001b[39m\u001b[39mtime\u001b[39m\u001b[39m'\u001b[39m, \u001b[39m'\u001b[39m\u001b[39mstate_dev\u001b[39m\u001b[39m'\u001b[39m])\n\u001b[0;32m----> 2\u001b[0m xdf\u001b[39m.\u001b[39;49massign_coords({\u001b[39m'\u001b[39;49m\u001b[39mtime\u001b[39;49m\u001b[39m'\u001b[39;49m: index})\n",
      "File \u001b[0;32m/opt/anaconda3/envs/ey-2023/lib/python3.9/site-packages/xarray/core/common.py:605\u001b[0m, in \u001b[0;36mDataWithCoords.assign_coords\u001b[0;34m(self, coords, **coords_kwargs)\u001b[0m\n\u001b[1;32m    603\u001b[0m data \u001b[39m=\u001b[39m \u001b[39mself\u001b[39m\u001b[39m.\u001b[39mcopy(deep\u001b[39m=\u001b[39m\u001b[39mFalse\u001b[39;00m)\n\u001b[1;32m    604\u001b[0m results: \u001b[39mdict\u001b[39m[Hashable, Any] \u001b[39m=\u001b[39m \u001b[39mself\u001b[39m\u001b[39m.\u001b[39m_calc_assign_results(coords_combined)\n\u001b[0;32m--> 605\u001b[0m data\u001b[39m.\u001b[39;49mcoords\u001b[39m.\u001b[39;49mupdate(results)\n\u001b[1;32m    606\u001b[0m \u001b[39mreturn\u001b[39;00m data\n",
      "File \u001b[0;32m/opt/anaconda3/envs/ey-2023/lib/python3.9/site-packages/xarray/core/coordinates.py:169\u001b[0m, in \u001b[0;36mCoordinates.update\u001b[0;34m(self, other)\u001b[0m\n\u001b[1;32m    167\u001b[0m other_vars \u001b[39m=\u001b[39m \u001b[39mgetattr\u001b[39m(other, \u001b[39m\"\u001b[39m\u001b[39mvariables\u001b[39m\u001b[39m\"\u001b[39m, other)\n\u001b[1;32m    168\u001b[0m \u001b[39mself\u001b[39m\u001b[39m.\u001b[39m_maybe_drop_multiindex_coords(\u001b[39mset\u001b[39m(other_vars))\n\u001b[0;32m--> 169\u001b[0m coords, indexes \u001b[39m=\u001b[39m merge_coords(\n\u001b[1;32m    170\u001b[0m     [\u001b[39mself\u001b[39;49m\u001b[39m.\u001b[39;49mvariables, other_vars], priority_arg\u001b[39m=\u001b[39;49m\u001b[39m1\u001b[39;49m, indexes\u001b[39m=\u001b[39;49m\u001b[39mself\u001b[39;49m\u001b[39m.\u001b[39;49mxindexes\n\u001b[1;32m    171\u001b[0m )\n\u001b[1;32m    172\u001b[0m \u001b[39mself\u001b[39m\u001b[39m.\u001b[39m_update_coords(coords, indexes)\n",
      "File \u001b[0;32m/opt/anaconda3/envs/ey-2023/lib/python3.9/site-packages/xarray/core/merge.py:554\u001b[0m, in \u001b[0;36mmerge_coords\u001b[0;34m(objects, compat, join, priority_arg, indexes, fill_value)\u001b[0m\n\u001b[1;32m    550\u001b[0m aligned \u001b[39m=\u001b[39m deep_align(\n\u001b[1;32m    551\u001b[0m     coerced, join\u001b[39m=\u001b[39mjoin, copy\u001b[39m=\u001b[39m\u001b[39mFalse\u001b[39;00m, indexes\u001b[39m=\u001b[39mindexes, fill_value\u001b[39m=\u001b[39mfill_value\n\u001b[1;32m    552\u001b[0m )\n\u001b[1;32m    553\u001b[0m collected \u001b[39m=\u001b[39m collect_variables_and_indexes(aligned, indexes\u001b[39m=\u001b[39mindexes)\n\u001b[0;32m--> 554\u001b[0m prioritized \u001b[39m=\u001b[39m _get_priority_vars_and_indexes(aligned, priority_arg, compat\u001b[39m=\u001b[39;49mcompat)\n\u001b[1;32m    555\u001b[0m variables, out_indexes \u001b[39m=\u001b[39m merge_collected(collected, prioritized, compat\u001b[39m=\u001b[39mcompat)\n\u001b[1;32m    556\u001b[0m \u001b[39mreturn\u001b[39;00m variables, out_indexes\n",
      "File \u001b[0;32m/opt/anaconda3/envs/ey-2023/lib/python3.9/site-packages/xarray/core/merge.py:526\u001b[0m, in \u001b[0;36m_get_priority_vars_and_indexes\u001b[0;34m(objects, priority_arg, compat)\u001b[0m\n\u001b[1;32m    523\u001b[0m \u001b[39mif\u001b[39;00m priority_arg \u001b[39mis\u001b[39;00m \u001b[39mNone\u001b[39;00m:\n\u001b[1;32m    524\u001b[0m     \u001b[39mreturn\u001b[39;00m {}\n\u001b[0;32m--> 526\u001b[0m collected \u001b[39m=\u001b[39m collect_variables_and_indexes([objects[priority_arg]])\n\u001b[1;32m    527\u001b[0m variables, indexes \u001b[39m=\u001b[39m merge_collected(collected, compat\u001b[39m=\u001b[39mcompat)\n\u001b[1;32m    528\u001b[0m grouped: \u001b[39mdict\u001b[39m[Hashable, MergeElement] \u001b[39m=\u001b[39m {}\n",
      "File \u001b[0;32m/opt/anaconda3/envs/ey-2023/lib/python3.9/site-packages/xarray/core/merge.py:358\u001b[0m, in \u001b[0;36mcollect_variables_and_indexes\u001b[0;34m(list_of_mappings, indexes)\u001b[0m\n\u001b[1;32m    356\u001b[0m     append(name, variable, indexes[name])\n\u001b[1;32m    357\u001b[0m \u001b[39melif\u001b[39;00m variable\u001b[39m.\u001b[39mdims \u001b[39m==\u001b[39m (name,):\n\u001b[0;32m--> 358\u001b[0m     idx, idx_vars \u001b[39m=\u001b[39m create_default_index_implicit(variable)\n\u001b[1;32m    359\u001b[0m     append_all(idx_vars, {k: idx \u001b[39mfor\u001b[39;00m k \u001b[39min\u001b[39;00m idx_vars})\n\u001b[1;32m    360\u001b[0m \u001b[39melse\u001b[39;00m:\n",
      "File \u001b[0;32m/opt/anaconda3/envs/ey-2023/lib/python3.9/site-packages/xarray/core/indexes.py:1046\u001b[0m, in \u001b[0;36mcreate_default_index_implicit\u001b[0;34m(dim_variable, all_variables)\u001b[0m\n\u001b[1;32m   1043\u001b[0m index: PandasIndex\n\u001b[1;32m   1045\u001b[0m \u001b[39mif\u001b[39;00m \u001b[39misinstance\u001b[39m(array, pd\u001b[39m.\u001b[39mMultiIndex):\n\u001b[0;32m-> 1046\u001b[0m     index \u001b[39m=\u001b[39m PandasMultiIndex(array, name)\n\u001b[1;32m   1047\u001b[0m     index_vars \u001b[39m=\u001b[39m index\u001b[39m.\u001b[39mcreate_variables()\n\u001b[1;32m   1048\u001b[0m     \u001b[39m# check for conflict between level names and variable names\u001b[39;00m\n",
      "File \u001b[0;32m/opt/anaconda3/envs/ey-2023/lib/python3.9/site-packages/xarray/core/indexes.py:616\u001b[0m, in \u001b[0;36mPandasMultiIndex.__init__\u001b[0;34m(self, array, dim, level_coords_dtype)\u001b[0m\n\u001b[1;32m    614\u001b[0m     name \u001b[39m=\u001b[39m idx\u001b[39m.\u001b[39mname \u001b[39mor\u001b[39;00m \u001b[39mf\u001b[39m\u001b[39m\"\u001b[39m\u001b[39m{\u001b[39;00mdim\u001b[39m}\u001b[39;00m\u001b[39m_level_\u001b[39m\u001b[39m{\u001b[39;00mi\u001b[39m}\u001b[39;00m\u001b[39m\"\u001b[39m\n\u001b[1;32m    615\u001b[0m     \u001b[39mif\u001b[39;00m name \u001b[39m==\u001b[39m dim:\n\u001b[0;32m--> 616\u001b[0m         \u001b[39mraise\u001b[39;00m \u001b[39mValueError\u001b[39;00m(\n\u001b[1;32m    617\u001b[0m             \u001b[39mf\u001b[39m\u001b[39m\"\u001b[39m\u001b[39mconflicting multi-index level name \u001b[39m\u001b[39m{\u001b[39;00mname\u001b[39m!r}\u001b[39;00m\u001b[39m with dimension \u001b[39m\u001b[39m{\u001b[39;00mdim\u001b[39m!r}\u001b[39;00m\u001b[39m\"\u001b[39m\n\u001b[1;32m    618\u001b[0m         )\n\u001b[1;32m    619\u001b[0m     names\u001b[39m.\u001b[39mappend(name)\n\u001b[1;32m    620\u001b[0m \u001b[39mself\u001b[39m\u001b[39m.\u001b[39mindex\u001b[39m.\u001b[39mnames \u001b[39m=\u001b[39m names\n",
      "\u001b[0;31mValueError\u001b[0m: conflicting multi-index level name 'time' with dimension 'time'"
     ]
    }
   ],
   "source": [
    "# index = pd.MultiIndex.from_arrays([xdf['time'].values, np.arange(0, xdf['time'].shape[0])], names=['time', 'state_dev'])\n",
    "# xdf.assign_coords({'time': index})"
   ]
  },
  {
   "cell_type": "code",
   "execution_count": null,
   "id": "2d741a47",
   "metadata": {},
   "outputs": [],
   "source": []
  },
  {
   "cell_type": "code",
   "execution_count": 136,
   "id": "06ddb910",
   "metadata": {},
   "outputs": [
    {
     "data": {
      "application/vnd.plotly.v1+json": {
       "config": {
        "plotlyServerURL": "https://plot.ly"
       },
       "data": [
        {
         "hovertemplate": "variable=wide_variable_0<br>x=%{x}<br>value=%{y}<extra></extra>",
         "legendgroup": "wide_variable_0",
         "line": {
          "color": "#636efa",
          "dash": "solid"
         },
         "marker": {
          "symbol": "circle"
         },
         "mode": "lines",
         "name": "wide_variable_0",
         "orientation": "v",
         "showlegend": true,
         "type": "scatter",
         "x": [
          "2022-07-14T00:00:00",
          "2022-07-09T00:00:00",
          "2022-07-04T00:00:00",
          "2022-06-29T00:00:00",
          "2022-06-24T00:00:00",
          "2022-06-19T00:00:00",
          "2022-06-14T00:00:00",
          "2022-06-09T00:00:00",
          "2022-06-04T00:00:00",
          "2022-05-30T00:00:00",
          "2022-05-25T00:00:00",
          "2022-05-20T00:00:00",
          "2022-05-15T00:00:00",
          "2022-05-10T00:00:00",
          "2022-04-30T00:00:00",
          "2022-04-25T00:00:00",
          "2022-04-20T00:00:00",
          "2022-04-15T00:00:00",
          "2022-04-10T00:00:00",
          "2022-04-05T00:00:00",
          "2022-03-31T00:00:00",
          "2022-03-26T00:00:00",
          "2022-03-21T00:00:00",
          "2022-03-16T00:00:00"
         ],
         "xaxis": "x",
         "y": [
          null,
          null,
          null,
          null,
          0.5072575211524963,
          0.5606372952461243,
          null,
          0.5151475071907043,
          0.5433816313743591,
          null,
          0.48496049642562866,
          0.37346988916397095,
          0.38841408491134644,
          null,
          null,
          0.07789895683526993,
          0.005179576110094786,
          null,
          0.06509635597467422,
          0.24279434978961945,
          0.31734007596969604,
          0.42478346824645996,
          0.243865966796875,
          null
         ],
         "yaxis": "y"
        },
        {
         "hovertemplate": "variable=wide_variable_1<br>x=%{x}<br>value=%{y}<extra></extra>",
         "legendgroup": "wide_variable_1",
         "line": {
          "color": "#EF553B",
          "dash": "solid"
         },
         "marker": {
          "symbol": "circle"
         },
         "mode": "lines",
         "name": "wide_variable_1",
         "orientation": "v",
         "showlegend": true,
         "type": "scatter",
         "x": [
          "2022-07-14T00:00:00",
          "2022-07-09T00:00:00",
          "2022-07-04T00:00:00",
          "2022-06-29T00:00:00",
          "2022-06-24T00:00:00",
          "2022-06-19T00:00:00",
          "2022-06-14T00:00:00",
          "2022-06-09T00:00:00",
          "2022-06-04T00:00:00",
          "2022-05-30T00:00:00",
          "2022-05-25T00:00:00",
          "2022-05-20T00:00:00",
          "2022-05-15T00:00:00",
          "2022-05-10T00:00:00",
          "2022-04-30T00:00:00",
          "2022-04-25T00:00:00",
          "2022-04-20T00:00:00",
          "2022-04-15T00:00:00",
          "2022-04-10T00:00:00",
          "2022-04-05T00:00:00",
          "2022-03-31T00:00:00",
          "2022-03-26T00:00:00",
          "2022-03-21T00:00:00",
          "2022-03-16T00:00:00"
         ],
         "xaxis": "x",
         "y": [
          0.1913146674633026,
          0.3742886185646057,
          0.11295536160469055,
          0.1672661155462265,
          0.40197235345840454,
          0.20667409896850586,
          0.3295622169971466,
          0.5151475071907043,
          0.5433816313743591,
          0.16397233307361603,
          0.48496049642562866,
          0.3732358515262604,
          0.3853597640991211,
          -0.002254339400678873,
          0.012768932618200779,
          0.07798980921506882,
          0.015036171302199364,
          -0.06666956096887589,
          0.051140494644641876,
          0.2665747404098511,
          0.2460085153579712,
          0.1649174988269806,
          0.23431085050106049,
          -0.0011005450505763292
         ],
         "yaxis": "y"
        }
       ],
       "layout": {
        "legend": {
         "title": {
          "text": "variable"
         },
         "tracegroupgap": 0
        },
        "margin": {
         "t": 60
        },
        "template": {
         "data": {
          "bar": [
           {
            "error_x": {
             "color": "#2a3f5f"
            },
            "error_y": {
             "color": "#2a3f5f"
            },
            "marker": {
             "line": {
              "color": "#E5ECF6",
              "width": 0.5
             },
             "pattern": {
              "fillmode": "overlay",
              "size": 10,
              "solidity": 0.2
             }
            },
            "type": "bar"
           }
          ],
          "barpolar": [
           {
            "marker": {
             "line": {
              "color": "#E5ECF6",
              "width": 0.5
             },
             "pattern": {
              "fillmode": "overlay",
              "size": 10,
              "solidity": 0.2
             }
            },
            "type": "barpolar"
           }
          ],
          "carpet": [
           {
            "aaxis": {
             "endlinecolor": "#2a3f5f",
             "gridcolor": "white",
             "linecolor": "white",
             "minorgridcolor": "white",
             "startlinecolor": "#2a3f5f"
            },
            "baxis": {
             "endlinecolor": "#2a3f5f",
             "gridcolor": "white",
             "linecolor": "white",
             "minorgridcolor": "white",
             "startlinecolor": "#2a3f5f"
            },
            "type": "carpet"
           }
          ],
          "choropleth": [
           {
            "colorbar": {
             "outlinewidth": 0,
             "ticks": ""
            },
            "type": "choropleth"
           }
          ],
          "contour": [
           {
            "colorbar": {
             "outlinewidth": 0,
             "ticks": ""
            },
            "colorscale": [
             [
              0,
              "#0d0887"
             ],
             [
              0.1111111111111111,
              "#46039f"
             ],
             [
              0.2222222222222222,
              "#7201a8"
             ],
             [
              0.3333333333333333,
              "#9c179e"
             ],
             [
              0.4444444444444444,
              "#bd3786"
             ],
             [
              0.5555555555555556,
              "#d8576b"
             ],
             [
              0.6666666666666666,
              "#ed7953"
             ],
             [
              0.7777777777777778,
              "#fb9f3a"
             ],
             [
              0.8888888888888888,
              "#fdca26"
             ],
             [
              1,
              "#f0f921"
             ]
            ],
            "type": "contour"
           }
          ],
          "contourcarpet": [
           {
            "colorbar": {
             "outlinewidth": 0,
             "ticks": ""
            },
            "type": "contourcarpet"
           }
          ],
          "heatmap": [
           {
            "colorbar": {
             "outlinewidth": 0,
             "ticks": ""
            },
            "colorscale": [
             [
              0,
              "#0d0887"
             ],
             [
              0.1111111111111111,
              "#46039f"
             ],
             [
              0.2222222222222222,
              "#7201a8"
             ],
             [
              0.3333333333333333,
              "#9c179e"
             ],
             [
              0.4444444444444444,
              "#bd3786"
             ],
             [
              0.5555555555555556,
              "#d8576b"
             ],
             [
              0.6666666666666666,
              "#ed7953"
             ],
             [
              0.7777777777777778,
              "#fb9f3a"
             ],
             [
              0.8888888888888888,
              "#fdca26"
             ],
             [
              1,
              "#f0f921"
             ]
            ],
            "type": "heatmap"
           }
          ],
          "heatmapgl": [
           {
            "colorbar": {
             "outlinewidth": 0,
             "ticks": ""
            },
            "colorscale": [
             [
              0,
              "#0d0887"
             ],
             [
              0.1111111111111111,
              "#46039f"
             ],
             [
              0.2222222222222222,
              "#7201a8"
             ],
             [
              0.3333333333333333,
              "#9c179e"
             ],
             [
              0.4444444444444444,
              "#bd3786"
             ],
             [
              0.5555555555555556,
              "#d8576b"
             ],
             [
              0.6666666666666666,
              "#ed7953"
             ],
             [
              0.7777777777777778,
              "#fb9f3a"
             ],
             [
              0.8888888888888888,
              "#fdca26"
             ],
             [
              1,
              "#f0f921"
             ]
            ],
            "type": "heatmapgl"
           }
          ],
          "histogram": [
           {
            "marker": {
             "pattern": {
              "fillmode": "overlay",
              "size": 10,
              "solidity": 0.2
             }
            },
            "type": "histogram"
           }
          ],
          "histogram2d": [
           {
            "colorbar": {
             "outlinewidth": 0,
             "ticks": ""
            },
            "colorscale": [
             [
              0,
              "#0d0887"
             ],
             [
              0.1111111111111111,
              "#46039f"
             ],
             [
              0.2222222222222222,
              "#7201a8"
             ],
             [
              0.3333333333333333,
              "#9c179e"
             ],
             [
              0.4444444444444444,
              "#bd3786"
             ],
             [
              0.5555555555555556,
              "#d8576b"
             ],
             [
              0.6666666666666666,
              "#ed7953"
             ],
             [
              0.7777777777777778,
              "#fb9f3a"
             ],
             [
              0.8888888888888888,
              "#fdca26"
             ],
             [
              1,
              "#f0f921"
             ]
            ],
            "type": "histogram2d"
           }
          ],
          "histogram2dcontour": [
           {
            "colorbar": {
             "outlinewidth": 0,
             "ticks": ""
            },
            "colorscale": [
             [
              0,
              "#0d0887"
             ],
             [
              0.1111111111111111,
              "#46039f"
             ],
             [
              0.2222222222222222,
              "#7201a8"
             ],
             [
              0.3333333333333333,
              "#9c179e"
             ],
             [
              0.4444444444444444,
              "#bd3786"
             ],
             [
              0.5555555555555556,
              "#d8576b"
             ],
             [
              0.6666666666666666,
              "#ed7953"
             ],
             [
              0.7777777777777778,
              "#fb9f3a"
             ],
             [
              0.8888888888888888,
              "#fdca26"
             ],
             [
              1,
              "#f0f921"
             ]
            ],
            "type": "histogram2dcontour"
           }
          ],
          "mesh3d": [
           {
            "colorbar": {
             "outlinewidth": 0,
             "ticks": ""
            },
            "type": "mesh3d"
           }
          ],
          "parcoords": [
           {
            "line": {
             "colorbar": {
              "outlinewidth": 0,
              "ticks": ""
             }
            },
            "type": "parcoords"
           }
          ],
          "pie": [
           {
            "automargin": true,
            "type": "pie"
           }
          ],
          "scatter": [
           {
            "fillpattern": {
             "fillmode": "overlay",
             "size": 10,
             "solidity": 0.2
            },
            "type": "scatter"
           }
          ],
          "scatter3d": [
           {
            "line": {
             "colorbar": {
              "outlinewidth": 0,
              "ticks": ""
             }
            },
            "marker": {
             "colorbar": {
              "outlinewidth": 0,
              "ticks": ""
             }
            },
            "type": "scatter3d"
           }
          ],
          "scattercarpet": [
           {
            "marker": {
             "colorbar": {
              "outlinewidth": 0,
              "ticks": ""
             }
            },
            "type": "scattercarpet"
           }
          ],
          "scattergeo": [
           {
            "marker": {
             "colorbar": {
              "outlinewidth": 0,
              "ticks": ""
             }
            },
            "type": "scattergeo"
           }
          ],
          "scattergl": [
           {
            "marker": {
             "colorbar": {
              "outlinewidth": 0,
              "ticks": ""
             }
            },
            "type": "scattergl"
           }
          ],
          "scattermapbox": [
           {
            "marker": {
             "colorbar": {
              "outlinewidth": 0,
              "ticks": ""
             }
            },
            "type": "scattermapbox"
           }
          ],
          "scatterpolar": [
           {
            "marker": {
             "colorbar": {
              "outlinewidth": 0,
              "ticks": ""
             }
            },
            "type": "scatterpolar"
           }
          ],
          "scatterpolargl": [
           {
            "marker": {
             "colorbar": {
              "outlinewidth": 0,
              "ticks": ""
             }
            },
            "type": "scatterpolargl"
           }
          ],
          "scatterternary": [
           {
            "marker": {
             "colorbar": {
              "outlinewidth": 0,
              "ticks": ""
             }
            },
            "type": "scatterternary"
           }
          ],
          "surface": [
           {
            "colorbar": {
             "outlinewidth": 0,
             "ticks": ""
            },
            "colorscale": [
             [
              0,
              "#0d0887"
             ],
             [
              0.1111111111111111,
              "#46039f"
             ],
             [
              0.2222222222222222,
              "#7201a8"
             ],
             [
              0.3333333333333333,
              "#9c179e"
             ],
             [
              0.4444444444444444,
              "#bd3786"
             ],
             [
              0.5555555555555556,
              "#d8576b"
             ],
             [
              0.6666666666666666,
              "#ed7953"
             ],
             [
              0.7777777777777778,
              "#fb9f3a"
             ],
             [
              0.8888888888888888,
              "#fdca26"
             ],
             [
              1,
              "#f0f921"
             ]
            ],
            "type": "surface"
           }
          ],
          "table": [
           {
            "cells": {
             "fill": {
              "color": "#EBF0F8"
             },
             "line": {
              "color": "white"
             }
            },
            "header": {
             "fill": {
              "color": "#C8D4E3"
             },
             "line": {
              "color": "white"
             }
            },
            "type": "table"
           }
          ]
         },
         "layout": {
          "annotationdefaults": {
           "arrowcolor": "#2a3f5f",
           "arrowhead": 0,
           "arrowwidth": 1
          },
          "autotypenumbers": "strict",
          "coloraxis": {
           "colorbar": {
            "outlinewidth": 0,
            "ticks": ""
           }
          },
          "colorscale": {
           "diverging": [
            [
             0,
             "#8e0152"
            ],
            [
             0.1,
             "#c51b7d"
            ],
            [
             0.2,
             "#de77ae"
            ],
            [
             0.3,
             "#f1b6da"
            ],
            [
             0.4,
             "#fde0ef"
            ],
            [
             0.5,
             "#f7f7f7"
            ],
            [
             0.6,
             "#e6f5d0"
            ],
            [
             0.7,
             "#b8e186"
            ],
            [
             0.8,
             "#7fbc41"
            ],
            [
             0.9,
             "#4d9221"
            ],
            [
             1,
             "#276419"
            ]
           ],
           "sequential": [
            [
             0,
             "#0d0887"
            ],
            [
             0.1111111111111111,
             "#46039f"
            ],
            [
             0.2222222222222222,
             "#7201a8"
            ],
            [
             0.3333333333333333,
             "#9c179e"
            ],
            [
             0.4444444444444444,
             "#bd3786"
            ],
            [
             0.5555555555555556,
             "#d8576b"
            ],
            [
             0.6666666666666666,
             "#ed7953"
            ],
            [
             0.7777777777777778,
             "#fb9f3a"
            ],
            [
             0.8888888888888888,
             "#fdca26"
            ],
            [
             1,
             "#f0f921"
            ]
           ],
           "sequentialminus": [
            [
             0,
             "#0d0887"
            ],
            [
             0.1111111111111111,
             "#46039f"
            ],
            [
             0.2222222222222222,
             "#7201a8"
            ],
            [
             0.3333333333333333,
             "#9c179e"
            ],
            [
             0.4444444444444444,
             "#bd3786"
            ],
            [
             0.5555555555555556,
             "#d8576b"
            ],
            [
             0.6666666666666666,
             "#ed7953"
            ],
            [
             0.7777777777777778,
             "#fb9f3a"
            ],
            [
             0.8888888888888888,
             "#fdca26"
            ],
            [
             1,
             "#f0f921"
            ]
           ]
          },
          "colorway": [
           "#636efa",
           "#EF553B",
           "#00cc96",
           "#ab63fa",
           "#FFA15A",
           "#19d3f3",
           "#FF6692",
           "#B6E880",
           "#FF97FF",
           "#FECB52"
          ],
          "font": {
           "color": "#2a3f5f"
          },
          "geo": {
           "bgcolor": "white",
           "lakecolor": "white",
           "landcolor": "#E5ECF6",
           "showlakes": true,
           "showland": true,
           "subunitcolor": "white"
          },
          "hoverlabel": {
           "align": "left"
          },
          "hovermode": "closest",
          "mapbox": {
           "style": "light"
          },
          "paper_bgcolor": "white",
          "plot_bgcolor": "#E5ECF6",
          "polar": {
           "angularaxis": {
            "gridcolor": "white",
            "linecolor": "white",
            "ticks": ""
           },
           "bgcolor": "#E5ECF6",
           "radialaxis": {
            "gridcolor": "white",
            "linecolor": "white",
            "ticks": ""
           }
          },
          "scene": {
           "xaxis": {
            "backgroundcolor": "#E5ECF6",
            "gridcolor": "white",
            "gridwidth": 2,
            "linecolor": "white",
            "showbackground": true,
            "ticks": "",
            "zerolinecolor": "white"
           },
           "yaxis": {
            "backgroundcolor": "#E5ECF6",
            "gridcolor": "white",
            "gridwidth": 2,
            "linecolor": "white",
            "showbackground": true,
            "ticks": "",
            "zerolinecolor": "white"
           },
           "zaxis": {
            "backgroundcolor": "#E5ECF6",
            "gridcolor": "white",
            "gridwidth": 2,
            "linecolor": "white",
            "showbackground": true,
            "ticks": "",
            "zerolinecolor": "white"
           }
          },
          "shapedefaults": {
           "line": {
            "color": "#2a3f5f"
           }
          },
          "ternary": {
           "aaxis": {
            "gridcolor": "white",
            "linecolor": "white",
            "ticks": ""
           },
           "baxis": {
            "gridcolor": "white",
            "linecolor": "white",
            "ticks": ""
           },
           "bgcolor": "#E5ECF6",
           "caxis": {
            "gridcolor": "white",
            "linecolor": "white",
            "ticks": ""
           }
          },
          "title": {
           "x": 0.05
          },
          "xaxis": {
           "automargin": true,
           "gridcolor": "white",
           "linecolor": "white",
           "ticks": "",
           "title": {
            "standoff": 15
           },
           "zerolinecolor": "white",
           "zerolinewidth": 2
          },
          "yaxis": {
           "automargin": true,
           "gridcolor": "white",
           "linecolor": "white",
           "ticks": "",
           "title": {
            "standoff": 15
           },
           "zerolinecolor": "white",
           "zerolinewidth": 2
          }
         }
        },
        "xaxis": {
         "anchor": "y",
         "domain": [
          0,
          1
         ],
         "title": {
          "text": "x"
         }
        },
        "yaxis": {
         "anchor": "x",
         "domain": [
          0,
          1
         ],
         "title": {
          "text": "value"
         }
        }
       }
      }
     },
     "metadata": {},
     "output_type": "display_data"
    }
   ],
   "source": [
    "fig = px.line(y=[(data_filter.nir - data_filter.red) / (data_filter.nir + data_filter.red), (data.nir - data.red) / (data.nir + data.red)], x=data.time)\n",
    "fig.show()"
   ]
  },
  {
   "attachments": {},
   "cell_type": "markdown",
   "id": "eccd04c5",
   "metadata": {},
   "source": [
    "Fill using mean of diff between data and filtered data adding to data to obtain filtered data "
   ]
  },
  {
   "cell_type": "code",
   "execution_count": 132,
   "id": "479697ef",
   "metadata": {},
   "outputs": [],
   "source": [
    "test = (data[['red','green', 'blue', 'rededge1', 'rededge2', 'rededge3', 'nir', 'swir']] - data_filter[['red','green', 'blue', 'rededge1', 'rededge2', 'rededge3', 'nir', 'swir']]).mean()\n",
    "df_test = data_filter.copy(deep=True)\n",
    "\n",
    "df_test.loc[:, ['red','green', 'blue', 'rededge1', 'rededge2', 'rededge3', 'nir', 'swir']] = df_test[['red','green', 'blue', 'rededge1', 'rededge2', 'rededge3', 'nir', 'swir']].fillna(data[['red','green', 'blue', 'rededge1', 'rededge2', 'rededge3', 'nir', 'swir']] - test)"
   ]
  },
  {
   "cell_type": "code",
   "execution_count": 135,
   "id": "5515a32e",
   "metadata": {},
   "outputs": [
    {
     "data": {
      "application/vnd.plotly.v1+json": {
       "config": {
        "plotlyServerURL": "https://plot.ly"
       },
       "data": [
        {
         "hovertemplate": "variable=wide_variable_0<br>x=%{x}<br>value=%{y}<extra></extra>",
         "legendgroup": "wide_variable_0",
         "line": {
          "color": "#636efa",
          "dash": "solid"
         },
         "marker": {
          "symbol": "circle"
         },
         "mode": "lines",
         "name": "wide_variable_0",
         "orientation": "v",
         "showlegend": true,
         "type": "scatter",
         "x": [
          "2022-07-14T00:00:00",
          "2022-07-09T00:00:00",
          "2022-07-04T00:00:00",
          "2022-06-29T00:00:00",
          "2022-06-24T00:00:00",
          "2022-06-19T00:00:00",
          "2022-06-14T00:00:00",
          "2022-06-09T00:00:00",
          "2022-06-04T00:00:00",
          "2022-05-30T00:00:00",
          "2022-05-25T00:00:00",
          "2022-05-20T00:00:00",
          "2022-05-15T00:00:00",
          "2022-05-10T00:00:00",
          "2022-04-30T00:00:00",
          "2022-04-25T00:00:00",
          "2022-04-20T00:00:00",
          "2022-04-15T00:00:00",
          "2022-04-10T00:00:00",
          "2022-04-05T00:00:00",
          "2022-03-31T00:00:00",
          "2022-03-26T00:00:00",
          "2022-03-21T00:00:00",
          "2022-03-16T00:00:00"
         ],
         "xaxis": "x",
         "y": [
          0.2412737011909485,
          0.4492104649543762,
          0.14351487159729004,
          0.21142800152301788,
          0.5072575211524963,
          0.5606372952461243,
          0.3839290142059326,
          0.5151475071907043,
          0.5433816313743591,
          0.2035139948129654,
          0.48496049642562866,
          0.37346988916397095,
          0.38841408491134644,
          0.017544399946928024,
          0.03940625116229057,
          0.07789895683526993,
          0.005179576110094786,
          -0.053629904985427856,
          0.06509635597467422,
          0.24279434978961945,
          0.31734007596969604,
          0.42478346824645996,
          0.243865966796875,
          0.01766992174088955
         ],
         "yaxis": "y"
        },
        {
         "hovertemplate": "variable=wide_variable_1<br>x=%{x}<br>value=%{y}<extra></extra>",
         "legendgroup": "wide_variable_1",
         "line": {
          "color": "#EF553B",
          "dash": "solid"
         },
         "marker": {
          "symbol": "circle"
         },
         "mode": "lines",
         "name": "wide_variable_1",
         "orientation": "v",
         "showlegend": true,
         "type": "scatter",
         "x": [
          "2022-07-14T00:00:00",
          "2022-07-09T00:00:00",
          "2022-07-04T00:00:00",
          "2022-06-29T00:00:00",
          "2022-06-24T00:00:00",
          "2022-06-19T00:00:00",
          "2022-06-14T00:00:00",
          "2022-06-09T00:00:00",
          "2022-06-04T00:00:00",
          "2022-05-30T00:00:00",
          "2022-05-25T00:00:00",
          "2022-05-20T00:00:00",
          "2022-05-15T00:00:00",
          "2022-05-10T00:00:00",
          "2022-04-30T00:00:00",
          "2022-04-25T00:00:00",
          "2022-04-20T00:00:00",
          "2022-04-15T00:00:00",
          "2022-04-10T00:00:00",
          "2022-04-05T00:00:00",
          "2022-03-31T00:00:00",
          "2022-03-26T00:00:00",
          "2022-03-21T00:00:00",
          "2022-03-16T00:00:00"
         ],
         "xaxis": "x",
         "y": [
          0.1913146674633026,
          0.3742886185646057,
          0.11295536160469055,
          0.1672661155462265,
          0.40197235345840454,
          0.20667409896850586,
          0.3295622169971466,
          0.5151475071907043,
          0.5433816313743591,
          0.16397233307361603,
          0.48496049642562866,
          0.3732358515262604,
          0.3853597640991211,
          -0.002254339400678873,
          0.012768932618200779,
          0.07798980921506882,
          0.015036171302199364,
          -0.06666956096887589,
          0.051140494644641876,
          0.2665747404098511,
          0.2460085153579712,
          0.1649174988269806,
          0.23431085050106049,
          -0.0011005450505763292
         ],
         "yaxis": "y"
        }
       ],
       "layout": {
        "legend": {
         "title": {
          "text": "variable"
         },
         "tracegroupgap": 0
        },
        "margin": {
         "t": 60
        },
        "template": {
         "data": {
          "bar": [
           {
            "error_x": {
             "color": "#2a3f5f"
            },
            "error_y": {
             "color": "#2a3f5f"
            },
            "marker": {
             "line": {
              "color": "#E5ECF6",
              "width": 0.5
             },
             "pattern": {
              "fillmode": "overlay",
              "size": 10,
              "solidity": 0.2
             }
            },
            "type": "bar"
           }
          ],
          "barpolar": [
           {
            "marker": {
             "line": {
              "color": "#E5ECF6",
              "width": 0.5
             },
             "pattern": {
              "fillmode": "overlay",
              "size": 10,
              "solidity": 0.2
             }
            },
            "type": "barpolar"
           }
          ],
          "carpet": [
           {
            "aaxis": {
             "endlinecolor": "#2a3f5f",
             "gridcolor": "white",
             "linecolor": "white",
             "minorgridcolor": "white",
             "startlinecolor": "#2a3f5f"
            },
            "baxis": {
             "endlinecolor": "#2a3f5f",
             "gridcolor": "white",
             "linecolor": "white",
             "minorgridcolor": "white",
             "startlinecolor": "#2a3f5f"
            },
            "type": "carpet"
           }
          ],
          "choropleth": [
           {
            "colorbar": {
             "outlinewidth": 0,
             "ticks": ""
            },
            "type": "choropleth"
           }
          ],
          "contour": [
           {
            "colorbar": {
             "outlinewidth": 0,
             "ticks": ""
            },
            "colorscale": [
             [
              0,
              "#0d0887"
             ],
             [
              0.1111111111111111,
              "#46039f"
             ],
             [
              0.2222222222222222,
              "#7201a8"
             ],
             [
              0.3333333333333333,
              "#9c179e"
             ],
             [
              0.4444444444444444,
              "#bd3786"
             ],
             [
              0.5555555555555556,
              "#d8576b"
             ],
             [
              0.6666666666666666,
              "#ed7953"
             ],
             [
              0.7777777777777778,
              "#fb9f3a"
             ],
             [
              0.8888888888888888,
              "#fdca26"
             ],
             [
              1,
              "#f0f921"
             ]
            ],
            "type": "contour"
           }
          ],
          "contourcarpet": [
           {
            "colorbar": {
             "outlinewidth": 0,
             "ticks": ""
            },
            "type": "contourcarpet"
           }
          ],
          "heatmap": [
           {
            "colorbar": {
             "outlinewidth": 0,
             "ticks": ""
            },
            "colorscale": [
             [
              0,
              "#0d0887"
             ],
             [
              0.1111111111111111,
              "#46039f"
             ],
             [
              0.2222222222222222,
              "#7201a8"
             ],
             [
              0.3333333333333333,
              "#9c179e"
             ],
             [
              0.4444444444444444,
              "#bd3786"
             ],
             [
              0.5555555555555556,
              "#d8576b"
             ],
             [
              0.6666666666666666,
              "#ed7953"
             ],
             [
              0.7777777777777778,
              "#fb9f3a"
             ],
             [
              0.8888888888888888,
              "#fdca26"
             ],
             [
              1,
              "#f0f921"
             ]
            ],
            "type": "heatmap"
           }
          ],
          "heatmapgl": [
           {
            "colorbar": {
             "outlinewidth": 0,
             "ticks": ""
            },
            "colorscale": [
             [
              0,
              "#0d0887"
             ],
             [
              0.1111111111111111,
              "#46039f"
             ],
             [
              0.2222222222222222,
              "#7201a8"
             ],
             [
              0.3333333333333333,
              "#9c179e"
             ],
             [
              0.4444444444444444,
              "#bd3786"
             ],
             [
              0.5555555555555556,
              "#d8576b"
             ],
             [
              0.6666666666666666,
              "#ed7953"
             ],
             [
              0.7777777777777778,
              "#fb9f3a"
             ],
             [
              0.8888888888888888,
              "#fdca26"
             ],
             [
              1,
              "#f0f921"
             ]
            ],
            "type": "heatmapgl"
           }
          ],
          "histogram": [
           {
            "marker": {
             "pattern": {
              "fillmode": "overlay",
              "size": 10,
              "solidity": 0.2
             }
            },
            "type": "histogram"
           }
          ],
          "histogram2d": [
           {
            "colorbar": {
             "outlinewidth": 0,
             "ticks": ""
            },
            "colorscale": [
             [
              0,
              "#0d0887"
             ],
             [
              0.1111111111111111,
              "#46039f"
             ],
             [
              0.2222222222222222,
              "#7201a8"
             ],
             [
              0.3333333333333333,
              "#9c179e"
             ],
             [
              0.4444444444444444,
              "#bd3786"
             ],
             [
              0.5555555555555556,
              "#d8576b"
             ],
             [
              0.6666666666666666,
              "#ed7953"
             ],
             [
              0.7777777777777778,
              "#fb9f3a"
             ],
             [
              0.8888888888888888,
              "#fdca26"
             ],
             [
              1,
              "#f0f921"
             ]
            ],
            "type": "histogram2d"
           }
          ],
          "histogram2dcontour": [
           {
            "colorbar": {
             "outlinewidth": 0,
             "ticks": ""
            },
            "colorscale": [
             [
              0,
              "#0d0887"
             ],
             [
              0.1111111111111111,
              "#46039f"
             ],
             [
              0.2222222222222222,
              "#7201a8"
             ],
             [
              0.3333333333333333,
              "#9c179e"
             ],
             [
              0.4444444444444444,
              "#bd3786"
             ],
             [
              0.5555555555555556,
              "#d8576b"
             ],
             [
              0.6666666666666666,
              "#ed7953"
             ],
             [
              0.7777777777777778,
              "#fb9f3a"
             ],
             [
              0.8888888888888888,
              "#fdca26"
             ],
             [
              1,
              "#f0f921"
             ]
            ],
            "type": "histogram2dcontour"
           }
          ],
          "mesh3d": [
           {
            "colorbar": {
             "outlinewidth": 0,
             "ticks": ""
            },
            "type": "mesh3d"
           }
          ],
          "parcoords": [
           {
            "line": {
             "colorbar": {
              "outlinewidth": 0,
              "ticks": ""
             }
            },
            "type": "parcoords"
           }
          ],
          "pie": [
           {
            "automargin": true,
            "type": "pie"
           }
          ],
          "scatter": [
           {
            "fillpattern": {
             "fillmode": "overlay",
             "size": 10,
             "solidity": 0.2
            },
            "type": "scatter"
           }
          ],
          "scatter3d": [
           {
            "line": {
             "colorbar": {
              "outlinewidth": 0,
              "ticks": ""
             }
            },
            "marker": {
             "colorbar": {
              "outlinewidth": 0,
              "ticks": ""
             }
            },
            "type": "scatter3d"
           }
          ],
          "scattercarpet": [
           {
            "marker": {
             "colorbar": {
              "outlinewidth": 0,
              "ticks": ""
             }
            },
            "type": "scattercarpet"
           }
          ],
          "scattergeo": [
           {
            "marker": {
             "colorbar": {
              "outlinewidth": 0,
              "ticks": ""
             }
            },
            "type": "scattergeo"
           }
          ],
          "scattergl": [
           {
            "marker": {
             "colorbar": {
              "outlinewidth": 0,
              "ticks": ""
             }
            },
            "type": "scattergl"
           }
          ],
          "scattermapbox": [
           {
            "marker": {
             "colorbar": {
              "outlinewidth": 0,
              "ticks": ""
             }
            },
            "type": "scattermapbox"
           }
          ],
          "scatterpolar": [
           {
            "marker": {
             "colorbar": {
              "outlinewidth": 0,
              "ticks": ""
             }
            },
            "type": "scatterpolar"
           }
          ],
          "scatterpolargl": [
           {
            "marker": {
             "colorbar": {
              "outlinewidth": 0,
              "ticks": ""
             }
            },
            "type": "scatterpolargl"
           }
          ],
          "scatterternary": [
           {
            "marker": {
             "colorbar": {
              "outlinewidth": 0,
              "ticks": ""
             }
            },
            "type": "scatterternary"
           }
          ],
          "surface": [
           {
            "colorbar": {
             "outlinewidth": 0,
             "ticks": ""
            },
            "colorscale": [
             [
              0,
              "#0d0887"
             ],
             [
              0.1111111111111111,
              "#46039f"
             ],
             [
              0.2222222222222222,
              "#7201a8"
             ],
             [
              0.3333333333333333,
              "#9c179e"
             ],
             [
              0.4444444444444444,
              "#bd3786"
             ],
             [
              0.5555555555555556,
              "#d8576b"
             ],
             [
              0.6666666666666666,
              "#ed7953"
             ],
             [
              0.7777777777777778,
              "#fb9f3a"
             ],
             [
              0.8888888888888888,
              "#fdca26"
             ],
             [
              1,
              "#f0f921"
             ]
            ],
            "type": "surface"
           }
          ],
          "table": [
           {
            "cells": {
             "fill": {
              "color": "#EBF0F8"
             },
             "line": {
              "color": "white"
             }
            },
            "header": {
             "fill": {
              "color": "#C8D4E3"
             },
             "line": {
              "color": "white"
             }
            },
            "type": "table"
           }
          ]
         },
         "layout": {
          "annotationdefaults": {
           "arrowcolor": "#2a3f5f",
           "arrowhead": 0,
           "arrowwidth": 1
          },
          "autotypenumbers": "strict",
          "coloraxis": {
           "colorbar": {
            "outlinewidth": 0,
            "ticks": ""
           }
          },
          "colorscale": {
           "diverging": [
            [
             0,
             "#8e0152"
            ],
            [
             0.1,
             "#c51b7d"
            ],
            [
             0.2,
             "#de77ae"
            ],
            [
             0.3,
             "#f1b6da"
            ],
            [
             0.4,
             "#fde0ef"
            ],
            [
             0.5,
             "#f7f7f7"
            ],
            [
             0.6,
             "#e6f5d0"
            ],
            [
             0.7,
             "#b8e186"
            ],
            [
             0.8,
             "#7fbc41"
            ],
            [
             0.9,
             "#4d9221"
            ],
            [
             1,
             "#276419"
            ]
           ],
           "sequential": [
            [
             0,
             "#0d0887"
            ],
            [
             0.1111111111111111,
             "#46039f"
            ],
            [
             0.2222222222222222,
             "#7201a8"
            ],
            [
             0.3333333333333333,
             "#9c179e"
            ],
            [
             0.4444444444444444,
             "#bd3786"
            ],
            [
             0.5555555555555556,
             "#d8576b"
            ],
            [
             0.6666666666666666,
             "#ed7953"
            ],
            [
             0.7777777777777778,
             "#fb9f3a"
            ],
            [
             0.8888888888888888,
             "#fdca26"
            ],
            [
             1,
             "#f0f921"
            ]
           ],
           "sequentialminus": [
            [
             0,
             "#0d0887"
            ],
            [
             0.1111111111111111,
             "#46039f"
            ],
            [
             0.2222222222222222,
             "#7201a8"
            ],
            [
             0.3333333333333333,
             "#9c179e"
            ],
            [
             0.4444444444444444,
             "#bd3786"
            ],
            [
             0.5555555555555556,
             "#d8576b"
            ],
            [
             0.6666666666666666,
             "#ed7953"
            ],
            [
             0.7777777777777778,
             "#fb9f3a"
            ],
            [
             0.8888888888888888,
             "#fdca26"
            ],
            [
             1,
             "#f0f921"
            ]
           ]
          },
          "colorway": [
           "#636efa",
           "#EF553B",
           "#00cc96",
           "#ab63fa",
           "#FFA15A",
           "#19d3f3",
           "#FF6692",
           "#B6E880",
           "#FF97FF",
           "#FECB52"
          ],
          "font": {
           "color": "#2a3f5f"
          },
          "geo": {
           "bgcolor": "white",
           "lakecolor": "white",
           "landcolor": "#E5ECF6",
           "showlakes": true,
           "showland": true,
           "subunitcolor": "white"
          },
          "hoverlabel": {
           "align": "left"
          },
          "hovermode": "closest",
          "mapbox": {
           "style": "light"
          },
          "paper_bgcolor": "white",
          "plot_bgcolor": "#E5ECF6",
          "polar": {
           "angularaxis": {
            "gridcolor": "white",
            "linecolor": "white",
            "ticks": ""
           },
           "bgcolor": "#E5ECF6",
           "radialaxis": {
            "gridcolor": "white",
            "linecolor": "white",
            "ticks": ""
           }
          },
          "scene": {
           "xaxis": {
            "backgroundcolor": "#E5ECF6",
            "gridcolor": "white",
            "gridwidth": 2,
            "linecolor": "white",
            "showbackground": true,
            "ticks": "",
            "zerolinecolor": "white"
           },
           "yaxis": {
            "backgroundcolor": "#E5ECF6",
            "gridcolor": "white",
            "gridwidth": 2,
            "linecolor": "white",
            "showbackground": true,
            "ticks": "",
            "zerolinecolor": "white"
           },
           "zaxis": {
            "backgroundcolor": "#E5ECF6",
            "gridcolor": "white",
            "gridwidth": 2,
            "linecolor": "white",
            "showbackground": true,
            "ticks": "",
            "zerolinecolor": "white"
           }
          },
          "shapedefaults": {
           "line": {
            "color": "#2a3f5f"
           }
          },
          "ternary": {
           "aaxis": {
            "gridcolor": "white",
            "linecolor": "white",
            "ticks": ""
           },
           "baxis": {
            "gridcolor": "white",
            "linecolor": "white",
            "ticks": ""
           },
           "bgcolor": "#E5ECF6",
           "caxis": {
            "gridcolor": "white",
            "linecolor": "white",
            "ticks": ""
           }
          },
          "title": {
           "x": 0.05
          },
          "xaxis": {
           "automargin": true,
           "gridcolor": "white",
           "linecolor": "white",
           "ticks": "",
           "title": {
            "standoff": 15
           },
           "zerolinecolor": "white",
           "zerolinewidth": 2
          },
          "yaxis": {
           "automargin": true,
           "gridcolor": "white",
           "linecolor": "white",
           "ticks": "",
           "title": {
            "standoff": 15
           },
           "zerolinecolor": "white",
           "zerolinewidth": 2
          }
         }
        },
        "xaxis": {
         "anchor": "y",
         "domain": [
          0,
          1
         ],
         "title": {
          "text": "x"
         }
        },
        "yaxis": {
         "anchor": "x",
         "domain": [
          0,
          1
         ],
         "title": {
          "text": "value"
         }
        }
       }
      }
     },
     "metadata": {},
     "output_type": "display_data"
    }
   ],
   "source": [
    "fig = px.line(y=[(df_test.nir - df_test.red) / (df_test.nir + df_test.red), (data.nir - data.red) / (data.nir + data.red)], x=df_test.time)\n",
    "fig.show()"
   ]
  },
  {
   "attachments": {},
   "cell_type": "markdown",
   "id": "593cd489",
   "metadata": {},
   "source": [
    "Fill using pandas interpolation"
   ]
  },
  {
   "cell_type": "code",
   "execution_count": 155,
   "id": "8a09a9a2",
   "metadata": {},
   "outputs": [],
   "source": [
    "df_test = data_filter.copy(deep=True)\n",
    "\n",
    "df_test.loc[:, ['red','green', 'blue', 'rededge1', 'rededge2', 'rededge3', 'nir', 'swir']] = df_test[['red','green', 'blue', 'rededge1', 'rededge2', 'rededge3', 'nir', 'swir']].interpolate(method=\"linear\", axis=\"index\", limit=4, limit_direction='both')"
   ]
  },
  {
   "cell_type": "code",
   "execution_count": 157,
   "id": "9e749cf2",
   "metadata": {},
   "outputs": [
    {
     "data": {
      "application/vnd.plotly.v1+json": {
       "config": {
        "plotlyServerURL": "https://plot.ly"
       },
       "data": [
        {
         "hovertemplate": "variable=wide_variable_0<br>x=%{x}<br>value=%{y}<extra></extra>",
         "legendgroup": "wide_variable_0",
         "line": {
          "color": "#636efa",
          "dash": "solid"
         },
         "marker": {
          "symbol": "circle"
         },
         "mode": "lines",
         "name": "wide_variable_0",
         "orientation": "v",
         "showlegend": true,
         "type": "scatter",
         "x": [
          "2022-07-14T00:00:00",
          "2022-07-09T00:00:00",
          "2022-07-04T00:00:00",
          "2022-06-29T00:00:00",
          "2022-06-24T00:00:00",
          "2022-06-19T00:00:00",
          "2022-06-14T00:00:00",
          "2022-06-09T00:00:00",
          "2022-06-04T00:00:00",
          "2022-05-30T00:00:00",
          "2022-05-25T00:00:00",
          "2022-05-20T00:00:00",
          "2022-05-15T00:00:00",
          "2022-05-10T00:00:00",
          "2022-04-30T00:00:00",
          "2022-04-25T00:00:00",
          "2022-04-20T00:00:00",
          "2022-04-15T00:00:00",
          "2022-04-10T00:00:00",
          "2022-04-05T00:00:00",
          "2022-03-31T00:00:00",
          "2022-03-26T00:00:00",
          "2022-03-21T00:00:00",
          "2022-03-16T00:00:00"
         ],
         "xaxis": "x",
         "y": [
          0.5072575211524963,
          0.5072575211524963,
          0.5072575211524963,
          0.5072575211524963,
          0.5072575211524963,
          0.5606372952461243,
          0.5419012904167175,
          0.5151475071907043,
          0.5433816313743591,
          0.5146125555038452,
          0.48496049642562866,
          0.37346988916397095,
          0.38841408491134644,
          0.2895198166370392,
          0.18611985445022583,
          0.07789895683526993,
          0.005179576110094786,
          0.03677749261260033,
          0.06509635597467422,
          0.24279434978961945,
          0.31734007596969604,
          0.42478346824645996,
          0.243865966796875,
          0.243865966796875
         ],
         "yaxis": "y"
        },
        {
         "hovertemplate": "variable=wide_variable_1<br>x=%{x}<br>value=%{y}<extra></extra>",
         "legendgroup": "wide_variable_1",
         "line": {
          "color": "#EF553B",
          "dash": "solid"
         },
         "marker": {
          "symbol": "circle"
         },
         "mode": "lines",
         "name": "wide_variable_1",
         "orientation": "v",
         "showlegend": true,
         "type": "scatter",
         "x": [
          "2022-07-14T00:00:00",
          "2022-07-09T00:00:00",
          "2022-07-04T00:00:00",
          "2022-06-29T00:00:00",
          "2022-06-24T00:00:00",
          "2022-06-19T00:00:00",
          "2022-06-14T00:00:00",
          "2022-06-09T00:00:00",
          "2022-06-04T00:00:00",
          "2022-05-30T00:00:00",
          "2022-05-25T00:00:00",
          "2022-05-20T00:00:00",
          "2022-05-15T00:00:00",
          "2022-05-10T00:00:00",
          "2022-04-30T00:00:00",
          "2022-04-25T00:00:00",
          "2022-04-20T00:00:00",
          "2022-04-15T00:00:00",
          "2022-04-10T00:00:00",
          "2022-04-05T00:00:00",
          "2022-03-31T00:00:00",
          "2022-03-26T00:00:00",
          "2022-03-21T00:00:00",
          "2022-03-16T00:00:00"
         ],
         "xaxis": "x",
         "y": [
          0.1913146674633026,
          0.3742886185646057,
          0.11295536160469055,
          0.1672661155462265,
          0.40197235345840454,
          0.20667409896850586,
          0.3295622169971466,
          0.5151475071907043,
          0.5433816313743591,
          0.16397233307361603,
          0.48496049642562866,
          0.3732358515262604,
          0.3853597640991211,
          -0.002254339400678873,
          0.012768932618200779,
          0.07798980921506882,
          0.015036171302199364,
          -0.06666956096887589,
          0.051140494644641876,
          0.2665747404098511,
          0.2460085153579712,
          0.1649174988269806,
          0.23431085050106049,
          -0.0011005450505763292
         ],
         "yaxis": "y"
        }
       ],
       "layout": {
        "legend": {
         "title": {
          "text": "variable"
         },
         "tracegroupgap": 0
        },
        "margin": {
         "t": 60
        },
        "template": {
         "data": {
          "bar": [
           {
            "error_x": {
             "color": "#2a3f5f"
            },
            "error_y": {
             "color": "#2a3f5f"
            },
            "marker": {
             "line": {
              "color": "#E5ECF6",
              "width": 0.5
             },
             "pattern": {
              "fillmode": "overlay",
              "size": 10,
              "solidity": 0.2
             }
            },
            "type": "bar"
           }
          ],
          "barpolar": [
           {
            "marker": {
             "line": {
              "color": "#E5ECF6",
              "width": 0.5
             },
             "pattern": {
              "fillmode": "overlay",
              "size": 10,
              "solidity": 0.2
             }
            },
            "type": "barpolar"
           }
          ],
          "carpet": [
           {
            "aaxis": {
             "endlinecolor": "#2a3f5f",
             "gridcolor": "white",
             "linecolor": "white",
             "minorgridcolor": "white",
             "startlinecolor": "#2a3f5f"
            },
            "baxis": {
             "endlinecolor": "#2a3f5f",
             "gridcolor": "white",
             "linecolor": "white",
             "minorgridcolor": "white",
             "startlinecolor": "#2a3f5f"
            },
            "type": "carpet"
           }
          ],
          "choropleth": [
           {
            "colorbar": {
             "outlinewidth": 0,
             "ticks": ""
            },
            "type": "choropleth"
           }
          ],
          "contour": [
           {
            "colorbar": {
             "outlinewidth": 0,
             "ticks": ""
            },
            "colorscale": [
             [
              0,
              "#0d0887"
             ],
             [
              0.1111111111111111,
              "#46039f"
             ],
             [
              0.2222222222222222,
              "#7201a8"
             ],
             [
              0.3333333333333333,
              "#9c179e"
             ],
             [
              0.4444444444444444,
              "#bd3786"
             ],
             [
              0.5555555555555556,
              "#d8576b"
             ],
             [
              0.6666666666666666,
              "#ed7953"
             ],
             [
              0.7777777777777778,
              "#fb9f3a"
             ],
             [
              0.8888888888888888,
              "#fdca26"
             ],
             [
              1,
              "#f0f921"
             ]
            ],
            "type": "contour"
           }
          ],
          "contourcarpet": [
           {
            "colorbar": {
             "outlinewidth": 0,
             "ticks": ""
            },
            "type": "contourcarpet"
           }
          ],
          "heatmap": [
           {
            "colorbar": {
             "outlinewidth": 0,
             "ticks": ""
            },
            "colorscale": [
             [
              0,
              "#0d0887"
             ],
             [
              0.1111111111111111,
              "#46039f"
             ],
             [
              0.2222222222222222,
              "#7201a8"
             ],
             [
              0.3333333333333333,
              "#9c179e"
             ],
             [
              0.4444444444444444,
              "#bd3786"
             ],
             [
              0.5555555555555556,
              "#d8576b"
             ],
             [
              0.6666666666666666,
              "#ed7953"
             ],
             [
              0.7777777777777778,
              "#fb9f3a"
             ],
             [
              0.8888888888888888,
              "#fdca26"
             ],
             [
              1,
              "#f0f921"
             ]
            ],
            "type": "heatmap"
           }
          ],
          "heatmapgl": [
           {
            "colorbar": {
             "outlinewidth": 0,
             "ticks": ""
            },
            "colorscale": [
             [
              0,
              "#0d0887"
             ],
             [
              0.1111111111111111,
              "#46039f"
             ],
             [
              0.2222222222222222,
              "#7201a8"
             ],
             [
              0.3333333333333333,
              "#9c179e"
             ],
             [
              0.4444444444444444,
              "#bd3786"
             ],
             [
              0.5555555555555556,
              "#d8576b"
             ],
             [
              0.6666666666666666,
              "#ed7953"
             ],
             [
              0.7777777777777778,
              "#fb9f3a"
             ],
             [
              0.8888888888888888,
              "#fdca26"
             ],
             [
              1,
              "#f0f921"
             ]
            ],
            "type": "heatmapgl"
           }
          ],
          "histogram": [
           {
            "marker": {
             "pattern": {
              "fillmode": "overlay",
              "size": 10,
              "solidity": 0.2
             }
            },
            "type": "histogram"
           }
          ],
          "histogram2d": [
           {
            "colorbar": {
             "outlinewidth": 0,
             "ticks": ""
            },
            "colorscale": [
             [
              0,
              "#0d0887"
             ],
             [
              0.1111111111111111,
              "#46039f"
             ],
             [
              0.2222222222222222,
              "#7201a8"
             ],
             [
              0.3333333333333333,
              "#9c179e"
             ],
             [
              0.4444444444444444,
              "#bd3786"
             ],
             [
              0.5555555555555556,
              "#d8576b"
             ],
             [
              0.6666666666666666,
              "#ed7953"
             ],
             [
              0.7777777777777778,
              "#fb9f3a"
             ],
             [
              0.8888888888888888,
              "#fdca26"
             ],
             [
              1,
              "#f0f921"
             ]
            ],
            "type": "histogram2d"
           }
          ],
          "histogram2dcontour": [
           {
            "colorbar": {
             "outlinewidth": 0,
             "ticks": ""
            },
            "colorscale": [
             [
              0,
              "#0d0887"
             ],
             [
              0.1111111111111111,
              "#46039f"
             ],
             [
              0.2222222222222222,
              "#7201a8"
             ],
             [
              0.3333333333333333,
              "#9c179e"
             ],
             [
              0.4444444444444444,
              "#bd3786"
             ],
             [
              0.5555555555555556,
              "#d8576b"
             ],
             [
              0.6666666666666666,
              "#ed7953"
             ],
             [
              0.7777777777777778,
              "#fb9f3a"
             ],
             [
              0.8888888888888888,
              "#fdca26"
             ],
             [
              1,
              "#f0f921"
             ]
            ],
            "type": "histogram2dcontour"
           }
          ],
          "mesh3d": [
           {
            "colorbar": {
             "outlinewidth": 0,
             "ticks": ""
            },
            "type": "mesh3d"
           }
          ],
          "parcoords": [
           {
            "line": {
             "colorbar": {
              "outlinewidth": 0,
              "ticks": ""
             }
            },
            "type": "parcoords"
           }
          ],
          "pie": [
           {
            "automargin": true,
            "type": "pie"
           }
          ],
          "scatter": [
           {
            "fillpattern": {
             "fillmode": "overlay",
             "size": 10,
             "solidity": 0.2
            },
            "type": "scatter"
           }
          ],
          "scatter3d": [
           {
            "line": {
             "colorbar": {
              "outlinewidth": 0,
              "ticks": ""
             }
            },
            "marker": {
             "colorbar": {
              "outlinewidth": 0,
              "ticks": ""
             }
            },
            "type": "scatter3d"
           }
          ],
          "scattercarpet": [
           {
            "marker": {
             "colorbar": {
              "outlinewidth": 0,
              "ticks": ""
             }
            },
            "type": "scattercarpet"
           }
          ],
          "scattergeo": [
           {
            "marker": {
             "colorbar": {
              "outlinewidth": 0,
              "ticks": ""
             }
            },
            "type": "scattergeo"
           }
          ],
          "scattergl": [
           {
            "marker": {
             "colorbar": {
              "outlinewidth": 0,
              "ticks": ""
             }
            },
            "type": "scattergl"
           }
          ],
          "scattermapbox": [
           {
            "marker": {
             "colorbar": {
              "outlinewidth": 0,
              "ticks": ""
             }
            },
            "type": "scattermapbox"
           }
          ],
          "scatterpolar": [
           {
            "marker": {
             "colorbar": {
              "outlinewidth": 0,
              "ticks": ""
             }
            },
            "type": "scatterpolar"
           }
          ],
          "scatterpolargl": [
           {
            "marker": {
             "colorbar": {
              "outlinewidth": 0,
              "ticks": ""
             }
            },
            "type": "scatterpolargl"
           }
          ],
          "scatterternary": [
           {
            "marker": {
             "colorbar": {
              "outlinewidth": 0,
              "ticks": ""
             }
            },
            "type": "scatterternary"
           }
          ],
          "surface": [
           {
            "colorbar": {
             "outlinewidth": 0,
             "ticks": ""
            },
            "colorscale": [
             [
              0,
              "#0d0887"
             ],
             [
              0.1111111111111111,
              "#46039f"
             ],
             [
              0.2222222222222222,
              "#7201a8"
             ],
             [
              0.3333333333333333,
              "#9c179e"
             ],
             [
              0.4444444444444444,
              "#bd3786"
             ],
             [
              0.5555555555555556,
              "#d8576b"
             ],
             [
              0.6666666666666666,
              "#ed7953"
             ],
             [
              0.7777777777777778,
              "#fb9f3a"
             ],
             [
              0.8888888888888888,
              "#fdca26"
             ],
             [
              1,
              "#f0f921"
             ]
            ],
            "type": "surface"
           }
          ],
          "table": [
           {
            "cells": {
             "fill": {
              "color": "#EBF0F8"
             },
             "line": {
              "color": "white"
             }
            },
            "header": {
             "fill": {
              "color": "#C8D4E3"
             },
             "line": {
              "color": "white"
             }
            },
            "type": "table"
           }
          ]
         },
         "layout": {
          "annotationdefaults": {
           "arrowcolor": "#2a3f5f",
           "arrowhead": 0,
           "arrowwidth": 1
          },
          "autotypenumbers": "strict",
          "coloraxis": {
           "colorbar": {
            "outlinewidth": 0,
            "ticks": ""
           }
          },
          "colorscale": {
           "diverging": [
            [
             0,
             "#8e0152"
            ],
            [
             0.1,
             "#c51b7d"
            ],
            [
             0.2,
             "#de77ae"
            ],
            [
             0.3,
             "#f1b6da"
            ],
            [
             0.4,
             "#fde0ef"
            ],
            [
             0.5,
             "#f7f7f7"
            ],
            [
             0.6,
             "#e6f5d0"
            ],
            [
             0.7,
             "#b8e186"
            ],
            [
             0.8,
             "#7fbc41"
            ],
            [
             0.9,
             "#4d9221"
            ],
            [
             1,
             "#276419"
            ]
           ],
           "sequential": [
            [
             0,
             "#0d0887"
            ],
            [
             0.1111111111111111,
             "#46039f"
            ],
            [
             0.2222222222222222,
             "#7201a8"
            ],
            [
             0.3333333333333333,
             "#9c179e"
            ],
            [
             0.4444444444444444,
             "#bd3786"
            ],
            [
             0.5555555555555556,
             "#d8576b"
            ],
            [
             0.6666666666666666,
             "#ed7953"
            ],
            [
             0.7777777777777778,
             "#fb9f3a"
            ],
            [
             0.8888888888888888,
             "#fdca26"
            ],
            [
             1,
             "#f0f921"
            ]
           ],
           "sequentialminus": [
            [
             0,
             "#0d0887"
            ],
            [
             0.1111111111111111,
             "#46039f"
            ],
            [
             0.2222222222222222,
             "#7201a8"
            ],
            [
             0.3333333333333333,
             "#9c179e"
            ],
            [
             0.4444444444444444,
             "#bd3786"
            ],
            [
             0.5555555555555556,
             "#d8576b"
            ],
            [
             0.6666666666666666,
             "#ed7953"
            ],
            [
             0.7777777777777778,
             "#fb9f3a"
            ],
            [
             0.8888888888888888,
             "#fdca26"
            ],
            [
             1,
             "#f0f921"
            ]
           ]
          },
          "colorway": [
           "#636efa",
           "#EF553B",
           "#00cc96",
           "#ab63fa",
           "#FFA15A",
           "#19d3f3",
           "#FF6692",
           "#B6E880",
           "#FF97FF",
           "#FECB52"
          ],
          "font": {
           "color": "#2a3f5f"
          },
          "geo": {
           "bgcolor": "white",
           "lakecolor": "white",
           "landcolor": "#E5ECF6",
           "showlakes": true,
           "showland": true,
           "subunitcolor": "white"
          },
          "hoverlabel": {
           "align": "left"
          },
          "hovermode": "closest",
          "mapbox": {
           "style": "light"
          },
          "paper_bgcolor": "white",
          "plot_bgcolor": "#E5ECF6",
          "polar": {
           "angularaxis": {
            "gridcolor": "white",
            "linecolor": "white",
            "ticks": ""
           },
           "bgcolor": "#E5ECF6",
           "radialaxis": {
            "gridcolor": "white",
            "linecolor": "white",
            "ticks": ""
           }
          },
          "scene": {
           "xaxis": {
            "backgroundcolor": "#E5ECF6",
            "gridcolor": "white",
            "gridwidth": 2,
            "linecolor": "white",
            "showbackground": true,
            "ticks": "",
            "zerolinecolor": "white"
           },
           "yaxis": {
            "backgroundcolor": "#E5ECF6",
            "gridcolor": "white",
            "gridwidth": 2,
            "linecolor": "white",
            "showbackground": true,
            "ticks": "",
            "zerolinecolor": "white"
           },
           "zaxis": {
            "backgroundcolor": "#E5ECF6",
            "gridcolor": "white",
            "gridwidth": 2,
            "linecolor": "white",
            "showbackground": true,
            "ticks": "",
            "zerolinecolor": "white"
           }
          },
          "shapedefaults": {
           "line": {
            "color": "#2a3f5f"
           }
          },
          "ternary": {
           "aaxis": {
            "gridcolor": "white",
            "linecolor": "white",
            "ticks": ""
           },
           "baxis": {
            "gridcolor": "white",
            "linecolor": "white",
            "ticks": ""
           },
           "bgcolor": "#E5ECF6",
           "caxis": {
            "gridcolor": "white",
            "linecolor": "white",
            "ticks": ""
           }
          },
          "title": {
           "x": 0.05
          },
          "xaxis": {
           "automargin": true,
           "gridcolor": "white",
           "linecolor": "white",
           "ticks": "",
           "title": {
            "standoff": 15
           },
           "zerolinecolor": "white",
           "zerolinewidth": 2
          },
          "yaxis": {
           "automargin": true,
           "gridcolor": "white",
           "linecolor": "white",
           "ticks": "",
           "title": {
            "standoff": 15
           },
           "zerolinecolor": "white",
           "zerolinewidth": 2
          }
         }
        },
        "xaxis": {
         "anchor": "y",
         "domain": [
          0,
          1
         ],
         "title": {
          "text": "x"
         }
        },
        "yaxis": {
         "anchor": "x",
         "domain": [
          0,
          1
         ],
         "title": {
          "text": "value"
         }
        }
       }
      }
     },
     "metadata": {},
     "output_type": "display_data"
    }
   ],
   "source": [
    "fig = px.line(y=[(df_test.nir - df_test.red) / (df_test.nir + df_test.red), (data.nir - data.red) / (data.nir + data.red)], x=df_test.time)\n",
    "fig.show()"
   ]
  },
  {
   "attachments": {},
   "cell_type": "markdown",
   "id": "2836776a",
   "metadata": {},
   "source": [
    "Smooth the data and fill nan on filter data"
   ]
  },
  {
   "cell_type": "code",
   "execution_count": 172,
   "id": "b339723b",
   "metadata": {},
   "outputs": [],
   "source": [
    "from scipy.signal import savgol_filter\n",
    "\n",
    "df_test = data_filter.copy(deep=True)\n",
    "\n",
    "arr = savgol_filter(data[['red','green', 'blue', 'rededge1', 'rededge2', 'rededge3', 'nir', 'swir']], axis=0, window_length=12, polyorder=4)\n",
    "test = pd.DataFrame(arr, index=df_test.index, columns=['red','green', 'blue', 'rededge1', 'rededge2', 'rededge3', 'nir', 'swir'])\n",
    "\n",
    "df_test.loc[:, ['red','green', 'blue', 'rededge1', 'rededge2', 'rededge3', 'nir', 'swir']] = df_test[['red','green', 'blue', 'rededge1', 'rededge2', 'rededge3', 'nir', 'swir']].fillna(test)"
   ]
  },
  {
   "cell_type": "code",
   "execution_count": 175,
   "id": "00c7924b",
   "metadata": {},
   "outputs": [
    {
     "data": {
      "application/vnd.plotly.v1+json": {
       "config": {
        "plotlyServerURL": "https://plot.ly"
       },
       "data": [
        {
         "hovertemplate": "variable=wide_variable_0<br>x=%{x}<br>value=%{y}<extra></extra>",
         "legendgroup": "wide_variable_0",
         "line": {
          "color": "#636efa",
          "dash": "solid"
         },
         "marker": {
          "symbol": "circle"
         },
         "mode": "lines",
         "name": "wide_variable_0",
         "orientation": "v",
         "showlegend": true,
         "type": "scatter",
         "x": [
          "2022-07-14T00:00:00",
          "2022-07-09T00:00:00",
          "2022-07-04T00:00:00",
          "2022-06-29T00:00:00",
          "2022-06-24T00:00:00",
          "2022-06-19T00:00:00",
          "2022-06-14T00:00:00",
          "2022-06-09T00:00:00",
          "2022-06-04T00:00:00",
          "2022-05-30T00:00:00",
          "2022-05-25T00:00:00",
          "2022-05-20T00:00:00",
          "2022-05-15T00:00:00",
          "2022-05-10T00:00:00",
          "2022-04-30T00:00:00",
          "2022-04-25T00:00:00",
          "2022-04-20T00:00:00",
          "2022-04-15T00:00:00",
          "2022-04-10T00:00:00",
          "2022-04-05T00:00:00",
          "2022-03-31T00:00:00",
          "2022-03-26T00:00:00",
          "2022-03-21T00:00:00",
          "2022-03-16T00:00:00"
         ],
         "xaxis": "x",
         "y": [
          0.2534976899623871,
          0.19049270451068878,
          0.18796245753765106,
          0.21435964107513428,
          0.5072575211524963,
          0.5606372952461243,
          0.38311925530433655,
          0.5151475071907043,
          0.5433816313743591,
          0.4852615296840668,
          0.48496049642562866,
          0.37346988916397095,
          0.38841408491134644,
          0.07593898475170135,
          -0.013023416511714458,
          0.07789895683526993,
          0.005179576110094786,
          0.01775234565138817,
          0.06509635597467422,
          0.24279434978961945,
          0.31734007596969604,
          0.42478346824645996,
          0.243865966796875,
          -0.000807287055067718
         ],
         "yaxis": "y"
        },
        {
         "hovertemplate": "variable=wide_variable_1<br>x=%{x}<br>value=%{y}<extra></extra>",
         "legendgroup": "wide_variable_1",
         "line": {
          "color": "#EF553B",
          "dash": "solid"
         },
         "marker": {
          "symbol": "circle"
         },
         "mode": "lines",
         "name": "wide_variable_1",
         "orientation": "v",
         "showlegend": true,
         "type": "scatter",
         "x": [
          "2022-07-14T00:00:00",
          "2022-07-09T00:00:00",
          "2022-07-04T00:00:00",
          "2022-06-29T00:00:00",
          "2022-06-24T00:00:00",
          "2022-06-19T00:00:00",
          "2022-06-14T00:00:00",
          "2022-06-09T00:00:00",
          "2022-06-04T00:00:00",
          "2022-05-30T00:00:00",
          "2022-05-25T00:00:00",
          "2022-05-20T00:00:00",
          "2022-05-15T00:00:00",
          "2022-05-10T00:00:00",
          "2022-04-30T00:00:00",
          "2022-04-25T00:00:00",
          "2022-04-20T00:00:00",
          "2022-04-15T00:00:00",
          "2022-04-10T00:00:00",
          "2022-04-05T00:00:00",
          "2022-03-31T00:00:00",
          "2022-03-26T00:00:00",
          "2022-03-21T00:00:00",
          "2022-03-16T00:00:00"
         ],
         "xaxis": "x",
         "y": [
          0.1913146674633026,
          0.3742886185646057,
          0.11295536160469055,
          0.1672661155462265,
          0.40197235345840454,
          0.20667409896850586,
          0.3295622169971466,
          0.5151475071907043,
          0.5433816313743591,
          0.16397233307361603,
          0.48496049642562866,
          0.3732358515262604,
          0.3853597640991211,
          -0.002254339400678873,
          0.012768932618200779,
          0.07798980921506882,
          0.015036171302199364,
          -0.06666956096887589,
          0.051140494644641876,
          0.2665747404098511,
          0.2460085153579712,
          0.1649174988269806,
          0.23431085050106049,
          -0.0011005450505763292
         ],
         "yaxis": "y"
        }
       ],
       "layout": {
        "legend": {
         "title": {
          "text": "variable"
         },
         "tracegroupgap": 0
        },
        "margin": {
         "t": 60
        },
        "template": {
         "data": {
          "bar": [
           {
            "error_x": {
             "color": "#2a3f5f"
            },
            "error_y": {
             "color": "#2a3f5f"
            },
            "marker": {
             "line": {
              "color": "#E5ECF6",
              "width": 0.5
             },
             "pattern": {
              "fillmode": "overlay",
              "size": 10,
              "solidity": 0.2
             }
            },
            "type": "bar"
           }
          ],
          "barpolar": [
           {
            "marker": {
             "line": {
              "color": "#E5ECF6",
              "width": 0.5
             },
             "pattern": {
              "fillmode": "overlay",
              "size": 10,
              "solidity": 0.2
             }
            },
            "type": "barpolar"
           }
          ],
          "carpet": [
           {
            "aaxis": {
             "endlinecolor": "#2a3f5f",
             "gridcolor": "white",
             "linecolor": "white",
             "minorgridcolor": "white",
             "startlinecolor": "#2a3f5f"
            },
            "baxis": {
             "endlinecolor": "#2a3f5f",
             "gridcolor": "white",
             "linecolor": "white",
             "minorgridcolor": "white",
             "startlinecolor": "#2a3f5f"
            },
            "type": "carpet"
           }
          ],
          "choropleth": [
           {
            "colorbar": {
             "outlinewidth": 0,
             "ticks": ""
            },
            "type": "choropleth"
           }
          ],
          "contour": [
           {
            "colorbar": {
             "outlinewidth": 0,
             "ticks": ""
            },
            "colorscale": [
             [
              0,
              "#0d0887"
             ],
             [
              0.1111111111111111,
              "#46039f"
             ],
             [
              0.2222222222222222,
              "#7201a8"
             ],
             [
              0.3333333333333333,
              "#9c179e"
             ],
             [
              0.4444444444444444,
              "#bd3786"
             ],
             [
              0.5555555555555556,
              "#d8576b"
             ],
             [
              0.6666666666666666,
              "#ed7953"
             ],
             [
              0.7777777777777778,
              "#fb9f3a"
             ],
             [
              0.8888888888888888,
              "#fdca26"
             ],
             [
              1,
              "#f0f921"
             ]
            ],
            "type": "contour"
           }
          ],
          "contourcarpet": [
           {
            "colorbar": {
             "outlinewidth": 0,
             "ticks": ""
            },
            "type": "contourcarpet"
           }
          ],
          "heatmap": [
           {
            "colorbar": {
             "outlinewidth": 0,
             "ticks": ""
            },
            "colorscale": [
             [
              0,
              "#0d0887"
             ],
             [
              0.1111111111111111,
              "#46039f"
             ],
             [
              0.2222222222222222,
              "#7201a8"
             ],
             [
              0.3333333333333333,
              "#9c179e"
             ],
             [
              0.4444444444444444,
              "#bd3786"
             ],
             [
              0.5555555555555556,
              "#d8576b"
             ],
             [
              0.6666666666666666,
              "#ed7953"
             ],
             [
              0.7777777777777778,
              "#fb9f3a"
             ],
             [
              0.8888888888888888,
              "#fdca26"
             ],
             [
              1,
              "#f0f921"
             ]
            ],
            "type": "heatmap"
           }
          ],
          "heatmapgl": [
           {
            "colorbar": {
             "outlinewidth": 0,
             "ticks": ""
            },
            "colorscale": [
             [
              0,
              "#0d0887"
             ],
             [
              0.1111111111111111,
              "#46039f"
             ],
             [
              0.2222222222222222,
              "#7201a8"
             ],
             [
              0.3333333333333333,
              "#9c179e"
             ],
             [
              0.4444444444444444,
              "#bd3786"
             ],
             [
              0.5555555555555556,
              "#d8576b"
             ],
             [
              0.6666666666666666,
              "#ed7953"
             ],
             [
              0.7777777777777778,
              "#fb9f3a"
             ],
             [
              0.8888888888888888,
              "#fdca26"
             ],
             [
              1,
              "#f0f921"
             ]
            ],
            "type": "heatmapgl"
           }
          ],
          "histogram": [
           {
            "marker": {
             "pattern": {
              "fillmode": "overlay",
              "size": 10,
              "solidity": 0.2
             }
            },
            "type": "histogram"
           }
          ],
          "histogram2d": [
           {
            "colorbar": {
             "outlinewidth": 0,
             "ticks": ""
            },
            "colorscale": [
             [
              0,
              "#0d0887"
             ],
             [
              0.1111111111111111,
              "#46039f"
             ],
             [
              0.2222222222222222,
              "#7201a8"
             ],
             [
              0.3333333333333333,
              "#9c179e"
             ],
             [
              0.4444444444444444,
              "#bd3786"
             ],
             [
              0.5555555555555556,
              "#d8576b"
             ],
             [
              0.6666666666666666,
              "#ed7953"
             ],
             [
              0.7777777777777778,
              "#fb9f3a"
             ],
             [
              0.8888888888888888,
              "#fdca26"
             ],
             [
              1,
              "#f0f921"
             ]
            ],
            "type": "histogram2d"
           }
          ],
          "histogram2dcontour": [
           {
            "colorbar": {
             "outlinewidth": 0,
             "ticks": ""
            },
            "colorscale": [
             [
              0,
              "#0d0887"
             ],
             [
              0.1111111111111111,
              "#46039f"
             ],
             [
              0.2222222222222222,
              "#7201a8"
             ],
             [
              0.3333333333333333,
              "#9c179e"
             ],
             [
              0.4444444444444444,
              "#bd3786"
             ],
             [
              0.5555555555555556,
              "#d8576b"
             ],
             [
              0.6666666666666666,
              "#ed7953"
             ],
             [
              0.7777777777777778,
              "#fb9f3a"
             ],
             [
              0.8888888888888888,
              "#fdca26"
             ],
             [
              1,
              "#f0f921"
             ]
            ],
            "type": "histogram2dcontour"
           }
          ],
          "mesh3d": [
           {
            "colorbar": {
             "outlinewidth": 0,
             "ticks": ""
            },
            "type": "mesh3d"
           }
          ],
          "parcoords": [
           {
            "line": {
             "colorbar": {
              "outlinewidth": 0,
              "ticks": ""
             }
            },
            "type": "parcoords"
           }
          ],
          "pie": [
           {
            "automargin": true,
            "type": "pie"
           }
          ],
          "scatter": [
           {
            "fillpattern": {
             "fillmode": "overlay",
             "size": 10,
             "solidity": 0.2
            },
            "type": "scatter"
           }
          ],
          "scatter3d": [
           {
            "line": {
             "colorbar": {
              "outlinewidth": 0,
              "ticks": ""
             }
            },
            "marker": {
             "colorbar": {
              "outlinewidth": 0,
              "ticks": ""
             }
            },
            "type": "scatter3d"
           }
          ],
          "scattercarpet": [
           {
            "marker": {
             "colorbar": {
              "outlinewidth": 0,
              "ticks": ""
             }
            },
            "type": "scattercarpet"
           }
          ],
          "scattergeo": [
           {
            "marker": {
             "colorbar": {
              "outlinewidth": 0,
              "ticks": ""
             }
            },
            "type": "scattergeo"
           }
          ],
          "scattergl": [
           {
            "marker": {
             "colorbar": {
              "outlinewidth": 0,
              "ticks": ""
             }
            },
            "type": "scattergl"
           }
          ],
          "scattermapbox": [
           {
            "marker": {
             "colorbar": {
              "outlinewidth": 0,
              "ticks": ""
             }
            },
            "type": "scattermapbox"
           }
          ],
          "scatterpolar": [
           {
            "marker": {
             "colorbar": {
              "outlinewidth": 0,
              "ticks": ""
             }
            },
            "type": "scatterpolar"
           }
          ],
          "scatterpolargl": [
           {
            "marker": {
             "colorbar": {
              "outlinewidth": 0,
              "ticks": ""
             }
            },
            "type": "scatterpolargl"
           }
          ],
          "scatterternary": [
           {
            "marker": {
             "colorbar": {
              "outlinewidth": 0,
              "ticks": ""
             }
            },
            "type": "scatterternary"
           }
          ],
          "surface": [
           {
            "colorbar": {
             "outlinewidth": 0,
             "ticks": ""
            },
            "colorscale": [
             [
              0,
              "#0d0887"
             ],
             [
              0.1111111111111111,
              "#46039f"
             ],
             [
              0.2222222222222222,
              "#7201a8"
             ],
             [
              0.3333333333333333,
              "#9c179e"
             ],
             [
              0.4444444444444444,
              "#bd3786"
             ],
             [
              0.5555555555555556,
              "#d8576b"
             ],
             [
              0.6666666666666666,
              "#ed7953"
             ],
             [
              0.7777777777777778,
              "#fb9f3a"
             ],
             [
              0.8888888888888888,
              "#fdca26"
             ],
             [
              1,
              "#f0f921"
             ]
            ],
            "type": "surface"
           }
          ],
          "table": [
           {
            "cells": {
             "fill": {
              "color": "#EBF0F8"
             },
             "line": {
              "color": "white"
             }
            },
            "header": {
             "fill": {
              "color": "#C8D4E3"
             },
             "line": {
              "color": "white"
             }
            },
            "type": "table"
           }
          ]
         },
         "layout": {
          "annotationdefaults": {
           "arrowcolor": "#2a3f5f",
           "arrowhead": 0,
           "arrowwidth": 1
          },
          "autotypenumbers": "strict",
          "coloraxis": {
           "colorbar": {
            "outlinewidth": 0,
            "ticks": ""
           }
          },
          "colorscale": {
           "diverging": [
            [
             0,
             "#8e0152"
            ],
            [
             0.1,
             "#c51b7d"
            ],
            [
             0.2,
             "#de77ae"
            ],
            [
             0.3,
             "#f1b6da"
            ],
            [
             0.4,
             "#fde0ef"
            ],
            [
             0.5,
             "#f7f7f7"
            ],
            [
             0.6,
             "#e6f5d0"
            ],
            [
             0.7,
             "#b8e186"
            ],
            [
             0.8,
             "#7fbc41"
            ],
            [
             0.9,
             "#4d9221"
            ],
            [
             1,
             "#276419"
            ]
           ],
           "sequential": [
            [
             0,
             "#0d0887"
            ],
            [
             0.1111111111111111,
             "#46039f"
            ],
            [
             0.2222222222222222,
             "#7201a8"
            ],
            [
             0.3333333333333333,
             "#9c179e"
            ],
            [
             0.4444444444444444,
             "#bd3786"
            ],
            [
             0.5555555555555556,
             "#d8576b"
            ],
            [
             0.6666666666666666,
             "#ed7953"
            ],
            [
             0.7777777777777778,
             "#fb9f3a"
            ],
            [
             0.8888888888888888,
             "#fdca26"
            ],
            [
             1,
             "#f0f921"
            ]
           ],
           "sequentialminus": [
            [
             0,
             "#0d0887"
            ],
            [
             0.1111111111111111,
             "#46039f"
            ],
            [
             0.2222222222222222,
             "#7201a8"
            ],
            [
             0.3333333333333333,
             "#9c179e"
            ],
            [
             0.4444444444444444,
             "#bd3786"
            ],
            [
             0.5555555555555556,
             "#d8576b"
            ],
            [
             0.6666666666666666,
             "#ed7953"
            ],
            [
             0.7777777777777778,
             "#fb9f3a"
            ],
            [
             0.8888888888888888,
             "#fdca26"
            ],
            [
             1,
             "#f0f921"
            ]
           ]
          },
          "colorway": [
           "#636efa",
           "#EF553B",
           "#00cc96",
           "#ab63fa",
           "#FFA15A",
           "#19d3f3",
           "#FF6692",
           "#B6E880",
           "#FF97FF",
           "#FECB52"
          ],
          "font": {
           "color": "#2a3f5f"
          },
          "geo": {
           "bgcolor": "white",
           "lakecolor": "white",
           "landcolor": "#E5ECF6",
           "showlakes": true,
           "showland": true,
           "subunitcolor": "white"
          },
          "hoverlabel": {
           "align": "left"
          },
          "hovermode": "closest",
          "mapbox": {
           "style": "light"
          },
          "paper_bgcolor": "white",
          "plot_bgcolor": "#E5ECF6",
          "polar": {
           "angularaxis": {
            "gridcolor": "white",
            "linecolor": "white",
            "ticks": ""
           },
           "bgcolor": "#E5ECF6",
           "radialaxis": {
            "gridcolor": "white",
            "linecolor": "white",
            "ticks": ""
           }
          },
          "scene": {
           "xaxis": {
            "backgroundcolor": "#E5ECF6",
            "gridcolor": "white",
            "gridwidth": 2,
            "linecolor": "white",
            "showbackground": true,
            "ticks": "",
            "zerolinecolor": "white"
           },
           "yaxis": {
            "backgroundcolor": "#E5ECF6",
            "gridcolor": "white",
            "gridwidth": 2,
            "linecolor": "white",
            "showbackground": true,
            "ticks": "",
            "zerolinecolor": "white"
           },
           "zaxis": {
            "backgroundcolor": "#E5ECF6",
            "gridcolor": "white",
            "gridwidth": 2,
            "linecolor": "white",
            "showbackground": true,
            "ticks": "",
            "zerolinecolor": "white"
           }
          },
          "shapedefaults": {
           "line": {
            "color": "#2a3f5f"
           }
          },
          "ternary": {
           "aaxis": {
            "gridcolor": "white",
            "linecolor": "white",
            "ticks": ""
           },
           "baxis": {
            "gridcolor": "white",
            "linecolor": "white",
            "ticks": ""
           },
           "bgcolor": "#E5ECF6",
           "caxis": {
            "gridcolor": "white",
            "linecolor": "white",
            "ticks": ""
           }
          },
          "title": {
           "x": 0.05
          },
          "xaxis": {
           "automargin": true,
           "gridcolor": "white",
           "linecolor": "white",
           "ticks": "",
           "title": {
            "standoff": 15
           },
           "zerolinecolor": "white",
           "zerolinewidth": 2
          },
          "yaxis": {
           "automargin": true,
           "gridcolor": "white",
           "linecolor": "white",
           "ticks": "",
           "title": {
            "standoff": 15
           },
           "zerolinecolor": "white",
           "zerolinewidth": 2
          }
         }
        },
        "xaxis": {
         "anchor": "y",
         "domain": [
          0,
          1
         ],
         "title": {
          "text": "x"
         }
        },
        "yaxis": {
         "anchor": "x",
         "domain": [
          0,
          1
         ],
         "title": {
          "text": "value"
         }
        }
       }
      }
     },
     "metadata": {},
     "output_type": "display_data"
    }
   ],
   "source": [
    "fig = px.line(y=[(df_test.nir - df_test.red) / (df_test.nir + df_test.red), (data.nir - data.red) / (data.nir + data.red)], x=df_test.time)\n",
    "fig.show()"
   ]
  },
  {
   "attachments": {},
   "cell_type": "markdown",
   "id": "878de435",
   "metadata": {},
   "source": [
    "Use mean value of the same time index"
   ]
  },
  {
   "cell_type": "code",
   "execution_count": 215,
   "id": "35aaac2b",
   "metadata": {},
   "outputs": [],
   "source": [
    "def make_timeseries(df):\n",
    "    df['timeserieindex'] = df['District'].copy(deep=True)\n",
    "    for col in ['Latitude', 'Longitude', 'Season(SA = Summer Autumn, WS = Winter Spring)', 'Rice Crop Intensity(D=Double, T=Triple)', 'Date of Harvest', 'Field size (ha)', 'Rice Yield (kg/ha)']:\n",
    "        df['timeserieindex'] += ' ' + df[col].astype('str')\n",
    "\n",
    "    df['timeserieindex'] = pd.factorize(df['timeserieindex'].astype('str'))[0]\n",
    "    return df"
   ]
  },
  {
   "cell_type": "code",
   "execution_count": 216,
   "id": "68f70218",
   "metadata": {},
   "outputs": [],
   "source": [
    "df_filter = pd.read_csv('../../data/processed/adaptative_factor_3/train_filter.csv')\n",
    "df = pd.read_csv('../../data/processed/adaptative_factor_3/train.csv')\n"
   ]
  },
  {
   "cell_type": "code",
   "execution_count": 219,
   "id": "2bef6051",
   "metadata": {},
   "outputs": [
    {
     "data": {
      "text/html": [
       "<div><svg style=\"position: absolute; width: 0; height: 0; overflow: hidden\">\n",
       "<defs>\n",
       "<symbol id=\"icon-database\" viewBox=\"0 0 32 32\">\n",
       "<path d=\"M16 0c-8.837 0-16 2.239-16 5v4c0 2.761 7.163 5 16 5s16-2.239 16-5v-4c0-2.761-7.163-5-16-5z\"></path>\n",
       "<path d=\"M16 17c-8.837 0-16-2.239-16-5v6c0 2.761 7.163 5 16 5s16-2.239 16-5v-6c0 2.761-7.163 5-16 5z\"></path>\n",
       "<path d=\"M16 26c-8.837 0-16-2.239-16-5v6c0 2.761 7.163 5 16 5s16-2.239 16-5v-6c0 2.761-7.163 5-16 5z\"></path>\n",
       "</symbol>\n",
       "<symbol id=\"icon-file-text2\" viewBox=\"0 0 32 32\">\n",
       "<path d=\"M28.681 7.159c-0.694-0.947-1.662-2.053-2.724-3.116s-2.169-2.030-3.116-2.724c-1.612-1.182-2.393-1.319-2.841-1.319h-15.5c-1.378 0-2.5 1.121-2.5 2.5v27c0 1.378 1.122 2.5 2.5 2.5h23c1.378 0 2.5-1.122 2.5-2.5v-19.5c0-0.448-0.137-1.23-1.319-2.841zM24.543 5.457c0.959 0.959 1.712 1.825 2.268 2.543h-4.811v-4.811c0.718 0.556 1.584 1.309 2.543 2.268zM28 29.5c0 0.271-0.229 0.5-0.5 0.5h-23c-0.271 0-0.5-0.229-0.5-0.5v-27c0-0.271 0.229-0.5 0.5-0.5 0 0 15.499-0 15.5 0v7c0 0.552 0.448 1 1 1h7v19.5z\"></path>\n",
       "<path d=\"M23 26h-14c-0.552 0-1-0.448-1-1s0.448-1 1-1h14c0.552 0 1 0.448 1 1s-0.448 1-1 1z\"></path>\n",
       "<path d=\"M23 22h-14c-0.552 0-1-0.448-1-1s0.448-1 1-1h14c0.552 0 1 0.448 1 1s-0.448 1-1 1z\"></path>\n",
       "<path d=\"M23 18h-14c-0.552 0-1-0.448-1-1s0.448-1 1-1h14c0.552 0 1 0.448 1 1s-0.448 1-1 1z\"></path>\n",
       "</symbol>\n",
       "</defs>\n",
       "</svg>\n",
       "<style>/* CSS stylesheet for displaying xarray objects in jupyterlab.\n",
       " *\n",
       " */\n",
       "\n",
       ":root {\n",
       "  --xr-font-color0: var(--jp-content-font-color0, rgba(0, 0, 0, 1));\n",
       "  --xr-font-color2: var(--jp-content-font-color2, rgba(0, 0, 0, 0.54));\n",
       "  --xr-font-color3: var(--jp-content-font-color3, rgba(0, 0, 0, 0.38));\n",
       "  --xr-border-color: var(--jp-border-color2, #e0e0e0);\n",
       "  --xr-disabled-color: var(--jp-layout-color3, #bdbdbd);\n",
       "  --xr-background-color: var(--jp-layout-color0, white);\n",
       "  --xr-background-color-row-even: var(--jp-layout-color1, white);\n",
       "  --xr-background-color-row-odd: var(--jp-layout-color2, #eeeeee);\n",
       "}\n",
       "\n",
       "html[theme=dark],\n",
       "body[data-theme=dark],\n",
       "body.vscode-dark {\n",
       "  --xr-font-color0: rgba(255, 255, 255, 1);\n",
       "  --xr-font-color2: rgba(255, 255, 255, 0.54);\n",
       "  --xr-font-color3: rgba(255, 255, 255, 0.38);\n",
       "  --xr-border-color: #1F1F1F;\n",
       "  --xr-disabled-color: #515151;\n",
       "  --xr-background-color: #111111;\n",
       "  --xr-background-color-row-even: #111111;\n",
       "  --xr-background-color-row-odd: #313131;\n",
       "}\n",
       "\n",
       ".xr-wrap {\n",
       "  display: block !important;\n",
       "  min-width: 300px;\n",
       "  max-width: 700px;\n",
       "}\n",
       "\n",
       ".xr-text-repr-fallback {\n",
       "  /* fallback to plain text repr when CSS is not injected (untrusted notebook) */\n",
       "  display: none;\n",
       "}\n",
       "\n",
       ".xr-header {\n",
       "  padding-top: 6px;\n",
       "  padding-bottom: 6px;\n",
       "  margin-bottom: 4px;\n",
       "  border-bottom: solid 1px var(--xr-border-color);\n",
       "}\n",
       "\n",
       ".xr-header > div,\n",
       ".xr-header > ul {\n",
       "  display: inline;\n",
       "  margin-top: 0;\n",
       "  margin-bottom: 0;\n",
       "}\n",
       "\n",
       ".xr-obj-type,\n",
       ".xr-array-name {\n",
       "  margin-left: 2px;\n",
       "  margin-right: 10px;\n",
       "}\n",
       "\n",
       ".xr-obj-type {\n",
       "  color: var(--xr-font-color2);\n",
       "}\n",
       "\n",
       ".xr-sections {\n",
       "  padding-left: 0 !important;\n",
       "  display: grid;\n",
       "  grid-template-columns: 150px auto auto 1fr 20px 20px;\n",
       "}\n",
       "\n",
       ".xr-section-item {\n",
       "  display: contents;\n",
       "}\n",
       "\n",
       ".xr-section-item input {\n",
       "  display: none;\n",
       "}\n",
       "\n",
       ".xr-section-item input + label {\n",
       "  color: var(--xr-disabled-color);\n",
       "}\n",
       "\n",
       ".xr-section-item input:enabled + label {\n",
       "  cursor: pointer;\n",
       "  color: var(--xr-font-color2);\n",
       "}\n",
       "\n",
       ".xr-section-item input:enabled + label:hover {\n",
       "  color: var(--xr-font-color0);\n",
       "}\n",
       "\n",
       ".xr-section-summary {\n",
       "  grid-column: 1;\n",
       "  color: var(--xr-font-color2);\n",
       "  font-weight: 500;\n",
       "}\n",
       "\n",
       ".xr-section-summary > span {\n",
       "  display: inline-block;\n",
       "  padding-left: 0.5em;\n",
       "}\n",
       "\n",
       ".xr-section-summary-in:disabled + label {\n",
       "  color: var(--xr-font-color2);\n",
       "}\n",
       "\n",
       ".xr-section-summary-in + label:before {\n",
       "  display: inline-block;\n",
       "  content: '►';\n",
       "  font-size: 11px;\n",
       "  width: 15px;\n",
       "  text-align: center;\n",
       "}\n",
       "\n",
       ".xr-section-summary-in:disabled + label:before {\n",
       "  color: var(--xr-disabled-color);\n",
       "}\n",
       "\n",
       ".xr-section-summary-in:checked + label:before {\n",
       "  content: '▼';\n",
       "}\n",
       "\n",
       ".xr-section-summary-in:checked + label > span {\n",
       "  display: none;\n",
       "}\n",
       "\n",
       ".xr-section-summary,\n",
       ".xr-section-inline-details {\n",
       "  padding-top: 4px;\n",
       "  padding-bottom: 4px;\n",
       "}\n",
       "\n",
       ".xr-section-inline-details {\n",
       "  grid-column: 2 / -1;\n",
       "}\n",
       "\n",
       ".xr-section-details {\n",
       "  display: none;\n",
       "  grid-column: 1 / -1;\n",
       "  margin-bottom: 5px;\n",
       "}\n",
       "\n",
       ".xr-section-summary-in:checked ~ .xr-section-details {\n",
       "  display: contents;\n",
       "}\n",
       "\n",
       ".xr-array-wrap {\n",
       "  grid-column: 1 / -1;\n",
       "  display: grid;\n",
       "  grid-template-columns: 20px auto;\n",
       "}\n",
       "\n",
       ".xr-array-wrap > label {\n",
       "  grid-column: 1;\n",
       "  vertical-align: top;\n",
       "}\n",
       "\n",
       ".xr-preview {\n",
       "  color: var(--xr-font-color3);\n",
       "}\n",
       "\n",
       ".xr-array-preview,\n",
       ".xr-array-data {\n",
       "  padding: 0 5px !important;\n",
       "  grid-column: 2;\n",
       "}\n",
       "\n",
       ".xr-array-data,\n",
       ".xr-array-in:checked ~ .xr-array-preview {\n",
       "  display: none;\n",
       "}\n",
       "\n",
       ".xr-array-in:checked ~ .xr-array-data,\n",
       ".xr-array-preview {\n",
       "  display: inline-block;\n",
       "}\n",
       "\n",
       ".xr-dim-list {\n",
       "  display: inline-block !important;\n",
       "  list-style: none;\n",
       "  padding: 0 !important;\n",
       "  margin: 0;\n",
       "}\n",
       "\n",
       ".xr-dim-list li {\n",
       "  display: inline-block;\n",
       "  padding: 0;\n",
       "  margin: 0;\n",
       "}\n",
       "\n",
       ".xr-dim-list:before {\n",
       "  content: '(';\n",
       "}\n",
       "\n",
       ".xr-dim-list:after {\n",
       "  content: ')';\n",
       "}\n",
       "\n",
       ".xr-dim-list li:not(:last-child):after {\n",
       "  content: ',';\n",
       "  padding-right: 5px;\n",
       "}\n",
       "\n",
       ".xr-has-index {\n",
       "  font-weight: bold;\n",
       "}\n",
       "\n",
       ".xr-var-list,\n",
       ".xr-var-item {\n",
       "  display: contents;\n",
       "}\n",
       "\n",
       ".xr-var-item > div,\n",
       ".xr-var-item label,\n",
       ".xr-var-item > .xr-var-name span {\n",
       "  background-color: var(--xr-background-color-row-even);\n",
       "  margin-bottom: 0;\n",
       "}\n",
       "\n",
       ".xr-var-item > .xr-var-name:hover span {\n",
       "  padding-right: 5px;\n",
       "}\n",
       "\n",
       ".xr-var-list > li:nth-child(odd) > div,\n",
       ".xr-var-list > li:nth-child(odd) > label,\n",
       ".xr-var-list > li:nth-child(odd) > .xr-var-name span {\n",
       "  background-color: var(--xr-background-color-row-odd);\n",
       "}\n",
       "\n",
       ".xr-var-name {\n",
       "  grid-column: 1;\n",
       "}\n",
       "\n",
       ".xr-var-dims {\n",
       "  grid-column: 2;\n",
       "}\n",
       "\n",
       ".xr-var-dtype {\n",
       "  grid-column: 3;\n",
       "  text-align: right;\n",
       "  color: var(--xr-font-color2);\n",
       "}\n",
       "\n",
       ".xr-var-preview {\n",
       "  grid-column: 4;\n",
       "}\n",
       "\n",
       ".xr-index-preview {\n",
       "  grid-column: 2 / 5;\n",
       "  color: var(--xr-font-color2);\n",
       "}\n",
       "\n",
       ".xr-var-name,\n",
       ".xr-var-dims,\n",
       ".xr-var-dtype,\n",
       ".xr-preview,\n",
       ".xr-attrs dt {\n",
       "  white-space: nowrap;\n",
       "  overflow: hidden;\n",
       "  text-overflow: ellipsis;\n",
       "  padding-right: 10px;\n",
       "}\n",
       "\n",
       ".xr-var-name:hover,\n",
       ".xr-var-dims:hover,\n",
       ".xr-var-dtype:hover,\n",
       ".xr-attrs dt:hover {\n",
       "  overflow: visible;\n",
       "  width: auto;\n",
       "  z-index: 1;\n",
       "}\n",
       "\n",
       ".xr-var-attrs,\n",
       ".xr-var-data,\n",
       ".xr-index-data {\n",
       "  display: none;\n",
       "  background-color: var(--xr-background-color) !important;\n",
       "  padding-bottom: 5px !important;\n",
       "}\n",
       "\n",
       ".xr-var-attrs-in:checked ~ .xr-var-attrs,\n",
       ".xr-var-data-in:checked ~ .xr-var-data,\n",
       ".xr-index-data-in:checked ~ .xr-index-data {\n",
       "  display: block;\n",
       "}\n",
       "\n",
       ".xr-var-data > table {\n",
       "  float: right;\n",
       "}\n",
       "\n",
       ".xr-var-name span,\n",
       ".xr-var-data,\n",
       ".xr-index-name div,\n",
       ".xr-index-data,\n",
       ".xr-attrs {\n",
       "  padding-left: 25px !important;\n",
       "}\n",
       "\n",
       ".xr-attrs,\n",
       ".xr-var-attrs,\n",
       ".xr-var-data,\n",
       ".xr-index-data {\n",
       "  grid-column: 1 / -1;\n",
       "}\n",
       "\n",
       "dl.xr-attrs {\n",
       "  padding: 0;\n",
       "  margin: 0;\n",
       "  display: grid;\n",
       "  grid-template-columns: 125px auto;\n",
       "}\n",
       "\n",
       ".xr-attrs dt,\n",
       ".xr-attrs dd {\n",
       "  padding: 0;\n",
       "  margin: 0;\n",
       "  float: left;\n",
       "  padding-right: 10px;\n",
       "  width: auto;\n",
       "}\n",
       "\n",
       ".xr-attrs dt {\n",
       "  font-weight: normal;\n",
       "  grid-column: 1;\n",
       "}\n",
       "\n",
       ".xr-attrs dt:hover span {\n",
       "  display: inline-block;\n",
       "  background: var(--xr-background-color);\n",
       "  padding-right: 10px;\n",
       "}\n",
       "\n",
       ".xr-attrs dd {\n",
       "  grid-column: 2;\n",
       "  white-space: pre-wrap;\n",
       "  word-break: break-all;\n",
       "}\n",
       "\n",
       ".xr-icon-database,\n",
       ".xr-icon-file-text2,\n",
       ".xr-no-icon {\n",
       "  display: inline-block;\n",
       "  vertical-align: middle;\n",
       "  width: 1em;\n",
       "  height: 1.5em !important;\n",
       "  stroke-width: 0;\n",
       "  stroke: currentColor;\n",
       "  fill: currentColor;\n",
       "}\n",
       "</style><pre class='xr-text-repr-fallback'>&lt;xarray.Dataset&gt;\n",
       "Dimensions:                                         (index: 13368, dim_0: 13368)\n",
       "Coordinates:\n",
       "  * index                                           (index) int64 0 1 ... 13367\n",
       "    timeserieindex                                  (dim_0) int64 0 0 ... 556\n",
       "  * dim_0                                           (dim_0) int64 0 1 ... 13367\n",
       "Data variables: (12/17)\n",
       "    time                                            (index) object &#x27;2022-07-1...\n",
       "    District                                        (index) object &#x27;Chau_Phu&#x27;...\n",
       "    Latitude                                        (index) float64 10.51 ......\n",
       "    Longitude                                       (index) float64 105.2 ......\n",
       "    Season(SA = Summer Autumn, WS = Winter Spring)  (index) object &#x27;SA&#x27; ... &#x27;WS&#x27;\n",
       "    Rice Crop Intensity(D=Double, T=Triple)         (index) object &#x27;T&#x27; ... &#x27;T&#x27;\n",
       "    ...                                              ...\n",
       "    blue                                            (index) float64 4.311e+03...\n",
       "    rededge1                                        (index) float64 4.424e+03...\n",
       "    rededge2                                        (index) float64 5.134e+03...\n",
       "    rededge3                                        (index) float64 5.402e+03...\n",
       "    nir                                             (index) float64 5.447e+03...\n",
       "    swir                                            (index) float64 3.092e+03...</pre><div class='xr-wrap' style='display:none'><div class='xr-header'><div class='xr-obj-type'>xarray.Dataset</div></div><ul class='xr-sections'><li class='xr-section-item'><input id='section-ca7dd741-4ccd-4a3a-bbf1-273df4acde7d' class='xr-section-summary-in' type='checkbox' disabled ><label for='section-ca7dd741-4ccd-4a3a-bbf1-273df4acde7d' class='xr-section-summary'  title='Expand/collapse section'>Dimensions:</label><div class='xr-section-inline-details'><ul class='xr-dim-list'><li><span class='xr-has-index'>index</span>: 13368</li><li><span class='xr-has-index'>dim_0</span>: 13368</li></ul></div><div class='xr-section-details'></div></li><li class='xr-section-item'><input id='section-be45013c-d895-48b6-b5f0-16b10fd39fce' class='xr-section-summary-in' type='checkbox'  checked><label for='section-be45013c-d895-48b6-b5f0-16b10fd39fce' class='xr-section-summary' >Coordinates: <span>(3)</span></label><div class='xr-section-inline-details'></div><div class='xr-section-details'><ul class='xr-var-list'><li class='xr-var-item'><div class='xr-var-name'><span class='xr-has-index'>index</span></div><div class='xr-var-dims'>(index)</div><div class='xr-var-dtype'>int64</div><div class='xr-var-preview xr-preview'>0 1 2 3 ... 13364 13365 13366 13367</div><input id='attrs-70b1eb10-944e-4be9-b569-5e02653953a6' class='xr-var-attrs-in' type='checkbox' disabled><label for='attrs-70b1eb10-944e-4be9-b569-5e02653953a6' title='Show/Hide attributes'><svg class='icon xr-icon-file-text2'><use xlink:href='#icon-file-text2'></use></svg></label><input id='data-6203dcc8-02f5-44a5-aac0-cbf3ed6467ad' class='xr-var-data-in' type='checkbox'><label for='data-6203dcc8-02f5-44a5-aac0-cbf3ed6467ad' title='Show/Hide data repr'><svg class='icon xr-icon-database'><use xlink:href='#icon-database'></use></svg></label><div class='xr-var-attrs'><dl class='xr-attrs'></dl></div><div class='xr-var-data'><pre>array([    0,     1,     2, ..., 13365, 13366, 13367])</pre></div></li><li class='xr-var-item'><div class='xr-var-name'><span>timeserieindex</span></div><div class='xr-var-dims'>(dim_0)</div><div class='xr-var-dtype'>int64</div><div class='xr-var-preview xr-preview'>0 0 0 0 0 0 ... 556 556 556 556 556</div><input id='attrs-e04131c6-25aa-4662-9576-60b8d5f35e3d' class='xr-var-attrs-in' type='checkbox' disabled><label for='attrs-e04131c6-25aa-4662-9576-60b8d5f35e3d' title='Show/Hide attributes'><svg class='icon xr-icon-file-text2'><use xlink:href='#icon-file-text2'></use></svg></label><input id='data-f796ca44-cdaa-4a3a-9536-09586b3c6209' class='xr-var-data-in' type='checkbox'><label for='data-f796ca44-cdaa-4a3a-9536-09586b3c6209' title='Show/Hide data repr'><svg class='icon xr-icon-database'><use xlink:href='#icon-database'></use></svg></label><div class='xr-var-attrs'><dl class='xr-attrs'></dl></div><div class='xr-var-data'><pre>array([  0,   0,   0, ..., 556, 556, 556])</pre></div></li><li class='xr-var-item'><div class='xr-var-name'><span class='xr-has-index'>dim_0</span></div><div class='xr-var-dims'>(dim_0)</div><div class='xr-var-dtype'>int64</div><div class='xr-var-preview xr-preview'>0 1 2 3 ... 13364 13365 13366 13367</div><input id='attrs-05a21bbd-1a67-4cfe-8d20-11a41b62d1e7' class='xr-var-attrs-in' type='checkbox' disabled><label for='attrs-05a21bbd-1a67-4cfe-8d20-11a41b62d1e7' title='Show/Hide attributes'><svg class='icon xr-icon-file-text2'><use xlink:href='#icon-file-text2'></use></svg></label><input id='data-1ea9fa30-8bf3-4104-870b-8e3efd7b7930' class='xr-var-data-in' type='checkbox'><label for='data-1ea9fa30-8bf3-4104-870b-8e3efd7b7930' title='Show/Hide data repr'><svg class='icon xr-icon-database'><use xlink:href='#icon-database'></use></svg></label><div class='xr-var-attrs'><dl class='xr-attrs'></dl></div><div class='xr-var-data'><pre>array([    0,     1,     2, ..., 13365, 13366, 13367])</pre></div></li></ul></div></li><li class='xr-section-item'><input id='section-c1ef9b39-ff70-437a-a949-8c58d636ab35' class='xr-section-summary-in' type='checkbox'  ><label for='section-c1ef9b39-ff70-437a-a949-8c58d636ab35' class='xr-section-summary' >Data variables: <span>(17)</span></label><div class='xr-section-inline-details'></div><div class='xr-section-details'><ul class='xr-var-list'><li class='xr-var-item'><div class='xr-var-name'><span>time</span></div><div class='xr-var-dims'>(index)</div><div class='xr-var-dtype'>object</div><div class='xr-var-preview xr-preview'>&#x27;2022-07-14&#x27; ... &#x27;2021-12-06&#x27;</div><input id='attrs-f6e732f8-bfd9-4ca5-b331-768e0b4306db' class='xr-var-attrs-in' type='checkbox' disabled><label for='attrs-f6e732f8-bfd9-4ca5-b331-768e0b4306db' title='Show/Hide attributes'><svg class='icon xr-icon-file-text2'><use xlink:href='#icon-file-text2'></use></svg></label><input id='data-91561d7c-38d9-4201-83e1-b93407930a46' class='xr-var-data-in' type='checkbox'><label for='data-91561d7c-38d9-4201-83e1-b93407930a46' title='Show/Hide data repr'><svg class='icon xr-icon-database'><use xlink:href='#icon-database'></use></svg></label><div class='xr-var-attrs'><dl class='xr-attrs'></dl></div><div class='xr-var-data'><pre>array([&#x27;2022-07-14&#x27;, &#x27;2022-07-09&#x27;, &#x27;2022-07-04&#x27;, ..., &#x27;2021-12-16&#x27;,\n",
       "       &#x27;2021-12-11&#x27;, &#x27;2021-12-06&#x27;], dtype=object)</pre></div></li><li class='xr-var-item'><div class='xr-var-name'><span>District</span></div><div class='xr-var-dims'>(index)</div><div class='xr-var-dtype'>object</div><div class='xr-var-preview xr-preview'>&#x27;Chau_Phu&#x27; ... &#x27;Thoai_Son&#x27;</div><input id='attrs-5d50f89f-b2db-4027-a0d5-57a7260c03cf' class='xr-var-attrs-in' type='checkbox' disabled><label for='attrs-5d50f89f-b2db-4027-a0d5-57a7260c03cf' title='Show/Hide attributes'><svg class='icon xr-icon-file-text2'><use xlink:href='#icon-file-text2'></use></svg></label><input id='data-e29b44b5-f0ba-4f09-a1e7-af0675b547ee' class='xr-var-data-in' type='checkbox'><label for='data-e29b44b5-f0ba-4f09-a1e7-af0675b547ee' title='Show/Hide data repr'><svg class='icon xr-icon-database'><use xlink:href='#icon-database'></use></svg></label><div class='xr-var-attrs'><dl class='xr-attrs'></dl></div><div class='xr-var-data'><pre>array([&#x27;Chau_Phu&#x27;, &#x27;Chau_Phu&#x27;, &#x27;Chau_Phu&#x27;, ..., &#x27;Thoai_Son&#x27;, &#x27;Thoai_Son&#x27;,\n",
       "       &#x27;Thoai_Son&#x27;], dtype=object)</pre></div></li><li class='xr-var-item'><div class='xr-var-name'><span>Latitude</span></div><div class='xr-var-dims'>(index)</div><div class='xr-var-dtype'>float64</div><div class='xr-var-preview xr-preview'>10.51 10.51 10.51 ... 10.3 10.3</div><input id='attrs-c1a1bc68-ef6b-4c41-a071-c8add5d7ab04' class='xr-var-attrs-in' type='checkbox' disabled><label for='attrs-c1a1bc68-ef6b-4c41-a071-c8add5d7ab04' title='Show/Hide attributes'><svg class='icon xr-icon-file-text2'><use xlink:href='#icon-file-text2'></use></svg></label><input id='data-733ce2fc-9f42-4600-96ac-7c794f8c8062' class='xr-var-data-in' type='checkbox'><label for='data-733ce2fc-9f42-4600-96ac-7c794f8c8062' title='Show/Hide data repr'><svg class='icon xr-icon-database'><use xlink:href='#icon-database'></use></svg></label><div class='xr-var-attrs'><dl class='xr-attrs'></dl></div><div class='xr-var-data'><pre>array([10.510542, 10.510542, 10.510542, ..., 10.304295, 10.304295,\n",
       "       10.304295])</pre></div></li><li class='xr-var-item'><div class='xr-var-name'><span>Longitude</span></div><div class='xr-var-dims'>(index)</div><div class='xr-var-dtype'>float64</div><div class='xr-var-preview xr-preview'>105.2 105.2 105.2 ... 105.3 105.3</div><input id='attrs-e2c2a45f-701f-4a78-87ed-168ac9daf584' class='xr-var-attrs-in' type='checkbox' disabled><label for='attrs-e2c2a45f-701f-4a78-87ed-168ac9daf584' title='Show/Hide attributes'><svg class='icon xr-icon-file-text2'><use xlink:href='#icon-file-text2'></use></svg></label><input id='data-a0989cf8-799c-4bce-ae1c-e0aaf392559d' class='xr-var-data-in' type='checkbox'><label for='data-a0989cf8-799c-4bce-ae1c-e0aaf392559d' title='Show/Hide data repr'><svg class='icon xr-icon-database'><use xlink:href='#icon-database'></use></svg></label><div class='xr-var-attrs'><dl class='xr-attrs'></dl></div><div class='xr-var-data'><pre>array([105.248554, 105.248554, 105.248554, ..., 105.27046 , 105.27046 ,\n",
       "       105.27046 ])</pre></div></li><li class='xr-var-item'><div class='xr-var-name'><span>Season(SA = Summer Autumn, WS = Winter Spring)</span></div><div class='xr-var-dims'>(index)</div><div class='xr-var-dtype'>object</div><div class='xr-var-preview xr-preview'>&#x27;SA&#x27; &#x27;SA&#x27; &#x27;SA&#x27; ... &#x27;WS&#x27; &#x27;WS&#x27; &#x27;WS&#x27;</div><input id='attrs-95f1dbee-50b1-484d-97d4-e4bcfa810bff' class='xr-var-attrs-in' type='checkbox' disabled><label for='attrs-95f1dbee-50b1-484d-97d4-e4bcfa810bff' title='Show/Hide attributes'><svg class='icon xr-icon-file-text2'><use xlink:href='#icon-file-text2'></use></svg></label><input id='data-bc1d4649-e79f-4b04-b2b4-373971d72313' class='xr-var-data-in' type='checkbox'><label for='data-bc1d4649-e79f-4b04-b2b4-373971d72313' title='Show/Hide data repr'><svg class='icon xr-icon-database'><use xlink:href='#icon-database'></use></svg></label><div class='xr-var-attrs'><dl class='xr-attrs'></dl></div><div class='xr-var-data'><pre>array([&#x27;SA&#x27;, &#x27;SA&#x27;, &#x27;SA&#x27;, ..., &#x27;WS&#x27;, &#x27;WS&#x27;, &#x27;WS&#x27;], dtype=object)</pre></div></li><li class='xr-var-item'><div class='xr-var-name'><span>Rice Crop Intensity(D=Double, T=Triple)</span></div><div class='xr-var-dims'>(index)</div><div class='xr-var-dtype'>object</div><div class='xr-var-preview xr-preview'>&#x27;T&#x27; &#x27;T&#x27; &#x27;T&#x27; &#x27;T&#x27; ... &#x27;T&#x27; &#x27;T&#x27; &#x27;T&#x27; &#x27;T&#x27;</div><input id='attrs-f00d4dae-f5e6-4057-bc57-579fc3cc9882' class='xr-var-attrs-in' type='checkbox' disabled><label for='attrs-f00d4dae-f5e6-4057-bc57-579fc3cc9882' title='Show/Hide attributes'><svg class='icon xr-icon-file-text2'><use xlink:href='#icon-file-text2'></use></svg></label><input id='data-ca981ad1-07f5-426a-b834-8ce84d1b0668' class='xr-var-data-in' type='checkbox'><label for='data-ca981ad1-07f5-426a-b834-8ce84d1b0668' title='Show/Hide data repr'><svg class='icon xr-icon-database'><use xlink:href='#icon-database'></use></svg></label><div class='xr-var-attrs'><dl class='xr-attrs'></dl></div><div class='xr-var-data'><pre>array([&#x27;T&#x27;, &#x27;T&#x27;, &#x27;T&#x27;, ..., &#x27;T&#x27;, &#x27;T&#x27;, &#x27;T&#x27;], dtype=object)</pre></div></li><li class='xr-var-item'><div class='xr-var-name'><span>Date of Harvest</span></div><div class='xr-var-dims'>(index)</div><div class='xr-var-dtype'>object</div><div class='xr-var-preview xr-preview'>&#x27;15-07-2022&#x27; ... &#x27;13-04-2022&#x27;</div><input id='attrs-6ee6df51-6ed4-4b60-8b94-2d66354cd455' class='xr-var-attrs-in' type='checkbox' disabled><label for='attrs-6ee6df51-6ed4-4b60-8b94-2d66354cd455' title='Show/Hide attributes'><svg class='icon xr-icon-file-text2'><use xlink:href='#icon-file-text2'></use></svg></label><input id='data-c29cbffa-897f-427e-a506-e70fa4315d82' class='xr-var-data-in' type='checkbox'><label for='data-c29cbffa-897f-427e-a506-e70fa4315d82' title='Show/Hide data repr'><svg class='icon xr-icon-database'><use xlink:href='#icon-database'></use></svg></label><div class='xr-var-attrs'><dl class='xr-attrs'></dl></div><div class='xr-var-data'><pre>array([&#x27;15-07-2022&#x27;, &#x27;15-07-2022&#x27;, &#x27;15-07-2022&#x27;, ..., &#x27;13-04-2022&#x27;,\n",
       "       &#x27;13-04-2022&#x27;, &#x27;13-04-2022&#x27;], dtype=object)</pre></div></li><li class='xr-var-item'><div class='xr-var-name'><span>Field size (ha)</span></div><div class='xr-var-dims'>(index)</div><div class='xr-var-dtype'>float64</div><div class='xr-var-preview xr-preview'>3.4 3.4 3.4 3.4 ... 2.3 2.3 2.3 2.3</div><input id='attrs-9cf9f208-2749-4976-9c0d-d96ba61cbea8' class='xr-var-attrs-in' type='checkbox' disabled><label for='attrs-9cf9f208-2749-4976-9c0d-d96ba61cbea8' title='Show/Hide attributes'><svg class='icon xr-icon-file-text2'><use xlink:href='#icon-file-text2'></use></svg></label><input id='data-6b7bcfc7-95d4-44a0-a52a-a125841a0f4e' class='xr-var-data-in' type='checkbox'><label for='data-6b7bcfc7-95d4-44a0-a52a-a125841a0f4e' title='Show/Hide data repr'><svg class='icon xr-icon-database'><use xlink:href='#icon-database'></use></svg></label><div class='xr-var-attrs'><dl class='xr-attrs'></dl></div><div class='xr-var-data'><pre>array([3.4, 3.4, 3.4, ..., 2.3, 2.3, 2.3])</pre></div></li><li class='xr-var-item'><div class='xr-var-name'><span>Rice Yield (kg/ha)</span></div><div class='xr-var-dims'>(index)</div><div class='xr-var-dtype'>int64</div><div class='xr-var-preview xr-preview'>5500 5500 5500 ... 7200 7200 7200</div><input id='attrs-eb526342-d020-44fb-92ba-815eeefad98b' class='xr-var-attrs-in' type='checkbox' disabled><label for='attrs-eb526342-d020-44fb-92ba-815eeefad98b' title='Show/Hide attributes'><svg class='icon xr-icon-file-text2'><use xlink:href='#icon-file-text2'></use></svg></label><input id='data-212f112a-f322-4c78-aabc-f5220c8247bf' class='xr-var-data-in' type='checkbox'><label for='data-212f112a-f322-4c78-aabc-f5220c8247bf' title='Show/Hide data repr'><svg class='icon xr-icon-database'><use xlink:href='#icon-database'></use></svg></label><div class='xr-var-attrs'><dl class='xr-attrs'></dl></div><div class='xr-var-data'><pre>array([5500, 5500, 5500, ..., 7200, 7200, 7200])</pre></div></li><li class='xr-var-item'><div class='xr-var-name'><span>red</span></div><div class='xr-var-dims'>(index)</div><div class='xr-var-dtype'>float64</div><div class='xr-var-preview xr-preview'>3.698e+03 2.536e+03 ... 1.148e+03</div><input id='attrs-90915d95-2443-4a59-8c2c-2051a1e12671' class='xr-var-attrs-in' type='checkbox' disabled><label for='attrs-90915d95-2443-4a59-8c2c-2051a1e12671' title='Show/Hide attributes'><svg class='icon xr-icon-file-text2'><use xlink:href='#icon-file-text2'></use></svg></label><input id='data-0d8899a0-422e-4895-a019-aa1442a5bd24' class='xr-var-data-in' type='checkbox'><label for='data-0d8899a0-422e-4895-a019-aa1442a5bd24' title='Show/Hide data repr'><svg class='icon xr-icon-database'><use xlink:href='#icon-database'></use></svg></label><div class='xr-var-attrs'><dl class='xr-attrs'></dl></div><div class='xr-var-data'><pre>array([3697.5583, 2535.528 , 5604.6904, ..., 1294.7356, 5577.943 ,\n",
       "       1148.4178])</pre></div></li><li class='xr-var-item'><div class='xr-var-name'><span>green</span></div><div class='xr-var-dims'>(index)</div><div class='xr-var-dtype'>float64</div><div class='xr-var-preview xr-preview'>4.125e+03 2.873e+03 ... 1.001e+03</div><input id='attrs-5da397c6-13b1-4640-a4c9-57396fc751ce' class='xr-var-attrs-in' type='checkbox' disabled><label for='attrs-5da397c6-13b1-4640-a4c9-57396fc751ce' title='Show/Hide attributes'><svg class='icon xr-icon-file-text2'><use xlink:href='#icon-file-text2'></use></svg></label><input id='data-3d795e59-c655-408c-9820-57ab3f4a5ded' class='xr-var-data-in' type='checkbox'><label for='data-3d795e59-c655-408c-9820-57ab3f4a5ded' title='Show/Hide data repr'><svg class='icon xr-icon-database'><use xlink:href='#icon-database'></use></svg></label><div class='xr-var-attrs'><dl class='xr-attrs'></dl></div><div class='xr-var-data'><pre>array([4125.3755 , 2872.9207 , 6029.8745 , ..., 1190.464  , 5993.0215 ,\n",
       "       1001.30194])</pre></div></li><li class='xr-var-item'><div class='xr-var-name'><span>blue</span></div><div class='xr-var-dims'>(index)</div><div class='xr-var-dtype'>float64</div><div class='xr-var-preview xr-preview'>4.311e+03 2.733e+03 ... 679.6</div><input id='attrs-e96641cc-2d95-4c26-be18-aeaffcb4fcd9' class='xr-var-attrs-in' type='checkbox' disabled><label for='attrs-e96641cc-2d95-4c26-be18-aeaffcb4fcd9' title='Show/Hide attributes'><svg class='icon xr-icon-file-text2'><use xlink:href='#icon-file-text2'></use></svg></label><input id='data-1cf824ef-a074-4079-9bf2-9441c1762273' class='xr-var-data-in' type='checkbox'><label for='data-1cf824ef-a074-4079-9bf2-9441c1762273' title='Show/Hide data repr'><svg class='icon xr-icon-database'><use xlink:href='#icon-database'></use></svg></label><div class='xr-var-attrs'><dl class='xr-attrs'></dl></div><div class='xr-var-data'><pre>array([4311.1367 , 2733.4702 , 6301.8945 , ...,  914.6582 , 6593.961  ,\n",
       "        679.56586])</pre></div></li><li class='xr-var-item'><div class='xr-var-name'><span>rededge1</span></div><div class='xr-var-dims'>(index)</div><div class='xr-var-dtype'>float64</div><div class='xr-var-preview xr-preview'>4.424e+03 3.233e+03 ... 1.537e+03</div><input id='attrs-a2fcd63e-e37f-406a-8d4a-4e6283f174a5' class='xr-var-attrs-in' type='checkbox' disabled><label for='attrs-a2fcd63e-e37f-406a-8d4a-4e6283f174a5' title='Show/Hide attributes'><svg class='icon xr-icon-file-text2'><use xlink:href='#icon-file-text2'></use></svg></label><input id='data-1609a17d-42a7-4932-81d8-c67923c31c7b' class='xr-var-data-in' type='checkbox'><label for='data-1609a17d-42a7-4932-81d8-c67923c31c7b' title='Show/Hide data repr'><svg class='icon xr-icon-database'><use xlink:href='#icon-database'></use></svg></label><div class='xr-var-attrs'><dl class='xr-attrs'></dl></div><div class='xr-var-data'><pre>array([4423.822 , 3232.93  , 6369.7524, ..., 1609.6283, 6224.579 ,\n",
       "       1536.6497])</pre></div></li><li class='xr-var-item'><div class='xr-var-name'><span>rededge2</span></div><div class='xr-var-dims'>(index)</div><div class='xr-var-dtype'>float64</div><div class='xr-var-preview xr-preview'>5.134e+03 4.738e+03 ... 1.813e+03</div><input id='attrs-18f59394-14d3-4eaf-80ef-aa4ea855ec4d' class='xr-var-attrs-in' type='checkbox' disabled><label for='attrs-18f59394-14d3-4eaf-80ef-aa4ea855ec4d' title='Show/Hide attributes'><svg class='icon xr-icon-file-text2'><use xlink:href='#icon-file-text2'></use></svg></label><input id='data-31a01920-db82-4582-b14a-8d913ef4ecb0' class='xr-var-data-in' type='checkbox'><label for='data-31a01920-db82-4582-b14a-8d913ef4ecb0' title='Show/Hide data repr'><svg class='icon xr-icon-database'><use xlink:href='#icon-database'></use></svg></label><div class='xr-var-attrs'><dl class='xr-attrs'></dl></div><div class='xr-var-data'><pre>array([5134.4043, 4738.1465, 6811.8735, ..., 1746.1073, 5828.1455,\n",
       "       1813.2838])</pre></div></li><li class='xr-var-item'><div class='xr-var-name'><span>rededge3</span></div><div class='xr-var-dims'>(index)</div><div class='xr-var-dtype'>float64</div><div class='xr-var-preview xr-preview'>5.402e+03 5.68e+03 ... 1.975e+03</div><input id='attrs-13774ea3-1849-4841-979f-d1604404ac21' class='xr-var-attrs-in' type='checkbox' disabled><label for='attrs-13774ea3-1849-4841-979f-d1604404ac21' title='Show/Hide attributes'><svg class='icon xr-icon-file-text2'><use xlink:href='#icon-file-text2'></use></svg></label><input id='data-6bf751e7-a649-457b-9621-5ef12c6f4248' class='xr-var-data-in' type='checkbox'><label for='data-6bf751e7-a649-457b-9621-5ef12c6f4248' title='Show/Hide data repr'><svg class='icon xr-icon-database'><use xlink:href='#icon-database'></use></svg></label><div class='xr-var-attrs'><dl class='xr-attrs'></dl></div><div class='xr-var-data'><pre>array([5401.9062, 5680.2427, 7004.7583, ..., 1856.7465, 5562.09  ,\n",
       "       1974.5256])</pre></div></li><li class='xr-var-item'><div class='xr-var-name'><span>nir</span></div><div class='xr-var-dims'>(index)</div><div class='xr-var-dtype'>float64</div><div class='xr-var-preview xr-preview'>5.447e+03 5.569e+03 ... 1.951e+03</div><input id='attrs-c73bc1a4-6c00-423c-88ad-4a84a7dcf045' class='xr-var-attrs-in' type='checkbox' disabled><label for='attrs-c73bc1a4-6c00-423c-88ad-4a84a7dcf045' title='Show/Hide attributes'><svg class='icon xr-icon-file-text2'><use xlink:href='#icon-file-text2'></use></svg></label><input id='data-24698041-0493-4d30-9284-72814455eff6' class='xr-var-data-in' type='checkbox'><label for='data-24698041-0493-4d30-9284-72814455eff6' title='Show/Hide data repr'><svg class='icon xr-icon-database'><use xlink:href='#icon-database'></use></svg></label><div class='xr-var-attrs'><dl class='xr-attrs'></dl></div><div class='xr-var-data'><pre>array([5447.0576, 5568.9375, 7032.0815, ..., 1762.173 , 5916.3804,\n",
       "       1950.526 ])</pre></div></li><li class='xr-var-item'><div class='xr-var-name'><span>swir</span></div><div class='xr-var-dims'>(index)</div><div class='xr-var-dtype'>float64</div><div class='xr-var-preview xr-preview'>3.092e+03 3.416e+03 ... 1.259e+03</div><input id='attrs-7e76dced-dd05-42cb-a751-c5e88c420b37' class='xr-var-attrs-in' type='checkbox' disabled><label for='attrs-7e76dced-dd05-42cb-a751-c5e88c420b37' title='Show/Hide attributes'><svg class='icon xr-icon-file-text2'><use xlink:href='#icon-file-text2'></use></svg></label><input id='data-cf3ef79f-985e-4ac5-b094-1cbd6143bd20' class='xr-var-data-in' type='checkbox'><label for='data-cf3ef79f-985e-4ac5-b094-1cbd6143bd20' title='Show/Hide data repr'><svg class='icon xr-icon-database'><use xlink:href='#icon-database'></use></svg></label><div class='xr-var-attrs'><dl class='xr-attrs'></dl></div><div class='xr-var-data'><pre>array([3092.398 , 3415.5474, 4554.75  , ..., 1516.7279, 4484.9688,\n",
       "       1258.6052])</pre></div></li></ul></div></li><li class='xr-section-item'><input id='section-11e008b1-1263-4199-9311-40a0a5424a8a' class='xr-section-summary-in' type='checkbox'  ><label for='section-11e008b1-1263-4199-9311-40a0a5424a8a' class='xr-section-summary' >Indexes: <span>(2)</span></label><div class='xr-section-inline-details'></div><div class='xr-section-details'><ul class='xr-var-list'><li class='xr-var-item'><div class='xr-index-name'><div>index</div></div><div class='xr-index-preview'>PandasIndex</div><div></div><input id='index-92b98059-e228-41ca-b4e3-b6cf93221afd' class='xr-index-data-in' type='checkbox'/><label for='index-92b98059-e228-41ca-b4e3-b6cf93221afd' title='Show/Hide index repr'><svg class='icon xr-icon-database'><use xlink:href='#icon-database'></use></svg></label><div class='xr-index-data'><pre>PandasIndex(RangeIndex(start=0, stop=13368, step=1, name=&#x27;index&#x27;))</pre></div></li><li class='xr-var-item'><div class='xr-index-name'><div>dim_0</div></div><div class='xr-index-preview'>PandasIndex</div><div></div><input id='index-a9a76a30-b72f-454b-8a0f-d8a99b8d7c1a' class='xr-index-data-in' type='checkbox'/><label for='index-a9a76a30-b72f-454b-8a0f-d8a99b8d7c1a' title='Show/Hide index repr'><svg class='icon xr-icon-database'><use xlink:href='#icon-database'></use></svg></label><div class='xr-index-data'><pre>PandasIndex(RangeIndex(start=0, stop=13368, step=1, name=&#x27;dim_0&#x27;))</pre></div></li></ul></div></li><li class='xr-section-item'><input id='section-09adb0aa-502e-4b55-998b-afab3e49e4eb' class='xr-section-summary-in' type='checkbox' disabled ><label for='section-09adb0aa-502e-4b55-998b-afab3e49e4eb' class='xr-section-summary'  title='Expand/collapse section'>Attributes: <span>(0)</span></label><div class='xr-section-inline-details'></div><div class='xr-section-details'><dl class='xr-attrs'></dl></div></li></ul></div></div>"
      ],
      "text/plain": [
       "<xarray.Dataset>\n",
       "Dimensions:                                         (index: 13368, dim_0: 13368)\n",
       "Coordinates:\n",
       "  * index                                           (index) int64 0 1 ... 13367\n",
       "    timeserieindex                                  (dim_0) int64 0 0 ... 556\n",
       "  * dim_0                                           (dim_0) int64 0 1 ... 13367\n",
       "Data variables: (12/17)\n",
       "    time                                            (index) object '2022-07-1...\n",
       "    District                                        (index) object 'Chau_Phu'...\n",
       "    Latitude                                        (index) float64 10.51 ......\n",
       "    Longitude                                       (index) float64 105.2 ......\n",
       "    Season(SA = Summer Autumn, WS = Winter Spring)  (index) object 'SA' ... 'WS'\n",
       "    Rice Crop Intensity(D=Double, T=Triple)         (index) object 'T' ... 'T'\n",
       "    ...                                              ...\n",
       "    blue                                            (index) float64 4.311e+03...\n",
       "    rededge1                                        (index) float64 4.424e+03...\n",
       "    rededge2                                        (index) float64 5.134e+03...\n",
       "    rededge3                                        (index) float64 5.402e+03...\n",
       "    nir                                             (index) float64 5.447e+03...\n",
       "    swir                                            (index) float64 3.092e+03..."
      ]
     },
     "execution_count": 219,
     "metadata": {},
     "output_type": "execute_result"
    }
   ],
   "source": [
    "df = make_timeseries(df)\n",
    "xarray.DataArray(df, coords=['place', 'index', 'bands'], )"
   ]
  },
  {
   "cell_type": "code",
   "execution_count": null,
   "id": "de9836ea",
   "metadata": {},
   "outputs": [],
   "source": []
  }
 ],
 "metadata": {
  "kernelspec": {
   "display_name": "ey-2023",
   "language": "python",
   "name": "python3"
  },
  "language_info": {
   "codemirror_mode": {
    "name": "ipython",
    "version": 3
   },
   "file_extension": ".py",
   "mimetype": "text/x-python",
   "name": "python",
   "nbconvert_exporter": "python",
   "pygments_lexer": "ipython3",
   "version": "3.9.16"
  },
  "vscode": {
   "interpreter": {
    "hash": "353ca53f41db0789cec1e194ee0b8e429e5e329f35794a56f1da54b6bab362ad"
   }
  }
 },
 "nbformat": 4,
 "nbformat_minor": 5
}
