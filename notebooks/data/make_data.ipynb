{
 "cells": [
  {
   "cell_type": "code",
   "execution_count": 1,
   "id": "83dac3ca-8748-4cfc-a81b-278137f7af0c",
   "metadata": {},
   "outputs": [],
   "source": [
    "import pystac_client\n",
    "import planetary_computer as pc\n",
    "import pandas as pd\n",
    "from datetime import datetime, timedelta\n",
    "from odc.stac import stac_load\n",
    "import numpy as np\n",
    "from PIL import Image\n",
    "import os\n",
    "from glob import glob\n",
    "import multiprocessing\n",
    "from pandarallel import pandarallel\n",
    "import math\n",
    "\n",
    "# from dotenv import load_dotenv\n",
    "# load_dotenv()\n",
    "# pc.settings.set_subscription_key(os.getenv('PC_SDK_SUBSCRIPTION_KEY'))\n",
    "\n",
    "# Make data constants\n",
    "SIZE = 'adaptative' # 'fixed'\n",
    "DEGREE = 0.0014589825157734703 # = ha_to_degree(2.622685) # Field size (ha) mean = 2.622685 (train + test)"
   ]
  },
  {
   "cell_type": "code",
   "execution_count": 2,
   "id": "8b12eea5-d826-4bf5-b25b-1d09a01d6464",
   "metadata": {},
   "outputs": [],
   "source": [
    "def explode_sar(row):\n",
    "    sar_data = row['SAR data']\n",
    "    for key in sar_data.keys():\n",
    "        row[key] = sar_data[key]\n",
    "    return row\n",
    "\n",
    "\n",
    "def ha_to_degree(field_size): # Field_size (ha)\n",
    "    ''' \n",
    "    1° ~= 111km\n",
    "    1ha = 0.01km2\n",
    "    then, side_size = sqrt(0.01 * field_size) (km)\n",
    "    so, degree = side_size / 111 (°)\n",
    "    '''\n",
    "    side_size = math.sqrt(0.01 * field_size) \n",
    "    degree = side_size / 111\n",
    "    return degree\n",
    "\n",
    "\n",
    "def create_folders():\n",
    "    os.makedirs('../../data/processed', exist_ok=True)\n",
    "    if SIZE == 'fixed':\n",
    "        degree = str(round(DEGREE, 5)).replace(\".\", \"-\")\n",
    "        save_folder = f'../../data/processed/fixed_{degree}'\n",
    "    elif SIZE == 'adaptative':\n",
    "        save_folder = f'../../data/processed/adaptative'\n",
    "        \n",
    "    os.makedirs(save_folder, exist_ok=True)\n",
    "    return save_folder\n",
    "\n",
    "\n",
    "def band_to_name(band):\n",
    "    if band == 'B05':\n",
    "        band = 'rededge1'\n",
    "    elif band == 'B06':\n",
    "        band = 'rededge2'\n",
    "    elif band == 'B07':\n",
    "        band = 'rededge3'\n",
    "    elif band == 'B11':\n",
    "        band = 'swir'\n",
    "    return band\n",
    "\n",
    "\n",
    "def get_bbox(longitude, latitude, field_size):\n",
    "    if SIZE == 'fixed':\n",
    "        degree = DEGREE\n",
    "    elif SIZE == 'adaptative':\n",
    "        degree = ha_to_degree(field_size)\n",
    "        \n",
    "    min_longitude = longitude - degree / 2\n",
    "    min_latitude = latitude - degree / 2\n",
    "    max_longitude = longitude + degree / 2\n",
    "    max_latitude = latitude + degree / 2 \n",
    "    return (min_longitude, min_latitude, max_longitude, max_latitude)\n",
    "\n",
    "def get_time_period(havest_date, history_days):\n",
    "    havest_datetime = datetime.strptime(havest_date, '%d-%m-%Y')\n",
    "    sowing_datetime = havest_datetime - timedelta(days=history_days)\n",
    "    return f'{sowing_datetime.strftime(\"%Y-%m-%d\")}/{havest_datetime.strftime(\"%Y-%m-%d\")}'\n",
    "\n",
    "\n",
    "def get_data(bbox, time_period, bands, scale):\n",
    "    catalog = pystac_client.Client.open(\"https://planetarycomputer.microsoft.com/api/stac/v1\", modifier=pc.sign_inplace)\n",
    "    search = catalog.search(collections=[\"sentinel-2-l2a\"], bbox=bbox, datetime=time_period)\n",
    "    items = search.item_collection()\n",
    "    data = stac_load(items, bands=bands, crs=\"EPSG:4326\", resolution=scale, bbox=bbox)\n",
    "    return data\n",
    "\n",
    "\n",
    "def save_data(row, df, history_days=130, history_dates=24, resolution=10):\n",
    "    scale = resolution / 111320.0\n",
    "    bands = ['red', 'green', 'blue', 'B05', 'B06', 'B07', 'nir', 'B11']\n",
    "    \n",
    "    longitude = row['Longitude']\n",
    "    latitude = row['Latitude']\n",
    "    field_size = float(row['Field size (ha)'])\n",
    "    bbox = get_bbox(longitude, latitude, field_size)\n",
    "\n",
    "    havest_date = row['Date of Harvest']\n",
    "    time_period = get_time_period(havest_date, history_days)\n",
    "    \n",
    "    data = get_data(bbox, time_period, bands, scale)\n",
    "\n",
    "    sar_data_list = []\n",
    "    for i in range(1, history_dates + 1):\n",
    "        sar_data_dict = {}\n",
    "        time = data.time[-i].values\n",
    "        sar_data_dict['date'] = pd.to_datetime(time).strftime('%d-%m-%Y')\n",
    "\n",
    "        for band in bands:\n",
    "            array = data[band][-i].to_numpy()\n",
    "            band = band_to_name(band)\n",
    "            sar_data_dict[band] = np.nanmean(array)\n",
    "        \n",
    "        sar_data_list.append(sar_data_dict)\n",
    "\n",
    "    return sar_data_list\n",
    "\n",
    "\n",
    "def make_data(path, save_folder):\n",
    "    df = pd.read_csv(path)\n",
    "    print(f'\\nRetrieve SAR data from {path.split(\"/\")[-1]}...')\n",
    "    df['SAR data'] = df.parallel_apply(lambda row: save_data(row, df), axis=1)\n",
    "    df = df.explode('SAR data')\n",
    "    print(f'\\nExplode SAR data from {path.split(\"/\")[-1]}...')\n",
    "    df = df.parallel_apply(explode_sar, axis=1)\n",
    "    df = df.drop(columns='SAR data')\n",
    "    print(f'\\nSave SAR data from {path.split(\"/\")[-1]}...')\n",
    "    df.to_csv(f'{save_folder}/{path.split(\"/\")[-1]}', index=False)\n",
    "    print(f'\\nSAR data from {path.split(\"/\")[-1]} saved!')"
   ]
  },
  {
   "cell_type": "code",
   "execution_count": 3,
   "id": "63c8a4f8-c7ba-4382-8f69-450f51e319ae",
   "metadata": {},
   "outputs": [
    {
     "name": "stdout",
     "output_type": "stream",
     "text": [
      "INFO: Pandarallel will run on 16 workers.\n",
      "INFO: Pandarallel will use Memory file system to transfer data between the main process and workers.\n",
      "\n",
      "Retrieve SAR data from train.csv...\n"
     ]
    },
    {
     "data": {
      "application/vnd.jupyter.widget-view+json": {
       "model_id": "24c6cfc8796f4692a8c8d2df3afef6a0",
       "version_major": 2,
       "version_minor": 0
      },
      "text/plain": [
       "VBox(children=(HBox(children=(IntProgress(value=0, description='0.00%', max=35), Label(value='0 / 35'))), HBox…"
      ]
     },
     "metadata": {},
     "output_type": "display_data"
    },
    {
     "name": "stdout",
     "output_type": "stream",
     "text": [
      "\n",
      "Explode SAR data from train.csv...\n"
     ]
    },
    {
     "data": {
      "application/vnd.jupyter.widget-view+json": {
       "model_id": "334ecb30bac64d5c84c59c12b761207b",
       "version_major": 2,
       "version_minor": 0
      },
      "text/plain": [
       "VBox(children=(HBox(children=(IntProgress(value=0, description='0.00%', max=836), Label(value='0 / 836'))), HB…"
      ]
     },
     "metadata": {},
     "output_type": "display_data"
    },
    {
     "name": "stdout",
     "output_type": "stream",
     "text": [
      "\n",
      "Save SAR data from train.csv...\n",
      "\n",
      "SAR data from train.csv saved!\n",
      "\n",
      "Retrieve SAR data from test.csv...\n"
     ]
    },
    {
     "data": {
      "application/vnd.jupyter.widget-view+json": {
       "model_id": "5d666c973a724200b05207df8a1c93af",
       "version_major": 2,
       "version_minor": 0
      },
      "text/plain": [
       "VBox(children=(HBox(children=(IntProgress(value=0, description='0.00%', max=7), Label(value='0 / 7'))), HBox(c…"
      ]
     },
     "metadata": {},
     "output_type": "display_data"
    },
    {
     "name": "stdout",
     "output_type": "stream",
     "text": [
      "\n",
      "Explode SAR data from test.csv...\n"
     ]
    },
    {
     "data": {
      "application/vnd.jupyter.widget-view+json": {
       "model_id": "c7f6727d51e24156b1b9cf0ee237cad8",
       "version_major": 2,
       "version_minor": 0
      },
      "text/plain": [
       "VBox(children=(HBox(children=(IntProgress(value=0, description='0.00%', max=150), Label(value='0 / 150'))), HB…"
      ]
     },
     "metadata": {},
     "output_type": "display_data"
    },
    {
     "name": "stdout",
     "output_type": "stream",
     "text": [
      "\n",
      "Save SAR data from test.csv...\n",
      "\n",
      "SAR data from test.csv saved!\n"
     ]
    }
   ],
   "source": [
    "pandarallel.initialize(progress_bar=True, nb_workers=16)\n",
    "save_folder = create_folders()\n",
    "\n",
    "train_path = '../../data/raw/train.csv'\n",
    "make_data(train_path, save_folder)\n",
    "\n",
    "test_path = '../../data/raw/test.csv'\n",
    "make_data(test_path, save_folder)"
   ]
  }
 ],
 "metadata": {
  "kernelspec": {
   "display_name": "Python [conda env:notebook] *",
   "language": "python",
   "name": "conda-env-notebook-py"
  },
  "language_info": {
   "codemirror_mode": {
    "name": "ipython",
    "version": 3
   },
   "file_extension": ".py",
   "mimetype": "text/x-python",
   "name": "python",
   "nbconvert_exporter": "python",
   "pygments_lexer": "ipython3",
   "version": "3.10.6"
  }
 },
 "nbformat": 4,
 "nbformat_minor": 5
}
