{
 "cells": [
  {
   "cell_type": "code",
   "execution_count": 1,
   "id": "2faca195-623f-46f3-bb78-db480ad4e7bd",
   "metadata": {},
   "outputs": [],
   "source": [
    "import xarray as xr\n",
    "import pandas as pd\n",
    "from os.path import join\n",
    "from sklearn.preprocessing import MinMaxScaler"
   ]
  },
  {
   "cell_type": "code",
   "execution_count": 2,
   "id": "b4df6089-0d34-4a8c-a1b6-caa2596527da",
   "metadata": {},
   "outputs": [],
   "source": [
    "ROOT_DIR = '/home/jovyan/crop-forecasting'\n",
    "FOLDER = 'augment_50_5'"
   ]
  },
  {
   "cell_type": "code",
   "execution_count": 3,
   "id": "88babe3e-04d2-47a7-ae88-5466652c0f79",
   "metadata": {},
   "outputs": [],
   "source": [
    "xdf_train = xr.open_dataset(join(ROOT_DIR, 'data', 'processed', FOLDER, 'train.nc'), engine='scipy')\n",
    "df_train = pd.read_csv(join(ROOT_DIR, 'data', 'interim', 'train_enriched.csv'))\n",
    "df_train.set_index(['Unnamed: 0'], inplace=True)\n",
    "dictio = {'Unnamed: 0': xdf_train['ts_obs']}\n",
    "\n",
    "scaler = MinMaxScaler()\n",
    "scaler.fit(df_train[['Other Rice Yield (kg/ha)']])\n",
    "df_train['Other Rice Yield (kg/ha)'] = scaler.transform(df_train[['Other Rice Yield (kg/ha)']])\n",
    "\n",
    "xdf_train = xr.merge([xdf_train, df_train[['Other Rice Yield (kg/ha)']].to_xarray().sel(**dictio)], compat='override')\n",
    "xdf_train = xdf_train.reset_coords('Unnamed: 0', drop=True)"
   ]
  },
  {
   "cell_type": "code",
   "execution_count": 4,
   "id": "9f47da15-436e-46d2-b54b-65ec0960f788",
   "metadata": {},
   "outputs": [],
   "source": [
    "xdf_test = xr.open_dataset(join(ROOT_DIR, 'data', 'processed', FOLDER, 'test.nc'), engine='scipy')\n",
    "df_test = pd.read_csv(join(ROOT_DIR, 'data', 'interim', 'test_enriched.csv'))\n",
    "df_test.set_index(['Unnamed: 0'], inplace=True)\n",
    "dictio = {'Unnamed: 0': xdf_test['ts_obs']}\n",
    "\n",
    "scaler.fit(df_test[['Other Rice Yield (kg/ha)']])\n",
    "df_test['Other Rice Yield (kg/ha)'] = scaler.transform(df_test[['Other Rice Yield (kg/ha)']])\n",
    "\n",
    "xdf_test = xr.merge([xdf_test, df_test[['Other Rice Yield (kg/ha)']].to_xarray().sel(**dictio)], compat='override')\n",
    "xdf_test = xdf_test.reset_coords('Unnamed: 0', drop=True)"
   ]
  },
  {
   "cell_type": "code",
   "execution_count": 5,
   "id": "4d5c99d3-5984-4cbb-9ae0-b4853d3e808d",
   "metadata": {},
   "outputs": [],
   "source": [
    "xdf_train.to_netcdf(join(ROOT_DIR, 'data', 'processed', FOLDER, 'train_enriched.nc'), engine='scipy')\n",
    "xdf_test.to_netcdf(join(ROOT_DIR, 'data', 'processed', FOLDER, 'test_enriched.nc'), engine='scipy')"
   ]
  }
 ],
 "metadata": {
  "kernelspec": {
   "display_name": "Python [conda env:notebook] *",
   "language": "python",
   "name": "conda-env-notebook-py"
  },
  "language_info": {
   "codemirror_mode": {
    "name": "ipython",
    "version": 3
   },
   "file_extension": ".py",
   "mimetype": "text/x-python",
   "name": "python",
   "nbconvert_exporter": "python",
   "pygments_lexer": "ipython3",
   "version": "3.9.13"
  }
 },
 "nbformat": 4,
 "nbformat_minor": 5
}
