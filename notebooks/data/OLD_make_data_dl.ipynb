{
 "cells": [
  {
   "cell_type": "code",
   "execution_count": 1,
   "id": "19c38328-175d-439a-b498-7ece078342c2",
   "metadata": {},
   "outputs": [],
   "source": [
    "import warnings\n",
    "warnings.filterwarnings(\"ignore\")\n",
    "\n",
    "import pandas as pd\n",
    "from sklearn.preprocessing import StandardScaler, MinMaxScaler\n",
    "import joblib"
   ]
  },
  {
   "cell_type": "markdown",
   "id": "b8aa5263-106b-48b6-8069-b20cad0b41e8",
   "metadata": {},
   "source": [
    "# Constants"
   ]
  },
  {
   "cell_type": "code",
   "execution_count": 2,
   "id": "e3bac025-1350-43f8-a007-7b885283a2e5",
   "metadata": {},
   "outputs": [],
   "source": [
    "FOLDER = 'fixed_0-00146'\n",
    "M_COLUMNS = ['tempmax', 'tempmin', 'temp', 'dew', 'humidity', 'precip', 'precipprob', 'precipcover', 'windspeed', 'winddir', \n",
    "             'sealevelpressure', 'cloudcover', 'visibility', 'solarradiation', 'solarenergy', 'uvindex', 'moonphase']\n",
    "\n",
    "S_COLUMNS = ['ndvi', 'savi', 'evi', 'rep', 'osavi', 'rdvi', 'mtvi1', 'lswi']\n",
    "G_COLUMNS = ['D', 'T', 'Field size (ha)']"
   ]
  },
  {
   "cell_type": "markdown",
   "id": "d7caafba-03b5-4e13-9e1b-e9948c7f1641",
   "metadata": {},
   "source": [
    "# Retrieve all weather data"
   ]
  },
  {
   "cell_type": "code",
   "execution_count": 3,
   "id": "d70cd693-148d-4a37-95b4-ee199842dedf",
   "metadata": {},
   "outputs": [],
   "source": [
    "weather_path = f'../../data/raw/weather'\n",
    "chau_phu = pd.read_csv(f'{weather_path}/Chau Phu.csv')\n",
    "chau_thanh = pd.read_csv(f'{weather_path}/Chau Thanh.csv')\n",
    "thoai_son = pd.read_csv(f'{weather_path}/Thoai Son.csv')\n",
    "weather_df = pd.concat([chau_phu, chau_thanh, thoai_son])\n",
    "\n",
    "# remove NULL columns\n",
    "null_cols = ['preciptype', 'snow', 'snowdepth', 'windgust', 'severerisk']\n",
    "weather_df = weather_df.drop(columns=null_cols)\n",
    "\n",
    "# remove useless columns \n",
    "useless_cols = ['conditions', 'description', 'icon', 'stations']\n",
    "weather_df = weather_df.drop(columns=useless_cols)\n",
    "\n",
    "# preprocess come columns\n",
    "weather_df['name'] = weather_df['name'].apply(lambda x: x.replace(' ', '_'))\n",
    "weather_df['datetime'] = weather_df['datetime'].apply(lambda x: f'{x.split(\"-\")[2]}-{x.split(\"-\")[1]}-{x.split(\"-\")[0]}')"
   ]
  },
  {
   "cell_type": "markdown",
   "id": "fd7b56a2-1848-47e7-8445-e1e31a395a3f",
   "metadata": {},
   "source": [
    "# Retrieve train data"
   ]
  },
  {
   "cell_type": "code",
   "execution_count": 4,
   "id": "d7a1ce2c-d45c-4082-8ce7-291e1bdcc9f5",
   "metadata": {},
   "outputs": [],
   "source": [
    "# get VIs data\n",
    "train_path = f'../../data/processed/{FOLDER}/train_vi.csv'\n",
    "train_df = pd.read_csv(train_path)\n",
    "\n",
    "# join weather data\n",
    "join_train_df = train_df.merge(weather_df, how='inner', left_on=['District', 'date'], right_on=['name', 'datetime'])\n",
    "\n",
    "# get raw data\n",
    "raw_train_path = '../../data/raw/train.csv'\n",
    "raw_train_df = pd.read_csv(raw_train_path)\n",
    "\n",
    "# preprocess Rice Crop Intensity\n",
    "intensity = pd.get_dummies(raw_train_df['Rice Crop Intensity(D=Double, T=Triple)'])\n",
    "raw_train_df = raw_train_df.drop(columns=['Rice Crop Intensity(D=Double, T=Triple)', 'Season(SA = Summer Autumn, WS = Winter Spring)'])\n",
    "raw_train_df = pd.concat([raw_train_df, intensity], axis=1)"
   ]
  },
  {
   "cell_type": "markdown",
   "id": "3cddea9a-349a-47b0-a28b-58b3ed6b2245",
   "metadata": {},
   "source": [
    "# Retrieve test data"
   ]
  },
  {
   "cell_type": "code",
   "execution_count": 5,
   "id": "4f4be0c8-3c60-400b-8303-98d6602ab4ed",
   "metadata": {},
   "outputs": [],
   "source": [
    "# get VIs data\n",
    "test_path = f'../../data/processed/{FOLDER}/test_vi.csv'\n",
    "test_df = pd.read_csv(test_path)\n",
    "\n",
    "# join weather data\n",
    "join_test_df = test_df.merge(weather_df, how='inner', left_on=['District', 'date'], right_on=['name', 'datetime'])\n",
    "\n",
    "# get raw data\n",
    "raw_test_path = '../../data/raw/test.csv'\n",
    "raw_test_df = pd.read_csv(raw_test_path)\n",
    "\n",
    "# preprocess Rice Crop Intensity\n",
    "intensity = pd.get_dummies(raw_test_df['Rice Crop Intensity(D=Double, T=Triple)'])\n",
    "raw_test_df = raw_test_df.drop(columns=['Rice Crop Intensity(D=Double, T=Triple)', 'Season(SA = Summer Autumn, WS = Winter Spring)'])\n",
    "raw_test_df = pd.concat([raw_test_df, intensity], axis=1)"
   ]
  },
  {
   "cell_type": "markdown",
   "id": "1311de8e-8a65-47af-80f8-81664cf6d859",
   "metadata": {},
   "source": [
    "# Normalization"
   ]
  },
  {
   "cell_type": "code",
   "execution_count": 6,
   "id": "4843f39b-e5b6-4b4d-bca2-e8225aefe48e",
   "metadata": {},
   "outputs": [],
   "source": [
    "raw_cols = G_COLUMNS\n",
    "join_cols = S_COLUMNS + M_COLUMNS\n",
    "\n",
    "# RAW DATA #########################################################\n",
    "raw_scaler = StandardScaler()\n",
    "raw_scaler.fit(raw_train_df[raw_cols])\n",
    "\n",
    "scaled_raw_train_df = pd.DataFrame(raw_scaler.transform(raw_train_df[raw_cols]), columns=raw_cols)\n",
    "raw_train_df = raw_train_df.drop(columns=raw_cols)\n",
    "raw_train_df = pd.concat([raw_train_df, scaled_raw_train_df], axis=1)\n",
    "\n",
    "scaled_raw_test_df = pd.DataFrame(raw_scaler.transform(raw_test_df[raw_cols]), columns=raw_cols)\n",
    "raw_test_df = raw_test_df.drop(columns=raw_cols)\n",
    "raw_test_df = pd.concat([raw_test_df, scaled_raw_test_df], axis=1)\n",
    "\n",
    "# JOIN DATA #########################################################\n",
    "join_scaler = StandardScaler()\n",
    "join_scaler.fit(join_train_df[join_cols])\n",
    "\n",
    "scaled_join_train_df = pd.DataFrame(join_scaler.transform(join_train_df[join_cols]), columns=join_cols)\n",
    "join_train_df = join_train_df.drop(columns=join_cols)\n",
    "join_train_df = pd.concat([join_train_df, scaled_join_train_df], axis=1)\n",
    "\n",
    "scaled_join_test_df = pd.DataFrame(join_scaler.transform(join_test_df[join_cols]), columns=join_cols)\n",
    "join_test_df = join_test_df.drop(columns=join_cols)\n",
    "join_test_df = pd.concat([join_test_df, scaled_join_test_df], axis=1)"
   ]
  },
  {
   "cell_type": "markdown",
   "id": "014549bf-e2a2-4dca-a902-60879c3f0563",
   "metadata": {},
   "source": [
    "# Scale labels"
   ]
  },
  {
   "cell_type": "code",
   "execution_count": 7,
   "id": "207e1834-b893-468c-bfec-c73d35b9381f",
   "metadata": {},
   "outputs": [
    {
     "data": {
      "text/plain": [
       "['../../data/processed/lstm/fixed_0-00146/label_scaler.joblib']"
      ]
     },
     "execution_count": 7,
     "metadata": {},
     "output_type": "execute_result"
    }
   ],
   "source": [
    "label_col = ['Rice Yield (kg/ha)']\n",
    "label_scaler = MinMaxScaler()\n",
    "label_scaler.fit(raw_train_df[label_col])\n",
    "\n",
    "label_train_df = pd.DataFrame(label_scaler.transform(raw_train_df[label_col]), columns=label_col)\n",
    "raw_train_df = raw_train_df.drop(columns=label_col)\n",
    "raw_train_df = pd.concat([raw_train_df, label_train_df], axis=1)\n",
    "\n",
    "# SAVE THE SCALER TO INVERT TRANSFORM\n",
    "joblib.dump(label_scaler, f'../../data/processed/lstm/{FOLDER}/label_scaler.joblib')"
   ]
  },
  {
   "cell_type": "markdown",
   "id": "735e68dc-6945-4886-877e-63db3b1ace5a",
   "metadata": {},
   "source": [
    "# Save data as CSV files"
   ]
  },
  {
   "cell_type": "code",
   "execution_count": 8,
   "id": "de40c8f6-a299-457f-9b19-3b6eb44097c0",
   "metadata": {},
   "outputs": [],
   "source": [
    "raw_train_df.to_csv(f'../../data/processed/lstm/{FOLDER}/raw_train.csv', index=False)\n",
    "join_train_df.to_csv(f'../../data/processed/lstm/{FOLDER}/join_train.csv', index=False)\n",
    "\n",
    "raw_test_df.to_csv(f'../../data/processed/lstm/{FOLDER}/raw_test.csv', index=False)\n",
    "join_test_df.to_csv(f'../../data/processed/lstm/{FOLDER}/join_test.csv', index=False)"
   ]
  }
 ],
 "metadata": {
  "kernelspec": {
   "display_name": "Python [conda env:notebook] *",
   "language": "python",
   "name": "conda-env-notebook-py"
  },
  "language_info": {
   "codemirror_mode": {
    "name": "ipython",
    "version": 3
   },
   "file_extension": ".py",
   "mimetype": "text/x-python",
   "name": "python",
   "nbconvert_exporter": "python",
   "pygments_lexer": "ipython3",
   "version": "3.10.6"
  }
 },
 "nbformat": 4,
 "nbformat_minor": 5
}
