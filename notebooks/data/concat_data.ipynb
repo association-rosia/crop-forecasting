{
 "cells": [
  {
   "cell_type": "code",
   "execution_count": 1,
   "id": "ca8ce2e2-68c9-4644-ab3b-7d120db8801d",
   "metadata": {},
   "outputs": [],
   "source": [
    "import xarray as xr\n",
    "import numpy as np\n",
    "from os.path import join"
   ]
  },
  {
   "cell_type": "code",
   "execution_count": 2,
   "id": "c2bf647e-08a4-40f1-8555-ae863046038b",
   "metadata": {},
   "outputs": [],
   "source": [
    "ROOT_DIR = '/home/jovyan/crop-forecasting'\n",
    "\n",
    "FOLDER = 'augment_50_5'\n",
    "xdf_train_50 = xr.open_dataset(join(ROOT_DIR, 'data', 'processed', FOLDER, 'train_enriched.nc'), engine='scipy')\n",
    "xdf_test_50 = xr.open_dataset(join(ROOT_DIR, 'data', 'processed', FOLDER, 'test_enriched.nc'), engine='scipy')\n",
    "\n",
    "FOLDER = 'augment_40_5'\n",
    "xdf_train_40 = xr.open_dataset(join(ROOT_DIR, 'data', 'processed', FOLDER, 'train_enriched.nc'), engine='scipy')\n",
    "xdf_test_40 = xr.open_dataset(join(ROOT_DIR, 'data', 'processed', FOLDER, 'test_enriched.nc'), engine='scipy')\n",
    "\n",
    "FOLDER = 'augment_10_5'\n",
    "xdf_train_10 = xr.open_dataset(join(ROOT_DIR, 'data', 'processed', FOLDER, 'train_enriched.nc'), engine='scipy')\n",
    "xdf_test_10 = xr.open_dataset(join(ROOT_DIR, 'data', 'processed', FOLDER, 'test_enriched.nc'), engine='scipy')\n",
    "\n",
    "FOLDER = 'augment_100_5'\n",
    "xdf_train_100 = xr.concat([xdf_train_50, xdf_train_40, xdf_train_10], dim='ts_aug')\n",
    "xdf_test_100 = xr.concat([xdf_test_50, xdf_test_40, xdf_test_10], dim='ts_aug')\n",
    "\n",
    "xdf_train_100['ts_aug'] = xr.DataArray(np.arange(xdf_train_100.ts_aug.values.shape[0]), dims=['ts_aug'])\n",
    "xdf_train_100['ts_id'] = xr.DataArray(np.reshape(np.arange(xdf_train_100.ts_id.values.shape[0] * xdf_train_100.ts_id.values.shape[1]), \n",
    "                                                 (xdf_train_100.ts_id.values.shape[0], xdf_train_100.ts_id.values.shape[1])), dims=['ts_obs', 'ts_aug'])\n",
    "\n",
    "xdf_test_100['ts_aug'] = xr.DataArray(np.arange(xdf_test_100.ts_aug.values.shape[0]), dims=['ts_aug'])\n",
    "xdf_test_100['ts_id'] = xr.DataArray(np.reshape(np.arange(xdf_test_100.ts_id.values.shape[0] * xdf_test_100.ts_id.values.shape[1]), \n",
    "                                                (xdf_test_100.ts_id.values.shape[0], xdf_test_100.ts_id.values.shape[1])), dims=['ts_obs', 'ts_aug'])\n",
    "\n",
    "xdf_train_100.to_netcdf(join(ROOT_DIR, 'data', 'processed', FOLDER, 'train_enriched.nc'), engine='scipy')\n",
    "xdf_test_100.to_netcdf(join(ROOT_DIR, 'data', 'processed', FOLDER, 'test_enriched.nc'), engine='scipy')"
   ]
  }
 ],
 "metadata": {
  "kernelspec": {
   "display_name": "Python [conda env:notebook] *",
   "language": "python",
   "name": "conda-env-notebook-py"
  },
  "language_info": {
   "codemirror_mode": {
    "name": "ipython",
    "version": 3
   },
   "file_extension": ".py",
   "mimetype": "text/x-python",
   "name": "python",
   "nbconvert_exporter": "python",
   "pygments_lexer": "ipython3",
   "version": "3.9.13"
  }
 },
 "nbformat": 4,
 "nbformat_minor": 5
}
