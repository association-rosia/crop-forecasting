{
 "cells": [
  {
   "cell_type": "code",
   "execution_count": 1,
   "id": "1fd5b4f7-f249-44e7-9ba0-d3b9c9cb32fe",
   "metadata": {},
   "outputs": [],
   "source": [
    "import pandas as pd\n",
    "from os.path import join"
   ]
  },
  {
   "cell_type": "code",
   "execution_count": 2,
   "id": "6c4f11fb-3a03-4a59-9531-7ffc875238be",
   "metadata": {},
   "outputs": [],
   "source": [
    "ROOT_DIR = '/home/jovyan/crop-forecasting'\n",
    "\n",
    "train_df = pd.read_csv(join(ROOT_DIR, 'data', 'raw', 'train.csv'))\n",
    "test_df = pd.read_csv(join(ROOT_DIR, 'data', 'raw', 'test.csv'))"
   ]
  },
  {
   "cell_type": "code",
   "execution_count": 3,
   "id": "5c1f22e3-9fbb-4fb7-8a96-a1aa47c847a0",
   "metadata": {},
   "outputs": [],
   "source": [
    "crop_yields = train_df['Rice Yield (kg/ha)'].unique().tolist()\n",
    "\n",
    "def rounded_yield(x, crop_yields):\n",
    "    diffs = [abs(x - crop_yield) for crop_yield in crop_yields]\n",
    "    return crop_yields[diffs.index(min(diffs))]"
   ]
  },
  {
   "cell_type": "code",
   "execution_count": 4,
   "id": "323c1a93-9c0b-41ac-8c70-09eb71d6f165",
   "metadata": {},
   "outputs": [],
   "source": [
    "def get_other_yield(row):\n",
    "    Season = 'Season(SA = Summer Autumn, WS = Winter Spring)'\n",
    "    other_yield = train_df[(train_df['District'] == row['District']) & \n",
    "                           (train_df['Latitude'] == row['Latitude']) & \n",
    "                           (train_df['Longitude'] == row['Longitude']) & \n",
    "                           (train_df[Season] != row[Season])]['Rice Yield (kg/ha)'].tolist()\n",
    "\n",
    "    if len(other_yield) > 0:\n",
    "        res = other_yield[0]\n",
    "    else:\n",
    "        res = train_df[(train_df['District'] == row['District']) & \n",
    "                       (train_df[Season] != row[Season])]['Rice Yield (kg/ha)'].mean()\n",
    "        \n",
    "    return res"
   ]
  },
  {
   "cell_type": "code",
   "execution_count": 5,
   "id": "05cd7053-6192-41f4-9cd4-b7eb1107f81d",
   "metadata": {},
   "outputs": [],
   "source": [
    "train_df['Other Rice Yield (kg/ha)'] = train_df.apply(get_other_yield, axis='columns')\n",
    "train_df['Other Rice Yield (kg/ha)'] = train_df['Other Rice Yield (kg/ha)'].apply(lambda x: rounded_yield(x, crop_yields)).astype('int64')\n",
    "\n",
    "train_df.to_csv(join(ROOT_DIR, 'data', 'interim', 'train_enriched.csv'))"
   ]
  },
  {
   "cell_type": "code",
   "execution_count": 6,
   "id": "9b7a5609-6bb0-4695-adbf-0ca83579c18c",
   "metadata": {},
   "outputs": [],
   "source": [
    "test_df['Other Rice Yield (kg/ha)'] = test_df.apply(get_other_yield, axis='columns')\n",
    "test_df['Other Rice Yield (kg/ha)'] = test_df['Other Rice Yield (kg/ha)'].apply(lambda x: rounded_yield(x, crop_yields)).astype('int64')\n",
    "\n",
    "test_df.to_csv(join(ROOT_DIR, 'data', 'interim', 'test_enriched.csv'))"
   ]
  }
 ],
 "metadata": {
  "kernelspec": {
   "display_name": "Python 3 (ipykernel)",
   "language": "python",
   "name": "python3"
  },
  "language_info": {
   "codemirror_mode": {
    "name": "ipython",
    "version": 3
   },
   "file_extension": ".py",
   "mimetype": "text/x-python",
   "name": "python",
   "nbconvert_exporter": "python",
   "pygments_lexer": "ipython3",
   "version": "3.9.13"
  }
 },
 "nbformat": 4,
 "nbformat_minor": 5
}
