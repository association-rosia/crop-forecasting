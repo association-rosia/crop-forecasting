{
 "cells": [
  {
   "cell_type": "code",
   "execution_count": 1,
   "id": "19c38328-175d-439a-b498-7ece078342c2",
   "metadata": {},
   "outputs": [],
   "source": [
    "import warnings\n",
    "warnings.filterwarnings(\"ignore\")\n",
    "\n",
    "import pandas as pd\n",
    "from sklearn.preprocessing import StandardScaler, MinMaxScaler\n",
    "import joblib"
   ]
  },
  {
   "cell_type": "code",
   "execution_count": 2,
   "id": "e3bac025-1350-43f8-a007-7b885283a2e5",
   "metadata": {},
   "outputs": [],
   "source": [
    "FOLDER = 'fixed_0-00146'"
   ]
  },
  {
   "cell_type": "markdown",
   "id": "9fdf1fed-f9c8-4eac-8ac9-be9b48c4c1b2",
   "metadata": {
    "tags": []
   },
   "source": [
    "# Create m inputs"
   ]
  },
  {
   "cell_type": "code",
   "execution_count": 3,
   "id": "8cbc8872-126b-438d-894b-d7b98f7c7f8b",
   "metadata": {},
   "outputs": [],
   "source": [
    "weather_path = f'../../data/raw/weather'\n",
    "chau_phu = pd.read_csv(f'{weather_path}/Chau Phu.csv')\n",
    "chau_thanh = pd.read_csv(f'{weather_path}/Chau Thanh.csv')\n",
    "thoai_son = pd.read_csv(f'{weather_path}/Thoai Son.csv')\n",
    "weather_df = pd.concat([chau_phu, chau_thanh, thoai_son])\n",
    "\n",
    "# remove NULL columns\n",
    "null_cols = ['preciptype', 'snow', 'snowdepth', 'windgust', 'severerisk']\n",
    "weather_df = weather_df.drop(columns=null_cols)\n",
    "\n",
    "# remove useless columns \n",
    "useless_cols = ['conditions', 'description', 'icon', 'stations', 'sunrise', 'sunset'] \n",
    "weather_df = weather_df.drop(columns=useless_cols)\n",
    "\n",
    "# preprocess come columns\n",
    "weather_df['name'] = weather_df['name'].apply(lambda x: x.replace(' ', '_'))\n",
    "weather_df['datetime'] = weather_df['datetime'].apply(lambda x: f'{x.split(\"-\")[2]}-{x.split(\"-\")[1]}-{x.split(\"-\")[0]}')\n",
    "\n",
    "m_columns = [e for e in weather_df.columns if e not in ['name', 'datetime']]\n",
    "m_scaler = StandardScaler()\n",
    "m_scaler.fit(weather_df[m_columns])\n",
    "weather_df[m_columns] = m_scaler.transform(weather_df[m_columns])"
   ]
  },
  {
   "cell_type": "markdown",
   "id": "2839fe59-1735-408f-8827-c8028e388810",
   "metadata": {
    "tags": []
   },
   "source": [
    "# Create s inputs"
   ]
  },
  {
   "cell_type": "code",
   "execution_count": 4,
   "id": "4adacbe2-33e0-4c4d-a22c-e1fcb5a461b6",
   "metadata": {},
   "outputs": [],
   "source": [
    "train_vi_path = f'../../data/processed/{FOLDER}/train_vi.csv'\n",
    "train_vi_df = pd.read_csv(train_vi_path)\n",
    "useless_cols = ['Season(SA = Summer Autumn, WS = Winter Spring)', 'Rice Crop Intensity(D=Double, T=Triple)', 'Field size (ha)', 'Rice Yield (kg/ha)']\n",
    "train_vi_df = train_vi_df.drop(columns=useless_cols)\n",
    "\n",
    "test_vi_path = f'../../data/processed/{FOLDER}/test_vi.csv'\n",
    "test_vi_df = pd.read_csv(test_vi_path)\n",
    "useless_cols = ['Season(SA = Summer Autumn, WS = Winter Spring)', 'Rice Crop Intensity(D=Double, T=Triple)', 'Field size (ha)', 'Predicted Rice Yield (kg/ha)']\n",
    "test_vi_df = test_vi_df.drop(columns=useless_cols)\n",
    "\n",
    "remove_columns = ['District', 'Latitude', 'Longitude', 'Date of Harvest', 'date']\n",
    "s_columns = [e for e in train_vi_df.columns if e not in remove_columns]\n",
    "\n",
    "s_scaler = StandardScaler()\n",
    "s_scaler.fit(train_vi_df[s_columns])\n",
    "train_vi_df[s_columns] = s_scaler.transform(train_vi_df[s_columns])\n",
    "test_vi_df[s_columns] = s_scaler.transform(test_vi_df[s_columns])"
   ]
  },
  {
   "cell_type": "markdown",
   "id": "c4f742b7-f1f0-4ccc-86ad-5e8185f5ee02",
   "metadata": {},
   "source": [
    "# Create g inputs + label"
   ]
  },
  {
   "cell_type": "code",
   "execution_count": 5,
   "id": "c2f088bc-1c04-4b93-ae62-6e36074f9e88",
   "metadata": {},
   "outputs": [],
   "source": [
    "train_path = '../../data/raw/train.csv'\n",
    "test_path = '../../data/raw/test.csv'\n",
    "train_df = pd.read_csv(train_path)\n",
    "test_df = pd.read_csv(test_path)\n",
    "\n",
    "crop_intensity = 'Rice Crop Intensity(D=Double, T=Triple)'\n",
    "train_df[crop_intensity] = train_df[crop_intensity].replace('D', 0)\n",
    "train_df[crop_intensity] = train_df[crop_intensity].replace('T', 1)\n",
    "test_df[crop_intensity] = test_df[crop_intensity].replace('D', 0)\n",
    "test_df[crop_intensity] = test_df[crop_intensity].replace('T', 1)\n",
    "\n",
    "g_columns = [crop_intensity, 'Field size (ha)']\n",
    "g_scaler = StandardScaler()\n",
    "g_scaler.fit(train_df[g_columns])\n",
    "train_df[g_columns] = g_scaler.transform(train_df[g_columns])\n",
    "test_df[g_columns] = g_scaler.transform(test_df[g_columns])\n",
    "\n",
    "label_scaler = MinMaxScaler()\n",
    "train_df['Rice Yield (kg/ha)'] = label_scaler.fit_transform(train_df[['Rice Yield (kg/ha)']])"
   ]
  },
  {
   "cell_type": "markdown",
   "id": "d72b3412-fd99-49b0-85fa-668163f03658",
   "metadata": {},
   "source": [
    "# Save all "
   ]
  },
  {
   "cell_type": "code",
   "execution_count": 6,
   "id": "a0d2c87f-d05e-459b-89d1-c34863d2b04b",
   "metadata": {},
   "outputs": [
    {
     "data": {
      "text/plain": [
       "['../../data/processed/lstm/fixed_0-00146/label_scaler.joblib']"
      ]
     },
     "execution_count": 6,
     "metadata": {},
     "output_type": "execute_result"
    }
   ],
   "source": [
    "weather_df.to_csv(f'../../data/processed/lstm/{FOLDER}/weather_df.csv', index=False)\n",
    "\n",
    "train_df.to_csv(f'../../data/processed/lstm/{FOLDER}/train_df.csv', index=False)\n",
    "train_vi_df.to_csv(f'../../data/processed/lstm/{FOLDER}/train_vi.csv', index=False)\n",
    "\n",
    "test_df.to_csv(f'../../data/processed/lstm/{FOLDER}/test_df.csv', index=False)\n",
    "test_vi_df.to_csv(f'../../data/processed/lstm/{FOLDER}/test_vi.csv', index=False)\n",
    "\n",
    "joblib.dump(label_scaler, f'../../data/processed/lstm/{FOLDER}/label_scaler.joblib')"
   ]
  }
 ],
 "metadata": {
  "kernelspec": {
   "display_name": "Python [conda env:notebook] *",
   "language": "python",
   "name": "conda-env-notebook-py"
  },
  "language_info": {
   "codemirror_mode": {
    "name": "ipython",
    "version": 3
   },
   "file_extension": ".py",
   "mimetype": "text/x-python",
   "name": "python",
   "nbconvert_exporter": "python",
   "pygments_lexer": "ipython3",
   "version": "3.10.6"
  }
 },
 "nbformat": 4,
 "nbformat_minor": 5
}
