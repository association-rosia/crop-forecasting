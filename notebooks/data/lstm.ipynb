{
 "cells": [
  {
   "cell_type": "code",
   "execution_count": 1,
   "id": "19c38328-175d-439a-b498-7ece078342c2",
   "metadata": {},
   "outputs": [],
   "source": [
    "import pandas as pd\n",
    "from sklearn.preprocessing import MinMaxScaler\n",
    "import torch\n",
    "\n",
    "import warnings\n",
    "warnings.filterwarnings(\"ignore\")"
   ]
  },
  {
   "cell_type": "markdown",
   "id": "b8aa5263-106b-48b6-8069-b20cad0b41e8",
   "metadata": {},
   "source": [
    "# Constants"
   ]
  },
  {
   "cell_type": "code",
   "execution_count": 2,
   "id": "e3bac025-1350-43f8-a007-7b885283a2e5",
   "metadata": {},
   "outputs": [],
   "source": [
    "m_columns = ['tempmax', 'tempmin', 'temp', 'dew', 'humidity', 'precip', 'precipprob', 'precipcover', 'windspeed', 'winddir', 'sealevelpressure', \n",
    "             'cloudcover', 'visibility', 'solarradiation', 'solarenergy', 'uvindex', 'sunrise', 'sunset', 'moonphase']\n",
    "\n",
    "s_columns = ['ndvi', 'savi', 'evi', 'rep', 'osavi', 'rdvi', 'mtvi1', 'lswi']\n",
    "g_columns = ['D', 'T', 'Field size (ha)']\n",
    "j_columns = ['District', 'Latitude', 'Longitude', 'Date of Harvest']\n",
    "l_column = 'Field size (ha)'"
   ]
  },
  {
   "cell_type": "markdown",
   "id": "d7caafba-03b5-4e13-9e1b-e9948c7f1641",
   "metadata": {},
   "source": [
    "# Retrieve all weather data"
   ]
  },
  {
   "cell_type": "code",
   "execution_count": 3,
   "id": "d70cd693-148d-4a37-95b4-ee199842dedf",
   "metadata": {},
   "outputs": [],
   "source": [
    "weather_path = f'../../data/raw/weather'\n",
    "chau_phu = pd.read_csv(f'{weather_path}/Chau Phu.csv')\n",
    "chau_thanh = pd.read_csv(f'{weather_path}/Chau Thanh.csv')\n",
    "thoai_son = pd.read_csv(f'{weather_path}/Thoai Son.csv')\n",
    "weather_df = pd.concat([chau_phu, chau_thanh, thoai_son])\n",
    "\n",
    "# remove NULL columns\n",
    "null_cols = ['preciptype', 'snow', 'snowdepth', 'windgust', 'severerisk']\n",
    "weather_df = weather_df.drop(columns=null_cols)\n",
    "\n",
    "# remove useless columns \n",
    "useless_cols = ['conditions', 'description', 'icon', 'stations']\n",
    "weather_df = weather_df.drop(columns=useless_cols)\n",
    "\n",
    "# preprocess come columns\n",
    "weather_df['name'] = weather_df['name'].apply(lambda x: x.replace(' ', '_'))\n",
    "weather_df['datetime'] = weather_df['datetime'].apply(lambda x: f'{x.split(\"-\")[2]}-{x.split(\"-\")[1]}-{x.split(\"-\")[0]}')\n",
    "weather_df['sunrise'] = pd.to_datetime(weather_df['sunrise'])\n",
    "weather_df['sunrise'] = weather_df['sunrise'].apply(lambda x: 60 * x.hour + x.minute)\n",
    "weather_df['sunset'] = pd.to_datetime(weather_df['sunset'])\n",
    "weather_df['sunset'] = weather_df['sunset'].apply(lambda x: 60 * x.hour + x.minute)"
   ]
  },
  {
   "cell_type": "markdown",
   "id": "fd7b56a2-1848-47e7-8445-e1e31a395a3f",
   "metadata": {},
   "source": [
    "# Retrieve train data"
   ]
  },
  {
   "cell_type": "code",
   "execution_count": 4,
   "id": "d7a1ce2c-d45c-4082-8ce7-291e1bdcc9f5",
   "metadata": {},
   "outputs": [],
   "source": [
    "# get VIs data\n",
    "folder = 'adaptative'\n",
    "train_path = f'../../data/processed/{folder}/train_vi.csv'\n",
    "train_df = pd.read_csv(train_path)\n",
    "\n",
    "# join weather data\n",
    "join_train_df = train_df.merge(weather_df, how='inner', left_on=['District', 'date'], right_on=['name', 'datetime'])\n",
    "\n",
    "# get raw data\n",
    "raw_train_path = f'../../data/raw/train.csv'\n",
    "raw_train_df = pd.read_csv(raw_train_path)\n",
    "\n",
    "# preprocess Rice Crop Intensity\n",
    "intensity = pd.get_dummies(raw_train_df['Rice Crop Intensity(D=Double, T=Triple)'])\n",
    "raw_train_df = raw_train_df.drop(columns=['Rice Crop Intensity(D=Double, T=Triple)', 'Season(SA = Summer Autumn, WS = Winter Spring)'])\n",
    "raw_train_df = pd.concat([raw_train_df, intensity], axis=1)"
   ]
  },
  {
   "cell_type": "markdown",
   "id": "3cddea9a-349a-47b0-a28b-58b3ed6b2245",
   "metadata": {},
   "source": [
    "# Retrieve test data"
   ]
  },
  {
   "cell_type": "code",
   "execution_count": 5,
   "id": "4f4be0c8-3c60-400b-8303-98d6602ab4ed",
   "metadata": {},
   "outputs": [],
   "source": [
    "# get VIs data\n",
    "folder = 'adaptative'\n",
    "test_path = f'../../data/processed/{folder}/test_vi.csv'\n",
    "test_df = pd.read_csv(test_path)\n",
    "\n",
    "# join weather data\n",
    "join_test_df = test_df.merge(weather_df, how='inner', left_on=['District', 'date'], right_on=['name', 'datetime'])\n",
    "\n",
    "# get raw data\n",
    "raw_test_path = f'../../data/raw/test.csv'\n",
    "raw_test_df = pd.read_csv(raw_test_path)\n",
    "\n",
    "# preprocess Rice Crop Intensity\n",
    "intensity = pd.get_dummies(raw_test_df['Rice Crop Intensity(D=Double, T=Triple)'])\n",
    "raw_test_df = raw_test_df.drop(columns=['Rice Crop Intensity(D=Double, T=Triple)', 'Season(SA = Summer Autumn, WS = Winter Spring)'])\n",
    "raw_test_df = pd.concat([raw_test_df, intensity], axis=1)"
   ]
  },
  {
   "cell_type": "markdown",
   "id": "1311de8e-8a65-47af-80f8-81664cf6d859",
   "metadata": {},
   "source": [
    "# Normalization"
   ]
  },
  {
   "cell_type": "code",
   "execution_count": 6,
   "id": "4843f39b-e5b6-4b4d-bca2-e8225aefe48e",
   "metadata": {},
   "outputs": [],
   "source": [
    "raw_cols = g_columns\n",
    "join_cols = s_columns + m_columns\n",
    "\n",
    "# RAW DATA #########################################################\n",
    "raw_scaler = MinMaxScaler()\n",
    "raw_scaler.fit(raw_train_df[raw_cols])\n",
    "\n",
    "scaled_raw_train_df = pd.DataFrame(raw_scaler.transform(raw_train_df[raw_cols]), columns=raw_cols)\n",
    "raw_train_df = raw_train_df.drop(columns=raw_cols)\n",
    "raw_train_df = pd.concat([raw_train_df, scaled_raw_train_df], axis=1)\n",
    "\n",
    "scaled_raw_test_df = pd.DataFrame(raw_scaler.transform(raw_test_df[raw_cols]), columns=raw_cols)\n",
    "raw_test_df = raw_test_df.drop(columns=raw_cols)\n",
    "raw_test_df = pd.concat([raw_test_df, scaled_raw_test_df], axis=1)\n",
    "\n",
    "# JOIN DATA #########################################################\n",
    "join_scaler = MinMaxScaler()\n",
    "join_scaler.fit(join_train_df[join_cols])\n",
    "\n",
    "scaled_join_train_df = pd.DataFrame(join_scaler.transform(join_train_df[join_cols]), columns=join_cols)\n",
    "join_train_df = join_train_df.drop(columns=join_cols)\n",
    "join_train_df = pd.concat([join_train_df, scaled_join_train_df], axis=1)\n",
    "\n",
    "scaled_join_test_df = pd.DataFrame(join_scaler.transform(join_test_df[join_cols]), columns=join_cols)\n",
    "join_test_df = join_test_df.drop(columns=join_cols)\n",
    "join_test_df = pd.concat([join_test_df, scaled_join_test_df], axis=1)"
   ]
  },
  {
   "cell_type": "code",
   "execution_count": 18,
   "id": "de40c8f6-a299-457f-9b19-3b6eb44097c0",
   "metadata": {},
   "outputs": [
    {
     "data": {
      "text/plain": [
       "District               object\n",
       "Latitude              float64\n",
       "Longitude             float64\n",
       "Date of Harvest        object\n",
       "Rice Yield (kg/ha)      int64\n",
       "D                     float64\n",
       "T                     float64\n",
       "Field size (ha)       float64\n",
       "dtype: object"
      ]
     },
     "execution_count": 18,
     "metadata": {},
     "output_type": "execute_result"
    }
   ],
   "source": [
    "raw_train_df.dtypes"
   ]
  },
  {
   "cell_type": "code",
   "execution_count": 28,
   "id": "5f1541fd-93a2-45e9-bc4e-c02483f8ee0e",
   "metadata": {},
   "outputs": [],
   "source": [
    "row = raw_train_df.iloc[1]\n",
    "\n",
    "district = row['District']\n",
    "latitude = row['Latitude']\n",
    "longitude = row['Longitude']\n",
    "date_of_harvest = row['Date of Harvest']\n",
    "label = row[l_column]\n",
    "\n",
    "inputs = join_train_df[(join_train_df['District'] == district) &\n",
    "                       (join_train_df['Latitude'] == latitude) &\n",
    "                       (join_train_df['Longitude'] == longitude) &\n",
    "                       (join_train_df['Date of Harvest'] == date_of_harvest)]\n",
    "\n",
    "inputs['date'] = pd.to_datetime(inputs['date'], format='%d-%m-%Y')\n",
    "inputs = inputs.sort_values('date').reset_index(drop=True)\n",
    "\n",
    "s_inputs = torch.tensor(inputs[s_columns].T.values)\n",
    "m_inputs = torch.tensor(inputs[m_columns].T.values)\n",
    "g_inputs = torch.tensor(row[g_columns].astype('float64').values)\n",
    "\n",
    "data = {\n",
    "    'district': district, \n",
    "    'latitude': latitude, \n",
    "    'longitude': longitude, \n",
    "    'date_of_harvest': date_of_harvest,\n",
    "    's_inputs': s_inputs,\n",
    "    'm_inputs': m_inputs,\n",
    "    'g_inputs': g_inputs,\n",
    "    'label': label\n",
    "}\n",
    "        "
   ]
  },
  {
   "cell_type": "code",
   "execution_count": 29,
   "id": "84c22842-28ec-4ef3-93af-7517bb16bfe7",
   "metadata": {},
   "outputs": [
    {
     "data": {
      "text/plain": [
       "{'district': 'Chau_Phu',\n",
       " 'latitude': 10.50915,\n",
       " 'longitude': 105.265098,\n",
       " 'date_of_harvest': '15-07-2022',\n",
       " 's_inputs': tensor([[0.1650, 0.3425, 0.5260, 0.4947, 0.3522, 0.2833, 0.2301, 0.2814, 0.2991,\n",
       "          0.2539, 0.1898, 0.4081, 0.5066, 0.5700, 0.3689, 0.3933, 0.5591, 0.5829,\n",
       "          0.1939, 0.5844, 0.3217, 0.2996, 0.5512, 0.4725],\n",
       "         [0.1650, 0.3425, 0.5260, 0.4947, 0.3522, 0.2833, 0.2300, 0.2814, 0.2990,\n",
       "          0.2538, 0.1897, 0.4080, 0.5066, 0.5700, 0.3688, 0.3933, 0.5591, 0.5829,\n",
       "          0.1939, 0.5844, 0.3217, 0.2996, 0.5512, 0.4724],\n",
       "         [0.7830, 0.7829, 0.7830, 0.7830, 0.7830, 0.7829, 0.7830, 0.7830, 0.7830,\n",
       "          0.7830, 0.7830, 0.7845, 0.7831, 0.7830, 0.7830, 0.7829, 0.7830, 0.7830,\n",
       "          0.7830, 0.7830, 0.7830, 0.7830, 0.7830, 0.7824],\n",
       "         [0.1272, 0.1271, 0.1271, 0.1271, 0.1271, 0.1270, 0.1275, 0.1271, 0.1271,\n",
       "          0.1271, 0.1274, 0.1272, 0.1272, 0.1272, 0.1272, 0.1272, 0.1272, 0.1272,\n",
       "          0.1273, 0.1272, 0.1271, 0.1270, 0.1272, 0.1272],\n",
       "         [0.1650, 0.3425, 0.5260, 0.4947, 0.3522, 0.2833, 0.2301, 0.2814, 0.2991,\n",
       "          0.2539, 0.1898, 0.4080, 0.5066, 0.5700, 0.3689, 0.3933, 0.5591, 0.5829,\n",
       "          0.1939, 0.5844, 0.3217, 0.2996, 0.5512, 0.4725],\n",
       "         [0.0832, 0.3461, 0.5183, 0.4939, 0.3195, 0.2475, 0.1973, 0.2448, 0.2812,\n",
       "          0.2328, 0.1305, 0.3400, 0.4929, 0.5388, 0.4002, 0.4304, 0.5304, 0.6115,\n",
       "          0.1311, 0.5575, 0.3391, 0.3160, 0.5528, 0.4721],\n",
       "         [0.3126, 0.4654, 0.5696, 0.5596, 0.3597, 0.3302, 0.3124, 0.3151, 0.3881,\n",
       "          0.3741, 0.3073, 0.3993, 0.5581, 0.5767, 0.5676, 0.5992, 0.5600, 0.6781,\n",
       "          0.3598, 0.5848, 0.5221, 0.5152, 0.6095, 0.5579],\n",
       "         [0.3290, 0.2830, 0.3452, 0.3341, 0.2142, 0.2182, 0.2563, 0.3345, 0.2055,\n",
       "          0.2647, 0.6121, 0.2452, 0.3056, 0.3003, 0.3375, 0.3029, 0.3351, 0.3759,\n",
       "          0.4005, 0.3737, 0.5029, 0.3922, 0.3715, 0.4005]], dtype=torch.float64),\n",
       " 'm_inputs': tensor([[0.7368, 0.7368, 1.0000, 0.6053, 0.7368, 0.7368, 0.8684, 0.9079, 0.8684,\n",
       "          0.6053, 0.5526, 0.8684, 0.7368, 0.7368, 0.6053, 0.4868, 1.0000, 0.8684,\n",
       "          0.8816, 0.6053, 0.8289, 0.4737, 0.6053, 0.3816],\n",
       "         [0.6000, 0.6000, 0.6000, 0.7400, 0.4000, 0.8000, 0.8000, 0.6000, 0.8000,\n",
       "          0.6000, 0.8000, 1.0000, 0.8000, 0.8000, 0.8000, 0.6000, 0.8000, 0.6000,\n",
       "          0.4000, 0.6000, 0.8000, 0.6000, 0.4000, 0.4000],\n",
       "         [0.5918, 0.4694, 0.8980, 0.4898, 0.4286, 0.6939, 0.7551, 0.8367, 0.7551,\n",
       "          0.4490, 0.4082, 0.9796, 0.7959, 0.7755, 0.4286, 0.1837, 0.9184, 0.6939,\n",
       "          0.5306, 0.3673, 0.8776, 0.4490, 0.4490, 0.2857],\n",
       "         [0.6610, 0.7797, 0.7288, 0.7458, 0.6102, 0.7288, 0.8475, 0.6949, 0.8475,\n",
       "          0.7458, 0.8983, 0.9831, 0.8644, 0.8644, 0.8983, 0.7288, 0.7966, 0.8305,\n",
       "          0.7966, 0.7797, 0.8983, 0.8983, 0.7119, 0.7288],\n",
       "         [0.4154, 0.6471, 0.2684, 0.5735, 0.5110, 0.4154, 0.4559, 0.2647, 0.4743,\n",
       "          0.6324, 0.8162, 0.4228, 0.4522, 0.4632, 0.8125, 0.8456, 0.3051, 0.5331,\n",
       "          0.6250, 0.7500, 0.4228, 0.7978, 0.5956, 0.7574],\n",
       "         [0.0088, 0.9706, 0.0000, 0.0118, 0.0676, 0.0853, 0.0235, 0.0500, 0.0059,\n",
       "          0.0618, 0.0294, 0.0029, 0.1176, 0.0029, 0.0235, 0.8235, 0.0000, 0.0971,\n",
       "          0.1176, 1.0000, 0.0882, 0.0882, 0.5000, 0.5588],\n",
       "         [1.0000, 1.0000, 0.0000, 1.0000, 1.0000, 1.0000, 1.0000, 1.0000, 1.0000,\n",
       "          1.0000, 1.0000, 1.0000, 1.0000, 1.0000, 1.0000, 1.0000, 0.0000, 1.0000,\n",
       "          1.0000, 1.0000, 1.0000, 1.0000, 1.0000, 1.0000],\n",
       "         [0.0833, 0.0417, 0.0000, 0.0417, 0.0833, 0.1667, 0.1667, 0.2917, 0.0833,\n",
       "          0.2500, 0.0417, 0.0417, 0.0833, 0.0417, 0.0417, 0.1250, 0.0000, 0.2917,\n",
       "          0.0417, 0.0833, 0.2083, 0.0417, 0.0417, 0.0833],\n",
       "         [0.2780, 0.7066, 0.0695, 0.1390, 0.6371, 0.2625, 0.3784, 0.4981, 0.1776,\n",
       "          0.0347, 0.2780, 0.4981, 0.3552, 0.4170, 0.3475, 1.0000, 0.3475, 0.2085,\n",
       "          0.4981, 0.4093, 0.4247, 0.3475, 0.4981, 0.4981],\n",
       "         [0.3530, 0.3262, 0.3322, 0.6319, 0.1113, 0.5482, 0.6225, 0.2477, 0.3999,\n",
       "          0.3686, 0.2027, 0.6243, 0.6983, 0.7182, 0.6348, 0.6453, 0.7111, 0.6114,\n",
       "          0.6408, 0.6675, 0.7074, 0.6416, 0.7145, 0.6738],\n",
       "         [0.3214, 0.5357, 0.6786, 0.4286, 0.8571, 0.5000, 0.2976, 0.5595, 0.3095,\n",
       "          0.2024, 0.3690, 0.4286, 0.4643, 0.4405, 0.1548, 0.5595, 0.2738, 0.3690,\n",
       "          0.3571, 0.3810, 0.0119, 0.2143, 0.1786, 0.0952],\n",
       "         [0.4017, 0.7306, 0.1223, 0.7273, 0.4942, 0.3322, 0.4893, 0.2281, 0.5537,\n",
       "          0.5554, 0.6843, 0.4215, 0.5917, 0.3223, 0.9372, 0.7388, 0.2215, 0.4678,\n",
       "          0.6992, 0.7653, 0.3339, 0.6033, 0.9240, 0.8793],\n",
       "         [0.6000, 0.4571, 0.7143, 0.5429, 0.4286, 0.7714, 0.4571, 0.7429, 0.6000,\n",
       "          0.6000, 0.5143, 0.6286, 0.8571, 0.8286, 0.3714, 0.3429, 0.7429, 0.6000,\n",
       "          0.4286, 0.4000, 0.7143, 0.4000, 0.6857, 0.4857],\n",
       "         [0.3820, 0.4412, 0.9748, 0.5054, 0.4681, 0.7185, 0.6291, 0.5373, 0.4772,\n",
       "          0.6093, 0.5356, 0.9172, 0.3411, 0.7281, 0.5724, 0.6933, 0.9495, 0.9363,\n",
       "          0.8034, 0.3295, 0.6871, 0.8638, 0.0807, 0.5704],\n",
       "         [0.3828, 0.4354, 0.9809, 0.5072, 0.4641, 0.7177, 0.6268, 0.5455, 0.4737,\n",
       "          0.6124, 0.5359, 0.9139, 0.3397, 0.7273, 0.5694, 0.6890, 0.9474, 0.9378,\n",
       "          0.8038, 0.3301, 0.6890, 0.8708, 0.0766, 0.5550],\n",
       "         [0.3333, 0.5000, 1.0000, 0.8333, 0.8333, 1.0000, 1.0000, 1.0000, 0.8333,\n",
       "          0.6667, 0.8333, 1.0000, 0.1667, 1.0000, 0.6667, 0.6667, 1.0000, 1.0000,\n",
       "          0.8333, 0.8333, 0.8333, 0.8333, 0.1667, 0.8333],\n",
       "         [0.6600, 0.6000, 0.5400, 0.4800, 0.4200, 0.3800, 0.3200, 0.2600, 0.2200,\n",
       "          0.1800, 0.1200, 0.1000, 0.0800, 0.0800, 0.0600, 0.0800, 0.0800, 0.1000,\n",
       "          0.1200, 0.1400, 0.1600, 0.1800, 0.2000, 0.2400],\n",
       "         [0.7143, 0.7143, 0.7143, 0.7143, 0.7143, 0.7143, 0.7321, 0.7321, 0.7321,\n",
       "          0.7500, 0.7679, 0.7857, 0.8036, 0.8393, 0.8571, 0.8750, 0.9107, 0.9286,\n",
       "          0.9464, 0.9643, 0.9821, 1.0000, 1.0000, 1.0000],\n",
       "         [0.4388, 0.6122, 0.7959, 0.9796, 0.1327, 0.2959, 0.4592, 0.6327, 0.8163,\n",
       "          1.0000, 0.3163, 0.4796, 0.6531, 0.8367, 0.0000, 0.1633, 0.3265, 0.5102,\n",
       "          0.6735, 0.8469, 0.0000, 0.1735, 0.3469, 0.5102]], dtype=torch.float64),\n",
       " 'g_inputs': tensor([0.0000, 1.0000, 0.1577], dtype=torch.float64),\n",
       " 'label': 0.15769230769230774}"
      ]
     },
     "execution_count": 29,
     "metadata": {},
     "output_type": "execute_result"
    }
   ],
   "source": [
    "data"
   ]
  },
  {
   "cell_type": "code",
   "execution_count": null,
   "id": "d6640d75-4286-49f0-84bc-12a1bd506ddd",
   "metadata": {},
   "outputs": [],
   "source": []
  }
 ],
 "metadata": {
  "kernelspec": {
   "display_name": "Python [conda env:notebook] *",
   "language": "python",
   "name": "conda-env-notebook-py"
  },
  "language_info": {
   "codemirror_mode": {
    "name": "ipython",
    "version": 3
   },
   "file_extension": ".py",
   "mimetype": "text/x-python",
   "name": "python",
   "nbconvert_exporter": "python",
   "pygments_lexer": "ipython3",
   "version": "3.10.6"
  }
 },
 "nbformat": 4,
 "nbformat_minor": 5
}
