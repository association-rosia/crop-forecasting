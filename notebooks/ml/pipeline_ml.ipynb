{
 "cells": [
  {
   "cell_type": "markdown",
   "metadata": {},
   "source": [
    "# Library"
   ]
  },
  {
   "cell_type": "code",
   "execution_count": 28,
   "metadata": {},
   "outputs": [],
   "source": [
    "# Native library\n",
    "import os, sys\n",
    "\n",
    "path = os.path.join(\".\")\n",
    "sys.path.insert(1, path)\n",
    "\n",
    "from utils import ROOT_DIR\n",
    "\n",
    "# Data management\n",
    "import numpy as np\n",
    "import xarray as xr\n",
    "\n",
    "from src.constants import TARGET, FOLDER, S_COLUMNS\n",
    "\n",
    "# Data prepocessing\n",
    "from src.data.preprocessing import Smoother, Convertor, Filler, Sorter\n",
    "from sklearn.preprocessing import StandardScaler\n",
    "from sklearn.decomposition import PCA\n",
    "\n",
    "\n",
    "# Regressor models\n",
    "from xgboost import XGBRegressor\n",
    "\n",
    "# Training\n",
    "from sklearn.model_selection import KFold\n",
    "from sklearn.pipeline import Pipeline"
   ]
  },
  {
   "cell_type": "code",
   "execution_count": 29,
   "metadata": {},
   "outputs": [],
   "source": [
    "steps_pipeline = [\n",
    "    (\"filler\", Filler()),\n",
    "    (\"smoother\", Smoother()),\n",
    "    (\"convertor\", Convertor(agg=True)),\n",
    "    (\"sorter\", Sorter()),\n",
    "]\n",
    "\n",
    "# steps_pipeline.append((\"estimator\", XGBRegressor()))\n",
    "pipeline = Pipeline(steps_pipeline)"
   ]
  },
  {
   "cell_type": "code",
   "execution_count": 30,
   "metadata": {},
   "outputs": [],
   "source": [
    "def preprocess_y(xds: xr.Dataset) -> np.ndarray:\n",
    "    df = xds[[TARGET] + S_COLUMNS].to_dataframe()\n",
    "    y = df[[TARGET]].groupby([\"ts_obs\", \"ts_aug\"]).first()\n",
    "    return y.reorder_levels([\"ts_obs\", \"ts_aug\"]).sort_index()\n",
    "\n",
    "data_path = os.path.join(ROOT_DIR, \"data\", \"interim\", FOLDER, \"train.nc\")\n",
    "xds = xr.open_dataset(data_path, engine=\"scipy\")\n",
    "\n",
    "y_train = preprocess_y(xds)"
   ]
  },
  {
   "cell_type": "code",
   "execution_count": 33,
   "metadata": {},
   "outputs": [],
   "source": [
    "obs_idx = xds[\"ts_obs\"].values\n",
    "obs_idx = obs_idx.reshape(-1, 1)\n",
    "n_splits = 10\n",
    "xds_train = None\n",
    "xds_test = None\n",
    "y_train = None\n",
    "y_test = None\n",
    "for index_train, index_test in KFold(n_splits=n_splits).split(obs_idx):\n",
    "    xds_train = xds.sel(ts_obs=obs_idx[index_train].reshape(-1))\n",
    "    xds_test = xds.sel(ts_obs=obs_idx[index_test].reshape(-1))\n",
    "    \n",
    "    train_df = pipeline.fit_transform(xds_train)\n",
    "    test_df = pipeline.fit_transform(xds_test)\n",
    "    \n",
    "    y_train = preprocess_y(xds_train)\n",
    "    y_test = preprocess_y(xds_test)\n",
    "    \n",
    "    break"
   ]
  },
  {
   "cell_type": "code",
   "execution_count": 38,
   "metadata": {},
   "outputs": [
    {
     "data": {
      "text/plain": [
       "True"
      ]
     },
     "execution_count": 38,
     "metadata": {},
     "output_type": "execute_result"
    }
   ],
   "source": [
    "(train_df.index == y_train.index).all() & (test_df.index == y_test.index).all()"
   ]
  },
  {
   "cell_type": "code",
   "execution_count": 27,
   "metadata": {},
   "outputs": [
    {
     "data": {
      "text/html": [
       "<div>\n",
       "<style scoped>\n",
       "    .dataframe tbody tr th:only-of-type {\n",
       "        vertical-align: middle;\n",
       "    }\n",
       "\n",
       "    .dataframe tbody tr th {\n",
       "        vertical-align: top;\n",
       "    }\n",
       "\n",
       "    .dataframe thead th {\n",
       "        text-align: right;\n",
       "    }\n",
       "</style>\n",
       "<table border=\"1\" class=\"dataframe\">\n",
       "  <thead>\n",
       "    <tr style=\"text-align: right;\">\n",
       "      <th></th>\n",
       "      <th></th>\n",
       "      <th>Rice Yield (kg/ha)</th>\n",
       "    </tr>\n",
       "    <tr>\n",
       "      <th>ts_obs</th>\n",
       "      <th>ts_aug</th>\n",
       "      <th></th>\n",
       "    </tr>\n",
       "  </thead>\n",
       "  <tbody>\n",
       "    <tr>\n",
       "      <th rowspan=\"5\" valign=\"top\">0</th>\n",
       "      <th>0</th>\n",
       "      <td>5500</td>\n",
       "    </tr>\n",
       "    <tr>\n",
       "      <th>1</th>\n",
       "      <td>5500</td>\n",
       "    </tr>\n",
       "    <tr>\n",
       "      <th>2</th>\n",
       "      <td>5500</td>\n",
       "    </tr>\n",
       "    <tr>\n",
       "      <th>3</th>\n",
       "      <td>5500</td>\n",
       "    </tr>\n",
       "    <tr>\n",
       "      <th>4</th>\n",
       "      <td>5500</td>\n",
       "    </tr>\n",
       "    <tr>\n",
       "      <th>...</th>\n",
       "      <th>...</th>\n",
       "      <td>...</td>\n",
       "    </tr>\n",
       "    <tr>\n",
       "      <th rowspan=\"5\" valign=\"top\">556</th>\n",
       "      <th>95</th>\n",
       "      <td>7200</td>\n",
       "    </tr>\n",
       "    <tr>\n",
       "      <th>96</th>\n",
       "      <td>7200</td>\n",
       "    </tr>\n",
       "    <tr>\n",
       "      <th>97</th>\n",
       "      <td>7200</td>\n",
       "    </tr>\n",
       "    <tr>\n",
       "      <th>98</th>\n",
       "      <td>7200</td>\n",
       "    </tr>\n",
       "    <tr>\n",
       "      <th>99</th>\n",
       "      <td>7200</td>\n",
       "    </tr>\n",
       "  </tbody>\n",
       "</table>\n",
       "<p>55700 rows × 1 columns</p>\n",
       "</div>"
      ],
      "text/plain": [
       "               Rice Yield (kg/ha)\n",
       "ts_obs ts_aug                    \n",
       "0      0                     5500\n",
       "       1                     5500\n",
       "       2                     5500\n",
       "       3                     5500\n",
       "       4                     5500\n",
       "...                           ...\n",
       "556    95                    7200\n",
       "       96                    7200\n",
       "       97                    7200\n",
       "       98                    7200\n",
       "       99                    7200\n",
       "\n",
       "[55700 rows x 1 columns]"
      ]
     },
     "execution_count": 27,
     "metadata": {},
     "output_type": "execute_result"
    }
   ],
   "source": [
    "XGBRegressor(pipeline.fit_transform(xds, y_train), y_train)."
   ]
  },
  {
   "cell_type": "code",
   "execution_count": 15,
   "metadata": {},
   "outputs": [
    {
     "data": {
      "text/plain": [
       "array([0.5049667 , 0.0100252 , 0.01040307, 0.01911996, 0.00649522,\n",
       "       0.01092529, 0.0138432 , 0.01213815, 0.01221612, 0.01495591,\n",
       "       0.01046163, 0.00944952, 0.01718526, 0.01087538, 0.01007912,\n",
       "       0.01153454, 0.00555495, 0.01048146, 0.01895331, 0.01081887,\n",
       "       0.00893562, 0.00704036, 0.008929  , 0.00737329, 0.0082045 ,\n",
       "       0.00763884, 0.00505139, 0.0106377 , 0.01274521, 0.00798748,\n",
       "       0.01018606, 0.00776447, 0.00934054, 0.00847016, 0.0070497 ,\n",
       "       0.01198343, 0.00515981, 0.00467342, 0.00909384, 0.01395343,\n",
       "       0.00615744, 0.00923261, 0.00908891, 0.00998733, 0.01257749,\n",
       "       0.00954159, 0.00270748, 0.01156283, 0.01079056, 0.01565266],\n",
       "      dtype=float32)"
      ]
     },
     "execution_count": 15,
     "metadata": {},
     "output_type": "execute_result"
    }
   ],
   "source": [
    "pipeline['estimator'].feature_importances_"
   ]
  },
  {
   "cell_type": "code",
   "execution_count": null,
   "metadata": {},
   "outputs": [],
   "source": []
  }
 ],
 "metadata": {
  "kernelspec": {
   "display_name": "Python 3 (ipykernel)",
   "language": "python",
   "name": "python3"
  },
  "language_info": {
   "codemirror_mode": {
    "name": "ipython",
    "version": 3
   },
   "file_extension": ".py",
   "mimetype": "text/x-python",
   "name": "python",
   "nbconvert_exporter": "python",
   "pygments_lexer": "ipython3",
   "version": "3.9.16"
  },
  "vscode": {
   "interpreter": {
    "hash": "06b7480f36a42d8bbade06fc4149129af8b8df398eea6bf44659ace11c5fcf70"
   }
  }
 },
 "nbformat": 4,
 "nbformat_minor": 4
}
