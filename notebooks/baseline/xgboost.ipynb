{
 "cells": [
  {
   "attachments": {},
   "cell_type": "markdown",
   "metadata": {},
   "source": [
    "# Library"
   ]
  },
  {
   "cell_type": "code",
   "execution_count": 1,
   "metadata": {},
   "outputs": [],
   "source": [
    "# Native library\n",
    "import copy\n",
    "import warnings\n",
    "warnings.filterwarnings('ignore')\n",
    "\n",
    "# Save object\n",
    "import joblib\n",
    "\n",
    "# Data management\n",
    "import numpy as np\n",
    "import pandas as pd\n",
    "\n",
    "# Data visualization\n",
    "import plotly.express as px\n",
    "\n",
    "# Data prepocessing\n",
    "# from sklearn.preprocessing import StandardScaler\n",
    "from sklearn.model_selection import train_test_split\n",
    "\n",
    "# Hyperoptimization\n",
    "from sklearn.model_selection import GridSearchCV\n",
    "\n",
    "# Regressor models\n",
    "from xgboost import XGBRegressor\n",
    "\n",
    "# Model evaluation\n",
    "from sklearn.metrics import r2_score, mean_squared_error, mean_absolute_percentage_error"
   ]
  },
  {
   "cell_type": "code",
   "execution_count": 2,
   "metadata": {},
   "outputs": [],
   "source": [
    "# Target variable\n",
    "TARGET = \"Rice Yield (kg/ha)\""
   ]
  },
  {
   "attachments": {},
   "cell_type": "markdown",
   "metadata": {},
   "source": [
    "# Import Data"
   ]
  },
  {
   "cell_type": "code",
   "execution_count": 3,
   "metadata": {},
   "outputs": [
    {
     "name": "stdout",
     "output_type": "stream",
     "text": [
      "<class 'pandas.core.frame.DataFrame'>\n",
      "RangeIndex: 13368 entries, 0 to 13367\n",
      "Data columns (total 17 columns):\n",
      " #   Column                                          Non-Null Count  Dtype  \n",
      "---  ------                                          --------------  -----  \n",
      " 0   District                                        13368 non-null  object \n",
      " 1   Latitude                                        13368 non-null  float64\n",
      " 2   Longitude                                       13368 non-null  float64\n",
      " 3   Season(SA = Summer Autumn, WS = Winter Spring)  13368 non-null  object \n",
      " 4   Rice Crop Intensity(D=Double, T=Triple)         13368 non-null  object \n",
      " 5   Date of Harvest                                 13368 non-null  object \n",
      " 6   Field size (ha)                                 13368 non-null  float64\n",
      " 7   Rice Yield (kg/ha)                              13368 non-null  int64  \n",
      " 8   date                                            13368 non-null  object \n",
      " 9   ndvi                                            13368 non-null  float64\n",
      " 10  savi                                            13368 non-null  float64\n",
      " 11  evi                                             13368 non-null  float64\n",
      " 12  rep                                             13368 non-null  float64\n",
      " 13  osavi                                           13368 non-null  float64\n",
      " 14  rdvi                                            13368 non-null  float64\n",
      " 15  mtvi1                                           13368 non-null  float64\n",
      " 16  lswi                                            13368 non-null  float64\n",
      "dtypes: float64(11), int64(1), object(5)\n",
      "memory usage: 1.7+ MB\n"
     ]
    }
   ],
   "source": [
    "df_vi = pd.read_csv(\"../../data/processed/fixed_0-00146/train_vi.csv\")\n",
    "\n",
    "df_vi.info()"
   ]
  },
  {
   "cell_type": "code",
   "execution_count": 4,
   "metadata": {},
   "outputs": [
    {
     "name": "stdout",
     "output_type": "stream",
     "text": [
      "<class 'pandas.core.frame.DataFrame'>\n",
      "RangeIndex: 13368 entries, 0 to 13367\n",
      "Data columns (total 17 columns):\n",
      " #   Column                                          Non-Null Count  Dtype  \n",
      "---  ------                                          --------------  -----  \n",
      " 0   District                                        13368 non-null  object \n",
      " 1   Latitude                                        13368 non-null  float64\n",
      " 2   Longitude                                       13368 non-null  float64\n",
      " 3   Season(SA = Summer Autumn, WS = Winter Spring)  13368 non-null  object \n",
      " 4   Rice Crop Intensity(D=Double, T=Triple)         13368 non-null  object \n",
      " 5   Date of Harvest                                 13368 non-null  object \n",
      " 6   Field size (ha)                                 13368 non-null  float64\n",
      " 7   Rice Yield (kg/ha)                              13368 non-null  int64  \n",
      " 8   date                                            13368 non-null  object \n",
      " 9   red                                             13368 non-null  float64\n",
      " 10  green                                           13368 non-null  float64\n",
      " 11  blue                                            13368 non-null  float64\n",
      " 12  rededge1                                        13368 non-null  float64\n",
      " 13  rededge2                                        13368 non-null  float64\n",
      " 14  rededge3                                        13368 non-null  float64\n",
      " 15  nir                                             13368 non-null  float64\n",
      " 16  swir                                            13368 non-null  float64\n",
      "dtypes: float64(11), int64(1), object(5)\n",
      "memory usage: 1.7+ MB\n"
     ]
    }
   ],
   "source": [
    "df_sat = pd.read_csv(\"../../data/processed/fixed_0-00146/train.csv\")\n",
    "\n",
    "df_sat.info()"
   ]
  },
  {
   "cell_type": "code",
   "execution_count": 5,
   "metadata": {},
   "outputs": [
    {
     "name": "stdout",
     "output_type": "stream",
     "text": [
      "<class 'pandas.core.frame.DataFrame'>\n",
      "Int64Index: 13368 entries, 0 to 13367\n",
      "Data columns (total 25 columns):\n",
      " #   Column                                          Non-Null Count  Dtype  \n",
      "---  ------                                          --------------  -----  \n",
      " 0   District                                        13368 non-null  object \n",
      " 1   Latitude                                        13368 non-null  float64\n",
      " 2   Longitude                                       13368 non-null  float64\n",
      " 3   Season(SA = Summer Autumn, WS = Winter Spring)  13368 non-null  object \n",
      " 4   Rice Crop Intensity(D=Double, T=Triple)         13368 non-null  object \n",
      " 5   Date of Harvest                                 13368 non-null  object \n",
      " 6   Field size (ha)                                 13368 non-null  float64\n",
      " 7   Rice Yield (kg/ha)                              13368 non-null  int64  \n",
      " 8   date                                            13368 non-null  object \n",
      " 9   ndvi                                            13368 non-null  float64\n",
      " 10  savi                                            13368 non-null  float64\n",
      " 11  evi                                             13368 non-null  float64\n",
      " 12  rep                                             13368 non-null  float64\n",
      " 13  osavi                                           13368 non-null  float64\n",
      " 14  rdvi                                            13368 non-null  float64\n",
      " 15  mtvi1                                           13368 non-null  float64\n",
      " 16  lswi                                            13368 non-null  float64\n",
      " 17  red                                             13368 non-null  float64\n",
      " 18  green                                           13368 non-null  float64\n",
      " 19  blue                                            13368 non-null  float64\n",
      " 20  rededge1                                        13368 non-null  float64\n",
      " 21  rededge2                                        13368 non-null  float64\n",
      " 22  rededge3                                        13368 non-null  float64\n",
      " 23  nir                                             13368 non-null  float64\n",
      " 24  swir                                            13368 non-null  float64\n",
      "dtypes: float64(19), int64(1), object(5)\n",
      "memory usage: 2.7+ MB\n"
     ]
    }
   ],
   "source": [
    "df = pd.merge(df_vi, df_sat, on=['District', 'Latitude', 'Longitude',\n",
    "       'Season(SA = Summer Autumn, WS = Winter Spring)',\n",
    "       'Rice Crop Intensity(D=Double, T=Triple)', 'Date of Harvest',\n",
    "       'Field size (ha)', 'Rice Yield (kg/ha)', 'date'])\n",
    "\n",
    "df.info()"
   ]
  },
  {
   "cell_type": "code",
   "execution_count": 6,
   "metadata": {},
   "outputs": [
    {
     "data": {
      "text/html": [
       "<div>\n",
       "<style scoped>\n",
       "    .dataframe tbody tr th:only-of-type {\n",
       "        vertical-align: middle;\n",
       "    }\n",
       "\n",
       "    .dataframe tbody tr th {\n",
       "        vertical-align: top;\n",
       "    }\n",
       "\n",
       "    .dataframe thead th {\n",
       "        text-align: right;\n",
       "    }\n",
       "</style>\n",
       "<table border=\"1\" class=\"dataframe\">\n",
       "  <thead>\n",
       "    <tr style=\"text-align: right;\">\n",
       "      <th></th>\n",
       "      <th>District</th>\n",
       "      <th>Latitude</th>\n",
       "      <th>Longitude</th>\n",
       "      <th>Season(SA = Summer Autumn, WS = Winter Spring)</th>\n",
       "      <th>Rice Crop Intensity(D=Double, T=Triple)</th>\n",
       "      <th>Date of Harvest</th>\n",
       "      <th>Field size (ha)</th>\n",
       "      <th>Rice Yield (kg/ha)</th>\n",
       "      <th>date</th>\n",
       "      <th>ndvi</th>\n",
       "      <th>...</th>\n",
       "      <th>mtvi1</th>\n",
       "      <th>lswi</th>\n",
       "      <th>red</th>\n",
       "      <th>green</th>\n",
       "      <th>blue</th>\n",
       "      <th>rededge1</th>\n",
       "      <th>rededge2</th>\n",
       "      <th>rededge3</th>\n",
       "      <th>nir</th>\n",
       "      <th>swir</th>\n",
       "    </tr>\n",
       "  </thead>\n",
       "  <tbody>\n",
       "    <tr>\n",
       "      <th>0</th>\n",
       "      <td>Chau_Phu</td>\n",
       "      <td>10.510542</td>\n",
       "      <td>105.248554</td>\n",
       "      <td>SA</td>\n",
       "      <td>T</td>\n",
       "      <td>15-07-2022</td>\n",
       "      <td>3.4</td>\n",
       "      <td>5500</td>\n",
       "      <td>14-07-2022</td>\n",
       "      <td>0.182807</td>\n",
       "      <td>...</td>\n",
       "      <td>3062.295791</td>\n",
       "      <td>0.276005</td>\n",
       "      <td>3707.568604</td>\n",
       "      <td>4139.405273</td>\n",
       "      <td>4338.941406</td>\n",
       "      <td>4399.774414</td>\n",
       "      <td>5063.293945</td>\n",
       "      <td>5313.826660</td>\n",
       "      <td>5366.339844</td>\n",
       "      <td>3044.820312</td>\n",
       "    </tr>\n",
       "    <tr>\n",
       "      <th>1</th>\n",
       "      <td>Chau_Phu</td>\n",
       "      <td>10.510542</td>\n",
       "      <td>105.248554</td>\n",
       "      <td>SA</td>\n",
       "      <td>T</td>\n",
       "      <td>15-07-2022</td>\n",
       "      <td>3.4</td>\n",
       "      <td>5500</td>\n",
       "      <td>09-07-2022</td>\n",
       "      <td>0.453044</td>\n",
       "      <td>...</td>\n",
       "      <td>5106.577866</td>\n",
       "      <td>0.266163</td>\n",
       "      <td>1954.647095</td>\n",
       "      <td>2239.111084</td>\n",
       "      <td>1972.908447</td>\n",
       "      <td>2674.836670</td>\n",
       "      <td>4337.316895</td>\n",
       "      <td>5363.189453</td>\n",
       "      <td>5192.712402</td>\n",
       "      <td>3009.568604</td>\n",
       "    </tr>\n",
       "    <tr>\n",
       "      <th>2</th>\n",
       "      <td>Chau_Phu</td>\n",
       "      <td>10.510542</td>\n",
       "      <td>105.248554</td>\n",
       "      <td>SA</td>\n",
       "      <td>T</td>\n",
       "      <td>15-07-2022</td>\n",
       "      <td>3.4</td>\n",
       "      <td>5500</td>\n",
       "      <td>04-07-2022</td>\n",
       "      <td>0.125385</td>\n",
       "      <td>...</td>\n",
       "      <td>2728.251445</td>\n",
       "      <td>0.210415</td>\n",
       "      <td>5195.346191</td>\n",
       "      <td>5569.202637</td>\n",
       "      <td>5768.026367</td>\n",
       "      <td>5971.241699</td>\n",
       "      <td>6526.993652</td>\n",
       "      <td>6799.486816</td>\n",
       "      <td>6684.954102</td>\n",
       "      <td>4360.764648</td>\n",
       "    </tr>\n",
       "    <tr>\n",
       "      <th>3</th>\n",
       "      <td>Chau_Phu</td>\n",
       "      <td>10.510542</td>\n",
       "      <td>105.248554</td>\n",
       "      <td>SA</td>\n",
       "      <td>T</td>\n",
       "      <td>15-07-2022</td>\n",
       "      <td>3.4</td>\n",
       "      <td>5500</td>\n",
       "      <td>29-06-2022</td>\n",
       "      <td>0.176642</td>\n",
       "      <td>...</td>\n",
       "      <td>3024.090264</td>\n",
       "      <td>0.345635</td>\n",
       "      <td>3937.790771</td>\n",
       "      <td>4316.660156</td>\n",
       "      <td>4571.542480</td>\n",
       "      <td>4673.444336</td>\n",
       "      <td>5374.594727</td>\n",
       "      <td>5831.339844</td>\n",
       "      <td>5627.411621</td>\n",
       "      <td>2736.535889</td>\n",
       "    </tr>\n",
       "    <tr>\n",
       "      <th>4</th>\n",
       "      <td>Chau_Phu</td>\n",
       "      <td>10.510542</td>\n",
       "      <td>105.248554</td>\n",
       "      <td>SA</td>\n",
       "      <td>T</td>\n",
       "      <td>15-07-2022</td>\n",
       "      <td>3.4</td>\n",
       "      <td>5500</td>\n",
       "      <td>24-06-2022</td>\n",
       "      <td>0.452227</td>\n",
       "      <td>...</td>\n",
       "      <td>4482.325225</td>\n",
       "      <td>0.234559</td>\n",
       "      <td>1723.215698</td>\n",
       "      <td>1970.081665</td>\n",
       "      <td>1815.310425</td>\n",
       "      <td>2227.434570</td>\n",
       "      <td>3854.986816</td>\n",
       "      <td>4699.708984</td>\n",
       "      <td>4568.503418</td>\n",
       "      <td>2832.526123</td>\n",
       "    </tr>\n",
       "  </tbody>\n",
       "</table>\n",
       "<p>5 rows × 25 columns</p>\n",
       "</div>"
      ],
      "text/plain": [
       "   District   Latitude   Longitude  \\\n",
       "0  Chau_Phu  10.510542  105.248554   \n",
       "1  Chau_Phu  10.510542  105.248554   \n",
       "2  Chau_Phu  10.510542  105.248554   \n",
       "3  Chau_Phu  10.510542  105.248554   \n",
       "4  Chau_Phu  10.510542  105.248554   \n",
       "\n",
       "  Season(SA = Summer Autumn, WS = Winter Spring)  \\\n",
       "0                                             SA   \n",
       "1                                             SA   \n",
       "2                                             SA   \n",
       "3                                             SA   \n",
       "4                                             SA   \n",
       "\n",
       "  Rice Crop Intensity(D=Double, T=Triple) Date of Harvest  Field size (ha)  \\\n",
       "0                                       T      15-07-2022              3.4   \n",
       "1                                       T      15-07-2022              3.4   \n",
       "2                                       T      15-07-2022              3.4   \n",
       "3                                       T      15-07-2022              3.4   \n",
       "4                                       T      15-07-2022              3.4   \n",
       "\n",
       "   Rice Yield (kg/ha)        date      ndvi  ...        mtvi1      lswi  \\\n",
       "0                5500  14-07-2022  0.182807  ...  3062.295791  0.276005   \n",
       "1                5500  09-07-2022  0.453044  ...  5106.577866  0.266163   \n",
       "2                5500  04-07-2022  0.125385  ...  2728.251445  0.210415   \n",
       "3                5500  29-06-2022  0.176642  ...  3024.090264  0.345635   \n",
       "4                5500  24-06-2022  0.452227  ...  4482.325225  0.234559   \n",
       "\n",
       "           red        green         blue     rededge1     rededge2  \\\n",
       "0  3707.568604  4139.405273  4338.941406  4399.774414  5063.293945   \n",
       "1  1954.647095  2239.111084  1972.908447  2674.836670  4337.316895   \n",
       "2  5195.346191  5569.202637  5768.026367  5971.241699  6526.993652   \n",
       "3  3937.790771  4316.660156  4571.542480  4673.444336  5374.594727   \n",
       "4  1723.215698  1970.081665  1815.310425  2227.434570  3854.986816   \n",
       "\n",
       "      rededge3          nir         swir  \n",
       "0  5313.826660  5366.339844  3044.820312  \n",
       "1  5363.189453  5192.712402  3009.568604  \n",
       "2  6799.486816  6684.954102  4360.764648  \n",
       "3  5831.339844  5627.411621  2736.535889  \n",
       "4  4699.708984  4568.503418  2832.526123  \n",
       "\n",
       "[5 rows x 25 columns]"
      ]
     },
     "execution_count": 6,
     "metadata": {},
     "output_type": "execute_result"
    }
   ],
   "source": [
    "df.head()"
   ]
  },
  {
   "attachments": {},
   "cell_type": "markdown",
   "metadata": {},
   "source": [
    "## Renaming & Typing"
   ]
  },
  {
   "cell_type": "code",
   "execution_count": 7,
   "metadata": {},
   "outputs": [
    {
     "name": "stdout",
     "output_type": "stream",
     "text": [
      "<class 'pandas.core.frame.DataFrame'>\n",
      "Int64Index: 13368 entries, 0 to 13367\n",
      "Data columns (total 25 columns):\n",
      " #   Column                                          Non-Null Count  Dtype   \n",
      "---  ------                                          --------------  -----   \n",
      " 0   District                                        13368 non-null  object  \n",
      " 1   Latitude                                        13368 non-null  float64 \n",
      " 2   Longitude                                       13368 non-null  float64 \n",
      " 3   Season(SA = Summer Autumn, WS = Winter Spring)  13368 non-null  object  \n",
      " 4   Rice Crop Intensity(D=Double, T=Triple)         13368 non-null  category\n",
      " 5   Date of Harvest                                 13368 non-null  object  \n",
      " 6   Field size (ha)                                 13368 non-null  float64 \n",
      " 7   Rice Yield (kg/ha)                              13368 non-null  int64   \n",
      " 8   date                                            13368 non-null  object  \n",
      " 9   ndvi                                            13368 non-null  float64 \n",
      " 10  savi                                            13368 non-null  float64 \n",
      " 11  evi                                             13368 non-null  float64 \n",
      " 12  rep                                             13368 non-null  float64 \n",
      " 13  osavi                                           13368 non-null  float64 \n",
      " 14  rdvi                                            13368 non-null  float64 \n",
      " 15  mtvi1                                           13368 non-null  float64 \n",
      " 16  lswi                                            13368 non-null  float64 \n",
      " 17  red                                             13368 non-null  float64 \n",
      " 18  green                                           13368 non-null  float64 \n",
      " 19  blue                                            13368 non-null  float64 \n",
      " 20  rededge1                                        13368 non-null  float64 \n",
      " 21  rededge2                                        13368 non-null  float64 \n",
      " 22  rededge3                                        13368 non-null  float64 \n",
      " 23  nir                                             13368 non-null  float64 \n",
      " 24  swir                                            13368 non-null  float64 \n",
      "dtypes: category(1), float64(19), int64(1), object(4)\n",
      "memory usage: 2.6+ MB\n"
     ]
    }
   ],
   "source": [
    "# Rename columns\n",
    "# df.rename(\n",
    "#     {\n",
    "#         \"District\": \"district\", \n",
    "#         \"Latitude\": \"lat\", \n",
    "#         \"Longitude\": \"lon\",\n",
    "#         \"Season(SA = Summer Autumn, WS = Winter Spring)\": \"season\",\n",
    "#         \"Rice Crop Intensity(D=Double, T=Triple)\": \"intensity\",\n",
    "#         \"Date of Harvest\": \"harvest\",\n",
    "#         \"Field size (ha)\": \"size\",\n",
    "#         \"Rice Yield (kg/ha)\": \"yield\",\n",
    "#         # \"ID No\": \"id_no\"\n",
    "#     },\n",
    "#     axis=\"columns\", inplace=True)\n",
    "\n",
    "# Set the type of each columns\n",
    "df = df.astype(\n",
    "    dtype={\n",
    "        # \"id_no\": \"category\",\n",
    "        \"Rice Crop Intensity(D=Double, T=Triple)\": \"category\",\n",
    "    },\n",
    "   copy=False \n",
    ")\n",
    "\n",
    "#Remove unsuful columns\n",
    "# df.drop(columns=[\"district\", \"lat\", \"lon\", \"season\"], inplace=True)\n",
    "\n",
    "df.info()"
   ]
  },
  {
   "attachments": {},
   "cell_type": "markdown",
   "metadata": {},
   "source": [
    "# Feature Engineering"
   ]
  },
  {
   "attachments": {},
   "cell_type": "markdown",
   "metadata": {},
   "source": [
    "## Numerical data"
   ]
  },
  {
   "cell_type": "code",
   "execution_count": 8,
   "metadata": {},
   "outputs": [],
   "source": [
    "df = df.drop(columns=\"date\").groupby(['District', 'Latitude', 'Longitude',\n",
    "       'Season(SA = Summer Autumn, WS = Winter Spring)',\n",
    "       'Rice Crop Intensity(D=Double, T=Triple)', 'Date of Harvest',\n",
    "       'Field size (ha)', 'Rice Yield (kg/ha)']).describe()\n",
    "df.columns = df.columns.map('_'.join).str.strip('_')"
   ]
  },
  {
   "cell_type": "code",
   "execution_count": 9,
   "metadata": {},
   "outputs": [],
   "source": [
    "df.reset_index(level=[\"Field size (ha)\", \"Rice Yield (kg/ha)\", \"Rice Crop Intensity(D=Double, T=Triple)\"], inplace=True)"
   ]
  },
  {
   "attachments": {},
   "cell_type": "markdown",
   "metadata": {},
   "source": [
    "# Data Preparation"
   ]
  },
  {
   "cell_type": "code",
   "execution_count": 10,
   "metadata": {},
   "outputs": [
    {
     "data": {
      "text/html": [
       "<div>\n",
       "<style scoped>\n",
       "    .dataframe tbody tr th:only-of-type {\n",
       "        vertical-align: middle;\n",
       "    }\n",
       "\n",
       "    .dataframe tbody tr th {\n",
       "        vertical-align: top;\n",
       "    }\n",
       "\n",
       "    .dataframe thead th {\n",
       "        text-align: right;\n",
       "    }\n",
       "</style>\n",
       "<table border=\"1\" class=\"dataframe\">\n",
       "  <thead>\n",
       "    <tr style=\"text-align: right;\">\n",
       "      <th></th>\n",
       "      <th></th>\n",
       "      <th></th>\n",
       "      <th></th>\n",
       "      <th></th>\n",
       "      <th>Rice Crop Intensity(D=Double, T=Triple)</th>\n",
       "      <th>Field size (ha)</th>\n",
       "      <th>Rice Yield (kg/ha)</th>\n",
       "      <th>ndvi_count</th>\n",
       "      <th>ndvi_mean</th>\n",
       "      <th>ndvi_std</th>\n",
       "      <th>ndvi_min</th>\n",
       "      <th>ndvi_25%</th>\n",
       "      <th>ndvi_50%</th>\n",
       "      <th>ndvi_75%</th>\n",
       "      <th>...</th>\n",
       "      <th>nir_75%</th>\n",
       "      <th>nir_max</th>\n",
       "      <th>swir_count</th>\n",
       "      <th>swir_mean</th>\n",
       "      <th>swir_std</th>\n",
       "      <th>swir_min</th>\n",
       "      <th>swir_25%</th>\n",
       "      <th>swir_50%</th>\n",
       "      <th>swir_75%</th>\n",
       "      <th>swir_max</th>\n",
       "    </tr>\n",
       "    <tr>\n",
       "      <th>District</th>\n",
       "      <th>Latitude</th>\n",
       "      <th>Longitude</th>\n",
       "      <th>Season(SA = Summer Autumn, WS = Winter Spring)</th>\n",
       "      <th>Date of Harvest</th>\n",
       "      <th></th>\n",
       "      <th></th>\n",
       "      <th></th>\n",
       "      <th></th>\n",
       "      <th></th>\n",
       "      <th></th>\n",
       "      <th></th>\n",
       "      <th></th>\n",
       "      <th></th>\n",
       "      <th></th>\n",
       "      <th></th>\n",
       "      <th></th>\n",
       "      <th></th>\n",
       "      <th></th>\n",
       "      <th></th>\n",
       "      <th></th>\n",
       "      <th></th>\n",
       "      <th></th>\n",
       "      <th></th>\n",
       "      <th></th>\n",
       "      <th></th>\n",
       "    </tr>\n",
       "  </thead>\n",
       "  <tbody>\n",
       "    <tr>\n",
       "      <th rowspan=\"5\" valign=\"top\">Chau_Phu</th>\n",
       "      <th>10.445962</th>\n",
       "      <th>105.123164</th>\n",
       "      <th>WS</th>\n",
       "      <th>07-04-2022</th>\n",
       "      <td>D</td>\n",
       "      <td>3.0</td>\n",
       "      <td>7200</td>\n",
       "      <td>24.0</td>\n",
       "      <td>0.313879</td>\n",
       "      <td>0.278279</td>\n",
       "      <td>-0.070971</td>\n",
       "      <td>0.064601</td>\n",
       "      <td>0.358543</td>\n",
       "      <td>0.476366</td>\n",
       "      <td>...</td>\n",
       "      <td>5589.562134</td>\n",
       "      <td>10878.248047</td>\n",
       "      <td>24.0</td>\n",
       "      <td>3227.041785</td>\n",
       "      <td>1665.606455</td>\n",
       "      <td>376.104584</td>\n",
       "      <td>2252.296509</td>\n",
       "      <td>2833.021240</td>\n",
       "      <td>3857.703369</td>\n",
       "      <td>7925.820312</td>\n",
       "    </tr>\n",
       "    <tr>\n",
       "      <th rowspan=\"2\" valign=\"top\">10.447840</th>\n",
       "      <th rowspan=\"2\" valign=\"top\">105.141425</th>\n",
       "      <th>SA</th>\n",
       "      <th>14-07-2022</th>\n",
       "      <td>D</td>\n",
       "      <td>2.0</td>\n",
       "      <td>6600</td>\n",
       "      <td>24.0</td>\n",
       "      <td>0.227551</td>\n",
       "      <td>0.197603</td>\n",
       "      <td>-0.070756</td>\n",
       "      <td>0.060892</td>\n",
       "      <td>0.156410</td>\n",
       "      <td>0.405029</td>\n",
       "      <td>...</td>\n",
       "      <td>5081.133179</td>\n",
       "      <td>11035.708984</td>\n",
       "      <td>24.0</td>\n",
       "      <td>3673.413935</td>\n",
       "      <td>1694.433618</td>\n",
       "      <td>1749.273315</td>\n",
       "      <td>2659.774231</td>\n",
       "      <td>2851.572632</td>\n",
       "      <td>4190.267456</td>\n",
       "      <td>8245.587891</td>\n",
       "    </tr>\n",
       "    <tr>\n",
       "      <th>WS</th>\n",
       "      <th>03-04-2022</th>\n",
       "      <td>D</td>\n",
       "      <td>2.0</td>\n",
       "      <td>6400</td>\n",
       "      <td>24.0</td>\n",
       "      <td>0.304275</td>\n",
       "      <td>0.289463</td>\n",
       "      <td>-0.070756</td>\n",
       "      <td>0.048735</td>\n",
       "      <td>0.275382</td>\n",
       "      <td>0.458366</td>\n",
       "      <td>...</td>\n",
       "      <td>6984.020752</td>\n",
       "      <td>10454.006836</td>\n",
       "      <td>24.0</td>\n",
       "      <td>3350.425494</td>\n",
       "      <td>1916.764685</td>\n",
       "      <td>15.114187</td>\n",
       "      <td>2226.315796</td>\n",
       "      <td>3184.835693</td>\n",
       "      <td>5003.049438</td>\n",
       "      <td>7359.142090</td>\n",
       "    </tr>\n",
       "    <tr>\n",
       "      <th>10.455882</th>\n",
       "      <th>105.126628</th>\n",
       "      <th>WS</th>\n",
       "      <th>10-04-2022</th>\n",
       "      <td>D</td>\n",
       "      <td>1.9</td>\n",
       "      <td>6800</td>\n",
       "      <td>24.0</td>\n",
       "      <td>0.297431</td>\n",
       "      <td>0.283660</td>\n",
       "      <td>-0.079871</td>\n",
       "      <td>0.068008</td>\n",
       "      <td>0.297030</td>\n",
       "      <td>0.435336</td>\n",
       "      <td>...</td>\n",
       "      <td>5786.396118</td>\n",
       "      <td>12227.654297</td>\n",
       "      <td>24.0</td>\n",
       "      <td>3294.997261</td>\n",
       "      <td>1854.282382</td>\n",
       "      <td>573.214539</td>\n",
       "      <td>2258.987915</td>\n",
       "      <td>2829.714478</td>\n",
       "      <td>4440.691284</td>\n",
       "      <td>8655.439453</td>\n",
       "    </tr>\n",
       "    <tr>\n",
       "      <th>10.458071</th>\n",
       "      <th>105.162504</th>\n",
       "      <th>WS</th>\n",
       "      <th>03-04-2022</th>\n",
       "      <td>D</td>\n",
       "      <td>2.0</td>\n",
       "      <td>6400</td>\n",
       "      <td>24.0</td>\n",
       "      <td>0.321277</td>\n",
       "      <td>0.266027</td>\n",
       "      <td>-0.077437</td>\n",
       "      <td>0.085025</td>\n",
       "      <td>0.250383</td>\n",
       "      <td>0.571228</td>\n",
       "      <td>...</td>\n",
       "      <td>6050.918335</td>\n",
       "      <td>11387.712891</td>\n",
       "      <td>24.0</td>\n",
       "      <td>3167.711067</td>\n",
       "      <td>1972.669878</td>\n",
       "      <td>233.767975</td>\n",
       "      <td>2155.306458</td>\n",
       "      <td>2790.387207</td>\n",
       "      <td>3963.142944</td>\n",
       "      <td>7883.153809</td>\n",
       "    </tr>\n",
       "  </tbody>\n",
       "</table>\n",
       "<p>5 rows × 131 columns</p>\n",
       "</div>"
      ],
      "text/plain": [
       "                                                                                             Rice Crop Intensity(D=Double, T=Triple)  \\\n",
       "District Latitude  Longitude  Season(SA = Summer Autumn, WS = Winter Spring) Date of Harvest                                           \n",
       "Chau_Phu 10.445962 105.123164 WS                                             07-04-2022                                            D   \n",
       "         10.447840 105.141425 SA                                             14-07-2022                                            D   \n",
       "                              WS                                             03-04-2022                                            D   \n",
       "         10.455882 105.126628 WS                                             10-04-2022                                            D   \n",
       "         10.458071 105.162504 WS                                             03-04-2022                                            D   \n",
       "\n",
       "                                                                                              Field size (ha)  \\\n",
       "District Latitude  Longitude  Season(SA = Summer Autumn, WS = Winter Spring) Date of Harvest                    \n",
       "Chau_Phu 10.445962 105.123164 WS                                             07-04-2022                   3.0   \n",
       "         10.447840 105.141425 SA                                             14-07-2022                   2.0   \n",
       "                              WS                                             03-04-2022                   2.0   \n",
       "         10.455882 105.126628 WS                                             10-04-2022                   1.9   \n",
       "         10.458071 105.162504 WS                                             03-04-2022                   2.0   \n",
       "\n",
       "                                                                                              Rice Yield (kg/ha)  \\\n",
       "District Latitude  Longitude  Season(SA = Summer Autumn, WS = Winter Spring) Date of Harvest                       \n",
       "Chau_Phu 10.445962 105.123164 WS                                             07-04-2022                     7200   \n",
       "         10.447840 105.141425 SA                                             14-07-2022                     6600   \n",
       "                              WS                                             03-04-2022                     6400   \n",
       "         10.455882 105.126628 WS                                             10-04-2022                     6800   \n",
       "         10.458071 105.162504 WS                                             03-04-2022                     6400   \n",
       "\n",
       "                                                                                              ndvi_count  \\\n",
       "District Latitude  Longitude  Season(SA = Summer Autumn, WS = Winter Spring) Date of Harvest               \n",
       "Chau_Phu 10.445962 105.123164 WS                                             07-04-2022             24.0   \n",
       "         10.447840 105.141425 SA                                             14-07-2022             24.0   \n",
       "                              WS                                             03-04-2022             24.0   \n",
       "         10.455882 105.126628 WS                                             10-04-2022             24.0   \n",
       "         10.458071 105.162504 WS                                             03-04-2022             24.0   \n",
       "\n",
       "                                                                                              ndvi_mean  \\\n",
       "District Latitude  Longitude  Season(SA = Summer Autumn, WS = Winter Spring) Date of Harvest              \n",
       "Chau_Phu 10.445962 105.123164 WS                                             07-04-2022        0.313879   \n",
       "         10.447840 105.141425 SA                                             14-07-2022        0.227551   \n",
       "                              WS                                             03-04-2022        0.304275   \n",
       "         10.455882 105.126628 WS                                             10-04-2022        0.297431   \n",
       "         10.458071 105.162504 WS                                             03-04-2022        0.321277   \n",
       "\n",
       "                                                                                              ndvi_std  \\\n",
       "District Latitude  Longitude  Season(SA = Summer Autumn, WS = Winter Spring) Date of Harvest             \n",
       "Chau_Phu 10.445962 105.123164 WS                                             07-04-2022       0.278279   \n",
       "         10.447840 105.141425 SA                                             14-07-2022       0.197603   \n",
       "                              WS                                             03-04-2022       0.289463   \n",
       "         10.455882 105.126628 WS                                             10-04-2022       0.283660   \n",
       "         10.458071 105.162504 WS                                             03-04-2022       0.266027   \n",
       "\n",
       "                                                                                              ndvi_min  \\\n",
       "District Latitude  Longitude  Season(SA = Summer Autumn, WS = Winter Spring) Date of Harvest             \n",
       "Chau_Phu 10.445962 105.123164 WS                                             07-04-2022      -0.070971   \n",
       "         10.447840 105.141425 SA                                             14-07-2022      -0.070756   \n",
       "                              WS                                             03-04-2022      -0.070756   \n",
       "         10.455882 105.126628 WS                                             10-04-2022      -0.079871   \n",
       "         10.458071 105.162504 WS                                             03-04-2022      -0.077437   \n",
       "\n",
       "                                                                                              ndvi_25%  \\\n",
       "District Latitude  Longitude  Season(SA = Summer Autumn, WS = Winter Spring) Date of Harvest             \n",
       "Chau_Phu 10.445962 105.123164 WS                                             07-04-2022       0.064601   \n",
       "         10.447840 105.141425 SA                                             14-07-2022       0.060892   \n",
       "                              WS                                             03-04-2022       0.048735   \n",
       "         10.455882 105.126628 WS                                             10-04-2022       0.068008   \n",
       "         10.458071 105.162504 WS                                             03-04-2022       0.085025   \n",
       "\n",
       "                                                                                              ndvi_50%  \\\n",
       "District Latitude  Longitude  Season(SA = Summer Autumn, WS = Winter Spring) Date of Harvest             \n",
       "Chau_Phu 10.445962 105.123164 WS                                             07-04-2022       0.358543   \n",
       "         10.447840 105.141425 SA                                             14-07-2022       0.156410   \n",
       "                              WS                                             03-04-2022       0.275382   \n",
       "         10.455882 105.126628 WS                                             10-04-2022       0.297030   \n",
       "         10.458071 105.162504 WS                                             03-04-2022       0.250383   \n",
       "\n",
       "                                                                                              ndvi_75%  \\\n",
       "District Latitude  Longitude  Season(SA = Summer Autumn, WS = Winter Spring) Date of Harvest             \n",
       "Chau_Phu 10.445962 105.123164 WS                                             07-04-2022       0.476366   \n",
       "         10.447840 105.141425 SA                                             14-07-2022       0.405029   \n",
       "                              WS                                             03-04-2022       0.458366   \n",
       "         10.455882 105.126628 WS                                             10-04-2022       0.435336   \n",
       "         10.458071 105.162504 WS                                             03-04-2022       0.571228   \n",
       "\n",
       "                                                                                              ...  \\\n",
       "District Latitude  Longitude  Season(SA = Summer Autumn, WS = Winter Spring) Date of Harvest  ...   \n",
       "Chau_Phu 10.445962 105.123164 WS                                             07-04-2022       ...   \n",
       "         10.447840 105.141425 SA                                             14-07-2022       ...   \n",
       "                              WS                                             03-04-2022       ...   \n",
       "         10.455882 105.126628 WS                                             10-04-2022       ...   \n",
       "         10.458071 105.162504 WS                                             03-04-2022       ...   \n",
       "\n",
       "                                                                                                  nir_75%  \\\n",
       "District Latitude  Longitude  Season(SA = Summer Autumn, WS = Winter Spring) Date of Harvest                \n",
       "Chau_Phu 10.445962 105.123164 WS                                             07-04-2022       5589.562134   \n",
       "         10.447840 105.141425 SA                                             14-07-2022       5081.133179   \n",
       "                              WS                                             03-04-2022       6984.020752   \n",
       "         10.455882 105.126628 WS                                             10-04-2022       5786.396118   \n",
       "         10.458071 105.162504 WS                                             03-04-2022       6050.918335   \n",
       "\n",
       "                                                                                                   nir_max  \\\n",
       "District Latitude  Longitude  Season(SA = Summer Autumn, WS = Winter Spring) Date of Harvest                 \n",
       "Chau_Phu 10.445962 105.123164 WS                                             07-04-2022       10878.248047   \n",
       "         10.447840 105.141425 SA                                             14-07-2022       11035.708984   \n",
       "                              WS                                             03-04-2022       10454.006836   \n",
       "         10.455882 105.126628 WS                                             10-04-2022       12227.654297   \n",
       "         10.458071 105.162504 WS                                             03-04-2022       11387.712891   \n",
       "\n",
       "                                                                                              swir_count  \\\n",
       "District Latitude  Longitude  Season(SA = Summer Autumn, WS = Winter Spring) Date of Harvest               \n",
       "Chau_Phu 10.445962 105.123164 WS                                             07-04-2022             24.0   \n",
       "         10.447840 105.141425 SA                                             14-07-2022             24.0   \n",
       "                              WS                                             03-04-2022             24.0   \n",
       "         10.455882 105.126628 WS                                             10-04-2022             24.0   \n",
       "         10.458071 105.162504 WS                                             03-04-2022             24.0   \n",
       "\n",
       "                                                                                                swir_mean  \\\n",
       "District Latitude  Longitude  Season(SA = Summer Autumn, WS = Winter Spring) Date of Harvest                \n",
       "Chau_Phu 10.445962 105.123164 WS                                             07-04-2022       3227.041785   \n",
       "         10.447840 105.141425 SA                                             14-07-2022       3673.413935   \n",
       "                              WS                                             03-04-2022       3350.425494   \n",
       "         10.455882 105.126628 WS                                             10-04-2022       3294.997261   \n",
       "         10.458071 105.162504 WS                                             03-04-2022       3167.711067   \n",
       "\n",
       "                                                                                                 swir_std  \\\n",
       "District Latitude  Longitude  Season(SA = Summer Autumn, WS = Winter Spring) Date of Harvest                \n",
       "Chau_Phu 10.445962 105.123164 WS                                             07-04-2022       1665.606455   \n",
       "         10.447840 105.141425 SA                                             14-07-2022       1694.433618   \n",
       "                              WS                                             03-04-2022       1916.764685   \n",
       "         10.455882 105.126628 WS                                             10-04-2022       1854.282382   \n",
       "         10.458071 105.162504 WS                                             03-04-2022       1972.669878   \n",
       "\n",
       "                                                                                                 swir_min  \\\n",
       "District Latitude  Longitude  Season(SA = Summer Autumn, WS = Winter Spring) Date of Harvest                \n",
       "Chau_Phu 10.445962 105.123164 WS                                             07-04-2022        376.104584   \n",
       "         10.447840 105.141425 SA                                             14-07-2022       1749.273315   \n",
       "                              WS                                             03-04-2022         15.114187   \n",
       "         10.455882 105.126628 WS                                             10-04-2022        573.214539   \n",
       "         10.458071 105.162504 WS                                             03-04-2022        233.767975   \n",
       "\n",
       "                                                                                                 swir_25%  \\\n",
       "District Latitude  Longitude  Season(SA = Summer Autumn, WS = Winter Spring) Date of Harvest                \n",
       "Chau_Phu 10.445962 105.123164 WS                                             07-04-2022       2252.296509   \n",
       "         10.447840 105.141425 SA                                             14-07-2022       2659.774231   \n",
       "                              WS                                             03-04-2022       2226.315796   \n",
       "         10.455882 105.126628 WS                                             10-04-2022       2258.987915   \n",
       "         10.458071 105.162504 WS                                             03-04-2022       2155.306458   \n",
       "\n",
       "                                                                                                 swir_50%  \\\n",
       "District Latitude  Longitude  Season(SA = Summer Autumn, WS = Winter Spring) Date of Harvest                \n",
       "Chau_Phu 10.445962 105.123164 WS                                             07-04-2022       2833.021240   \n",
       "         10.447840 105.141425 SA                                             14-07-2022       2851.572632   \n",
       "                              WS                                             03-04-2022       3184.835693   \n",
       "         10.455882 105.126628 WS                                             10-04-2022       2829.714478   \n",
       "         10.458071 105.162504 WS                                             03-04-2022       2790.387207   \n",
       "\n",
       "                                                                                                 swir_75%  \\\n",
       "District Latitude  Longitude  Season(SA = Summer Autumn, WS = Winter Spring) Date of Harvest                \n",
       "Chau_Phu 10.445962 105.123164 WS                                             07-04-2022       3857.703369   \n",
       "         10.447840 105.141425 SA                                             14-07-2022       4190.267456   \n",
       "                              WS                                             03-04-2022       5003.049438   \n",
       "         10.455882 105.126628 WS                                             10-04-2022       4440.691284   \n",
       "         10.458071 105.162504 WS                                             03-04-2022       3963.142944   \n",
       "\n",
       "                                                                                                 swir_max  \n",
       "District Latitude  Longitude  Season(SA = Summer Autumn, WS = Winter Spring) Date of Harvest               \n",
       "Chau_Phu 10.445962 105.123164 WS                                             07-04-2022       7925.820312  \n",
       "         10.447840 105.141425 SA                                             14-07-2022       8245.587891  \n",
       "                              WS                                             03-04-2022       7359.142090  \n",
       "         10.455882 105.126628 WS                                             10-04-2022       8655.439453  \n",
       "         10.458071 105.162504 WS                                             03-04-2022       7883.153809  \n",
       "\n",
       "[5 rows x 131 columns]"
      ]
     },
     "execution_count": 10,
     "metadata": {},
     "output_type": "execute_result"
    }
   ],
   "source": [
    "df.head()"
   ]
  },
  {
   "cell_type": "code",
   "execution_count": 11,
   "metadata": {},
   "outputs": [],
   "source": [
    "# Split Features & Target\n",
    "X, y = df.drop(columns=TARGET), df[[TARGET]]"
   ]
  },
  {
   "attachments": {},
   "cell_type": "markdown",
   "metadata": {},
   "source": [
    "## Convert Categorical features"
   ]
  },
  {
   "cell_type": "code",
   "execution_count": 12,
   "metadata": {},
   "outputs": [
    {
     "data": {
      "text/html": [
       "<div>\n",
       "<style scoped>\n",
       "    .dataframe tbody tr th:only-of-type {\n",
       "        vertical-align: middle;\n",
       "    }\n",
       "\n",
       "    .dataframe tbody tr th {\n",
       "        vertical-align: top;\n",
       "    }\n",
       "\n",
       "    .dataframe thead th {\n",
       "        text-align: right;\n",
       "    }\n",
       "</style>\n",
       "<table border=\"1\" class=\"dataframe\">\n",
       "  <thead>\n",
       "    <tr style=\"text-align: right;\">\n",
       "      <th></th>\n",
       "      <th></th>\n",
       "      <th></th>\n",
       "      <th></th>\n",
       "      <th></th>\n",
       "      <th>Field size (ha)</th>\n",
       "      <th>ndvi_count</th>\n",
       "      <th>ndvi_mean</th>\n",
       "      <th>ndvi_std</th>\n",
       "      <th>ndvi_min</th>\n",
       "      <th>ndvi_25%</th>\n",
       "      <th>ndvi_50%</th>\n",
       "      <th>ndvi_75%</th>\n",
       "      <th>ndvi_max</th>\n",
       "      <th>savi_count</th>\n",
       "      <th>...</th>\n",
       "      <th>nir_max</th>\n",
       "      <th>swir_count</th>\n",
       "      <th>swir_mean</th>\n",
       "      <th>swir_std</th>\n",
       "      <th>swir_min</th>\n",
       "      <th>swir_25%</th>\n",
       "      <th>swir_50%</th>\n",
       "      <th>swir_75%</th>\n",
       "      <th>swir_max</th>\n",
       "      <th>Rice Crop Intensity(D=Double, T=Triple)_T</th>\n",
       "    </tr>\n",
       "    <tr>\n",
       "      <th>District</th>\n",
       "      <th>Latitude</th>\n",
       "      <th>Longitude</th>\n",
       "      <th>Season(SA = Summer Autumn, WS = Winter Spring)</th>\n",
       "      <th>Date of Harvest</th>\n",
       "      <th></th>\n",
       "      <th></th>\n",
       "      <th></th>\n",
       "      <th></th>\n",
       "      <th></th>\n",
       "      <th></th>\n",
       "      <th></th>\n",
       "      <th></th>\n",
       "      <th></th>\n",
       "      <th></th>\n",
       "      <th></th>\n",
       "      <th></th>\n",
       "      <th></th>\n",
       "      <th></th>\n",
       "      <th></th>\n",
       "      <th></th>\n",
       "      <th></th>\n",
       "      <th></th>\n",
       "      <th></th>\n",
       "      <th></th>\n",
       "      <th></th>\n",
       "    </tr>\n",
       "  </thead>\n",
       "  <tbody>\n",
       "    <tr>\n",
       "      <th rowspan=\"5\" valign=\"top\">Chau_Phu</th>\n",
       "      <th>10.445962</th>\n",
       "      <th>105.123164</th>\n",
       "      <th>WS</th>\n",
       "      <th>07-04-2022</th>\n",
       "      <td>3.0</td>\n",
       "      <td>24.0</td>\n",
       "      <td>0.313879</td>\n",
       "      <td>0.278279</td>\n",
       "      <td>-0.070971</td>\n",
       "      <td>0.064601</td>\n",
       "      <td>0.358543</td>\n",
       "      <td>0.476366</td>\n",
       "      <td>0.828294</td>\n",
       "      <td>24.0</td>\n",
       "      <td>...</td>\n",
       "      <td>10878.248047</td>\n",
       "      <td>24.0</td>\n",
       "      <td>3227.041785</td>\n",
       "      <td>1665.606455</td>\n",
       "      <td>376.104584</td>\n",
       "      <td>2252.296509</td>\n",
       "      <td>2833.021240</td>\n",
       "      <td>3857.703369</td>\n",
       "      <td>7925.820312</td>\n",
       "      <td>0</td>\n",
       "    </tr>\n",
       "    <tr>\n",
       "      <th rowspan=\"2\" valign=\"top\">10.447840</th>\n",
       "      <th rowspan=\"2\" valign=\"top\">105.141425</th>\n",
       "      <th>SA</th>\n",
       "      <th>14-07-2022</th>\n",
       "      <td>2.0</td>\n",
       "      <td>24.0</td>\n",
       "      <td>0.227551</td>\n",
       "      <td>0.197603</td>\n",
       "      <td>-0.070756</td>\n",
       "      <td>0.060892</td>\n",
       "      <td>0.156410</td>\n",
       "      <td>0.405029</td>\n",
       "      <td>0.519165</td>\n",
       "      <td>24.0</td>\n",
       "      <td>...</td>\n",
       "      <td>11035.708984</td>\n",
       "      <td>24.0</td>\n",
       "      <td>3673.413935</td>\n",
       "      <td>1694.433618</td>\n",
       "      <td>1749.273315</td>\n",
       "      <td>2659.774231</td>\n",
       "      <td>2851.572632</td>\n",
       "      <td>4190.267456</td>\n",
       "      <td>8245.587891</td>\n",
       "      <td>0</td>\n",
       "    </tr>\n",
       "    <tr>\n",
       "      <th>WS</th>\n",
       "      <th>03-04-2022</th>\n",
       "      <td>2.0</td>\n",
       "      <td>24.0</td>\n",
       "      <td>0.304275</td>\n",
       "      <td>0.289463</td>\n",
       "      <td>-0.070756</td>\n",
       "      <td>0.048735</td>\n",
       "      <td>0.275382</td>\n",
       "      <td>0.458366</td>\n",
       "      <td>0.874390</td>\n",
       "      <td>24.0</td>\n",
       "      <td>...</td>\n",
       "      <td>10454.006836</td>\n",
       "      <td>24.0</td>\n",
       "      <td>3350.425494</td>\n",
       "      <td>1916.764685</td>\n",
       "      <td>15.114187</td>\n",
       "      <td>2226.315796</td>\n",
       "      <td>3184.835693</td>\n",
       "      <td>5003.049438</td>\n",
       "      <td>7359.142090</td>\n",
       "      <td>0</td>\n",
       "    </tr>\n",
       "    <tr>\n",
       "      <th>10.455882</th>\n",
       "      <th>105.126628</th>\n",
       "      <th>WS</th>\n",
       "      <th>10-04-2022</th>\n",
       "      <td>1.9</td>\n",
       "      <td>24.0</td>\n",
       "      <td>0.297431</td>\n",
       "      <td>0.283660</td>\n",
       "      <td>-0.079871</td>\n",
       "      <td>0.068008</td>\n",
       "      <td>0.297030</td>\n",
       "      <td>0.435336</td>\n",
       "      <td>0.871526</td>\n",
       "      <td>24.0</td>\n",
       "      <td>...</td>\n",
       "      <td>12227.654297</td>\n",
       "      <td>24.0</td>\n",
       "      <td>3294.997261</td>\n",
       "      <td>1854.282382</td>\n",
       "      <td>573.214539</td>\n",
       "      <td>2258.987915</td>\n",
       "      <td>2829.714478</td>\n",
       "      <td>4440.691284</td>\n",
       "      <td>8655.439453</td>\n",
       "      <td>0</td>\n",
       "    </tr>\n",
       "    <tr>\n",
       "      <th>10.458071</th>\n",
       "      <th>105.162504</th>\n",
       "      <th>WS</th>\n",
       "      <th>03-04-2022</th>\n",
       "      <td>2.0</td>\n",
       "      <td>24.0</td>\n",
       "      <td>0.321277</td>\n",
       "      <td>0.266027</td>\n",
       "      <td>-0.077437</td>\n",
       "      <td>0.085025</td>\n",
       "      <td>0.250383</td>\n",
       "      <td>0.571228</td>\n",
       "      <td>0.823035</td>\n",
       "      <td>24.0</td>\n",
       "      <td>...</td>\n",
       "      <td>11387.712891</td>\n",
       "      <td>24.0</td>\n",
       "      <td>3167.711067</td>\n",
       "      <td>1972.669878</td>\n",
       "      <td>233.767975</td>\n",
       "      <td>2155.306458</td>\n",
       "      <td>2790.387207</td>\n",
       "      <td>3963.142944</td>\n",
       "      <td>7883.153809</td>\n",
       "      <td>0</td>\n",
       "    </tr>\n",
       "  </tbody>\n",
       "</table>\n",
       "<p>5 rows × 130 columns</p>\n",
       "</div>"
      ],
      "text/plain": [
       "                                                                                              Field size (ha)  \\\n",
       "District Latitude  Longitude  Season(SA = Summer Autumn, WS = Winter Spring) Date of Harvest                    \n",
       "Chau_Phu 10.445962 105.123164 WS                                             07-04-2022                   3.0   \n",
       "         10.447840 105.141425 SA                                             14-07-2022                   2.0   \n",
       "                              WS                                             03-04-2022                   2.0   \n",
       "         10.455882 105.126628 WS                                             10-04-2022                   1.9   \n",
       "         10.458071 105.162504 WS                                             03-04-2022                   2.0   \n",
       "\n",
       "                                                                                              ndvi_count  \\\n",
       "District Latitude  Longitude  Season(SA = Summer Autumn, WS = Winter Spring) Date of Harvest               \n",
       "Chau_Phu 10.445962 105.123164 WS                                             07-04-2022             24.0   \n",
       "         10.447840 105.141425 SA                                             14-07-2022             24.0   \n",
       "                              WS                                             03-04-2022             24.0   \n",
       "         10.455882 105.126628 WS                                             10-04-2022             24.0   \n",
       "         10.458071 105.162504 WS                                             03-04-2022             24.0   \n",
       "\n",
       "                                                                                              ndvi_mean  \\\n",
       "District Latitude  Longitude  Season(SA = Summer Autumn, WS = Winter Spring) Date of Harvest              \n",
       "Chau_Phu 10.445962 105.123164 WS                                             07-04-2022        0.313879   \n",
       "         10.447840 105.141425 SA                                             14-07-2022        0.227551   \n",
       "                              WS                                             03-04-2022        0.304275   \n",
       "         10.455882 105.126628 WS                                             10-04-2022        0.297431   \n",
       "         10.458071 105.162504 WS                                             03-04-2022        0.321277   \n",
       "\n",
       "                                                                                              ndvi_std  \\\n",
       "District Latitude  Longitude  Season(SA = Summer Autumn, WS = Winter Spring) Date of Harvest             \n",
       "Chau_Phu 10.445962 105.123164 WS                                             07-04-2022       0.278279   \n",
       "         10.447840 105.141425 SA                                             14-07-2022       0.197603   \n",
       "                              WS                                             03-04-2022       0.289463   \n",
       "         10.455882 105.126628 WS                                             10-04-2022       0.283660   \n",
       "         10.458071 105.162504 WS                                             03-04-2022       0.266027   \n",
       "\n",
       "                                                                                              ndvi_min  \\\n",
       "District Latitude  Longitude  Season(SA = Summer Autumn, WS = Winter Spring) Date of Harvest             \n",
       "Chau_Phu 10.445962 105.123164 WS                                             07-04-2022      -0.070971   \n",
       "         10.447840 105.141425 SA                                             14-07-2022      -0.070756   \n",
       "                              WS                                             03-04-2022      -0.070756   \n",
       "         10.455882 105.126628 WS                                             10-04-2022      -0.079871   \n",
       "         10.458071 105.162504 WS                                             03-04-2022      -0.077437   \n",
       "\n",
       "                                                                                              ndvi_25%  \\\n",
       "District Latitude  Longitude  Season(SA = Summer Autumn, WS = Winter Spring) Date of Harvest             \n",
       "Chau_Phu 10.445962 105.123164 WS                                             07-04-2022       0.064601   \n",
       "         10.447840 105.141425 SA                                             14-07-2022       0.060892   \n",
       "                              WS                                             03-04-2022       0.048735   \n",
       "         10.455882 105.126628 WS                                             10-04-2022       0.068008   \n",
       "         10.458071 105.162504 WS                                             03-04-2022       0.085025   \n",
       "\n",
       "                                                                                              ndvi_50%  \\\n",
       "District Latitude  Longitude  Season(SA = Summer Autumn, WS = Winter Spring) Date of Harvest             \n",
       "Chau_Phu 10.445962 105.123164 WS                                             07-04-2022       0.358543   \n",
       "         10.447840 105.141425 SA                                             14-07-2022       0.156410   \n",
       "                              WS                                             03-04-2022       0.275382   \n",
       "         10.455882 105.126628 WS                                             10-04-2022       0.297030   \n",
       "         10.458071 105.162504 WS                                             03-04-2022       0.250383   \n",
       "\n",
       "                                                                                              ndvi_75%  \\\n",
       "District Latitude  Longitude  Season(SA = Summer Autumn, WS = Winter Spring) Date of Harvest             \n",
       "Chau_Phu 10.445962 105.123164 WS                                             07-04-2022       0.476366   \n",
       "         10.447840 105.141425 SA                                             14-07-2022       0.405029   \n",
       "                              WS                                             03-04-2022       0.458366   \n",
       "         10.455882 105.126628 WS                                             10-04-2022       0.435336   \n",
       "         10.458071 105.162504 WS                                             03-04-2022       0.571228   \n",
       "\n",
       "                                                                                              ndvi_max  \\\n",
       "District Latitude  Longitude  Season(SA = Summer Autumn, WS = Winter Spring) Date of Harvest             \n",
       "Chau_Phu 10.445962 105.123164 WS                                             07-04-2022       0.828294   \n",
       "         10.447840 105.141425 SA                                             14-07-2022       0.519165   \n",
       "                              WS                                             03-04-2022       0.874390   \n",
       "         10.455882 105.126628 WS                                             10-04-2022       0.871526   \n",
       "         10.458071 105.162504 WS                                             03-04-2022       0.823035   \n",
       "\n",
       "                                                                                              savi_count  \\\n",
       "District Latitude  Longitude  Season(SA = Summer Autumn, WS = Winter Spring) Date of Harvest               \n",
       "Chau_Phu 10.445962 105.123164 WS                                             07-04-2022             24.0   \n",
       "         10.447840 105.141425 SA                                             14-07-2022             24.0   \n",
       "                              WS                                             03-04-2022             24.0   \n",
       "         10.455882 105.126628 WS                                             10-04-2022             24.0   \n",
       "         10.458071 105.162504 WS                                             03-04-2022             24.0   \n",
       "\n",
       "                                                                                              ...  \\\n",
       "District Latitude  Longitude  Season(SA = Summer Autumn, WS = Winter Spring) Date of Harvest  ...   \n",
       "Chau_Phu 10.445962 105.123164 WS                                             07-04-2022       ...   \n",
       "         10.447840 105.141425 SA                                             14-07-2022       ...   \n",
       "                              WS                                             03-04-2022       ...   \n",
       "         10.455882 105.126628 WS                                             10-04-2022       ...   \n",
       "         10.458071 105.162504 WS                                             03-04-2022       ...   \n",
       "\n",
       "                                                                                                   nir_max  \\\n",
       "District Latitude  Longitude  Season(SA = Summer Autumn, WS = Winter Spring) Date of Harvest                 \n",
       "Chau_Phu 10.445962 105.123164 WS                                             07-04-2022       10878.248047   \n",
       "         10.447840 105.141425 SA                                             14-07-2022       11035.708984   \n",
       "                              WS                                             03-04-2022       10454.006836   \n",
       "         10.455882 105.126628 WS                                             10-04-2022       12227.654297   \n",
       "         10.458071 105.162504 WS                                             03-04-2022       11387.712891   \n",
       "\n",
       "                                                                                              swir_count  \\\n",
       "District Latitude  Longitude  Season(SA = Summer Autumn, WS = Winter Spring) Date of Harvest               \n",
       "Chau_Phu 10.445962 105.123164 WS                                             07-04-2022             24.0   \n",
       "         10.447840 105.141425 SA                                             14-07-2022             24.0   \n",
       "                              WS                                             03-04-2022             24.0   \n",
       "         10.455882 105.126628 WS                                             10-04-2022             24.0   \n",
       "         10.458071 105.162504 WS                                             03-04-2022             24.0   \n",
       "\n",
       "                                                                                                swir_mean  \\\n",
       "District Latitude  Longitude  Season(SA = Summer Autumn, WS = Winter Spring) Date of Harvest                \n",
       "Chau_Phu 10.445962 105.123164 WS                                             07-04-2022       3227.041785   \n",
       "         10.447840 105.141425 SA                                             14-07-2022       3673.413935   \n",
       "                              WS                                             03-04-2022       3350.425494   \n",
       "         10.455882 105.126628 WS                                             10-04-2022       3294.997261   \n",
       "         10.458071 105.162504 WS                                             03-04-2022       3167.711067   \n",
       "\n",
       "                                                                                                 swir_std  \\\n",
       "District Latitude  Longitude  Season(SA = Summer Autumn, WS = Winter Spring) Date of Harvest                \n",
       "Chau_Phu 10.445962 105.123164 WS                                             07-04-2022       1665.606455   \n",
       "         10.447840 105.141425 SA                                             14-07-2022       1694.433618   \n",
       "                              WS                                             03-04-2022       1916.764685   \n",
       "         10.455882 105.126628 WS                                             10-04-2022       1854.282382   \n",
       "         10.458071 105.162504 WS                                             03-04-2022       1972.669878   \n",
       "\n",
       "                                                                                                 swir_min  \\\n",
       "District Latitude  Longitude  Season(SA = Summer Autumn, WS = Winter Spring) Date of Harvest                \n",
       "Chau_Phu 10.445962 105.123164 WS                                             07-04-2022        376.104584   \n",
       "         10.447840 105.141425 SA                                             14-07-2022       1749.273315   \n",
       "                              WS                                             03-04-2022         15.114187   \n",
       "         10.455882 105.126628 WS                                             10-04-2022        573.214539   \n",
       "         10.458071 105.162504 WS                                             03-04-2022        233.767975   \n",
       "\n",
       "                                                                                                 swir_25%  \\\n",
       "District Latitude  Longitude  Season(SA = Summer Autumn, WS = Winter Spring) Date of Harvest                \n",
       "Chau_Phu 10.445962 105.123164 WS                                             07-04-2022       2252.296509   \n",
       "         10.447840 105.141425 SA                                             14-07-2022       2659.774231   \n",
       "                              WS                                             03-04-2022       2226.315796   \n",
       "         10.455882 105.126628 WS                                             10-04-2022       2258.987915   \n",
       "         10.458071 105.162504 WS                                             03-04-2022       2155.306458   \n",
       "\n",
       "                                                                                                 swir_50%  \\\n",
       "District Latitude  Longitude  Season(SA = Summer Autumn, WS = Winter Spring) Date of Harvest                \n",
       "Chau_Phu 10.445962 105.123164 WS                                             07-04-2022       2833.021240   \n",
       "         10.447840 105.141425 SA                                             14-07-2022       2851.572632   \n",
       "                              WS                                             03-04-2022       3184.835693   \n",
       "         10.455882 105.126628 WS                                             10-04-2022       2829.714478   \n",
       "         10.458071 105.162504 WS                                             03-04-2022       2790.387207   \n",
       "\n",
       "                                                                                                 swir_75%  \\\n",
       "District Latitude  Longitude  Season(SA = Summer Autumn, WS = Winter Spring) Date of Harvest                \n",
       "Chau_Phu 10.445962 105.123164 WS                                             07-04-2022       3857.703369   \n",
       "         10.447840 105.141425 SA                                             14-07-2022       4190.267456   \n",
       "                              WS                                             03-04-2022       5003.049438   \n",
       "         10.455882 105.126628 WS                                             10-04-2022       4440.691284   \n",
       "         10.458071 105.162504 WS                                             03-04-2022       3963.142944   \n",
       "\n",
       "                                                                                                 swir_max  \\\n",
       "District Latitude  Longitude  Season(SA = Summer Autumn, WS = Winter Spring) Date of Harvest                \n",
       "Chau_Phu 10.445962 105.123164 WS                                             07-04-2022       7925.820312   \n",
       "         10.447840 105.141425 SA                                             14-07-2022       8245.587891   \n",
       "                              WS                                             03-04-2022       7359.142090   \n",
       "         10.455882 105.126628 WS                                             10-04-2022       8655.439453   \n",
       "         10.458071 105.162504 WS                                             03-04-2022       7883.153809   \n",
       "\n",
       "                                                                                              Rice Crop Intensity(D=Double, T=Triple)_T  \n",
       "District Latitude  Longitude  Season(SA = Summer Autumn, WS = Winter Spring) Date of Harvest                                             \n",
       "Chau_Phu 10.445962 105.123164 WS                                             07-04-2022                                               0  \n",
       "         10.447840 105.141425 SA                                             14-07-2022                                               0  \n",
       "                              WS                                             03-04-2022                                               0  \n",
       "         10.455882 105.126628 WS                                             10-04-2022                                               0  \n",
       "         10.458071 105.162504 WS                                             03-04-2022                                               0  \n",
       "\n",
       "[5 rows x 130 columns]"
      ]
     },
     "execution_count": 12,
     "metadata": {},
     "output_type": "execute_result"
    }
   ],
   "source": [
    "# Convert categorical variable into dummy/indicator variables\n",
    "X = pd.get_dummies(X, drop_first=True)\n",
    "X.head()"
   ]
  },
  {
   "attachments": {},
   "cell_type": "markdown",
   "metadata": {},
   "source": [
    "## Split Data"
   ]
  },
  {
   "cell_type": "code",
   "execution_count": 13,
   "metadata": {},
   "outputs": [],
   "source": [
    "# Split dataset into Train/Test subdataset equitably distributed according to TARGET\n",
    "# Repeat the operation to create Train/Val/Test subdataset\n",
    "X_train, X_test, y_train, y_test = train_test_split(X, y, test_size=0.2, random_state=0)"
   ]
  },
  {
   "attachments": {},
   "cell_type": "markdown",
   "metadata": {},
   "source": [
    "## Scale Data"
   ]
  },
  {
   "attachments": {},
   "cell_type": "markdown",
   "metadata": {},
   "source": [
    "Because XGBoost is a decision tree based algorithm it not required normalization of their inputs."
   ]
  },
  {
   "cell_type": "code",
   "execution_count": 14,
   "metadata": {},
   "outputs": [],
   "source": [
    "# # Depend of the model used a data scaling is requered\n",
    "# scaler = StandardScaler()\n",
    "# X_train_scale = scaler.fit_transform(X_train)\n",
    "\n",
    "# # X_train = pd.DataFrame(scaler.transform(X_train), columns=X.columns)\n",
    "# # X_test = pd.DataFrame(scaler.transform(X_test), columns=X.columns)\n",
    "# X_test_scale = scaler.transform(X_test)\n",
    "\n",
    "# # Save scaler for a future use\n",
    "# scaler_filename = \"scaler.save\"\n",
    "# joblib.dump(scaler, scaler_filename) \n",
    "# # to load it\n",
    "# # scaler = joblib.load(scaler_filename) \n",
    "\n",
    "# X_train.head()"
   ]
  },
  {
   "attachments": {},
   "cell_type": "markdown",
   "metadata": {},
   "source": [
    "# Machine Learning Regression"
   ]
  },
  {
   "attachments": {},
   "cell_type": "markdown",
   "metadata": {},
   "source": [
    "## XGBoost"
   ]
  },
  {
   "cell_type": "markdown",
   "metadata": {},
   "source": [
    "### Train"
   ]
  },
  {
   "cell_type": "code",
   "execution_count": 15,
   "metadata": {},
   "outputs": [
    {
     "name": "stdout",
     "output_type": "stream",
     "text": [
      "Fitting 5 folds for each of 625 candidates, totalling 3125 fits\n"
     ]
    },
    {
     "data": {
      "text/html": [
       "<style>#sk-container-id-1 {color: black;background-color: white;}#sk-container-id-1 pre{padding: 0;}#sk-container-id-1 div.sk-toggleable {background-color: white;}#sk-container-id-1 label.sk-toggleable__label {cursor: pointer;display: block;width: 100%;margin-bottom: 0;padding: 0.3em;box-sizing: border-box;text-align: center;}#sk-container-id-1 label.sk-toggleable__label-arrow:before {content: \"▸\";float: left;margin-right: 0.25em;color: #696969;}#sk-container-id-1 label.sk-toggleable__label-arrow:hover:before {color: black;}#sk-container-id-1 div.sk-estimator:hover label.sk-toggleable__label-arrow:before {color: black;}#sk-container-id-1 div.sk-toggleable__content {max-height: 0;max-width: 0;overflow: hidden;text-align: left;background-color: #f0f8ff;}#sk-container-id-1 div.sk-toggleable__content pre {margin: 0.2em;color: black;border-radius: 0.25em;background-color: #f0f8ff;}#sk-container-id-1 input.sk-toggleable__control:checked~div.sk-toggleable__content {max-height: 200px;max-width: 100%;overflow: auto;}#sk-container-id-1 input.sk-toggleable__control:checked~label.sk-toggleable__label-arrow:before {content: \"▾\";}#sk-container-id-1 div.sk-estimator input.sk-toggleable__control:checked~label.sk-toggleable__label {background-color: #d4ebff;}#sk-container-id-1 div.sk-label input.sk-toggleable__control:checked~label.sk-toggleable__label {background-color: #d4ebff;}#sk-container-id-1 input.sk-hidden--visually {border: 0;clip: rect(1px 1px 1px 1px);clip: rect(1px, 1px, 1px, 1px);height: 1px;margin: -1px;overflow: hidden;padding: 0;position: absolute;width: 1px;}#sk-container-id-1 div.sk-estimator {font-family: monospace;background-color: #f0f8ff;border: 1px dotted black;border-radius: 0.25em;box-sizing: border-box;margin-bottom: 0.5em;}#sk-container-id-1 div.sk-estimator:hover {background-color: #d4ebff;}#sk-container-id-1 div.sk-parallel-item::after {content: \"\";width: 100%;border-bottom: 1px solid gray;flex-grow: 1;}#sk-container-id-1 div.sk-label:hover label.sk-toggleable__label {background-color: #d4ebff;}#sk-container-id-1 div.sk-serial::before {content: \"\";position: absolute;border-left: 1px solid gray;box-sizing: border-box;top: 0;bottom: 0;left: 50%;z-index: 0;}#sk-container-id-1 div.sk-serial {display: flex;flex-direction: column;align-items: center;background-color: white;padding-right: 0.2em;padding-left: 0.2em;position: relative;}#sk-container-id-1 div.sk-item {position: relative;z-index: 1;}#sk-container-id-1 div.sk-parallel {display: flex;align-items: stretch;justify-content: center;background-color: white;position: relative;}#sk-container-id-1 div.sk-item::before, #sk-container-id-1 div.sk-parallel-item::before {content: \"\";position: absolute;border-left: 1px solid gray;box-sizing: border-box;top: 0;bottom: 0;left: 50%;z-index: -1;}#sk-container-id-1 div.sk-parallel-item {display: flex;flex-direction: column;z-index: 1;position: relative;background-color: white;}#sk-container-id-1 div.sk-parallel-item:first-child::after {align-self: flex-end;width: 50%;}#sk-container-id-1 div.sk-parallel-item:last-child::after {align-self: flex-start;width: 50%;}#sk-container-id-1 div.sk-parallel-item:only-child::after {width: 0;}#sk-container-id-1 div.sk-dashed-wrapped {border: 1px dashed gray;margin: 0 0.4em 0.5em 0.4em;box-sizing: border-box;padding-bottom: 0.4em;background-color: white;}#sk-container-id-1 div.sk-label label {font-family: monospace;font-weight: bold;display: inline-block;line-height: 1.2em;}#sk-container-id-1 div.sk-label-container {text-align: center;}#sk-container-id-1 div.sk-container {/* jupyter's `normalize.less` sets `[hidden] { display: none; }` but bootstrap.min.css set `[hidden] { display: none !important; }` so we also need the `!important` here to be able to override the default hidden behavior on the sphinx rendered scikit-learn.org. See: https://github.com/scikit-learn/scikit-learn/issues/21755 */display: inline-block !important;position: relative;}#sk-container-id-1 div.sk-text-repr-fallback {display: none;}</style><div id=\"sk-container-id-1\" class=\"sk-top-container\"><div class=\"sk-text-repr-fallback\"><pre>GridSearchCV(estimator=XGBRegressor(base_score=None, booster=None,\n",
       "                                    callbacks=None, colsample_bylevel=None,\n",
       "                                    colsample_bynode=None,\n",
       "                                    colsample_bytree=None,\n",
       "                                    early_stopping_rounds=None,\n",
       "                                    enable_categorical=False, eval_metric=None,\n",
       "                                    gamma=None, gpu_id=None, grow_policy=None,\n",
       "                                    importance_type=None,\n",
       "                                    interaction_constraints=None,\n",
       "                                    learning_rate=None, max_bin=None,\n",
       "                                    max_cat_to_o...\n",
       "                                    monotone_constraints=None, n_estimators=100,\n",
       "                                    n_jobs=None, num_parallel_tree=None,\n",
       "                                    predictor=None, random_state=0,\n",
       "                                    reg_alpha=None, reg_lambda=None, ...),\n",
       "             n_jobs=-1,\n",
       "             param_grid={&#x27;colsample_bytree&#x27;: array([0.5  , 0.625, 0.75 , 0.875, 1.   ]),\n",
       "                         &#x27;learning_rate&#x27;: array([0.01  , 0.0825, 0.155 , 0.2275, 0.3   ]),\n",
       "                         &#x27;max_depth&#x27;: array([ 2,  4,  6,  8, 10]),\n",
       "                         &#x27;n_estimators&#x27;: array([ 100,  325,  550,  775, 1000])},\n",
       "             verbose=1)</pre><b>In a Jupyter environment, please rerun this cell to show the HTML representation or trust the notebook. <br />On GitHub, the HTML representation is unable to render, please try loading this page with nbviewer.org.</b></div><div class=\"sk-container\" hidden><div class=\"sk-item sk-dashed-wrapped\"><div class=\"sk-label-container\"><div class=\"sk-label sk-toggleable\"><input class=\"sk-toggleable__control sk-hidden--visually\" id=\"sk-estimator-id-1\" type=\"checkbox\" ><label for=\"sk-estimator-id-1\" class=\"sk-toggleable__label sk-toggleable__label-arrow\">GridSearchCV</label><div class=\"sk-toggleable__content\"><pre>GridSearchCV(estimator=XGBRegressor(base_score=None, booster=None,\n",
       "                                    callbacks=None, colsample_bylevel=None,\n",
       "                                    colsample_bynode=None,\n",
       "                                    colsample_bytree=None,\n",
       "                                    early_stopping_rounds=None,\n",
       "                                    enable_categorical=False, eval_metric=None,\n",
       "                                    gamma=None, gpu_id=None, grow_policy=None,\n",
       "                                    importance_type=None,\n",
       "                                    interaction_constraints=None,\n",
       "                                    learning_rate=None, max_bin=None,\n",
       "                                    max_cat_to_o...\n",
       "                                    monotone_constraints=None, n_estimators=100,\n",
       "                                    n_jobs=None, num_parallel_tree=None,\n",
       "                                    predictor=None, random_state=0,\n",
       "                                    reg_alpha=None, reg_lambda=None, ...),\n",
       "             n_jobs=-1,\n",
       "             param_grid={&#x27;colsample_bytree&#x27;: array([0.5  , 0.625, 0.75 , 0.875, 1.   ]),\n",
       "                         &#x27;learning_rate&#x27;: array([0.01  , 0.0825, 0.155 , 0.2275, 0.3   ]),\n",
       "                         &#x27;max_depth&#x27;: array([ 2,  4,  6,  8, 10]),\n",
       "                         &#x27;n_estimators&#x27;: array([ 100,  325,  550,  775, 1000])},\n",
       "             verbose=1)</pre></div></div></div><div class=\"sk-parallel\"><div class=\"sk-parallel-item\"><div class=\"sk-item\"><div class=\"sk-label-container\"><div class=\"sk-label sk-toggleable\"><input class=\"sk-toggleable__control sk-hidden--visually\" id=\"sk-estimator-id-2\" type=\"checkbox\" ><label for=\"sk-estimator-id-2\" class=\"sk-toggleable__label sk-toggleable__label-arrow\">estimator: XGBRegressor</label><div class=\"sk-toggleable__content\"><pre>XGBRegressor(base_score=None, booster=None, callbacks=None,\n",
       "             colsample_bylevel=None, colsample_bynode=None,\n",
       "             colsample_bytree=None, early_stopping_rounds=None,\n",
       "             enable_categorical=False, eval_metric=None, gamma=None,\n",
       "             gpu_id=None, grow_policy=None, importance_type=None,\n",
       "             interaction_constraints=None, learning_rate=None, max_bin=None,\n",
       "             max_cat_to_onehot=None, max_delta_step=None, max_depth=None,\n",
       "             max_leaves=None, min_child_weight=None, missing=nan,\n",
       "             monotone_constraints=None, n_estimators=100, n_jobs=None,\n",
       "             num_parallel_tree=None, predictor=None, random_state=0,\n",
       "             reg_alpha=None, reg_lambda=None, ...)</pre></div></div></div><div class=\"sk-serial\"><div class=\"sk-item\"><div class=\"sk-estimator sk-toggleable\"><input class=\"sk-toggleable__control sk-hidden--visually\" id=\"sk-estimator-id-3\" type=\"checkbox\" ><label for=\"sk-estimator-id-3\" class=\"sk-toggleable__label sk-toggleable__label-arrow\">XGBRegressor</label><div class=\"sk-toggleable__content\"><pre>XGBRegressor(base_score=None, booster=None, callbacks=None,\n",
       "             colsample_bylevel=None, colsample_bynode=None,\n",
       "             colsample_bytree=None, early_stopping_rounds=None,\n",
       "             enable_categorical=False, eval_metric=None, gamma=None,\n",
       "             gpu_id=None, grow_policy=None, importance_type=None,\n",
       "             interaction_constraints=None, learning_rate=None, max_bin=None,\n",
       "             max_cat_to_onehot=None, max_delta_step=None, max_depth=None,\n",
       "             max_leaves=None, min_child_weight=None, missing=nan,\n",
       "             monotone_constraints=None, n_estimators=100, n_jobs=None,\n",
       "             num_parallel_tree=None, predictor=None, random_state=0,\n",
       "             reg_alpha=None, reg_lambda=None, ...)</pre></div></div></div></div></div></div></div></div></div></div>"
      ],
      "text/plain": [
       "GridSearchCV(estimator=XGBRegressor(base_score=None, booster=None,\n",
       "                                    callbacks=None, colsample_bylevel=None,\n",
       "                                    colsample_bynode=None,\n",
       "                                    colsample_bytree=None,\n",
       "                                    early_stopping_rounds=None,\n",
       "                                    enable_categorical=False, eval_metric=None,\n",
       "                                    gamma=None, gpu_id=None, grow_policy=None,\n",
       "                                    importance_type=None,\n",
       "                                    interaction_constraints=None,\n",
       "                                    learning_rate=None, max_bin=None,\n",
       "                                    max_cat_to_o...\n",
       "                                    monotone_constraints=None, n_estimators=100,\n",
       "                                    n_jobs=None, num_parallel_tree=None,\n",
       "                                    predictor=None, random_state=0,\n",
       "                                    reg_alpha=None, reg_lambda=None, ...),\n",
       "             n_jobs=-1,\n",
       "             param_grid={'colsample_bytree': array([0.5  , 0.625, 0.75 , 0.875, 1.   ]),\n",
       "                         'learning_rate': array([0.01  , 0.0825, 0.155 , 0.2275, 0.3   ]),\n",
       "                         'max_depth': array([ 2,  4,  6,  8, 10]),\n",
       "                         'n_estimators': array([ 100,  325,  550,  775, 1000])},\n",
       "             verbose=1)"
      ]
     },
     "execution_count": 15,
     "metadata": {},
     "output_type": "execute_result"
    }
   ],
   "source": [
    "xgbr = XGBRegressor(random_state=0)\n",
    "\n",
    "param_grid = { \n",
    "    'max_depth' : np.linspace(2, 10, 5, dtype=int),\n",
    "    'n_estimators': np.linspace(100, 1000, 5, dtype=int),\n",
    "    'learning_rate': np.linspace(0.01, 0.3, 5, dtype=float),\n",
    "    'colsample_bytree': np.linspace(0.5, 1, 5, dtype=float),\n",
    "    # 'subsample': np.linspace(0.6, 1, 5, dtype=float),\n",
    "}\n",
    "\n",
    "# Perform a grid search\n",
    "cv_xgbr = GridSearchCV(xgbr, param_grid, n_jobs=-1, verbose=1)\n",
    "cv_xgbr.fit(X_train, y_train)"
   ]
  },
  {
   "cell_type": "code",
   "execution_count": 16,
   "metadata": {},
   "outputs": [
    {
     "data": {
      "text/plain": [
       "{'colsample_bytree': 0.625,\n",
       " 'learning_rate': 0.01,\n",
       " 'max_depth': 2,\n",
       " 'n_estimators': 550}"
      ]
     },
     "execution_count": 16,
     "metadata": {},
     "output_type": "execute_result"
    }
   ],
   "source": [
    "cv_xgbr.best_params_"
   ]
  },
  {
   "cell_type": "markdown",
   "metadata": {},
   "source": [
    "### Evaluate"
   ]
  },
  {
   "cell_type": "code",
   "execution_count": 17,
   "metadata": {},
   "outputs": [
    {
     "name": "stdout",
     "output_type": "stream",
     "text": [
      "RMSE: 483 | MAPE: 6.0% | R2 score: 0.690\n"
     ]
    }
   ],
   "source": [
    "y_pred = cv_xgbr.predict(X_test)\n",
    "\n",
    "rmse = mean_squared_error(y_test, y_pred, squared=False)\n",
    "mape = mean_absolute_percentage_error(y_test, y_pred)\n",
    "r2 = r2_score(y_test, y_pred)\n",
    "\n",
    "print(f'RMSE: {rmse:.0f} | MAPE: {100*mape:.1f}% | R2 score: {r2:.3f}')"
   ]
  },
  {
   "cell_type": "code",
   "execution_count": 18,
   "metadata": {},
   "outputs": [
    {
     "data": {
      "application/vnd.plotly.v1+json": {
       "config": {
        "plotlyServerURL": "https://plot.ly"
       },
       "data": [
        {
         "alignmentgroup": "True",
         "hovertemplate": "Feature=%{x}<br>Importance=%{y}<extra></extra>",
         "legendgroup": "",
         "marker": {
          "color": "#636efa",
          "pattern": {
           "shape": ""
          }
         },
         "name": "",
         "offsetgroup": "",
         "orientation": "v",
         "showlegend": false,
         "textposition": "auto",
         "type": "bar",
         "x": [
          "blue_min",
          "rededge1_min",
          "red_min",
          "green_min",
          "rededge2_min",
          "swir_min",
          "rededge2_25%",
          "blue_25%",
          "rededge3_mean",
          "mtvi1_min"
         ],
         "xaxis": "x",
         "y": [
          0.18245446681976318,
          0.13387145102024078,
          0.1094612330198288,
          0.10059015452861786,
          0.041773438453674316,
          0.026943624019622803,
          0.014821798540651798,
          0.01451200246810913,
          0.010666481219232082,
          0.00888016540557146
         ],
         "yaxis": "y"
        }
       ],
       "layout": {
        "barmode": "relative",
        "legend": {
         "tracegroupgap": 0
        },
        "template": {
         "data": {
          "bar": [
           {
            "error_x": {
             "color": "#2a3f5f"
            },
            "error_y": {
             "color": "#2a3f5f"
            },
            "marker": {
             "line": {
              "color": "#E5ECF6",
              "width": 0.5
             },
             "pattern": {
              "fillmode": "overlay",
              "size": 10,
              "solidity": 0.2
             }
            },
            "type": "bar"
           }
          ],
          "barpolar": [
           {
            "marker": {
             "line": {
              "color": "#E5ECF6",
              "width": 0.5
             },
             "pattern": {
              "fillmode": "overlay",
              "size": 10,
              "solidity": 0.2
             }
            },
            "type": "barpolar"
           }
          ],
          "carpet": [
           {
            "aaxis": {
             "endlinecolor": "#2a3f5f",
             "gridcolor": "white",
             "linecolor": "white",
             "minorgridcolor": "white",
             "startlinecolor": "#2a3f5f"
            },
            "baxis": {
             "endlinecolor": "#2a3f5f",
             "gridcolor": "white",
             "linecolor": "white",
             "minorgridcolor": "white",
             "startlinecolor": "#2a3f5f"
            },
            "type": "carpet"
           }
          ],
          "choropleth": [
           {
            "colorbar": {
             "outlinewidth": 0,
             "ticks": ""
            },
            "type": "choropleth"
           }
          ],
          "contour": [
           {
            "colorbar": {
             "outlinewidth": 0,
             "ticks": ""
            },
            "colorscale": [
             [
              0,
              "#0d0887"
             ],
             [
              0.1111111111111111,
              "#46039f"
             ],
             [
              0.2222222222222222,
              "#7201a8"
             ],
             [
              0.3333333333333333,
              "#9c179e"
             ],
             [
              0.4444444444444444,
              "#bd3786"
             ],
             [
              0.5555555555555556,
              "#d8576b"
             ],
             [
              0.6666666666666666,
              "#ed7953"
             ],
             [
              0.7777777777777778,
              "#fb9f3a"
             ],
             [
              0.8888888888888888,
              "#fdca26"
             ],
             [
              1,
              "#f0f921"
             ]
            ],
            "type": "contour"
           }
          ],
          "contourcarpet": [
           {
            "colorbar": {
             "outlinewidth": 0,
             "ticks": ""
            },
            "type": "contourcarpet"
           }
          ],
          "heatmap": [
           {
            "colorbar": {
             "outlinewidth": 0,
             "ticks": ""
            },
            "colorscale": [
             [
              0,
              "#0d0887"
             ],
             [
              0.1111111111111111,
              "#46039f"
             ],
             [
              0.2222222222222222,
              "#7201a8"
             ],
             [
              0.3333333333333333,
              "#9c179e"
             ],
             [
              0.4444444444444444,
              "#bd3786"
             ],
             [
              0.5555555555555556,
              "#d8576b"
             ],
             [
              0.6666666666666666,
              "#ed7953"
             ],
             [
              0.7777777777777778,
              "#fb9f3a"
             ],
             [
              0.8888888888888888,
              "#fdca26"
             ],
             [
              1,
              "#f0f921"
             ]
            ],
            "type": "heatmap"
           }
          ],
          "heatmapgl": [
           {
            "colorbar": {
             "outlinewidth": 0,
             "ticks": ""
            },
            "colorscale": [
             [
              0,
              "#0d0887"
             ],
             [
              0.1111111111111111,
              "#46039f"
             ],
             [
              0.2222222222222222,
              "#7201a8"
             ],
             [
              0.3333333333333333,
              "#9c179e"
             ],
             [
              0.4444444444444444,
              "#bd3786"
             ],
             [
              0.5555555555555556,
              "#d8576b"
             ],
             [
              0.6666666666666666,
              "#ed7953"
             ],
             [
              0.7777777777777778,
              "#fb9f3a"
             ],
             [
              0.8888888888888888,
              "#fdca26"
             ],
             [
              1,
              "#f0f921"
             ]
            ],
            "type": "heatmapgl"
           }
          ],
          "histogram": [
           {
            "marker": {
             "pattern": {
              "fillmode": "overlay",
              "size": 10,
              "solidity": 0.2
             }
            },
            "type": "histogram"
           }
          ],
          "histogram2d": [
           {
            "colorbar": {
             "outlinewidth": 0,
             "ticks": ""
            },
            "colorscale": [
             [
              0,
              "#0d0887"
             ],
             [
              0.1111111111111111,
              "#46039f"
             ],
             [
              0.2222222222222222,
              "#7201a8"
             ],
             [
              0.3333333333333333,
              "#9c179e"
             ],
             [
              0.4444444444444444,
              "#bd3786"
             ],
             [
              0.5555555555555556,
              "#d8576b"
             ],
             [
              0.6666666666666666,
              "#ed7953"
             ],
             [
              0.7777777777777778,
              "#fb9f3a"
             ],
             [
              0.8888888888888888,
              "#fdca26"
             ],
             [
              1,
              "#f0f921"
             ]
            ],
            "type": "histogram2d"
           }
          ],
          "histogram2dcontour": [
           {
            "colorbar": {
             "outlinewidth": 0,
             "ticks": ""
            },
            "colorscale": [
             [
              0,
              "#0d0887"
             ],
             [
              0.1111111111111111,
              "#46039f"
             ],
             [
              0.2222222222222222,
              "#7201a8"
             ],
             [
              0.3333333333333333,
              "#9c179e"
             ],
             [
              0.4444444444444444,
              "#bd3786"
             ],
             [
              0.5555555555555556,
              "#d8576b"
             ],
             [
              0.6666666666666666,
              "#ed7953"
             ],
             [
              0.7777777777777778,
              "#fb9f3a"
             ],
             [
              0.8888888888888888,
              "#fdca26"
             ],
             [
              1,
              "#f0f921"
             ]
            ],
            "type": "histogram2dcontour"
           }
          ],
          "mesh3d": [
           {
            "colorbar": {
             "outlinewidth": 0,
             "ticks": ""
            },
            "type": "mesh3d"
           }
          ],
          "parcoords": [
           {
            "line": {
             "colorbar": {
              "outlinewidth": 0,
              "ticks": ""
             }
            },
            "type": "parcoords"
           }
          ],
          "pie": [
           {
            "automargin": true,
            "type": "pie"
           }
          ],
          "scatter": [
           {
            "fillpattern": {
             "fillmode": "overlay",
             "size": 10,
             "solidity": 0.2
            },
            "type": "scatter"
           }
          ],
          "scatter3d": [
           {
            "line": {
             "colorbar": {
              "outlinewidth": 0,
              "ticks": ""
             }
            },
            "marker": {
             "colorbar": {
              "outlinewidth": 0,
              "ticks": ""
             }
            },
            "type": "scatter3d"
           }
          ],
          "scattercarpet": [
           {
            "marker": {
             "colorbar": {
              "outlinewidth": 0,
              "ticks": ""
             }
            },
            "type": "scattercarpet"
           }
          ],
          "scattergeo": [
           {
            "marker": {
             "colorbar": {
              "outlinewidth": 0,
              "ticks": ""
             }
            },
            "type": "scattergeo"
           }
          ],
          "scattergl": [
           {
            "marker": {
             "colorbar": {
              "outlinewidth": 0,
              "ticks": ""
             }
            },
            "type": "scattergl"
           }
          ],
          "scattermapbox": [
           {
            "marker": {
             "colorbar": {
              "outlinewidth": 0,
              "ticks": ""
             }
            },
            "type": "scattermapbox"
           }
          ],
          "scatterpolar": [
           {
            "marker": {
             "colorbar": {
              "outlinewidth": 0,
              "ticks": ""
             }
            },
            "type": "scatterpolar"
           }
          ],
          "scatterpolargl": [
           {
            "marker": {
             "colorbar": {
              "outlinewidth": 0,
              "ticks": ""
             }
            },
            "type": "scatterpolargl"
           }
          ],
          "scatterternary": [
           {
            "marker": {
             "colorbar": {
              "outlinewidth": 0,
              "ticks": ""
             }
            },
            "type": "scatterternary"
           }
          ],
          "surface": [
           {
            "colorbar": {
             "outlinewidth": 0,
             "ticks": ""
            },
            "colorscale": [
             [
              0,
              "#0d0887"
             ],
             [
              0.1111111111111111,
              "#46039f"
             ],
             [
              0.2222222222222222,
              "#7201a8"
             ],
             [
              0.3333333333333333,
              "#9c179e"
             ],
             [
              0.4444444444444444,
              "#bd3786"
             ],
             [
              0.5555555555555556,
              "#d8576b"
             ],
             [
              0.6666666666666666,
              "#ed7953"
             ],
             [
              0.7777777777777778,
              "#fb9f3a"
             ],
             [
              0.8888888888888888,
              "#fdca26"
             ],
             [
              1,
              "#f0f921"
             ]
            ],
            "type": "surface"
           }
          ],
          "table": [
           {
            "cells": {
             "fill": {
              "color": "#EBF0F8"
             },
             "line": {
              "color": "white"
             }
            },
            "header": {
             "fill": {
              "color": "#C8D4E3"
             },
             "line": {
              "color": "white"
             }
            },
            "type": "table"
           }
          ]
         },
         "layout": {
          "annotationdefaults": {
           "arrowcolor": "#2a3f5f",
           "arrowhead": 0,
           "arrowwidth": 1
          },
          "autotypenumbers": "strict",
          "coloraxis": {
           "colorbar": {
            "outlinewidth": 0,
            "ticks": ""
           }
          },
          "colorscale": {
           "diverging": [
            [
             0,
             "#8e0152"
            ],
            [
             0.1,
             "#c51b7d"
            ],
            [
             0.2,
             "#de77ae"
            ],
            [
             0.3,
             "#f1b6da"
            ],
            [
             0.4,
             "#fde0ef"
            ],
            [
             0.5,
             "#f7f7f7"
            ],
            [
             0.6,
             "#e6f5d0"
            ],
            [
             0.7,
             "#b8e186"
            ],
            [
             0.8,
             "#7fbc41"
            ],
            [
             0.9,
             "#4d9221"
            ],
            [
             1,
             "#276419"
            ]
           ],
           "sequential": [
            [
             0,
             "#0d0887"
            ],
            [
             0.1111111111111111,
             "#46039f"
            ],
            [
             0.2222222222222222,
             "#7201a8"
            ],
            [
             0.3333333333333333,
             "#9c179e"
            ],
            [
             0.4444444444444444,
             "#bd3786"
            ],
            [
             0.5555555555555556,
             "#d8576b"
            ],
            [
             0.6666666666666666,
             "#ed7953"
            ],
            [
             0.7777777777777778,
             "#fb9f3a"
            ],
            [
             0.8888888888888888,
             "#fdca26"
            ],
            [
             1,
             "#f0f921"
            ]
           ],
           "sequentialminus": [
            [
             0,
             "#0d0887"
            ],
            [
             0.1111111111111111,
             "#46039f"
            ],
            [
             0.2222222222222222,
             "#7201a8"
            ],
            [
             0.3333333333333333,
             "#9c179e"
            ],
            [
             0.4444444444444444,
             "#bd3786"
            ],
            [
             0.5555555555555556,
             "#d8576b"
            ],
            [
             0.6666666666666666,
             "#ed7953"
            ],
            [
             0.7777777777777778,
             "#fb9f3a"
            ],
            [
             0.8888888888888888,
             "#fdca26"
            ],
            [
             1,
             "#f0f921"
            ]
           ]
          },
          "colorway": [
           "#636efa",
           "#EF553B",
           "#00cc96",
           "#ab63fa",
           "#FFA15A",
           "#19d3f3",
           "#FF6692",
           "#B6E880",
           "#FF97FF",
           "#FECB52"
          ],
          "font": {
           "color": "#2a3f5f"
          },
          "geo": {
           "bgcolor": "white",
           "lakecolor": "white",
           "landcolor": "#E5ECF6",
           "showlakes": true,
           "showland": true,
           "subunitcolor": "white"
          },
          "hoverlabel": {
           "align": "left"
          },
          "hovermode": "closest",
          "mapbox": {
           "style": "light"
          },
          "paper_bgcolor": "white",
          "plot_bgcolor": "#E5ECF6",
          "polar": {
           "angularaxis": {
            "gridcolor": "white",
            "linecolor": "white",
            "ticks": ""
           },
           "bgcolor": "#E5ECF6",
           "radialaxis": {
            "gridcolor": "white",
            "linecolor": "white",
            "ticks": ""
           }
          },
          "scene": {
           "xaxis": {
            "backgroundcolor": "#E5ECF6",
            "gridcolor": "white",
            "gridwidth": 2,
            "linecolor": "white",
            "showbackground": true,
            "ticks": "",
            "zerolinecolor": "white"
           },
           "yaxis": {
            "backgroundcolor": "#E5ECF6",
            "gridcolor": "white",
            "gridwidth": 2,
            "linecolor": "white",
            "showbackground": true,
            "ticks": "",
            "zerolinecolor": "white"
           },
           "zaxis": {
            "backgroundcolor": "#E5ECF6",
            "gridcolor": "white",
            "gridwidth": 2,
            "linecolor": "white",
            "showbackground": true,
            "ticks": "",
            "zerolinecolor": "white"
           }
          },
          "shapedefaults": {
           "line": {
            "color": "#2a3f5f"
           }
          },
          "ternary": {
           "aaxis": {
            "gridcolor": "white",
            "linecolor": "white",
            "ticks": ""
           },
           "baxis": {
            "gridcolor": "white",
            "linecolor": "white",
            "ticks": ""
           },
           "bgcolor": "#E5ECF6",
           "caxis": {
            "gridcolor": "white",
            "linecolor": "white",
            "ticks": ""
           }
          },
          "title": {
           "x": 0.05
          },
          "xaxis": {
           "automargin": true,
           "gridcolor": "white",
           "linecolor": "white",
           "ticks": "",
           "title": {
            "standoff": 15
           },
           "zerolinecolor": "white",
           "zerolinewidth": 2
          },
          "yaxis": {
           "automargin": true,
           "gridcolor": "white",
           "linecolor": "white",
           "ticks": "",
           "title": {
            "standoff": 15
           },
           "zerolinecolor": "white",
           "zerolinewidth": 2
          }
         }
        },
        "title": {
         "text": "Feature importance"
        },
        "xaxis": {
         "anchor": "y",
         "domain": [
          0,
          1
         ],
         "title": {
          "text": "Feature"
         }
        },
        "yaxis": {
         "anchor": "x",
         "domain": [
          0,
          1
         ],
         "title": {
          "text": "Importance"
         }
        }
       }
      }
     },
     "metadata": {},
     "output_type": "display_data"
    }
   ],
   "source": [
    "# Plot features importance\n",
    "df_fi = pd.DataFrame(columns=['Feature', 'Importance'])\n",
    "df_fi['Feature'] = X.columns\n",
    "df_fi['Importance'] = cv_xgbr.best_estimator_.feature_importances_\n",
    "df_fi.sort_values('Importance', inplace=True, ascending=False)\n",
    "\n",
    "fig = px.bar(df_fi.head(10), x='Feature', y='Importance', title=\"Feature importance\")\n",
    "fig.show()"
   ]
  },
  {
   "attachments": {},
   "cell_type": "markdown",
   "metadata": {},
   "source": [
    "# Save the model"
   ]
  },
  {
   "cell_type": "code",
   "execution_count": 19,
   "metadata": {},
   "outputs": [
    {
     "data": {
      "text/plain": [
       "['../model/fixed_0-00146/cv_xgboost.save']"
      ]
     },
     "execution_count": 19,
     "metadata": {},
     "output_type": "execute_result"
    }
   ],
   "source": [
    "model_filename = \"../model/fixed_0-00146/cv_xgboost.save\"\n",
    "joblib.dump(cv_xgbr, model_filename)"
   ]
  },
  {
   "attachments": {},
   "cell_type": "markdown",
   "metadata": {},
   "source": [
    "# Train Final Model"
   ]
  },
  {
   "cell_type": "code",
   "execution_count": 21,
   "metadata": {},
   "outputs": [
    {
     "data": {
      "text/html": [
       "<style>#sk-container-id-2 {color: black;background-color: white;}#sk-container-id-2 pre{padding: 0;}#sk-container-id-2 div.sk-toggleable {background-color: white;}#sk-container-id-2 label.sk-toggleable__label {cursor: pointer;display: block;width: 100%;margin-bottom: 0;padding: 0.3em;box-sizing: border-box;text-align: center;}#sk-container-id-2 label.sk-toggleable__label-arrow:before {content: \"▸\";float: left;margin-right: 0.25em;color: #696969;}#sk-container-id-2 label.sk-toggleable__label-arrow:hover:before {color: black;}#sk-container-id-2 div.sk-estimator:hover label.sk-toggleable__label-arrow:before {color: black;}#sk-container-id-2 div.sk-toggleable__content {max-height: 0;max-width: 0;overflow: hidden;text-align: left;background-color: #f0f8ff;}#sk-container-id-2 div.sk-toggleable__content pre {margin: 0.2em;color: black;border-radius: 0.25em;background-color: #f0f8ff;}#sk-container-id-2 input.sk-toggleable__control:checked~div.sk-toggleable__content {max-height: 200px;max-width: 100%;overflow: auto;}#sk-container-id-2 input.sk-toggleable__control:checked~label.sk-toggleable__label-arrow:before {content: \"▾\";}#sk-container-id-2 div.sk-estimator input.sk-toggleable__control:checked~label.sk-toggleable__label {background-color: #d4ebff;}#sk-container-id-2 div.sk-label input.sk-toggleable__control:checked~label.sk-toggleable__label {background-color: #d4ebff;}#sk-container-id-2 input.sk-hidden--visually {border: 0;clip: rect(1px 1px 1px 1px);clip: rect(1px, 1px, 1px, 1px);height: 1px;margin: -1px;overflow: hidden;padding: 0;position: absolute;width: 1px;}#sk-container-id-2 div.sk-estimator {font-family: monospace;background-color: #f0f8ff;border: 1px dotted black;border-radius: 0.25em;box-sizing: border-box;margin-bottom: 0.5em;}#sk-container-id-2 div.sk-estimator:hover {background-color: #d4ebff;}#sk-container-id-2 div.sk-parallel-item::after {content: \"\";width: 100%;border-bottom: 1px solid gray;flex-grow: 1;}#sk-container-id-2 div.sk-label:hover label.sk-toggleable__label {background-color: #d4ebff;}#sk-container-id-2 div.sk-serial::before {content: \"\";position: absolute;border-left: 1px solid gray;box-sizing: border-box;top: 0;bottom: 0;left: 50%;z-index: 0;}#sk-container-id-2 div.sk-serial {display: flex;flex-direction: column;align-items: center;background-color: white;padding-right: 0.2em;padding-left: 0.2em;position: relative;}#sk-container-id-2 div.sk-item {position: relative;z-index: 1;}#sk-container-id-2 div.sk-parallel {display: flex;align-items: stretch;justify-content: center;background-color: white;position: relative;}#sk-container-id-2 div.sk-item::before, #sk-container-id-2 div.sk-parallel-item::before {content: \"\";position: absolute;border-left: 1px solid gray;box-sizing: border-box;top: 0;bottom: 0;left: 50%;z-index: -1;}#sk-container-id-2 div.sk-parallel-item {display: flex;flex-direction: column;z-index: 1;position: relative;background-color: white;}#sk-container-id-2 div.sk-parallel-item:first-child::after {align-self: flex-end;width: 50%;}#sk-container-id-2 div.sk-parallel-item:last-child::after {align-self: flex-start;width: 50%;}#sk-container-id-2 div.sk-parallel-item:only-child::after {width: 0;}#sk-container-id-2 div.sk-dashed-wrapped {border: 1px dashed gray;margin: 0 0.4em 0.5em 0.4em;box-sizing: border-box;padding-bottom: 0.4em;background-color: white;}#sk-container-id-2 div.sk-label label {font-family: monospace;font-weight: bold;display: inline-block;line-height: 1.2em;}#sk-container-id-2 div.sk-label-container {text-align: center;}#sk-container-id-2 div.sk-container {/* jupyter's `normalize.less` sets `[hidden] { display: none; }` but bootstrap.min.css set `[hidden] { display: none !important; }` so we also need the `!important` here to be able to override the default hidden behavior on the sphinx rendered scikit-learn.org. See: https://github.com/scikit-learn/scikit-learn/issues/21755 */display: inline-block !important;position: relative;}#sk-container-id-2 div.sk-text-repr-fallback {display: none;}</style><div id=\"sk-container-id-2\" class=\"sk-top-container\"><div class=\"sk-text-repr-fallback\"><pre>XGBRegressor(base_score=0.5, booster=&#x27;gbtree&#x27;, callbacks=None,\n",
       "             colsample_bylevel=1, colsample_bynode=1, colsample_bytree=0.625,\n",
       "             early_stopping_rounds=None, enable_categorical=False,\n",
       "             eval_metric=None, gamma=0, gpu_id=-1, grow_policy=&#x27;depthwise&#x27;,\n",
       "             importance_type=None, interaction_constraints=&#x27;&#x27;,\n",
       "             learning_rate=0.01, max_bin=256, max_cat_to_onehot=4,\n",
       "             max_delta_step=0, max_depth=2, max_leaves=0, min_child_weight=1,\n",
       "             missing=nan, monotone_constraints=&#x27;()&#x27;, n_estimators=550, n_jobs=0,\n",
       "             num_parallel_tree=1, predictor=&#x27;auto&#x27;, random_state=0, reg_alpha=0,\n",
       "             reg_lambda=1, ...)</pre><b>In a Jupyter environment, please rerun this cell to show the HTML representation or trust the notebook. <br />On GitHub, the HTML representation is unable to render, please try loading this page with nbviewer.org.</b></div><div class=\"sk-container\" hidden><div class=\"sk-item\"><div class=\"sk-estimator sk-toggleable\"><input class=\"sk-toggleable__control sk-hidden--visually\" id=\"sk-estimator-id-4\" type=\"checkbox\" checked><label for=\"sk-estimator-id-4\" class=\"sk-toggleable__label sk-toggleable__label-arrow\">XGBRegressor</label><div class=\"sk-toggleable__content\"><pre>XGBRegressor(base_score=0.5, booster=&#x27;gbtree&#x27;, callbacks=None,\n",
       "             colsample_bylevel=1, colsample_bynode=1, colsample_bytree=0.625,\n",
       "             early_stopping_rounds=None, enable_categorical=False,\n",
       "             eval_metric=None, gamma=0, gpu_id=-1, grow_policy=&#x27;depthwise&#x27;,\n",
       "             importance_type=None, interaction_constraints=&#x27;&#x27;,\n",
       "             learning_rate=0.01, max_bin=256, max_cat_to_onehot=4,\n",
       "             max_delta_step=0, max_depth=2, max_leaves=0, min_child_weight=1,\n",
       "             missing=nan, monotone_constraints=&#x27;()&#x27;, n_estimators=550, n_jobs=0,\n",
       "             num_parallel_tree=1, predictor=&#x27;auto&#x27;, random_state=0, reg_alpha=0,\n",
       "             reg_lambda=1, ...)</pre></div></div></div></div></div>"
      ],
      "text/plain": [
       "XGBRegressor(base_score=0.5, booster='gbtree', callbacks=None,\n",
       "             colsample_bylevel=1, colsample_bynode=1, colsample_bytree=0.625,\n",
       "             early_stopping_rounds=None, enable_categorical=False,\n",
       "             eval_metric=None, gamma=0, gpu_id=-1, grow_policy='depthwise',\n",
       "             importance_type=None, interaction_constraints='',\n",
       "             learning_rate=0.01, max_bin=256, max_cat_to_onehot=4,\n",
       "             max_delta_step=0, max_depth=2, max_leaves=0, min_child_weight=1,\n",
       "             missing=nan, monotone_constraints='()', n_estimators=550, n_jobs=0,\n",
       "             num_parallel_tree=1, predictor='auto', random_state=0, reg_alpha=0,\n",
       "             reg_lambda=1, ...)"
      ]
     },
     "execution_count": 21,
     "metadata": {},
     "output_type": "execute_result"
    }
   ],
   "source": [
    "param = copy.deepcopy(cv_xgbr.best_params_)\n",
    "param[\"random_state\"] = 0\n",
    "\n",
    "xgbr = XGBRegressor(**param)\n",
    "\n",
    "xgbr.fit(X, y)"
   ]
  },
  {
   "cell_type": "code",
   "execution_count": 22,
   "metadata": {},
   "outputs": [
    {
     "data": {
      "text/plain": [
       "['../model/fixed_0-00146/xgboost.save']"
      ]
     },
     "execution_count": 22,
     "metadata": {},
     "output_type": "execute_result"
    }
   ],
   "source": [
    "model_filename = \"../model/fixed_0-00146/xgboost.save\"\n",
    "joblib.dump(xgbr, model_filename)"
   ]
  },
  {
   "attachments": {},
   "cell_type": "markdown",
   "metadata": {},
   "source": [
    "# Test file"
   ]
  },
  {
   "cell_type": "code",
   "execution_count": 23,
   "metadata": {},
   "outputs": [
    {
     "name": "stdout",
     "output_type": "stream",
     "text": [
      "<class 'pandas.core.frame.DataFrame'>\n",
      "RangeIndex: 2400 entries, 0 to 2399\n",
      "Data columns (total 18 columns):\n",
      " #   Column                                          Non-Null Count  Dtype  \n",
      "---  ------                                          --------------  -----  \n",
      " 0   ID No                                           2400 non-null   int64  \n",
      " 1   District                                        2400 non-null   object \n",
      " 2   Latitude                                        2400 non-null   float64\n",
      " 3   Longitude                                       2400 non-null   float64\n",
      " 4   Season(SA = Summer Autumn, WS = Winter Spring)  2400 non-null   object \n",
      " 5   Rice Crop Intensity(D=Double, T=Triple)         2400 non-null   object \n",
      " 6   Date of Harvest                                 2400 non-null   object \n",
      " 7   Field size (ha)                                 2400 non-null   float64\n",
      " 8   Predicted Rice Yield (kg/ha)                    0 non-null      float64\n",
      " 9   date                                            2400 non-null   object \n",
      " 10  ndvi                                            2400 non-null   float64\n",
      " 11  savi                                            2400 non-null   float64\n",
      " 12  evi                                             2400 non-null   float64\n",
      " 13  rep                                             2400 non-null   float64\n",
      " 14  osavi                                           2400 non-null   float64\n",
      " 15  rdvi                                            2400 non-null   float64\n",
      " 16  mtvi1                                           2400 non-null   float64\n",
      " 17  lswi                                            2400 non-null   float64\n",
      "dtypes: float64(12), int64(1), object(5)\n",
      "memory usage: 337.6+ KB\n"
     ]
    }
   ],
   "source": [
    "df_vi = pd.read_csv(\"../../data/processed/fixed_0-00146/test_vi.csv\")\n",
    "\n",
    "df_vi.info()"
   ]
  },
  {
   "cell_type": "code",
   "execution_count": 24,
   "metadata": {},
   "outputs": [
    {
     "name": "stdout",
     "output_type": "stream",
     "text": [
      "<class 'pandas.core.frame.DataFrame'>\n",
      "RangeIndex: 2400 entries, 0 to 2399\n",
      "Data columns (total 18 columns):\n",
      " #   Column                                          Non-Null Count  Dtype  \n",
      "---  ------                                          --------------  -----  \n",
      " 0   ID No                                           2400 non-null   int64  \n",
      " 1   District                                        2400 non-null   object \n",
      " 2   Latitude                                        2400 non-null   float64\n",
      " 3   Longitude                                       2400 non-null   float64\n",
      " 4   Season(SA = Summer Autumn, WS = Winter Spring)  2400 non-null   object \n",
      " 5   Rice Crop Intensity(D=Double, T=Triple)         2400 non-null   object \n",
      " 6   Date of Harvest                                 2400 non-null   object \n",
      " 7   Field size (ha)                                 2400 non-null   float64\n",
      " 8   Predicted Rice Yield (kg/ha)                    0 non-null      float64\n",
      " 9   date                                            2400 non-null   object \n",
      " 10  red                                             2400 non-null   float64\n",
      " 11  green                                           2400 non-null   float64\n",
      " 12  blue                                            2400 non-null   float64\n",
      " 13  rededge1                                        2400 non-null   float64\n",
      " 14  rededge2                                        2400 non-null   float64\n",
      " 15  rededge3                                        2400 non-null   float64\n",
      " 16  nir                                             2400 non-null   float64\n",
      " 17  swir                                            2400 non-null   float64\n",
      "dtypes: float64(12), int64(1), object(5)\n",
      "memory usage: 337.6+ KB\n"
     ]
    }
   ],
   "source": [
    "df_sat = pd.read_csv(\"../../data/processed/fixed_0-00146/test.csv\")\n",
    "\n",
    "df_sat.info()"
   ]
  },
  {
   "cell_type": "code",
   "execution_count": 25,
   "metadata": {},
   "outputs": [
    {
     "name": "stdout",
     "output_type": "stream",
     "text": [
      "<class 'pandas.core.frame.DataFrame'>\n",
      "Int64Index: 2400 entries, 0 to 2399\n",
      "Data columns (total 26 columns):\n",
      " #   Column                                          Non-Null Count  Dtype  \n",
      "---  ------                                          --------------  -----  \n",
      " 0   ID No                                           2400 non-null   int64  \n",
      " 1   District                                        2400 non-null   object \n",
      " 2   Latitude                                        2400 non-null   float64\n",
      " 3   Longitude                                       2400 non-null   float64\n",
      " 4   Season(SA = Summer Autumn, WS = Winter Spring)  2400 non-null   object \n",
      " 5   Rice Crop Intensity(D=Double, T=Triple)         2400 non-null   object \n",
      " 6   Date of Harvest                                 2400 non-null   object \n",
      " 7   Field size (ha)                                 2400 non-null   float64\n",
      " 8   Predicted Rice Yield (kg/ha)                    0 non-null      float64\n",
      " 9   date                                            2400 non-null   object \n",
      " 10  ndvi                                            2400 non-null   float64\n",
      " 11  savi                                            2400 non-null   float64\n",
      " 12  evi                                             2400 non-null   float64\n",
      " 13  rep                                             2400 non-null   float64\n",
      " 14  osavi                                           2400 non-null   float64\n",
      " 15  rdvi                                            2400 non-null   float64\n",
      " 16  mtvi1                                           2400 non-null   float64\n",
      " 17  lswi                                            2400 non-null   float64\n",
      " 18  red                                             2400 non-null   float64\n",
      " 19  green                                           2400 non-null   float64\n",
      " 20  blue                                            2400 non-null   float64\n",
      " 21  rededge1                                        2400 non-null   float64\n",
      " 22  rededge2                                        2400 non-null   float64\n",
      " 23  rededge3                                        2400 non-null   float64\n",
      " 24  nir                                             2400 non-null   float64\n",
      " 25  swir                                            2400 non-null   float64\n",
      "dtypes: float64(20), int64(1), object(5)\n",
      "memory usage: 506.2+ KB\n"
     ]
    }
   ],
   "source": [
    "df = pd.merge(df_vi, df_sat, on=['District', 'Latitude', 'Longitude',\n",
    "       'Season(SA = Summer Autumn, WS = Winter Spring)',\n",
    "       'Rice Crop Intensity(D=Double, T=Triple)', 'Date of Harvest',\n",
    "       'Field size (ha)', 'Predicted Rice Yield (kg/ha)', 'date', 'ID No'])\n",
    "\n",
    "df.info()"
   ]
  },
  {
   "cell_type": "code",
   "execution_count": 26,
   "metadata": {},
   "outputs": [
    {
     "data": {
      "text/html": [
       "<div>\n",
       "<style scoped>\n",
       "    .dataframe tbody tr th:only-of-type {\n",
       "        vertical-align: middle;\n",
       "    }\n",
       "\n",
       "    .dataframe tbody tr th {\n",
       "        vertical-align: top;\n",
       "    }\n",
       "\n",
       "    .dataframe thead th {\n",
       "        text-align: right;\n",
       "    }\n",
       "</style>\n",
       "<table border=\"1\" class=\"dataframe\">\n",
       "  <thead>\n",
       "    <tr style=\"text-align: right;\">\n",
       "      <th></th>\n",
       "      <th>ID No</th>\n",
       "      <th>District</th>\n",
       "      <th>Latitude</th>\n",
       "      <th>Longitude</th>\n",
       "      <th>Season(SA = Summer Autumn, WS = Winter Spring)</th>\n",
       "      <th>Rice Crop Intensity(D=Double, T=Triple)</th>\n",
       "      <th>Date of Harvest</th>\n",
       "      <th>Field size (ha)</th>\n",
       "      <th>Predicted Rice Yield (kg/ha)</th>\n",
       "      <th>date</th>\n",
       "      <th>...</th>\n",
       "      <th>mtvi1</th>\n",
       "      <th>lswi</th>\n",
       "      <th>red</th>\n",
       "      <th>green</th>\n",
       "      <th>blue</th>\n",
       "      <th>rededge1</th>\n",
       "      <th>rededge2</th>\n",
       "      <th>rededge3</th>\n",
       "      <th>nir</th>\n",
       "      <th>swir</th>\n",
       "    </tr>\n",
       "  </thead>\n",
       "  <tbody>\n",
       "    <tr>\n",
       "      <th>0</th>\n",
       "      <td>1</td>\n",
       "      <td>Chau_Phu</td>\n",
       "      <td>10.542192</td>\n",
       "      <td>105.18792</td>\n",
       "      <td>WS</td>\n",
       "      <td>T</td>\n",
       "      <td>10-04-2022</td>\n",
       "      <td>1.4</td>\n",
       "      <td>NaN</td>\n",
       "      <td>10-04-2022</td>\n",
       "      <td>...</td>\n",
       "      <td>648.663369</td>\n",
       "      <td>-0.060031</td>\n",
       "      <td>3381.496826</td>\n",
       "      <td>3313.457520</td>\n",
       "      <td>3360.209229</td>\n",
       "      <td>3762.447754</td>\n",
       "      <td>3857.467285</td>\n",
       "      <td>4083.084961</td>\n",
       "      <td>3905.666748</td>\n",
       "      <td>4404.532715</td>\n",
       "    </tr>\n",
       "    <tr>\n",
       "      <th>1</th>\n",
       "      <td>1</td>\n",
       "      <td>Chau_Phu</td>\n",
       "      <td>10.542192</td>\n",
       "      <td>105.18792</td>\n",
       "      <td>WS</td>\n",
       "      <td>T</td>\n",
       "      <td>10-04-2022</td>\n",
       "      <td>1.4</td>\n",
       "      <td>NaN</td>\n",
       "      <td>05-04-2022</td>\n",
       "      <td>...</td>\n",
       "      <td>2375.349390</td>\n",
       "      <td>0.063495</td>\n",
       "      <td>2023.441162</td>\n",
       "      <td>1984.607788</td>\n",
       "      <td>1656.869263</td>\n",
       "      <td>2676.281006</td>\n",
       "      <td>3438.506592</td>\n",
       "      <td>3771.326904</td>\n",
       "      <td>3715.058838</td>\n",
       "      <td>3271.450928</td>\n",
       "    </tr>\n",
       "    <tr>\n",
       "      <th>2</th>\n",
       "      <td>1</td>\n",
       "      <td>Chau_Phu</td>\n",
       "      <td>10.542192</td>\n",
       "      <td>105.18792</td>\n",
       "      <td>WS</td>\n",
       "      <td>T</td>\n",
       "      <td>10-04-2022</td>\n",
       "      <td>1.4</td>\n",
       "      <td>NaN</td>\n",
       "      <td>31-03-2022</td>\n",
       "      <td>...</td>\n",
       "      <td>3644.730498</td>\n",
       "      <td>0.148839</td>\n",
       "      <td>2205.650391</td>\n",
       "      <td>2361.464111</td>\n",
       "      <td>2057.800537</td>\n",
       "      <td>2986.781006</td>\n",
       "      <td>4082.418213</td>\n",
       "      <td>4653.062012</td>\n",
       "      <td>4567.915039</td>\n",
       "      <td>3384.313721</td>\n",
       "    </tr>\n",
       "    <tr>\n",
       "      <th>3</th>\n",
       "      <td>1</td>\n",
       "      <td>Chau_Phu</td>\n",
       "      <td>10.542192</td>\n",
       "      <td>105.18792</td>\n",
       "      <td>WS</td>\n",
       "      <td>T</td>\n",
       "      <td>10-04-2022</td>\n",
       "      <td>1.4</td>\n",
       "      <td>NaN</td>\n",
       "      <td>26-03-2022</td>\n",
       "      <td>...</td>\n",
       "      <td>3737.763252</td>\n",
       "      <td>0.168246</td>\n",
       "      <td>1706.290894</td>\n",
       "      <td>1841.614380</td>\n",
       "      <td>1480.372559</td>\n",
       "      <td>2472.673096</td>\n",
       "      <td>3676.718994</td>\n",
       "      <td>4131.218750</td>\n",
       "      <td>4155.359375</td>\n",
       "      <td>2958.483643</td>\n",
       "    </tr>\n",
       "    <tr>\n",
       "      <th>4</th>\n",
       "      <td>1</td>\n",
       "      <td>Chau_Phu</td>\n",
       "      <td>10.542192</td>\n",
       "      <td>105.18792</td>\n",
       "      <td>WS</td>\n",
       "      <td>T</td>\n",
       "      <td>10-04-2022</td>\n",
       "      <td>1.4</td>\n",
       "      <td>NaN</td>\n",
       "      <td>21-03-2022</td>\n",
       "      <td>...</td>\n",
       "      <td>3085.443384</td>\n",
       "      <td>0.198814</td>\n",
       "      <td>1734.813721</td>\n",
       "      <td>1941.666626</td>\n",
       "      <td>1757.101318</td>\n",
       "      <td>2280.630615</td>\n",
       "      <td>3256.418213</td>\n",
       "      <td>3770.830078</td>\n",
       "      <td>3653.392090</td>\n",
       "      <td>2441.620850</td>\n",
       "    </tr>\n",
       "  </tbody>\n",
       "</table>\n",
       "<p>5 rows × 26 columns</p>\n",
       "</div>"
      ],
      "text/plain": [
       "   ID No  District   Latitude  Longitude  \\\n",
       "0      1  Chau_Phu  10.542192  105.18792   \n",
       "1      1  Chau_Phu  10.542192  105.18792   \n",
       "2      1  Chau_Phu  10.542192  105.18792   \n",
       "3      1  Chau_Phu  10.542192  105.18792   \n",
       "4      1  Chau_Phu  10.542192  105.18792   \n",
       "\n",
       "  Season(SA = Summer Autumn, WS = Winter Spring)  \\\n",
       "0                                             WS   \n",
       "1                                             WS   \n",
       "2                                             WS   \n",
       "3                                             WS   \n",
       "4                                             WS   \n",
       "\n",
       "  Rice Crop Intensity(D=Double, T=Triple) Date of Harvest  Field size (ha)  \\\n",
       "0                                       T      10-04-2022              1.4   \n",
       "1                                       T      10-04-2022              1.4   \n",
       "2                                       T      10-04-2022              1.4   \n",
       "3                                       T      10-04-2022              1.4   \n",
       "4                                       T      10-04-2022              1.4   \n",
       "\n",
       "   Predicted Rice Yield (kg/ha)        date  ...        mtvi1      lswi  \\\n",
       "0                           NaN  10-04-2022  ...   648.663369 -0.060031   \n",
       "1                           NaN  05-04-2022  ...  2375.349390  0.063495   \n",
       "2                           NaN  31-03-2022  ...  3644.730498  0.148839   \n",
       "3                           NaN  26-03-2022  ...  3737.763252  0.168246   \n",
       "4                           NaN  21-03-2022  ...  3085.443384  0.198814   \n",
       "\n",
       "           red        green         blue     rededge1     rededge2  \\\n",
       "0  3381.496826  3313.457520  3360.209229  3762.447754  3857.467285   \n",
       "1  2023.441162  1984.607788  1656.869263  2676.281006  3438.506592   \n",
       "2  2205.650391  2361.464111  2057.800537  2986.781006  4082.418213   \n",
       "3  1706.290894  1841.614380  1480.372559  2472.673096  3676.718994   \n",
       "4  1734.813721  1941.666626  1757.101318  2280.630615  3256.418213   \n",
       "\n",
       "      rededge3          nir         swir  \n",
       "0  4083.084961  3905.666748  4404.532715  \n",
       "1  3771.326904  3715.058838  3271.450928  \n",
       "2  4653.062012  4567.915039  3384.313721  \n",
       "3  4131.218750  4155.359375  2958.483643  \n",
       "4  3770.830078  3653.392090  2441.620850  \n",
       "\n",
       "[5 rows x 26 columns]"
      ]
     },
     "execution_count": 26,
     "metadata": {},
     "output_type": "execute_result"
    }
   ],
   "source": [
    "df.head()"
   ]
  },
  {
   "cell_type": "markdown",
   "metadata": {},
   "source": [
    "## Renaming & Typing"
   ]
  },
  {
   "cell_type": "code",
   "execution_count": 27,
   "metadata": {},
   "outputs": [
    {
     "data": {
      "text/html": [
       "<div>\n",
       "<style scoped>\n",
       "    .dataframe tbody tr th:only-of-type {\n",
       "        vertical-align: middle;\n",
       "    }\n",
       "\n",
       "    .dataframe tbody tr th {\n",
       "        vertical-align: top;\n",
       "    }\n",
       "\n",
       "    .dataframe thead th {\n",
       "        text-align: right;\n",
       "    }\n",
       "</style>\n",
       "<table border=\"1\" class=\"dataframe\">\n",
       "  <thead>\n",
       "    <tr style=\"text-align: right;\">\n",
       "      <th></th>\n",
       "      <th>ID No</th>\n",
       "      <th>District</th>\n",
       "      <th>Latitude</th>\n",
       "      <th>Longitude</th>\n",
       "      <th>Season(SA = Summer Autumn, WS = Winter Spring)</th>\n",
       "      <th>Rice Crop Intensity(D=Double, T=Triple)</th>\n",
       "      <th>Date of Harvest</th>\n",
       "      <th>Field size (ha)</th>\n",
       "      <th>Predicted Rice Yield (kg/ha)</th>\n",
       "      <th>date</th>\n",
       "      <th>...</th>\n",
       "      <th>mtvi1</th>\n",
       "      <th>lswi</th>\n",
       "      <th>red</th>\n",
       "      <th>green</th>\n",
       "      <th>blue</th>\n",
       "      <th>rededge1</th>\n",
       "      <th>rededge2</th>\n",
       "      <th>rededge3</th>\n",
       "      <th>nir</th>\n",
       "      <th>swir</th>\n",
       "    </tr>\n",
       "  </thead>\n",
       "  <tbody>\n",
       "    <tr>\n",
       "      <th>0</th>\n",
       "      <td>1</td>\n",
       "      <td>Chau_Phu</td>\n",
       "      <td>10.542192</td>\n",
       "      <td>105.18792</td>\n",
       "      <td>WS</td>\n",
       "      <td>T</td>\n",
       "      <td>10-04-2022</td>\n",
       "      <td>1.4</td>\n",
       "      <td>NaN</td>\n",
       "      <td>10-04-2022</td>\n",
       "      <td>...</td>\n",
       "      <td>648.663369</td>\n",
       "      <td>-0.060031</td>\n",
       "      <td>3381.496826</td>\n",
       "      <td>3313.457520</td>\n",
       "      <td>3360.209229</td>\n",
       "      <td>3762.447754</td>\n",
       "      <td>3857.467285</td>\n",
       "      <td>4083.084961</td>\n",
       "      <td>3905.666748</td>\n",
       "      <td>4404.532715</td>\n",
       "    </tr>\n",
       "    <tr>\n",
       "      <th>1</th>\n",
       "      <td>1</td>\n",
       "      <td>Chau_Phu</td>\n",
       "      <td>10.542192</td>\n",
       "      <td>105.18792</td>\n",
       "      <td>WS</td>\n",
       "      <td>T</td>\n",
       "      <td>10-04-2022</td>\n",
       "      <td>1.4</td>\n",
       "      <td>NaN</td>\n",
       "      <td>05-04-2022</td>\n",
       "      <td>...</td>\n",
       "      <td>2375.349390</td>\n",
       "      <td>0.063495</td>\n",
       "      <td>2023.441162</td>\n",
       "      <td>1984.607788</td>\n",
       "      <td>1656.869263</td>\n",
       "      <td>2676.281006</td>\n",
       "      <td>3438.506592</td>\n",
       "      <td>3771.326904</td>\n",
       "      <td>3715.058838</td>\n",
       "      <td>3271.450928</td>\n",
       "    </tr>\n",
       "    <tr>\n",
       "      <th>2</th>\n",
       "      <td>1</td>\n",
       "      <td>Chau_Phu</td>\n",
       "      <td>10.542192</td>\n",
       "      <td>105.18792</td>\n",
       "      <td>WS</td>\n",
       "      <td>T</td>\n",
       "      <td>10-04-2022</td>\n",
       "      <td>1.4</td>\n",
       "      <td>NaN</td>\n",
       "      <td>31-03-2022</td>\n",
       "      <td>...</td>\n",
       "      <td>3644.730498</td>\n",
       "      <td>0.148839</td>\n",
       "      <td>2205.650391</td>\n",
       "      <td>2361.464111</td>\n",
       "      <td>2057.800537</td>\n",
       "      <td>2986.781006</td>\n",
       "      <td>4082.418213</td>\n",
       "      <td>4653.062012</td>\n",
       "      <td>4567.915039</td>\n",
       "      <td>3384.313721</td>\n",
       "    </tr>\n",
       "    <tr>\n",
       "      <th>3</th>\n",
       "      <td>1</td>\n",
       "      <td>Chau_Phu</td>\n",
       "      <td>10.542192</td>\n",
       "      <td>105.18792</td>\n",
       "      <td>WS</td>\n",
       "      <td>T</td>\n",
       "      <td>10-04-2022</td>\n",
       "      <td>1.4</td>\n",
       "      <td>NaN</td>\n",
       "      <td>26-03-2022</td>\n",
       "      <td>...</td>\n",
       "      <td>3737.763252</td>\n",
       "      <td>0.168246</td>\n",
       "      <td>1706.290894</td>\n",
       "      <td>1841.614380</td>\n",
       "      <td>1480.372559</td>\n",
       "      <td>2472.673096</td>\n",
       "      <td>3676.718994</td>\n",
       "      <td>4131.218750</td>\n",
       "      <td>4155.359375</td>\n",
       "      <td>2958.483643</td>\n",
       "    </tr>\n",
       "    <tr>\n",
       "      <th>4</th>\n",
       "      <td>1</td>\n",
       "      <td>Chau_Phu</td>\n",
       "      <td>10.542192</td>\n",
       "      <td>105.18792</td>\n",
       "      <td>WS</td>\n",
       "      <td>T</td>\n",
       "      <td>10-04-2022</td>\n",
       "      <td>1.4</td>\n",
       "      <td>NaN</td>\n",
       "      <td>21-03-2022</td>\n",
       "      <td>...</td>\n",
       "      <td>3085.443384</td>\n",
       "      <td>0.198814</td>\n",
       "      <td>1734.813721</td>\n",
       "      <td>1941.666626</td>\n",
       "      <td>1757.101318</td>\n",
       "      <td>2280.630615</td>\n",
       "      <td>3256.418213</td>\n",
       "      <td>3770.830078</td>\n",
       "      <td>3653.392090</td>\n",
       "      <td>2441.620850</td>\n",
       "    </tr>\n",
       "  </tbody>\n",
       "</table>\n",
       "<p>5 rows × 26 columns</p>\n",
       "</div>"
      ],
      "text/plain": [
       "   ID No  District   Latitude  Longitude  \\\n",
       "0      1  Chau_Phu  10.542192  105.18792   \n",
       "1      1  Chau_Phu  10.542192  105.18792   \n",
       "2      1  Chau_Phu  10.542192  105.18792   \n",
       "3      1  Chau_Phu  10.542192  105.18792   \n",
       "4      1  Chau_Phu  10.542192  105.18792   \n",
       "\n",
       "  Season(SA = Summer Autumn, WS = Winter Spring)  \\\n",
       "0                                             WS   \n",
       "1                                             WS   \n",
       "2                                             WS   \n",
       "3                                             WS   \n",
       "4                                             WS   \n",
       "\n",
       "  Rice Crop Intensity(D=Double, T=Triple) Date of Harvest  Field size (ha)  \\\n",
       "0                                       T      10-04-2022              1.4   \n",
       "1                                       T      10-04-2022              1.4   \n",
       "2                                       T      10-04-2022              1.4   \n",
       "3                                       T      10-04-2022              1.4   \n",
       "4                                       T      10-04-2022              1.4   \n",
       "\n",
       "   Predicted Rice Yield (kg/ha)        date  ...        mtvi1      lswi  \\\n",
       "0                           NaN  10-04-2022  ...   648.663369 -0.060031   \n",
       "1                           NaN  05-04-2022  ...  2375.349390  0.063495   \n",
       "2                           NaN  31-03-2022  ...  3644.730498  0.148839   \n",
       "3                           NaN  26-03-2022  ...  3737.763252  0.168246   \n",
       "4                           NaN  21-03-2022  ...  3085.443384  0.198814   \n",
       "\n",
       "           red        green         blue     rededge1     rededge2  \\\n",
       "0  3381.496826  3313.457520  3360.209229  3762.447754  3857.467285   \n",
       "1  2023.441162  1984.607788  1656.869263  2676.281006  3438.506592   \n",
       "2  2205.650391  2361.464111  2057.800537  2986.781006  4082.418213   \n",
       "3  1706.290894  1841.614380  1480.372559  2472.673096  3676.718994   \n",
       "4  1734.813721  1941.666626  1757.101318  2280.630615  3256.418213   \n",
       "\n",
       "      rededge3          nir         swir  \n",
       "0  4083.084961  3905.666748  4404.532715  \n",
       "1  3771.326904  3715.058838  3271.450928  \n",
       "2  4653.062012  4567.915039  3384.313721  \n",
       "3  4131.218750  4155.359375  2958.483643  \n",
       "4  3770.830078  3653.392090  2441.620850  \n",
       "\n",
       "[5 rows x 26 columns]"
      ]
     },
     "execution_count": 27,
     "metadata": {},
     "output_type": "execute_result"
    }
   ],
   "source": [
    "# Rename columns\n",
    "# df.rename(\n",
    "#     {\n",
    "#         \"District\": \"district\", \n",
    "#         \"Latitude\": \"lat\", \n",
    "#         \"Longitude\": \"lon\",\n",
    "#         \"Season(SA = Summer Autumn, WS = Winter Spring)\": \"season\",\n",
    "#         \"Rice Crop Intensity(D=Double, T=Triple)\": \"intensity\",\n",
    "#         \"Date of Harvest\": \"harvest\",\n",
    "#         \"Field size (ha)\": \"size\",\n",
    "#         \"Rice Yield (kg/ha)\": \"yield\",\n",
    "#         \"ID No\": \"id_no\"\n",
    "#     },\n",
    "#     axis=\"columns\", inplace=True)\n",
    "\n",
    "# Set the type of each columns\n",
    "df = df.astype(\n",
    "    dtype={\n",
    "        # \"id_no\": \"category\",\n",
    "        \"Rice Crop Intensity(D=Double, T=Triple)\": \"category\",\n",
    "    },\n",
    "   copy=False \n",
    ")\n",
    "\n",
    "#Remove unusuful columns\n",
    "# df.drop(columns=[\"id_no\"], inplace=True)\n",
    "\n",
    "df.head()"
   ]
  },
  {
   "cell_type": "markdown",
   "metadata": {},
   "source": [
    "# Feature Engineering"
   ]
  },
  {
   "cell_type": "markdown",
   "metadata": {},
   "source": [
    "## Numerical data"
   ]
  },
  {
   "cell_type": "code",
   "execution_count": 28,
   "metadata": {},
   "outputs": [],
   "source": [
    "df = df.drop(columns=[\"date\", 'Predicted Rice Yield (kg/ha)']).groupby(['District', 'Latitude', 'Longitude',\n",
    "       'Season(SA = Summer Autumn, WS = Winter Spring)',\n",
    "       'Rice Crop Intensity(D=Double, T=Triple)', 'Date of Harvest',\n",
    "       'Field size (ha)', 'ID No']).describe()\n",
    "\n",
    "df.columns = df.columns.map('_'.join).str.strip('_')"
   ]
  },
  {
   "cell_type": "code",
   "execution_count": 29,
   "metadata": {},
   "outputs": [],
   "source": [
    "df.reset_index(level=[\"Field size (ha)\", \"Rice Crop Intensity(D=Double, T=Triple)\"], inplace=True)"
   ]
  },
  {
   "cell_type": "code",
   "execution_count": 30,
   "metadata": {},
   "outputs": [
    {
     "data": {
      "text/html": [
       "<div>\n",
       "<style scoped>\n",
       "    .dataframe tbody tr th:only-of-type {\n",
       "        vertical-align: middle;\n",
       "    }\n",
       "\n",
       "    .dataframe tbody tr th {\n",
       "        vertical-align: top;\n",
       "    }\n",
       "\n",
       "    .dataframe thead th {\n",
       "        text-align: right;\n",
       "    }\n",
       "</style>\n",
       "<table border=\"1\" class=\"dataframe\">\n",
       "  <thead>\n",
       "    <tr style=\"text-align: right;\">\n",
       "      <th></th>\n",
       "      <th></th>\n",
       "      <th></th>\n",
       "      <th></th>\n",
       "      <th></th>\n",
       "      <th></th>\n",
       "      <th>Rice Crop Intensity(D=Double, T=Triple)</th>\n",
       "      <th>Field size (ha)</th>\n",
       "      <th>ndvi_count</th>\n",
       "      <th>ndvi_mean</th>\n",
       "      <th>ndvi_std</th>\n",
       "      <th>ndvi_min</th>\n",
       "      <th>ndvi_25%</th>\n",
       "      <th>ndvi_50%</th>\n",
       "      <th>ndvi_75%</th>\n",
       "      <th>ndvi_max</th>\n",
       "      <th>...</th>\n",
       "      <th>nir_75%</th>\n",
       "      <th>nir_max</th>\n",
       "      <th>swir_count</th>\n",
       "      <th>swir_mean</th>\n",
       "      <th>swir_std</th>\n",
       "      <th>swir_min</th>\n",
       "      <th>swir_25%</th>\n",
       "      <th>swir_50%</th>\n",
       "      <th>swir_75%</th>\n",
       "      <th>swir_max</th>\n",
       "    </tr>\n",
       "    <tr>\n",
       "      <th>District</th>\n",
       "      <th>Latitude</th>\n",
       "      <th>Longitude</th>\n",
       "      <th>Season(SA = Summer Autumn, WS = Winter Spring)</th>\n",
       "      <th>Date of Harvest</th>\n",
       "      <th>ID No</th>\n",
       "      <th></th>\n",
       "      <th></th>\n",
       "      <th></th>\n",
       "      <th></th>\n",
       "      <th></th>\n",
       "      <th></th>\n",
       "      <th></th>\n",
       "      <th></th>\n",
       "      <th></th>\n",
       "      <th></th>\n",
       "      <th></th>\n",
       "      <th></th>\n",
       "      <th></th>\n",
       "      <th></th>\n",
       "      <th></th>\n",
       "      <th></th>\n",
       "      <th></th>\n",
       "      <th></th>\n",
       "      <th></th>\n",
       "      <th></th>\n",
       "      <th></th>\n",
       "    </tr>\n",
       "  </thead>\n",
       "  <tbody>\n",
       "    <tr>\n",
       "      <th rowspan=\"5\" valign=\"top\">Chau_Phu</th>\n",
       "      <th>10.441423</th>\n",
       "      <th>105.115088</th>\n",
       "      <th>SA</th>\n",
       "      <th>20-07-2022</th>\n",
       "      <th>17</th>\n",
       "      <td>D</td>\n",
       "      <td>4.0</td>\n",
       "      <td>24.0</td>\n",
       "      <td>0.245517</td>\n",
       "      <td>0.230892</td>\n",
       "      <td>-0.084224</td>\n",
       "      <td>0.058425</td>\n",
       "      <td>0.138671</td>\n",
       "      <td>0.464724</td>\n",
       "      <td>0.605914</td>\n",
       "      <td>...</td>\n",
       "      <td>5097.635498</td>\n",
       "      <td>12277.045898</td>\n",
       "      <td>24.0</td>\n",
       "      <td>3405.934484</td>\n",
       "      <td>1429.477502</td>\n",
       "      <td>1497.418335</td>\n",
       "      <td>2482.147095</td>\n",
       "      <td>2934.687866</td>\n",
       "      <td>3645.849609</td>\n",
       "      <td>6408.545898</td>\n",
       "    </tr>\n",
       "    <tr>\n",
       "      <th>10.469839</th>\n",
       "      <th>105.211568</th>\n",
       "      <th>WS</th>\n",
       "      <th>01-04-2022</th>\n",
       "      <th>85</th>\n",
       "      <td>T</td>\n",
       "      <td>4.0</td>\n",
       "      <td>24.0</td>\n",
       "      <td>0.298268</td>\n",
       "      <td>0.246330</td>\n",
       "      <td>-0.064239</td>\n",
       "      <td>0.054491</td>\n",
       "      <td>0.357424</td>\n",
       "      <td>0.498373</td>\n",
       "      <td>0.741627</td>\n",
       "      <td>...</td>\n",
       "      <td>6540.147217</td>\n",
       "      <td>11266.352539</td>\n",
       "      <td>24.0</td>\n",
       "      <td>3165.494672</td>\n",
       "      <td>1950.585987</td>\n",
       "      <td>496.484436</td>\n",
       "      <td>2010.956787</td>\n",
       "      <td>2366.728394</td>\n",
       "      <td>4527.582397</td>\n",
       "      <td>8102.975586</td>\n",
       "    </tr>\n",
       "    <tr>\n",
       "      <th rowspan=\"2\" valign=\"top\">10.473786</th>\n",
       "      <th rowspan=\"2\" valign=\"top\">105.190479</th>\n",
       "      <th>SA</th>\n",
       "      <th>14-07-2022</th>\n",
       "      <th>13</th>\n",
       "      <td>T</td>\n",
       "      <td>1.7</td>\n",
       "      <td>24.0</td>\n",
       "      <td>0.250739</td>\n",
       "      <td>0.231802</td>\n",
       "      <td>-0.115478</td>\n",
       "      <td>0.057744</td>\n",
       "      <td>0.202655</td>\n",
       "      <td>0.454684</td>\n",
       "      <td>0.600343</td>\n",
       "      <td>...</td>\n",
       "      <td>5234.571045</td>\n",
       "      <td>11876.013672</td>\n",
       "      <td>24.0</td>\n",
       "      <td>3425.606079</td>\n",
       "      <td>1791.302920</td>\n",
       "      <td>1317.425659</td>\n",
       "      <td>2629.262878</td>\n",
       "      <td>3019.295898</td>\n",
       "      <td>3277.140198</td>\n",
       "      <td>8455.747070</td>\n",
       "    </tr>\n",
       "    <tr>\n",
       "      <th>WS</th>\n",
       "      <th>03-04-2022</th>\n",
       "      <th>35</th>\n",
       "      <td>T</td>\n",
       "      <td>1.7</td>\n",
       "      <td>24.0</td>\n",
       "      <td>0.334348</td>\n",
       "      <td>0.268628</td>\n",
       "      <td>-0.064958</td>\n",
       "      <td>0.048183</td>\n",
       "      <td>0.460440</td>\n",
       "      <td>0.573372</td>\n",
       "      <td>0.666078</td>\n",
       "      <td>...</td>\n",
       "      <td>5720.296021</td>\n",
       "      <td>11876.013672</td>\n",
       "      <td>24.0</td>\n",
       "      <td>3185.026774</td>\n",
       "      <td>2035.427175</td>\n",
       "      <td>858.840820</td>\n",
       "      <td>1853.473175</td>\n",
       "      <td>2603.242188</td>\n",
       "      <td>3338.344238</td>\n",
       "      <td>8455.747070</td>\n",
       "    </tr>\n",
       "    <tr>\n",
       "      <th>10.474439</th>\n",
       "      <th>105.216928</th>\n",
       "      <th>SA</th>\n",
       "      <th>15-07-2022</th>\n",
       "      <th>81</th>\n",
       "      <td>T</td>\n",
       "      <td>7.0</td>\n",
       "      <td>24.0</td>\n",
       "      <td>0.233725</td>\n",
       "      <td>0.203865</td>\n",
       "      <td>-0.070384</td>\n",
       "      <td>0.058992</td>\n",
       "      <td>0.229992</td>\n",
       "      <td>0.439704</td>\n",
       "      <td>0.526516</td>\n",
       "      <td>...</td>\n",
       "      <td>5592.332031</td>\n",
       "      <td>11409.107422</td>\n",
       "      <td>24.0</td>\n",
       "      <td>3073.574534</td>\n",
       "      <td>1403.103937</td>\n",
       "      <td>1547.906616</td>\n",
       "      <td>2435.920410</td>\n",
       "      <td>2790.167847</td>\n",
       "      <td>3080.892822</td>\n",
       "      <td>8002.729980</td>\n",
       "    </tr>\n",
       "  </tbody>\n",
       "</table>\n",
       "<p>5 rows × 130 columns</p>\n",
       "</div>"
      ],
      "text/plain": [
       "                                                                                                   Rice Crop Intensity(D=Double, T=Triple)  \\\n",
       "District Latitude  Longitude  Season(SA = Summer Autumn, WS = Winter Spring) Date of Harvest ID No                                           \n",
       "Chau_Phu 10.441423 105.115088 SA                                             20-07-2022      17                                          D   \n",
       "         10.469839 105.211568 WS                                             01-04-2022      85                                          T   \n",
       "         10.473786 105.190479 SA                                             14-07-2022      13                                          T   \n",
       "                              WS                                             03-04-2022      35                                          T   \n",
       "         10.474439 105.216928 SA                                             15-07-2022      81                                          T   \n",
       "\n",
       "                                                                                                    Field size (ha)  \\\n",
       "District Latitude  Longitude  Season(SA = Summer Autumn, WS = Winter Spring) Date of Harvest ID No                    \n",
       "Chau_Phu 10.441423 105.115088 SA                                             20-07-2022      17                 4.0   \n",
       "         10.469839 105.211568 WS                                             01-04-2022      85                 4.0   \n",
       "         10.473786 105.190479 SA                                             14-07-2022      13                 1.7   \n",
       "                              WS                                             03-04-2022      35                 1.7   \n",
       "         10.474439 105.216928 SA                                             15-07-2022      81                 7.0   \n",
       "\n",
       "                                                                                                    ndvi_count  \\\n",
       "District Latitude  Longitude  Season(SA = Summer Autumn, WS = Winter Spring) Date of Harvest ID No               \n",
       "Chau_Phu 10.441423 105.115088 SA                                             20-07-2022      17           24.0   \n",
       "         10.469839 105.211568 WS                                             01-04-2022      85           24.0   \n",
       "         10.473786 105.190479 SA                                             14-07-2022      13           24.0   \n",
       "                              WS                                             03-04-2022      35           24.0   \n",
       "         10.474439 105.216928 SA                                             15-07-2022      81           24.0   \n",
       "\n",
       "                                                                                                    ndvi_mean  \\\n",
       "District Latitude  Longitude  Season(SA = Summer Autumn, WS = Winter Spring) Date of Harvest ID No              \n",
       "Chau_Phu 10.441423 105.115088 SA                                             20-07-2022      17      0.245517   \n",
       "         10.469839 105.211568 WS                                             01-04-2022      85      0.298268   \n",
       "         10.473786 105.190479 SA                                             14-07-2022      13      0.250739   \n",
       "                              WS                                             03-04-2022      35      0.334348   \n",
       "         10.474439 105.216928 SA                                             15-07-2022      81      0.233725   \n",
       "\n",
       "                                                                                                    ndvi_std  \\\n",
       "District Latitude  Longitude  Season(SA = Summer Autumn, WS = Winter Spring) Date of Harvest ID No             \n",
       "Chau_Phu 10.441423 105.115088 SA                                             20-07-2022      17     0.230892   \n",
       "         10.469839 105.211568 WS                                             01-04-2022      85     0.246330   \n",
       "         10.473786 105.190479 SA                                             14-07-2022      13     0.231802   \n",
       "                              WS                                             03-04-2022      35     0.268628   \n",
       "         10.474439 105.216928 SA                                             15-07-2022      81     0.203865   \n",
       "\n",
       "                                                                                                    ndvi_min  \\\n",
       "District Latitude  Longitude  Season(SA = Summer Autumn, WS = Winter Spring) Date of Harvest ID No             \n",
       "Chau_Phu 10.441423 105.115088 SA                                             20-07-2022      17    -0.084224   \n",
       "         10.469839 105.211568 WS                                             01-04-2022      85    -0.064239   \n",
       "         10.473786 105.190479 SA                                             14-07-2022      13    -0.115478   \n",
       "                              WS                                             03-04-2022      35    -0.064958   \n",
       "         10.474439 105.216928 SA                                             15-07-2022      81    -0.070384   \n",
       "\n",
       "                                                                                                    ndvi_25%  \\\n",
       "District Latitude  Longitude  Season(SA = Summer Autumn, WS = Winter Spring) Date of Harvest ID No             \n",
       "Chau_Phu 10.441423 105.115088 SA                                             20-07-2022      17     0.058425   \n",
       "         10.469839 105.211568 WS                                             01-04-2022      85     0.054491   \n",
       "         10.473786 105.190479 SA                                             14-07-2022      13     0.057744   \n",
       "                              WS                                             03-04-2022      35     0.048183   \n",
       "         10.474439 105.216928 SA                                             15-07-2022      81     0.058992   \n",
       "\n",
       "                                                                                                    ndvi_50%  \\\n",
       "District Latitude  Longitude  Season(SA = Summer Autumn, WS = Winter Spring) Date of Harvest ID No             \n",
       "Chau_Phu 10.441423 105.115088 SA                                             20-07-2022      17     0.138671   \n",
       "         10.469839 105.211568 WS                                             01-04-2022      85     0.357424   \n",
       "         10.473786 105.190479 SA                                             14-07-2022      13     0.202655   \n",
       "                              WS                                             03-04-2022      35     0.460440   \n",
       "         10.474439 105.216928 SA                                             15-07-2022      81     0.229992   \n",
       "\n",
       "                                                                                                    ndvi_75%  \\\n",
       "District Latitude  Longitude  Season(SA = Summer Autumn, WS = Winter Spring) Date of Harvest ID No             \n",
       "Chau_Phu 10.441423 105.115088 SA                                             20-07-2022      17     0.464724   \n",
       "         10.469839 105.211568 WS                                             01-04-2022      85     0.498373   \n",
       "         10.473786 105.190479 SA                                             14-07-2022      13     0.454684   \n",
       "                              WS                                             03-04-2022      35     0.573372   \n",
       "         10.474439 105.216928 SA                                             15-07-2022      81     0.439704   \n",
       "\n",
       "                                                                                                    ndvi_max  \\\n",
       "District Latitude  Longitude  Season(SA = Summer Autumn, WS = Winter Spring) Date of Harvest ID No             \n",
       "Chau_Phu 10.441423 105.115088 SA                                             20-07-2022      17     0.605914   \n",
       "         10.469839 105.211568 WS                                             01-04-2022      85     0.741627   \n",
       "         10.473786 105.190479 SA                                             14-07-2022      13     0.600343   \n",
       "                              WS                                             03-04-2022      35     0.666078   \n",
       "         10.474439 105.216928 SA                                             15-07-2022      81     0.526516   \n",
       "\n",
       "                                                                                                    ...  \\\n",
       "District Latitude  Longitude  Season(SA = Summer Autumn, WS = Winter Spring) Date of Harvest ID No  ...   \n",
       "Chau_Phu 10.441423 105.115088 SA                                             20-07-2022      17     ...   \n",
       "         10.469839 105.211568 WS                                             01-04-2022      85     ...   \n",
       "         10.473786 105.190479 SA                                             14-07-2022      13     ...   \n",
       "                              WS                                             03-04-2022      35     ...   \n",
       "         10.474439 105.216928 SA                                             15-07-2022      81     ...   \n",
       "\n",
       "                                                                                                        nir_75%  \\\n",
       "District Latitude  Longitude  Season(SA = Summer Autumn, WS = Winter Spring) Date of Harvest ID No                \n",
       "Chau_Phu 10.441423 105.115088 SA                                             20-07-2022      17     5097.635498   \n",
       "         10.469839 105.211568 WS                                             01-04-2022      85     6540.147217   \n",
       "         10.473786 105.190479 SA                                             14-07-2022      13     5234.571045   \n",
       "                              WS                                             03-04-2022      35     5720.296021   \n",
       "         10.474439 105.216928 SA                                             15-07-2022      81     5592.332031   \n",
       "\n",
       "                                                                                                         nir_max  \\\n",
       "District Latitude  Longitude  Season(SA = Summer Autumn, WS = Winter Spring) Date of Harvest ID No                 \n",
       "Chau_Phu 10.441423 105.115088 SA                                             20-07-2022      17     12277.045898   \n",
       "         10.469839 105.211568 WS                                             01-04-2022      85     11266.352539   \n",
       "         10.473786 105.190479 SA                                             14-07-2022      13     11876.013672   \n",
       "                              WS                                             03-04-2022      35     11876.013672   \n",
       "         10.474439 105.216928 SA                                             15-07-2022      81     11409.107422   \n",
       "\n",
       "                                                                                                    swir_count  \\\n",
       "District Latitude  Longitude  Season(SA = Summer Autumn, WS = Winter Spring) Date of Harvest ID No               \n",
       "Chau_Phu 10.441423 105.115088 SA                                             20-07-2022      17           24.0   \n",
       "         10.469839 105.211568 WS                                             01-04-2022      85           24.0   \n",
       "         10.473786 105.190479 SA                                             14-07-2022      13           24.0   \n",
       "                              WS                                             03-04-2022      35           24.0   \n",
       "         10.474439 105.216928 SA                                             15-07-2022      81           24.0   \n",
       "\n",
       "                                                                                                      swir_mean  \\\n",
       "District Latitude  Longitude  Season(SA = Summer Autumn, WS = Winter Spring) Date of Harvest ID No                \n",
       "Chau_Phu 10.441423 105.115088 SA                                             20-07-2022      17     3405.934484   \n",
       "         10.469839 105.211568 WS                                             01-04-2022      85     3165.494672   \n",
       "         10.473786 105.190479 SA                                             14-07-2022      13     3425.606079   \n",
       "                              WS                                             03-04-2022      35     3185.026774   \n",
       "         10.474439 105.216928 SA                                             15-07-2022      81     3073.574534   \n",
       "\n",
       "                                                                                                       swir_std  \\\n",
       "District Latitude  Longitude  Season(SA = Summer Autumn, WS = Winter Spring) Date of Harvest ID No                \n",
       "Chau_Phu 10.441423 105.115088 SA                                             20-07-2022      17     1429.477502   \n",
       "         10.469839 105.211568 WS                                             01-04-2022      85     1950.585987   \n",
       "         10.473786 105.190479 SA                                             14-07-2022      13     1791.302920   \n",
       "                              WS                                             03-04-2022      35     2035.427175   \n",
       "         10.474439 105.216928 SA                                             15-07-2022      81     1403.103937   \n",
       "\n",
       "                                                                                                       swir_min  \\\n",
       "District Latitude  Longitude  Season(SA = Summer Autumn, WS = Winter Spring) Date of Harvest ID No                \n",
       "Chau_Phu 10.441423 105.115088 SA                                             20-07-2022      17     1497.418335   \n",
       "         10.469839 105.211568 WS                                             01-04-2022      85      496.484436   \n",
       "         10.473786 105.190479 SA                                             14-07-2022      13     1317.425659   \n",
       "                              WS                                             03-04-2022      35      858.840820   \n",
       "         10.474439 105.216928 SA                                             15-07-2022      81     1547.906616   \n",
       "\n",
       "                                                                                                       swir_25%  \\\n",
       "District Latitude  Longitude  Season(SA = Summer Autumn, WS = Winter Spring) Date of Harvest ID No                \n",
       "Chau_Phu 10.441423 105.115088 SA                                             20-07-2022      17     2482.147095   \n",
       "         10.469839 105.211568 WS                                             01-04-2022      85     2010.956787   \n",
       "         10.473786 105.190479 SA                                             14-07-2022      13     2629.262878   \n",
       "                              WS                                             03-04-2022      35     1853.473175   \n",
       "         10.474439 105.216928 SA                                             15-07-2022      81     2435.920410   \n",
       "\n",
       "                                                                                                       swir_50%  \\\n",
       "District Latitude  Longitude  Season(SA = Summer Autumn, WS = Winter Spring) Date of Harvest ID No                \n",
       "Chau_Phu 10.441423 105.115088 SA                                             20-07-2022      17     2934.687866   \n",
       "         10.469839 105.211568 WS                                             01-04-2022      85     2366.728394   \n",
       "         10.473786 105.190479 SA                                             14-07-2022      13     3019.295898   \n",
       "                              WS                                             03-04-2022      35     2603.242188   \n",
       "         10.474439 105.216928 SA                                             15-07-2022      81     2790.167847   \n",
       "\n",
       "                                                                                                       swir_75%  \\\n",
       "District Latitude  Longitude  Season(SA = Summer Autumn, WS = Winter Spring) Date of Harvest ID No                \n",
       "Chau_Phu 10.441423 105.115088 SA                                             20-07-2022      17     3645.849609   \n",
       "         10.469839 105.211568 WS                                             01-04-2022      85     4527.582397   \n",
       "         10.473786 105.190479 SA                                             14-07-2022      13     3277.140198   \n",
       "                              WS                                             03-04-2022      35     3338.344238   \n",
       "         10.474439 105.216928 SA                                             15-07-2022      81     3080.892822   \n",
       "\n",
       "                                                                                                       swir_max  \n",
       "District Latitude  Longitude  Season(SA = Summer Autumn, WS = Winter Spring) Date of Harvest ID No               \n",
       "Chau_Phu 10.441423 105.115088 SA                                             20-07-2022      17     6408.545898  \n",
       "         10.469839 105.211568 WS                                             01-04-2022      85     8102.975586  \n",
       "         10.473786 105.190479 SA                                             14-07-2022      13     8455.747070  \n",
       "                              WS                                             03-04-2022      35     8455.747070  \n",
       "         10.474439 105.216928 SA                                             15-07-2022      81     8002.729980  \n",
       "\n",
       "[5 rows x 130 columns]"
      ]
     },
     "execution_count": 30,
     "metadata": {},
     "output_type": "execute_result"
    }
   ],
   "source": [
    "df.head()"
   ]
  },
  {
   "cell_type": "markdown",
   "metadata": {},
   "source": [
    "# Data Preparation"
   ]
  },
  {
   "cell_type": "code",
   "execution_count": 31,
   "metadata": {},
   "outputs": [],
   "source": [
    "# Split Features & Target\n",
    "X = df"
   ]
  },
  {
   "cell_type": "markdown",
   "metadata": {},
   "source": [
    "## Convert Categorical features"
   ]
  },
  {
   "cell_type": "code",
   "execution_count": 32,
   "metadata": {},
   "outputs": [
    {
     "data": {
      "text/html": [
       "<div>\n",
       "<style scoped>\n",
       "    .dataframe tbody tr th:only-of-type {\n",
       "        vertical-align: middle;\n",
       "    }\n",
       "\n",
       "    .dataframe tbody tr th {\n",
       "        vertical-align: top;\n",
       "    }\n",
       "\n",
       "    .dataframe thead th {\n",
       "        text-align: right;\n",
       "    }\n",
       "</style>\n",
       "<table border=\"1\" class=\"dataframe\">\n",
       "  <thead>\n",
       "    <tr style=\"text-align: right;\">\n",
       "      <th></th>\n",
       "      <th></th>\n",
       "      <th></th>\n",
       "      <th></th>\n",
       "      <th></th>\n",
       "      <th></th>\n",
       "      <th>Field size (ha)</th>\n",
       "      <th>ndvi_count</th>\n",
       "      <th>ndvi_mean</th>\n",
       "      <th>ndvi_std</th>\n",
       "      <th>ndvi_min</th>\n",
       "      <th>ndvi_25%</th>\n",
       "      <th>ndvi_50%</th>\n",
       "      <th>ndvi_75%</th>\n",
       "      <th>ndvi_max</th>\n",
       "      <th>savi_count</th>\n",
       "      <th>...</th>\n",
       "      <th>nir_max</th>\n",
       "      <th>swir_count</th>\n",
       "      <th>swir_mean</th>\n",
       "      <th>swir_std</th>\n",
       "      <th>swir_min</th>\n",
       "      <th>swir_25%</th>\n",
       "      <th>swir_50%</th>\n",
       "      <th>swir_75%</th>\n",
       "      <th>swir_max</th>\n",
       "      <th>Rice Crop Intensity(D=Double, T=Triple)_T</th>\n",
       "    </tr>\n",
       "    <tr>\n",
       "      <th>District</th>\n",
       "      <th>Latitude</th>\n",
       "      <th>Longitude</th>\n",
       "      <th>Season(SA = Summer Autumn, WS = Winter Spring)</th>\n",
       "      <th>Date of Harvest</th>\n",
       "      <th>ID No</th>\n",
       "      <th></th>\n",
       "      <th></th>\n",
       "      <th></th>\n",
       "      <th></th>\n",
       "      <th></th>\n",
       "      <th></th>\n",
       "      <th></th>\n",
       "      <th></th>\n",
       "      <th></th>\n",
       "      <th></th>\n",
       "      <th></th>\n",
       "      <th></th>\n",
       "      <th></th>\n",
       "      <th></th>\n",
       "      <th></th>\n",
       "      <th></th>\n",
       "      <th></th>\n",
       "      <th></th>\n",
       "      <th></th>\n",
       "      <th></th>\n",
       "      <th></th>\n",
       "    </tr>\n",
       "  </thead>\n",
       "  <tbody>\n",
       "    <tr>\n",
       "      <th rowspan=\"5\" valign=\"top\">Chau_Phu</th>\n",
       "      <th>10.441423</th>\n",
       "      <th>105.115088</th>\n",
       "      <th>SA</th>\n",
       "      <th>20-07-2022</th>\n",
       "      <th>17</th>\n",
       "      <td>4.0</td>\n",
       "      <td>24.0</td>\n",
       "      <td>0.245517</td>\n",
       "      <td>0.230892</td>\n",
       "      <td>-0.084224</td>\n",
       "      <td>0.058425</td>\n",
       "      <td>0.138671</td>\n",
       "      <td>0.464724</td>\n",
       "      <td>0.605914</td>\n",
       "      <td>24.0</td>\n",
       "      <td>...</td>\n",
       "      <td>12277.045898</td>\n",
       "      <td>24.0</td>\n",
       "      <td>3405.934484</td>\n",
       "      <td>1429.477502</td>\n",
       "      <td>1497.418335</td>\n",
       "      <td>2482.147095</td>\n",
       "      <td>2934.687866</td>\n",
       "      <td>3645.849609</td>\n",
       "      <td>6408.545898</td>\n",
       "      <td>0</td>\n",
       "    </tr>\n",
       "    <tr>\n",
       "      <th>10.469839</th>\n",
       "      <th>105.211568</th>\n",
       "      <th>WS</th>\n",
       "      <th>01-04-2022</th>\n",
       "      <th>85</th>\n",
       "      <td>4.0</td>\n",
       "      <td>24.0</td>\n",
       "      <td>0.298268</td>\n",
       "      <td>0.246330</td>\n",
       "      <td>-0.064239</td>\n",
       "      <td>0.054491</td>\n",
       "      <td>0.357424</td>\n",
       "      <td>0.498373</td>\n",
       "      <td>0.741627</td>\n",
       "      <td>24.0</td>\n",
       "      <td>...</td>\n",
       "      <td>11266.352539</td>\n",
       "      <td>24.0</td>\n",
       "      <td>3165.494672</td>\n",
       "      <td>1950.585987</td>\n",
       "      <td>496.484436</td>\n",
       "      <td>2010.956787</td>\n",
       "      <td>2366.728394</td>\n",
       "      <td>4527.582397</td>\n",
       "      <td>8102.975586</td>\n",
       "      <td>1</td>\n",
       "    </tr>\n",
       "    <tr>\n",
       "      <th rowspan=\"2\" valign=\"top\">10.473786</th>\n",
       "      <th rowspan=\"2\" valign=\"top\">105.190479</th>\n",
       "      <th>SA</th>\n",
       "      <th>14-07-2022</th>\n",
       "      <th>13</th>\n",
       "      <td>1.7</td>\n",
       "      <td>24.0</td>\n",
       "      <td>0.250739</td>\n",
       "      <td>0.231802</td>\n",
       "      <td>-0.115478</td>\n",
       "      <td>0.057744</td>\n",
       "      <td>0.202655</td>\n",
       "      <td>0.454684</td>\n",
       "      <td>0.600343</td>\n",
       "      <td>24.0</td>\n",
       "      <td>...</td>\n",
       "      <td>11876.013672</td>\n",
       "      <td>24.0</td>\n",
       "      <td>3425.606079</td>\n",
       "      <td>1791.302920</td>\n",
       "      <td>1317.425659</td>\n",
       "      <td>2629.262878</td>\n",
       "      <td>3019.295898</td>\n",
       "      <td>3277.140198</td>\n",
       "      <td>8455.747070</td>\n",
       "      <td>1</td>\n",
       "    </tr>\n",
       "    <tr>\n",
       "      <th>WS</th>\n",
       "      <th>03-04-2022</th>\n",
       "      <th>35</th>\n",
       "      <td>1.7</td>\n",
       "      <td>24.0</td>\n",
       "      <td>0.334348</td>\n",
       "      <td>0.268628</td>\n",
       "      <td>-0.064958</td>\n",
       "      <td>0.048183</td>\n",
       "      <td>0.460440</td>\n",
       "      <td>0.573372</td>\n",
       "      <td>0.666078</td>\n",
       "      <td>24.0</td>\n",
       "      <td>...</td>\n",
       "      <td>11876.013672</td>\n",
       "      <td>24.0</td>\n",
       "      <td>3185.026774</td>\n",
       "      <td>2035.427175</td>\n",
       "      <td>858.840820</td>\n",
       "      <td>1853.473175</td>\n",
       "      <td>2603.242188</td>\n",
       "      <td>3338.344238</td>\n",
       "      <td>8455.747070</td>\n",
       "      <td>1</td>\n",
       "    </tr>\n",
       "    <tr>\n",
       "      <th>10.474439</th>\n",
       "      <th>105.216928</th>\n",
       "      <th>SA</th>\n",
       "      <th>15-07-2022</th>\n",
       "      <th>81</th>\n",
       "      <td>7.0</td>\n",
       "      <td>24.0</td>\n",
       "      <td>0.233725</td>\n",
       "      <td>0.203865</td>\n",
       "      <td>-0.070384</td>\n",
       "      <td>0.058992</td>\n",
       "      <td>0.229992</td>\n",
       "      <td>0.439704</td>\n",
       "      <td>0.526516</td>\n",
       "      <td>24.0</td>\n",
       "      <td>...</td>\n",
       "      <td>11409.107422</td>\n",
       "      <td>24.0</td>\n",
       "      <td>3073.574534</td>\n",
       "      <td>1403.103937</td>\n",
       "      <td>1547.906616</td>\n",
       "      <td>2435.920410</td>\n",
       "      <td>2790.167847</td>\n",
       "      <td>3080.892822</td>\n",
       "      <td>8002.729980</td>\n",
       "      <td>1</td>\n",
       "    </tr>\n",
       "  </tbody>\n",
       "</table>\n",
       "<p>5 rows × 130 columns</p>\n",
       "</div>"
      ],
      "text/plain": [
       "                                                                                                    Field size (ha)  \\\n",
       "District Latitude  Longitude  Season(SA = Summer Autumn, WS = Winter Spring) Date of Harvest ID No                    \n",
       "Chau_Phu 10.441423 105.115088 SA                                             20-07-2022      17                 4.0   \n",
       "         10.469839 105.211568 WS                                             01-04-2022      85                 4.0   \n",
       "         10.473786 105.190479 SA                                             14-07-2022      13                 1.7   \n",
       "                              WS                                             03-04-2022      35                 1.7   \n",
       "         10.474439 105.216928 SA                                             15-07-2022      81                 7.0   \n",
       "\n",
       "                                                                                                    ndvi_count  \\\n",
       "District Latitude  Longitude  Season(SA = Summer Autumn, WS = Winter Spring) Date of Harvest ID No               \n",
       "Chau_Phu 10.441423 105.115088 SA                                             20-07-2022      17           24.0   \n",
       "         10.469839 105.211568 WS                                             01-04-2022      85           24.0   \n",
       "         10.473786 105.190479 SA                                             14-07-2022      13           24.0   \n",
       "                              WS                                             03-04-2022      35           24.0   \n",
       "         10.474439 105.216928 SA                                             15-07-2022      81           24.0   \n",
       "\n",
       "                                                                                                    ndvi_mean  \\\n",
       "District Latitude  Longitude  Season(SA = Summer Autumn, WS = Winter Spring) Date of Harvest ID No              \n",
       "Chau_Phu 10.441423 105.115088 SA                                             20-07-2022      17      0.245517   \n",
       "         10.469839 105.211568 WS                                             01-04-2022      85      0.298268   \n",
       "         10.473786 105.190479 SA                                             14-07-2022      13      0.250739   \n",
       "                              WS                                             03-04-2022      35      0.334348   \n",
       "         10.474439 105.216928 SA                                             15-07-2022      81      0.233725   \n",
       "\n",
       "                                                                                                    ndvi_std  \\\n",
       "District Latitude  Longitude  Season(SA = Summer Autumn, WS = Winter Spring) Date of Harvest ID No             \n",
       "Chau_Phu 10.441423 105.115088 SA                                             20-07-2022      17     0.230892   \n",
       "         10.469839 105.211568 WS                                             01-04-2022      85     0.246330   \n",
       "         10.473786 105.190479 SA                                             14-07-2022      13     0.231802   \n",
       "                              WS                                             03-04-2022      35     0.268628   \n",
       "         10.474439 105.216928 SA                                             15-07-2022      81     0.203865   \n",
       "\n",
       "                                                                                                    ndvi_min  \\\n",
       "District Latitude  Longitude  Season(SA = Summer Autumn, WS = Winter Spring) Date of Harvest ID No             \n",
       "Chau_Phu 10.441423 105.115088 SA                                             20-07-2022      17    -0.084224   \n",
       "         10.469839 105.211568 WS                                             01-04-2022      85    -0.064239   \n",
       "         10.473786 105.190479 SA                                             14-07-2022      13    -0.115478   \n",
       "                              WS                                             03-04-2022      35    -0.064958   \n",
       "         10.474439 105.216928 SA                                             15-07-2022      81    -0.070384   \n",
       "\n",
       "                                                                                                    ndvi_25%  \\\n",
       "District Latitude  Longitude  Season(SA = Summer Autumn, WS = Winter Spring) Date of Harvest ID No             \n",
       "Chau_Phu 10.441423 105.115088 SA                                             20-07-2022      17     0.058425   \n",
       "         10.469839 105.211568 WS                                             01-04-2022      85     0.054491   \n",
       "         10.473786 105.190479 SA                                             14-07-2022      13     0.057744   \n",
       "                              WS                                             03-04-2022      35     0.048183   \n",
       "         10.474439 105.216928 SA                                             15-07-2022      81     0.058992   \n",
       "\n",
       "                                                                                                    ndvi_50%  \\\n",
       "District Latitude  Longitude  Season(SA = Summer Autumn, WS = Winter Spring) Date of Harvest ID No             \n",
       "Chau_Phu 10.441423 105.115088 SA                                             20-07-2022      17     0.138671   \n",
       "         10.469839 105.211568 WS                                             01-04-2022      85     0.357424   \n",
       "         10.473786 105.190479 SA                                             14-07-2022      13     0.202655   \n",
       "                              WS                                             03-04-2022      35     0.460440   \n",
       "         10.474439 105.216928 SA                                             15-07-2022      81     0.229992   \n",
       "\n",
       "                                                                                                    ndvi_75%  \\\n",
       "District Latitude  Longitude  Season(SA = Summer Autumn, WS = Winter Spring) Date of Harvest ID No             \n",
       "Chau_Phu 10.441423 105.115088 SA                                             20-07-2022      17     0.464724   \n",
       "         10.469839 105.211568 WS                                             01-04-2022      85     0.498373   \n",
       "         10.473786 105.190479 SA                                             14-07-2022      13     0.454684   \n",
       "                              WS                                             03-04-2022      35     0.573372   \n",
       "         10.474439 105.216928 SA                                             15-07-2022      81     0.439704   \n",
       "\n",
       "                                                                                                    ndvi_max  \\\n",
       "District Latitude  Longitude  Season(SA = Summer Autumn, WS = Winter Spring) Date of Harvest ID No             \n",
       "Chau_Phu 10.441423 105.115088 SA                                             20-07-2022      17     0.605914   \n",
       "         10.469839 105.211568 WS                                             01-04-2022      85     0.741627   \n",
       "         10.473786 105.190479 SA                                             14-07-2022      13     0.600343   \n",
       "                              WS                                             03-04-2022      35     0.666078   \n",
       "         10.474439 105.216928 SA                                             15-07-2022      81     0.526516   \n",
       "\n",
       "                                                                                                    savi_count  \\\n",
       "District Latitude  Longitude  Season(SA = Summer Autumn, WS = Winter Spring) Date of Harvest ID No               \n",
       "Chau_Phu 10.441423 105.115088 SA                                             20-07-2022      17           24.0   \n",
       "         10.469839 105.211568 WS                                             01-04-2022      85           24.0   \n",
       "         10.473786 105.190479 SA                                             14-07-2022      13           24.0   \n",
       "                              WS                                             03-04-2022      35           24.0   \n",
       "         10.474439 105.216928 SA                                             15-07-2022      81           24.0   \n",
       "\n",
       "                                                                                                    ...  \\\n",
       "District Latitude  Longitude  Season(SA = Summer Autumn, WS = Winter Spring) Date of Harvest ID No  ...   \n",
       "Chau_Phu 10.441423 105.115088 SA                                             20-07-2022      17     ...   \n",
       "         10.469839 105.211568 WS                                             01-04-2022      85     ...   \n",
       "         10.473786 105.190479 SA                                             14-07-2022      13     ...   \n",
       "                              WS                                             03-04-2022      35     ...   \n",
       "         10.474439 105.216928 SA                                             15-07-2022      81     ...   \n",
       "\n",
       "                                                                                                         nir_max  \\\n",
       "District Latitude  Longitude  Season(SA = Summer Autumn, WS = Winter Spring) Date of Harvest ID No                 \n",
       "Chau_Phu 10.441423 105.115088 SA                                             20-07-2022      17     12277.045898   \n",
       "         10.469839 105.211568 WS                                             01-04-2022      85     11266.352539   \n",
       "         10.473786 105.190479 SA                                             14-07-2022      13     11876.013672   \n",
       "                              WS                                             03-04-2022      35     11876.013672   \n",
       "         10.474439 105.216928 SA                                             15-07-2022      81     11409.107422   \n",
       "\n",
       "                                                                                                    swir_count  \\\n",
       "District Latitude  Longitude  Season(SA = Summer Autumn, WS = Winter Spring) Date of Harvest ID No               \n",
       "Chau_Phu 10.441423 105.115088 SA                                             20-07-2022      17           24.0   \n",
       "         10.469839 105.211568 WS                                             01-04-2022      85           24.0   \n",
       "         10.473786 105.190479 SA                                             14-07-2022      13           24.0   \n",
       "                              WS                                             03-04-2022      35           24.0   \n",
       "         10.474439 105.216928 SA                                             15-07-2022      81           24.0   \n",
       "\n",
       "                                                                                                      swir_mean  \\\n",
       "District Latitude  Longitude  Season(SA = Summer Autumn, WS = Winter Spring) Date of Harvest ID No                \n",
       "Chau_Phu 10.441423 105.115088 SA                                             20-07-2022      17     3405.934484   \n",
       "         10.469839 105.211568 WS                                             01-04-2022      85     3165.494672   \n",
       "         10.473786 105.190479 SA                                             14-07-2022      13     3425.606079   \n",
       "                              WS                                             03-04-2022      35     3185.026774   \n",
       "         10.474439 105.216928 SA                                             15-07-2022      81     3073.574534   \n",
       "\n",
       "                                                                                                       swir_std  \\\n",
       "District Latitude  Longitude  Season(SA = Summer Autumn, WS = Winter Spring) Date of Harvest ID No                \n",
       "Chau_Phu 10.441423 105.115088 SA                                             20-07-2022      17     1429.477502   \n",
       "         10.469839 105.211568 WS                                             01-04-2022      85     1950.585987   \n",
       "         10.473786 105.190479 SA                                             14-07-2022      13     1791.302920   \n",
       "                              WS                                             03-04-2022      35     2035.427175   \n",
       "         10.474439 105.216928 SA                                             15-07-2022      81     1403.103937   \n",
       "\n",
       "                                                                                                       swir_min  \\\n",
       "District Latitude  Longitude  Season(SA = Summer Autumn, WS = Winter Spring) Date of Harvest ID No                \n",
       "Chau_Phu 10.441423 105.115088 SA                                             20-07-2022      17     1497.418335   \n",
       "         10.469839 105.211568 WS                                             01-04-2022      85      496.484436   \n",
       "         10.473786 105.190479 SA                                             14-07-2022      13     1317.425659   \n",
       "                              WS                                             03-04-2022      35      858.840820   \n",
       "         10.474439 105.216928 SA                                             15-07-2022      81     1547.906616   \n",
       "\n",
       "                                                                                                       swir_25%  \\\n",
       "District Latitude  Longitude  Season(SA = Summer Autumn, WS = Winter Spring) Date of Harvest ID No                \n",
       "Chau_Phu 10.441423 105.115088 SA                                             20-07-2022      17     2482.147095   \n",
       "         10.469839 105.211568 WS                                             01-04-2022      85     2010.956787   \n",
       "         10.473786 105.190479 SA                                             14-07-2022      13     2629.262878   \n",
       "                              WS                                             03-04-2022      35     1853.473175   \n",
       "         10.474439 105.216928 SA                                             15-07-2022      81     2435.920410   \n",
       "\n",
       "                                                                                                       swir_50%  \\\n",
       "District Latitude  Longitude  Season(SA = Summer Autumn, WS = Winter Spring) Date of Harvest ID No                \n",
       "Chau_Phu 10.441423 105.115088 SA                                             20-07-2022      17     2934.687866   \n",
       "         10.469839 105.211568 WS                                             01-04-2022      85     2366.728394   \n",
       "         10.473786 105.190479 SA                                             14-07-2022      13     3019.295898   \n",
       "                              WS                                             03-04-2022      35     2603.242188   \n",
       "         10.474439 105.216928 SA                                             15-07-2022      81     2790.167847   \n",
       "\n",
       "                                                                                                       swir_75%  \\\n",
       "District Latitude  Longitude  Season(SA = Summer Autumn, WS = Winter Spring) Date of Harvest ID No                \n",
       "Chau_Phu 10.441423 105.115088 SA                                             20-07-2022      17     3645.849609   \n",
       "         10.469839 105.211568 WS                                             01-04-2022      85     4527.582397   \n",
       "         10.473786 105.190479 SA                                             14-07-2022      13     3277.140198   \n",
       "                              WS                                             03-04-2022      35     3338.344238   \n",
       "         10.474439 105.216928 SA                                             15-07-2022      81     3080.892822   \n",
       "\n",
       "                                                                                                       swir_max  \\\n",
       "District Latitude  Longitude  Season(SA = Summer Autumn, WS = Winter Spring) Date of Harvest ID No                \n",
       "Chau_Phu 10.441423 105.115088 SA                                             20-07-2022      17     6408.545898   \n",
       "         10.469839 105.211568 WS                                             01-04-2022      85     8102.975586   \n",
       "         10.473786 105.190479 SA                                             14-07-2022      13     8455.747070   \n",
       "                              WS                                             03-04-2022      35     8455.747070   \n",
       "         10.474439 105.216928 SA                                             15-07-2022      81     8002.729980   \n",
       "\n",
       "                                                                                                    Rice Crop Intensity(D=Double, T=Triple)_T  \n",
       "District Latitude  Longitude  Season(SA = Summer Autumn, WS = Winter Spring) Date of Harvest ID No                                             \n",
       "Chau_Phu 10.441423 105.115088 SA                                             20-07-2022      17                                             0  \n",
       "         10.469839 105.211568 WS                                             01-04-2022      85                                             1  \n",
       "         10.473786 105.190479 SA                                             14-07-2022      13                                             1  \n",
       "                              WS                                             03-04-2022      35                                             1  \n",
       "         10.474439 105.216928 SA                                             15-07-2022      81                                             1  \n",
       "\n",
       "[5 rows x 130 columns]"
      ]
     },
     "execution_count": 32,
     "metadata": {},
     "output_type": "execute_result"
    }
   ],
   "source": [
    "# Convert categorical variable into dummy/indicator variables\n",
    "X = pd.get_dummies(X, drop_first=True)\n",
    "X.head()"
   ]
  },
  {
   "cell_type": "markdown",
   "metadata": {},
   "source": [
    "# Load the model"
   ]
  },
  {
   "cell_type": "code",
   "execution_count": 33,
   "metadata": {},
   "outputs": [],
   "source": [
    "model_filename = \"../model/fixed_0-00146/xgboost.save\"\n",
    "model = joblib.load(model_filename)"
   ]
  },
  {
   "cell_type": "code",
   "execution_count": 34,
   "metadata": {},
   "outputs": [],
   "source": [
    "y_pred = model.predict(X)"
   ]
  },
  {
   "cell_type": "code",
   "execution_count": 35,
   "metadata": {},
   "outputs": [],
   "source": [
    "s_pred = pd.Series(y_pred, index=df.index, name='Predicted Rice Yield (kg/ha)')"
   ]
  },
  {
   "attachments": {},
   "cell_type": "markdown",
   "metadata": {},
   "source": [
    "# Load Submissions file"
   ]
  },
  {
   "cell_type": "code",
   "execution_count": 36,
   "metadata": {},
   "outputs": [
    {
     "data": {
      "text/html": [
       "<div>\n",
       "<style scoped>\n",
       "    .dataframe tbody tr th:only-of-type {\n",
       "        vertical-align: middle;\n",
       "    }\n",
       "\n",
       "    .dataframe tbody tr th {\n",
       "        vertical-align: top;\n",
       "    }\n",
       "\n",
       "    .dataframe thead th {\n",
       "        text-align: right;\n",
       "    }\n",
       "</style>\n",
       "<table border=\"1\" class=\"dataframe\">\n",
       "  <thead>\n",
       "    <tr style=\"text-align: right;\">\n",
       "      <th></th>\n",
       "      <th>ID No</th>\n",
       "      <th>District</th>\n",
       "      <th>Latitude</th>\n",
       "      <th>Longitude</th>\n",
       "      <th>Season(SA = Summer Autumn, WS = Winter Spring)</th>\n",
       "      <th>Rice Crop Intensity(D=Double, T=Triple)</th>\n",
       "      <th>Date of Harvest</th>\n",
       "      <th>Field size (ha)</th>\n",
       "    </tr>\n",
       "  </thead>\n",
       "  <tbody>\n",
       "    <tr>\n",
       "      <th>0</th>\n",
       "      <td>1</td>\n",
       "      <td>Chau_Phu</td>\n",
       "      <td>10.542192</td>\n",
       "      <td>105.187920</td>\n",
       "      <td>WS</td>\n",
       "      <td>T</td>\n",
       "      <td>10-04-2022</td>\n",
       "      <td>1.40</td>\n",
       "    </tr>\n",
       "    <tr>\n",
       "      <th>1</th>\n",
       "      <td>2</td>\n",
       "      <td>Chau_Thanh</td>\n",
       "      <td>10.400189</td>\n",
       "      <td>105.331053</td>\n",
       "      <td>SA</td>\n",
       "      <td>T</td>\n",
       "      <td>15-07-2022</td>\n",
       "      <td>1.32</td>\n",
       "    </tr>\n",
       "    <tr>\n",
       "      <th>2</th>\n",
       "      <td>3</td>\n",
       "      <td>Chau_Phu</td>\n",
       "      <td>10.505489</td>\n",
       "      <td>105.203926</td>\n",
       "      <td>SA</td>\n",
       "      <td>D</td>\n",
       "      <td>14-07-2022</td>\n",
       "      <td>1.40</td>\n",
       "    </tr>\n",
       "    <tr>\n",
       "      <th>3</th>\n",
       "      <td>4</td>\n",
       "      <td>Chau_Phu</td>\n",
       "      <td>10.523520</td>\n",
       "      <td>105.138274</td>\n",
       "      <td>WS</td>\n",
       "      <td>D</td>\n",
       "      <td>10-04-2022</td>\n",
       "      <td>1.80</td>\n",
       "    </tr>\n",
       "    <tr>\n",
       "      <th>4</th>\n",
       "      <td>5</td>\n",
       "      <td>Thoai_Son</td>\n",
       "      <td>10.294660</td>\n",
       "      <td>105.248528</td>\n",
       "      <td>SA</td>\n",
       "      <td>T</td>\n",
       "      <td>20-07-2022</td>\n",
       "      <td>2.20</td>\n",
       "    </tr>\n",
       "  </tbody>\n",
       "</table>\n",
       "</div>"
      ],
      "text/plain": [
       "   ID No    District   Latitude   Longitude  \\\n",
       "0      1    Chau_Phu  10.542192  105.187920   \n",
       "1      2  Chau_Thanh  10.400189  105.331053   \n",
       "2      3    Chau_Phu  10.505489  105.203926   \n",
       "3      4    Chau_Phu  10.523520  105.138274   \n",
       "4      5   Thoai_Son  10.294660  105.248528   \n",
       "\n",
       "  Season(SA = Summer Autumn, WS = Winter Spring)  \\\n",
       "0                                             WS   \n",
       "1                                             SA   \n",
       "2                                             SA   \n",
       "3                                             WS   \n",
       "4                                             SA   \n",
       "\n",
       "  Rice Crop Intensity(D=Double, T=Triple) Date of Harvest  Field size (ha)  \n",
       "0                                       T      10-04-2022             1.40  \n",
       "1                                       T      15-07-2022             1.32  \n",
       "2                                       D      14-07-2022             1.40  \n",
       "3                                       D      10-04-2022             1.80  \n",
       "4                                       T      20-07-2022             2.20  "
      ]
     },
     "execution_count": 36,
     "metadata": {},
     "output_type": "execute_result"
    }
   ],
   "source": [
    "df_sub = pd.read_csv(\"../../data/raw/test.csv\")\n",
    "df_sub.drop(columns='Predicted Rice Yield (kg/ha)', inplace=True)\n",
    "df_sub.head()"
   ]
  },
  {
   "cell_type": "code",
   "execution_count": 37,
   "metadata": {},
   "outputs": [
    {
     "data": {
      "text/html": [
       "<div>\n",
       "<style scoped>\n",
       "    .dataframe tbody tr th:only-of-type {\n",
       "        vertical-align: middle;\n",
       "    }\n",
       "\n",
       "    .dataframe tbody tr th {\n",
       "        vertical-align: top;\n",
       "    }\n",
       "\n",
       "    .dataframe thead th {\n",
       "        text-align: right;\n",
       "    }\n",
       "</style>\n",
       "<table border=\"1\" class=\"dataframe\">\n",
       "  <thead>\n",
       "    <tr style=\"text-align: right;\">\n",
       "      <th></th>\n",
       "      <th>ID No</th>\n",
       "      <th>District</th>\n",
       "      <th>Latitude</th>\n",
       "      <th>Longitude</th>\n",
       "      <th>Season(SA = Summer Autumn, WS = Winter Spring)</th>\n",
       "      <th>Rice Crop Intensity(D=Double, T=Triple)</th>\n",
       "      <th>Date of Harvest</th>\n",
       "      <th>Field size (ha)</th>\n",
       "      <th>Predicted Rice Yield (kg/ha)</th>\n",
       "    </tr>\n",
       "  </thead>\n",
       "  <tbody>\n",
       "    <tr>\n",
       "      <th>0</th>\n",
       "      <td>1</td>\n",
       "      <td>Chau_Phu</td>\n",
       "      <td>10.542192</td>\n",
       "      <td>105.187920</td>\n",
       "      <td>WS</td>\n",
       "      <td>T</td>\n",
       "      <td>10-04-2022</td>\n",
       "      <td>1.40</td>\n",
       "      <td>7184.517578</td>\n",
       "    </tr>\n",
       "    <tr>\n",
       "      <th>1</th>\n",
       "      <td>2</td>\n",
       "      <td>Chau_Thanh</td>\n",
       "      <td>10.400189</td>\n",
       "      <td>105.331053</td>\n",
       "      <td>SA</td>\n",
       "      <td>T</td>\n",
       "      <td>15-07-2022</td>\n",
       "      <td>1.32</td>\n",
       "      <td>5890.771973</td>\n",
       "    </tr>\n",
       "    <tr>\n",
       "      <th>2</th>\n",
       "      <td>3</td>\n",
       "      <td>Chau_Phu</td>\n",
       "      <td>10.505489</td>\n",
       "      <td>105.203926</td>\n",
       "      <td>SA</td>\n",
       "      <td>D</td>\n",
       "      <td>14-07-2022</td>\n",
       "      <td>1.40</td>\n",
       "      <td>5966.685547</td>\n",
       "    </tr>\n",
       "    <tr>\n",
       "      <th>3</th>\n",
       "      <td>4</td>\n",
       "      <td>Chau_Phu</td>\n",
       "      <td>10.523520</td>\n",
       "      <td>105.138274</td>\n",
       "      <td>WS</td>\n",
       "      <td>D</td>\n",
       "      <td>10-04-2022</td>\n",
       "      <td>1.80</td>\n",
       "      <td>7173.996094</td>\n",
       "    </tr>\n",
       "    <tr>\n",
       "      <th>4</th>\n",
       "      <td>5</td>\n",
       "      <td>Thoai_Son</td>\n",
       "      <td>10.294660</td>\n",
       "      <td>105.248528</td>\n",
       "      <td>SA</td>\n",
       "      <td>T</td>\n",
       "      <td>20-07-2022</td>\n",
       "      <td>2.20</td>\n",
       "      <td>5812.468262</td>\n",
       "    </tr>\n",
       "  </tbody>\n",
       "</table>\n",
       "</div>"
      ],
      "text/plain": [
       "   ID No    District   Latitude   Longitude  \\\n",
       "0      1    Chau_Phu  10.542192  105.187920   \n",
       "1      2  Chau_Thanh  10.400189  105.331053   \n",
       "2      3    Chau_Phu  10.505489  105.203926   \n",
       "3      4    Chau_Phu  10.523520  105.138274   \n",
       "4      5   Thoai_Son  10.294660  105.248528   \n",
       "\n",
       "  Season(SA = Summer Autumn, WS = Winter Spring)  \\\n",
       "0                                             WS   \n",
       "1                                             SA   \n",
       "2                                             SA   \n",
       "3                                             WS   \n",
       "4                                             SA   \n",
       "\n",
       "  Rice Crop Intensity(D=Double, T=Triple) Date of Harvest  Field size (ha)  \\\n",
       "0                                       T      10-04-2022             1.40   \n",
       "1                                       T      15-07-2022             1.32   \n",
       "2                                       D      14-07-2022             1.40   \n",
       "3                                       D      10-04-2022             1.80   \n",
       "4                                       T      20-07-2022             2.20   \n",
       "\n",
       "   Predicted Rice Yield (kg/ha)  \n",
       "0                   7184.517578  \n",
       "1                   5890.771973  \n",
       "2                   5966.685547  \n",
       "3                   7173.996094  \n",
       "4                   5812.468262  "
      ]
     },
     "execution_count": 37,
     "metadata": {},
     "output_type": "execute_result"
    }
   ],
   "source": [
    "df_sub = pd.merge(df_sub, s_pred, on=\"ID No\")\n",
    "df_sub.head()"
   ]
  },
  {
   "cell_type": "code",
   "execution_count": 38,
   "metadata": {},
   "outputs": [],
   "source": [
    "sub_filename = '../model/fixed_0-00146/submission.csv'\n",
    "df_sub.to_csv(sub_filename, index=False, header=True)"
   ]
  }
 ],
 "metadata": {
  "kernelspec": {
   "display_name": "aqsone",
   "language": "python",
   "name": "python3"
  },
  "language_info": {
   "codemirror_mode": {
    "name": "ipython",
    "version": 3
   },
   "file_extension": ".py",
   "mimetype": "text/x-python",
   "name": "python",
   "nbconvert_exporter": "python",
   "pygments_lexer": "ipython3",
   "version": "3.9.16"
  },
  "orig_nbformat": 4,
  "vscode": {
   "interpreter": {
    "hash": "06b7480f36a42d8bbade06fc4149129af8b8df398eea6bf44659ace11c5fcf70"
   }
  }
 },
 "nbformat": 4,
 "nbformat_minor": 2
}
